{
 "cells": [
  {
   "cell_type": "markdown",
   "metadata": {
    "colab_type": "text",
    "id": "WI820A_Bp_NH"
   },
   "source": [
    "# Assignment 2\n",
    "\n"
   ]
  },
  {
   "cell_type": "markdown",
   "metadata": {
    "colab_type": "text",
    "id": "wVAN3J3Vp_NJ"
   },
   "source": [
    "# Write your name and simon email\n",
    "\n",
    "Please write names below\n",
    "\n",
    "1. [Name, student ID, email]:\n",
    "2. [Name, student ID, email]:\n",
    "2. [Name, student ID, email]:\n",
    "\n"
   ]
  },
  {
   "cell_type": "markdown",
   "metadata": {},
   "source": [
    "# Exercises \n",
    "\n",
    "\n",
    "\n"
   ]
  },
  {
   "cell_type": "markdown",
   "metadata": {},
   "source": [
    "\n",
    "\n",
    "We will start by redoing the dataset construction of Assignment 1. ( Feel free to use your previous code!)\n",
    "\n",
    "Start by importing pandas, numpy, maplotlib, and loading the data set. \n",
    "\n",
    "The dataset has address \n",
    "\n",
    "`url='https://github.com/amoreira2/Fin418/blob/main/assets/data/Returns50stocks.xlsx?raw=true'`\n",
    "\n",
    "I strongly recommend you download first and look at the data set.\n",
    "\n",
    "This file contains multiple sheets, you should use `read_excel` to get the data that contains the 49 value-weighted industry portfolios. \n",
    "\n",
    "See here:https://pandas.pydata.org/pandas-docs/stable/reference/api/pandas.read_excel.html .\n",
    "\n",
    "Do the followings:\n",
    "\n",
    "1. Import this dataframe as `df`\n",
    "    - Use \"skip_rows\" to skip the initial rows before the data.\n",
    "    - Figure out what is the code for missing value and change the option `na_values` appropriately\n",
    "\n",
    "\n",
    "2. Change the name of the column with the date information to \"Date\"\n",
    "\n",
    "3. Use `to_datetime` so python understand the column date as a datetime object (you will have to use the option format)\n",
    "\n",
    "4. Set date as index\n",
    "\n",
    "5. convert the date from the start of the month to end of the month.\n",
    "\n",
    "6. Drop any date with a missing observations (it will be just one date)\n",
    "\n",
    "7. Find the market in the columns and save the stocks in a data frame (df) and the market in a different data frame called df_market"
   ]
  },
  {
   "cell_type": "code",
   "execution_count": null,
   "metadata": {},
   "outputs": [],
   "source": [
    "# your code below\n"
   ]
  },
  {
   "cell_type": "markdown",
   "metadata": {},
   "source": [
    "**Exercise 1. Portfolio Moments**\n",
    "\n",
    "Construct a portfolio that equal weights the first five stocks. Compute this portfolio variance in this sample.  \n",
    "\n"
   ]
  },
  {
   "cell_type": "code",
   "execution_count": null,
   "metadata": {},
   "outputs": [],
   "source": [
    "# your code below\n"
   ]
  },
  {
   "cell_type": "markdown",
   "metadata": {},
   "source": [
    "**Exercise 2. Annualize it**\n",
    "\n",
    "Report this number in yearly units\n",
    "\n"
   ]
  },
  {
   "cell_type": "markdown",
   "metadata": {},
   "source": [
    "**Exercise 3. Function 1**\n",
    "\n",
    "\n",
    "Construct a function that takes as input the number of stocks in the portfolio, lets call that parameter N, and outputs the (yearly) variance of the portfolio that equal weight the first N stocks"
   ]
  },
  {
   "cell_type": "code",
   "execution_count": null,
   "metadata": {},
   "outputs": [],
   "source": [
    "# your code below\n",
    "\n"
   ]
  },
  {
   "cell_type": "markdown",
   "metadata": {},
   "source": [
    "**Exercise 4. Function 2**\n",
    "\n",
    "\n",
    "Construct a function that takes as input the number of stocks in the portfolio and also, lets call that parameter N, and outputs the (yearly) variance of the portfolio that equal weight N randomly picked stocks"
   ]
  },
  {
   "cell_type": "code",
   "execution_count": null,
   "metadata": {},
   "outputs": [],
   "source": [
    "# your code below\n",
    "\n"
   ]
  },
  {
   "cell_type": "markdown",
   "metadata": {},
   "source": [
    "**Exercise 5. A simulation**\n",
    "\n",
    "\n",
    "Construct a function that that takes as an input the number of stocks N and then use the function above (excercise 4) to simulate 100 different portfolios and output the average of these 100 portfolios"
   ]
  },
  {
   "cell_type": "code",
   "execution_count": null,
   "metadata": {},
   "outputs": [],
   "source": [
    "# your code below\n",
    "\n"
   ]
  },
  {
   "cell_type": "markdown",
   "metadata": {},
   "source": [
    "**Exercise 6. A plot**\n",
    "\n",
    "\n",
    "Call the function above for N=1 to N=50 and plot the variance as function of N"
   ]
  },
  {
   "cell_type": "code",
   "execution_count": null,
   "metadata": {},
   "outputs": [],
   "source": [
    "# your code below\n",
    "\n"
   ]
  },
  {
   "cell_type": "markdown",
   "metadata": {},
   "source": [
    "**Exercise 7. the market**\n",
    "\n",
    "\n",
    "Add the market variance to the plot as an horizontal line to the plot you made above"
   ]
  },
  {
   "cell_type": "code",
   "execution_count": null,
   "metadata": {},
   "outputs": [],
   "source": [
    "# your code below\n",
    "\n"
   ]
  },
  {
   "cell_type": "markdown",
   "metadata": {},
   "source": [
    "**Exercise 8. Interpretation**\n",
    "\n",
    "\n",
    "Explain what you see in the plot. Try to articulate what you think is happening"
   ]
  },
  {
   "cell_type": "markdown",
   "metadata": {},
   "source": [
    "your answer here"
   ]
  },
  {
   "cell_type": "markdown",
   "metadata": {},
   "source": [
    "**Exercise 9. A decomposition**\n",
    "\n",
    "\n",
    "We now want to build a function that outputs only the terms due to the variance terms\n",
    "\n",
    "That is, instead of computing $Var(WR)=W@Var(R)@W=\\sum_i\\sum_jW_iW_jCov(R_i,R_j)$ which gives you the variance of a portfolio with weight W, \n",
    "\n",
    "\n",
    "I want you do compute ```\\sum_iW_i^2Var(R_i)```, this component of the portfolio variance that comes only from the variance terms\n",
    "\n",
    "Then subtract this term from the total variance term\n",
    "\n",
    "\n",
    "Show the three lines in a plot as function of N ( the total variance (and also the market like in exercise 7), the component due to variance, and the residual (the component due to the covariance terms) )\n",
    "\n"
   ]
  },
  {
   "cell_type": "code",
   "execution_count": null,
   "metadata": {},
   "outputs": [],
   "source": [
    "# your code below\n",
    "\n"
   ]
  },
  {
   "cell_type": "markdown",
   "metadata": {},
   "source": [
    "**Exercise 10. Interpretation 2**\n",
    "\n",
    "\n",
    "looking at this new plot, what do you learn? What does that imply about portfolio construction?\n"
   ]
  }
 ],
 "metadata": {
  "colab": {
   "collapsed_sections": [],
   "name": "Homework_2019_1.ipynb",
   "provenance": []
  },
  "kernelspec": {
   "display_name": "Python 3 (ipykernel)",
   "language": "python",
   "name": "python3"
  },
  "language_info": {
   "codemirror_mode": {
    "name": "ipython",
    "version": 3
   },
   "file_extension": ".py",
   "mimetype": "text/x-python",
   "name": "python",
   "nbconvert_exporter": "python",
   "pygments_lexer": "ipython3",
   "version": "3.9.12"
  },
  "toc": {
   "base_numbering": 1,
   "nav_menu": {},
   "number_sections": true,
   "sideBar": true,
   "skip_h1_title": false,
   "title_cell": "Table of Contents",
   "title_sidebar": "Contents",
   "toc_cell": false,
   "toc_position": {},
   "toc_section_display": true,
   "toc_window_display": true
  },
  "toc-autonumbering": true
 },
 "nbformat": 4,
 "nbformat_minor": 4
}
