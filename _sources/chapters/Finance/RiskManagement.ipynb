{
 "cells": [
  {
   "cell_type": "code",
   "execution_count": 2,
   "id": "suspected-knitting",
   "metadata": {},
   "outputs": [],
   "source": [
    "import numpy as np\n",
    "import pandas as pd\n",
    "%matplotlib inline\n",
    "import matplotlib.pyplot as plt"
   ]
  },
  {
   "cell_type": "markdown",
   "id": "bfcd2dd3",
   "metadata": {},
   "source": [
    "# Risk Management and Capital Allocation"
   ]
  },
  {
   "cell_type": "markdown",
   "id": "51618a87",
   "metadata": {},
   "source": [
    "Fund managers, endowment managers, and professional delegated money managers in general very rarely can allocate capital freely\n",
    "\n",
    "It is frequently the case that the ultimate investors impose on them a variety of restriction in the investment opportunity set.\n",
    "\n",
    "- Restrictions on the sectors they invest\n",
    "- Restrictions on the whether they can go short\n",
    "- Restrictions on the use of explicit leverage\n",
    "- Restrict on the use of derivative and embedded leverage\n",
    "\n",
    "These type of restrictions are simple in the sense that they simply limit the set of instruments you are considering. \n",
    "\n",
    "They are static in nature.\n",
    "\n",
    "Another set of constraints imposes time-varying restrictions on what the manager can do\n",
    "\n",
    "- Risk limits: given a model for risk, it specifies that the portfolio must have variance lower than a certain limit\n",
    "- Tracking error constraints: given a benchmark, this imposes limits on the portfolio residual risk--the volatility of the portfolio abnormal return relative to the benchmark\n",
    "\n",
    "\n",
    "What makes implementation of these limits challenging is that risk is highly time-varying.\n",
    "\n",
    "We start discussing a very standard approach to measure risk"
   ]
  },
  {
   "cell_type": "markdown",
   "id": "432af2f5",
   "metadata": {},
   "source": [
    "## Measuring Time-varying risk\n",
    "\n",
    "\n",
    "The variance of a portfolio is\n",
    "\n",
    "$$Var_t(X_tR^e_{t+1})$$\n",
    "\n",
    "where \n",
    "- $X_t$ is your portfolio weights in date t for investment in date t+1,\n",
    "- $R_{t+1}$ is the vector of asset excess returns during the holding period, i.e. from date $t$ to date $t+1$.\n",
    "- $Var_t() denotes the variance of this random variable given all we know in date $t$\n",
    "\n",
    "\n",
    "### Time-varying risk in a single asset (or trading strategy)\n",
    "\n",
    "There are two main approaches we can take\n",
    "\n",
    "- Compute the realized variance (as we did for the volatility timing strategy) and then use an AR(1) model to forecast it one-period forward. \n",
    "\n",
    "- Use a Garch model\n",
    "\n",
    "\n",
    "### The Realized variance approach\n",
    "\n",
    "\n",
    "Say you have daily data on the returns of an asset $R_{y,m,d}$\n",
    "\n",
    "\n",
    "\n",
    "\n",
    "\n"
   ]
  },
  {
   "cell_type": "markdown",
   "id": "5d3d6969",
   "metadata": {},
   "source": [
    "\n",
    "### The GARCH approach\n",
    "\n",
    "The GARCH (Generalized Autoregressive Conditional Heteroskedasticity) model is a popular statistical model used for predicting and modeling the volatility, or variance, of financial time series data. It is widely used in finance and risk management to estimate and forecast the volatility of asset returns.\n",
    "\n",
    "The GARCH model is an extension of the ARCH (Autoregressive Conditional Heteroskedasticity) model, which assumes that the conditional variance of a time series is a function of its past values. The GARCH model takes into account both the past values of the time series and the past values of the conditional variance itself.\n",
    "\n",
    "The GARCH model is typically expressed as follows:\n",
    "\n",
    "$$\n",
    "\\sigma_t^2 = \\omega + \\sum_{i=1}^{p} \\alpha_i \\epsilon_{t-i}^2 + \\sum_{j=1}^{q} \\beta_j \\sigma_{t-j}^2\n",
    "$$\n",
    "\n",
    "where:\n",
    "- $\\sigma_t^2$ is the conditional variance at time $t$,\n",
    "- $\\omega$ is the constant term,\n",
    "- $\\alpha_i$ and $\\beta_j$ are the coefficients of the model,\n",
    "- $\\epsilon_{t-i}^2$ is the squared residual at time $t-i$, and\n",
    "- $\\sigma_{t-j}^2$ is the conditional variance at time $t-j$.\n",
    "\n",
    "The GARCH model allows for the estimation of the parameters $\\omega$, $\\alpha_i$, and $\\beta_j$ using various estimation techniques such as maximum likelihood estimation. Once the parameters are estimated, the model can be used to forecast the future conditional variance of the time series.\n",
    "\n",
    "By predicting the volatility of a financial time series, the GARCH model can be used to assess and manage risk in various financial applications, such as portfolio optimization, option pricing, and risk management strategies."
   ]
  },
  {
   "cell_type": "markdown",
   "id": "22a8f56d",
   "metadata": {},
   "source": [
    "## Dynamic Portfolios\n",
    "\n",
    "The key idea here will be to use the factor structure idea for returns together with a GARCH or RV model for the market return volatility.\n",
    "\n",
    "The idea here is\n",
    "\n",
    "- Correlations do change, but they change slower than variance so we will use standard rolling window to estimate correlations--essentially assuming that they are constant in our forecast horizon.\n",
    "\n",
    "- And use our model to forecast the the variance\n",
    "\n",
    "IF returns have a factor structure we have\n",
    "\n",
    "$$Var_t(R_{t+1})=Var(\\beta_t F_{t+1}+u_{t+1})=\\beta_t Var_t(F) \\beta_t'+Var_t(u)$$\n",
    "\n"
   ]
  },
  {
   "cell_type": "code",
   "execution_count": null,
   "id": "503f6eab",
   "metadata": {},
   "outputs": [],
   "source": []
  }
 ],
 "metadata": {
  "kernelspec": {
   "display_name": "Python 3",
   "language": "python",
   "name": "python3"
  },
  "language_info": {
   "codemirror_mode": {
    "name": "ipython",
    "version": 3
   },
   "file_extension": ".py",
   "mimetype": "text/x-python",
   "name": "python",
   "nbconvert_exporter": "python",
   "pygments_lexer": "ipython3",
   "version": "3.9.12"
  }
 },
 "nbformat": 4,
 "nbformat_minor": 5
}
