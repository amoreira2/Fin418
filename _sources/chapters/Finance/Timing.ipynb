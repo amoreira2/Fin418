{
 "cells": [
  {
   "cell_type": "code",
   "execution_count": 2,
   "metadata": {},
   "outputs": [],
   "source": [
    "import pandas as pd\n",
    "import numpy as np\n",
    "import matplotlib.pyplot as plt\n",
    "%matplotlib inline"
   ]
  },
  {
   "cell_type": "markdown",
   "metadata": {},
   "source": [
    "# Timing Strategies\n",
    "\n",
    "Timing strategies use some signal to change the exposure to a specific asset. So it goes between cash and the asset.\n",
    "\n",
    "When timing some specific asset--say your investment in tesla-- you care mostly about predicting future returns since you cannot make money or timing volatility of some individual stock \n",
    "\n",
    "We think these type of trade as \"cross-sectional\" trade because when you overweight Telsa you are underweight some other stock\n",
    "\n",
    "So we decompose trading strategies as\n",
    "\n",
    "- Cross-sectional: keep exposure to the market right about constant, but over-weights some stocks and down-weights others\n",
    "\n",
    "- Timing: switch exposure to the market overtime, going in and out of cash\n",
    "\n",
    "First lets us go back to the mean-variance optimization framework that we studied before to get some intuition\n",
    "\n",
    "**Market timing: Theoretical intuition**\n",
    "\n",
    "Lets consider the problem of this mean-variance investor that allocates between a risky asset (the market) and a risk-free asset. (For convenience the risky asset will already by an excess return, but that doesn't matter)\n",
    "\n",
    "$$\\max_{x_t} E_t[x_tr^e_{t+1} +rf_{t+1}]-\\frac{\\gamma}{2}Var_t(x_tr^e_{t+1} +rf_{t+1})$$\n",
    "\n",
    "The only difference from the previous mve analysis is that now it is only one risky asset, so this is particular case of that problem. \n",
    "\n",
    "It is like we already decided what out risky portfolio looks like and we are just deciding how much to invest in it.\n",
    "\n",
    "The other important difference is the `t` subscripts in the moments. \n",
    "\n",
    "What does that mean? It means that now we try to account for **time-variation** in the **distribution of returns**.\n",
    "\n",
    "The solution to this problem is super simple\n",
    "\n",
    "$$x_t=\\frac{E_t[r^e_{t+1}]}{\\gamma Var_t(r^e_{t+1})}$$\n",
    "\n",
    "So you invest proportionally to the risk-return trade-off.\n",
    "\n",
    "You invest more when you get a lot of premium per unit of risk.\n",
    "\n",
    "You see that theory tell us that we should time vol too! We should care really about the disconnect between these risk and return. \n",
    "\n",
    "\n",
    "## Market Timing\n",
    "\n",
    "The most classic timing strategies are motivated by the fact that high dividend yield periods seems to be followed by above average returns\n",
    "\n",
    "The plot shows the dividend-yield of the stock market overlayed with the future 7 year returns \n",
    "![MVfrontier](../../assets/plots/Timing1.jpg)\n",
    "\n",
    "It tell us that in this sample, periods when the dividend yield was high were periods where the returns were really high going forward\n",
    "\n",
    "This might be intuitive to you, but it is really a fact that puzzled lots of people and earned people a few Nobel Prizes.\n",
    "\n",
    "It tells us that when the price (per dividend) is low what actually happens is NOT that the dividends go down going forward, but instead prices go up.\n",
    "\n",
    "So the EXPECTED returns to invest in the market change a lot overtime.\n",
    "\n",
    "A trading strategy that exploits this would have weights that depend on the dividend yield signal.\n",
    "\n",
    "for example you would have a weight \n",
    "\n",
    "$$x_t^{timing}=c(\\frac{d_t}{p_t})$$\n",
    "\n",
    "on the market excess return,so your strategy return is\n",
    "\n",
    "$$r_{t+1}^{mkttiming}=(1-x_t^{timing})r_{f,t+1}+x_t^{timing}r_{t+1}^{mkt}$$\n",
    "\n",
    "Where you would use to control your average exposure to the market.\n",
    "\n",
    "if you are interested in digging further see\n",
    "\n",
    ">John Y. Campbell, Samuel B. Thompson, Predicting Excess Stock Returns Out of Sample: Can Anything Beat the Historical Average?, The Review of Financial Studies, Volume 21, Issue 4, July 2008, Pages 1509–1531, https://doi.org/10.1093/rfs/hhm055"
   ]
  },
  {
   "cell_type": "markdown",
   "metadata": {},
   "source": []
  }
 ],
 "metadata": {
  "colab": {
   "collapsed_sections": [],
   "name": "Notebook 6.ipynb",
   "provenance": []
  },
  "kernelspec": {
   "display_name": "Python 3",
   "language": "python",
   "name": "python3"
  },
  "language_info": {
   "codemirror_mode": {
    "name": "ipython",
    "version": 3
   },
   "file_extension": ".py",
   "mimetype": "text/x-python",
   "name": "python",
   "nbconvert_exporter": "python",
   "pygments_lexer": "ipython3",
   "version": "3.8.5"
  }
 },
 "nbformat": 4,
 "nbformat_minor": 4
}
