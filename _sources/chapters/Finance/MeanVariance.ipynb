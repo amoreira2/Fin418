{
 "cells": [
  {
   "cell_type": "code",
   "execution_count": 1,
   "metadata": {
    "colab": {},
    "colab_type": "code",
    "id": "Tq96XxisQ1ty"
   },
   "outputs": [],
   "source": [
    "import pandas as pd\n",
    "import numpy as np\n",
    "import matplotlib.pyplot as plt\n",
    "%matplotlib inline\n"
   ]
  },
  {
   "cell_type": "markdown",
   "metadata": {},
   "source": [
    "# Mean-Variance Investing\n",
    "\n",
    "* How should we allocate capital?\n",
    "\n",
    "* You learn that very much depends on your preferences\n",
    "    * What do you want to do with the money and when?\n",
    "    * how terrible you feel if you have less than you expected\n",
    "    * how much joy would you enjoy if you had more\n",
    "    * depends on your risk-aversion, but also on lots of assumptions about you actually care about\n",
    "\n",
    "* Under some assumptions about our preferences it comes down to a mean-variance criteria where you want to maximize the expected value  of your wealth at some future date (say when you retire) with a penalty for it's variance\n",
    "\n",
    "* this can be written as maximizing the returns of your portfolio\n",
    "\n",
    "\n",
    "$$ \\max_X E[X'R_T]-a Var(X'R_T)$$\n",
    "\n",
    "\n",
    "* where we typically call this $a$ parameter risk-aversion, because it captures how much you dislike that your wealth will move in unpredictable ways\n",
    "\n",
    "* A similar criteria shows up in delegate asset management\n",
    "\n",
    "* in hedge funds, manager get allocated some capital $W_0$ and some volatility budget $Vmax$, and are compensated by their absolute performance \n",
    "\n",
    "* so their problem is something like\n",
    "\n",
    "\n",
    "$$ \\max_X E[X'R_T]~~~subject~~to~~~Var(X'R_T)\\leq Vmax $$\n",
    "\n",
    "\n",
    "\n",
    "\n",
    "\n",
    "\n",
    "* thus lots of investment problems are versions of mean-variance \n",
    "\n",
    "* often these investment problems have a variety of additional constraints\n",
    "\n",
    "    * concentration limits by industry\n",
    "    * leverage limits\n",
    "    * shorting constraints\n",
    "    * etc\n",
    "\n",
    "* Hard part is not solving the problem--that is easy!\n",
    "\n",
    "* We will show how to do that numerically and analytically \n",
    "\n",
    "* Numerical solution will alow for a variety of constraints\n",
    "\n",
    "* Analytical solution cannot deal with constraints and assumes free borrowing and lending at the risk-free rate\n",
    "\n",
    "* Numerical solution is nice because it allow us to see clearly what this problem is all about.\n",
    "\n",
    "**The hard problem is knowing the Expected returns of the assets and their covariance matrix**\n",
    "\n",
    "\n"
   ]
  },
  {
   "cell_type": "markdown",
   "metadata": {},
   "source": [
    "## A bond-equity strategic investment problem of an international investor\n",
    "\n",
    "\n",
    "* we will assume here that the risk-premium is being generated from a constant distribution\n",
    "\n",
    "* this is wrong, but for large well diversified portfolio not too bad\n",
    "\n",
    "* under this assumption, our estimation problem amounts to using sample means\n",
    "\n",
    "* ths risk-free rate is time-varying so we will have to deal with it\n",
    "\n",
    "\n",
    "We start by loading out return data"
   ]
  },
  {
   "cell_type": "code",
   "execution_count": 2,
   "metadata": {},
   "outputs": [
    {
     "data": {
      "text/html": [
       "<div>\n",
       "<style scoped>\n",
       "    .dataframe tbody tr th:only-of-type {\n",
       "        vertical-align: middle;\n",
       "    }\n",
       "\n",
       "    .dataframe tbody tr th {\n",
       "        vertical-align: top;\n",
       "    }\n",
       "\n",
       "    .dataframe thead th {\n",
       "        text-align: right;\n",
       "    }\n",
       "</style>\n",
       "<table border=\"1\" class=\"dataframe\">\n",
       "  <thead>\n",
       "    <tr style=\"text-align: right;\">\n",
       "      <th></th>\n",
       "      <th>RF</th>\n",
       "      <th>MKTUS</th>\n",
       "      <th>BondUS</th>\n",
       "      <th>EM</th>\n",
       "      <th>MKTxUS</th>\n",
       "      <th>BondxUS</th>\n",
       "    </tr>\n",
       "    <tr>\n",
       "      <th>Date</th>\n",
       "      <th></th>\n",
       "      <th></th>\n",
       "      <th></th>\n",
       "      <th></th>\n",
       "      <th></th>\n",
       "      <th></th>\n",
       "    </tr>\n",
       "  </thead>\n",
       "  <tbody>\n",
       "    <tr>\n",
       "      <th>2016-08-31</th>\n",
       "      <td>0.0002</td>\n",
       "      <td>0.0052</td>\n",
       "      <td>-0.008417</td>\n",
       "      <td>0.025186</td>\n",
       "      <td>0.000838</td>\n",
       "      <td>-0.009552</td>\n",
       "    </tr>\n",
       "    <tr>\n",
       "      <th>2016-09-30</th>\n",
       "      <td>0.0002</td>\n",
       "      <td>0.0027</td>\n",
       "      <td>-0.016417</td>\n",
       "      <td>0.013153</td>\n",
       "      <td>0.012736</td>\n",
       "      <td>0.009979</td>\n",
       "    </tr>\n",
       "    <tr>\n",
       "      <th>2016-10-31</th>\n",
       "      <td>0.0002</td>\n",
       "      <td>-0.0200</td>\n",
       "      <td>-0.049460</td>\n",
       "      <td>0.002474</td>\n",
       "      <td>-0.020383</td>\n",
       "      <td>-0.043476</td>\n",
       "    </tr>\n",
       "    <tr>\n",
       "      <th>2016-11-30</th>\n",
       "      <td>0.0001</td>\n",
       "      <td>0.0487</td>\n",
       "      <td>-0.081636</td>\n",
       "      <td>-0.045971</td>\n",
       "      <td>-0.019798</td>\n",
       "      <td>-0.050359</td>\n",
       "    </tr>\n",
       "    <tr>\n",
       "      <th>2016-12-31</th>\n",
       "      <td>0.0003</td>\n",
       "      <td>0.0185</td>\n",
       "      <td>-0.005296</td>\n",
       "      <td>0.002904</td>\n",
       "      <td>0.034383</td>\n",
       "      <td>-0.023207</td>\n",
       "    </tr>\n",
       "  </tbody>\n",
       "</table>\n",
       "</div>"
      ],
      "text/plain": [
       "                RF   MKTUS    BondUS        EM    MKTxUS   BondxUS\n",
       "Date                                                              \n",
       "2016-08-31  0.0002  0.0052 -0.008417  0.025186  0.000838 -0.009552\n",
       "2016-09-30  0.0002  0.0027 -0.016417  0.013153  0.012736  0.009979\n",
       "2016-10-31  0.0002 -0.0200 -0.049460  0.002474 -0.020383 -0.043476\n",
       "2016-11-30  0.0001  0.0487 -0.081636 -0.045971 -0.019798 -0.050359\n",
       "2016-12-31  0.0003  0.0185 -0.005296  0.002904  0.034383 -0.023207"
      ]
     },
     "execution_count": 2,
     "metadata": {},
     "output_type": "execute_result"
    }
   ],
   "source": [
    "url=\"https://raw.githubusercontent.com/amoreira2/Lectures/main/assets/data/GlobalFinMonthly.csv\"\n",
    "Data = pd.read_csv(url,na_values=-99)\n",
    "Data['Date']=pd.to_datetime(Data['Date'])\n",
    "Data=Data.set_index(['Date'])\n",
    "# the assets are the risk-free rate, the us equity market, the us bond market, the emerging market, the global equity market (without US), and the global bond market (without US)\n",
    "\n",
    "Data=Data.rename(columns={Data.columns[1]: \"MKTUS\",Data.columns[2]: \"BondUS\",\n",
    "                          Data.columns[3]: \"EM\",Data.columns[4]: \"MKTxUS\",Data.columns[5]: \"BondxUS\" })\n",
    "Data.tail()"
   ]
  },
  {
   "cell_type": "code",
   "execution_count": 3,
   "metadata": {},
   "outputs": [
    {
     "name": "stdout",
     "output_type": "stream",
     "text": [
      "MKTUS      0.005140\n",
      "BondUS     0.002523\n",
      "EM         0.006923\n",
      "MKTxUS     0.004149\n",
      "BondxUS    0.002054\n",
      "dtype: float64\n",
      "            MKTUS    BondUS        EM    MKTxUS   BondxUS\n",
      "MKTUS    0.001948  0.000111  0.001292  0.001264  0.000187\n",
      "BondUS   0.000111  0.001227 -0.000204 -0.000013  0.000264\n",
      "EM       0.001292 -0.000204  0.003556  0.001661  0.000249\n",
      "MKTxUS   0.001264 -0.000013  0.001661  0.002182  0.000422\n",
      "BondxUS  0.000187  0.000264  0.000249  0.000422  0.000407\n"
     ]
    }
   ],
   "source": [
    "# we start by constructing excess returns by subtracting the risk-free rate from the returns of the assets and we drop the risk-free rate column\n",
    "Re=Data.subtract(Data['RF'],axis=0).drop(['RF'],axis=1)\n",
    "\n",
    "# we compute the mean and covariance matrix of the excess returns\n",
    "ERe=Re.mean()\n",
    "print(ERe)\n",
    "Cove=Re.cov()\n",
    "print(Cove)\n",
    "\n"
   ]
  },
  {
   "cell_type": "markdown",
   "metadata": {},
   "source": [
    "Suppose I want to reconstruct my current estimates of Expected returns and the covariance matrix of returns ( and not excess returns), What do I do?\n",
    "\n",
    "Simply add the current risk-free rate to you estimate of the expected return"
   ]
  },
  {
   "cell_type": "code",
   "execution_count": 4,
   "metadata": {},
   "outputs": [],
   "source": [
    "# set the risk-free rate to the current value of the 3-month T-bill rate divided by 12 to make it a monthly rate\n",
    "rf=0.0525/12\n",
    "# add to our estimate of risk-premiumns to get our estimate of expected returns\n",
    "\n",
    "ER=ERe+rf"
   ]
  },
  {
   "cell_type": "markdown",
   "metadata": {},
   "source": [
    "What about the covariance piece?"
   ]
  },
  {
   "cell_type": "markdown",
   "metadata": {},
   "source": [
    "## Numerical solution\n",
    "\n",
    "Lets start by solving\n",
    "\n",
    "$ \\max_X E[X'R_T]$ subject to $Var(X'R_T)\\leq Vmax$"
   ]
  },
  {
   "cell_type": "code",
   "execution_count": 18,
   "metadata": {},
   "outputs": [
    {
     "name": "stdout",
     "output_type": "stream",
     "text": [
      "0.0007914039297139135\n",
      "0.0008490361488465391\n",
      "0.008532889760767246\n",
      "0.00820649669319938\n"
     ]
    }
   ],
   "source": [
    "# STEP 1: define the fucntion that computes the portfolio variance and expected returns given a vector of weights X (initially set to equal weights)\n",
    "\n",
    "def portfolio_variance(X=np.ones(5)/5):\n",
    "    return X @ Cove @ X\n",
    "\n",
    "def portfolio_expected_return(X=np.ones(5)/5):\n",
    "     return X @ ER\n",
    "\n",
    "print(portfolio_variance())\n",
    "print(portfolio_variance(np.array([0.5,0.5,0,0,0])))\n",
    "\n",
    "print(portfolio_expected_return())\n",
    "print(portfolio_expected_return(np.array([0.5,0.5,0,0,0])))"
   ]
  },
  {
   "cell_type": "code",
   "execution_count": 19,
   "metadata": {},
   "outputs": [],
   "source": [
    "# STEP 2: define the constraint functions, \n",
    "\n",
    "# here we will have one inequality for the portfolio variance , lets say a volatility of 10% per year. How do we translate this into a monthly variance?\n",
    "\n",
    "# and one equality constraint for the weights to sum to one\n",
    "\n",
    "\n",
    "\n",
    "Vmax=(0.2**2/12)\n",
    "cons= ({'type': 'ineq',\n",
    "          'fun' : lambda X: -portfolio_variance(X)+Vmax},\n",
    "          {'type': 'eq',\n",
    "          'fun' : lambda X: np.sum(X)-1})\n",
    "\n",
    "# the constraint is normalized so that\n",
    "\n",
    "#cons=({'type': 'ineq',\n",
    "#          'fun' : lambda X: F(X)})\n",
    "\n",
    "#means F(X)>=0"
   ]
  },
  {
   "cell_type": "markdown",
   "metadata": {},
   "source": [
    "* Finally we are ready to do our minimization\n",
    "* `options={'disp': True}`: tell python to report intermediary steps so we can check if the algorithm is doing progress towards a solution.\n",
    "* There is a variety of additional parameters that you can pass to the minimizer. \n",
    "* see: https://docs.scipy.org/doc/scipy/reference/generated/scipy.optimize.minimize.html\n"
   ]
  },
  {
   "cell_type": "code",
   "execution_count": 20,
   "metadata": {},
   "outputs": [
    {
     "name": "stdout",
     "output_type": "stream",
     "text": [
      "Optimization terminated successfully    (Exit mode 0)\n",
      "            Current function value: -0.011929088527573371\n",
      "            Iterations: 13\n",
      "            Function evaluations: 78\n",
      "            Gradient evaluations: 13\n"
     ]
    }
   ],
   "source": [
    "# STEP 3: solve the minimization problem with constraints and save as `sol`\n",
    "from scipy.optimize import minimize\n",
    "X0=np.ones(5)/5\n",
    "sol = minimize(lambda X: -portfolio_expected_return(X),X0, constraints=cons, options={'disp': True})"
   ]
  },
  {
   "cell_type": "code",
   "execution_count": 21,
   "metadata": {},
   "outputs": [
    {
     "name": "stdout",
     "output_type": "stream",
     "text": [
      "[ 0.65116149  0.38641724  0.83880728 -0.36993912 -0.50644688]\n",
      "0.14314906233088046\n"
     ]
    },
    {
     "data": {
      "text/plain": [
       "0.20000201016577546"
      ]
     },
     "execution_count": 21,
     "metadata": {},
     "output_type": "execute_result"
    }
   ],
   "source": [
    "#optimal weights\n",
    "print(sol.x)\n",
    "# optimal expected return at the annual frequency\n",
    "print(portfolio_expected_return(sol.x)*12)\n",
    "# optimal portfolio volatility at the annual frequenc\n",
    "(portfolio_variance(sol.x)*12)**0.5"
   ]
  },
  {
   "cell_type": "code",
   "execution_count": 22,
   "metadata": {},
   "outputs": [
    {
     "data": {
      "image/png": "[encoded data removed]",
      "text/plain": [
       "<Figure size 432x288 with 1 Axes>"
      ]
     },
     "metadata": {
      "needs_background": "light"
     },
     "output_type": "display_data"
    }
   ],
   "source": [
    "# below I am plotting the solution weights.\n",
    "width=0.3\n",
    "fig, ax = plt.subplots()\n",
    "index=np.arange(sol.x.shape[0])\n",
    "\n",
    "ax.bar(index,sol.x,width)\n",
    "\n",
    "ax.set_xticks(index)\n",
    "ax.set_xticklabels(ER.index)\n",
    "plt.show()"
   ]
  },
  {
   "cell_type": "markdown",
   "metadata": {},
   "source": [
    "Here we assumed the portfolio has to be fully invested in risky assets.\n",
    "\n",
    "There is no leverage (borrowing at the risk-free rate)\n",
    "\n",
    "but there is shorting (raising additional funds by selling one asset)\n",
    "\n",
    "Note that is X0+X1=1, if X0<0, then X1>1\n",
    "\n",
    " \n",
    "\n"
   ]
  },
  {
   "cell_type": "markdown",
   "metadata": {},
   "source": [
    "## Introducing a benchmark\n",
    "\n",
    "* in mutual funds there is often a benchmark, say the S&P 500 and the manager has a mandate to have a tracking error relative to the benchmark that is low enough, say $Tmax$\n",
    "\n",
    "* and the manager is compensated only with respect to the returns above this benchmark\n",
    "\n",
    "* tracking error is the volatility of the portfolio relative to the benchmark: $\\sqrt{var(X'R_T-R^{benchmark}_T)}$\n",
    "\n",
    "The manager problem is ro maximize benchmark adjusted returns subject to some tracking error constraint\n",
    "\n",
    "$ \\max_X E[X'R_T-R^{benchmark}_T]$ subject to $Var(X'R_T-R^{benchmark}_T)\\leq Tmax$\n",
    "\n",
    "\n",
    "Assuming benchmark is in set of traded assets, you car write \n",
    "\n",
    "$ \\max_X E[X'R_T-1_b'R_T]$ subject to $Var(X'R_T-1_b'R_T)\\leq Tmax$\n",
    "\n",
    "Which can be written as\n",
    "\n",
    "\n",
    "$ \\max_X E[(X-1_b)'R_T]$ subject to $(X-1_b)'Var(R_T)(X-1_b)\\leq Tmax$"
   ]
  },
  {
   "cell_type": "code",
   "execution_count": 23,
   "metadata": {},
   "outputs": [
    {
     "name": "stdout",
     "output_type": "stream",
     "text": [
      "Optimization terminated successfully    (Exit mode 0)\n",
      "            Current function value: -0.005220575391068462\n",
      "            Iterations: 15\n",
      "            Function evaluations: 90\n",
      "            Gradient evaluations: 15\n"
     ]
    }
   ],
   "source": [
    "\n",
    "def portfolio_variance(X=np.ones(5)/5,Xbenchmark=np.array([0,0,0,0,0])):\n",
    "    return (X -Xbenchmark)@ Cove @ (X-Xbenchmark)\n",
    "\n",
    "def portfolio_expected_return(X=np.ones(5)/5,Xbenchmark=np.array([0,0,0,0,0])):\n",
    "     return (X-Xbenchmark) @ ER\n",
    "\n",
    "\n",
    "Xb=np.array([1,0,0,0,0])\n",
    "Vmax=(0.2**2/12)\n",
    "cons= ({'type': 'ineq',\n",
    "          'fun' : lambda X: -portfolio_variance(X,Xbenchmark=Xb)+Vmax},\n",
    "          {'type': 'eq',\n",
    "          'fun' : lambda X: np.sum(X)-1})\n",
    "\n",
    "X0=np.ones(5)/5\n",
    "solb = minimize(lambda X: -portfolio_expected_return(X,Xbenchmark=Xb),X0, constraints=cons, options={'disp': True})\n"
   ]
  },
  {
   "cell_type": "code",
   "execution_count": 25,
   "metadata": {},
   "outputs": [
    {
     "name": "stdout",
     "output_type": "stream",
     "text": [
      "Index(['MKTUS', 'BondUS', 'EM', 'MKTxUS', 'BondxUS'], dtype='object')\n",
      "[ 0.65116149  0.38641724  0.83880728 -0.36993912 -0.50644688]\n",
      "[ 1.71916096  0.06129325  0.73328686 -0.28549667 -1.2282444 ]\n"
     ]
    }
   ],
   "source": [
    "print(Cove.index)\n",
    "#optimal weights no benchmark\n",
    "print(sol.x)\n",
    "#optimal weights with benchmark\n",
    "print(solb.x)\n",
    "\n"
   ]
  },
  {
   "cell_type": "markdown",
   "metadata": {},
   "source": [
    "What happen here? Why the position in the market went up? Is that what you would expect?"
   ]
  },
  {
   "cell_type": "code",
   "execution_count": null,
   "metadata": {},
   "outputs": [],
   "source": [
    "# optimal expected return at the annual frequency\n",
    "print(portfolio_expected_return(solb.x)*12)\n",
    "# portfolio volatility pf optimal portfolio at the annual frequency\n",
    "print((portfolio_variance(solb.x)*12)**0.5)\n",
    "#Trackign error\n",
    "print((portfolio_variance(solb.x,Xbenchmark=Xb)*12)**0.5)\n",
    "#Benchmark adjsuted returns\n",
    "print((portfolio_expected_return(solb.x,Xbenchmark=Xb)*12))"
   ]
  },
  {
   "cell_type": "markdown",
   "metadata": {},
   "source": [
    "## Information Ratio\n",
    "\n",
    "Information ratio is how much you are expected to make in excess of the benchmark, divided by how much risk you are taking relative to the benchmark\n",
    "\n",
    "$$InformationRatio=\\frac{E[r_p-r_b]}{\\sigma(r_p-r_p)}$$"
   ]
  },
  {
   "cell_type": "code",
   "execution_count": null,
   "metadata": {},
   "outputs": [
    {
     "name": "stdout",
     "output_type": "stream",
     "text": [
      "0.31322388844974003\n"
     ]
    }
   ],
   "source": [
    "#The information ratio is the benchmark adjusted return divided by the tracking error\n",
    "print((portfolio_expected_return(sol.x,Xbenchmark=Xb)*12)/(portfolio_variance(sol.x,Xbenchmark=Xb)*12)**0.5)"
   ]
  },
  {
   "cell_type": "markdown",
   "metadata": {},
   "source": [
    "Other things to do\n",
    "\n"
   ]
  },
  {
   "cell_type": "markdown",
   "metadata": {},
   "source": [
    "Trace out how the optimal expected return varies as you change Vmax. In yearly volatility units try 6.5%, 7%, 8% , 10% ,15%,30%. Plot the resulting pairs in the scatter plot with the expected return in the y-axis and the volatility in the x-axis. What do you find?"
   ]
  },
  {
   "cell_type": "code",
   "execution_count": null,
   "metadata": {},
   "outputs": [],
   "source": []
  },
  {
   "cell_type": "markdown",
   "metadata": {},
   "source": [
    "Add the risk-free rate among the assets. There are different ways to do this. But a simple one is to change the expected return function  `X@ER+(1-np.sum(X))*rf`\n",
    "* now X is the vector of risky assets only and (1-np.sum(X)) is whatever is the residual\n",
    "* if this residual is positive you park in cash and earn rf\n",
    "* if negative you borrow at the rf rate\n",
    "* now your total weights mechanically add up to 1\n",
    "* so you need to take out the equality constraint"
   ]
  },
  {
   "cell_type": "code",
   "execution_count": null,
   "metadata": {},
   "outputs": [],
   "source": []
  },
  {
   "cell_type": "markdown",
   "metadata": {},
   "source": [
    "Add a shorting constraint, say you can only short equities but not bonds, that is X>0 for certain assets"
   ]
  },
  {
   "cell_type": "code",
   "execution_count": null,
   "metadata": {},
   "outputs": [],
   "source": []
  },
  {
   "cell_type": "markdown",
   "metadata": {},
   "source": [
    "Add a leverage cap, so that the sum of your risky assets cannot exceed 1 too much, np.sum(X)-1 is called your leverage, so you can limit it to 1, so that for each dollar you have you borrow at most 1 dollar"
   ]
  },
  {
   "cell_type": "code",
   "execution_count": null,
   "metadata": {},
   "outputs": [],
   "source": []
  },
  {
   "cell_type": "markdown",
   "metadata": {},
   "source": [
    "Modify the expected return function to incorporate practical frictions in trading. For example, when you borrow you typically pay more than what you can invest at, there is a borrowing spread. Analogously if you short a stock, you have to pay an extra fee"
   ]
  },
  {
   "cell_type": "code",
   "execution_count": null,
   "metadata": {},
   "outputs": [],
   "source": []
  },
  {
   "cell_type": "markdown",
   "metadata": {},
   "source": [
    "## Analytical solution\n",
    "\n",
    "The analytical solution assumes\n",
    "\n",
    "- free borrowing and lending at risk-free rate\n",
    "- Shorting without any shorting fees\n",
    "\n",
    "The optimal weights are \n",
    "\n",
    "$$X=\\sqrt{\\frac{Vmax}{E[R^e]'Var(R^e)^{-1}E[R^e]}}Var(R^e)^{-1}E[R^e]$$\n",
    "\n",
    "Where Vmax is in monthly variance units\n",
    "\n",
    "\n",
    "Note that $\\frac{Vmax}{E[R^e]'Var(R^e)^{-1}E[R^e]}$ is a number. Is basically a leverage factor. It leverage up (or down) the portfolio $Var(R^e)^{-1}E[R^e]$ so that the resulting portfolio has the desired target variance\n",
    "\n",
    "This portfolio $Var(R^e)^{-1}E[R^e]$ is quite special because it has the highest Sharpe-ratio among all possible combinations of these assets\n",
    "\n",
    "\n",
    "\n",
    "\n",
    "\n",
    "## Sharpe-ratio !\n",
    "\n",
    "Sharpe ratio is probably the most used concept in money management, it comes in honor of William Sharpe ( the dude that discovered the CAPM). It reflects how much additional expected return you are getting per unit of volatility. Say you have a portfolio with expected returns $E[r_p]$\n",
    "\n",
    "$$SharpeRatio=\\frac{E[r_p]-rf}{\\sigma(R_p)}$$\n",
    "\n",
    "\n",
    "So a portfolio that has the highest sharpe ratio is nice because it is efficient. \n",
    "\n",
    "You take the minimum amount of risk that you need to take to achieve a expected return\n",
    "\n",
    "or conversely you get the maximum possible expected return for a given level of risk that you are willing to take"
   ]
  },
  {
   "cell_type": "markdown",
   "metadata": {
    "colab_type": "text",
    "id": "eDFJiQNu4bJT"
   },
   "source": [
    "_____\n",
    "\n",
    "*Aside: Matrix inversion*\n",
    "\n",
    "* You only need to understand how to operationaize it and in an conceptual level what it does\n",
    "\n",
    "* But you don't need to follow all the mathematical details\n",
    "\n",
    "* If you are interested. you can look in our linear algebra review in https://amoreira2.github.io/quantitativeinvesting/chapters/scientific/linear_algebra1.html\n",
    "\n",
    "* I also provide a summary below\n",
    "\n",
    "* Note that $(2)^{-1}=1/2=0.5$ (naturally!)\n",
    "\n",
    "* $(Var(R^e))^{-1}$ is just like this \n",
    "\n",
    "* but more complicated because $Var(R^e)$ is a N by N matrix and we can't simply divide over to solve for X\n",
    "\n",
    "* The definition of the inverse function is $f(x)=x^{-1}=y$ where $y*x=1$\n",
    "\n",
    "* for matrices it is the same: $(Var(R^e))^{-1}Var(R^e)=I$, but now instead of 1, we have an identity matrix, which is a matrix with 1's in the diagonal and zero everywhere else\n",
    "\n",
    "\n",
    "Thankfully we have a function in python that does just that\n",
    "\n",
    "\n"
   ]
  },
  {
   "cell_type": "code",
   "execution_count": 52,
   "metadata": {},
   "outputs": [
    {
     "name": "stdout",
     "output_type": "stream",
     "text": [
      "[[3 7]\n",
      " [0 9]]\n"
     ]
    },
    {
     "data": {
      "text/plain": [
       "array([[ 0.33333333, -0.25925926],\n",
       "       [ 0.        ,  0.11111111]])"
      ]
     },
     "execution_count": 52,
     "metadata": {},
     "output_type": "execute_result"
    }
   ],
   "source": [
    "# start with a 2 by 2 matrix\n",
    "a=np.array([[3,7],[0,9]])\n",
    "print(a)\n",
    "\n",
    "# compute the inverse\n",
    "ainv=np.linalg.inv(a) \n",
    "\n",
    "ainv"
   ]
  },
  {
   "cell_type": "code",
   "execution_count": 53,
   "metadata": {},
   "outputs": [
    {
     "data": {
      "text/plain": [
       "array([[1., 0.],\n",
       "       [0., 1.]])"
      ]
     },
     "execution_count": 53,
     "metadata": {},
     "output_type": "execute_result"
    }
   ],
   "source": [
    "# indeed ainv is the inverse of a because ainv @ a = I\n",
    "ainv @ a"
   ]
  },
  {
   "cell_type": "markdown",
   "metadata": {},
   "source": [
    "This portfolio is very special so it has many names\n",
    "\n",
    "1. maximum sharpe ratio portfolio\n",
    "\n",
    "2. mean-variance efficient portfolio (MVE)\n",
    "\n",
    "3. Tangency portfolio\n",
    "\n",
    "Names 1 and 2 are pretty clear. Name 3 will become clear later in the course"
   ]
  },
  {
   "cell_type": "markdown",
   "metadata": {},
   "source": [
    "________________________\n",
    "## **Finding the Mean-variance efficient portfolio**\n",
    "\n",
    "\n",
    "First lets construct our vector of expected excess returns for our risky two assets US equity market and International equity market"
   ]
  },
  {
   "cell_type": "code",
   "execution_count": 64,
   "metadata": {},
   "outputs": [
    {
     "data": {
      "text/plain": [
       "MKTUS     0.005140\n",
       "MKTxUS    0.004149\n",
       "dtype: float64"
      ]
     },
     "execution_count": 64,
     "metadata": {},
     "output_type": "execute_result"
    }
   ],
   "source": [
    "assets=['MKTUS','MKTxUS']\n",
    "e=ERe[assets]\n",
    "\n",
    "e"
   ]
  },
  {
   "cell_type": "markdown",
   "metadata": {},
   "source": [
    "We start by estimating the covariance matrix from our data $Var(R^e)$"
   ]
  },
  {
   "cell_type": "code",
   "execution_count": 65,
   "metadata": {},
   "outputs": [
    {
     "data": {
      "text/html": [
       "<div>\n",
       "<style scoped>\n",
       "    .dataframe tbody tr th:only-of-type {\n",
       "        vertical-align: middle;\n",
       "    }\n",
       "\n",
       "    .dataframe tbody tr th {\n",
       "        vertical-align: top;\n",
       "    }\n",
       "\n",
       "    .dataframe thead th {\n",
       "        text-align: right;\n",
       "    }\n",
       "</style>\n",
       "<table border=\"1\" class=\"dataframe\">\n",
       "  <thead>\n",
       "    <tr style=\"text-align: right;\">\n",
       "      <th></th>\n",
       "      <th>MKTUS</th>\n",
       "      <th>MKTxUS</th>\n",
       "    </tr>\n",
       "  </thead>\n",
       "  <tbody>\n",
       "    <tr>\n",
       "      <th>MKTUS</th>\n",
       "      <td>0.001948</td>\n",
       "      <td>0.001264</td>\n",
       "    </tr>\n",
       "    <tr>\n",
       "      <th>MKTxUS</th>\n",
       "      <td>0.001264</td>\n",
       "      <td>0.002182</td>\n",
       "    </tr>\n",
       "  </tbody>\n",
       "</table>\n",
       "</div>"
      ],
      "text/plain": [
       "           MKTUS    MKTxUS\n",
       "MKTUS   0.001948  0.001264\n",
       "MKTxUS  0.001264  0.002182"
      ]
     },
     "execution_count": 65,
     "metadata": {},
     "output_type": "execute_result"
    }
   ],
   "source": [
    "c=Cove.loc[assets,assets]\n",
    "\n",
    "c"
   ]
  },
  {
   "cell_type": "markdown",
   "metadata": {},
   "source": [
    "We then invert the covariance matrix $Var(R^e)^{-1}$"
   ]
  },
  {
   "cell_type": "code",
   "execution_count": 67,
   "metadata": {
    "colab": {
     "base_uri": "https://localhost:8080/",
     "height": 51
    },
    "colab_type": "code",
    "executionInfo": {
     "elapsed": 300,
     "status": "ok",
     "timestamp": 1576516473713,
     "user": {
      "displayName": "yuchi yao",
      "photoUrl": "",
      "userId": "00457884373990713813"
     },
     "user_tz": 300
    },
    "id": "g30KiEbDQ1u0",
    "outputId": "e1607085-aa00-44dd-fd47-4c0581d5fed7"
   },
   "outputs": [
    {
     "data": {
      "text/plain": [
       "array([[ 822.50792137, -476.49212708],\n",
       "       [-476.49212708,  734.40580739]])"
      ]
     },
     "execution_count": 67,
     "metadata": {},
     "output_type": "execute_result"
    }
   ],
   "source": [
    "cinv=np.linalg.inv(c) \n",
    "\n",
    "cinv"
   ]
  },
  {
   "cell_type": "markdown",
   "metadata": {
    "colab_type": "text",
    "id": "CV3kqj0wQ1u2"
   },
   "source": [
    "we then use the dot product to cross-mulitply our vector of expected excess returns by the inverse of the covariance matrix\n",
    "\n",
    "$$Var(R^e)^{-1}E[R^e]$$"
   ]
  },
  {
   "cell_type": "code",
   "execution_count": 68,
   "metadata": {
    "colab": {
     "base_uri": "https://localhost:8080/",
     "height": 34
    },
    "colab_type": "code",
    "executionInfo": {
     "elapsed": 321,
     "status": "ok",
     "timestamp": 1576516489440,
     "user": {
      "displayName": "yuchi yao",
      "photoUrl": "",
      "userId": "00457884373990713813"
     },
     "user_tz": 300
    },
    "id": "aSD1S4pCQ1u2",
    "outputId": "29f833bf-e962-4445-9afb-dd71e6eb14fe"
   },
   "outputs": [
    {
     "data": {
      "text/plain": [
       "array([2.25099751, 0.597729  ])"
      ]
     },
     "execution_count": 68,
     "metadata": {},
     "output_type": "execute_result"
    }
   ],
   "source": [
    "Wmve=cinv @ e\n",
    "Wmve"
   ]
  },
  {
   "cell_type": "code",
   "execution_count": 73,
   "metadata": {},
   "outputs": [
    {
     "data": {
      "text/plain": [
       "array([0.53401107, 0.14180109])"
      ]
     },
     "execution_count": 73,
     "metadata": {},
     "output_type": "execute_result"
    }
   ],
   "source": [
    "Vmax=(0.2**2/12)\n",
    "Wmve * (Vmax/(e @cinv @ e))**0.5"
   ]
  },
  {
   "cell_type": "markdown",
   "metadata": {},
   "source": [
    "Things to try\n"
   ]
  },
  {
   "cell_type": "markdown",
   "metadata": {},
   "source": [
    "Verify that indeed the entire class of portfolios that solve the problem for different variance targets Vmax are also MVE ( i.e they all have the max sharpe ratio)"
   ]
  },
  {
   "cell_type": "code",
   "execution_count": null,
   "metadata": {},
   "outputs": [],
   "source": []
  },
  {
   "cell_type": "markdown",
   "metadata": {},
   "source": [
    "What is the allocation to the risk-free rate? How do you find it? How does it change as you increase/decrease Vmax?"
   ]
  },
  {
   "cell_type": "code",
   "execution_count": null,
   "metadata": {},
   "outputs": [],
   "source": []
  },
  {
   "cell_type": "markdown",
   "metadata": {},
   "source": [
    "\n",
    "How does max SR change as you go from \n",
    "1. only investing in the US equity market\n",
    "1. investing in US equities and US bonds\n",
    "1. Invest everywhere except emerging markets\n",
    "1. investing everywhere including emerging markets\n",
    "1. investing only in global equities and global bonds"
   ]
  },
  {
   "cell_type": "code",
   "execution_count": null,
   "metadata": {},
   "outputs": [],
   "source": []
  },
  {
   "cell_type": "markdown",
   "metadata": {},
   "source": [
    "Compare the gains of investing domestically ( US equities and bonds)  with investing internationally as well (US equities, US bonds, Global equities, global bonds).\n",
    "\n",
    "Why the SR is going up ?What properties of the returns moments the mean-variance optimizer are exploiting? \n",
    "\n",
    "Do we think those are reliable properties? What is the alternative?"
   ]
  },
  {
   "cell_type": "code",
   "execution_count": null,
   "metadata": {},
   "outputs": [],
   "source": []
  },
  {
   "cell_type": "markdown",
   "metadata": {},
   "source": [
    "For the four investment opportunity sets above, compute the optimal expected returns for the following volatilities 6.5%, 7%, 8% , 10% ,15%,30%. Plot the results in a scatter plot with volatility in the X-axis and expected returns in the y-axis. You should see 5 lines. Why they look like that?"
   ]
  },
  {
   "cell_type": "code",
   "execution_count": null,
   "metadata": {},
   "outputs": [],
   "source": []
  },
  {
   "cell_type": "markdown",
   "metadata": {},
   "source": [
    "Compare the benefits of a US investor to invest globally and the benefit of an international investor investing in the US ( ignore Emerging markets). Looking at individual assets risk-premiums and volatility explain the benefits of investing across multiple assets"
   ]
  },
  {
   "cell_type": "code",
   "execution_count": null,
   "metadata": {},
   "outputs": [],
   "source": []
  }
 ],
 "metadata": {
  "colab": {
   "collapsed_sections": [],
   "provenance": [],
   "toc_visible": true
  },
  "kernelspec": {
   "display_name": "Python 3 (ipykernel)",
   "language": "python",
   "name": "python3"
  },
  "language_info": {
   "codemirror_mode": {
    "name": "ipython",
    "version": 3
   },
   "file_extension": ".py",
   "mimetype": "text/x-python",
   "name": "python",
   "nbconvert_exporter": "python",
   "pygments_lexer": "ipython3",
   "version": "3.9.12"
  },
  "toc-autonumbering": true
 },
 "nbformat": 4,
 "nbformat_minor": 4
}
