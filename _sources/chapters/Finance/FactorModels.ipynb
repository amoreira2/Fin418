{
 "cells": [
  {
   "cell_type": "code",
   "execution_count": 14,
   "id": "suspected-knitting",
   "metadata": {
    "tags": [
     "hidden-cell"
    ]
   },
   "outputs": [],
   "source": [
    "# load libraries\n",
    "import numpy as np\n",
    "import pandas as pd\n",
    "%matplotlib inline\n",
    "import matplotlib.pyplot as plt\n",
    "import wrds\n",
    "import pandas_datareader.data as web"
   ]
  },
  {
   "cell_type": "code",
   "execution_count": null,
   "id": "9b892877",
   "metadata": {},
   "outputs": [],
   "source": []
  },
  {
   "cell_type": "code",
   "execution_count": 15,
   "id": "1a5069e5",
   "metadata": {
    "tags": [
     "hidden-cell"
    ]
   },
   "outputs": [],
   "source": [
    "# define functions  \n",
    "def get_daily_wrds(conn,tickers=None):\n",
    "  \n",
    "    # Retrieve PERMNOs for the specified tickers\n",
    "    permnos = conn.get_table(library='crsp', table='stocknames', columns=['permno', 'ticker', 'namedt', 'nameenddt'])\n",
    "    permnos['nameenddt']=pd.to_datetime(permnos['nameenddt'])\n",
    "    permnos = permnos[(permnos['ticker'].isin(tickers)) & (permnos['nameenddt']==permnos['nameenddt'].max())]\n",
    "    # Extract unique PERMNOs\n",
    "    permno_list = permnos['permno'].unique().tolist()\n",
    "    print(permno_list)\n",
    "\n",
    "    # Query daily stock file for the specified PERMNOs\n",
    "    \n",
    "    query = f\"\"\"\n",
    "        SELECT permno, date, ret, retx, prc       \n",
    "        FROM crsp.dsf\n",
    "        WHERE permno IN ({','.join(map(str, permno_list))})\n",
    "        ORDER BY date,permno\n",
    "    \"\"\"\n",
    "    daily_returns = conn.raw_sql(query, date_cols=['date'])\n",
    "    daily_returns = daily_returns.merge(permnos[['permno', 'ticker']], on='permno', how='left')\n",
    "# Pivot data to have dates as index and tickers as columns\n",
    "    daily_returns = daily_returns.pivot(index='date', columns='ticker', values='ret').dropna()    \n",
    "    daily_returns=daily_returns[tickers]\n",
    "\n",
    "    return daily_returns\n",
    "\n",
    "\n",
    "def get_factors(ff6=False):\n",
    "    \n",
    "    fama_french = web.DataReader(\"F-F_Research_Data_5_Factors_2x3_daily\", \"famafrench\",start=\"1926-01-01\")\n",
    "    daily_data = fama_french[0]  # The first DataFrame contains the daily data\n",
    "    daily_data.index = pd.to_datetime(daily_data.index)  # Ensure index is datetime\n",
    "    if ff6==False:\n",
    "        df_factor = daily_data[['RF','Mkt-RF']]  # Extract the Risk-Free Rate (RF)\n",
    "    else:\n",
    "        df_factor = daily_data[['RF','Mkt-RF','SMB','HML','RMW','CMA']]\n",
    "        fama_french = web.DataReader(\"F-F_Momentum_Factor_daily\", \"famafrench\",start=\"1926-01-01\")\n",
    "        df_factor=df_factor.merge(fama_french[0],on='Date')\n",
    "    \n",
    "    return df_factor/100"
   ]
  },
  {
   "cell_type": "markdown",
   "id": "bfcd2dd3",
   "metadata": {},
   "source": [
    "# Introduction to Factor models \n",
    "\n",
    "Let $r^e$ be an asset excess return over the risk-free rate\n",
    "\n",
    "Let $f$ be a traded factor, for now  the excess returns on SPY ETF\n",
    "\n",
    "Then we can write\n",
    "\n",
    "$$r^e=\\alpha + b*f+\\epsilon$$\n",
    "\n",
    "where $b$ is asset $i$ exposure to the factor $f$\n",
    "\n",
    "> We can always write things that way--it is just a statistical decomposition\n",
    "\n",
    "1. It can be useful for measuring risk if\n",
    "    - The risk $\\epsilon$ is specific to asset $i$ and uncorrelated with other assets\n",
    "    - I.e the factors picks up lots of the variation in stock returns \n",
    "\n",
    "2. It can be useful for measuring expected returns if\n",
    "    - The premium on the factor f, $E[f]$ summarize well the known \"priced\" systematic risk factors\n",
    "    - By \"priced\" we mean risk-factors that earn a risk premium  $E[f]>0$\n",
    "\n",
    "> We will call the first a factor model of risk, and the second a factor model of expected returns. However, this distinction is often blurry. People start with a factor model with priced factors and then add additional factors to explain risk.\n",
    "\n",
    "\n",
    "What use is a factor model?\n",
    "\n",
    "- the alpha/Beta decomposition is how the money management industry is organized. \n",
    "    - Big pay days only if people think you have alpha\n",
    "    - Getting exposure to the factor is a commodity. Anyone can buy SPY or many other funds that track the market very well\n",
    "    - In most funds, specially for portfolio managers working a pod shops like Citadel and Millenium, a portfolio manager mandate is to take no factor risk--or at least aim to be close to factor neutral.\n",
    "    - It is all about the alpha \n",
    "- factor models allow you to understand and hedge risk\n",
    "    - This is essential if you want to concentrate your portfolio only on the pieces that you get compensated\n",
    "\n",
    "\n",
    "## Alpha and Beta(s)\n",
    "\n",
    "Note that\n",
    "\n",
    "$$E[r]=E[rf+r^{e}]=rf+E[\\alpha_i + b*f+\\epsilon]$$\n",
    "\n",
    "$$E[r]=rf+\\alpha+b*E[f]+E[\\epsilon]$$\n",
    "\n",
    "- Using that $E[\\epsilon]=0$ we have\n",
    "$$E[r]=rf+\\alpha+b*E[f]$$\n",
    "\n",
    "- Thus, just like the risk of our asset could be attributed to the factor and it's component, the same model also allow us to decompose the expected return in terms of the risk-free rate, the premium coming from the common factor exposure $b*E[f]$ and the risk-premium specific to the asset, the ALPHA.\n",
    "\n",
    "\n",
    "- The alpha does not need to be in a specific asset, can be o a combination of them\n",
    "\n",
    "- The decomposition works the same for portfolio of assets\n",
    "\n",
    "- For now we have a single factor, but you will see that as you have more factors, everything is pretty much the same\n",
    "\n"
   ]
  },
  {
   "cell_type": "markdown",
   "id": "a736d9fd",
   "metadata": {},
   "source": [
    "## Focus on your skill, hedge all the residual risk\n",
    "\n",
    "No matter who you are, you will face dollar risk limits\n",
    "\n",
    "So it is essential that you deploy risk wisely\n",
    "\n",
    "The key use of the factor model is to give you discipline to separate your edge from the rest\n",
    "\n",
    "How to use the factor model?\n",
    "\n",
    "First , realize that each piece of the factor model will require very thoughtful estimation\n",
    "\n",
    "Even here with only one asset and one factor we already have to know many things\n",
    "\n",
    "1. The risk-free rate\n",
    "2. The beta \n",
    "3. The factor risk-premia\n",
    "4. The factor variance\n",
    "5. The asset specific alpha\n",
    "6. The factor specific variance\n",
    "   \n",
    "For now we will assume we know each of these.\n",
    "\n",
    "\n",
    "if you have an asset that has alpha, says, you are confident that APPLE will beat expectations and you expect a 5% appreciation in the next 12 months beyond any factor exposure that APPle might had, what do you do?\n",
    "\n",
    "1. Buy apple! \n",
    "\n",
    "But what is the market crashes? Why bear that risk?  \n",
    "Portfolio allocators look for managers with alpha, not beta. \n",
    "What if the market crashes before apple surprises and your investors pull out?\n",
    "\n",
    "\n",
    "2. Hedge the market\n",
    "   - How do you do that?\n",
    "   - Short it!\n",
    "   - How much?\n",
    "   - the asset beta!\n",
    "\n",
    "\n",
    "Example:\n",
    "\n",
    "1. You buy 1M in Apple stock, so your portfolio PnL is 1M*$r^{apple}$\n",
    "2. Your portfolio PnL in excess what you would earn in treasuries is 1M*$(r^{apple}-rf)$\n",
    "3. Sell (short) 1M*$beta_{apple,f}$ of the factor\n",
    "4. Now your portfolio is PnL above the risk-free rate is\n",
    "\n",
    "$$1M*(r^{apple}-rf-\\beta*r^{SPY}+\\beta*rf)$$\n",
    "\n",
    "When you sell SPY short you get the money and here I am \"investing\" it in the risk-free rate\n",
    "\n",
    "Alternatively you can think of it as using to fund the apple buy\n",
    "\n",
    "it does not matter, because we are accounting for the time-value of money\n",
    "\n",
    "We certainly don't want to invest anything else to just add noise to our trade \n",
    "\n",
    "\n",
    "$$1M*(r^{apple}-\\beta*r^{SPY}-(1-\\beta)*rf)$$\n",
    "\n",
    "For a high beta stock your trade generates extra cash!\n",
    "\n",
    "If $\\beta>1$, $-(1-\\beta)*rf>0$\n",
    "\n",
    "This happens because you are selling more than you are buying\n",
    "\n",
    "If we substitute our factor model in our trade PnL and take expectations what do we get?\n",
    "\n",
    "$$1M*E[r^{apple}-rf-\\beta*r^{SPY}+\\beta*rf)]$$\n",
    "\n",
    "$$1M*E[\\alpha_i+rf+beta*(r^{SPY}-rf)+u_i-rf-\\beta*r^{SPY}+\\beta*rf)]$$\n",
    "\n",
    "A pure play portfolio!\n",
    "\n",
    "$$1M*E[\\alpha_i]$$\n",
    "\n",
    "And what is the portfolio risk?\n",
    "\n",
    "$$std(1M*(r^{apple}-rf-\\beta*r^{SPY}+\\beta*rf))=1M*std(u_i)$$\n",
    "\n",
    "\n",
    "- We refer to portfolio $(1,-\\beta)\\times(AAPL,SPY)$ as the Apple-factor hedged portfolio, or simply the \"hedged-portfolio\" \n",
    "\n",
    "- and refer to $-\\beta \\times $ (SPY) as the \"Hedging Portfolio\" \n"
   ]
  },
  {
   "cell_type": "markdown",
   "id": "091e1220",
   "metadata": {},
   "source": [
    "Lets do this!\n",
    "\n",
    "I will use a regression to get some numbers for us to do this strategy\n",
    "\n",
    "but for now, just think those as numbers I am giving you and don't think of the regression as giving the right numbers necessarily.\n",
    "\n",
    "\n",
    "Do example with an asset. Compare the hedged and unhedged returns\n",
    "\n",
    "Discuss why these are trading strategy returns\n",
    "\n",
    "Show the positions that Implement this trade"
   ]
  },
  {
   "cell_type": "code",
   "execution_count": 16,
   "id": "55838db8",
   "metadata": {},
   "outputs": [
    {
     "name": "stdout",
     "output_type": "stream",
     "text": [
      "WRDS recommends setting up a .pgpass file.\n",
      "Created .pgpass file successfully.\n",
      "You can create this file yourself at any time with the create_pgpass_file() function.\n",
      "Loading library list...\n",
      "Done\n",
      "[10107]\n",
      "ticker          MSFT\n",
      "date                \n",
      "1986-03-14  0.035714\n",
      "1986-03-17  0.017241\n",
      "1986-03-18 -0.025424\n",
      "1986-03-19 -0.017391\n",
      "1986-03-20 -0.026549\n"
     ]
    },
    {
     "data": {
      "text/html": [
       "<div>\n",
       "<style scoped>\n",
       "    .dataframe tbody tr th:only-of-type {\n",
       "        vertical-align: middle;\n",
       "    }\n",
       "\n",
       "    .dataframe tbody tr th {\n",
       "        vertical-align: top;\n",
       "    }\n",
       "\n",
       "    .dataframe thead th {\n",
       "        text-align: right;\n",
       "    }\n",
       "</style>\n",
       "<table border=\"1\" class=\"dataframe\">\n",
       "  <thead>\n",
       "    <tr style=\"text-align: right;\">\n",
       "      <th>ticker</th>\n",
       "      <th>MSFT</th>\n",
       "    </tr>\n",
       "  </thead>\n",
       "  <tbody>\n",
       "    <tr>\n",
       "      <th>count</th>\n",
       "      <td>9526.000000</td>\n",
       "    </tr>\n",
       "    <tr>\n",
       "      <th>mean</th>\n",
       "      <td>0.001143</td>\n",
       "    </tr>\n",
       "    <tr>\n",
       "      <th>std</th>\n",
       "      <td>0.021195</td>\n",
       "    </tr>\n",
       "    <tr>\n",
       "      <th>min</th>\n",
       "      <td>-0.301158</td>\n",
       "    </tr>\n",
       "    <tr>\n",
       "      <th>25%</th>\n",
       "      <td>-0.009178</td>\n",
       "    </tr>\n",
       "    <tr>\n",
       "      <th>50%</th>\n",
       "      <td>0.000360</td>\n",
       "    </tr>\n",
       "    <tr>\n",
       "      <th>75%</th>\n",
       "      <td>0.011318</td>\n",
       "    </tr>\n",
       "    <tr>\n",
       "      <th>max</th>\n",
       "      <td>0.195652</td>\n",
       "    </tr>\n",
       "  </tbody>\n",
       "</table>\n",
       "</div>"
      ],
      "text/plain": [
       "ticker         MSFT\n",
       "count   9526.000000\n",
       "mean       0.001143\n",
       "std        0.021195\n",
       "min       -0.301158\n",
       "25%       -0.009178\n",
       "50%        0.000360\n",
       "75%        0.011318\n",
       "max        0.195652"
      ]
     },
     "execution_count": 16,
     "metadata": {},
     "output_type": "execute_result"
    }
   ],
   "source": [
    "conn = wrds.Connection()\n",
    "ticker=['MSFT']\n",
    "df_returns = get_daily_wrds(conn,ticker)\n",
    "print(df_returns.head())\n",
    "df_returns.describe()"
   ]
  },
  {
   "cell_type": "code",
   "execution_count": 17,
   "id": "ce8bff47",
   "metadata": {},
   "outputs": [
    {
     "name": "stderr",
     "output_type": "stream",
     "text": [
      "c:\\Users\\alan.moreira\\Anaconda3\\lib\\site-packages\\pandas_datareader\\famafrench.py:114: FutureWarning: The argument 'date_parser' is deprecated and will be removed in a future version. Please use 'date_format' instead, or read your data in as 'object' dtype and then call 'to_datetime'.\n",
      "  df = read_csv(StringIO(\"Date\" + src[start:]), **params)\n"
     ]
    },
    {
     "name": "stdout",
     "output_type": "stream",
     "text": [
      "                 RF  Mkt-RF\n",
      "Date                       \n",
      "1963-07-01  0.00012 -0.0067\n",
      "1963-07-02  0.00012  0.0079\n",
      "1963-07-03  0.00012  0.0063\n",
      "1963-07-05  0.00012  0.0040\n",
      "1963-07-08  0.00012 -0.0063\n"
     ]
    },
    {
     "data": {
      "text/html": [
       "<div>\n",
       "<style scoped>\n",
       "    .dataframe tbody tr th:only-of-type {\n",
       "        vertical-align: middle;\n",
       "    }\n",
       "\n",
       "    .dataframe tbody tr th {\n",
       "        vertical-align: top;\n",
       "    }\n",
       "\n",
       "    .dataframe thead th {\n",
       "        text-align: right;\n",
       "    }\n",
       "</style>\n",
       "<table border=\"1\" class=\"dataframe\">\n",
       "  <thead>\n",
       "    <tr style=\"text-align: right;\">\n",
       "      <th></th>\n",
       "      <th>RF</th>\n",
       "      <th>Mkt-RF</th>\n",
       "    </tr>\n",
       "  </thead>\n",
       "  <tbody>\n",
       "    <tr>\n",
       "      <th>count</th>\n",
       "      <td>15440.000000</td>\n",
       "      <td>15440.000000</td>\n",
       "    </tr>\n",
       "    <tr>\n",
       "      <th>mean</th>\n",
       "      <td>0.000173</td>\n",
       "      <td>0.000279</td>\n",
       "    </tr>\n",
       "    <tr>\n",
       "      <th>std</th>\n",
       "      <td>0.000125</td>\n",
       "      <td>0.010198</td>\n",
       "    </tr>\n",
       "    <tr>\n",
       "      <th>min</th>\n",
       "      <td>0.000000</td>\n",
       "      <td>-0.174400</td>\n",
       "    </tr>\n",
       "    <tr>\n",
       "      <th>25%</th>\n",
       "      <td>0.000070</td>\n",
       "      <td>-0.004200</td>\n",
       "    </tr>\n",
       "    <tr>\n",
       "      <th>50%</th>\n",
       "      <td>0.000180</td>\n",
       "      <td>0.000500</td>\n",
       "    </tr>\n",
       "    <tr>\n",
       "      <th>75%</th>\n",
       "      <td>0.000240</td>\n",
       "      <td>0.005100</td>\n",
       "    </tr>\n",
       "    <tr>\n",
       "      <th>max</th>\n",
       "      <td>0.000610</td>\n",
       "      <td>0.113500</td>\n",
       "    </tr>\n",
       "  </tbody>\n",
       "</table>\n",
       "</div>"
      ],
      "text/plain": [
       "                 RF        Mkt-RF\n",
       "count  15440.000000  15440.000000\n",
       "mean       0.000173      0.000279\n",
       "std        0.000125      0.010198\n",
       "min        0.000000     -0.174400\n",
       "25%        0.000070     -0.004200\n",
       "50%        0.000180      0.000500\n",
       "75%        0.000240      0.005100\n",
       "max        0.000610      0.113500"
      ]
     },
     "execution_count": 17,
     "metadata": {},
     "output_type": "execute_result"
    }
   ],
   "source": [
    "df_factor = get_factors()\n",
    "print(df_factor.head())\n",
    "df_factor.describe()"
   ]
  },
  {
   "cell_type": "code",
   "execution_count": 18,
   "id": "46ca229f",
   "metadata": {},
   "outputs": [],
   "source": [
    "\n",
    "\n",
    "df_return, df_factor = df_returns.align(df_factor, join='left', axis=0)"
   ]
  },
  {
   "cell_type": "code",
   "execution_count": 33,
   "id": "ee1e66c2",
   "metadata": {},
   "outputs": [
    {
     "name": "stdout",
     "output_type": "stream",
     "text": [
      "                            OLS Regression Results                            \n",
      "==============================================================================\n",
      "Dep. Variable:                      y   R-squared:                       0.414\n",
      "Model:                            OLS   Adj. R-squared:                  0.414\n",
      "Method:                 Least Squares   F-statistic:                     6731.\n",
      "Date:                Sat, 14 Dec 2024   Prob (F-statistic):               0.00\n",
      "Time:                        18:51:57   Log-Likelihood:                 25744.\n",
      "No. Observations:                9526   AIC:                        -5.148e+04\n",
      "Df Residuals:                    9524   BIC:                        -5.147e+04\n",
      "Df Model:                           1                                         \n",
      "Covariance Type:            nonrobust                                         \n",
      "==============================================================================\n",
      "                 coef    std err          t      P>|t|      [0.025      0.975]\n",
      "------------------------------------------------------------------------------\n",
      "const          0.0006      0.000      3.690      0.000       0.000       0.001\n",
      "Mkt-RF         1.1886      0.014     82.045      0.000       1.160       1.217\n",
      "==============================================================================\n",
      "Omnibus:                     1397.296   Durbin-Watson:                   1.928\n",
      "Prob(Omnibus):                  0.000   Jarque-Bera (JB):            20816.444\n",
      "Skew:                           0.139   Prob(JB):                         0.00\n",
      "Kurtosis:                      10.237   Cond. No.                         87.2\n",
      "==============================================================================\n",
      "\n",
      "Notes:\n",
      "[1] Standard Errors assume that the covariance matrix of the errors is correctly specified.\n"
     ]
    }
   ],
   "source": [
    "df_eret=df_return['MSFT']-df_factor['RF']\n",
    "import statsmodels.api as sm\n",
    "\n",
    "X = df_factor['Mkt-RF']\n",
    "X = sm.add_constant(X)  # Adds a constant term to the predictor\n",
    "y = df_eret\n",
    "\n",
    "model = sm.OLS(y, X).fit()\n",
    "print(model.summary())"
   ]
  },
  {
   "cell_type": "code",
   "execution_count": 70,
   "id": "0b4dd792",
   "metadata": {},
   "outputs": [
    {
     "name": "stdout",
     "output_type": "stream",
     "text": [
      "Alpha: 0.0006136713970132121\n",
      "Beta: 1.1885965257521751\n",
      "Variance of MSFT returns (var_r): 0.00044916491215715146\n",
      "Variance of market factor (var_f): 0.0001316572593818388\n",
      "Variance of residuals (var_e): 0.00026316457843989904\n",
      "Mean of market factor (mu_f): 0.00034711316397228635\n"
     ]
    },
    {
     "name": "stderr",
     "output_type": "stream",
     "text": [
      "C:\\Users\\alan.moreira\\AppData\\Local\\Temp\\ipykernel_6532\\2604691240.py:1: FutureWarning: Series.__getitem__ treating keys as positions is deprecated. In a future version, integer keys will always be treated as labels (consistent with DataFrame behavior). To access a value by position, use `ser.iloc[pos]`\n",
      "  alpha=model.params[0]\n",
      "C:\\Users\\alan.moreira\\AppData\\Local\\Temp\\ipykernel_6532\\2604691240.py:2: FutureWarning: Series.__getitem__ treating keys as positions is deprecated. In a future version, integer keys will always be treated as labels (consistent with DataFrame behavior). To access a value by position, use `ser.iloc[pos]`\n",
      "  beta=model.params[1]\n"
     ]
    }
   ],
   "source": [
    "alpha=model.params[0]\n",
    "beta=model.params[1]\n",
    "var_r=y.var()\n",
    "var_f=X['Mkt-RF'].var()\n",
    "var_e=model.resid.var()\n",
    "mu_f=X['Mkt-RF'].mean()\n",
    "print(f\"Alpha: {alpha}\")\n",
    "print(f\"Beta: {beta}\")\n",
    "print(f\"Variance of MSFT returns (var_r): {var_r}\")\n",
    "print(f\"Variance of market factor (var_f): {var_f}\")\n",
    "print(f\"Variance of residuals (var_e): {var_e}\")\n",
    "print(f\"Mean of market factor (mu_f): {mu_f}\")"
   ]
  },
  {
   "cell_type": "markdown",
   "id": "5e8c7a85",
   "metadata": {},
   "source": [
    ">#### Stop and Think\n",
    ">- What frequency are these parmeters? How to I make it comparable say with the annual risk-free rate?\n",
    "> - What does the alpha mean? How should you think about it? Do you think is informative about future MSFT alpha? Why? Why not?\n",
    "> - What about the variance terms? And the covariance terms? "
   ]
  },
  {
   "cell_type": "markdown",
   "id": "c2f71b30",
   "metadata": {},
   "source": [
    "Lets say we have 1 million dollar per month volatility (i.e. standard deviation) budget\n",
    "\n",
    "What that means? \n",
    "\n",
    "Means that the size of my position times the yearly volatility of my position must be less than 1 million dollars?\n",
    "\n",
    "> Why you might impose such a cap?\n",
    "\n",
    "How much o MSFT can I own?\n",
    "\n",
    "- If I invest one dollar in MSFT I get: $1*\\sqrt(var_r*252)$ standard deviation for 1 year\n",
    "- If I invest one dollar in MSFT I get: $1*\\sqrt(var_r*21)$ standard deviation for 1 month\n",
    "\n",
    "To get 1M per month I invest $\\frac{1M}{\\sqrt(var_r*21)}$\n",
    "\n"
   ]
  },
  {
   "cell_type": "code",
   "execution_count": 73,
   "id": "d2f38b0d",
   "metadata": {},
   "outputs": [
    {
     "data": {
      "text/plain": [
       "2.9723285858071415"
      ]
     },
     "execution_count": 73,
     "metadata": {},
     "output_type": "execute_result"
    }
   ],
   "source": [
    "x=1/(var_r*252)**0.5\n",
    "x"
   ]
  },
  {
   "cell_type": "markdown",
   "id": "646e34bc",
   "metadata": {},
   "source": [
    "> What does that mean? How many million dollars I can buy of the stock?\n",
    "\n",
    "What if the budget was for 1 month? How many would I be able to buy?\n",
    "\n",
    "\n",
    "1. What is your expected PnL in the end of the year?\n",
    "\n",
    "    - Here we will subtract you funding costs, which I will assume is also rf so it will be a wash\n",
    "\n",
    "$$x*(rf+\\beta*\\mu_f+\\alpha-rf)*252$$\n",
    "\n",
    "\n",
    "2. What is your Expected PnL after your market exposure is subtracted\n",
    "\n",
    "$$x*(\\alpha)*252$$"
   ]
  },
  {
   "cell_type": "code",
   "execution_count": 67,
   "id": "53120ffb",
   "metadata": {},
   "outputs": [
    {
     "name": "stdout",
     "output_type": "stream",
     "text": [
      "0.7686879316063537\n",
      "0.4596563249799126\n"
     ]
    }
   ],
   "source": [
    "\n",
    "print(x*(beta*mu_f+alpha)*252)\n",
    "print(x*(alpha)*252)"
   ]
  },
  {
   "cell_type": "markdown",
   "id": "b1f263cf",
   "metadata": {},
   "source": [
    "Now suppose you focus your edge--i.e. investing in MSFT but hedging the market risk\n",
    "\n",
    "1. How much of the market do I need to short per dollar invested in MSFT?\n",
    "\n",
    "you short exactly it's beta\n",
    "\n",
    "$$x_h=-\\beta$$\n",
    "\n",
    "So your portfolio is\n",
    "\n",
    "$$x*(stock:1,market:-\\beta)$$\n",
    "\n",
    "2. How many dollars in MSFT can I buy?\n",
    "\n",
    "$$\\frac{1M}{\\sqrt(var_e*252)}$$\n",
    "\n"
   ]
  },
  {
   "cell_type": "code",
   "execution_count": 64,
   "id": "d8a48665",
   "metadata": {},
   "outputs": [
    {
     "data": {
      "text/plain": [
       "3.8831665045807324"
      ]
     },
     "execution_count": 64,
     "metadata": {},
     "output_type": "execute_result"
    }
   ],
   "source": [
    "xe=1/(var_e*252)**0.5\n",
    "xe"
   ]
  },
  {
   "cell_type": "markdown",
   "id": "ec98b561",
   "metadata": {},
   "source": [
    "Why $var_e$ is the volatility of the hedge portfolio?\n",
    "\n",
    "Note that the hedged portfolio return is\n",
    "\n",
    "$$rh=re-\\beta*f=\\alpha+\\epsilon$$\n",
    "\n",
    "Note that the OLS regression implies $E[f\\epsilon]=0$\n",
    "\n",
    "The leftover risk is exactly orthogonal to the factor risk\n",
    "\n",
    "This what makes this the optimal hedge portfolio--> it hedges all the market risk!\n",
    "\n",
    "So it follows that\n",
    "\n",
    "$$Var(rh)=Var(\\alpha+\\epsilon)=Var(\\epsilon)$$"
   ]
  },
  {
   "cell_type": "markdown",
   "id": "661fca06",
   "metadata": {},
   "source": [
    "1. What is you expected \"factor-adjusted PnL\"?\n",
    "\n"
   ]
  },
  {
   "cell_type": "code",
   "execution_count": 74,
   "id": "e7c348fb",
   "metadata": {},
   "outputs": [
    {
     "data": {
      "text/plain": [
       "0.6005130298526444"
      ]
     },
     "execution_count": 74,
     "metadata": {},
     "output_type": "execute_result"
    }
   ],
   "source": [
    "xe*(alpha*252)"
   ]
  },
  {
   "cell_type": "markdown",
   "id": "05d70727",
   "metadata": {},
   "source": [
    "Some shops pay you for your full PnL but Impose constraints on how much factor risk you can have. For example they might impose a maximum 20% of your total risk in factor risk\n",
    "\n",
    "Are you better off hedging everything anyways? Or do you want to hedge just enough to be at 20%? \n",
    "\n",
    "\n",
    "How do you know how much to hedge? \n",
    "\n"
   ]
  },
  {
   "cell_type": "markdown",
   "id": "6934baae",
   "metadata": {},
   "source": [
    "**Tracking Portfolios**\n",
    "\n",
    "We also refer to it as \"hedging portfolios\" or \"mimicking portfolios\"\n",
    "\n",
    "Tracking portfolios are the portfolios that use a set of factors to track the returns on an asset.\n",
    "\n",
    "* It can be used as a way to construct hedges for corporations, hedges for trading strategies, or a way to define a benchmark for an active management.\n",
    "\n",
    "* It is used to construct what people in the industry calls \"portable alpha\", because it allows one to separate the alpha of a trading strategy's factor exposure\n",
    "\n",
    "* The idea of the tracking portoflio is to track the component of an asset return that can be obtained by investing in a simple traded factor. For now, this means the market portfolio\n",
    "\n",
    "How to do it?\n",
    "\n",
    "* For a given trading strategy, consider the following relation\n",
    "\n",
    "  $$r^e_i=\\alpha_i+\\beta_ir^{MKT}+\\epsilon_i, $$\n",
    "\n",
    "  with $var(\\epsilon_i)=\\sigma_e^2$\n",
    "\n",
    "* the $i^{th}$ Tracking portfolio is $\\beta_iW^{MKT}$, where $W^{MKT}$ is the vector of weights of the market portfolio.\n",
    "\n",
    "* or if one is trading directly on the total market portfolio as an asset, the tracking portfolio weight on the market portfolio asset is simply $\\beta_i$\n",
    "\n",
    ">- In our case above we say the tracking portfolio of the stock is $\\beta$ and the hedging portfolio -$\\beta$ on the market\n",
    ">-  \n"
   ]
  },
  {
   "cell_type": "code",
   "execution_count": null,
   "id": "9f7e3740",
   "metadata": {},
   "outputs": [
    {
     "data": {
      "image/png": "[encoded data removed]",
      "text/plain": [
       "<Figure size 432x288 with 1 Axes>"
      ]
     },
     "metadata": {},
     "output_type": "display_data"
    }
   ],
   "source": [
    "# Returns on the tracking portfolio\n",
    "\n",
    "Portfolio=df_eret\n",
    "MKT=df_factor['Mkt-RF']\n",
    "Tracking=MKT*beta\n",
    "\n",
    "plt.scatter(x=Portfolio,y=Portfolio)\n",
    "plt.scatter(x=Portfolio,y=Tracking)\n",
    "plt.show()"
   ]
  },
  {
   "cell_type": "markdown",
   "id": "6466a7e6",
   "metadata": {},
   "source": [
    "We see here the obvious fact that we cannot track at all variation in HML with the market portfolio so the capture very different risks"
   ]
  },
  {
   "cell_type": "markdown",
   "id": "fa977aaf",
   "metadata": {},
   "source": [
    "**Hedged portfolio**\n",
    "\n",
    "The Hedged strategy return (also called portable alpha) is \n",
    "\n",
    " $$r^{hedged}_i=r^e_i-\\beta_ir^{MKT}$$\n",
    "\n",
    " * This portfolio can be constructed simply by $W^i-\\beta^iW^{MKT}$, the weights of the trading strategy minus the tracking portfolio weights. \n",
    "  \n",
    " * The excess returns take out risk-free rate effects, and the hedged portfolio takes out market factor effects\n",
    "\n",
    "A few observations\n",
    "\n",
    "- The mean return of the hedged portfolio is just the time series alpha!\n",
    "\n",
    "- The volatility of the strategy is the vol of the residuals of the time series regression\n",
    "\n",
    "- If you run a regression on the market you will see that the hedged portfolios have $\\beta=0$, which is by construction. \n",
    "\n",
    "- This is the reason why sometimes people call these portfolios \"Pure Alpha\", or as Bridgwater calls it, \"Portable Alpha\"\n",
    "\n",
    "\n"
   ]
  },
  {
   "cell_type": "code",
   "execution_count": null,
   "id": "b002db10",
   "metadata": {},
   "outputs": [
    {
     "data": {
      "image/png": "[encoded data removed]",
      "text/plain": [
       "<Figure size 432x288 with 1 Axes>"
      ]
     },
     "metadata": {},
     "output_type": "display_data"
    },
    {
     "data": {
      "text/plain": [
       "<AxesSubplot:xlabel='Date'>"
      ]
     },
     "metadata": {},
     "output_type": "display_data"
    },
    {
     "data": {
      "image/png": "[encoded data removed]",
      "text/plain": [
       "<Figure size 432x288 with 1 Axes>"
      ]
     },
     "metadata": {},
     "output_type": "display_data"
    }
   ],
   "source": [
    "# Returns on the hedged portfolio\n",
    "Hedged=Portfolio-Tracking\n",
    "RF=df.RF\n",
    "plt.scatter(x=MKT,y=MKT)\n",
    "plt.scatter(x=MKT,y=Hedged)\n",
    "plt.show()\n",
    "(Hedged/100+RF/100+1).cumprod().plot(logy=True)\n"
   ]
  },
  {
   "cell_type": "markdown",
   "id": "aa57923b",
   "metadata": {},
   "source": [
    ">#### Insight\n",
    ">The average excess return on the hedged portfolio is the alpha of the unhedged portfolio!\n",
    ">Intuition: The hedged portfolio has mechanically zero beta (in-sample) so it's excess return is \"pure\" alpha"
   ]
  },
  {
   "cell_type": "code",
   "execution_count": null,
   "id": "da52f319",
   "metadata": {},
   "outputs": [
    {
     "name": "stdout",
     "output_type": "stream",
     "text": [
      "hedge portfolio excess returns\n",
      "2.7509763704390657\n",
      "alpha of unhedge portfolio\n",
      "2.7509763704390675\n"
     ]
    }
   ],
   "source": [
    "\n",
    "print('hedge portfolio excess returns')\n",
    "print(Hedged.mean()*12)\n",
    "print('alpha of unhedge portfolio')\n",
    "print(alpha*12)\n"
   ]
  },
  {
   "cell_type": "markdown",
   "id": "1b2ac908",
   "metadata": {},
   "source": [
    "## Variance Decomposition\n",
    "\n",
    "\n",
    "  \n",
    "\n",
    "\n",
    "\n",
    "\n"
   ]
  },
  {
   "cell_type": "markdown",
   "id": "70c7f87c",
   "metadata": {},
   "source": [
    "Factor models are essential to manage risk\n",
    "\n",
    "A pod shop mananager , a manager in a mutual fund in a large mutual fund company, a hedge fund trader in a large hedge fund,...all of those will typically have tight limits on the TOTAL risk of their portfolio, i.e. $var(r)$ but also on the factor component of their portfolio\n",
    "\n",
    "But even if you don't, and you are an active manager with freedom of trading, you still want to control quite carefully how much non-essential risks you are taking in your portfolio\n",
    "\n",
    "The decomposition here with single factor is really easy, but once you understand it, the multi-factor decomposition will be also easy to understand ( even it a little more involved)\n",
    "\n",
    "1. The total variance of your strategy/asset is\n",
    "\n",
    "$$Var(r^e)=Var(\\alpha +b*f+\\epsilon)=Var(b*f)+Var(\\epsilon)=b^2Var(f)+var(\\epsilon)$$\n",
    "\n",
    "We can see already the factor part $(b^2Var(f))$ and the idiosyncratic part $var(\\epsilon)$\n",
    "\n",
    "2. The fraction of factor risk in your portfolio is\n",
    "\n",
    "$$\\frac{b^2Var(f)}{Var(r^e)}$$\n",
    "\n",
    "You factor risk depends\n",
    "\n",
    "- on your factor beta--this might grow in a market turmoil for example\n",
    "- on the factor variance--also might grow when markets are choppy\n",
    "\n",
    "The factor risk-share also depend on the idio vol. During a market turmoil all vols tend to go up, but factor vols tend to go up more\n",
    "So both your total risk grows as the share of factor risk"
   ]
  },
  {
   "cell_type": "code",
   "execution_count": 79,
   "id": "a4ea2e15",
   "metadata": {},
   "outputs": [
    {
     "data": {
      "text/plain": [
       "0.4141025460425463"
      ]
     },
     "execution_count": 79,
     "metadata": {},
     "output_type": "execute_result"
    }
   ],
   "source": [
    "beta**2*var_f/var_r"
   ]
  },
  {
   "cell_type": "markdown",
   "id": "c5df4057",
   "metadata": {},
   "source": [
    "Suppose I want to get this to the 20% limit. What do I do?\n",
    "\n",
    "Lets say xh is your position on the market, then your portfolio is\n",
    "\n",
    "$$rp=x(1*re+xh*f)$$\n",
    "\n",
    "You want the factor piece to be less than vbar=20%\n",
    "\n",
    "$$Var(rp)=Var(x(1*re+xh*f))=Var(x(1*(\\alpha+\\beta*f+\\epsilon)+xh*f))=Var(x(\\beta+xh)*f)+x^2Var(\\epsilon)$$\n",
    "\n",
    "$$Var(rp)=x^2(\\beta+xh)^2*Var(f)+x^2Var(\\epsilon)$$\n",
    "\n",
    "so we need\n",
    "\n",
    "\n",
    "$$\\frac{x^2(\\beta+xh)^2*Var(f)}{x^2(\\beta+xh)^2*Var(f)+x^2Var(\\epsilon)}=vbar$$\n",
    "\n",
    "Note that your size of your overall portfolio cancels out. \n",
    "\n",
    "What matters for the share is your hedge per unit of position\n",
    "\n",
    "$$\\frac{(\\beta+xh)^2*Var(f)}{(\\beta+xh)^2*Var(f)+Var(\\epsilon)}=vbar$$\n",
    "\n",
    "reorganizing\n",
    "\n",
    "\n",
    "$$(\\beta+xh)^2*Var(f)=vbar*((\\beta+xh)^2*Var(f)+Var(\\epsilon))$$\n",
    "\n",
    "$$(1-vbar)(\\beta+xh)^2*Var(f)=vbar*Var(\\epsilon)$$\n",
    "\n",
    "$$(\\beta+xh)^2=\\frac{vbar*Var(\\epsilon)}{(1-vbar)Var(f)}$$\n",
    "\n",
    "$$(\\beta+xh)=\\sqrt{vbar\\frac{Var(\\epsilon)}{(1-vbar)Var(f)}}$$\n",
    "\n",
    "$$xh=\\sqrt{\\frac{vbar*Var(\\epsilon)}{(1-vbar)Var(f)}}-\\beta$$\n",
    "\n",
    "\n",
    "\n",
    "What is the hedge portfolio if you want zero factor risk?"
   ]
  },
  {
   "cell_type": "code",
   "execution_count": 80,
   "id": "6a4bc129",
   "metadata": {},
   "outputs": [
    {
     "data": {
      "text/plain": [
       "-0.4816910986685352"
      ]
     },
     "execution_count": 80,
     "metadata": {},
     "output_type": "execute_result"
    }
   ],
   "source": [
    "vbar=0.2\n",
    "xh20=((vbar*var_e)/((1-vbar)*var_f))**0.5-beta\n",
    "xh20"
   ]
  },
  {
   "cell_type": "markdown",
   "id": "92887b5f",
   "metadata": {},
   "source": [
    "## Factor models means you need to estimate LESS parameters\n",
    "\n",
    "\n",
    "\n",
    "We will see how we can compute covariance matrixes easily under the assumption that the factor captures most sources of co-movement across stocks\n",
    "\n",
    "In this case the assumption is very bad...and not even close to holding for most assets...but will allow us to get the intuition\n",
    "\n",
    "We will then learn how to do it with many factors as is standard in the industry\n",
    "\n",
    "\n",
    "Here I will use i,j for a individual stock\n",
    "\n",
    "\n",
    "$$r^{e,i}=\\alpha_i+\\beta_{i,f}f+\\epsilon_{i}$$\n",
    "\n",
    "- non-factor component $\\epsilon_i$ of the asset return of asset $i$. Assumed to uncorrelated between any two assets\n",
    "\n",
    "Now this is just a regression!\n",
    "\n",
    "We have that\n",
    "\n",
    "$$Var(r^{e,i})=\\beta_i^2Var(f)+var(\\epsilon_{i})$$\n",
    "\n",
    "\n",
    "This gives us a nice decomposition of risk as we saw above\n",
    "\n",
    "- the risk component that is driven by the common factor\n",
    "- the asset specific comment\n",
    "\n",
    "\n",
    "Now if our assumption holds,i.e. the non-factor risk is uncorrelated across assets\n",
    "\n",
    " $$cov(\\epsilon_{i,t},\\epsilon_{j,t})=0$$\n",
    "\n",
    "\n",
    ">#### This will never hold in any sample. It is an assumption that you impose after you think that you add enough factors to capture the  co-movement across assets\n",
    "Then \n",
    "\n",
    "$$Cov(r_t^{e,i},r_t^{e,j})=Cov(\\alpha_i+\\beta_{i}f_t+\\epsilon_{i,t},\\alpha_j+\\beta_{j}f_t+\\epsilon_{j,t})=\\beta_i\\beta_jVar(f_t)$$\n",
    "\n",
    "And the covariance matrix is simply\n",
    "\n",
    "\n",
    "$$\n",
    "\\left[\\begin{array}{cc}\n",
    "\\beta_i^2 & \\beta_i\\beta_j \\\\\n",
    "\\beta_i\\beta_j &  \\beta_j^2 \n",
    "\\end{array}\\right]var(f_t)+\\left[\\begin{array}{cc}\n",
    "var(\\epsilon_{i,t}) & 0 \\\\\n",
    "0&  var(\\epsilon_{j,t})\n",
    "\\end{array}\\right]$$\n",
    "\n",
    "We see that now for N assets we only need to estimate N factor exposures, N asset specific volatilities , and the factor volatility\n",
    "\n",
    ">$2N+1$ vs $(N^2-N)/2+N$\n",
    "\n",
    "\n",
    "That is a huge difference\n",
    "\n",
    "\n",
    "Suppose we have many assets, all respecting this factor model. Say $R_t^e$ is the big N by 1 vector of excess return $[r_{t}^{e,1},r_{t}^{e,2},...]$ for all these assets\n",
    "\n",
    "$$R_t^e=Bf_t+U_t$$\n",
    "\n",
    "where $B$ is also a N by 1 vector of exposures $[\\beta_1,\\beta_2,...\\beta_N]$  and $u_t$ is the N by 1 vector of shocks $[\\epsilon_1,\\epsilon_2,...]$\n",
    "\n",
    "\n",
    "Then their variance-covariance matrix is simply\n",
    "\n",
    "\n",
    "$$Var(R^e_t)=B @ B' Var(f_t)+ Var(U_t)$$\n",
    "\n",
    "- Armed with the variance covariance of assets we have the variance of any portfolio of these assets \n",
    "\n",
    "- To construct $Var(U_t)$ you can stack all the residuals of the individual regression in a dataframe and compute the variance\n",
    "- This will give you a vector S with N numbers, the you can use ``np.diag(S)`` to created a diagonal matrix with these variances in the diagonal\n",
    "\n",
    " \n",
    ">### Practice\n",
    "> - Choose a five  tickers you like plus SPY\n",
    "> - Estimate their unrestricted covariance matrix?\n",
    "> - estimate the single-factor model (single factor=SPY) implied covariance matrix?\n",
    "> - Can you compare the number of parameters you need to estimate in each case?\n",
    "> - Can you discuss if it such model is a good one in this case? \n"
   ]
  },
  {
   "cell_type": "markdown",
   "id": "d87be0b0",
   "metadata": {},
   "source": []
  }
 ],
 "metadata": {
  "kernelspec": {
   "display_name": "base",
   "language": "python",
   "name": "python3"
  },
  "language_info": {
   "codemirror_mode": {
    "name": "ipython",
    "version": 3
   },
   "file_extension": ".py",
   "mimetype": "text/x-python",
   "name": "python",
   "nbconvert_exporter": "python",
   "pygments_lexer": "ipython3",
   "version": "3.9.12"
  }
 },
 "nbformat": 4,
 "nbformat_minor": 5
}
