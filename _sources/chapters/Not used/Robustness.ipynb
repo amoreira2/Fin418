{
 "cells": [
  {
   "cell_type": "code",
   "execution_count": 2,
   "metadata": {
    "colab": {},
    "colab_type": "code",
    "id": "82IDb6GmdibW"
   },
   "outputs": [],
   "source": [
    "# First we start loading our favourite packages with the names we used to\n",
    "import numpy as np\n",
    "import pandas as pd\n",
    "%matplotlib inline\n",
    "import matplotlib.pyplot as plt\n",
    "# import regression package\n",
    "import statsmodels.api as sm"
   ]
  },
  {
   "cell_type": "markdown",
   "metadata": {},
   "source": [
    "# Robustness of Quantitative Strategies"
   ]
  },
  {
   "cell_type": "markdown",
   "metadata": {},
   "source": [
    "\n",
    "\n",
    "\n",
    "* The more complicated a trading strategy, the more the in sample results are often a poor guide to how things behave out of sample\n",
    "\n",
    "* Looking for large t-stats only partially guard against that because you will be searching for things that have high t-stats and you are bound to find high t-stat strategies **in sample** even if no true large alpha strategy exists.\n",
    "\n",
    "* the literature on the biases that the \"strategy discovery\" process creates is vast and growing\n",
    "\n",
    "**Literature**\n",
    "\n",
    "* [False (and Missed) Discoveries in Financial Economics](https://faculty.fuqua.duke.edu/~charvey/Research/Published_Papers/P143_False_and_missed_OL.pdf)\n",
    "\n",
    "* [Predicting Anomaly Performance with Politics, the Weather, Global Warming, Sunspots, and the Stars](http://rnm.simon.rochester.edu/research/PPiCToAPA.pdf) by Rober Novy Marx\n",
    "\n",
    "* [A comprehensive look at the empirical performance of equity premium prediction](https://academic.oup.com/rfs/article-abstract/21/4/1455/1565737)\n",
    "\n",
    "Inspecting whether your discovery is **TRUE** or just a statistical abnormality is science as much as it is art. \n",
    "\n",
    "Patterns that are so statistically reliable that everyone can easily detect are unlikely to stay for long unless it is compensation for true risk. \n",
    "\n",
    "So you are unlikely to find something that makes sense only based on the stats and you will need to use your **economic logic** to evaluate if you cna understand why the premium is as high as it is. We will discuss this less \"quantitative\" part of the process in the chapter Equilibrium Thinking.\n",
    "\n",
    "Here we will highlight the problem and discuss a few statistical techniques.\n",
    "\n",
    "Here are a few Twitter threads from people in the industry about this\n",
    "\n",
    "* [someone tells you they have a strategy with a Sharpe of S. What questions should you be asking about the strategy to verify that it's real?](https://twitter.com/macrocephalopod/status/1359810769433616384)\n",
    "\n",
    "* [overfiting](https://twitter.com/macrocephalopod/status/1362165448205295620?s=20)\n",
    "\n",
    "It has this really nice plot\n",
    "\n",
    "![outofsample](../../assets/plots/outofsample1.jpg)\n",
    "\n",
    "\n",
    "> What does it tell us?\n",
    "\n",
    "* [The dumbest strategy ever created](https://imarketsignals.com/2021/outperforming-the-sp-500-with-50-consensus-stock-holdings-of-40-large-hedge-funds/)\n",
    "\n",
    "* [We are always looking for patterns, be careful!](https://twitter.com/nope_its_lily/status/1368623837961621505)"
   ]
  },
  {
   "cell_type": "markdown",
   "metadata": {},
   "source": [
    "## The basic problem of overfitting\n",
    "\n",
    "Any sample estimate  is itself a random variable.  The uncertainty in these estimates may encourage us to:\n",
    "- Select signals that are pure noise with no real predictive power.\n",
    "- Select real signals but overweight their importance to the model.\n",
    "- Reject signals that are real but that did not show up in the sample.\n",
    "- Make inaccurate assessments of strategy quality and poor resource allocation.\u000b\n",
    "- When choosing model weights, implicitly and explicitly (through optimization) we assign weights that exaggerate the overfitting problem.\n",
    "- Weights tilt toward signals with the most error. Leading to bigger degradation in out-of-sample performance going forward.\n"
   ]
  },
  {
   "cell_type": "markdown",
   "metadata": {},
   "source": [
    "## Suggestions to guard against overfitting\n",
    "\n",
    "\n",
    "- Additional diagnostics\n",
    "- Robustness tests\n",
    "- Estimation/validation/Out of Sample analysis\n",
    "- Optimization?\n",
    "- Simulations? "
   ]
  },
  {
   "cell_type": "markdown",
   "metadata": {},
   "source": [
    "## Optimization makes it worse\n",
    "\n",
    "- It is a form of in-sample regression.  \n",
    "- Weights in model heavily determined by in-sample statistics, often the most extreme weights most likely to be off\n",
    "\n",
    "\n"
   ]
  },
  {
   "cell_type": "markdown",
   "metadata": {},
   "source": [
    "## Additional Diagnostics\n",
    "\n",
    "- Strategy Sharpe Ratio\n",
    "- Report t-stat of mean return\n",
    "- Alpha and t-stat of alpha\n",
    "- Confidence intervals around key results including SR\n",
    "- Strategy performance with small perturbations ( say change horizon, skip a month)\n",
    "- Cumulative return  and drawdown graphs\n",
    "    - where the performance is coming form? Is it steady? When it does poorly?\n",
    "- Report percentage of observations with +/- 3 std events\n",
    "- Remove “influential data points”: Calculate fraction of data points needed to halve estimated Sharpe ratio.\n",
    "- When comparing Strategies, always do it over the same sample period!\n",
    "\n",
    "\n"
   ]
  },
  {
   "cell_type": "markdown",
   "metadata": {},
   "source": [
    "### Confidence intervals/T-tests for Sharpe Ratios\n",
    "\n",
    "- If returns are normal\n",
    "\n",
    "$$\\sigma(SR)=\\sqrt{\\frac{1}{T-1}(1+SR^2/2)}$$\n",
    "\n",
    "where T is the sample size and SR is the estimated Sharpe Ratio\n",
    "\n",
    "> what are the 95% Confidence intervals?"
   ]
  },
  {
   "cell_type": "markdown",
   "metadata": {},
   "source": [
    "### Distribution sampling\n",
    "\n",
    "- Instead of assuming returns have a particular distribution we can sample from the realized distribution to obtain alternative realization of the world \n",
    "\n",
    "**Bootstrap**\n",
    "    - Draw from the data with replacement T times. This gives you a \"new sample\".\n",
    "    - Construct The sharpe ratio in this sample, save it\n",
    "    - Do that M times and compute the standard deviation of the SR across samples\n",
    "    - You can also directly look at the 5% worse realizations\n",
    "    - This give you the different SR that can be produced by the same truth\n",
    "\n",
    "\n"
   ]
  },
  {
   "cell_type": "markdown",
   "metadata": {},
   "source": [
    "### Adjusting for Discarded Signals\n",
    "\n",
    "- Often we look at many signals to find the one\n",
    "- This makes conventional thresholds for t-tests too small\n",
    "- There are many different adjustments for this\n",
    "\n",
    "Boferroni T-stats\n",
    "\n",
    "![Bonferroni Correction](../../assets/plots/bonferroni.jpg)\n",
    "\n",
    "\n",
    "- You go form 1.96 to 3 as you look at 20 signals instead of 1\n",
    "- It is a pretty conservative adjustment\n",
    "- Correction changes the most as you go from 1 to 5 signals\n",
    "\n"
   ]
  },
  {
   "cell_type": "markdown",
   "metadata": {},
   "source": [
    "### Robustifying your Backtests\n",
    "\n",
    "- Calculate out of sample Sharpe ratios: Have a hold-out sample not used in backtest to test out of sample performance. \n",
    "\n",
    "- Be careful to not use out of sample results for tunning and model choice\n",
    "\n",
    "- When tuning/model choice is needed it is useful to have\n",
    "\n",
    "    - Estimation\n",
    "    - Test sample\n",
    "    - Hold out sample\n",
    "\n",
    "\n",
    "- Add random noise to signals (some fraction of vol.) to slightly distort rankings and recompute Sharpe.\n",
    "- How robust are slight perturbations in the cross-sectional rankings?\n",
    "\n",
    "- Calculate the Sharpe ratio for a strategy that always eliminates the top 2% long and short positions (which are most likely error prone).\n",
    "\n",
    "- Keep track of your discarded ideas going forward\n",
    "\n",
    "- You need to calibrate your discovery process to be tough, but not too tough. Otherwise you will discard too many good signals.\n",
    "\n",
    "\n",
    "\n",
    "\n",
    "\n"
   ]
  },
  {
   "cell_type": "markdown",
   "metadata": {},
   "source": [
    "## Approaches for sample spliting\n",
    "\n",
    "- Rolling window estimation\n",
    "\n",
    "- Use odd months to estimate signals and even months to compute returns and test signals.  Repeat by switching odd and even months.  \n",
    "\n",
    "- Split sample in half, estimation and test sample\n",
    "\n",
    "- Split in three: estimation, test for model selection, hold-out sample\n",
    "\n",
    "Be very careful for information of the test sample to leak into the estimation.\n",
    "\n",
    "For example, your idea might be motivated by a few months where you know these firms did well. Be sure to check the results are not driving by this\n",
    "\n",
    "- If you use result of the test sample to choose a model parameter--evaluate in a third holdout sample\n"
   ]
  },
  {
   "cell_type": "markdown",
   "metadata": {},
   "source": [
    "**Aplication 1: optimal combitation of market and value strategies**\n",
    "\n",
    "Below is our full sample optimal portfolio\n",
    "\n",
    "We will split our sample into two halves:  \n",
    " 1. take all observations from odd months in even years and even months in odd years (i.e., if starting in 1980, this would look like:  01/1980, 03/1980, . . . , 11/1980, 02/1981, 04/1981, . . . 12/1981, 01/1982, 03/1982, . . .); and \n",
    " 2.  the opposite (take all observations from even months in even years and odd months in odd years).\n",
    "\n",
    "A nice thing to do in halves is that we can cross-validated  use first sample 1 as estiamtion sample and sample2 as test sample, and then invert\n",
    "\n",
    "If you have lot of data one migh split the data in 5 folds and do the estimation in one and test on the rest.\n"
   ]
  },
  {
   "cell_type": "code",
   "execution_count": 57,
   "metadata": {},
   "outputs": [
    {
     "name": "stdout",
     "output_type": "stream",
     "text": [
      "<class 'pandas.core.frame.DataFrame'>\n",
      "PeriodIndex: 1137 entries, 1926-07 to 2021-03\n",
      "Freq: M\n",
      "Data columns (total 4 columns):\n",
      " #   Column  Non-Null Count  Dtype  \n",
      "---  ------  --------------  -----  \n",
      " 0   Mkt-RF  1137 non-null   float64\n",
      " 1   SMB     1137 non-null   float64\n",
      " 2   HML     1137 non-null   float64\n",
      " 3   RF      1137 non-null   float64\n",
      "dtypes: float64(4)\n",
      "memory usage: 44.4 KB\n"
     ]
    }
   ],
   "source": [
    "# loading the data\n",
    "\n",
    "import pandas_datareader.data as web\n",
    "from datetime import datetime\n",
    "start = datetime(1926, 1, 1)\n",
    "ds = web.DataReader('F-F_Research_Data_Factors', 'famafrench',start=start)\n",
    "df=ds[0][:'2021-3']\n",
    "df.info()"
   ]
  },
  {
   "cell_type": "code",
   "execution_count": 4,
   "metadata": {},
   "outputs": [],
   "source": [
    "# lets define a function to calculate the Sharpe ratio  \n",
    "def SR(R,freq=12):\n",
    "    sr=R.mean()/R.std()*freq**0.5\n",
    "    return sr"
   ]
  },
  {
   "cell_type": "code",
   "execution_count": 6,
   "metadata": {},
   "outputs": [
    {
     "data": {
      "text/plain": [
       "0.49973547632746695"
      ]
     },
     "execution_count": 6,
     "metadata": {},
     "output_type": "execute_result"
    }
   ],
   "source": [
    "Assets=df[['Mkt-RF','HML']]\n",
    "Cov=Assets.cov()\n",
    "ER=Assets.mean()\n",
    "Vol_mkt=df['Mkt-RF'].std()\n",
    "X=ER@np.linalg.inv(Cov)\n",
    "# formula for unlevereaged portfolio vol\n",
    "vol_unlevered=(ER@np.linalg.inv(Cov)@ER)**0.5\n",
    "X_lev=X*(Vol_mkt/vol_unlevered)\n",
    "\n",
    "Returns= Assets @ X_lev\n",
    "SR(Returns)"
   ]
  },
  {
   "cell_type": "markdown",
   "metadata": {},
   "source": [
    "Can you construct the 95% Confidence interval for this Sharpe Ratio?\n",
    "\n",
    "- Formula based answer\n",
    "- Bootstrap based answer"
   ]
  },
  {
   "cell_type": "code",
   "execution_count": null,
   "metadata": {},
   "outputs": [],
   "source": []
  },
  {
   "cell_type": "markdown",
   "metadata": {},
   "source": [
    "Letss construct both samples by using a function that returns `True` if the number is odd and then apply this function to the months and years of our dataset."
   ]
  },
  {
   "cell_type": "code",
   "execution_count": 7,
   "metadata": {},
   "outputs": [],
   "source": [
    "# construct function that identifies if a number is odd\n",
    "def is_odd(num):\n",
    "    return num % 2 != 0\n",
    "\n",
    "# create a sample that selects the even years and odd months\n",
    "evenyear_oddmonth=(is_odd(df.index.year)==False) & (is_odd(df.index.month)==True)\n",
    "# create a sample that selects the odd years and even months\n",
    "oddyear_evenmonth=(is_odd(df.index.year)==True) & (is_odd(df.index.month)==False)\n",
    "# join the two samples\n",
    "sample1=evenyear_oddmonth | oddyear_evenmonth\n",
    "# creates the mirror sample\n",
    "sample2=~sample1"
   ]
  },
  {
   "cell_type": "markdown",
   "metadata": {},
   "source": [
    "Lets construct a function that takes the sample and returns the SR"
   ]
  },
  {
   "cell_type": "code",
   "execution_count": 68,
   "metadata": {},
   "outputs": [],
   "source": [
    "# function gets data and sample and returns the returns of the strategy \n",
    "def Strat_wgts(df):\n",
    "   \n",
    "    X=df.mean()@np.linalg.inv(df.cov())\n",
    "    vol_unlevered=(X@df.cov()@X)**0.5\n",
    "    vol_mkt=df['Mkt-RF'].std()\n",
    "    X_lev=X*(vol_mkt/vol_unlevered)\n",
    "    return X_lev"
   ]
  },
  {
   "cell_type": "code",
   "execution_count": 73,
   "metadata": {},
   "outputs": [
    {
     "data": {
      "text/plain": [
       "array([0.71684899, 0.8334495 ])"
      ]
     },
     "execution_count": 73,
     "metadata": {},
     "output_type": "execute_result"
    }
   ],
   "source": [
    "Strat_wgts(Assets[sample1])"
   ]
  },
  {
   "cell_type": "code",
   "execution_count": 74,
   "metadata": {},
   "outputs": [
    {
     "data": {
      "text/plain": [
       "Date\n",
       "1926-08    5.076258\n",
       "1926-10   -1.739176\n",
       "1926-12    1.836472\n",
       "1927-01    3.740850\n",
       "1927-03   -2.082113\n",
       "             ...   \n",
       "2020-08    2.994213\n",
       "2020-10    2.036777\n",
       "2020-12    2.060502\n",
       "2021-01    2.487178\n",
       "2021-03    8.367087\n",
       "Freq: M, Length: 569, dtype: float64"
      ]
     },
     "execution_count": 74,
     "metadata": {},
     "output_type": "execute_result"
    }
   ],
   "source": [
    "Strat_wgts(Assets[sample1])@Assets[~sample1].T"
   ]
  },
  {
   "cell_type": "code",
   "execution_count": 76,
   "metadata": {},
   "outputs": [
    {
     "name": "stdout",
     "output_type": "stream",
     "text": [
      "Optimal portfolio perfomance in sample 2 (estimation sample 1)\n",
      "0.5389590626921715\n",
      "Market perfomance in sample 2\n",
      "Mkt-RF    0.502805\n",
      "dtype: float64\n",
      "Optimal portfolio perfomance in sample 1 (estimation sample 2)\n",
      "0.452846286456286\n",
      "Market perfomance in sample 1\n",
      "Mkt-RF    0.38695\n",
      "dtype: float64\n"
     ]
    }
   ],
   "source": [
    "\n",
    "\n",
    "\n",
    "print('Optimal portfolio perfomance in sample 2 (estimation sample 1)')\n",
    "print(SR(Strat_wgts(Assets[sample1])@Assets[sample2].T))\n",
    "print('Market perfomance in sample 2')\n",
    "print(SR(df[['Mkt-RF']][sample2]))\n",
    "print('Optimal portfolio perfomance in sample 1 (estimation sample 2)')\n",
    "print(SR(Strat_wgts(Assets[sample2])@Assets[sample1].T))\n",
    "print('Market perfomance in sample 1')\n",
    "print(SR(df[['Mkt-RF']][sample1]))\n"
   ]
  },
  {
   "cell_type": "markdown",
   "metadata": {},
   "source": [
    "* What do we learn?\n",
    "\n",
    "Lets modify our function to include the estimation of the alpha relative to the market\n",
    "\n",
    "Lets wrap this in a function that computes this for us\n"
   ]
  },
  {
   "cell_type": "code",
   "execution_count": 77,
   "metadata": {},
   "outputs": [],
   "source": [
    "def Analysis(Returns,Market):\n",
    "    results=pd.Series([],index=[],dtype=float)\n",
    "    results.at['Strategy:SR']=SR(Returns)\n",
    "    results.at['Strategy:std']=Returns.std()*12**0.5\n",
    "    results.at['MKT:SR']=SR(Market)\n",
    "    results.at['MKT:std']=Market.std()*12**0.5\n",
    "    # now run the regression\n",
    "    x= sm.add_constant(Market)\n",
    "    regresult= sm.OLS(Returns,x).fit()\n",
    "    results.at['alpha']=regresult.params[0]\n",
    "    results.at['t(alpha)']=regresult.tvalues[0]\n",
    "    \n",
    "    return results\n"
   ]
  },
  {
   "cell_type": "code",
   "execution_count": 79,
   "metadata": {},
   "outputs": [
    {
     "name": "stdout",
     "output_type": "stream",
     "text": [
      "Results for  test sample 2 (estimation sample 1)\n",
      "Strategy:SR      0.538959\n",
      "Strategy:std    18.232429\n",
      "MKT:SR           0.502805\n",
      "MKT:std         18.066091\n",
      "alpha            0.168324\n",
      "t(alpha)         1.438795\n",
      "dtype: float64\n",
      "Results for  test sample 1 (estimation sample 2)\n",
      "Strategy:SR      0.452846\n",
      "Strategy:std    18.831038\n",
      "MKT:SR           0.386950\n",
      "MKT:std         18.989794\n",
      "alpha            0.153165\n",
      "t(alpha)         1.681847\n",
      "dtype: float64\n"
     ]
    }
   ],
   "source": [
    "print('Results for  test sample 2 (estimation sample 1)')\n",
    "print(Analysis(Strat_wgts(Assets[sample1])@Assets[sample2].T,Assets.loc[sample2,'Mkt-RF']))\n",
    "print('Results for  test sample 1 (estimation sample 2)')\n",
    "print(Analysis(Strat_wgts(Assets[sample2])@Assets[sample1].T,Assets.loc[sample1,'Mkt-RF']))"
   ]
  },
  {
   "cell_type": "markdown",
   "metadata": {},
   "source": [
    "* what do we learn?\n",
    "\n",
    "* What other diagnostics can you add to this function?\n",
    "\n",
    "* would it make sense to compute alpha with respect to the Fama-French 3 factor model--which includes HML as one of the factors?\n",
    "\n"
   ]
  },
  {
   "cell_type": "markdown",
   "metadata": {},
   "source": [
    "## Dradowns\n",
    "\n",
    "It is common to look at how lond are the periods where you are losing money on a strategy\n",
    "\n",
    "This might inform you how sticky your clients need to be. For example might inform how long the lockup in your fund might need to be\n",
    "\n",
    "This is also relevant for Hedge funds where hedge fund managers are compensated only when they go above the high-water mark\n",
    "\n",
    "or much more basically how long are going to be the painful periods where you are losing money"
   ]
  },
  {
   "cell_type": "code",
   "execution_count": 113,
   "metadata": {},
   "outputs": [
    {
     "data": {
      "text/plain": [
       "<AxesSubplot:xlabel='Date'>"
      ]
     },
     "execution_count": 113,
     "metadata": {},
     "output_type": "execute_result"
    },
    {
     "data": {
      "image/png": "[encoded data removed]",
      "text/plain": [
       "<Figure size 432x288 with 1 Axes>"
      ]
     },
     "metadata": {
      "needs_background": "light"
     },
     "output_type": "display_data"
    }
   ],
   "source": [
    "# start by cumulating the returns\n",
    "X=(Returns/100+1).cumprod()\n",
    "# computing the running max for each asset\n",
    "running_max = X.cummax()\n",
    "\n",
    "# Calculate the drawdown by comparing the running_max with the current value of the portfolio \n",
    "drawdown = (X - running_max)/running_max\n",
    "drawdown.plot()\n"
   ]
  },
  {
   "cell_type": "markdown",
   "metadata": {},
   "source": [
    "**Application 2: fine-tuning the look-back window**\n",
    "\n",
    "Now we will compare a variety of models to see which one works best outside of the test sample\n",
    "\n",
    "So we will have the estimation sample where we will estimate the different models-- which in this case will be strategies with different look-back windows\n",
    "\n",
    "What is a look-back window?\n",
    "\n",
    "- It is the window the we use to estimate our moments\n",
    "\n",
    "The trade-off here is:\n",
    "\n",
    " - If you make too short you just pick up noise\n",
    " - If you make too long the moments might not be that informative about future data\n",
    " - Particularly true in he case of volatility, but also true for correlations and expected returns\n",
    "- Particularly severe when dealing with individual assets and not characteristic-based strategies\n",
    " \n",
    " We will split the sample in two. \n",
    " \n",
    " - The first half will be estimation+test, \n",
    " \n",
    " - second half will be hold out\n",
    " \n",
    " "
   ]
  },
  {
   "cell_type": "code",
   "execution_count": 14,
   "metadata": {
    "tags": []
   },
   "outputs": [],
   "source": [
    "holdout_sample=df.index>df.iloc[int(np.floor(df.shape[0]/2))].name"
   ]
  },
  {
   "cell_type": "markdown",
   "metadata": {},
   "source": [
    "\n",
    "* We will now do the estimation fine-tuning. \n",
    "\n",
    "- Lets start by building a code that gets our desired window, do the estimation and construct the return series on the test sample\n"
   ]
  },
  {
   "cell_type": "code",
   "execution_count": 115,
   "metadata": {},
   "outputs": [
    {
     "data": {
      "text/html": [
       "<div>\n",
       "<style scoped>\n",
       "    .dataframe tbody tr th:only-of-type {\n",
       "        vertical-align: middle;\n",
       "    }\n",
       "\n",
       "    .dataframe tbody tr th {\n",
       "        vertical-align: top;\n",
       "    }\n",
       "\n",
       "    .dataframe thead th {\n",
       "        text-align: right;\n",
       "    }\n",
       "</style>\n",
       "<table border=\"1\" class=\"dataframe\">\n",
       "  <thead>\n",
       "    <tr style=\"text-align: right;\">\n",
       "      <th></th>\n",
       "      <th>Strategy</th>\n",
       "      <th>Mkt-RF</th>\n",
       "    </tr>\n",
       "    <tr>\n",
       "      <th>Date</th>\n",
       "      <th></th>\n",
       "      <th></th>\n",
       "    </tr>\n",
       "  </thead>\n",
       "  <tbody>\n",
       "    <tr>\n",
       "      <th>1926-07</th>\n",
       "      <td>NaN</td>\n",
       "      <td>NaN</td>\n",
       "    </tr>\n",
       "    <tr>\n",
       "      <th>1926-08</th>\n",
       "      <td>NaN</td>\n",
       "      <td>NaN</td>\n",
       "    </tr>\n",
       "    <tr>\n",
       "      <th>1926-09</th>\n",
       "      <td>NaN</td>\n",
       "      <td>NaN</td>\n",
       "    </tr>\n",
       "    <tr>\n",
       "      <th>1926-10</th>\n",
       "      <td>NaN</td>\n",
       "      <td>NaN</td>\n",
       "    </tr>\n",
       "    <tr>\n",
       "      <th>1926-11</th>\n",
       "      <td>NaN</td>\n",
       "      <td>NaN</td>\n",
       "    </tr>\n",
       "    <tr>\n",
       "      <th>...</th>\n",
       "      <td>...</td>\n",
       "      <td>...</td>\n",
       "    </tr>\n",
       "    <tr>\n",
       "      <th>1973-07</th>\n",
       "      <td>-9.186490</td>\n",
       "      <td>5.05</td>\n",
       "    </tr>\n",
       "    <tr>\n",
       "      <th>1973-08</th>\n",
       "      <td>3.179297</td>\n",
       "      <td>-3.82</td>\n",
       "    </tr>\n",
       "    <tr>\n",
       "      <th>1973-09</th>\n",
       "      <td>-0.359387</td>\n",
       "      <td>4.75</td>\n",
       "    </tr>\n",
       "    <tr>\n",
       "      <th>1973-10</th>\n",
       "      <td>2.913735</td>\n",
       "      <td>-0.83</td>\n",
       "    </tr>\n",
       "    <tr>\n",
       "      <th>1973-11</th>\n",
       "      <td>7.358294</td>\n",
       "      <td>-12.75</td>\n",
       "    </tr>\n",
       "  </tbody>\n",
       "</table>\n",
       "<p>569 rows × 2 columns</p>\n",
       "</div>"
      ],
      "text/plain": [
       "         Strategy  Mkt-RF\n",
       "Date                     \n",
       "1926-07       NaN     NaN\n",
       "1926-08       NaN     NaN\n",
       "1926-09       NaN     NaN\n",
       "1926-10       NaN     NaN\n",
       "1926-11       NaN     NaN\n",
       "...           ...     ...\n",
       "1973-07 -9.186490    5.05\n",
       "1973-08  3.179297   -3.82\n",
       "1973-09 -0.359387    4.75\n",
       "1973-10  2.913735   -0.83\n",
       "1973-11  7.358294  -12.75\n",
       "\n",
       "[569 rows x 2 columns]"
      ]
     },
     "execution_count": 115,
     "metadata": {},
     "output_type": "execute_result"
    }
   ],
   "source": [
    "\n",
    "\n",
    "window=36\n",
    "df1=Assets[~holdout_sample].copy()\n",
    "Returns=pd.DataFrame([],index=df1.index,dtype=float)\n",
    "# Use data that is not in the holdout sample to estimate the strategy\n",
    "\n",
    "# loop over the test sample\n",
    "for d in df1.index[window:]:\n",
    "    # select the first 36 months of the sample ( and then add one more month at the tail and drop the last month on the head each time we loop over the sample)\n",
    "    df_temp=df1[d-window:d-1].copy()\n",
    "    # construct optimal portfolio given these 36 months\n",
    "    X=Strat_wgts(df_temp)\n",
    "    # save the returns of the strategy and the market on the FOLLOWING month\n",
    "    # this month does NOT enter the estimation of the strategy\n",
    "    Returns.at[d,'Strategy']= df1.loc[d] @ X\n",
    "    Returns.at[d,'Mkt-RF']= df1.loc[d,'Mkt-RF']\n",
    "\n",
    "Returns\n"
   ]
  },
  {
   "cell_type": "markdown",
   "metadata": {},
   "source": [
    "- Note that we have no observations early on as we need at the 36 months to estimate and none in the second half, that is the sample that we will hold out\n",
    "\n"
   ]
  },
  {
   "cell_type": "code",
   "execution_count": 116,
   "metadata": {},
   "outputs": [
    {
     "data": {
      "text/plain": [
       "Strategy:SR      0.360352\n",
       "Strategy:std    22.322705\n",
       "MKT:SR           0.349431\n",
       "MKT:std         21.225423\n",
       "alpha            0.735406\n",
       "t(alpha)         2.632149\n",
       "dtype: float64"
      ]
     },
     "execution_count": 116,
     "metadata": {},
     "output_type": "execute_result"
    }
   ],
   "source": [
    "Returns=Returns.dropna()\n",
    "Analysis(Returns['Strategy'],Returns['Mkt-RF'])"
   ]
  },
  {
   "cell_type": "markdown",
   "metadata": {},
   "source": [
    "- Now that we have this code we can put in a function so we can evaluate for different lookbacks\n"
   ]
  },
  {
   "cell_type": "code",
   "execution_count": 117,
   "metadata": {
    "tags": []
   },
   "outputs": [],
   "source": [
    "def RollingEval(df,window):\n",
    "\n",
    "    Returns=pd.DataFrame([],index=df.index,dtype=float)\n",
    "    for d in df.index[window:]:\n",
    "        df_temp=df[d-window:d-1].copy()\n",
    "        X=Strat_wgts(df_temp)\n",
    "        Returns.at[d,'Strategy']= df.loc[d] @ X\n",
    "        Returns.at[d,'Mkt-RF']= df.loc[d,'Mkt-RF']\n",
    "    return Returns\n",
    "\n",
    "\n"
   ]
  },
  {
   "cell_type": "code",
   "execution_count": 118,
   "metadata": {},
   "outputs": [
    {
     "data": {
      "text/plain": [
       "Strategy:SR      0.360352\n",
       "Strategy:std    22.322705\n",
       "MKT:SR           0.349431\n",
       "MKT:std         21.225423\n",
       "alpha            0.735406\n",
       "t(alpha)         2.632149\n",
       "dtype: float64"
      ]
     },
     "execution_count": 118,
     "metadata": {},
     "output_type": "execute_result"
    },
    {
     "data": {
      "image/png": "[encoded data removed]",
      "text/plain": [
       "<Figure size 432x288 with 1 Axes>"
      ]
     },
     "metadata": {
      "needs_background": "light"
     },
     "output_type": "display_data"
    }
   ],
   "source": [
    "Returns=RollingEval(Assets[~holdout_sample],36)        \n",
    "Returns.plot()\n",
    "Returns=Returns.dropna()\n",
    "Analysis(Returns['Strategy'],Returns['Mkt-RF'])"
   ]
  },
  {
   "cell_type": "code",
   "execution_count": 121,
   "metadata": {},
   "outputs": [
    {
     "data": {
      "text/html": [
       "<div>\n",
       "<style scoped>\n",
       "    .dataframe tbody tr th:only-of-type {\n",
       "        vertical-align: middle;\n",
       "    }\n",
       "\n",
       "    .dataframe tbody tr th {\n",
       "        vertical-align: top;\n",
       "    }\n",
       "\n",
       "    .dataframe thead th {\n",
       "        text-align: right;\n",
       "    }\n",
       "</style>\n",
       "<table border=\"1\" class=\"dataframe\">\n",
       "  <thead>\n",
       "    <tr style=\"text-align: right;\">\n",
       "      <th></th>\n",
       "      <th>6</th>\n",
       "      <th>12</th>\n",
       "      <th>24</th>\n",
       "      <th>36</th>\n",
       "      <th>48</th>\n",
       "      <th>60</th>\n",
       "      <th>72</th>\n",
       "    </tr>\n",
       "  </thead>\n",
       "  <tbody>\n",
       "    <tr>\n",
       "      <th>Strategy:SR</th>\n",
       "      <td>0.339344</td>\n",
       "      <td>0.593013</td>\n",
       "      <td>0.388520</td>\n",
       "      <td>0.360352</td>\n",
       "      <td>0.398544</td>\n",
       "      <td>0.427686</td>\n",
       "      <td>0.353257</td>\n",
       "    </tr>\n",
       "    <tr>\n",
       "      <th>Strategy:std</th>\n",
       "      <td>35.943622</td>\n",
       "      <td>26.322347</td>\n",
       "      <td>23.458076</td>\n",
       "      <td>22.322705</td>\n",
       "      <td>21.383926</td>\n",
       "      <td>20.388704</td>\n",
       "      <td>18.834621</td>\n",
       "    </tr>\n",
       "    <tr>\n",
       "      <th>MKT:SR</th>\n",
       "      <td>0.401424</td>\n",
       "      <td>0.396024</td>\n",
       "      <td>0.375995</td>\n",
       "      <td>0.349431</td>\n",
       "      <td>0.395619</td>\n",
       "      <td>0.442285</td>\n",
       "      <td>0.599573</td>\n",
       "    </tr>\n",
       "    <tr>\n",
       "      <th>MKT:std</th>\n",
       "      <td>20.961079</td>\n",
       "      <td>21.050924</td>\n",
       "      <td>21.156650</td>\n",
       "      <td>21.225423</td>\n",
       "      <td>20.875654</td>\n",
       "      <td>20.531690</td>\n",
       "      <td>19.393674</td>\n",
       "    </tr>\n",
       "    <tr>\n",
       "      <th>alpha</th>\n",
       "      <td>1.085571</td>\n",
       "      <td>1.356543</td>\n",
       "      <td>0.792946</td>\n",
       "      <td>0.735406</td>\n",
       "      <td>0.789604</td>\n",
       "      <td>0.774403</td>\n",
       "      <td>0.473750</td>\n",
       "    </tr>\n",
       "    <tr>\n",
       "      <th>t(alpha)</th>\n",
       "      <td>2.467810</td>\n",
       "      <td>4.190904</td>\n",
       "      <td>2.717958</td>\n",
       "      <td>2.632149</td>\n",
       "      <td>2.916528</td>\n",
       "      <td>2.947537</td>\n",
       "      <td>1.919127</td>\n",
       "    </tr>\n",
       "  </tbody>\n",
       "</table>\n",
       "</div>"
      ],
      "text/plain": [
       "                     6          12         24         36         48  \\\n",
       "Strategy:SR    0.339344   0.593013   0.388520   0.360352   0.398544   \n",
       "Strategy:std  35.943622  26.322347  23.458076  22.322705  21.383926   \n",
       "MKT:SR         0.401424   0.396024   0.375995   0.349431   0.395619   \n",
       "MKT:std       20.961079  21.050924  21.156650  21.225423  20.875654   \n",
       "alpha          1.085571   1.356543   0.792946   0.735406   0.789604   \n",
       "t(alpha)       2.467810   4.190904   2.717958   2.632149   2.916528   \n",
       "\n",
       "                     60         72  \n",
       "Strategy:SR    0.427686   0.353257  \n",
       "Strategy:std  20.388704  18.834621  \n",
       "MKT:SR         0.442285   0.599573  \n",
       "MKT:std       20.531690  19.393674  \n",
       "alpha          0.774403   0.473750  \n",
       "t(alpha)       2.947537   1.919127  "
      ]
     },
     "execution_count": 121,
     "metadata": {},
     "output_type": "execute_result"
    }
   ],
   "source": [
    "\n",
    "windows=[6,12,24,36,48,60,72]\n",
    "results=pd.DataFrame([],index=[],columns=windows,dtype=float)\n",
    "for w in windows:\n",
    "    Returns=RollingEval(Assets[~holdout_sample],w) \n",
    "    Returns=Returns.dropna()\n",
    "    results.loc[:,w]=Analysis(Returns['Strategy'],Returns['Mkt-RF'])   \n",
    "    \n",
    "results"
   ]
  },
  {
   "cell_type": "markdown",
   "metadata": {},
   "source": [
    "- What else would you want to look at before peeking at the hold out sample?\n",
    "\n",
    "- Recall that once you look, you have to stop!\n",
    "\n",
    "- Is this pattern consistent with a better more reliable estimate of Expected returns? And Volatilities? And correlations?\n",
    "\n",
    "- How to figure out where the results are coming from?"
   ]
  },
  {
   "cell_type": "code",
   "execution_count": null,
   "metadata": {},
   "outputs": [],
   "source": []
  },
  {
   "cell_type": "code",
   "execution_count": 120,
   "metadata": {},
   "outputs": [],
   "source": [
    "# #hold out sample results\n",
    "#w=?\n",
    "# Returns=RollingEval(Assets[holdout_sample],w) \n",
    "# Returns=Returns.dropna()\n",
    "# Analysis(Returns['Strategy'],Returns['Mkt-RF'])   "
   ]
  },
  {
   "cell_type": "markdown",
   "metadata": {},
   "source": [
    "* So what do you conclude?\n",
    "\n",
    "   \n",
    "   "
   ]
  },
  {
   "cell_type": "markdown",
   "metadata": {},
   "source": [
    "## Publication bias (or Famous bias or incubation bias...)\n",
    "\n",
    "We discussed that we often look at past performance exactly because a strategy did well. This mechanism of selection renders our statistical analysis biased in the direction of findings that the strategy is amazing.\n",
    "\n",
    "It is often hard to deal with this because you need all the data of strategies that look like the one you are interested from the perspective of someone in the start of the reliant sample. That is hard.\n",
    "\n",
    "One way to deal with this is to use some hard metric of saliency. \n",
    "\n",
    "- For example, check when Bitcoin became popular and we did our analysis after that.\n",
    "\n",
    "- See when a fund manager became well known because of his/her performance. While google trends is only available after 2004 there is data from New York Times and Wall Street Journal that allows you to go back to the start of the **Last** century. ([for example, I use data like that that in this paper](http://www.google.com/url?q=http%3A%2F%2Fwww.sciencedirect.com%2Fscience%2Farticle%2Fpii%2FS0304405X16301751&sa=D&sntz=1&usg=AFQjCNFWO63SSQXSteNhgTI4oOhtmh0ZUQ))\n",
    "\n",
    "A setting where we can do this very cleanly is in the context of academic work. We know exactly when the paper was first published and what the sample that was used there\n",
    "\n",
    "A nice paper that investigates this for a bunch of strategies is [Does academic research destroy stock return predictability?](https://onlinelibrary.wiley.com/doi/pdf/10.1111/jofi.12365?casa_token=gSqvouNM61EAAAAA:JyTl4yxx9xTfKo8-VEBIE-4c4ha7kRFGvirWzEZRXhYw2AtueM3yzpRDcpcXgnsDdlvlXflKp1Nw_ss)\n",
    "\n",
    "**Application: Evaluating the publication bias in Fama French 1996, Multifactor Anomalies...**\n",
    "\n",
    "The original paper has the following table\n",
    "\n",
    "\n",
    "![outofsample](../../assets/plots/outofsample2.jpg)\n",
    "\n",
    "* You see here that the sample runs from 63 to 93. Back in 93 we didn't have digitalized accounting data that went back to the 30's\n",
    "\n",
    "* Looking at the very last row we see that the alpha of the HML withresepect to the market is enormous, 0.56% per month, and it has a negative beta with the market!\n",
    "\n",
    "* so now we will look at two different samples that the authors never looked before doing their study.\n",
    "\n",
    "    * The pre 63 sample\n",
    "    * the post 93. \n",
    "    \n",
    "    \n"
   ]
  },
  {
   "cell_type": "code",
   "execution_count": 169,
   "metadata": {
    "tags": []
   },
   "outputs": [],
   "source": [
    "sample1=df.index<df.loc['1963-7'].name\n",
    "sample2=df.index>df.loc['1993-12'].name\n",
    "sample3=((df.index>=df.loc['1963-7'].name) &(df.index<=df.loc['1993-12'].name))"
   ]
  },
  {
   "cell_type": "code",
   "execution_count": 179,
   "metadata": {},
   "outputs": [
    {
     "name": "stdout",
     "output_type": "stream",
     "text": [
      "Pre publication sample\n",
      "HML:SR               0.346962\n",
      "MKT:SR               0.457366\n",
      "alpha                0.113160\n",
      "beta                 0.371094\n",
      "t(alpha)             0.661317\n",
      "AR                   0.185219\n",
      "HML weight on MVE    0.342709\n",
      "dtype: float64\n",
      "Publication sample\n",
      "HML:SR               0.608203\n",
      "MKT:SR               0.325699\n",
      "alpha                0.542778\n",
      "beta                -0.207224\n",
      "t(alpha)             4.257801\n",
      "AR                   1.755981\n",
      "HML weight on MVE    0.696805\n",
      "dtype: float64\n",
      "Post publication sample\n",
      "HML:SR               0.079270\n",
      "MKT:SR               0.580553\n",
      "alpha                0.113256\n",
      "beta                -0.054502\n",
      "t(alpha)             0.637514\n",
      "AR                   0.201533\n",
      "HML weight on MVE    0.228248\n",
      "dtype: float64\n"
     ]
    }
   ],
   "source": [
    "def Strategy(df1,sample):\n",
    "    results=pd.Series([],index=[],dtype=float)\n",
    "    x= sm.add_constant(df1[sample]['Mkt-RF'])\n",
    "    y= df1[sample]['HML'].copy()\n",
    "    regresult= sm.OLS(y,x).fit()\n",
    "    results.at['HML:SR']=SR(y)\n",
    "    results.at['MKT:SR']=SR(df1[sample]['Mkt-RF'])\n",
    "    results.at['alpha']=regresult.params[0]\n",
    "    results.at['beta']=regresult.params[1]\n",
    "    results.at['t(alpha)']=regresult.tvalues[0]\n",
    "    results.at['AR']=regresult.tvalues[0]/regresult.resid.std()\n",
    "    W=df1[sample].mean()@np.linalg.inv(df1[sample].cov())\n",
    "    W=W/np.sum(W)\n",
    "    results.at['HML weight on MVE']=W[1]\n",
    "\n",
    "    return results\n",
    "print('Pre publication sample')\n",
    "print(Strategy(df[['Mkt-RF','HML']],sample1))\n",
    "print('Publication sample')\n",
    "print(Strategy(df[['Mkt-RF','HML']],sample3))\n",
    "print('Post publication sample')\n",
    "print(Strategy(df[['Mkt-RF','HML']],sample2))\n"
   ]
  },
  {
   "cell_type": "markdown",
   "metadata": {},
   "source": [
    "**what do we learn?**\n",
    "\n",
    "* In the Pre-publication sample HML has a respectable SR, but the asset is much more correlated with the market so it's betas with respect to the market leaves only a statistically insignifcant 0.37% per month, 1.2% per year.\n",
    "\n",
    "* Thus in the pre-sample the HML has a nice SR but the CAPM works so you would not have gained/lost too much of tilting your portfolio towards the HML strategy\n",
    "\n",
    "* In the post-publication sample the results are very ugly\n",
    "    - Sharpe ratio is now 0.08--compared with the 0.58 SR on the market\n",
    "    - the alpha is still about the same as in the pre-publication, but now the betas become negative\n",
    "    - the HML premium goes away almost completely\n",
    "    \n",
    "    \n",
    "To have a sense of the shift we can look at the risk-return trade-off of the market and HML across samples.\n",
    " \n",
    "* The optimal weight on HML shifts from 0.72 in the publication sample to 0.34 in the pre publication and 0.2 in the post publication\n",
    "\n",
    "* someone that jsut invested on the market would be actually be closer to the optimal portfolio than someone that invested 0.7 in HML\n",
    "\n",
    "**Does that mean it was data snooping?**\n",
    "\n",
    "We don't know. It is possible that the publication drove people to the strategies which made the resuls go away goign forward. This [paper](https://onlinelibrary.wiley.com/doi/pdf/10.1111/jofi.12365?casa_token=gSqvouNM61EAAAAA:JyTl4yxx9xTfKo8-VEBIE-4c4ha7kRFGvirWzEZRXhYw2AtueM3yzpRDcpcXgnsDdlvlXflKp1Nw_ss) I cited before argues that this is the case \n",
    "\n",
    "\n",
    "\n",
    " "
   ]
  }
 ],
 "metadata": {
  "colab": {
   "collapsed_sections": [],
   "name": "Notebook 8.ipynb",
   "provenance": []
  },
  "kernelspec": {
   "display_name": "Python 3",
   "language": "python",
   "name": "python3"
  },
  "language_info": {
   "codemirror_mode": {
    "name": "ipython",
    "version": 3
   },
   "file_extension": ".py",
   "mimetype": "text/x-python",
   "name": "python",
   "nbconvert_exporter": "python",
   "pygments_lexer": "ipython3",
   "version": "3.9.12"
  }
 },
 "nbformat": 4,
 "nbformat_minor": 4
}
