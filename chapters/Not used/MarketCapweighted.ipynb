{
 "cells": [
  {
   "cell_type": "code",
   "execution_count": null,
   "metadata": {},
   "outputs": [],
   "source": [
    "import pandas as pd\n",
    "import numpy as np\n",
    "import matplotlib.pyplot as plt\n",
    "%matplotlib inline\n",
    "\n"
   ]
  },
  {
   "cell_type": "markdown",
   "metadata": {},
   "source": [
    "## The Market-Cap Weighted strategy"
   ]
  },
  {
   "cell_type": "markdown",
   "metadata": {},
   "source": [
    "\n",
    "\n",
    "* most important quantitative strategy.\n",
    "\n",
    "* start with a vector of market capitalization for all relevant assets $M_t=[m_t^{AAPL},m_t^{GOOG},m_t^{TSLA},..]$ \n",
    "\n",
    "$$m_t^{AAPL}=P^{AAPL}_t\\times SharesOutstanding^{AAPL}$$\n",
    "\n",
    "The strategy then set the weights simply to \n",
    "\n",
    "$$X_t=\\frac{M_t}{\\sum_i^Im^i_t}$$\n",
    "\n",
    "So at end of month **t** you look at the market caps, construct the weights, and buy the assets with weights $X_t$ to earn\n",
    "\n",
    "$$R^{mcap}_{t+1}=X_tR_{t+1}$$\n",
    "\n",
    "at the end of the next month.\n",
    "\n",
    "This portfolio has nice properties\n",
    "\n",
    "\n",
    "1. This portfolio is very easy to trade. It does not require re-balancing as you weights naturally go up if the stock rallies and go down if the stock crashes\n",
    "  \n",
    "2. You can implement this approach to any subset of firms (for example SP500 or Russel2000) are market cap indexes that track a particular universe of stocks\n",
    "\n",
    "3. By buying proportionally to market cap you never have to build a huge position in a tiny stock\n",
    "\n",
    "1. IF implemented for ALL assets, the CAPM says that this portfolios should be MVE. In practice we never do across all assets, but it should at least be much closer to MVE  then a portfolio made of a just a few stocks\n",
    "\n",
    "Below we will construct the market portfolio for the US equity market.\n",
    "\n",
    "But we use this type of code to many trading strategies\n",
    "\n",
    "- for example, momentum investing amounts to make market cap weights on stocks that have been doing well (in terms of relative returns) in the last 12 month.\n",
    "\n",
    "**Steps**\n",
    "\n",
    "1. Get firm level monthly return data with market capitalizations\n",
    "2. clean up/organize the data set\n",
    "3. Make sure to lag the market cap signal so that we use prices from last month to trade at the start of this month ( we could also skip another month to be extra sure)\n",
    "4. Construct the weighted average of returns across stocks for each date"
   ]
  },
  {
   "cell_type": "markdown",
   "metadata": {},
   "source": [
    "**Download data from WRDS**\n",
    "\n",
    "You will be required to put your name and password if you have it\n"
   ]
  },
  {
   "cell_type": "markdown",
   "metadata": {},
   "source": [
    "**Organizing the data**\n",
    "\n",
    "The objective here is to have a data set with \n",
    "\n",
    "- Security identifier\n",
    "- Date of the information\n",
    "- Monthly return of the firm in that month\n",
    "- Market capitalization of the firm in that month\n",
    "\n",
    "**Note**\n",
    "\n",
    "In this data set negative price mean that there was not trade in the last trading day of the month of the particular stock. So the value is the negative of the mid point in these date\n",
    "\n",
    "price if no trade=$-\\frac{Ask+Bid}{2}$\n",
    "\n",
    "So we either drop those observations or simply take the absolute value, which is simply using the mid point to compute the market cap\n",
    "\n",
    "Using Mid point is completely fine here. It would be more problematic if that was determining the prices that we trade."
   ]
  },
  {
   "cell_type": "markdown",
   "metadata": {},
   "source": [
    "\n"
   ]
  },
  {
   "cell_type": "code",
   "execution_count": null,
   "metadata": {},
   "outputs": [],
   "source": [
    "#!pip install wrds"
   ]
  },
  {
   "cell_type": "code",
   "execution_count": null,
   "metadata": {},
   "outputs": [],
   "source": [
    "import datetime as dt\n",
    "import wrds\n",
    "import psycopg2 \n",
    "from dateutil.relativedelta import *\n",
    "from pandas.tseries.offsets import *\n",
    "###################\n",
    "# Connect to WRDS. #\n",
    "# You will be required to put your name and password if you have it\n",
    "###################\n",
    "conn=wrds.Connection() \n",
    "\n",
    "###################\n",
    "# This below dowloads from the server the data that we want #\n",
    "###################\n",
    "\n",
    "\n",
    "# crsp_m = conn.raw_sql(\n",
    "#     \"select a.permno, a.date, b.shrcd, b.exchcd, \"\n",
    "#     \"a.ret, a.shrout, a.prc, a.retx \"\n",
    "#     \"from crsp.msf as a \"\n",
    "#     \"left join crsp.msenames as b \"\n",
    "#     \"on a.permno=b.permno \"\n",
    "#     \"and b.namedt<=a.date \"\n",
    "#     \"and a.date<=b.nameendt \"\n",
    "#     \"where a.date between '01/01/2005' and '12/31/2020' \"\n",
    "#     \"and b.exchcd between 1 and 3 \"\n",
    "#     \"and b.shrcd between 10 and 11\",\n",
    "#     date_cols=['date']\n",
    "# )\n",
    "\n",
    "crsp_m = conn.raw_sql(\"\"\"\n",
    "                      select a.permno, a.date, b.shrcd, b.exchcd,\n",
    "                      a.ret, a.shrout, a.prc,a.retx\n",
    "                      from crsp.msf as a\n",
    "                      left join crsp.msenames as b\n",
    "                      on a.permno=b.permno\n",
    "                      and b.namedt<=a.date\n",
    "                      and a.date<=b.nameendt\n",
    "                      where a.date between '01/01/2005' and '12/31/2020'\n",
    "                      and b.exchcd between 1 and 3\n",
    "                      and b.shrcd between 10 and 11\n",
    "                      \"\"\", date_cols=['date']) \n",
    "\n",
    "\n",
    "# crsp_m = conn.raw_sql(\"\"\"\n",
    "#                       select a.permno, a.date, b.shrcd, b.exchcd,\n",
    "#                       a.ret, a.shrout, a.prc,a.retx\n",
    "#                       from crsp.msf as a\n",
    "#                       left join crsp.msenames as b\n",
    "#                       on a.permno=b.permno\n",
    "#                       and b.namedt<=a.date\n",
    "#                       and a.date<=b.nameendt\n",
    "#                       where a.date between '01/01/2005' and '12/31/2020'\n",
    "#                       and b.exchcd between 1 and 3\n",
    "#                       and b.shrcd between 10 and 11\n",
    "#                       \"\"\", date_cols=['date']) \n",
    "\n",
    "# this saves it\n",
    "#crsp_m.to_pickle('../../assets/data/crspm2005_2020.pkl')\n",
    "# variables downloaded\n",
    "\n",
    "# 1. Permno-- are unique indentifier to a security \n",
    "# (for exmaple a stock that has multiple types of stocks will have multiple permnos)\n",
    "\n",
    "# 2. shrco is the type of share: common share, ADR, ETF, ....\n",
    "# we will focus on common shares\n",
    "\n",
    "# 3. exchcd is the code of the exchange where the stock was originally listed\n",
    "# we will focus on stock listed in the 3 major stock exchanges ( basically the whole market)\n",
    "\n",
    "# 4. ret,retx, shrout,  prc, are the stock return, the stock return excluding dividends, number of shares outstanding, and price\n",
    "\n",
    "# 5. date is the trading date of the return\n",
    "\n"
   ]
  },
  {
   "cell_type": "markdown",
   "metadata": {},
   "source": [
    "____\n",
    "*If you don't want to deal with that you can simply get the data by running the code below*"
   ]
  },
  {
   "cell_type": "code",
   "execution_count": null,
   "metadata": {},
   "outputs": [],
   "source": [
    "\n",
    "crsp_m=pd.read_pickle('https://github.com/amoreira2/Fin418/blob/main/assets/data/crspm2005_2020.pkl?raw=true')"
   ]
  },
  {
   "cell_type": "code",
   "execution_count": null,
   "metadata": {},
   "outputs": [],
   "source": [
    "from pandas.tseries.offsets import *\n",
    "crsp=crsp_m[['permno','date','ret','shrout','prc']].copy()\n",
    "# change variable format to int\n",
    "crsp[['permno']]=crsp[['permno']].astype(int)\n",
    "# Line up date to be end of month \n",
    "crsp['date']=crsp['date']+MonthEnd(0)\n",
    "\n",
    "# calculate market equity\n",
    "# why do we use absolute value of price?\n",
    "crsp['me']=crsp['prc'].abs()*crsp['shrout'] \n",
    "# drop price and shareoustandng since we won't need it anymore\n",
    "crsp=crsp.drop(['prc','shrout'], axis=1)\n",
    "\n"
   ]
  },
  {
   "cell_type": "markdown",
   "metadata": {},
   "source": [
    "**Lagging the market cap signal**\n",
    "\n",
    "We use the method `.shift(d)` which \"lags\" the data by d periods.\n",
    "\n",
    "- tT is critical that we have our data set sorted by date\n",
    "\n",
    "\n",
    "`shift(d)` simply shifts the rows. So you have to make sure that it is actually lagging by date. \n",
    "\n",
    "The way to do that is to  `groupby` security and applying the shift within security.\n",
    "\n",
    ">Why this is important?\n",
    "\n",
    "Because the data set is stacked so when you shift the first month of security n, it will end up returning the last month of security n-1.\n",
    "\n",
    "By grouping by we simply assign a missing value there since we don't have the data"
   ]
  },
  {
   "cell_type": "code",
   "execution_count": null,
   "metadata": {},
   "outputs": [],
   "source": [
    "# sort by permno and date and set as index\n",
    "crsp=crsp.sort_values(by=['permno','date'])"
   ]
  },
  {
   "cell_type": "code",
   "execution_count": null,
   "metadata": {},
   "outputs": [],
   "source": [
    "# done incorrectly\n",
    "crsp['me_l1']=crsp.me.shift(1)\n",
    "crsp.iloc[250:280]\n",
    "# what is the problem  here?"
   ]
  },
  {
   "cell_type": "code",
   "execution_count": null,
   "metadata": {},
   "outputs": [],
   "source": [
    "\n",
    "crsp['me_l1']=crsp.groupby(['permno']).me.shift(1)\n",
    "crsp.iloc[250:280]\n",
    "# did it get fixed?"
   ]
  },
  {
   "cell_type": "code",
   "execution_count": null,
   "metadata": {},
   "outputs": [],
   "source": [
    "Rmkt=crsp.groupby(['date']).apply(lambda x:(x.ret*(x.me_l1/x.me_l1.sum())).sum())"
   ]
  },
  {
   "cell_type": "markdown",
   "metadata": {},
   "source": [
    "So in the code above `(x.me/x.me.sum())` is the weights, which for each date will return a vector that adds up to one. and of course `x.ret` is the vector of returns\n",
    "\n",
    "The code `(x.ret*(x.me/x.me.sum())` multiplies the return of each asset by the weight and then we sum if all up to get the reutrn of the portfolio\n",
    "\n",
    "```(x.ret*(x.me/x.me.sum())).sum()```\n",
    "\n",
    "The `groupby(['date'])` method groups the data by month so we obtain the return of the portfolio in that month\n",
    "\n"
   ]
  },
  {
   "cell_type": "code",
   "execution_count": null,
   "metadata": {},
   "outputs": [],
   "source": [
    "#Lets look at the cumulative returns\n",
    "((Rmkt+1).cumprod()-1).plot()"
   ]
  },
  {
   "cell_type": "markdown",
   "metadata": {},
   "source": [
    "**Things to try**\n",
    "\n",
    "- Download the market factor from Kenfrench website. How correlated is our replication with his factor? Do they have similar mean and volatility in the same sample?\n",
    "- Suppose you wanted to construct something \"like\" the SP500? I.e. do market cap weights but only form the 500 largest firms in a given month. How would you use groupby to do that?\n",
    "- Suppose you lag 2 months instead of 1 does it make any difference?\n",
    "- Suppose you drop the stocks with \"negative\" prices, does it make a difference?"
   ]
  }
 ],
 "metadata": {
  "colab": {
   "collapsed_sections": [],
   "provenance": []
  },
  "kernelspec": {
   "display_name": "Python 3 (ipykernel)",
   "language": "python",
   "name": "python3"
  },
  "language_info": {
   "codemirror_mode": {
    "name": "ipython",
    "version": 3
   },
   "file_extension": ".py",
   "mimetype": "text/x-python",
   "name": "python",
   "nbconvert_exporter": "python",
   "pygments_lexer": "ipython3",
   "version": "3.9.12"
  },
  "toc-autonumbering": true,
  "toc-showmarkdowntxt": false
 },
 "nbformat": 4,
 "nbformat_minor": 4
}
