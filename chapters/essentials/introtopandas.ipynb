{
 "cells": [
  {
   "cell_type": "markdown",
   "metadata": {},
   "source": [
    "# Pandas\n",
    "\n",
    "\n",
    "\n",
    "\n",
    "\n"
   ]
  },
  {
   "cell_type": "markdown",
   "metadata": {},
   "source": [
    "## Introduction to Pandas"
   ]
  },
  {
   "cell_type": "code",
   "execution_count": 38,
   "metadata": {},
   "outputs": [],
   "source": [
    "import pandas as pd\n",
    "\n",
    "# Don't worry about this line for now!\n",
    "%matplotlib inline"
   ]
  },
  {
   "cell_type": "markdown",
   "metadata": {},
   "source": [
    "\n",
    "\n",
    "This lecture begins the material on `pandas` which is the library that allows us to work with data\n",
    "\n",
    "To start, we will import the pandas package and give it the alias\n",
    "`pd`, which is conventional practice.\n",
    "\n",
    "There are two types of collections: Series, for a single variable, that is one columns with multiple rows, and a DataFrame, for multiple variables , that is multiple rows and columns"
   ]
  },
  {
   "cell_type": "markdown",
   "metadata": {},
   "source": [
    "### Series\n",
    "\n",
    "The first main pandas type we will introduce is called Series.\n",
    "\n",
    "A Series is a single column of data, with row labels for each\n",
    "observation.\n",
    "\n",
    "pandas refers to the row labels as the *index* of the Series.\n",
    "\n",
    "<img src=\"https://datascience.quantecon.org/_static/PandasSeries.png\" alt=\"PandasSeries.png\" style=\"\">\n",
    "\n",
    "  \n",
    "Below, we create a Series which contains the Google Stock price every\n",
    "other year starting in 2005. ( This is made up!)"
   ]
  },
  {
   "cell_type": "code",
   "execution_count": 8,
   "metadata": {
    "hide-output": false
   },
   "outputs": [],
   "source": [
    "# this creates a lsit with the stock prices of google from 2005 to 2015\n",
    "values = [5.6, 5.3, 4.3, 4.2, 5.8, 5.3, 4.6, 7.8, 9.1, 8., 5.7]\n",
    "# this creates a list with the years from 2005 to 2015\n",
    "years = list(range(2005, 2016, 1))\n",
    "# this creates a pandas series with the stock prices of google from 2005 to 2015\n",
    "\n",
    "Google = pd.Series(data=values, index=years, name=\"Google Stock Price\")\n",
    "\n",
    "# lets see what it looks like\n",
    "Google"
   ]
  },
  {
   "cell_type": "markdown",
   "metadata": {},
   "source": [
    "We can look at the index and values in our Series."
   ]
  },
  {
   "cell_type": "code",
   "execution_count": 5,
   "metadata": {
    "hide-output": false
   },
   "outputs": [
    {
     "data": {
      "text/plain": [
       "Int64Index([1995, 1997, 1999, 2001, 2003, 2005, 2007, 2009, 2011, 2013, 2015], dtype='int64')"
      ]
     },
     "execution_count": 5,
     "metadata": {},
     "output_type": "execute_result"
    }
   ],
   "source": [
    "Google.index"
   ]
  },
  {
   "cell_type": "code",
   "execution_count": 6,
   "metadata": {
    "hide-output": false
   },
   "outputs": [
    {
     "data": {
      "text/plain": [
       "array([5.6, 5.3, 4.3, 4.2, 5.8, 5.3, 4.6, 7.8, 9.1, 8. , 5.7])"
      ]
     },
     "execution_count": 6,
     "metadata": {},
     "output_type": "execute_result"
    }
   ],
   "source": [
    "Google.values"
   ]
  },
  {
   "cell_type": "markdown",
   "metadata": {},
   "source": [
    "#### What Can We Do with a Series object?"
   ]
  },
  {
   "cell_type": "markdown",
   "metadata": {},
   "source": [
    "`.head` and `.tail`\n",
    "\n",
    "Often, our data will have many rows, and we won’t want to display it all\n",
    "at once.\n",
    "\n",
    "The methods `.head` and `.tail` show rows at the beginning and end\n",
    "of our Series, respectively."
   ]
  },
  {
   "cell_type": "code",
   "execution_count": 7,
   "metadata": {
    "hide-output": false
   },
   "outputs": [
    {
     "data": {
      "text/plain": [
       "1995    5.6\n",
       "1997    5.3\n",
       "1999    4.3\n",
       "2001    4.2\n",
       "2003    5.8\n",
       "Name: Unemployment, dtype: float64"
      ]
     },
     "execution_count": 7,
     "metadata": {},
     "output_type": "execute_result"
    }
   ],
   "source": [
    "Google.head()"
   ]
  },
  {
   "cell_type": "code",
   "execution_count": 8,
   "metadata": {
    "hide-output": false
   },
   "outputs": [
    {
     "data": {
      "text/plain": [
       "2007    4.6\n",
       "2009    7.8\n",
       "2011    9.1\n",
       "2013    8.0\n",
       "2015    5.7\n",
       "Name: Unemployment, dtype: float64"
      ]
     },
     "execution_count": 8,
     "metadata": {},
     "output_type": "execute_result"
    }
   ],
   "source": [
    "Google.tail()"
   ]
  },
  {
   "cell_type": "markdown",
   "metadata": {},
   "source": [
    "#### Basic Plotting\n",
    "\n",
    "We can also plot data using the `.plot` method."
   ]
  },
  {
   "cell_type": "code",
   "execution_count": 9,
   "metadata": {
    "hide-output": false
   },
   "outputs": [
    {
     "data": {
      "text/plain": [
       "<AxesSubplot:>"
      ]
     },
     "execution_count": 9,
     "metadata": {},
     "output_type": "execute_result"
    },
    {
     "data": {
      "image/png": "[encoded data removed]",
      "text/plain": [
       "<Figure size 432x288 with 1 Axes>"
      ]
     },
     "metadata": {
      "needs_background": "light"
     },
     "output_type": "display_data"
    }
   ],
   "source": [
    "Google.plot()"
   ]
  },
  {
   "cell_type": "markdown",
   "metadata": {},
   "source": [
    ">**Note**\n",
    ">\n",
    ">This is why we needed the `%matplotlib inline` — it tells the notebook\n",
    "to display figures inside the notebook itself. Also, pandas has much greater visualization functionality than this, but we will study that later on."
   ]
  },
  {
   "cell_type": "markdown",
   "metadata": {},
   "source": [
    "#### Indexing\n",
    "\n",
    "Sometimes, we will want to select particular elements from a Series.\n",
    "\n",
    "We can do this using `.loc[index_items]`; where `index_items` is\n",
    "an item from the index, or a list of items in the index.\n",
    "\n",
    "We will see this more in-depth in a coming lecture, but for now, we\n",
    "demonstrate how to select one or multiple elements of the Series."
   ]
  },
  {
   "cell_type": "code",
   "execution_count": 23,
   "metadata": {
    "hide-output": false
   },
   "outputs": [
    {
     "data": {
      "text/plain": [
       "4.3"
      ]
     },
     "execution_count": 23,
     "metadata": {},
     "output_type": "execute_result"
    }
   ],
   "source": [
    "Google.loc[2007]"
   ]
  },
  {
   "cell_type": "code",
   "execution_count": 24,
   "metadata": {
    "hide-output": false
   },
   "outputs": [
    {
     "data": {
      "text/plain": [
       "2008    4.2\n",
       "2010    5.3\n",
       "2015    5.7\n",
       "Name: Google Stock Price, dtype: float64"
      ]
     },
     "execution_count": 24,
     "metadata": {},
     "output_type": "execute_result"
    }
   ],
   "source": [
    "Google.loc[[2008, 2010, 2015]]"
   ]
  },
  {
   "cell_type": "markdown",
   "metadata": {},
   "source": [
    "### DataFrame\n",
    "\n",
    "A DataFrame is how pandas stores one or more columns of data.\n",
    "\n",
    "We can think a DataFrames a multiple Series stacked side by side as\n",
    "columns.\n",
    "\n",
    "This is similar to a sheet in an Excel workbook or a table in a SQL\n",
    "database.\n",
    "\n",
    "In addition to row labels (an index), DataFrames also have column labels.\n",
    "\n",
    "We refer to these column labels as the columns or column names.\n",
    "\n",
    "<img src=\"https://datascience.quantecon.org/_static/PandasDataFrame.png\" alt=\"PandasDataFrame.png\" style=\"\">\n",
    "\n",
    "  \n",
    "Below, we create a DataFrame that contains the Stock price in the end of each year starting in 2005 for a few US tech stocks.\n",
    "\n",
    "(This is made up)\n",
    "\n"
   ]
  },
  {
   "cell_type": "code",
   "execution_count": 22,
   "metadata": {
    "hide-output": false
   },
   "outputs": [
    {
     "data": {
      "text/html": [
       "<div>\n",
       "<style scoped>\n",
       "    .dataframe tbody tr th:only-of-type {\n",
       "        vertical-align: middle;\n",
       "    }\n",
       "\n",
       "    .dataframe tbody tr th {\n",
       "        vertical-align: top;\n",
       "    }\n",
       "\n",
       "    .dataframe thead th {\n",
       "        text-align: right;\n",
       "    }\n",
       "</style>\n",
       "<table border=\"1\" class=\"dataframe\">\n",
       "  <thead>\n",
       "    <tr style=\"text-align: right;\">\n",
       "      <th></th>\n",
       "      <th>Amazon</th>\n",
       "      <th>Microsoft</th>\n",
       "      <th>Google</th>\n",
       "      <th>Facebook</th>\n",
       "      <th>Apple</th>\n",
       "    </tr>\n",
       "  </thead>\n",
       "  <tbody>\n",
       "    <tr>\n",
       "      <th>2005</th>\n",
       "      <td>5.9</td>\n",
       "      <td>4.5</td>\n",
       "      <td>5.3</td>\n",
       "      <td>6.6</td>\n",
       "      <td>5.6</td>\n",
       "    </tr>\n",
       "    <tr>\n",
       "      <th>2006</th>\n",
       "      <td>5.6</td>\n",
       "      <td>4.3</td>\n",
       "      <td>5.2</td>\n",
       "      <td>6.0</td>\n",
       "      <td>5.3</td>\n",
       "    </tr>\n",
       "    <tr>\n",
       "      <th>2007</th>\n",
       "      <td>4.4</td>\n",
       "      <td>3.6</td>\n",
       "      <td>4.2</td>\n",
       "      <td>5.2</td>\n",
       "      <td>4.3</td>\n",
       "    </tr>\n",
       "    <tr>\n",
       "      <th>2008</th>\n",
       "      <td>3.8</td>\n",
       "      <td>4.0</td>\n",
       "      <td>4.0</td>\n",
       "      <td>4.6</td>\n",
       "      <td>4.2</td>\n",
       "    </tr>\n",
       "    <tr>\n",
       "      <th>2009</th>\n",
       "      <td>5.8</td>\n",
       "      <td>5.7</td>\n",
       "      <td>5.7</td>\n",
       "      <td>6.5</td>\n",
       "      <td>5.8</td>\n",
       "    </tr>\n",
       "    <tr>\n",
       "      <th>2010</th>\n",
       "      <td>4.9</td>\n",
       "      <td>5.7</td>\n",
       "      <td>5.2</td>\n",
       "      <td>5.5</td>\n",
       "      <td>5.3</td>\n",
       "    </tr>\n",
       "    <tr>\n",
       "      <th>2011</th>\n",
       "      <td>4.3</td>\n",
       "      <td>4.9</td>\n",
       "      <td>4.3</td>\n",
       "      <td>4.5</td>\n",
       "      <td>4.6</td>\n",
       "    </tr>\n",
       "    <tr>\n",
       "      <th>2012</th>\n",
       "      <td>7.1</td>\n",
       "      <td>8.1</td>\n",
       "      <td>7.6</td>\n",
       "      <td>8.6</td>\n",
       "      <td>7.8</td>\n",
       "    </tr>\n",
       "    <tr>\n",
       "      <th>2013</th>\n",
       "      <td>8.3</td>\n",
       "      <td>8.7</td>\n",
       "      <td>9.1</td>\n",
       "      <td>10.7</td>\n",
       "      <td>9.1</td>\n",
       "    </tr>\n",
       "    <tr>\n",
       "      <th>2014</th>\n",
       "      <td>7.9</td>\n",
       "      <td>7.4</td>\n",
       "      <td>7.4</td>\n",
       "      <td>8.5</td>\n",
       "      <td>8.0</td>\n",
       "    </tr>\n",
       "    <tr>\n",
       "      <th>2015</th>\n",
       "      <td>5.7</td>\n",
       "      <td>5.1</td>\n",
       "      <td>5.5</td>\n",
       "      <td>6.1</td>\n",
       "      <td>5.7</td>\n",
       "    </tr>\n",
       "  </tbody>\n",
       "</table>\n",
       "</div>"
      ],
      "text/plain": [
       "      Amazon  Microsoft  Google  Facebook  Apple\n",
       "2005     5.9        4.5     5.3       6.6    5.6\n",
       "2006     5.6        4.3     5.2       6.0    5.3\n",
       "2007     4.4        3.6     4.2       5.2    4.3\n",
       "2008     3.8        4.0     4.0       4.6    4.2\n",
       "2009     5.8        5.7     5.7       6.5    5.8\n",
       "2010     4.9        5.7     5.2       5.5    5.3\n",
       "2011     4.3        4.9     4.3       4.5    4.6\n",
       "2012     7.1        8.1     7.6       8.6    7.8\n",
       "2013     8.3        8.7     9.1      10.7    9.1\n",
       "2014     7.9        7.4     7.4       8.5    8.0\n",
       "2015     5.7        5.1     5.5       6.1    5.7"
      ]
     },
     "execution_count": 22,
     "metadata": {},
     "output_type": "execute_result"
    }
   ],
   "source": [
    "# create dictionary with stock prices of google, apple, amazon, microsoft, and facebook\n",
    "#\n",
    "data = {\n",
    "    \"Amazon\": [5.9,  5.6,  4.4,  3.8,  5.8,  4.9,  4.3,  7.1,  8.3,  7.9,  5.7],\n",
    "    \"Microsoft\": [4.5,  4.3,  3.6,  4. ,  5.7,  5.7,  4.9,  8.1,  8.7,  7.4,  5.1],\n",
    "    \"Google\": [5.3,  5.2,  4.2,  4. ,  5.7,  5.2,  4.3,  7.6,  9.1,  7.4,  5.5],\n",
    "    \"Facebook\": [6.6, 6., 5.2, 4.6, 6.5, 5.5, 4.5, 8.6, 10.7, 8.5, 6.1],\n",
    "    \"Apple\": [5.6, 5.3, 4.3, 4.2, 5.8, 5.3, 4.6, 7.8, 9.1, 8., 5.7]\n",
    "}\n",
    "\n",
    "# create a pandas dataframe with the stock prices of google, apple, amazon, microsoft, and facebook\n",
    "stock_prices = pd.DataFrame(data, index=years)\n",
    "stock_prices"
   ]
  },
  {
   "cell_type": "markdown",
   "metadata": {},
   "source": [
    "This is one way to create a dataframe\n",
    "\n",
    "We can retrieve the index and the DataFrame values as we\n",
    "did with a Series."
   ]
  },
  {
   "cell_type": "code",
   "execution_count": 17,
   "metadata": {
    "hide-output": false
   },
   "outputs": [
    {
     "data": {
      "text/plain": [
       "Int64Index([2005, 2006, 2007, 2008, 2009, 2010, 2011, 2012, 2013, 2014, 2015], dtype='int64')"
      ]
     },
     "execution_count": 17,
     "metadata": {},
     "output_type": "execute_result"
    }
   ],
   "source": [
    "stock_prices.index"
   ]
  },
  {
   "cell_type": "code",
   "execution_count": 18,
   "metadata": {
    "hide-output": false
   },
   "outputs": [
    {
     "data": {
      "text/plain": [
       "array([[ 5.9,  4.5,  5.3,  6.6,  5.6],\n",
       "       [ 5.6,  4.3,  5.2,  6. ,  5.3],\n",
       "       [ 4.4,  3.6,  4.2,  5.2,  4.3],\n",
       "       [ 3.8,  4. ,  4. ,  4.6,  4.2],\n",
       "       [ 5.8,  5.7,  5.7,  6.5,  5.8],\n",
       "       [ 4.9,  5.7,  5.2,  5.5,  5.3],\n",
       "       [ 4.3,  4.9,  4.3,  4.5,  4.6],\n",
       "       [ 7.1,  8.1,  7.6,  8.6,  7.8],\n",
       "       [ 8.3,  8.7,  9.1, 10.7,  9.1],\n",
       "       [ 7.9,  7.4,  7.4,  8.5,  8. ],\n",
       "       [ 5.7,  5.1,  5.5,  6.1,  5.7]])"
      ]
     },
     "execution_count": 18,
     "metadata": {},
     "output_type": "execute_result"
    }
   ],
   "source": [
    "stock_prices.values"
   ]
  },
  {
   "cell_type": "markdown",
   "metadata": {},
   "source": [
    "**What Can We Do with a DataFrame?**\n",
    "\n",
    "A lot stuff!\n",
    "\n",
    "This will be the main way we will work with data in Python"
   ]
  },
  {
   "cell_type": "markdown",
   "metadata": {},
   "source": [
    "#### `.head` and `.tail`\n",
    "\n",
    "As with Series, we can use `.head` and `.tail` to show only the\n",
    "first or last `n` rows."
   ]
  },
  {
   "cell_type": "code",
   "execution_count": 19,
   "metadata": {
    "hide-output": false
   },
   "outputs": [
    {
     "data": {
      "text/html": [
       "<div>\n",
       "<style scoped>\n",
       "    .dataframe tbody tr th:only-of-type {\n",
       "        vertical-align: middle;\n",
       "    }\n",
       "\n",
       "    .dataframe tbody tr th {\n",
       "        vertical-align: top;\n",
       "    }\n",
       "\n",
       "    .dataframe thead th {\n",
       "        text-align: right;\n",
       "    }\n",
       "</style>\n",
       "<table border=\"1\" class=\"dataframe\">\n",
       "  <thead>\n",
       "    <tr style=\"text-align: right;\">\n",
       "      <th></th>\n",
       "      <th>Amazon</th>\n",
       "      <th>Microsoft</th>\n",
       "      <th>Google</th>\n",
       "      <th>Facebook</th>\n",
       "      <th>Apple</th>\n",
       "    </tr>\n",
       "  </thead>\n",
       "  <tbody>\n",
       "    <tr>\n",
       "      <th>2005</th>\n",
       "      <td>5.9</td>\n",
       "      <td>4.5</td>\n",
       "      <td>5.3</td>\n",
       "      <td>6.6</td>\n",
       "      <td>5.6</td>\n",
       "    </tr>\n",
       "    <tr>\n",
       "      <th>2006</th>\n",
       "      <td>5.6</td>\n",
       "      <td>4.3</td>\n",
       "      <td>5.2</td>\n",
       "      <td>6.0</td>\n",
       "      <td>5.3</td>\n",
       "    </tr>\n",
       "    <tr>\n",
       "      <th>2007</th>\n",
       "      <td>4.4</td>\n",
       "      <td>3.6</td>\n",
       "      <td>4.2</td>\n",
       "      <td>5.2</td>\n",
       "      <td>4.3</td>\n",
       "    </tr>\n",
       "    <tr>\n",
       "      <th>2008</th>\n",
       "      <td>3.8</td>\n",
       "      <td>4.0</td>\n",
       "      <td>4.0</td>\n",
       "      <td>4.6</td>\n",
       "      <td>4.2</td>\n",
       "    </tr>\n",
       "    <tr>\n",
       "      <th>2009</th>\n",
       "      <td>5.8</td>\n",
       "      <td>5.7</td>\n",
       "      <td>5.7</td>\n",
       "      <td>6.5</td>\n",
       "      <td>5.8</td>\n",
       "    </tr>\n",
       "  </tbody>\n",
       "</table>\n",
       "</div>"
      ],
      "text/plain": [
       "      Amazon  Microsoft  Google  Facebook  Apple\n",
       "2005     5.9        4.5     5.3       6.6    5.6\n",
       "2006     5.6        4.3     5.2       6.0    5.3\n",
       "2007     4.4        3.6     4.2       5.2    4.3\n",
       "2008     3.8        4.0     4.0       4.6    4.2\n",
       "2009     5.8        5.7     5.7       6.5    5.8"
      ]
     },
     "execution_count": 19,
     "metadata": {},
     "output_type": "execute_result"
    }
   ],
   "source": [
    "stock_prices.head()"
   ]
  },
  {
   "cell_type": "markdown",
   "metadata": {},
   "source": [
    "### Plotting\n",
    "\n",
    "We can generate plots with the `.plot` method.\n",
    "\n",
    "Notice we now have a separate line for each column of data."
   ]
  },
  {
   "cell_type": "code",
   "execution_count": 21,
   "metadata": {
    "hide-output": false
   },
   "outputs": [
    {
     "data": {
      "text/plain": [
       "<AxesSubplot:>"
      ]
     },
     "execution_count": 21,
     "metadata": {},
     "output_type": "execute_result"
    },
    {
     "data": {
      "image/png": "[encoded data removed]",
      "text/plain": [
       "<Figure size 432x288 with 1 Axes>"
      ]
     },
     "metadata": {
      "needs_background": "light"
     },
     "output_type": "display_data"
    }
   ],
   "source": [
    "stock_prices.plot()"
   ]
  },
  {
   "cell_type": "markdown",
   "metadata": {},
   "source": [
    "### Indexing\n",
    "\n",
    "We can also do indexing using `.loc`.\n",
    "\n",
    "This is slightly more advanced than before because we can choose\n",
    "subsets of both row and columns."
   ]
  },
  {
   "cell_type": "code",
   "execution_count": 25,
   "metadata": {
    "hide-output": false
   },
   "outputs": [
    {
     "data": {
      "text/plain": [
       "5.6"
      ]
     },
     "execution_count": 25,
     "metadata": {},
     "output_type": "execute_result"
    }
   ],
   "source": [
    "stock_prices.loc[2005, \"Apple\"]"
   ]
  },
  {
   "cell_type": "code",
   "execution_count": 26,
   "metadata": {
    "hide-output": false
   },
   "outputs": [
    {
     "data": {
      "text/plain": [
       "2005    6.6\n",
       "2008    4.6\n",
       "Name: Facebook, dtype: float64"
      ]
     },
     "execution_count": 26,
     "metadata": {},
     "output_type": "execute_result"
    }
   ],
   "source": [
    "stock_prices.loc[[2005,2008], \"Facebook\"]"
   ]
  },
  {
   "cell_type": "code",
   "execution_count": 28,
   "metadata": {
    "hide-output": false
   },
   "outputs": [
    {
     "data": {
      "text/plain": [
       "Microsoft    4.5\n",
       "Google       5.3\n",
       "Name: 2005, dtype: float64"
      ]
     },
     "execution_count": 28,
     "metadata": {},
     "output_type": "execute_result"
    }
   ],
   "source": [
    "stock_prices.loc[2005, [\"Microsoft\", \"Google\"]]"
   ]
  },
  {
   "cell_type": "code",
   "execution_count": 30,
   "metadata": {
    "hide-output": false
   },
   "outputs": [
    {
     "data": {
      "text/plain": [
       "2005    4.5\n",
       "2006    4.3\n",
       "2007    3.6\n",
       "2008    4.0\n",
       "2009    5.7\n",
       "2010    5.7\n",
       "2011    4.9\n",
       "2012    8.1\n",
       "2013    8.7\n",
       "2014    7.4\n",
       "2015    5.1\n",
       "Name: Microsoft, dtype: float64"
      ]
     },
     "execution_count": 30,
     "metadata": {},
     "output_type": "execute_result"
    }
   ],
   "source": [
    "stock_prices.loc[:, \"Microsoft\"]"
   ]
  },
  {
   "cell_type": "code",
   "execution_count": 31,
   "metadata": {
    "hide-output": false
   },
   "outputs": [
    {
     "data": {
      "text/plain": [
       "2005    5.6\n",
       "2006    5.3\n",
       "2007    4.3\n",
       "2008    4.2\n",
       "2009    5.8\n",
       "2010    5.3\n",
       "2011    4.6\n",
       "2012    7.8\n",
       "2013    9.1\n",
       "2014    8.0\n",
       "2015    5.7\n",
       "Name: Apple, dtype: float64"
      ]
     },
     "execution_count": 31,
     "metadata": {},
     "output_type": "execute_result"
    }
   ],
   "source": [
    "# `[string]` with no `.loc` extracts a whole column\n",
    "stock_prices[\"Apple\"]"
   ]
  },
  {
   "cell_type": "markdown",
   "metadata": {},
   "source": [
    "### Computations with Columns\n",
    "\n",
    "pandas can do various computations and mathematical operations on\n",
    "columns.\n",
    "\n",
    "Let’s take a look at a few of them."
   ]
  },
  {
   "cell_type": "code",
   "execution_count": 33,
   "metadata": {
    "hide-output": false
   },
   "outputs": [
    {
     "data": {
      "text/html": [
       "<div>\n",
       "<style scoped>\n",
       "    .dataframe tbody tr th:only-of-type {\n",
       "        vertical-align: middle;\n",
       "    }\n",
       "\n",
       "    .dataframe tbody tr th {\n",
       "        vertical-align: top;\n",
       "    }\n",
       "\n",
       "    .dataframe thead th {\n",
       "        text-align: right;\n",
       "    }\n",
       "</style>\n",
       "<table border=\"1\" class=\"dataframe\">\n",
       "  <thead>\n",
       "    <tr style=\"text-align: right;\">\n",
       "      <th></th>\n",
       "      <th>Amazon</th>\n",
       "      <th>Microsoft</th>\n",
       "      <th>Google</th>\n",
       "      <th>Facebook</th>\n",
       "      <th>Apple</th>\n",
       "    </tr>\n",
       "  </thead>\n",
       "  <tbody>\n",
       "    <tr>\n",
       "      <th>2005</th>\n",
       "      <td>0.059</td>\n",
       "      <td>0.045</td>\n",
       "      <td>0.053</td>\n",
       "      <td>0.066</td>\n",
       "      <td>0.056</td>\n",
       "    </tr>\n",
       "    <tr>\n",
       "      <th>2006</th>\n",
       "      <td>0.056</td>\n",
       "      <td>0.043</td>\n",
       "      <td>0.052</td>\n",
       "      <td>0.060</td>\n",
       "      <td>0.053</td>\n",
       "    </tr>\n",
       "    <tr>\n",
       "      <th>2007</th>\n",
       "      <td>0.044</td>\n",
       "      <td>0.036</td>\n",
       "      <td>0.042</td>\n",
       "      <td>0.052</td>\n",
       "      <td>0.043</td>\n",
       "    </tr>\n",
       "    <tr>\n",
       "      <th>2008</th>\n",
       "      <td>0.038</td>\n",
       "      <td>0.040</td>\n",
       "      <td>0.040</td>\n",
       "      <td>0.046</td>\n",
       "      <td>0.042</td>\n",
       "    </tr>\n",
       "    <tr>\n",
       "      <th>2009</th>\n",
       "      <td>0.058</td>\n",
       "      <td>0.057</td>\n",
       "      <td>0.057</td>\n",
       "      <td>0.065</td>\n",
       "      <td>0.058</td>\n",
       "    </tr>\n",
       "    <tr>\n",
       "      <th>2010</th>\n",
       "      <td>0.049</td>\n",
       "      <td>0.057</td>\n",
       "      <td>0.052</td>\n",
       "      <td>0.055</td>\n",
       "      <td>0.053</td>\n",
       "    </tr>\n",
       "    <tr>\n",
       "      <th>2011</th>\n",
       "      <td>0.043</td>\n",
       "      <td>0.049</td>\n",
       "      <td>0.043</td>\n",
       "      <td>0.045</td>\n",
       "      <td>0.046</td>\n",
       "    </tr>\n",
       "    <tr>\n",
       "      <th>2012</th>\n",
       "      <td>0.071</td>\n",
       "      <td>0.081</td>\n",
       "      <td>0.076</td>\n",
       "      <td>0.086</td>\n",
       "      <td>0.078</td>\n",
       "    </tr>\n",
       "    <tr>\n",
       "      <th>2013</th>\n",
       "      <td>0.083</td>\n",
       "      <td>0.087</td>\n",
       "      <td>0.091</td>\n",
       "      <td>0.107</td>\n",
       "      <td>0.091</td>\n",
       "    </tr>\n",
       "    <tr>\n",
       "      <th>2014</th>\n",
       "      <td>0.079</td>\n",
       "      <td>0.074</td>\n",
       "      <td>0.074</td>\n",
       "      <td>0.085</td>\n",
       "      <td>0.080</td>\n",
       "    </tr>\n",
       "    <tr>\n",
       "      <th>2015</th>\n",
       "      <td>0.057</td>\n",
       "      <td>0.051</td>\n",
       "      <td>0.055</td>\n",
       "      <td>0.061</td>\n",
       "      <td>0.057</td>\n",
       "    </tr>\n",
       "  </tbody>\n",
       "</table>\n",
       "</div>"
      ],
      "text/plain": [
       "      Amazon  Microsoft  Google  Facebook  Apple\n",
       "2005   0.059      0.045   0.053     0.066  0.056\n",
       "2006   0.056      0.043   0.052     0.060  0.053\n",
       "2007   0.044      0.036   0.042     0.052  0.043\n",
       "2008   0.038      0.040   0.040     0.046  0.042\n",
       "2009   0.058      0.057   0.057     0.065  0.058\n",
       "2010   0.049      0.057   0.052     0.055  0.053\n",
       "2011   0.043      0.049   0.043     0.045  0.046\n",
       "2012   0.071      0.081   0.076     0.086  0.078\n",
       "2013   0.083      0.087   0.091     0.107  0.091\n",
       "2014   0.079      0.074   0.074     0.085  0.080\n",
       "2015   0.057      0.051   0.055     0.061  0.057"
      ]
     },
     "execution_count": 33,
     "metadata": {},
     "output_type": "execute_result"
    }
   ],
   "source": [
    "# Divide by 100 \n",
    "stock_prices / 100"
   ]
  },
  {
   "cell_type": "code",
   "execution_count": 34,
   "metadata": {
    "hide-output": false
   },
   "outputs": [
    {
     "data": {
      "text/plain": [
       "9.1"
      ]
     },
     "execution_count": 34,
     "metadata": {},
     "output_type": "execute_result"
    }
   ],
   "source": [
    "# Find maximum\n",
    "stock_prices[\"Apple\"].max()"
   ]
  },
  {
   "cell_type": "code",
   "execution_count": 35,
   "metadata": {
    "hide-output": false
   },
   "outputs": [
    {
     "data": {
      "text/plain": [
       "2005   -0.3\n",
       "2006   -0.1\n",
       "2007   -0.1\n",
       "2008   -0.2\n",
       "2009   -0.1\n",
       "2010   -0.1\n",
       "2011   -0.3\n",
       "2012   -0.2\n",
       "2013    0.0\n",
       "2014   -0.6\n",
       "2015   -0.2\n",
       "dtype: float64"
      ]
     },
     "execution_count": 35,
     "metadata": {},
     "output_type": "execute_result"
    }
   ],
   "source": [
    "# Find the difference between two columns\n",
    "# Notice that pandas applies `-` to _all rows_ at once\n",
    "# We'll see more of this throughout these materials\n",
    "stock_prices[\"Google\"] - stock_prices[\"Apple\"]"
   ]
  },
  {
   "cell_type": "code",
   "execution_count": 36,
   "metadata": {
    "hide-output": false
   },
   "outputs": [
    {
     "data": {
      "text/plain": [
       "0.9523890760029825"
      ]
     },
     "execution_count": 36,
     "metadata": {},
     "output_type": "execute_result"
    }
   ],
   "source": [
    "# Find correlation between two columns\n",
    "stock_prices['Apple'].corr(stock_prices[\"Microsoft\"])"
   ]
  },
  {
   "cell_type": "code",
   "execution_count": 37,
   "metadata": {
    "hide-output": false
   },
   "outputs": [
    {
     "data": {
      "text/html": [
       "<div>\n",
       "<style scoped>\n",
       "    .dataframe tbody tr th:only-of-type {\n",
       "        vertical-align: middle;\n",
       "    }\n",
       "\n",
       "    .dataframe tbody tr th {\n",
       "        vertical-align: top;\n",
       "    }\n",
       "\n",
       "    .dataframe thead th {\n",
       "        text-align: right;\n",
       "    }\n",
       "</style>\n",
       "<table border=\"1\" class=\"dataframe\">\n",
       "  <thead>\n",
       "    <tr style=\"text-align: right;\">\n",
       "      <th></th>\n",
       "      <th>Amazon</th>\n",
       "      <th>Microsoft</th>\n",
       "      <th>Google</th>\n",
       "      <th>Facebook</th>\n",
       "      <th>Apple</th>\n",
       "    </tr>\n",
       "  </thead>\n",
       "  <tbody>\n",
       "    <tr>\n",
       "      <th>Amazon</th>\n",
       "      <td>1.000000</td>\n",
       "      <td>0.875654</td>\n",
       "      <td>0.964415</td>\n",
       "      <td>0.967875</td>\n",
       "      <td>0.976016</td>\n",
       "    </tr>\n",
       "    <tr>\n",
       "      <th>Microsoft</th>\n",
       "      <td>0.875654</td>\n",
       "      <td>1.000000</td>\n",
       "      <td>0.951379</td>\n",
       "      <td>0.900638</td>\n",
       "      <td>0.952389</td>\n",
       "    </tr>\n",
       "    <tr>\n",
       "      <th>Google</th>\n",
       "      <td>0.964415</td>\n",
       "      <td>0.951379</td>\n",
       "      <td>1.000000</td>\n",
       "      <td>0.987259</td>\n",
       "      <td>0.995030</td>\n",
       "    </tr>\n",
       "    <tr>\n",
       "      <th>Facebook</th>\n",
       "      <td>0.967875</td>\n",
       "      <td>0.900638</td>\n",
       "      <td>0.987259</td>\n",
       "      <td>1.000000</td>\n",
       "      <td>0.981308</td>\n",
       "    </tr>\n",
       "    <tr>\n",
       "      <th>Apple</th>\n",
       "      <td>0.976016</td>\n",
       "      <td>0.952389</td>\n",
       "      <td>0.995030</td>\n",
       "      <td>0.981308</td>\n",
       "      <td>1.000000</td>\n",
       "    </tr>\n",
       "  </tbody>\n",
       "</table>\n",
       "</div>"
      ],
      "text/plain": [
       "             Amazon  Microsoft    Google  Facebook     Apple\n",
       "Amazon     1.000000   0.875654  0.964415  0.967875  0.976016\n",
       "Microsoft  0.875654   1.000000  0.951379  0.900638  0.952389\n",
       "Google     0.964415   0.951379  1.000000  0.987259  0.995030\n",
       "Facebook   0.967875   0.900638  0.987259  1.000000  0.981308\n",
       "Apple      0.976016   0.952389  0.995030  0.981308  1.000000"
      ]
     },
     "execution_count": 37,
     "metadata": {},
     "output_type": "execute_result"
    }
   ],
   "source": [
    "# find correlation between all column pairs\n",
    "stock_prices.corr()"
   ]
  },
  {
   "cell_type": "markdown",
   "metadata": {},
   "source": [
    "### Data Types\n",
    "\n",
    "We asked you to run the commands `unemp.dtype` and\n",
    "`unemp_region.dtypes` and think about the outputs.\n",
    "\n",
    "You might have guessed that they return the type of the values inside\n",
    "each column.\n",
    "\n",
    "Occasionally, you might need to investigate what types you have in your\n",
    "DataFrame when an operation isn’t behaving as expected."
   ]
  },
  {
   "cell_type": "code",
   "execution_count": 39,
   "metadata": {
    "hide-output": false
   },
   "outputs": [
    {
     "data": {
      "text/plain": [
       "dtype('float64')"
      ]
     },
     "execution_count": 39,
     "metadata": {},
     "output_type": "execute_result"
    }
   ],
   "source": [
    "Google.dtype"
   ]
  },
  {
   "cell_type": "code",
   "execution_count": 40,
   "metadata": {
    "hide-output": false
   },
   "outputs": [
    {
     "data": {
      "text/plain": [
       "Amazon       float64\n",
       "Microsoft    float64\n",
       "Google       float64\n",
       "Facebook     float64\n",
       "Apple        float64\n",
       "dtype: object"
      ]
     },
     "execution_count": 40,
     "metadata": {},
     "output_type": "execute_result"
    }
   ],
   "source": [
    "stock_prices.dtypes"
   ]
  },
  {
   "cell_type": "markdown",
   "metadata": {},
   "source": [
    "DataFrames will only distinguish between a few types.\n",
    "\n",
    "- Booleans (`bool`)  \n",
    "- Floating point numbers (`float64`)  \n",
    "- Integers (`int64`)  \n",
    "- Dates (`datetime`) — we will learn this soon  \n",
    "- Categorical data (`categorical`)  \n",
    "- Everything else, including strings (`object`)  \n",
    "\n",
    "\n",
    "In the future, we will often refer to the type of data stored in a\n",
    "column as its `dtype`.\n",
    "\n",
    "Let’s look at an example for when having an incorrect `dtype` can\n",
    "cause problems.\n",
    "\n",
    "Suppose that when we imported the data the `South` column was\n",
    "interpreted as a string."
   ]
  },
  {
   "cell_type": "code",
   "execution_count": 42,
   "metadata": {
    "hide-output": false
   },
   "outputs": [
    {
     "data": {
      "text/plain": [
       "Amazon       float64\n",
       "Microsoft    float64\n",
       "Google       float64\n",
       "Facebook     float64\n",
       "Apple         object\n",
       "dtype: object"
      ]
     },
     "execution_count": 42,
     "metadata": {},
     "output_type": "execute_result"
    }
   ],
   "source": [
    "stock_prices_str = stock_prices.copy()\n",
    "stock_prices_str[\"Apple\"] = stock_prices_str[\"Apple\"].astype(str)\n",
    "stock_prices_str.dtypes"
   ]
  },
  {
   "cell_type": "markdown",
   "metadata": {},
   "source": [
    "Everything *looks* ok…"
   ]
  },
  {
   "cell_type": "code",
   "execution_count": 43,
   "metadata": {
    "hide-output": false
   },
   "outputs": [
    {
     "data": {
      "text/html": [
       "<div>\n",
       "<style scoped>\n",
       "    .dataframe tbody tr th:only-of-type {\n",
       "        vertical-align: middle;\n",
       "    }\n",
       "\n",
       "    .dataframe tbody tr th {\n",
       "        vertical-align: top;\n",
       "    }\n",
       "\n",
       "    .dataframe thead th {\n",
       "        text-align: right;\n",
       "    }\n",
       "</style>\n",
       "<table border=\"1\" class=\"dataframe\">\n",
       "  <thead>\n",
       "    <tr style=\"text-align: right;\">\n",
       "      <th></th>\n",
       "      <th>Amazon</th>\n",
       "      <th>Microsoft</th>\n",
       "      <th>Google</th>\n",
       "      <th>Facebook</th>\n",
       "      <th>Apple</th>\n",
       "    </tr>\n",
       "  </thead>\n",
       "  <tbody>\n",
       "    <tr>\n",
       "      <th>2005</th>\n",
       "      <td>5.9</td>\n",
       "      <td>4.5</td>\n",
       "      <td>5.3</td>\n",
       "      <td>6.6</td>\n",
       "      <td>5.6</td>\n",
       "    </tr>\n",
       "    <tr>\n",
       "      <th>2006</th>\n",
       "      <td>5.6</td>\n",
       "      <td>4.3</td>\n",
       "      <td>5.2</td>\n",
       "      <td>6.0</td>\n",
       "      <td>5.3</td>\n",
       "    </tr>\n",
       "    <tr>\n",
       "      <th>2007</th>\n",
       "      <td>4.4</td>\n",
       "      <td>3.6</td>\n",
       "      <td>4.2</td>\n",
       "      <td>5.2</td>\n",
       "      <td>4.3</td>\n",
       "    </tr>\n",
       "    <tr>\n",
       "      <th>2008</th>\n",
       "      <td>3.8</td>\n",
       "      <td>4.0</td>\n",
       "      <td>4.0</td>\n",
       "      <td>4.6</td>\n",
       "      <td>4.2</td>\n",
       "    </tr>\n",
       "    <tr>\n",
       "      <th>2009</th>\n",
       "      <td>5.8</td>\n",
       "      <td>5.7</td>\n",
       "      <td>5.7</td>\n",
       "      <td>6.5</td>\n",
       "      <td>5.8</td>\n",
       "    </tr>\n",
       "  </tbody>\n",
       "</table>\n",
       "</div>"
      ],
      "text/plain": [
       "      Amazon  Microsoft  Google  Facebook Apple\n",
       "2005     5.9        4.5     5.3       6.6   5.6\n",
       "2006     5.6        4.3     5.2       6.0   5.3\n",
       "2007     4.4        3.6     4.2       5.2   4.3\n",
       "2008     3.8        4.0     4.0       4.6   4.2\n",
       "2009     5.8        5.7     5.7       6.5   5.8"
      ]
     },
     "execution_count": 43,
     "metadata": {},
     "output_type": "execute_result"
    }
   ],
   "source": [
    "stock_prices_str.head()"
   ]
  },
  {
   "cell_type": "markdown",
   "metadata": {},
   "source": [
    "But if we try to do something like compute the sum of all the columns,\n",
    "we get unexpected results…"
   ]
  },
  {
   "cell_type": "code",
   "execution_count": 46,
   "metadata": {
    "hide-output": false
   },
   "outputs": [
    {
     "data": {
      "text/plain": [
       "Amazon                                    63.7\n",
       "Microsoft                                 62.0\n",
       "Google                                    63.5\n",
       "Facebook                                  72.8\n",
       "Apple        5.65.34.34.25.85.34.67.89.18.05.7\n",
       "dtype: object"
      ]
     },
     "execution_count": 46,
     "metadata": {},
     "output_type": "execute_result"
    }
   ],
   "source": [
    "stock_prices_str.sum()"
   ]
  },
  {
   "cell_type": "markdown",
   "metadata": {},
   "source": [
    "Why this happened?"
   ]
  },
  {
   "cell_type": "markdown",
   "metadata": {},
   "source": [
    "### Changing DataFrames\n",
    "\n",
    "We can change the data inside of a DataFrame in various ways:\n",
    "\n",
    "- Adding new columns  \n",
    "- Changing index labels or column names  \n",
    "- Altering existing data (e.g. doing some arithmetic or making a column\n",
    "  of strings lowercase)  \n",
    "\n",
    "\n"
   ]
  },
  {
   "cell_type": "markdown",
   "metadata": {},
   "source": [
    "### Creating New Columns\n",
    "\n",
    "We can create new data by assigning values to a column similar to how\n",
    "we assign values to a variable.\n",
    "\n",
    "In pandas, we create a new column of a DataFrame by writing:"
   ]
  },
  {
   "cell_type": "markdown",
   "metadata": {
    "hide-output": false
   },
   "source": [
    "```python\n",
    "df[\"New Column Name\"] = new_values\n",
    "```\n"
   ]
  },
  {
   "cell_type": "markdown",
   "metadata": {},
   "source": [
    "Below, we create an unweighted mean of the unemployment rate across the\n",
    "four regions of the US — notice that this differs from the national\n",
    "unemployment rate."
   ]
  },
  {
   "cell_type": "code",
   "execution_count": 49,
   "metadata": {
    "hide-output": false
   },
   "outputs": [],
   "source": [
    "stock_prices[\"ValueofEW_portfolio\"] = (stock_prices[\"Amazon\"] +\n",
    "                                  stock_prices[\"Apple\"] +\n",
    "                                  stock_prices[\"Microsoft\"] +\n",
    "                                  stock_prices[\"Google\"]+\n",
    "                                  stock_prices['Facebook'])/5\n",
    "\n",
    "# what is a easier way to accomplish this?"
   ]
  },
  {
   "cell_type": "code",
   "execution_count": 48,
   "metadata": {
    "hide-output": false
   },
   "outputs": [
    {
     "data": {
      "text/html": [
       "<div>\n",
       "<style scoped>\n",
       "    .dataframe tbody tr th:only-of-type {\n",
       "        vertical-align: middle;\n",
       "    }\n",
       "\n",
       "    .dataframe tbody tr th {\n",
       "        vertical-align: top;\n",
       "    }\n",
       "\n",
       "    .dataframe thead th {\n",
       "        text-align: right;\n",
       "    }\n",
       "</style>\n",
       "<table border=\"1\" class=\"dataframe\">\n",
       "  <thead>\n",
       "    <tr style=\"text-align: right;\">\n",
       "      <th></th>\n",
       "      <th>Amazon</th>\n",
       "      <th>Microsoft</th>\n",
       "      <th>Google</th>\n",
       "      <th>Facebook</th>\n",
       "      <th>Apple</th>\n",
       "      <th>ValueofEW_portfolio</th>\n",
       "    </tr>\n",
       "  </thead>\n",
       "  <tbody>\n",
       "    <tr>\n",
       "      <th>2005</th>\n",
       "      <td>5.9</td>\n",
       "      <td>4.5</td>\n",
       "      <td>5.3</td>\n",
       "      <td>6.6</td>\n",
       "      <td>5.6</td>\n",
       "      <td>5.58</td>\n",
       "    </tr>\n",
       "    <tr>\n",
       "      <th>2006</th>\n",
       "      <td>5.6</td>\n",
       "      <td>4.3</td>\n",
       "      <td>5.2</td>\n",
       "      <td>6.0</td>\n",
       "      <td>5.3</td>\n",
       "      <td>5.28</td>\n",
       "    </tr>\n",
       "    <tr>\n",
       "      <th>2007</th>\n",
       "      <td>4.4</td>\n",
       "      <td>3.6</td>\n",
       "      <td>4.2</td>\n",
       "      <td>5.2</td>\n",
       "      <td>4.3</td>\n",
       "      <td>4.34</td>\n",
       "    </tr>\n",
       "    <tr>\n",
       "      <th>2008</th>\n",
       "      <td>3.8</td>\n",
       "      <td>4.0</td>\n",
       "      <td>4.0</td>\n",
       "      <td>4.6</td>\n",
       "      <td>4.2</td>\n",
       "      <td>4.12</td>\n",
       "    </tr>\n",
       "    <tr>\n",
       "      <th>2009</th>\n",
       "      <td>5.8</td>\n",
       "      <td>5.7</td>\n",
       "      <td>5.7</td>\n",
       "      <td>6.5</td>\n",
       "      <td>5.8</td>\n",
       "      <td>5.90</td>\n",
       "    </tr>\n",
       "  </tbody>\n",
       "</table>\n",
       "</div>"
      ],
      "text/plain": [
       "      Amazon  Microsoft  Google  Facebook  Apple  ValueofEW_portfolio\n",
       "2005     5.9        4.5     5.3       6.6    5.6                 5.58\n",
       "2006     5.6        4.3     5.2       6.0    5.3                 5.28\n",
       "2007     4.4        3.6     4.2       5.2    4.3                 4.34\n",
       "2008     3.8        4.0     4.0       4.6    4.2                 4.12\n",
       "2009     5.8        5.7     5.7       6.5    5.8                 5.90"
      ]
     },
     "execution_count": 48,
     "metadata": {},
     "output_type": "execute_result"
    }
   ],
   "source": [
    "stock_prices.head()"
   ]
  },
  {
   "cell_type": "markdown",
   "metadata": {},
   "source": [
    "### Changing Values\n",
    "\n",
    "Changing the values inside of a DataFrame should be done very rarely.\n",
    "\n",
    "Typically when you are using the dataframe to store some computation\n",
    "\n",
    "However, it can be done by assigning a value to a location in the\n",
    "DataFrame.\n",
    "\n",
    "`df.loc[index, column] = value`"
   ]
  },
  {
   "cell_type": "code",
   "execution_count": 51,
   "metadata": {
    "hide-output": false
   },
   "outputs": [],
   "source": [
    "stock_prices.loc[2015, \"ValueofEW_portfolio\"] = 0.0"
   ]
  },
  {
   "cell_type": "code",
   "execution_count": 54,
   "metadata": {
    "hide-output": false
   },
   "outputs": [
    {
     "data": {
      "text/html": [
       "<div>\n",
       "<style scoped>\n",
       "    .dataframe tbody tr th:only-of-type {\n",
       "        vertical-align: middle;\n",
       "    }\n",
       "\n",
       "    .dataframe tbody tr th {\n",
       "        vertical-align: top;\n",
       "    }\n",
       "\n",
       "    .dataframe thead th {\n",
       "        text-align: right;\n",
       "    }\n",
       "</style>\n",
       "<table border=\"1\" class=\"dataframe\">\n",
       "  <thead>\n",
       "    <tr style=\"text-align: right;\">\n",
       "      <th></th>\n",
       "      <th>Amazon</th>\n",
       "      <th>Microsoft</th>\n",
       "      <th>Google</th>\n",
       "      <th>Facebook</th>\n",
       "      <th>Apple</th>\n",
       "      <th>ValueofEW_portfolio</th>\n",
       "    </tr>\n",
       "  </thead>\n",
       "  <tbody>\n",
       "    <tr>\n",
       "      <th>2011</th>\n",
       "      <td>4.3</td>\n",
       "      <td>4.9</td>\n",
       "      <td>4.3</td>\n",
       "      <td>4.5</td>\n",
       "      <td>4.6</td>\n",
       "      <td>4.52</td>\n",
       "    </tr>\n",
       "    <tr>\n",
       "      <th>2012</th>\n",
       "      <td>7.1</td>\n",
       "      <td>8.1</td>\n",
       "      <td>7.6</td>\n",
       "      <td>8.6</td>\n",
       "      <td>7.8</td>\n",
       "      <td>7.84</td>\n",
       "    </tr>\n",
       "    <tr>\n",
       "      <th>2013</th>\n",
       "      <td>8.3</td>\n",
       "      <td>8.7</td>\n",
       "      <td>9.1</td>\n",
       "      <td>10.7</td>\n",
       "      <td>9.1</td>\n",
       "      <td>9.18</td>\n",
       "    </tr>\n",
       "    <tr>\n",
       "      <th>2014</th>\n",
       "      <td>7.9</td>\n",
       "      <td>7.4</td>\n",
       "      <td>7.4</td>\n",
       "      <td>8.5</td>\n",
       "      <td>8.0</td>\n",
       "      <td>7.84</td>\n",
       "    </tr>\n",
       "    <tr>\n",
       "      <th>2015</th>\n",
       "      <td>5.7</td>\n",
       "      <td>5.1</td>\n",
       "      <td>5.5</td>\n",
       "      <td>6.1</td>\n",
       "      <td>5.7</td>\n",
       "      <td>0.00</td>\n",
       "    </tr>\n",
       "  </tbody>\n",
       "</table>\n",
       "</div>"
      ],
      "text/plain": [
       "      Amazon  Microsoft  Google  Facebook  Apple  ValueofEW_portfolio\n",
       "2011     4.3        4.9     4.3       4.5    4.6                 4.52\n",
       "2012     7.1        8.1     7.6       8.6    7.8                 7.84\n",
       "2013     8.3        8.7     9.1      10.7    9.1                 9.18\n",
       "2014     7.9        7.4     7.4       8.5    8.0                 7.84\n",
       "2015     5.7        5.1     5.5       6.1    5.7                 0.00"
      ]
     },
     "execution_count": 54,
     "metadata": {},
     "output_type": "execute_result"
    }
   ],
   "source": [
    "stock_prices.tail()"
   ]
  },
  {
   "cell_type": "markdown",
   "metadata": {},
   "source": [
    "### Renaming Columns\n",
    "\n",
    "We can also rename the columns of a DataFrame, which is helpful because the names that sometimes come with datasets are\n",
    "unbearable…\n",
    "\n",
    "For example, twe can change facebook to Meta and google became alphabet.\n",
    "\n",
    "\n",
    "We can rename columns by passing a dictionary to the `rename` method.\n",
    "\n",
    "This dictionary contains the old names as the keys and new names as the\n",
    "values.\n",
    "\n",
    "See the example below."
   ]
  },
  {
   "cell_type": "code",
   "execution_count": 55,
   "metadata": {
    "hide-output": false
   },
   "outputs": [
    {
     "data": {
      "text/html": [
       "<div>\n",
       "<style scoped>\n",
       "    .dataframe tbody tr th:only-of-type {\n",
       "        vertical-align: middle;\n",
       "    }\n",
       "\n",
       "    .dataframe tbody tr th {\n",
       "        vertical-align: top;\n",
       "    }\n",
       "\n",
       "    .dataframe thead th {\n",
       "        text-align: right;\n",
       "    }\n",
       "</style>\n",
       "<table border=\"1\" class=\"dataframe\">\n",
       "  <thead>\n",
       "    <tr style=\"text-align: right;\">\n",
       "      <th></th>\n",
       "      <th>Amazon</th>\n",
       "      <th>Microsoft</th>\n",
       "      <th>Alphabet</th>\n",
       "      <th>Meta</th>\n",
       "      <th>Apple</th>\n",
       "      <th>ValueofEW_portfolio</th>\n",
       "    </tr>\n",
       "  </thead>\n",
       "  <tbody>\n",
       "    <tr>\n",
       "      <th>2005</th>\n",
       "      <td>5.9</td>\n",
       "      <td>4.5</td>\n",
       "      <td>5.3</td>\n",
       "      <td>6.6</td>\n",
       "      <td>5.6</td>\n",
       "      <td>5.58</td>\n",
       "    </tr>\n",
       "    <tr>\n",
       "      <th>2006</th>\n",
       "      <td>5.6</td>\n",
       "      <td>4.3</td>\n",
       "      <td>5.2</td>\n",
       "      <td>6.0</td>\n",
       "      <td>5.3</td>\n",
       "      <td>5.28</td>\n",
       "    </tr>\n",
       "    <tr>\n",
       "      <th>2007</th>\n",
       "      <td>4.4</td>\n",
       "      <td>3.6</td>\n",
       "      <td>4.2</td>\n",
       "      <td>5.2</td>\n",
       "      <td>4.3</td>\n",
       "      <td>4.34</td>\n",
       "    </tr>\n",
       "    <tr>\n",
       "      <th>2008</th>\n",
       "      <td>3.8</td>\n",
       "      <td>4.0</td>\n",
       "      <td>4.0</td>\n",
       "      <td>4.6</td>\n",
       "      <td>4.2</td>\n",
       "      <td>4.12</td>\n",
       "    </tr>\n",
       "    <tr>\n",
       "      <th>2009</th>\n",
       "      <td>5.8</td>\n",
       "      <td>5.7</td>\n",
       "      <td>5.7</td>\n",
       "      <td>6.5</td>\n",
       "      <td>5.8</td>\n",
       "      <td>5.90</td>\n",
       "    </tr>\n",
       "    <tr>\n",
       "      <th>2010</th>\n",
       "      <td>4.9</td>\n",
       "      <td>5.7</td>\n",
       "      <td>5.2</td>\n",
       "      <td>5.5</td>\n",
       "      <td>5.3</td>\n",
       "      <td>5.32</td>\n",
       "    </tr>\n",
       "    <tr>\n",
       "      <th>2011</th>\n",
       "      <td>4.3</td>\n",
       "      <td>4.9</td>\n",
       "      <td>4.3</td>\n",
       "      <td>4.5</td>\n",
       "      <td>4.6</td>\n",
       "      <td>4.52</td>\n",
       "    </tr>\n",
       "    <tr>\n",
       "      <th>2012</th>\n",
       "      <td>7.1</td>\n",
       "      <td>8.1</td>\n",
       "      <td>7.6</td>\n",
       "      <td>8.6</td>\n",
       "      <td>7.8</td>\n",
       "      <td>7.84</td>\n",
       "    </tr>\n",
       "    <tr>\n",
       "      <th>2013</th>\n",
       "      <td>8.3</td>\n",
       "      <td>8.7</td>\n",
       "      <td>9.1</td>\n",
       "      <td>10.7</td>\n",
       "      <td>9.1</td>\n",
       "      <td>9.18</td>\n",
       "    </tr>\n",
       "    <tr>\n",
       "      <th>2014</th>\n",
       "      <td>7.9</td>\n",
       "      <td>7.4</td>\n",
       "      <td>7.4</td>\n",
       "      <td>8.5</td>\n",
       "      <td>8.0</td>\n",
       "      <td>7.84</td>\n",
       "    </tr>\n",
       "    <tr>\n",
       "      <th>2015</th>\n",
       "      <td>5.7</td>\n",
       "      <td>5.1</td>\n",
       "      <td>5.5</td>\n",
       "      <td>6.1</td>\n",
       "      <td>5.7</td>\n",
       "      <td>0.00</td>\n",
       "    </tr>\n",
       "  </tbody>\n",
       "</table>\n",
       "</div>"
      ],
      "text/plain": [
       "      Amazon  Microsoft  Alphabet  Meta  Apple  ValueofEW_portfolio\n",
       "2005     5.9        4.5       5.3   6.6    5.6                 5.58\n",
       "2006     5.6        4.3       5.2   6.0    5.3                 5.28\n",
       "2007     4.4        3.6       4.2   5.2    4.3                 4.34\n",
       "2008     3.8        4.0       4.0   4.6    4.2                 4.12\n",
       "2009     5.8        5.7       5.7   6.5    5.8                 5.90\n",
       "2010     4.9        5.7       5.2   5.5    5.3                 5.32\n",
       "2011     4.3        4.9       4.3   4.5    4.6                 4.52\n",
       "2012     7.1        8.1       7.6   8.6    7.8                 7.84\n",
       "2013     8.3        8.7       9.1  10.7    9.1                 9.18\n",
       "2014     7.9        7.4       7.4   8.5    8.0                 7.84\n",
       "2015     5.7        5.1       5.5   6.1    5.7                 0.00"
      ]
     },
     "execution_count": 55,
     "metadata": {},
     "output_type": "execute_result"
    }
   ],
   "source": [
    "names = {\"Facebook\": \"Meta\",\n",
    "         \"Google\": \"Alphabet\"}\n",
    "stock_prices.rename(columns=names)"
   ]
  },
  {
   "cell_type": "code",
   "execution_count": 56,
   "metadata": {
    "hide-output": false
   },
   "outputs": [
    {
     "data": {
      "text/html": [
       "<div>\n",
       "<style scoped>\n",
       "    .dataframe tbody tr th:only-of-type {\n",
       "        vertical-align: middle;\n",
       "    }\n",
       "\n",
       "    .dataframe tbody tr th {\n",
       "        vertical-align: top;\n",
       "    }\n",
       "\n",
       "    .dataframe thead th {\n",
       "        text-align: right;\n",
       "    }\n",
       "</style>\n",
       "<table border=\"1\" class=\"dataframe\">\n",
       "  <thead>\n",
       "    <tr style=\"text-align: right;\">\n",
       "      <th></th>\n",
       "      <th>Amazon</th>\n",
       "      <th>Microsoft</th>\n",
       "      <th>Google</th>\n",
       "      <th>Facebook</th>\n",
       "      <th>Apple</th>\n",
       "      <th>ValueofEW_portfolio</th>\n",
       "    </tr>\n",
       "  </thead>\n",
       "  <tbody>\n",
       "    <tr>\n",
       "      <th>2005</th>\n",
       "      <td>5.9</td>\n",
       "      <td>4.5</td>\n",
       "      <td>5.3</td>\n",
       "      <td>6.6</td>\n",
       "      <td>5.6</td>\n",
       "      <td>5.58</td>\n",
       "    </tr>\n",
       "    <tr>\n",
       "      <th>2006</th>\n",
       "      <td>5.6</td>\n",
       "      <td>4.3</td>\n",
       "      <td>5.2</td>\n",
       "      <td>6.0</td>\n",
       "      <td>5.3</td>\n",
       "      <td>5.28</td>\n",
       "    </tr>\n",
       "    <tr>\n",
       "      <th>2007</th>\n",
       "      <td>4.4</td>\n",
       "      <td>3.6</td>\n",
       "      <td>4.2</td>\n",
       "      <td>5.2</td>\n",
       "      <td>4.3</td>\n",
       "      <td>4.34</td>\n",
       "    </tr>\n",
       "    <tr>\n",
       "      <th>2008</th>\n",
       "      <td>3.8</td>\n",
       "      <td>4.0</td>\n",
       "      <td>4.0</td>\n",
       "      <td>4.6</td>\n",
       "      <td>4.2</td>\n",
       "      <td>4.12</td>\n",
       "    </tr>\n",
       "    <tr>\n",
       "      <th>2009</th>\n",
       "      <td>5.8</td>\n",
       "      <td>5.7</td>\n",
       "      <td>5.7</td>\n",
       "      <td>6.5</td>\n",
       "      <td>5.8</td>\n",
       "      <td>5.90</td>\n",
       "    </tr>\n",
       "  </tbody>\n",
       "</table>\n",
       "</div>"
      ],
      "text/plain": [
       "      Amazon  Microsoft  Google  Facebook  Apple  ValueofEW_portfolio\n",
       "2005     5.9        4.5     5.3       6.6    5.6                 5.58\n",
       "2006     5.6        4.3     5.2       6.0    5.3                 5.28\n",
       "2007     4.4        3.6     4.2       5.2    4.3                 4.34\n",
       "2008     3.8        4.0     4.0       4.6    4.2                 4.12\n",
       "2009     5.8        5.7     5.7       6.5    5.8                 5.90"
      ]
     },
     "execution_count": 56,
     "metadata": {},
     "output_type": "execute_result"
    }
   ],
   "source": [
    "stock_prices.head()"
   ]
  },
  {
   "cell_type": "markdown",
   "metadata": {},
   "source": [
    "We renamed our columns… Why does the DataFrame still show the old\n",
    "column names?\n",
    "\n"
   ]
  },
  {
   "cell_type": "markdown",
   "metadata": {},
   "source": [
    "Many pandas operations create a copy of your data by\n",
    "default to protect your data and prevent you from overwriting\n",
    "information you meant to keep.\n",
    "\n",
    "We can make these operations permanent by either:\n",
    "\n",
    "1. Assigning the output back to the variable name\n",
    "  `df = df.rename(columns=rename_dict)`  \n",
    "1. Looking into whether the method has an `inplace` option. For\n",
    "  example, `df.rename(columns=rename_dict, inplace=True)`  \n",
    "\n",
    "\n",
    "Setting `inplace=True` will sometimes make your code faster\n",
    "(e.g. if you have a very large DataFrame and you don’t want to copy all\n",
    "the data), but that doesn’t always happen.\n",
    "\n",
    "We recommend using the first option until you get comfortable with\n",
    "pandas because operations that don’t alter your data are (usually)\n",
    "safer."
   ]
  },
  {
   "cell_type": "code",
   "execution_count": 57,
   "metadata": {
    "hide-output": false
   },
   "outputs": [
    {
     "data": {
      "text/html": [
       "<div>\n",
       "<style scoped>\n",
       "    .dataframe tbody tr th:only-of-type {\n",
       "        vertical-align: middle;\n",
       "    }\n",
       "\n",
       "    .dataframe tbody tr th {\n",
       "        vertical-align: top;\n",
       "    }\n",
       "\n",
       "    .dataframe thead th {\n",
       "        text-align: right;\n",
       "    }\n",
       "</style>\n",
       "<table border=\"1\" class=\"dataframe\">\n",
       "  <thead>\n",
       "    <tr style=\"text-align: right;\">\n",
       "      <th></th>\n",
       "      <th>Amazon</th>\n",
       "      <th>Microsoft</th>\n",
       "      <th>Alphabet</th>\n",
       "      <th>Meta</th>\n",
       "      <th>Apple</th>\n",
       "      <th>ValueofEW_portfolio</th>\n",
       "    </tr>\n",
       "  </thead>\n",
       "  <tbody>\n",
       "    <tr>\n",
       "      <th>2005</th>\n",
       "      <td>5.9</td>\n",
       "      <td>4.5</td>\n",
       "      <td>5.3</td>\n",
       "      <td>6.6</td>\n",
       "      <td>5.6</td>\n",
       "      <td>5.58</td>\n",
       "    </tr>\n",
       "    <tr>\n",
       "      <th>2006</th>\n",
       "      <td>5.6</td>\n",
       "      <td>4.3</td>\n",
       "      <td>5.2</td>\n",
       "      <td>6.0</td>\n",
       "      <td>5.3</td>\n",
       "      <td>5.28</td>\n",
       "    </tr>\n",
       "    <tr>\n",
       "      <th>2007</th>\n",
       "      <td>4.4</td>\n",
       "      <td>3.6</td>\n",
       "      <td>4.2</td>\n",
       "      <td>5.2</td>\n",
       "      <td>4.3</td>\n",
       "      <td>4.34</td>\n",
       "    </tr>\n",
       "    <tr>\n",
       "      <th>2008</th>\n",
       "      <td>3.8</td>\n",
       "      <td>4.0</td>\n",
       "      <td>4.0</td>\n",
       "      <td>4.6</td>\n",
       "      <td>4.2</td>\n",
       "      <td>4.12</td>\n",
       "    </tr>\n",
       "    <tr>\n",
       "      <th>2009</th>\n",
       "      <td>5.8</td>\n",
       "      <td>5.7</td>\n",
       "      <td>5.7</td>\n",
       "      <td>6.5</td>\n",
       "      <td>5.8</td>\n",
       "      <td>5.90</td>\n",
       "    </tr>\n",
       "  </tbody>\n",
       "</table>\n",
       "</div>"
      ],
      "text/plain": [
       "      Amazon  Microsoft  Alphabet  Meta  Apple  ValueofEW_portfolio\n",
       "2005     5.9        4.5       5.3   6.6    5.6                 5.58\n",
       "2006     5.6        4.3       5.2   6.0    5.3                 5.28\n",
       "2007     4.4        3.6       4.2   5.2    4.3                 4.34\n",
       "2008     3.8        4.0       4.0   4.6    4.2                 4.12\n",
       "2009     5.8        5.7       5.7   6.5    5.8                 5.90"
      ]
     },
     "execution_count": 57,
     "metadata": {},
     "output_type": "execute_result"
    }
   ],
   "source": [
    "names = {\"Facebook\": \"Meta\",\n",
    "         \"Google\": \"Alphabet\"}\n",
    "stock_prices=stock_prices.rename(columns=names)\n",
    "stock_prices.head()"
   ]
  }
 ],
 "metadata": {
  "date": 1595352472.3606322,
  "download_nb": false,
  "filename": "intro.rst",
  "filename_with_path": "pandas/intro",
  "kernelspec": {
   "display_name": "Python 3",
   "language": "python",
   "name": "python3"
  },
  "language_info": {
   "codemirror_mode": {
    "name": "ipython",
    "version": 3
   },
   "file_extension": ".py",
   "mimetype": "text/x-python",
   "name": "python",
   "nbconvert_exporter": "python",
   "pygments_lexer": "ipython3",
   "version": "3.9.12"
  },
  "title": "Introduction"
 },
 "nbformat": 4,
 "nbformat_minor": 4
}
