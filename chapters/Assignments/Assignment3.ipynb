{
  "cells": [
    {
      "cell_type": "markdown",
      "metadata": {
        "id": "WI820A_Bp_NH"
      },
      "source": [
        "# Assignment 3\n",
        "\n",
        "\n",
        "\n",
        "Please check that you are submitting the correct file. One way to avoid mistakes is to save it with a different name.\n",
        "\n",
        "\n",
        "\n",
        "Comments:\n",
        "\n",
        "- Make sure that everything is compiled before saving it.\n",
        "- Obviously feel free to add as many cells as needed in each section.\n",
        "- Cells should not be too large. Keep code organized and clean."
      ]
    },
    {
      "cell_type": "markdown",
      "metadata": {},
      "source": [
        "# Write your name and simon email\n",
        "\n",
        "Please write names below\n",
        "\n",
        "* [Name]:\n",
        "* [email]:\n",
        "\n",
        "\n"
      ]
    },
    {
      "cell_type": "markdown",
      "metadata": {
        "id": "ekyShyt91xTn"
      },
      "source": [
        "# Exercises \n",
        "\n",
        "Load some value portfolio--perhaps E/P from french\n",
        "\n",
        "Look at premium\n",
        "\n",
        "Look at betas\n",
        "\n",
        "do in a sample where there is premium and capm does not work\n",
        "\n",
        "\n",
        "Add HML factor\n",
        "\n",
        "discuss exposure\n",
        "\n",
        "\n",
        "Look at residuals\n",
        "\n",
        "\n",
        "look at hedge portfolio\n",
        "\n",
        "\n",
        "\n"
      ]
    }
  ],
  "metadata": {
    "colab": {
      "provenance": []
    },
    "kernelspec": {
      "display_name": "Python 3",
      "language": "python",
      "name": "python3"
    },
    "language_info": {
      "codemirror_mode": {
        "name": "ipython",
        "version": 3
      },
      "file_extension": ".py",
      "mimetype": "text/x-python",
      "name": "python",
      "nbconvert_exporter": "python",
      "pygments_lexer": "ipython3",
      "version": "3.9.7"
    },
    "toc": {
      "base_numbering": 1,
      "nav_menu": {},
      "number_sections": true,
      "sideBar": true,
      "skip_h1_title": false,
      "title_cell": "Table of Contents",
      "title_sidebar": "Contents",
      "toc_cell": false,
      "toc_position": {},
      "toc_section_display": true,
      "toc_window_display": false
    },
    "toc-autonumbering": true
  },
  "nbformat": 4,
  "nbformat_minor": 0
}
