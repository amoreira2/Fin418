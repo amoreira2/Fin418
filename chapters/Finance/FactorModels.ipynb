{
 "cells": [
  {
   "cell_type": "code",
   "execution_count": 2,
   "id": "suspected-knitting",
   "metadata": {},
   "outputs": [],
   "source": [
    "import numpy as np\n",
    "import pandas as pd\n",
    "%matplotlib inline\n",
    "import matplotlib.pyplot as plt"
   ]
  },
  {
   "cell_type": "markdown",
   "id": "bfcd2dd3",
   "metadata": {},
   "source": [
    "# Introduction to Factor models and Estimation issues\n",
    "\n",
    "\n",
    "Let $r^{e,i}$ be an asset excess return over the risk-free rate\n",
    "\n",
    "Let $f^e$ be a traded factor, for now  the excess returns on SPY ETF\n",
    "\n",
    "Then we can write\n",
    "\n",
    "$$r^{e,i}=\\alpha_i + b_{i,f}f^e+u_{i}$$\n",
    "\n",
    "where $b_{i,f}$ is asset $i$ exposure to the factor $f$\n",
    "\n",
    "We can always write things that way--it is just a statistical decomposition\n",
    "\n",
    "1. It can be useful for measuring risk if\n",
    "    - The risk $u_{i,t}$ is specific to asset $i$ and uncorrelated with other assets\n",
    "    - I.e the factors picks up lots of the variation in stock returns \n",
    "\n",
    "2. It can be useful for measuring expected returns if\n",
    "    - The premium on the factor f, $E[f^e]$ summarize well the known \"priced\" systematic risk factors\n",
    "    - By \"priced\" we mean risk-factors that earn a risk premium  $E[f^e]>0$\n",
    "\n",
    "We will call the first a factor model of risk, and the second a factor model of expected returns\n",
    "\n",
    "## Alpha and Beta\n",
    "\n",
    "Note that\n",
    "\n",
    "$$E[r^i]=E[rf+r^{e,i}]=rf+E[\\alpha_i + b_{i,f}f^e+u_{i}]$$\n",
    "\n",
    "$$E[r^i]=rf+\\alpha_i+b_{i,f}E[f^e]+E[u_{i}]$$\n",
    "\n",
    "- Using that $E[u_{i}]=0$ we have\n",
    "- \n",
    "$$E[r^i]=rf+\\alpha_i+b_{i,f}E[f^e]$$\n",
    "\n",
    "- Thus, just like the risk of our asset could be attributed to the factor and it's component, the same model also allow us to decompose the expected return in terms of the risk-free rate, the premium coming from the common factor exposure $b_{i,f}E[f^e]$ and the risk-premium specific to the asset, the ALPHA.\n",
    "\n",
    "- Getting exposure to the factor is a commodity. Anyone can buy SPY or many other funds that track the market very well\n",
    "  \n",
    "- In most funds, specially for portfolio managers working a pod shops like Citadel and Millenium, a portfolio manager mandate is to take no factor risk--or at least aim to be close to factor neutral.\n",
    "\n",
    "- It is all about the alpha \n",
    "\n",
    "- The alpha does not need to be in a specific asset, can be o a combination of them\n",
    "\n",
    "- The decomposition works the same for portfolio of assets\n",
    "\n"
   ]
  },
  {
   "cell_type": "markdown",
   "id": "a736d9fd",
   "metadata": {},
   "source": [
    "## Focus on your edge, hedge all the rest\n",
    "\n",
    "\n",
    "Even here with only one asset and one factor we already have to know many things\n",
    "\n",
    "1. The risk-free rate\n",
    "2. The beta \n",
    "3. The factor risk-premia\n",
    "4. The factor variance\n",
    "5. The asset specific alpha\n",
    "6. The factor specific variance\n",
    "   \n",
    "For now we will assume we know each of these.\n",
    "\n",
    "The key use of the factor model is to give you discipline to separate your edge from the rest\n",
    "\n",
    "\n",
    "if you have an asset that has alpha, says, you are confident that APPLE will beat expectations and you expect a 5% appreciation in the next 12 months beyond any factor exposure that APPle might had, what do you do?\n",
    "\n",
    "1. Buy apple! \n",
    "\n",
    "But what is the market crashes? Why bear that risk?  \n",
    "Portfolio allocators look for managers with alpha, not beta. \n",
    "What if the market crashes before apple surprises and your investors pull out?\n",
    "\n",
    "\n",
    "2. Hedge the market\n",
    "   - How do you do that?\n",
    "   - Short it!\n",
    "   - How much?\n",
    "   - the asset beta!\n",
    "\n",
    "\n",
    "Example:\n",
    "\n",
    "1. You buy 1M in Apple stock, so your portfolio PnL is 1M*$r^{apple}$\n",
    "2. Your portfolio PnL in excess what you would earn in treasuries is 1M*$(r^{apple}-rf)$\n",
    "3. Sell (short) 1M*$beta_{apple,f}$ of the factor\n",
    "4. Now your portfolio is PnL above the risk-free rate is\n",
    "\n",
    "$$1M*(r^{apple}-rf-\\beta*r^{SPY}+\\beta*rf)$$\n",
    "\n",
    "When you sell SPY short you get the money and here I am \"investing\" it in the risk-free rate\n",
    "\n",
    "Alternatively you can think of it as using to fund the apple buy\n",
    "\n",
    "it does not matter, because we are accounting for the time-value of money\n",
    "\n",
    "We certainly don't want to invest anything else to just add noise to our trade \n",
    "\n",
    "\n",
    "$$1M*(r^{apple}-\\beta*r^{SPY}-(1-\\beta)*rf)$$\n",
    "\n",
    "For a high beta stock your trade generates extra cash!\n",
    "\n",
    "If $\\beta>1$, -(1-\\beta)*rf>0\n",
    "\n",
    "This happens because you are selling more than you are buying\n",
    "\n",
    "If we substitute our factor model in our trade PnL and take expectations what do we get?\n",
    "\n",
    "$$1M*E[r^{apple}-rf-\\beta*r^{SPY}+\\beta*rf)]$$\n",
    "\n",
    "$$1M*E[\\alpha_i+rf+beta*(r^{SPY}-rf)+u_i-rf-\\beta*r^{SPY}+\\beta*rf)]$$\n",
    "\n",
    "A pure play portfolio!\n",
    "\n",
    "$$1M*E[\\alpha_i]$$\n",
    "\n",
    "And what is the portfolio risk?\n",
    "\n",
    "$$std(1M*(r^{apple}-rf-\\beta*r^{SPY}+\\beta*rf))=1M*std(u_i)$$\n",
    "\n",
    "Lets do this!\n",
    "\n",
    "I will use a regression to get some numbers for us to do this strategy, but for now, just think those as numbers I am giving you and don;t think of the regression as giving the right numbers necessarily\n",
    "\n",
    "\n",
    "Do example with an asset. Compare the hedged and unhedged returns\n",
    "\n",
    "Discuss why these are trading strategy returns\n",
    "\n",
    "Show the positions that Implement this trade\n",
    "\n"
   ]
  },
  {
   "cell_type": "code",
   "execution_count": null,
   "id": "55838db8",
   "metadata": {},
   "outputs": [],
   "source": []
  },
  {
   "cell_type": "code",
   "execution_count": null,
   "id": "ce8bff47",
   "metadata": {},
   "outputs": [],
   "source": []
  },
  {
   "cell_type": "markdown",
   "id": "80c01fab",
   "metadata": {},
   "source": [
    "\n",
    "Look the advantadges of minimize risk\n",
    "\n",
    "\n",
    "\n",
    "What is the probability that your portfolio will be worth less that 750K in the end of the year if you don't hedge?\n",
    "\n",
    "What is the probability of this same loss if you hedge?\n",
    "\n",
    "Suppose you have access to funding at rf, how much larger a position can you take with the hedge while keeping the same probability of loss of 250K?"
   ]
  },
  {
   "cell_type": "markdown",
   "id": "465d2d50",
   "metadata": {},
   "source": []
  },
  {
   "cell_type": "markdown",
   "id": "1b2ac908",
   "metadata": {},
   "source": [
    "## How do we know these things?\n",
    "\n",
    "\n",
    "  \n",
    "\n",
    "\n",
    "\n",
    "\n"
   ]
  },
  {
   "cell_type": "markdown",
   "id": "6f396d6b",
   "metadata": {},
   "source": [
    "## Estimation of a factor model"
   ]
  },
  {
   "cell_type": "markdown",
   "id": "f2ea4993",
   "metadata": {},
   "source": []
  },
  {
   "cell_type": "code",
   "execution_count": null,
   "id": "a4ea2e15",
   "metadata": {},
   "outputs": [],
   "source": []
  },
  {
   "cell_type": "markdown",
   "id": "3045a110",
   "metadata": {},
   "source": []
  },
  {
   "cell_type": "markdown",
   "id": "bf4658c1",
   "metadata": {},
   "source": [
    "\n",
    "\n"
   ]
  },
  {
   "cell_type": "code",
   "execution_count": null,
   "id": "6a4bc129",
   "metadata": {},
   "outputs": [],
   "source": []
  },
  {
   "cell_type": "markdown",
   "id": "03426279",
   "metadata": {},
   "source": []
  },
  {
   "cell_type": "code",
   "execution_count": null,
   "id": "307c8b1a",
   "metadata": {},
   "outputs": [],
   "source": []
  },
  {
   "cell_type": "markdown",
   "id": "9e3f9227",
   "metadata": {},
   "source": []
  }
 ],
 "metadata": {
  "kernelspec": {
   "display_name": "Python 3",
   "language": "python",
   "name": "python3"
  },
  "language_info": {
   "codemirror_mode": {
    "name": "ipython",
    "version": 3
   },
   "file_extension": ".py",
   "mimetype": "text/x-python",
   "name": "python",
   "nbconvert_exporter": "python",
   "pygments_lexer": "ipython3",
   "version": "3.9.12"
  }
 },
 "nbformat": 4,
 "nbformat_minor": 5
}
