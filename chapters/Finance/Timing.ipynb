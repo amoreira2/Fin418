{
 "cells": [
  {
   "cell_type": "markdown",
   "id": "a0ae8634",
   "metadata": {},
   "source": [
    "#  Timing\n",
    "\n",
    "* So far we focused on strategies that overweight some assets and underweight others\n",
    "\n",
    "* While these strategies are dynamic--since the portfolios change every year or even every month\n",
    "\n",
    "* These strategies do not explicitly exploit the possibility that the risk and returns of the factors are time-varying\n",
    "\n",
    "* To the extent that they are, then you might benefit of dynamically change you exposure to the factor\n",
    "\n",
    "* Say for example, if, every thing else constant, you know that expected returns on the market next year is below the average, then you would reduce your position in it relative to what you typically have. You would move your money into cash or into other candidate asset\n",
    "\n",
    "* To keep it simple we always think of timing as moving money between on factor and cash\n",
    "\n",
    "* While one can time any factor, lets start with the most important one, the market\n",
    "\n",
    "**Factor timing: Theoretical intuition**\n",
    "\n",
    "Lets consider the problem of this mean-variance investor that allocates between a factor (the market) and a risk-free asset. (For convenience the risky asset will already by an excess return, but that doesn't matter)\n",
    "\n",
    "There is nothing special about the market, this could also be the aggregate portfolio of the fund\n",
    "\n",
    "$$\\max_{x_t} E_t[x_tr_{t+1} +(1-x_t)rf_{t+1}]-\\frac{\\gamma}{2}Var_t(x_tr^e_{t+1} +(1-x_t)rf_{t+1})$$\n",
    "\n",
    "- The only difference from the previous mve analysis is that now it is only one risky asset, so this is particular case of that problem. \n",
    "\n",
    "- The other important difference is the `t` subscripts in the moments. \n",
    "\n",
    "- It means that the moments can be varying overtime.\n",
    "\n",
    "The solution to this problem is super simple\n",
    "\n",
    "$$x_t=\\frac{E_t[r_{t+1}-r^f_{t+1}]}{\\gamma Var_t(r_{t+1})}$$\n",
    "\n",
    "So you invest proportionally to the risk-return trade-off.\n",
    "\n",
    "- lever up if expected returns are higher\n",
    "\n",
    "- lever down if variance is higher\n",
    "\n",
    "A nice result is that you target the volatility of your portfolio to move up and down with the factor Sharpe ratio\n",
    "\n",
    "$$x_t\\sigma_t(r_{t+1})=\\frac{1}{\\gamma}\\frac{E_t[r_{t+1}-r^f_{t+1}]}{ \\sigma_t(r_{t+1})}=SR_t(r_{t+1})$$\n",
    "\n",
    "If SR is up you choose to have a more volatile portfolio\n",
    "\n",
    "- makes sense!it is more attractive to take risk! \n",
    "\n",
    "- The theory tells us that is all about the ratio of premium to variance\n",
    "\n",
    "- If risk-premiums goes up more than the variance, you lever up\n",
    "\n",
    "- If variance goes up more than risk-premiums, you lever down"
   ]
  }
 ],
 "metadata": {
  "kernelspec": {
   "display_name": "base",
   "language": "python",
   "name": "python3"
  },
  "language_info": {
   "name": "python",
   "version": "3.9.19"
  }
 },
 "nbformat": 4,
 "nbformat_minor": 5
}
