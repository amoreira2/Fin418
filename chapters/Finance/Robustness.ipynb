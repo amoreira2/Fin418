{
 "cells": [
  {
   "cell_type": "code",
   "execution_count": 2,
   "metadata": {
    "colab": {},
    "colab_type": "code",
    "id": "82IDb6GmdibW"
   },
   "outputs": [],
   "source": [
    "# First we start loading our favourite packages with the names we used to\n",
    "import numpy as np\n",
    "import pandas as pd\n",
    "%matplotlib inline\n",
    "import matplotlib.pyplot as plt\n",
    "# import regression package\n",
    "import statsmodels.api as sm"
   ]
  },
  {
   "cell_type": "markdown",
   "metadata": {},
   "source": [
    "# Robustness of Quantitative Strategies"
   ]
  },
  {
   "cell_type": "markdown",
   "metadata": {},
   "source": [
    "\n",
    "\n",
    "\n",
    "* The more complicated a trading strategy, the more the in sample results are often a poor guide to how things behave out of sample\n",
    "\n",
    "* Looking for large t-stats only partially guard against that because you will be searching for things that have high t-stats and you are bound to find high t-stat strategies **in sample** even if no true large alpha strategy exists.\n",
    "\n",
    "* the literature on the biases that the \"strategy discovery\" process creates is vast and growing\n",
    "\n",
    "**Literature**\n",
    "\n",
    "* [False (and Missed) Discoveries in Financial Economics](https://faculty.fuqua.duke.edu/~charvey/Research/Published_Papers/P143_False_and_missed_OL.pdf)\n",
    "\n",
    "* [Predicting Anomaly Performance with Politics, the Weather, Global Warming, Sunspots, and the Stars](http://rnm.simon.rochester.edu/research/PPiCToAPA.pdf) by Rober Novy Marx\n",
    "\n",
    "* [A comprehensive look at the empirical performance of equity premium prediction](https://academic.oup.com/rfs/article-abstract/21/4/1455/1565737)\n",
    "\n",
    "Inspecting whether your discovery is **TRUE** or just a statistical abnormality is science as much as it is art. \n",
    "\n",
    "Patterns that are so statistically reliable that everyone can easily detect are unlikely to stay for long unless it is compensation for true risk. \n",
    "\n",
    "So you are unlikely to find something that makes sense only based on the stats and you will need to use your **economic logic** to evaluate if you cna understand why the premium is as high as it is. We will discuss this less \"quantitative\" part of the process in the chapter Equilibrium Thinking.\n",
    "\n",
    "Here we will highlight the problem and discuss a few statistical techniques.\n",
    "\n",
    "Here are a few Twitter threads from people in the industry about this\n",
    "\n",
    "* [someone tells you they have a strategy with a Sharpe of S. What questions should you be asking about the strategy to verify that it's real?](https://twitter.com/macrocephalopod/status/1359810769433616384)\n",
    "\n",
    "* [overfiting](https://twitter.com/macrocephalopod/status/1362165448205295620?s=20)\n",
    "\n",
    "It has this really nice plot\n",
    "\n",
    "![outofsample](../../assets/plots/outofsample1.jpg)\n",
    "\n",
    "\n",
    "> What does it tell us?\n",
    "\n",
    "* [The dumbest strategy ever created](https://imarketsignals.com/2021/outperforming-the-sp-500-with-50-consensus-stock-holdings-of-40-large-hedge-funds/)\n",
    "\n",
    "* [We are always looking for patterns, be careful!](https://twitter.com/nope_its_lily/status/1368623837961621505)"
   ]
  },
  {
   "cell_type": "markdown",
   "metadata": {},
   "source": [
    "## The basic problem of overfitting\n",
    "\n",
    "Any sample estimate  is itself a random variable.  The uncertainty in these estimates may encourage us to:\n",
    "- Select signals that are pure noise with no real predictive power.\n",
    "- Select real signals but overweight their importance to the model.\n",
    "- Reject signals that are real but that did not show up in the sample.\n",
    "- Make inaccurate assessments of strategy quality and poor resource allocation.\u000b\n",
    "- When choosing model weights, implicitly and explicitly (through optimization) we assign weights that exaggerate the overfitting problem.\n",
    "- Weights tilt toward signals with the most error. Leading to bigger degradation in out-of-sample performance going forward.\n"
   ]
  },
  {
   "cell_type": "markdown",
   "metadata": {},
   "source": [
    "## Suggestions to guard against overfitting\n",
    "\n",
    "\n",
    "- Additional diagnostics\n",
    "- Robustness tests\n",
    "- Estimation/validation/Out of Sample analysis\n",
    "- Optimization?\n",
    "- Simulations? "
   ]
  },
  {
   "cell_type": "markdown",
   "metadata": {},
   "source": [
    "## Optimization makes it worse\n",
    "\n",
    "- It is a form of in-sample regression.  \n",
    "- Weights in model heavily determined by in-sample statistics, often the most extreme weights most likely to be off\n",
    "\n",
    "\n"
   ]
  },
  {
   "cell_type": "markdown",
   "metadata": {},
   "source": [
    "## Additional Diagnostics\n",
    "\n",
    "- Strategy Sharpe Ratio\n",
    "- Report t-stat of mean return\n",
    "- Alpha and t-stat of alpha\n",
    "- Confidence intervals around key results including SR\n",
    "- Strategy performance with small perturbations ( say change horizon, skip a month)\n",
    "- Cumulative return  and drawdown graphs\n",
    "    - where the performance is coming form? Is it steady? When it does poorly?\n",
    "- Report percentage of observations with +/- 3 std events\n",
    "- Remove “influential data points”: Calculate fraction of data points needed to halve estimated Sharpe ratio.\n",
    "- When comparing Strategies, always do it over the same sample period!\n",
    "\n",
    "\n"
   ]
  },
  {
   "cell_type": "markdown",
   "metadata": {},
   "source": [
    "### Confidence intervals/T-tests for Sharpe Ratios\n",
    "\n",
    "- If returns are normal\n",
    "\n",
    "$$\\sigma(SR)=\\sqrt{\\frac{1}{T-1}(1+SR^2/2)}$$\n",
    "\n",
    "where T is the sample size and SR is the estimated Sharpe Ratio\n",
    "\n",
    "> what are the 95% Confidence intervals?"
   ]
  },
  {
   "cell_type": "markdown",
   "metadata": {},
   "source": [
    "### Distribution sampling\n",
    "\n",
    "- Instead of assuming returns have a particular distribution we can sample from the realized distribution to obtain alternative realization of the world \n",
    "\n",
    "**Bootstrap**\n",
    "    - Draw from the data with replacement T times. This gives you a \"new sample\".\n",
    "    - Construct The sharpe ratio in this sample, save it\n",
    "    - Do that M times and compute the standard deviation of the SR across samples\n",
    "    - You can also directly look at the 5% worse realizations\n",
    "    - This give you the different SR that can be produced by the same truth\n",
    "\n",
    "\n"
   ]
  },
  {
   "cell_type": "markdown",
   "metadata": {},
   "source": [
    "### Adjusting for Discarded Signals\n",
    "\n",
    "- Often we look at many signals to find the one\n",
    "- This makes conventional thresholds for t-tests too small\n",
    "- There are many different adjustments for this\n",
    "\n",
    "Boferroni T-stats\n",
    "\n",
    "![Bonferroni Correction](../../assets/plots/bonferroni.jpg)\n",
    "\n",
    "\n",
    "- You go form 1.96 to 3 as you look at 20 signals instead of 1\n",
    "- It is a pretty conservative adjustment\n",
    "- Correction changes the most as you go from 1 to 5 signals\n",
    "\n"
   ]
  },
  {
   "cell_type": "markdown",
   "metadata": {},
   "source": [
    "### Robustifying your Backtests\n",
    "\n",
    "- Calculate out of sample Sharpe ratios: Have a hold-out sample not used in backtest to test out of sample performance. \n",
    "\n",
    "- Be careful to not use out of sample results for tunning and model choice\n",
    "\n",
    "- When tuning/model choice is needed it is useful to have\n",
    "\n",
    "    - Estimation\n",
    "    - Test sample\n",
    "    - Hold out sample\n",
    "\n",
    "\n",
    "- Add random noise to signals (some fraction of vol.) to slightly distort rankings and recompute Sharpe.\n",
    "- How robust are slight perturbations in the cross-sectional rankings?\n",
    "\n",
    "- Calculate the Sharpe ratio for a strategy that always eliminates the top 2% long and short positions (which are most likely error prone).\n",
    "\n",
    "- Keep track of your discarded ideas going forward\n",
    "\n",
    "- You need to calibrate your discovery process to be tough, but not too tough. Otherwise you will discard too many good signals.\n",
    "\n",
    "\n",
    "\n",
    "\n",
    "\n"
   ]
  },
  {
   "cell_type": "markdown",
   "metadata": {},
   "source": [
    "## Approaches for sample splliting\n",
    "\n",
    "- Rolling window estimation\n",
    "\n",
    "- Use odd months to estimate signals and even months to compute returns and test signals.  Repeat by switching odd and even months.  \n",
    "\n",
    "- Split sample in half, estimation and test sample\n",
    "\n",
    "Be very careful for information of the test sample to leak into the estimation.\n",
    "\n",
    "For example, your idea might be motivated by a few months where you know these firms did well. Be sure to check the results are not driving by this\n"
   ]
  },
  {
   "cell_type": "markdown",
   "metadata": {},
   "source": [
    "**Aplication 1: optimal combitation of market and value strategies**\n",
    "\n",
    "Below is our full sample optimal portfolio\n",
    "\n",
    "We will split our sample into two halves:  \n",
    " 1. take all observations from odd months in even years and even months in odd years (i.e., if starting in 1980, this would look like:  01/1980, 03/1980, . . . , 11/1980, 02/1981, 04/1981, . . . 12/1981, 01/1982, 03/1982, . . .); and \n",
    " 2.  the opposite (take all observations from even months in even years and odd months in odd years).\n",
    "\n",
    "A nice thing to do in halves is that we can cross-validated  use first sample 1 as estiamtion sample and sample2 as test sample, and then invert\n",
    "\n",
    "If you have lot of data one migh split the data in 5 folds and do the estimation in one and test on the rest.\n"
   ]
  },
  {
   "cell_type": "code",
   "execution_count": 3,
   "metadata": {},
   "outputs": [
    {
     "data": {
      "text/html": [
       "<div>\n",
       "<style scoped>\n",
       "    .dataframe tbody tr th:only-of-type {\n",
       "        vertical-align: middle;\n",
       "    }\n",
       "\n",
       "    .dataframe tbody tr th {\n",
       "        vertical-align: top;\n",
       "    }\n",
       "\n",
       "    .dataframe thead th {\n",
       "        text-align: right;\n",
       "    }\n",
       "</style>\n",
       "<table border=\"1\" class=\"dataframe\">\n",
       "  <thead>\n",
       "    <tr style=\"text-align: right;\">\n",
       "      <th></th>\n",
       "      <th>Mkt-RF</th>\n",
       "      <th>SMB</th>\n",
       "      <th>HML</th>\n",
       "      <th>RF</th>\n",
       "    </tr>\n",
       "    <tr>\n",
       "      <th>Date</th>\n",
       "      <th></th>\n",
       "      <th></th>\n",
       "      <th></th>\n",
       "      <th></th>\n",
       "    </tr>\n",
       "  </thead>\n",
       "  <tbody>\n",
       "    <tr>\n",
       "      <th>1926-07</th>\n",
       "      <td>2.96</td>\n",
       "      <td>-2.56</td>\n",
       "      <td>-2.43</td>\n",
       "      <td>0.22</td>\n",
       "    </tr>\n",
       "    <tr>\n",
       "      <th>1926-08</th>\n",
       "      <td>2.64</td>\n",
       "      <td>-1.17</td>\n",
       "      <td>3.82</td>\n",
       "      <td>0.25</td>\n",
       "    </tr>\n",
       "    <tr>\n",
       "      <th>1926-09</th>\n",
       "      <td>0.36</td>\n",
       "      <td>-1.40</td>\n",
       "      <td>0.13</td>\n",
       "      <td>0.23</td>\n",
       "    </tr>\n",
       "    <tr>\n",
       "      <th>1926-10</th>\n",
       "      <td>-3.24</td>\n",
       "      <td>-0.09</td>\n",
       "      <td>0.70</td>\n",
       "      <td>0.32</td>\n",
       "    </tr>\n",
       "    <tr>\n",
       "      <th>1926-11</th>\n",
       "      <td>2.53</td>\n",
       "      <td>-0.10</td>\n",
       "      <td>-0.51</td>\n",
       "      <td>0.31</td>\n",
       "    </tr>\n",
       "    <tr>\n",
       "      <th>...</th>\n",
       "      <td>...</td>\n",
       "      <td>...</td>\n",
       "      <td>...</td>\n",
       "      <td>...</td>\n",
       "    </tr>\n",
       "    <tr>\n",
       "      <th>2020-11</th>\n",
       "      <td>12.47</td>\n",
       "      <td>5.80</td>\n",
       "      <td>2.09</td>\n",
       "      <td>0.01</td>\n",
       "    </tr>\n",
       "    <tr>\n",
       "      <th>2020-12</th>\n",
       "      <td>4.63</td>\n",
       "      <td>4.89</td>\n",
       "      <td>-1.51</td>\n",
       "      <td>0.01</td>\n",
       "    </tr>\n",
       "    <tr>\n",
       "      <th>2021-01</th>\n",
       "      <td>-0.03</td>\n",
       "      <td>7.36</td>\n",
       "      <td>3.01</td>\n",
       "      <td>0.01</td>\n",
       "    </tr>\n",
       "    <tr>\n",
       "      <th>2021-02</th>\n",
       "      <td>2.78</td>\n",
       "      <td>2.05</td>\n",
       "      <td>7.15</td>\n",
       "      <td>0.00</td>\n",
       "    </tr>\n",
       "    <tr>\n",
       "      <th>2021-03</th>\n",
       "      <td>3.08</td>\n",
       "      <td>-2.37</td>\n",
       "      <td>7.39</td>\n",
       "      <td>0.00</td>\n",
       "    </tr>\n",
       "  </tbody>\n",
       "</table>\n",
       "<p>1137 rows × 4 columns</p>\n",
       "</div>"
      ],
      "text/plain": [
       "         Mkt-RF   SMB   HML    RF\n",
       "Date                             \n",
       "1926-07    2.96 -2.56 -2.43  0.22\n",
       "1926-08    2.64 -1.17  3.82  0.25\n",
       "1926-09    0.36 -1.40  0.13  0.23\n",
       "1926-10   -3.24 -0.09  0.70  0.32\n",
       "1926-11    2.53 -0.10 -0.51  0.31\n",
       "...         ...   ...   ...   ...\n",
       "2020-11   12.47  5.80  2.09  0.01\n",
       "2020-12    4.63  4.89 -1.51  0.01\n",
       "2021-01   -0.03  7.36  3.01  0.01\n",
       "2021-02    2.78  2.05  7.15  0.00\n",
       "2021-03    3.08 -2.37  7.39  0.00\n",
       "\n",
       "[1137 rows x 4 columns]"
      ]
     },
     "execution_count": 3,
     "metadata": {},
     "output_type": "execute_result"
    }
   ],
   "source": [
    "# loading the data\n",
    "from pandas_datareader.famafrench import get_available_datasets\n",
    "import pandas_datareader.data as web\n",
    "ds_names=get_available_datasets()\n",
    "from datetime import datetime\n",
    "start = datetime(1926, 1, 1)\n",
    "ds = web.DataReader(ds_names[0], 'famafrench',start=start)\n",
    "df=ds[0][:'2021-3']\n",
    "df"
   ]
  },
  {
   "cell_type": "code",
   "execution_count": 4,
   "metadata": {},
   "outputs": [],
   "source": [
    "# lets define a function to calculate the Sharpe ratio  \n",
    "def SR(R,freq=12):\n",
    "    sr=R.mean()/R.std()*freq**0.5\n",
    "    return sr"
   ]
  },
  {
   "cell_type": "code",
   "execution_count": 6,
   "metadata": {},
   "outputs": [
    {
     "data": {
      "text/plain": [
       "0.49973547632746695"
      ]
     },
     "execution_count": 6,
     "metadata": {},
     "output_type": "execute_result"
    }
   ],
   "source": [
    "Assets=df[['Mkt-RF','HML']]\n",
    "Cov=Assets.cov()\n",
    "ER=Assets.mean()\n",
    "Vol_mkt=df['Mkt-RF'].std()\n",
    "X=ER@np.linalg.inv(Cov)\n",
    "# formula for unlevereaged portfolio vol\n",
    "vol_unlevered=(ER@np.linalg.inv(Cov)@ER)**0.5\n",
    "X_lev=X*(Vol_mkt/vol_unlevered)\n",
    "\n",
    "Returns= Assets @ X_lev\n",
    "SR(Returns)"
   ]
  },
  {
   "cell_type": "markdown",
   "metadata": {},
   "source": [
    "Can you construct the 95% Confidence interval for this Sharpe Ratio?\n",
    "\n",
    "- Formula based answer\n",
    "- Bootstrap based answer"
   ]
  },
  {
   "cell_type": "code",
   "execution_count": null,
   "metadata": {},
   "outputs": [],
   "source": []
  },
  {
   "cell_type": "markdown",
   "metadata": {},
   "source": [
    "Letss construct both samples by using a function that returns `True` if the number is odd and then apply this function to the months and years of our dataset."
   ]
  },
  {
   "cell_type": "code",
   "execution_count": 7,
   "metadata": {},
   "outputs": [],
   "source": [
    "# construct function that identifies if a number is odd\n",
    "def is_odd(num):\n",
    "    return num % 2 != 0\n",
    "\n",
    "# create a sample that selects the even years and odd months\n",
    "evenyear_oddmonth=(is_odd(df.index.year)==False) & (is_odd(df.index.month)==True)\n",
    "# create a sample that selects the odd years and even months\n",
    "oddyear_evenmonth=(is_odd(df.index.year)==True) & (is_odd(df.index.month)==False)\n",
    "# join the two samples\n",
    "sample1=evenyear_oddmonth | oddyear_evenmonth\n",
    "# creates the mirror sample\n",
    "sample2=~sample1"
   ]
  },
  {
   "cell_type": "markdown",
   "metadata": {},
   "source": [
    "Lets construct a function that takes the sample and returns the SR"
   ]
  },
  {
   "cell_type": "code",
   "execution_count": 10,
   "metadata": {},
   "outputs": [],
   "source": [
    "# function gets data and sample and returns the returns of the strategy \n",
    "def Strategy(df,sample):\n",
    "   \n",
    "    X=df[sample].mean()@np.linalg.inv(df[sample].cov())\n",
    "    vol_unlevered=(df[sample].mean()@np.linalg.inv(df[sample].cov())@df[sample].mean())**0.5\n",
    "    X_lev=X*(df['Mkt-RF'][sample].std()/vol_unlevered)\n",
    "\n",
    "    Returns= df[~sample] @ X_lev\n",
    "    return Returns"
   ]
  },
  {
   "cell_type": "code",
   "execution_count": 11,
   "metadata": {},
   "outputs": [
    {
     "name": "stdout",
     "output_type": "stream",
     "text": [
      "Optimal portfolio perfomance in sample 2 (estimation sample 1)\n",
      "0.5389590626921715\n",
      "Market perfomance in sample 2\n",
      "Mkt-RF    0.502805\n",
      "dtype: float64\n",
      "Optimal portfolio perfomance in sample 1 (estimation sample 2)\n",
      "0.452846286456286\n",
      "Market perfomance in sample 1\n",
      "Mkt-RF    0.38695\n",
      "dtype: float64\n"
     ]
    }
   ],
   "source": [
    "\n",
    "\n",
    "\n",
    "print('Optimal portfolio perfomance in sample 2 (estimation sample 1)')\n",
    "print(SR(Strategy(df[['Mkt-RF','HML']],sample1)))\n",
    "print('Market perfomance in sample 2')\n",
    "print(SR(df[['Mkt-RF']][sample2]))\n",
    "print('Optimal portfolio perfomance in sample 1 (estimation sample 2)')\n",
    "print(SR(Strategy(df[['Mkt-RF','HML']],sample2)))\n",
    "print('Market perfomance in sample 1')\n",
    "print(SR(df[['Mkt-RF']][sample1]))\n"
   ]
  },
  {
   "cell_type": "markdown",
   "metadata": {},
   "source": [
    "* What do we learn?\n",
    "\n",
    "Lets modify our function to include the estimation of the alpha relative to the market\n",
    "\n",
    "Lets wrap this in a function that computes this for us\n"
   ]
  },
  {
   "cell_type": "code",
   "execution_count": 13,
   "metadata": {},
   "outputs": [
    {
     "name": "stdout",
     "output_type": "stream",
     "text": [
      "Results for  test sample 2 (estimation sample 1)\n",
      "Strategy:SR      0.538959\n",
      "Strategy:std    18.232429\n",
      "MKT:SR           0.502805\n",
      "MKT:std         18.066091\n",
      "alpha            0.168324\n",
      "t(alpha)         1.438795\n",
      "dtype: float64\n",
      "Results for  test sample 1 (estimation sample 2)\n"
     ]
    },
    {
     "data": {
      "text/plain": [
       "Strategy:SR      0.452846\n",
       "Strategy:std    18.831038\n",
       "MKT:SR           0.386950\n",
       "MKT:std         18.989794\n",
       "alpha            0.153165\n",
       "t(alpha)         1.681847\n",
       "dtype: float64"
      ]
     },
     "execution_count": 13,
     "metadata": {},
     "output_type": "execute_result"
    }
   ],
   "source": [
    "def Analysis(df,sample):\n",
    "    results=pd.Series([],index=[],dtype=float)\n",
    "    Returns=Strategy(df,sample)\n",
    "    results.at['Strategy:SR']=SR(Returns)\n",
    "    results.at['Strategy:std']=Returns.std()*12**0.5\n",
    "    results.at['MKT:SR']=SR(df[~sample]['Mkt-RF'])\n",
    "    results.at['MKT:std']=df[~sample]['Mkt-RF'].std()*12**0.5\n",
    "    # now run the regression\n",
    "    x= sm.add_constant(df[~sample]['Mkt-RF'])\n",
    "    regresult= sm.OLS(Returns,x).fit()\n",
    "    results.at['alpha']=regresult.params[0]\n",
    "    results.at['t(alpha)']=regresult.tvalues[0]\n",
    "    \n",
    "    return results\n",
    "print('Results for  test sample 2 (estimation sample 1)')\n",
    "print(Analysis(Assets,sample1))\n",
    "print('Results for  test sample 1 (estimation sample 2)')\n",
    "Analysis(Assets,sample2)"
   ]
  },
  {
   "cell_type": "markdown",
   "metadata": {},
   "source": [
    "* what do we learn?\n",
    "\n",
    "* What other diagnostics can you add to this function?\n",
    "\n",
    "* would it make sense to compute alpha with respect to the Fama-French 3 factor model--which includes HML as one of the factors?\n",
    "\n"
   ]
  },
  {
   "cell_type": "markdown",
   "metadata": {},
   "source": []
  },
  {
   "cell_type": "markdown",
   "metadata": {},
   "source": [
    "## How to split your sample?\n",
    "\n",
    "* You can split the sample in a variety of ways. \n",
    "\n",
    "* If you are unsure, keep  it simple. \n",
    "\n",
    "* The most fool proof way of splitting is with a rolling-sample approach\n",
    "\n",
    "* You don't need to split the samples equally, but you have to have in mind that a long sample is useful to both get precise point estimates (so you need a long enough estimation sample), but a long sample is also required to have enough power to test. IF you make the test sample too short, you are guarantying that you will fail to reject your reference portfolio (because estimates will be too  noisy)\n",
    "\n"
   ]
  },
  {
   "cell_type": "markdown",
   "metadata": {},
   "source": [
    "**Application 2: fine-tuning the look-back window**\n",
    "\n",
    "Now we will compare a variety of models to see which one works best outside of the test sample\n",
    "\n",
    "So we will have the estimation sample where we will estimate the different models-- which in this case will be strategies with different look-back windows\n",
    "\n",
    "What is a look-back window?\n",
    "\n",
    "- It is the window the we use to estimate our moments\n",
    "\n",
    "The trade-off here is:\n",
    "\n",
    " - If you make too short you just pick up noise\n",
    " - If you make too long the moments might not be that informative about future data\n",
    " - Particularly true in he case of volatility, but also true for correlations and expected returns\n",
    "- Particularly severe when dealing with individual assets and not characteristic-based strategies\n",
    " \n",
    " We will split the sample in two. \n",
    " \n",
    " - The first half will be estimation+test, \n",
    " \n",
    " - second half will be hold out\n",
    " \n",
    " "
   ]
  },
  {
   "cell_type": "code",
   "execution_count": 14,
   "metadata": {
    "tags": []
   },
   "outputs": [],
   "source": [
    "holdout_sample=df.index>df.iloc[int(np.floor(df.shape[0]/2))].name"
   ]
  },
  {
   "cell_type": "markdown",
   "metadata": {},
   "source": [
    "\n",
    "* We will now do the estimation fine-tuning. \n",
    "\n",
    "- Lets start by building a code that gets our desired window, do the estimation and construct the return series on the test sample\n"
   ]
  },
  {
   "cell_type": "code",
   "execution_count": 18,
   "metadata": {},
   "outputs": [
    {
     "data": {
      "text/plain": [
       "<AxesSubplot:xlabel='Date'>"
      ]
     },
     "execution_count": 18,
     "metadata": {},
     "output_type": "execute_result"
    },
    {
     "data": {
      "image/png": "[encoded data removed]",
      "text/plain": [
       "<Figure size 432x288 with 1 Axes>"
      ]
     },
     "metadata": {
      "needs_background": "light"
     },
     "output_type": "display_data"
    }
   ],
   "source": [
    "\n",
    "\n",
    "window=36\n",
    "Returns_testsample=pd.DataFrame([],index=df.index,dtype=float)\n",
    "# Use data that is not in the holdout sample to estimate the strategy\n",
    "df1=Assets[~holdout_sample].copy()\n",
    "# loop over the test sample\n",
    "for d in df1.index[window:]:\n",
    "    # select the first 36 months of the sample ( and then add one more month at the tail and drop the last month on the head each time we loop over the sample)\n",
    "    df_temp=df1[d-window:d-1].copy()\n",
    "    # construct optimal portfolio given these 36 months\n",
    "    W1=df_temp.mean()@np.linalg.inv(df_temp.cov())\n",
    "    vol_unlevered=(df_temp.mean()@np.linalg.inv(df_temp.cov())@df_temp.mean())**0.5\n",
    "    W_lev=W1*(df_temp.std()/vol_unlevered)\n",
    "    # save the returns of the strategy and the market on the FOLLOWING month\n",
    "    # this month does NOT enter the estimation of the strategy\n",
    "    Returns_testsample.at[d,'Strategy']= df1.loc[d] @ W_lev\n",
    "    Returns_testsample.at[d,'Mkt-RF']= df1.loc[d,'Mkt-RF']\n",
    "\n",
    "    \n",
    "Returns_testsample.plot()\n"
   ]
  },
  {
   "cell_type": "markdown",
   "metadata": {},
   "source": [
    "- Note that we have no observations early on as we need at the 36 months to estimate and none in the second half, that is the sample that we will hold out\n",
    "\n",
    "- Now that we have this code we can put ina function and simply evaluate at a whole unch of different windows"
   ]
  },
  {
   "cell_type": "code",
   "execution_count": 159,
   "metadata": {
    "tags": []
   },
   "outputs": [
    {
     "data": {
      "text/plain": [
       "<AxesSubplot:xlabel='Date'>"
      ]
     },
     "execution_count": 159,
     "metadata": {},
     "output_type": "execute_result"
    },
    {
     "data": {
      "image/png": "[encoded data removed]",
      "text/plain": [
       "<Figure size 432x288 with 1 Axes>"
      ]
     },
     "metadata": {
      "needs_background": "light"
     },
     "output_type": "display_data"
    }
   ],
   "source": [
    "def RollingEval(df,window,estsample):\n",
    "    Returns_test=pd.DataFrame([],index=df.index,dtype=float)\n",
    "    df1=df[['Mkt-RF','HML']][estsample].copy()\n",
    "    for d in df1.index[window:]:\n",
    "        df_temp=df1[d-window:d-1].copy()\n",
    "        W1=df_temp.mean()@np.linalg.inv(df_temp.cov())\n",
    "        vol_unlevered=(df_temp.mean()@np.linalg.inv(df_temp.cov())@df_temp.mean())**0.5\n",
    "        W_lev=W1*(df_temp.std()/vol_unlevered)\n",
    "        Returns_test.at[d,'Opt']= df1.loc[d] @ W_lev\n",
    "        Returns_test.at[d,'Mkt-RF']= df1.loc[d,'Mkt-RF']\n",
    "    return Returns_test\n",
    "\n",
    "Returns_test=RollingEval(df,36,sample1)        \n",
    "Returns_test.plot()\n"
   ]
  },
  {
   "cell_type": "code",
   "execution_count": 162,
   "metadata": {},
   "outputs": [
    {
     "data": {
      "text/html": [
       "<div>\n",
       "<style scoped>\n",
       "    .dataframe tbody tr th:only-of-type {\n",
       "        vertical-align: middle;\n",
       "    }\n",
       "\n",
       "    .dataframe tbody tr th {\n",
       "        vertical-align: top;\n",
       "    }\n",
       "\n",
       "    .dataframe thead th {\n",
       "        text-align: right;\n",
       "    }\n",
       "</style>\n",
       "<table border=\"1\" class=\"dataframe\">\n",
       "  <thead>\n",
       "    <tr style=\"text-align: right;\">\n",
       "      <th></th>\n",
       "      <th>24</th>\n",
       "      <th>36</th>\n",
       "      <th>48</th>\n",
       "      <th>60</th>\n",
       "      <th>72</th>\n",
       "    </tr>\n",
       "  </thead>\n",
       "  <tbody>\n",
       "    <tr>\n",
       "      <th>Optimal:SR</th>\n",
       "      <td>0.729121</td>\n",
       "      <td>0.662446</td>\n",
       "      <td>0.559205</td>\n",
       "      <td>0.613927</td>\n",
       "      <td>0.604021</td>\n",
       "    </tr>\n",
       "    <tr>\n",
       "      <th>Optimal:std</th>\n",
       "      <td>18.261577</td>\n",
       "      <td>17.478699</td>\n",
       "      <td>17.143940</td>\n",
       "      <td>16.599580</td>\n",
       "      <td>14.608167</td>\n",
       "    </tr>\n",
       "    <tr>\n",
       "      <th>MKT:SR</th>\n",
       "      <td>0.376006</td>\n",
       "      <td>0.349442</td>\n",
       "      <td>0.395631</td>\n",
       "      <td>0.442297</td>\n",
       "      <td>0.599587</td>\n",
       "    </tr>\n",
       "    <tr>\n",
       "      <th>MKT:std</th>\n",
       "      <td>21.156627</td>\n",
       "      <td>21.225400</td>\n",
       "      <td>20.875629</td>\n",
       "      <td>20.531663</td>\n",
       "      <td>19.393643</td>\n",
       "    </tr>\n",
       "    <tr>\n",
       "      <th>alpha</th>\n",
       "      <td>1.168284</td>\n",
       "      <td>0.956486</td>\n",
       "      <td>0.690608</td>\n",
       "      <td>0.703350</td>\n",
       "      <td>0.426639</td>\n",
       "    </tr>\n",
       "    <tr>\n",
       "      <th>t(alpha)</th>\n",
       "      <td>5.165939</td>\n",
       "      <td>4.350827</td>\n",
       "      <td>3.221188</td>\n",
       "      <td>3.379011</td>\n",
       "      <td>2.449945</td>\n",
       "    </tr>\n",
       "  </tbody>\n",
       "</table>\n",
       "</div>"
      ],
      "text/plain": [
       "                    24         36         48         60         72\n",
       "Optimal:SR    0.729121   0.662446   0.559205   0.613927   0.604021\n",
       "Optimal:std  18.261577  17.478699  17.143940  16.599580  14.608167\n",
       "MKT:SR        0.376006   0.349442   0.395631   0.442297   0.599587\n",
       "MKT:std      21.156627  21.225400  20.875629  20.531663  19.393643\n",
       "alpha         1.168284   0.956486   0.690608   0.703350   0.426639\n",
       "t(alpha)      5.165939   4.350827   3.221188   3.379011   2.449945"
      ]
     },
     "execution_count": 162,
     "metadata": {},
     "output_type": "execute_result"
    }
   ],
   "source": [
    "windows=[24,36,48,60,72]\n",
    "results=pd.DataFrame([],index=[],columns=windows,dtype=float)\n",
    "for w in windows:\n",
    "    Returns_test=RollingEval(df,w,sample1)    \n",
    "    results.at['Optimal:SR',w]=SR(Returns_test.Opt)\n",
    "    results.at['Optimal:std',w]=Returns_test.Opt.std()*12**0.5\n",
    "    results.at['MKT:SR',w]=SR(Returns_test['Mkt-RF'])\n",
    "    results.at['MKT:std',w]=Returns_test['Mkt-RF'].std()*12**0.5\n",
    "    # now run the regression\n",
    "    x= sm.add_constant(Returns_test['Mkt-RF'])\n",
    "    y= Returns_test.Opt.copy()\n",
    "    regresult= sm.OLS(y,x,missing='drop').fit()\n",
    "    results.at['alpha',w]=regresult.params[0]\n",
    "    results.at['t(alpha)',w]=regresult.tvalues[0]\n",
    "    \n",
    "results"
   ]
  },
  {
   "cell_type": "markdown",
   "metadata": {},
   "source": [
    "From this it seems that 24 looks best.\n",
    "\n",
    "We will now look at how the 24 performed in the **Hold out sample**"
   ]
  },
  {
   "cell_type": "code",
   "execution_count": 163,
   "metadata": {},
   "outputs": [
    {
     "data": {
      "text/html": [
       "<div>\n",
       "<style scoped>\n",
       "    .dataframe tbody tr th:only-of-type {\n",
       "        vertical-align: middle;\n",
       "    }\n",
       "\n",
       "    .dataframe tbody tr th {\n",
       "        vertical-align: top;\n",
       "    }\n",
       "\n",
       "    .dataframe thead th {\n",
       "        text-align: right;\n",
       "    }\n",
       "</style>\n",
       "<table border=\"1\" class=\"dataframe\">\n",
       "  <thead>\n",
       "    <tr style=\"text-align: right;\">\n",
       "      <th></th>\n",
       "      <th>24</th>\n",
       "    </tr>\n",
       "  </thead>\n",
       "  <tbody>\n",
       "    <tr>\n",
       "      <th>Optimal:SR</th>\n",
       "      <td>1.093922</td>\n",
       "    </tr>\n",
       "    <tr>\n",
       "      <th>Optimal:std</th>\n",
       "      <td>13.521201</td>\n",
       "    </tr>\n",
       "    <tr>\n",
       "      <th>MKT:SR</th>\n",
       "      <td>0.545364</td>\n",
       "    </tr>\n",
       "    <tr>\n",
       "      <th>MKT:std</th>\n",
       "      <td>15.462008</td>\n",
       "    </tr>\n",
       "    <tr>\n",
       "      <th>alpha</th>\n",
       "      <td>0.989791</td>\n",
       "    </tr>\n",
       "    <tr>\n",
       "      <th>t(alpha)</th>\n",
       "      <td>6.354080</td>\n",
       "    </tr>\n",
       "  </tbody>\n",
       "</table>\n",
       "</div>"
      ],
      "text/plain": [
       "                    24\n",
       "Optimal:SR    1.093922\n",
       "Optimal:std  13.521201\n",
       "MKT:SR        0.545364\n",
       "MKT:std      15.462008\n",
       "alpha         0.989791\n",
       "t(alpha)      6.354080"
      ]
     },
     "execution_count": 163,
     "metadata": {},
     "output_type": "execute_result"
    }
   ],
   "source": [
    "windows=[24]\n",
    "results=pd.DataFrame([],index=[],columns=windows,dtype=float)\n",
    "for w in windows:\n",
    "    Returns_test=RollingEval(df,w,sample2)    \n",
    "    results.at['Optimal:SR',w]=SR(Returns_test.Opt)\n",
    "    results.at['Optimal:std',w]=Returns_test.Opt.std()*12**0.5\n",
    "    results.at['MKT:SR',w]=SR(Returns_test['Mkt-RF'])\n",
    "    results.at['MKT:std',w]=Returns_test['Mkt-RF'].std()*12**0.5\n",
    "    # now run the regression\n",
    "    x= sm.add_constant(Returns_test['Mkt-RF'])\n",
    "    y= Returns_test.Opt.copy()\n",
    "    regresult= sm.OLS(y,x,missing='drop').fit()\n",
    "    results.at['alpha',w]=regresult.params[0]\n",
    "    results.at['t(alpha)',w]=regresult.tvalues[0]\n",
    "    \n",
    "results"
   ]
  },
  {
   "cell_type": "markdown",
   "metadata": {},
   "source": [
    "* Even better!\n",
    "\n",
    "* That is pretty good\n",
    "\n",
    "* you can see the t-stat goign through the roof and the SR of the optimal portfolio is almost twice as large as only investing in the market\n",
    "\n",
    "* Note that here the bulk of the gains are form **Timing across these factors**. \n",
    "\n",
    "* You might also look to time between cash and this optimal portfolio\n",
    "\n",
    "* The idea would be exactyl the same. You get a signal for the expected return and/or volatiltiy of the optimal portfolio\n",
    "   - You already have one here, but the fact that the 24 months worked great to time across factors does not mean that it will work great to time between the factor and cash\n",
    "   - But you would have some way to decide the weigths perhaps based on the mean-variance criteria, see how it works in the test sample across a variety of signal specifications and then you would ultimaterly test on the hold out sample\n",
    "   \n",
    "   "
   ]
  },
  {
   "cell_type": "markdown",
   "metadata": {},
   "source": [
    "## Publication bias (or Famous bias or incubation bias...)\n",
    "\n",
    "We discussed that we often look at past performance exactly because a strategy did well. This mechanism of selection renders our statistical analysis biased in the direction of findings that the strategy is amazing.\n",
    "\n",
    "It is often hard to deal with this because you need all the data of strategies that look like the one you are interested from the perspective of someone in the start of the reliant sample. That is hard.\n",
    "\n",
    "One way to deal with this is to use some hard metric of saliency. \n",
    "\n",
    "- For example, check when Bitcoin became popular and we did our analysis after that.\n",
    "\n",
    "- See when a fund manager became well known because of his/her performance. While google trends is only available after 2004 there is data from New York Times and Wall Street Journal that allows you to go back to the start of the **Last** century. ([for example, I use data like that that in this paper](http://www.google.com/url?q=http%3A%2F%2Fwww.sciencedirect.com%2Fscience%2Farticle%2Fpii%2FS0304405X16301751&sa=D&sntz=1&usg=AFQjCNFWO63SSQXSteNhgTI4oOhtmh0ZUQ))\n",
    "\n",
    "A setting where we can do this very cleanly is in the context of academic work. We know exactly when the paper was first published and what the sample that was used there\n",
    "\n",
    "A nice paper that investigates this for a bunch of strategies is [Does academic research destroy stock return predictability?](https://onlinelibrary.wiley.com/doi/pdf/10.1111/jofi.12365?casa_token=gSqvouNM61EAAAAA:JyTl4yxx9xTfKo8-VEBIE-4c4ha7kRFGvirWzEZRXhYw2AtueM3yzpRDcpcXgnsDdlvlXflKp1Nw_ss)\n",
    "\n",
    "**Application: Evaluating the publication bias in Fama French 1996, Multifactor Anomalies...**\n",
    "\n",
    "The original paper has the following table\n",
    "\n",
    "\n",
    "![outofsample](../../assets/plots/outofsample2.jpg)\n",
    "\n",
    "* You see here that the sample runs from 63 to 93. Back in 93 we didn't have digitalized accounting data that went back to the 30's\n",
    "\n",
    "* Looking at the very last row we see that the alpha of the HML withresepect to the market is enormous, 0.56% per month, and it has a negative beta with the market!\n",
    "\n",
    "* so now we will look at two different samples that the authors never looked before doing their study.\n",
    "\n",
    "    * The pre 63 sample\n",
    "    * the post 93. \n",
    "    \n",
    "    \n"
   ]
  },
  {
   "cell_type": "code",
   "execution_count": 169,
   "metadata": {
    "tags": []
   },
   "outputs": [],
   "source": [
    "sample1=df.index<df.loc['1963-7'].name\n",
    "sample2=df.index>df.loc['1993-12'].name\n",
    "sample3=((df.index>=df.loc['1963-7'].name) &(df.index<=df.loc['1993-12'].name))"
   ]
  },
  {
   "cell_type": "code",
   "execution_count": 179,
   "metadata": {},
   "outputs": [
    {
     "name": "stdout",
     "output_type": "stream",
     "text": [
      "Pre publication sample\n",
      "HML:SR               0.346962\n",
      "MKT:SR               0.457366\n",
      "alpha                0.113160\n",
      "beta                 0.371094\n",
      "t(alpha)             0.661317\n",
      "AR                   0.185219\n",
      "HML weight on MVE    0.342709\n",
      "dtype: float64\n",
      "Publication sample\n",
      "HML:SR               0.608203\n",
      "MKT:SR               0.325699\n",
      "alpha                0.542778\n",
      "beta                -0.207224\n",
      "t(alpha)             4.257801\n",
      "AR                   1.755981\n",
      "HML weight on MVE    0.696805\n",
      "dtype: float64\n",
      "Post publication sample\n",
      "HML:SR               0.079270\n",
      "MKT:SR               0.580553\n",
      "alpha                0.113256\n",
      "beta                -0.054502\n",
      "t(alpha)             0.637514\n",
      "AR                   0.201533\n",
      "HML weight on MVE    0.228248\n",
      "dtype: float64\n"
     ]
    }
   ],
   "source": [
    "def Strategy(df1,sample):\n",
    "    results=pd.Series([],index=[],dtype=float)\n",
    "    x= sm.add_constant(df1[sample]['Mkt-RF'])\n",
    "    y= df1[sample]['HML'].copy()\n",
    "    regresult= sm.OLS(y,x).fit()\n",
    "    results.at['HML:SR']=SR(y)\n",
    "    results.at['MKT:SR']=SR(df1[sample]['Mkt-RF'])\n",
    "    results.at['alpha']=regresult.params[0]\n",
    "    results.at['beta']=regresult.params[1]\n",
    "    results.at['t(alpha)']=regresult.tvalues[0]\n",
    "    results.at['AR']=regresult.tvalues[0]/regresult.resid.std()\n",
    "    W=df1[sample].mean()@np.linalg.inv(df1[sample].cov())\n",
    "    W=W/np.sum(W)\n",
    "    results.at['HML weight on MVE']=W[1]\n",
    "\n",
    "    return results\n",
    "print('Pre publication sample')\n",
    "print(Strategy(df[['Mkt-RF','HML']],sample1))\n",
    "print('Publication sample')\n",
    "print(Strategy(df[['Mkt-RF','HML']],sample3))\n",
    "print('Post publication sample')\n",
    "print(Strategy(df[['Mkt-RF','HML']],sample2))\n"
   ]
  },
  {
   "cell_type": "markdown",
   "metadata": {},
   "source": [
    "**what do we learn?**\n",
    "\n",
    "* In the Pre-publication sample HML has a respectable SR, but the asset is much more correlated with the market so it's betas with respect to the market leaves only a statistically insignifcant 0.37% per month, 1.2% per year.\n",
    "\n",
    "* Thus in the pre-sample the HML has a nice SR but the CAPM works so you would not have gained/lost too much of tilting your portfolio towards the HML strategy\n",
    "\n",
    "* In the post-publication sample the results are very ugly\n",
    "    - Sharpe ratio is now 0.08--compared with the 0.58 SR on the market\n",
    "    - the alpha is still about the same as in the pre-publication, but now the betas become negative\n",
    "    - the HML premium goes away almost completely\n",
    "    \n",
    "    \n",
    "To have a sense of the shift we can look at the risk-return trade-off of the market and HML across samples.\n",
    " \n",
    "* The optimal weight on HML shifts from 0.72 in the publication sample to 0.34 in the pre publication and 0.2 in the post publication\n",
    "\n",
    "* someone that jsut invested on the market would be actually be closer to the optimal portfolio than someone that invested 0.7 in HML\n",
    "\n",
    "**Does that mean it was data snooping?**\n",
    "\n",
    "We don't know. It is possible that the publication drove people to the strategies which made the resuls go away goign forward. This [paper](https://onlinelibrary.wiley.com/doi/pdf/10.1111/jofi.12365?casa_token=gSqvouNM61EAAAAA:JyTl4yxx9xTfKo8-VEBIE-4c4ha7kRFGvirWzEZRXhYw2AtueM3yzpRDcpcXgnsDdlvlXflKp1Nw_ss) I cited before argues that this is the case \n",
    "\n",
    "\n",
    "\n",
    " "
   ]
  }
 ],
 "metadata": {
  "colab": {
   "collapsed_sections": [],
   "name": "Notebook 8.ipynb",
   "provenance": []
  },
  "kernelspec": {
   "display_name": "Python 3",
   "language": "python",
   "name": "python3"
  },
  "language_info": {
   "codemirror_mode": {
    "name": "ipython",
    "version": 3
   },
   "file_extension": ".py",
   "mimetype": "text/x-python",
   "name": "python",
   "nbconvert_exporter": "python",
   "pygments_lexer": "ipython3",
   "version": "3.9.12"
  }
 },
 "nbformat": 4,
 "nbformat_minor": 4
}
