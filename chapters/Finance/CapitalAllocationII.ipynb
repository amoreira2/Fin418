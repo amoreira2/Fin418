{
 "cells": [
  {
   "cell_type": "code",
   "execution_count": null,
   "id": "2e2cc237",
   "metadata": {},
   "outputs": [],
   "source": [
    "import pandas as pd\n",
    "import numpy as np\n",
    "import matplotlib.pyplot as plt\n",
    "%matplotlib inline\n",
    "\n",
    "import pandas_datareader.data as web\n",
    "\n",
    "def get_factors(factors='CAPM',freq='daily'):   \n",
    "    \n",
    "    if freq=='monthly':\n",
    "        freq_label=''\n",
    "    else:\n",
    "        freq_label='_'+freq\n",
    "\n",
    "\n",
    "    if factors=='CAPM':\n",
    "        fama_french = web.DataReader(\"F-F_Research_Data_Factors\"+freq_label, \"famafrench\",start=\"1921-01-01\")\n",
    "        daily_data = fama_french[0]\n",
    "    \n",
    "     \n",
    "        df_factor = daily_data[['RF','Mkt-RF']] \n",
    "    elif factors=='FF3':\n",
    "        fama_french = web.DataReader(\"F-F_Research_Data_Factors\"+freq_label, \"famafrench\",start=\"1921-01-01\")\n",
    "        daily_data = fama_french[0]\n",
    "\n",
    "        df_factor = daily_data[['RF','Mkt-RF','SMB','HML']]\n",
    "    elif factors=='FF5':\n",
    "\n",
    "        fama_french = web.DataReader(\"F-F_Research_Data_Factors\"+freq_label, \"famafrench\",start=\"1921-01-01\")\n",
    "        daily_data = fama_french[0]\n",
    "\n",
    "        df_factor = daily_data[['RF','Mkt-RF','SMB','HML']]\n",
    "        fama_french2 = web.DataReader(\"F-F_Research_Data_5_Factors_2x3\"+freq_label, \"famafrench\",start=\"1921-01-01\")\n",
    "        daily_data2 = fama_french2[0]\n",
    "\n",
    "        df_factor2 = daily_data2[['RMW','CMA']]\n",
    "        df_factor=df_factor.merge(df_factor2,on='Date',how='outer')    \n",
    "        \n",
    "    else:\n",
    "        fama_french = web.DataReader(\"F-F_Research_Data_Factors\"+freq_label, \"famafrench\",start=\"1921-01-01\")\n",
    "        daily_data = fama_french[0]\n",
    "\n",
    "        df_factor = daily_data[['RF','Mkt-RF','SMB','HML']]\n",
    "        fama_french2 = web.DataReader(\"F-F_Research_Data_5_Factors_2x3\"+freq_label, \"famafrench\",start=\"1921-01-01\")\n",
    "        daily_data2 = fama_french2[0]\n",
    "\n",
    "        df_factor2 = daily_data2[['RMW','CMA']]\n",
    "        df_factor=df_factor.merge(df_factor2,on='Date',how='outer')   \n",
    "        fama_french = web.DataReader(\"F-F_Momentum_Factor\"+freq_label, \"famafrench\",start=\"1921-01-01\")\n",
    "        df_factor=df_factor.merge(fama_french[0],on='Date')\n",
    "        df_factor.columns=['RF','Mkt-RF','SMB','HML','RMW','CMA','MOM']    \n",
    "    if freq=='monthly':\n",
    "        df_factor.index = pd.to_datetime(df_factor.index.to_timestamp())\n",
    "    else:\n",
    "        df_factor.index = pd.to_datetime(df_factor.index)\n",
    "        \n",
    "\n",
    "\n",
    "    return df_factor/100"
   ]
  },
  {
   "cell_type": "markdown",
   "id": "3ec45b6d",
   "metadata": {},
   "source": [
    "**Bet sizing under uncertainty**\n",
    "\n",
    "This is the optimal IF YOU ARE 100% CONFIDENT of your alphas\n",
    "\n",
    "But of course you don't really know, so the industry developed many Ad-hoc approaches for **bet sizing**\n",
    "\n",
    "\n",
    "\n",
    "**Bet sizing** is one of the great skills in a portfolio manager because it requires instinct for uncertainty \n",
    "\n",
    "The different Approaches (w is a scalar that controls the overall size of the portfolio )\n",
    "\n",
    "- **Mean-variance** rule:\n",
    "  \n",
    "$$W_i=w \\frac{\\alpha_i}{\\sigma_{\\epsilon,i}^2}$$\n",
    "\n",
    "- **1/N** rule: ignore the magnitude of the alpha and simply bet on the direction of your idea\n",
    "\n",
    "$$W_i=\\frac{1}{N}\\left((\\alpha_i>0)-(\\alpha_i<0)\\right)$$\n",
    "\n",
    "  * this is good if you have good hunches for mispricing, but you don't get the magnitudes quite right\n",
    "\n",
    "- **Proportional** rule: Buy/sell proportional to the alpha\n",
    "\n",
    "$$W_i=w \\alpha_i$$\n",
    "\n",
    "- **Risky-parity** rule: assumes the Appraisal ratio of your different ideas are the same $\\frac{\\mu_i}{\\sigma_i}=\\frac{\\mu_j}{\\sigma_j}$\n",
    "\n",
    "\n",
    "$$W_i=w \\frac{1}{\\sigma_{\\epsilon,i}}$$\n",
    "\n",
    "\n",
    "- **Minimum-Variance** rule: \n",
    "\n",
    "$$W_i=w \\frac{1}{\\sigma_{\\epsilon,i}^2}$$\n",
    "\n",
    "  - This assumes alphas are all the same and focus on using the information in the variance matrix to boost the Sharpe ratio\n",
    "  \n",
    "\n",
    "- **Variance shrinkage** rule: you shrink the variance-covariance matrix towards a particular value\n",
    "\n",
    "$$W_i=w \\frac{\\alpha_i}{\\sigma_{\\epsilon,i}^2(1-\\tau)+\\tau\\sigma_{shrink}^2}$$\n",
    "\n",
    "  - where $\\tau\\in[0,1]$ is the shrinkage factor\n",
    "\n",
    "\n"
   ]
  },
  {
   "cell_type": "markdown",
   "id": "545466af",
   "metadata": {},
   "source": [
    "Some examples you should play with\n",
    "\n",
    "\n",
    "> ### Stop and Practice\n",
    "> Solve for optimal weights, maximum Sharpe ratio\n",
    "> \n",
    "> Target vol of 10% annualized\n",
    ">\n",
    "> 1. same alpha, same betas, same idio vol\n",
    "> 2. different alpha, same beta , same idio vol\n",
    "> 3. same alpha, different betas, same idio vol\n",
    "> 4. same alpha, same betas, different idio vol\n"
   ]
  },
  {
   "cell_type": "code",
   "execution_count": null,
   "id": "d9cafd30",
   "metadata": {},
   "outputs": [],
   "source": [
    "A=np.array([0.3,0.2,0.1,0.05])\n",
    "B=np.array([1,2,0.5,-0.5])\n",
    "Sigmae=np.diag([0.4,0.4,0.4,0.4])**2"
   ]
  },
  {
   "cell_type": "markdown",
   "id": "9521f91b",
   "metadata": {},
   "source": [
    "## Exercise: Investing in characteristic-based factors from the perspective of a CAPM investor\n",
    "\n",
    "In a few classes we will discuss Multi-factor models and the variety of factors that people in the industry use\n",
    "\n",
    "Six factors are particularly popular both in the industry and in the academic community\n",
    "\n",
    "A few of them have ETFS that aim to replicate them, which potentially allow retail investors to get exposure to them cheaply and also industry people to easily hedge their factor exposures. (We will investigate carefully to what extent these ETFs do a good job..coming soon in a theater near you!) \n",
    "\n",
    "For now we will use this data to take the perspective of a \"CAPM-Investor\", i.e. someone that has the market as their risk-factor and see the other factors as non-systematic risk.\n",
    "\n",
    ">#### Alert\n",
    ">This will be stylized in the sense that we will use in sample moments, so we cannot really compare Sharpe ratios\n",
    ">\n",
    ">Why not? Because by construction the Mean-variance will always beat everyone else.\n",
    ">\n",
    ">We use these alternative methods exactly because the in sample moments are often not great guide for the forward looking moments we care about, so a in-sample comparison does not reflect the reality of trading that requires use past information to trade.\n",
    ">\n",
    "> We will later discuss how to make this comparison ( it is not rocket science: divide your sample in estimation and testing samples!)\n",
    "\n",
    "\n",
    "1. We will target Total portfolio with volatility 10%\n",
    "2. We will get the factors and focus on the sample that we have all the factors available\n",
    "3. We will estimate out single-factor models for these factors and build our factor model matrixes\n",
    "4. We will be imposing that the residuals are uncorrelated\n",
    "   1. This is never true in a particular sample\n",
    "   2. If you have a good enough factor model, you impose it because whatever correlation is in the sample is noise (it is testable!)\n",
    "   3. Here this is a toy exercise and these correlations are likely real (for example, mom and HML have shown to be correlated in many different situations)\n",
    "5. We will  apply the different rules"
   ]
  },
  {
   "cell_type": "code",
   "execution_count": null,
   "id": "b39b2f49",
   "metadata": {},
   "outputs": [
    {
     "data": {
      "text/html": [
       "<div>\n",
       "<style scoped>\n",
       "    .dataframe tbody tr th:only-of-type {\n",
       "        vertical-align: middle;\n",
       "    }\n",
       "\n",
       "    .dataframe tbody tr th {\n",
       "        vertical-align: top;\n",
       "    }\n",
       "\n",
       "    .dataframe thead th {\n",
       "        text-align: right;\n",
       "    }\n",
       "</style>\n",
       "<table border=\"1\" class=\"dataframe\">\n",
       "  <thead>\n",
       "    <tr style=\"text-align: right;\">\n",
       "      <th></th>\n",
       "      <th>RF</th>\n",
       "      <th>Mkt-RF</th>\n",
       "      <th>SMB</th>\n",
       "      <th>HML</th>\n",
       "      <th>RMW</th>\n",
       "      <th>CMA</th>\n",
       "      <th>MOM</th>\n",
       "    </tr>\n",
       "    <tr>\n",
       "      <th>Date</th>\n",
       "      <th></th>\n",
       "      <th></th>\n",
       "      <th></th>\n",
       "      <th></th>\n",
       "      <th></th>\n",
       "      <th></th>\n",
       "      <th></th>\n",
       "    </tr>\n",
       "  </thead>\n",
       "  <tbody>\n",
       "    <tr>\n",
       "      <th>2024-08-01</th>\n",
       "      <td>0.0048</td>\n",
       "      <td>0.0161</td>\n",
       "      <td>-0.0355</td>\n",
       "      <td>-0.0113</td>\n",
       "      <td>0.0085</td>\n",
       "      <td>0.0086</td>\n",
       "      <td>0.0479</td>\n",
       "    </tr>\n",
       "    <tr>\n",
       "      <th>2024-09-01</th>\n",
       "      <td>0.0040</td>\n",
       "      <td>0.0174</td>\n",
       "      <td>-0.0017</td>\n",
       "      <td>-0.0259</td>\n",
       "      <td>0.0004</td>\n",
       "      <td>-0.0026</td>\n",
       "      <td>-0.0060</td>\n",
       "    </tr>\n",
       "    <tr>\n",
       "      <th>2024-10-01</th>\n",
       "      <td>0.0039</td>\n",
       "      <td>-0.0097</td>\n",
       "      <td>-0.0101</td>\n",
       "      <td>0.0089</td>\n",
       "      <td>-0.0138</td>\n",
       "      <td>0.0103</td>\n",
       "      <td>0.0287</td>\n",
       "    </tr>\n",
       "    <tr>\n",
       "      <th>2024-11-01</th>\n",
       "      <td>0.0040</td>\n",
       "      <td>0.0651</td>\n",
       "      <td>0.0463</td>\n",
       "      <td>-0.0005</td>\n",
       "      <td>-0.0262</td>\n",
       "      <td>-0.0217</td>\n",
       "      <td>0.0090</td>\n",
       "    </tr>\n",
       "    <tr>\n",
       "      <th>2024-12-01</th>\n",
       "      <td>0.0037</td>\n",
       "      <td>-0.0317</td>\n",
       "      <td>-0.0273</td>\n",
       "      <td>-0.0295</td>\n",
       "      <td>0.0182</td>\n",
       "      <td>-0.0110</td>\n",
       "      <td>0.0005</td>\n",
       "    </tr>\n",
       "  </tbody>\n",
       "</table>\n",
       "</div>"
      ],
      "text/plain": [
       "                RF  Mkt-RF     SMB     HML     RMW     CMA     MOM\n",
       "Date                                                              \n",
       "2024-08-01  0.0048  0.0161 -0.0355 -0.0113  0.0085  0.0086  0.0479\n",
       "2024-09-01  0.0040  0.0174 -0.0017 -0.0259  0.0004 -0.0026 -0.0060\n",
       "2024-10-01  0.0039 -0.0097 -0.0101  0.0089 -0.0138  0.0103  0.0287\n",
       "2024-11-01  0.0040  0.0651  0.0463 -0.0005 -0.0262 -0.0217  0.0090\n",
       "2024-12-01  0.0037 -0.0317 -0.0273 -0.0295  0.0182 -0.0110  0.0005"
      ]
     },
     "metadata": {},
     "output_type": "display_data"
    }
   ],
   "source": [
    "df_ff6=get_factors('ff6',freq='monthly').dropna()\n",
    "df_ff6.tail()"
   ]
  },
  {
   "cell_type": "code",
   "execution_count": null,
   "id": "0fae7e6d",
   "metadata": {},
   "outputs": [
    {
     "name": "stderr",
     "output_type": "stream",
     "text": [
      "c:\\Users\\Alan.Moreira\\Anaconda3\\lib\\site-packages\\scipy\\__init__.py:146: UserWarning: A NumPy version >=1.16.5 and <1.23.0 is required for this version of SciPy (detected version 1.26.0\n",
      "  warnings.warn(f\"A NumPy version >={np_minversion} and <{np_maxversion}\"\n"
     ]
    },
    {
     "name": "stdout",
     "output_type": "stream",
     "text": [
      "Alpha: [0.00570763 0.04279558 0.04072549 0.04250479 0.08432384]\n",
      "Beta: [ 0.20237897 -0.13569538 -0.09332071 -0.16729257 -0.15829589]\n",
      "Sigma_e: [[0.01021215 0.         0.         0.         0.        ]\n",
      " [0.         0.01031929 0.         0.         0.        ]\n",
      " [0.         0.         0.00568454 0.         0.        ]\n",
      " [0.         0.         0.         0.00447722 0.        ]\n",
      " [0.         0.         0.         0.         0.02048366]]\n"
     ]
    }
   ],
   "source": [
    "import statsmodels.api as sm\n",
    "\n",
    "# Define the factors and the market factor\n",
    "factors = ['SMB', 'HML', 'RMW', 'CMA', 'MOM']\n",
    "market_factor = 'Mkt-RF'\n",
    "\n",
    "# Initialize lists to store the results\n",
    "Alpha = []\n",
    "Beta = []\n",
    "residuals = []\n",
    "Alpha_se = []\n",
    "# Run univariate regressions\n",
    "for factor in factors:\n",
    "    X = sm.add_constant(df_ff6[market_factor])\n",
    "    y = df_ff6[factor]\n",
    "    model = sm.OLS(y, X).fit()\n",
    "    Alpha.append(model.params['const'])\n",
    "    Beta.append(model.params[market_factor])\n",
    "    residuals.append(model.resid)\n",
    "\n",
    "# Convert Alpha and Beta to numpy arrays\n",
    "Alpha = np.array(Alpha)\n",
    "Beta = np.array(Beta)\n",
    "\n",
    "# Calculate the variance-covariance matrix of the residuals\n",
    "#under the assumption that the residuals are uncorrelated ( they are not!)\n",
    "\n",
    "residuals_matrix = np.vstack(residuals).T\n",
    "Sigma_e = np.diag(np.diag(np.cov(residuals_matrix.T)))\n",
    "\n",
    "# Display the results\n",
    "print(\"Alpha:\", Alpha*12)\n",
    "print(\"Beta:\", Beta)\n",
    "print(\"Sigma_e:\", Sigma_e*12)"
   ]
  },
  {
   "cell_type": "markdown",
   "id": "01e404fd",
   "metadata": {},
   "source": [
    "Mean Variance\n"
   ]
  },
  {
   "cell_type": "code",
   "execution_count": null,
   "id": "81828352",
   "metadata": {},
   "outputs": [
    {
     "name": "stdout",
     "output_type": "stream",
     "text": [
      "[0.55890596 4.14714181 7.16424937 9.49356702 4.1166404 ]\n",
      "0\n",
      "0\n",
      "[0. 0. 0. 0. 0.]\n",
      "your volatility is 0\n",
      "Your Appraisal Ratio is 0\n",
      "So your optimal portfolio with market neutral exposure is \n",
      " 0.0 in SMB, 0.0 in HML, 0.0 in RMW, 0.0 in CMA, 0.0 in MOM, and 0 in Mkt-RF\n"
     ]
    }
   ],
   "source": [
    "# The zeros below need to be replaced by the actual values!\n",
    "\n",
    "VolTarget=0.3/12**0.5 # making it monthly as the data\n",
    "W=Alpha@np.linalg.inv(Sigma_e)\n",
    "print(W)\n",
    "# optimal RELATIVE weights, need to calibrate the volatility\n",
    "# compute the variance of the W portoflio\n",
    "VarW=0\n",
    "print(VarW)\n",
    "#adjusting the weights to meet the volatility target\n",
    "w= 0\n",
    "print(w)\n",
    "# Ww is our final weights with the volatility target\n",
    "Ww=w*W\n",
    "# final weights\n",
    "print(Ww)\n",
    "\n",
    "# check vol (must be 30%)\n",
    "\n",
    "vol=0\n",
    "\n",
    "# market exposure\n",
    "\n",
    "Portfolio_beta=0\n",
    "\n",
    "# amount to buy in the market to hedge it completely\n",
    "h=-Portfolio_beta\n",
    "\n",
    "AppraisalRatio=0\n",
    "\n",
    "print(f\"your volatility is {vol}\")\n",
    "print(f\"Your Appraisal Ratio is {AppraisalRatio}\")\n",
    "print(f\"So your optimal portfolio with market neutral exposure is \\n {Ww[0]} in SMB, {Ww[1]} in HML, {Ww[2]} in RMW, {Ww[3]} in CMA, {Ww[4]} in MOM, and {h} in Mkt-RF\")\n",
    "\n"
   ]
  },
  {
   "cell_type": "code",
   "execution_count": null,
   "id": "0b55be0e",
   "metadata": {},
   "outputs": [
    {
     "name": "stdout",
     "output_type": "stream",
     "text": [
      "your volatility is 0\n",
      "So your optimal portfolio with market neutral exposure is \n",
      " 0.0 in SMB, 0.0 in HML, 0.0 in RMW, 0.0 in CMA, 0.0 in MOM, and 0 in Mkt-RF\n",
      "Your Appraisal Ratio is 0\n"
     ]
    }
   ],
   "source": [
    "# lets wrap it up in a function\n",
    "\n",
    "def sizing(W,Alpha,Sigma_e,Beta,VolTarget=0.3/12**0.5):\n",
    "    # need to replace the zeros below with the actual values!\n",
    "    VarW=0\n",
    "    #adjusting the weights to meet the volatility target\n",
    "    w= 0\n",
    "    Ww=w*W\n",
    "    vol=0\n",
    "    print(f\"your volatility is {vol}\")\n",
    "    Portfolio_beta=0\n",
    "    h=-Portfolio_beta\n",
    "    AppraisalRatio=0\n",
    "    print(f\"So your optimal portfolio with market neutral exposure is \\n {Ww[0]} in SMB, {Ww[1]} in HML, {Ww[2]} in RMW, {Ww[3]} in CMA, {Ww[4]} in MOM, and {h} in Mkt-RF\")\n",
    "    print(f\"Your Appraisal Ratio is {AppraisalRatio}\")\n",
    "    return AppraisalRatio, Ww\n",
    "\n",
    "W=Alpha@np.linalg.inv(Sigma_e)\n",
    "sr_alpha,W_alpha=sizing(W,Alpha,Sigma_e,Beta)"
   ]
  },
  {
   "cell_type": "markdown",
   "id": "3d2fd1af",
   "metadata": {},
   "source": [
    "1/N rule"
   ]
  },
  {
   "cell_type": "code",
   "execution_count": null,
   "id": "e10eda71",
   "metadata": {},
   "outputs": [
    {
     "name": "stdout",
     "output_type": "stream",
     "text": [
      "your volatility is 0\n",
      "So your optimal portfolio with market neutral exposure is \n",
      " 0.0 in SMB, 0.0 in HML, 0.0 in RMW, 0.0 in CMA, 0.0 in MOM, and 0 in Mkt-RF\n",
      "Your Appraisal Ratio is 0\n"
     ]
    }
   ],
   "source": [
    "W=np.ones(5)/5\n",
    "sr_alpha,W_alpha=sizing(W,Alpha,Sigma_e,Beta)"
   ]
  },
  {
   "cell_type": "markdown",
   "id": "54ecc64b",
   "metadata": {},
   "source": [
    "Proportional rule"
   ]
  },
  {
   "cell_type": "code",
   "execution_count": null,
   "id": "a06de6d1",
   "metadata": {},
   "outputs": [
    {
     "name": "stdout",
     "output_type": "stream",
     "text": [
      "your volatility is 0\n",
      "So your optimal portfolio with market neutral exposure is \n",
      " 0.0 in SMB, 0.0 in HML, 0.0 in RMW, 0.0 in CMA, 0.0 in MOM, and 0 in Mkt-RF\n",
      "Your Appraisal Ratio is 0\n"
     ]
    }
   ],
   "source": [
    "W=Alpha\n",
    "sr_alpha,W_alpha=sizing(W,Alpha,Sigma_e,Beta)"
   ]
  },
  {
   "cell_type": "markdown",
   "id": "ecb62afb",
   "metadata": {},
   "source": [
    "Risky Parity rule"
   ]
  },
  {
   "cell_type": "code",
   "execution_count": null,
   "id": "cfac36c3",
   "metadata": {},
   "outputs": [
    {
     "name": "stdout",
     "output_type": "stream",
     "text": [
      "your volatility is 0\n",
      "So your optimal portfolio with market neutral exposure is \n",
      " 0.0 in SMB, 0.0 in HML, 0.0 in RMW, 0.0 in CMA, 0.0 in MOM, and 0 in Mkt-RF\n",
      "Your Appraisal Ratio is 0\n"
     ]
    }
   ],
   "source": [
    "W=np.ones(5)@np.linalg.inv(Sigma_e**0.5)\n",
    "sr_alpha,W_alpha=sizing(W,Alpha,Sigma_e,Beta)"
   ]
  },
  {
   "cell_type": "markdown",
   "id": "b00ce814",
   "metadata": {},
   "source": [
    "Minimum Variance rule"
   ]
  },
  {
   "cell_type": "code",
   "execution_count": null,
   "id": "2db75e80",
   "metadata": {},
   "outputs": [
    {
     "name": "stdout",
     "output_type": "stream",
     "text": [
      "your volatility is 0\n",
      "So your optimal portfolio with market neutral exposure is \n",
      " 0.0 in SMB, 0.0 in HML, 0.0 in RMW, 0.0 in CMA, 0.0 in MOM, and 0 in Mkt-RF\n",
      "Your Appraisal Ratio is 0\n"
     ]
    }
   ],
   "source": [
    "W=np.ones(5)@np.linalg.inv(Sigma_e)\n",
    "sr_alpha,W_alpha=sizing(W,Alpha,Sigma_e,Beta)"
   ]
  },
  {
   "cell_type": "markdown",
   "id": "7d5bb0bd",
   "metadata": {},
   "source": [
    "Variance Shrinkage rule\n",
    "\n",
    "\n",
    "- I will shrink them to the the average vol\n",
    "- I will shrink by 50%\n",
    "- The idea makes sense when you think the different assets are kind of similar so you think a good chunk of the sample variation is noise"
   ]
  },
  {
   "cell_type": "code",
   "execution_count": null,
   "id": "2c7f7b4e",
   "metadata": {},
   "outputs": [
    {
     "name": "stdout",
     "output_type": "stream",
     "text": [
      "your volatility is 0\n",
      "So your optimal portfolio with market neutral exposure is \n",
      " 0.0 in SMB, 0.0 in HML, 0.0 in RMW, 0.0 in CMA, 0.0 in MOM, and 0 in Mkt-RF\n",
      "Your Appraisal Ratio is 0\n"
     ]
    },
    {
     "name": "stderr",
     "output_type": "stream",
     "text": [
      "c:\\Users\\alan.moreira\\Anaconda3\\lib\\site-packages\\numpy\\core\\fromnumeric.py:3504: RuntimeWarning: Mean of empty slice.\n",
      "  return _methods._mean(a, axis=axis, dtype=dtype,\n",
      "c:\\Users\\alan.moreira\\Anaconda3\\lib\\site-packages\\numpy\\core\\_methods.py:129: RuntimeWarning: invalid value encountered in scalar divide\n",
      "  ret = ret.dtype.type(ret / rcount)\n"
     ]
    }
   ],
   "source": [
    "tau=0.5\n",
    "sigma_alpha=np.mean(Alpha_se)\n",
    "Sigma=Sigma_e*(1-tau)+tau*np.eye(5)*np.mean(np.diag(Sigma_e))\n",
    "W=Alpha@np.linalg.inv(Sigma)\n",
    "sr_alpha,W_alpha=sizing(W,Alpha,Sigma_e,Beta)"
   ]
  },
  {
   "cell_type": "markdown",
   "id": "f673257a",
   "metadata": {},
   "source": [
    "## Portfolios and factor models\n",
    "\n",
    "\n",
    "Say you have\n",
    "\n",
    "- a vector of asset excess returns R (N by 1),\n",
    "- weights W (N by 1),\n",
    "- factor loadings B (N by 1),\n",
    "- alphas A (N by 1),\n",
    "- residuals U (N by 1)\n",
    "- f is a scalar excess return factor\n",
    "\n",
    "then I can write my portfolio return as\n",
    "\n",
    "$$r_p=W.T @R=W.T @(A+Bf+U)$$\n",
    "\n",
    "Because $E[U]=0$, Thus it follows that\n",
    "\n",
    "$$E[r_p]=W.T @(A+BE[f])$$\n",
    "\n",
    "and\n",
    "\n",
    "$$Var[r_p]=Var(W.T @(A+Bf+U))=(W.T@B)@Var(f)@(W.T@B).T+W.T@Var(U)@W$$\n",
    "\n",
    "simplifying a little bit we get\n",
    "\n",
    "$$Var[r_p]=Var(W.T @(A+Bf+U))=(W.T@B)@(B.T@W)*Var(f)+W.T@Var(U)@W$$\n",
    "\n",
    "-This is the total portfolio variance, What is the portfolio factor risk?\n",
    "\n"
   ]
  },
  {
   "cell_type": "markdown",
   "id": "11d9b58c",
   "metadata": {},
   "source": [
    "\n",
    "## Risk Profile Analysis\n",
    "\n",
    "\n",
    "- What each asset is contributing to my overall portfolio risk?\n",
    "\n",
    "- what is the asset that at the margin contributes the most?\n",
    "\n",
    "- If I want to reduce my factor risk, what is the asset that would reduce it most efficiently?\n",
    "\n",
    "\n",
    "\n",
    "That is, if I were to increase/decrease the position in an asset by a little bit  asset how much my risk would change?\n",
    "\n",
    "$$2B@(B.T@W)Var(f)+2Var(U)@W$$\n",
    "\n",
    "This is a vector where each entry tells you the increase in risk produced my a marginal increase in each asset\n",
    "\n",
    "So the highest number in this vector tell us what is the asset that allows us to achieve the highest risk reduction per change in position\n",
    "\n",
    "> Question: How do you find the asset that would lead to highest reduction in factor risk?\n",
    "\n",
    "\n",
    ">If you want understand where the formular come from, you need to know a bit of calculus because to answer these questions we differentiate the risk contribution by the weight W.\n",
    "\n"
   ]
  },
  {
   "cell_type": "markdown",
   "id": "70290522",
   "metadata": {},
   "source": [
    "Lets apply this to our problem\n",
    "\n",
    "I will estiamte a signle factor model here so we cna use realistic numbers, but we will dsicuss this step next class.\n",
    "\n",
    "For now just think this as blackbox that is giving you numbers for B, Var(f), Var(U)"
   ]
  },
  {
   "cell_type": "code",
   "execution_count": null,
   "id": "2895a364",
   "metadata": {},
   "outputs": [],
   "source": [
    "import statsmodels.api as sm\n",
    "\n",
    "def factor_model_estimation(df):\n",
    "  \"\"\"\n",
    "  Runs a regression of each asset in df on the market column, storing the slope coefficients,\n",
    "  the variance of the market, and the variance of the residuals in a diagonal matrix.\n",
    "\n",
    "  Args:\n",
    "    df: A pandas DataFrame containing asset returns, with a 'MKT' column for the market returns.\n",
    "\n",
    "  Returns:\n",
    "    A tuple containing:\n",
    "      - betas: A pandas DataFrame with slope coefficients for each asset.\n",
    "      - market_variance: The variance of the market returns.\n",
    "      - residual_variance_matrix: A diagonal matrix containing the variance of the residuals for each asset.\n",
    "  \"\"\"\n",
    "\n",
    "  betas = pd.DataFrame()\n",
    "  residual_variances = []\n",
    "\n",
    "  for asset in df.columns:\n",
    "\n",
    "    # Run the regression\n",
    "    X = df['MKT']\n",
    "    Y = df[asset]\n",
    "    X = sm.add_constant(X)\n",
    "    model = sm.OLS(Y, X).fit()\n",
    "\n",
    "    # Store the beta (slope coefficient)\n",
    "    betas.loc[asset, 'beta'] = model.params['MKT']\n",
    "\n",
    "    # Store the residual variance\n",
    "    residual_variances.append(model.resid.var())\n",
    "\n",
    "  market_variance = df['MKT'].var()\n",
    "  residual_variance_matrix = np.diag(residual_variances)\n",
    "  betas=betas.to_numpy()\n",
    "  betas.shape=(5,1)\n",
    "\n",
    "  return betas, market_variance, residual_variance_matrix\n"
   ]
  },
  {
   "cell_type": "code",
   "execution_count": null,
   "id": "53ab0466",
   "metadata": {},
   "outputs": [
    {
     "name": "stdout",
     "output_type": "stream",
     "text": [
      "[[1.        ]\n",
      " [0.05671103]\n",
      " [0.66599021]\n",
      " [0.64903334]\n",
      " [0.09602475]]\n",
      "0.0019496947245542036\n",
      "[[9.30297741e-35 0.00000000e+00 0.00000000e+00 0.00000000e+00\n",
      "  0.00000000e+00]\n",
      " [0.00000000e+00 1.22233384e-03 0.00000000e+00 0.00000000e+00\n",
      "  0.00000000e+00]\n",
      " [0.00000000e+00 0.00000000e+00 2.68475481e-03 0.00000000e+00\n",
      "  0.00000000e+00]\n",
      " [0.00000000e+00 0.00000000e+00 0.00000000e+00 1.36361424e-03\n",
      "  0.00000000e+00]\n",
      " [0.00000000e+00 0.00000000e+00 0.00000000e+00 0.00000000e+00\n",
      "  3.88658814e-04]]\n"
     ]
    }
   ],
   "source": [
    "\n",
    "\n",
    "B, Varf, VarU=factor_model_estimation(Data)\n",
    "print(B)\n",
    "print(Varf)\n",
    "print(VarU)"
   ]
  },
  {
   "cell_type": "markdown",
   "id": "383dece0",
   "metadata": {},
   "source": [
    "Now lets implement this formula\n",
    "\n",
    "$$2B@(B.T@W)Var(f)+2Var(U)@W$$\n",
    "\n",
    "\n"
   ]
  },
  {
   "cell_type": "code",
   "execution_count": null,
   "id": "f1de9286",
   "metadata": {},
   "outputs": [],
   "source": [
    "W=np.ones((5,1))/5"
   ]
  },
  {
   "cell_type": "code",
   "execution_count": null,
   "id": "2ee8bb50",
   "metadata": {},
   "outputs": [
    {
     "data": {
      "text/plain": [
       "array([[0.00192455],\n",
       "       [0.00059808],\n",
       "       [0.00235563],\n",
       "       [0.00179454],\n",
       "       [0.00034027]])"
      ]
     },
     "metadata": {},
     "output_type": "display_data"
    }
   ],
   "source": [
    "2*B @ (B.T @ W) * Varf + 2 * VarU @ W"
   ]
  },
  {
   "cell_type": "markdown",
   "id": "dcbfce14",
   "metadata": {},
   "source": []
  }
 ],
 "metadata": {
  "kernelspec": {
   "display_name": "base",
   "language": "python",
   "name": "python3"
  },
  "language_info": {
   "name": "python",
   "version": "3.9.19"
  }
 },
 "nbformat": 4,
 "nbformat_minor": 5
}
