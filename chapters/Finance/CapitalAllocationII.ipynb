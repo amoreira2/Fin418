{
 "cells": [
  {
   "cell_type": "code",
   "execution_count": 65,
   "id": "2e2cc237",
   "metadata": {
    "tags": [
     "hide-cell"
    ]
   },
   "outputs": [],
   "source": [
    "import pandas as pd\n",
    "import numpy as np\n",
    "import matplotlib.pyplot as plt\n",
    "%matplotlib inline\n",
    "\n",
    "import pandas_datareader.data as web\n",
    "\n",
    "def get_factors(factors='CAPM',freq='daily'):   \n",
    "    \n",
    "    if freq=='monthly':\n",
    "        freq_label=''\n",
    "    else:\n",
    "        freq_label='_'+freq\n",
    "\n",
    "\n",
    "    if factors=='CAPM':\n",
    "        fama_french = web.DataReader(\"F-F_Research_Data_Factors\"+freq_label, \"famafrench\",start=\"1921-01-01\")\n",
    "        daily_data = fama_french[0]\n",
    "    \n",
    "     \n",
    "        df_factor = daily_data[['RF','Mkt-RF']] \n",
    "    elif factors=='FF3':\n",
    "        fama_french = web.DataReader(\"F-F_Research_Data_Factors\"+freq_label, \"famafrench\",start=\"1921-01-01\")\n",
    "        daily_data = fama_french[0]\n",
    "\n",
    "        df_factor = daily_data[['RF','Mkt-RF','SMB','HML']]\n",
    "    elif factors=='FF5':\n",
    "\n",
    "        fama_french = web.DataReader(\"F-F_Research_Data_Factors\"+freq_label, \"famafrench\",start=\"1921-01-01\")\n",
    "        daily_data = fama_french[0]\n",
    "\n",
    "        df_factor = daily_data[['RF','Mkt-RF','SMB','HML']]\n",
    "        fama_french2 = web.DataReader(\"F-F_Research_Data_5_Factors_2x3\"+freq_label, \"famafrench\",start=\"1921-01-01\")\n",
    "        daily_data2 = fama_french2[0]\n",
    "\n",
    "        df_factor2 = daily_data2[['RMW','CMA']]\n",
    "        df_factor=df_factor.merge(df_factor2,on='Date',how='outer')    \n",
    "        \n",
    "    else:\n",
    "        fama_french = web.DataReader(\"F-F_Research_Data_Factors\"+freq_label, \"famafrench\",start=\"1921-01-01\")\n",
    "        daily_data = fama_french[0]\n",
    "\n",
    "        df_factor = daily_data[['RF','Mkt-RF','SMB','HML']]\n",
    "        fama_french2 = web.DataReader(\"F-F_Research_Data_5_Factors_2x3\"+freq_label, \"famafrench\",start=\"1921-01-01\")\n",
    "        daily_data2 = fama_french2[0]\n",
    "\n",
    "        df_factor2 = daily_data2[['RMW','CMA']]\n",
    "        df_factor=df_factor.merge(df_factor2,on='Date',how='outer')   \n",
    "        fama_french = web.DataReader(\"F-F_Momentum_Factor\"+freq_label, \"famafrench\",start=\"1921-01-01\")\n",
    "        df_factor=df_factor.merge(fama_french[0],on='Date')\n",
    "        df_factor.columns=['RF','Mkt-RF','SMB','HML','RMW','CMA','MOM']    \n",
    "    if freq=='monthly':\n",
    "        df_factor.index = pd.to_datetime(df_factor.index.to_timestamp())\n",
    "    else:\n",
    "        df_factor.index = pd.to_datetime(df_factor.index)\n",
    "        \n",
    "\n",
    "\n",
    "    return df_factor/100"
   ]
  },
  {
   "cell_type": "markdown",
   "id": "ade7e942",
   "metadata": {},
   "source": [
    "# Capital Allocation II\n",
    "\n",
    "\n",
    "---\n",
    "\n",
    "**🎯 Learning Objectives**\n",
    "\n",
    "By the end of this chapter, you should be able to:\n",
    "\n",
    "1. **Diagnose estimation risk** in mean–variance (MV) optimization and explain how uncertainty in $\\mu$ and $\\Sigma$ affects optimal weights and Sharpe ratio.  \n",
    "2. **Run sensitivity analyses** for portfolio weights and performance by perturbing expected returns/covariances within plausible error bands.  \n",
    "3. **Compare bet-sizing heuristics** (MV, $1/N$, volatility targeting, risk parity, shrinkage/regularization) and articulate when each is robust.  \n",
    "4. **Apply factor models** to decompose portfolio risk by factor and by asset; compute marginal and component risk contributions.  \n",
    "5. **Translate loss tolerances (VaR-style)** into risk/position limits given distributional assumptions, horizon, and Sharpe ratio.  \n",
    "6. **Think as a delegate** (fund-of-strategies): set risk budgets, account for correlations and capacity, and monitor out-of-sample performance.\n",
    "\n",
    "\n",
    "\n",
    "\n",
    "---\n"
   ]
  },
  {
   "cell_type": "markdown",
   "id": "b22fab59",
   "metadata": {},
   "source": [
    "## Capital allocation under uncertainty"
   ]
  },
  {
   "cell_type": "markdown",
   "id": "0e4beeb9",
   "metadata": {},
   "source": [
    "We learned how to maximize Sharpe Ratio if we are sure about the moments\n",
    "\n",
    "$$E[R^e]Var(R^e)^{-1}$$\n",
    "\n",
    "- Investment managers rarely apply the Markowitz framework blindly\n",
    "\n",
    "* Why not used more often? \n",
    "\n",
    "* It requires specifying expected returns for entire universe of assets\n",
    "\n",
    "* Mean-variance optimization weights heavily on assets that have extreme average returns in the sample and with attractive covariance properties, i.e., high correlation with asset yielding slightly different return\n",
    "\n",
    "\n",
    "\n",
    "**In reality** knowing the true moments of the return distribution is HARD as we discussed in the last few weeks\n",
    "\n",
    "- We will start by using \"In-sample\" means and variances\n",
    "- By construction weight $W=w E[R^e]\\Sigma_{R}^{-1} $ will deliver the Highest In-sample Sharpe Ratio. It is just math!\n",
    "- The issue is to what extent these In-sample moments are informative about the forward looking moments\n",
    "* What problems that might cause?\n",
    "\n",
    "* The key problem is that we are dealing with a limited sample of data\n",
    "\n",
    "* We are interested in finding the \"ex-ante\" tangency portfolio\n",
    "\n",
    "* But the basic MV analysis identifies the ex-post tangency portfolio, i.e. a portfolio that did well in the sample, but it can be a statistical fluke\n",
    "\n",
    "* The issue is that we do not observe the true population expectation and covariances, but only have a sample estimate\n",
    "\n",
    "* Whatever your research process, you are likely to end up quite uncertain about the alphas of your trading strategies\n",
    "\n"
   ]
  },
  {
   "cell_type": "markdown",
   "id": "0cf4572c",
   "metadata": {},
   "source": [
    "\n",
    "\n",
    "\n",
    "* We will start by using what we learned and measuring  the uncertainty regarding our risk premia estimates for each asset\n",
    "\n",
    "* We will then show how the weights change as we pertubate these estimates in a way that is consistent with the amount of uncertainty in our estimates\n",
    "\n",
    "* We will then show how sensitive the benefits of optimization are\n"
   ]
  },
  {
   "cell_type": "markdown",
   "id": "a6640d64",
   "metadata": {},
   "source": [
    "\n",
    "\n",
    "\n",
    "\n"
   ]
  },
  {
   "cell_type": "code",
   "execution_count": 46,
   "id": "3c177d57",
   "metadata": {},
   "outputs": [
    {
     "data": {
      "text/html": [
       "<div>\n",
       "<style scoped>\n",
       "    .dataframe tbody tr th:only-of-type {\n",
       "        vertical-align: middle;\n",
       "    }\n",
       "\n",
       "    .dataframe tbody tr th {\n",
       "        vertical-align: top;\n",
       "    }\n",
       "\n",
       "    .dataframe thead th {\n",
       "        text-align: right;\n",
       "    }\n",
       "</style>\n",
       "<table border=\"1\" class=\"dataframe\">\n",
       "  <thead>\n",
       "    <tr style=\"text-align: right;\">\n",
       "      <th></th>\n",
       "      <th>RF</th>\n",
       "      <th>MKT</th>\n",
       "      <th>USA30yearGovBond</th>\n",
       "      <th>EmergingMarkets</th>\n",
       "      <th>WorldxUSA</th>\n",
       "      <th>WorldxUSAGovBond</th>\n",
       "    </tr>\n",
       "    <tr>\n",
       "      <th>Date</th>\n",
       "      <th></th>\n",
       "      <th></th>\n",
       "      <th></th>\n",
       "      <th></th>\n",
       "      <th></th>\n",
       "      <th></th>\n",
       "    </tr>\n",
       "  </thead>\n",
       "  <tbody>\n",
       "    <tr>\n",
       "      <th>1963-02-28</th>\n",
       "      <td>0.0023</td>\n",
       "      <td>-0.0238</td>\n",
       "      <td>-0.004178</td>\n",
       "      <td>0.095922</td>\n",
       "      <td>-0.005073</td>\n",
       "      <td>NaN</td>\n",
       "    </tr>\n",
       "    <tr>\n",
       "      <th>1963-03-31</th>\n",
       "      <td>0.0023</td>\n",
       "      <td>0.0308</td>\n",
       "      <td>0.001042</td>\n",
       "      <td>0.011849</td>\n",
       "      <td>-0.001929</td>\n",
       "      <td>-0.000387</td>\n",
       "    </tr>\n",
       "    <tr>\n",
       "      <th>1963-04-30</th>\n",
       "      <td>0.0025</td>\n",
       "      <td>0.0451</td>\n",
       "      <td>-0.004343</td>\n",
       "      <td>-0.149555</td>\n",
       "      <td>-0.005836</td>\n",
       "      <td>0.005502</td>\n",
       "    </tr>\n",
       "    <tr>\n",
       "      <th>1963-05-31</th>\n",
       "      <td>0.0024</td>\n",
       "      <td>0.0176</td>\n",
       "      <td>-0.004207</td>\n",
       "      <td>-0.014572</td>\n",
       "      <td>-0.002586</td>\n",
       "      <td>0.002289</td>\n",
       "    </tr>\n",
       "    <tr>\n",
       "      <th>1963-06-30</th>\n",
       "      <td>0.0023</td>\n",
       "      <td>-0.0200</td>\n",
       "      <td>-0.000634</td>\n",
       "      <td>-0.057999</td>\n",
       "      <td>-0.013460</td>\n",
       "      <td>0.000839</td>\n",
       "    </tr>\n",
       "  </tbody>\n",
       "</table>\n",
       "</div>"
      ],
      "text/plain": [
       "                RF     MKT  USA30yearGovBond  EmergingMarkets  WorldxUSA  \\\n",
       "Date                                                                       \n",
       "1963-02-28  0.0023 -0.0238         -0.004178         0.095922  -0.005073   \n",
       "1963-03-31  0.0023  0.0308          0.001042         0.011849  -0.001929   \n",
       "1963-04-30  0.0025  0.0451         -0.004343        -0.149555  -0.005836   \n",
       "1963-05-31  0.0024  0.0176         -0.004207        -0.014572  -0.002586   \n",
       "1963-06-30  0.0023 -0.0200         -0.000634        -0.057999  -0.013460   \n",
       "\n",
       "            WorldxUSAGovBond  \n",
       "Date                          \n",
       "1963-02-28               NaN  \n",
       "1963-03-31         -0.000387  \n",
       "1963-04-30          0.005502  \n",
       "1963-05-31          0.002289  \n",
       "1963-06-30          0.000839  "
      ]
     },
     "execution_count": 46,
     "metadata": {},
     "output_type": "execute_result"
    }
   ],
   "source": [
    "url=\"https://raw.githubusercontent.com/amoreira2/Lectures/main/assets/data/GlobalFinMonthly.csv\"\n",
    "Data = pd.read_csv(url,na_values=-99)\n",
    "Data['Date']=pd.to_datetime(Data['Date'])\n",
    "Data=Data.set_index(['Date'])\n",
    "Rf=Data['RF']\n",
    "# make the risky portfolios excess returns\n",
    "Data.iloc[:, 1:] = Data.iloc[:, 1:].sub(Data['RF'], axis=0)\n",
    "Data.head()\n",
    "\n",
    "\n",
    "# Data=get_factors('ff6',freq='monthly').dropna()\n",
    "# Data.tail()\n"
   ]
  },
  {
   "cell_type": "code",
   "execution_count": 47,
   "id": "7e2575ec",
   "metadata": {},
   "outputs": [
    {
     "data": {
      "text/plain": [
       "array([ 1.79398726,  1.39130692,  1.5690601 , -1.00329769,  3.28999787])"
      ]
     },
     "execution_count": 47,
     "metadata": {},
     "output_type": "execute_result"
    }
   ],
   "source": [
    "# I will drop the risk-free asset and allocate only across excess returns\n",
    "df=Data.drop(columns=['RF'])\n",
    "\n",
    "W=df.mean()@ np.linalg.inv(df.cov())\n",
    "# lets leverage it to have a yearly vol of 16%\n",
    "\n",
    "W = W / np.sqrt(W @ df.cov() @ W.T) * 0.16\n",
    "W "
   ]
  },
  {
   "cell_type": "markdown",
   "id": "cf267a52",
   "metadata": {},
   "source": [
    "> Now what? What should we look at to gauge the impact of uncertainty?\n",
    "\n"
   ]
  },
  {
   "cell_type": "markdown",
   "id": "1facc08f",
   "metadata": {},
   "source": [
    "### Weights sensitivity to uncertainty\n",
    "\n",
    "> 📌\n",
    "> \n",
    "> Small changes in inputs can flip sigs!\n",
    "> \n",
    "> Large uncertainty means your weights can be way off"
   ]
  },
  {
   "cell_type": "code",
   "execution_count": 57,
   "id": "cfcaf3e4",
   "metadata": {},
   "outputs": [
    {
     "data": {
      "text/html": [
       "<div>\n",
       "<style scoped>\n",
       "    .dataframe tbody tr th:only-of-type {\n",
       "        vertical-align: middle;\n",
       "    }\n",
       "\n",
       "    .dataframe tbody tr th {\n",
       "        vertical-align: top;\n",
       "    }\n",
       "\n",
       "    .dataframe thead th {\n",
       "        text-align: right;\n",
       "    }\n",
       "</style>\n",
       "<table border=\"1\" class=\"dataframe\">\n",
       "  <thead>\n",
       "    <tr style=\"text-align: right;\">\n",
       "      <th></th>\n",
       "      <th>samplemean</th>\n",
       "      <th>MKT-2std</th>\n",
       "      <th>USA30yearGovBond-2std</th>\n",
       "      <th>EmergingMarkets-2std</th>\n",
       "      <th>WorldxUSA-2std</th>\n",
       "      <th>WorldxUSAGovBond-2std</th>\n",
       "    </tr>\n",
       "  </thead>\n",
       "  <tbody>\n",
       "    <tr>\n",
       "      <th>MKT</th>\n",
       "      <td>0.517880</td>\n",
       "      <td>-0.364918</td>\n",
       "      <td>0.645026</td>\n",
       "      <td>0.767838</td>\n",
       "      <td>0.735558</td>\n",
       "      <td>0.409393</td>\n",
       "    </tr>\n",
       "    <tr>\n",
       "      <th>USA30yearGovBond</th>\n",
       "      <td>0.401636</td>\n",
       "      <td>0.584278</td>\n",
       "      <td>-0.398806</td>\n",
       "      <td>0.321217</td>\n",
       "      <td>0.141720</td>\n",
       "      <td>0.799753</td>\n",
       "    </tr>\n",
       "    <tr>\n",
       "      <th>EmergingMarkets</th>\n",
       "      <td>0.452949</td>\n",
       "      <td>0.607435</td>\n",
       "      <td>0.387909</td>\n",
       "      <td>-0.176445</td>\n",
       "      <td>0.544975</td>\n",
       "      <td>0.457189</td>\n",
       "    </tr>\n",
       "    <tr>\n",
       "      <th>WorldxUSA</th>\n",
       "      <td>-0.289627</td>\n",
       "      <td>0.171054</td>\n",
       "      <td>-0.446816</td>\n",
       "      <td>0.084501</td>\n",
       "      <td>-1.063844</td>\n",
       "      <td>0.117512</td>\n",
       "    </tr>\n",
       "    <tr>\n",
       "      <th>WorldxUSAGovBond</th>\n",
       "      <td>0.949741</td>\n",
       "      <td>0.722802</td>\n",
       "      <td>1.614553</td>\n",
       "      <td>1.034243</td>\n",
       "      <td>1.390611</td>\n",
       "      <td>-0.777712</td>\n",
       "    </tr>\n",
       "  </tbody>\n",
       "</table>\n",
       "</div>"
      ],
      "text/plain": [
       "                  samplemean  MKT-2std  USA30yearGovBond-2std  \\\n",
       "MKT                 0.517880 -0.364918               0.645026   \n",
       "USA30yearGovBond    0.401636  0.584278              -0.398806   \n",
       "EmergingMarkets     0.452949  0.607435               0.387909   \n",
       "WorldxUSA          -0.289627  0.171054              -0.446816   \n",
       "WorldxUSAGovBond    0.949741  0.722802               1.614553   \n",
       "\n",
       "                  EmergingMarkets-2std  WorldxUSA-2std  WorldxUSAGovBond-2std  \n",
       "MKT                           0.767838        0.735558               0.409393  \n",
       "USA30yearGovBond              0.321217        0.141720               0.799753  \n",
       "EmergingMarkets              -0.176445        0.544975               0.457189  \n",
       "WorldxUSA                     0.084501       -1.063844               0.117512  \n",
       "WorldxUSAGovBond              1.034243        1.390611              -0.777712  "
      ]
     },
     "execution_count": 57,
     "metadata": {},
     "output_type": "execute_result"
    }
   ],
   "source": [
    "# lets look at what happens with weights and Sharpes as we manipulate the mean of the market return by one standard deviation\n",
    "\n",
    "df=Data.drop(columns=['RF'])\n",
    "\n",
    "Wmve=pd.DataFrame([],index=df.columns)\n",
    "\n",
    "ERe=df.mean()\n",
    "CovRe=df.cov()\n",
    "T=df.shape[0]\n",
    "\n",
    "for asset in df.columns:\n",
    "    manipulation=2\n",
    "    mu=df[asset].mean()\n",
    "    # the standard deviation of the sample mean is the standard deviation of the asset divided by the square root of the number of observations\n",
    "    musigma=df[asset].std()/T**0.5\n",
    "    # I am creating a copy of the average return vector so I can manipulate it below \n",
    "    ERemsig=ERe.copy()\n",
    "\n",
    "    ERemsig[asset]=mu-manipulation*musigma\n",
    "\n",
    "    # mve for sample mean\n",
    "\n",
    "    W=np.linalg.inv(CovRe) @ ERe\n",
    "    Wmve['samplemean'] =W / np.sqrt(W @ CovRe @ W.T) * 0.16/12**0.5\n",
    "    # mve for perturbed mean\n",
    "    W =np.linalg.inv(CovRe) @ ERemsig\n",
    "    # lets leverage it to have a yearly vol of 16%  similar to the market\n",
    "    # the 12**0.5 is due to the fact that the data is monthly\n",
    "    Wmve[asset+'-'+str(manipulation)+'std'] = W / np.sqrt(W @ CovRe @ W.T) * 0.16/12**0.5\n",
    "\n",
    "Wmve\n"
   ]
  },
  {
   "cell_type": "markdown",
   "id": "d325d45f",
   "metadata": {},
   "source": [
    "### Performance sensitivity to uncertainty\n"
   ]
  },
  {
   "cell_type": "code",
   "execution_count": 56,
   "id": "59abed42",
   "metadata": {},
   "outputs": [
    {
     "data": {
      "text/html": [
       "<div>\n",
       "<style scoped>\n",
       "    .dataframe tbody tr th:only-of-type {\n",
       "        vertical-align: middle;\n",
       "    }\n",
       "\n",
       "    .dataframe tbody tr th {\n",
       "        vertical-align: top;\n",
       "    }\n",
       "\n",
       "    .dataframe thead th {\n",
       "        text-align: right;\n",
       "    }\n",
       "</style>\n",
       "<table border=\"1\" class=\"dataframe\">\n",
       "  <thead>\n",
       "    <tr style=\"text-align: right;\">\n",
       "      <th></th>\n",
       "      <th>SR</th>\n",
       "    </tr>\n",
       "  </thead>\n",
       "  <tbody>\n",
       "    <tr>\n",
       "      <th>samplemean</th>\n",
       "      <td>1.639023</td>\n",
       "    </tr>\n",
       "    <tr>\n",
       "      <th>MKT-2std</th>\n",
       "      <td>1.279627</td>\n",
       "    </tr>\n",
       "    <tr>\n",
       "      <th>USA30yearGovBond-2std</th>\n",
       "      <td>1.347976</td>\n",
       "    </tr>\n",
       "    <tr>\n",
       "      <th>EmergingMarkets-2std</th>\n",
       "      <td>1.312629</td>\n",
       "    </tr>\n",
       "    <tr>\n",
       "      <th>WorldxUSA-2std</th>\n",
       "      <td>1.546410</td>\n",
       "    </tr>\n",
       "    <tr>\n",
       "      <th>WorldxUSAGovBond-2std</th>\n",
       "      <td>1.194083</td>\n",
       "    </tr>\n",
       "  </tbody>\n",
       "</table>\n",
       "</div>"
      ],
      "text/plain": [
       "                             SR\n",
       "samplemean             1.639023\n",
       "MKT-2std               1.279627\n",
       "USA30yearGovBond-2std  1.347976\n",
       "EmergingMarkets-2std   1.312629\n",
       "WorldxUSA-2std         1.546410\n",
       "WorldxUSAGovBond-2std  1.194083"
      ]
     },
     "execution_count": 56,
     "metadata": {},
     "output_type": "execute_result"
    }
   ],
   "source": [
    "SR=pd.DataFrame([],index=Wmve.columns)\n",
    "for col in Wmve.columns:\n",
    "    SR.loc[col,'SR'] =(Wmve[col] @ ERe / np.sqrt(Wmve[col] @ CovRe @ Wmve[col].T)) *12**0.5\n",
    "\n",
    "    \n",
    "SR"
   ]
  },
  {
   "cell_type": "markdown",
   "id": "28b8a5d4",
   "metadata": {},
   "source": [
    "This is by moving around our estimates of expected returns one at a time\n",
    "\n",
    "In practice we will also be off on correlations, variances, and several expected returns at the same time\n",
    "\n",
    "Here we have quite a bit of data and we are assuming means are constant, so our standard errors are giving us too much confidence\n",
    "\n",
    "The rally true measure of uncertainty can be found by looking at out of sample as we will do in our Performance evaluation lecture\n",
    "\n",
    "an out of sample test let the data speak in the most pure form and it is closer to capture what real life trading is like"
   ]
  },
  {
   "cell_type": "markdown",
   "id": "b532555b",
   "metadata": {},
   "source": [
    "### Bet sizing under uncertainty"
   ]
  },
  {
   "cell_type": "markdown",
   "id": "3ec45b6d",
   "metadata": {},
   "source": [
    "\n",
    "\n",
    "The industry developed many Ad-hoc approaches for **bet sizing**  exactly to deal with the fact that Mean-variance optimization is quite sensitive to inputs\n",
    "\n",
    "\n",
    "\n",
    "**Bet sizing** is one of the great skills in a portfolio manager because it requires instinct for uncertainty \n",
    "\n",
    "I show some of the different approaches below.\n",
    "\n",
    ">You can obviously apply these rules to any trading strategy, but in practice  this works better if you first purge the strategies from the obvious sources of co-movement.\n",
    ">Certainly the market factor, but in practice many additional factors are used\n",
    ">\n",
    ">Here I am applying them to the problem of combining \"alpha\" strategies--i.e it can be thought as applied to hedged factors, so the alphas are there expected excess returns\n",
    "\n",
    "(w is a scalar that controls the overall size of the portfolio )\n",
    "\n",
    "- **Mean-variance** rule (the one we looked so far):\n",
    "  \n",
    "$$W_i=w \\alpha\\Sigma_{\\epsilon}^{-1}[i]$$\n",
    "\n",
    ">in case the strategies have no co-movement, then \n",
    ">$$W_i=w \\alpha_i/\\sigma_{\\epsilon,i}^2$$\n",
    "\n",
    "- **1/N** rule: ignore the magnitude of the alpha and simply bet on the direction of your idea\n",
    "\n",
    "$$W_i=\\frac{1}{N}\\left((\\alpha_i>0)-(\\alpha_i<0)\\right)$$\n",
    "\n",
    "> this is good if you have good hunches for mispricing, but you don't get the magnitudes quite right\n",
    "\n",
    "- **Proportional** rule: Buy/sell proportional to the alpha\n",
    "\n",
    "$$W_i=w \\alpha_i$$\n",
    "\n",
    "> This ignore variance information and might be relevant if cannot take leverage\n",
    "\n",
    "- **Risky-parity** rule: assumes the Appraisal ratio of your different ideas are the same \n",
    "  \n",
    "  $$\\frac{\\alpha_i}{\\sigma_i}=\\frac{\\alpha_j}{\\sigma_j}$$\n",
    "\n",
    "  If you apply this to the MV rule you get\n",
    "\n",
    "\n",
    "$$W_i=w \\frac{1}{\\sigma_{\\epsilon,i}}$$\n",
    "\n",
    "which essentially mean you allocate the same vol for each strategy\n",
    "\n",
    "$$W_i\\sigma_{\\epsilon,i}=W_j\\sigma_{\\epsilon,j}$$\n",
    "\n",
    "- **Minimum-Variance** rule: \n",
    "\n",
    "$$W_i=w 1\\Sigma_{\\epsilon}^{-1}[i]$$\n",
    "\n",
    "> Note that instead of a vector of alphas we have a vector of 1's\n",
    "> A constant vector, no matter the particular value will give the same relative weights\n",
    "> This assumes alphas are all the same and focus on using the information in the variance matrix to boost the Sharpe ratio\n",
    "> If you look at the problem in chapter X, we will see that this is the solution of the variance minimization problem\n",
    ">\n",
    "> $$ \\min_W Var(W'R^e_T)~~~subject~~to~~~1'W= 1 $$\n",
    "\n",
    "> When applying this you want to make flip the strategy to make sure they are all have positive alphas. For example, if the idea is that AI is overvalued jsut make the trading strategy to be short AI stocks\n",
    "> in case the strategies have no co-movement, then  \n",
    ">$$W_i=w \\frac{1}{\\sigma_{\\epsilon,i}^2}$$\n",
    "\n",
    "- **Variance shrinkage** rule: you shrink the variance-covariance matrix towards a particular value\n",
    "\n",
    "$$W_i=w \\alpha((1-\\tau)\\Sigma+\\tau \\overline{\\sigma^2})^{-1}$$\n",
    "\n",
    "  - where $\\tau\\in[0,1]$ is the shrinkage factor, and $\\overline{\\sigma^2}$ is the average indio variance\n",
    "\n",
    "> This makes the variance-covariance matrix behaved and less likely to have very specific correlation patterns\n",
    "> You are shrinking all the variances to the average and all correlations to zero\n",
    "> It is good idea to do that in general--so to some extent this is really the MV approach with a better variance estimator\n",
    "> \n",
    "> In case the strategies have no co-movement, then \n",
    ">  $$W_i=w \\frac{\\alpha_i}{\\sigma_{\\epsilon,i}^2(1-\\tau)+\\tau\\overline{\\sigma^2}}$$\n",
    "\n",
    "\n"
   ]
  },
  {
   "cell_type": "markdown",
   "id": "3929a518",
   "metadata": {},
   "source": [
    "To illustrate these different approaches We will use 6 classic academic strategies:\n",
    "\n",
    "1. Market\n",
    "2. Size \n",
    "3. Value \n",
    "4. Profitability\n",
    "5. Investment\n",
    "6. Momentum.\n",
    "\n",
    "These six factors are particularly popular both in the industry and in the academic community\n",
    "\n",
    "Our portfolio problem will be to find the maximum SR combination out of these strategies\n",
    "\n",
    "In a couple weeks we will learn how to construct these strategies from scratch\n",
    "\n",
    "A few of them have ETFS that aim to replicate them, which potentially allow retail investors to get exposure to them cheaply and also industry people to easily hedge their factor exposures. (We will investigate carefully to what extent these ETFs do a good job..coming soon in a theater near you!)\n",
    "\n",
    "For now we will use this data to take the perspective of an investor that does not differentiate across the factors and simply cares for the final SR\n",
    "\n",
    "I.e for simplicity we will apply these rule directly to these factors and not the market hedged versions\n",
    "\n",
    "towards the end we will discuss how to do this for the hedged ones"
   ]
  },
  {
   "cell_type": "code",
   "execution_count": 61,
   "id": "634771fd",
   "metadata": {},
   "outputs": [
    {
     "name": "stderr",
     "output_type": "stream",
     "text": [
      "c:\\Users\\alan.moreira\\Anaconda3\\lib\\site-packages\\pandas_datareader\\famafrench.py:114: FutureWarning: The argument 'date_parser' is deprecated and will be removed in a future version. Please use 'date_format' instead, or read your data in as 'object' dtype and then call 'to_datetime'.\n",
      "  df = read_csv(StringIO(\"Date\" + src[start:]), **params)\n",
      "c:\\Users\\alan.moreira\\Anaconda3\\lib\\site-packages\\pandas_datareader\\famafrench.py:114: FutureWarning: The argument 'date_parser' is deprecated and will be removed in a future version. Please use 'date_format' instead, or read your data in as 'object' dtype and then call 'to_datetime'.\n",
      "  df = read_csv(StringIO(\"Date\" + src[start:]), **params)\n",
      "c:\\Users\\alan.moreira\\Anaconda3\\lib\\site-packages\\pandas_datareader\\famafrench.py:114: FutureWarning: The argument 'date_parser' is deprecated and will be removed in a future version. Please use 'date_format' instead, or read your data in as 'object' dtype and then call 'to_datetime'.\n",
      "  df = read_csv(StringIO(\"Date\" + src[start:]), **params)\n",
      "c:\\Users\\alan.moreira\\Anaconda3\\lib\\site-packages\\pandas_datareader\\famafrench.py:114: FutureWarning: The argument 'date_parser' is deprecated and will be removed in a future version. Please use 'date_format' instead, or read your data in as 'object' dtype and then call 'to_datetime'.\n",
      "  df = read_csv(StringIO(\"Date\" + src[start:]), **params)\n",
      "c:\\Users\\alan.moreira\\Anaconda3\\lib\\site-packages\\pandas_datareader\\famafrench.py:114: FutureWarning: The argument 'date_parser' is deprecated and will be removed in a future version. Please use 'date_format' instead, or read your data in as 'object' dtype and then call 'to_datetime'.\n",
      "  df = read_csv(StringIO(\"Date\" + src[start:]), **params)\n",
      "c:\\Users\\alan.moreira\\Anaconda3\\lib\\site-packages\\pandas_datareader\\famafrench.py:114: FutureWarning: The argument 'date_parser' is deprecated and will be removed in a future version. Please use 'date_format' instead, or read your data in as 'object' dtype and then call 'to_datetime'.\n",
      "  df = read_csv(StringIO(\"Date\" + src[start:]), **params)\n"
     ]
    },
    {
     "data": {
      "text/html": [
       "<div>\n",
       "<style scoped>\n",
       "    .dataframe tbody tr th:only-of-type {\n",
       "        vertical-align: middle;\n",
       "    }\n",
       "\n",
       "    .dataframe tbody tr th {\n",
       "        vertical-align: top;\n",
       "    }\n",
       "\n",
       "    .dataframe thead th {\n",
       "        text-align: right;\n",
       "    }\n",
       "</style>\n",
       "<table border=\"1\" class=\"dataframe\">\n",
       "  <thead>\n",
       "    <tr style=\"text-align: right;\">\n",
       "      <th></th>\n",
       "      <th>Mkt-RF</th>\n",
       "      <th>SMB</th>\n",
       "      <th>HML</th>\n",
       "      <th>RMW</th>\n",
       "      <th>CMA</th>\n",
       "      <th>MOM</th>\n",
       "    </tr>\n",
       "    <tr>\n",
       "      <th>Date</th>\n",
       "      <th></th>\n",
       "      <th></th>\n",
       "      <th></th>\n",
       "      <th></th>\n",
       "      <th></th>\n",
       "      <th></th>\n",
       "    </tr>\n",
       "  </thead>\n",
       "  <tbody>\n",
       "    <tr>\n",
       "      <th>2025-02-01</th>\n",
       "      <td>-0.0244</td>\n",
       "      <td>-0.0579</td>\n",
       "      <td>0.0491</td>\n",
       "      <td>0.0110</td>\n",
       "      <td>0.0306</td>\n",
       "      <td>-0.0081</td>\n",
       "    </tr>\n",
       "    <tr>\n",
       "      <th>2025-03-01</th>\n",
       "      <td>-0.0639</td>\n",
       "      <td>-0.0276</td>\n",
       "      <td>0.0290</td>\n",
       "      <td>0.0211</td>\n",
       "      <td>-0.0047</td>\n",
       "      <td>-0.0284</td>\n",
       "    </tr>\n",
       "    <tr>\n",
       "      <th>2025-04-01</th>\n",
       "      <td>-0.0084</td>\n",
       "      <td>-0.0059</td>\n",
       "      <td>-0.0340</td>\n",
       "      <td>-0.0285</td>\n",
       "      <td>-0.0267</td>\n",
       "      <td>0.0497</td>\n",
       "    </tr>\n",
       "    <tr>\n",
       "      <th>2025-05-01</th>\n",
       "      <td>0.0606</td>\n",
       "      <td>0.0070</td>\n",
       "      <td>-0.0288</td>\n",
       "      <td>0.0126</td>\n",
       "      <td>0.0251</td>\n",
       "      <td>0.0221</td>\n",
       "    </tr>\n",
       "    <tr>\n",
       "      <th>2025-06-01</th>\n",
       "      <td>0.0486</td>\n",
       "      <td>0.0083</td>\n",
       "      <td>-0.0160</td>\n",
       "      <td>-0.0319</td>\n",
       "      <td>0.0145</td>\n",
       "      <td>-0.0265</td>\n",
       "    </tr>\n",
       "  </tbody>\n",
       "</table>\n",
       "</div>"
      ],
      "text/plain": [
       "            Mkt-RF     SMB     HML     RMW     CMA     MOM\n",
       "Date                                                      \n",
       "2025-02-01 -0.0244 -0.0579  0.0491  0.0110  0.0306 -0.0081\n",
       "2025-03-01 -0.0639 -0.0276  0.0290  0.0211 -0.0047 -0.0284\n",
       "2025-04-01 -0.0084 -0.0059 -0.0340 -0.0285 -0.0267  0.0497\n",
       "2025-05-01  0.0606  0.0070 -0.0288  0.0126  0.0251  0.0221\n",
       "2025-06-01  0.0486  0.0083 -0.0160 -0.0319  0.0145 -0.0265"
      ]
     },
     "execution_count": 61,
     "metadata": {},
     "output_type": "execute_result"
    }
   ],
   "source": [
    "df_ff6=get_factors('ff6',freq='monthly').dropna().drop(columns=['RF'])\n",
    "df_ff6.tail()"
   ]
  },
  {
   "cell_type": "markdown",
   "id": "9521f91b",
   "metadata": {},
   "source": [
    "\n",
    "1. We will target Total portfolio with yearly volatility 16%\n",
    "2. We will get the factors and focus on the sample that we have all the factors available\n",
    "3. We will  apply the different rules"
   ]
  },
  {
   "cell_type": "markdown",
   "id": "48df17aa",
   "metadata": {},
   "source": [
    "\n",
    "\n"
   ]
  },
  {
   "cell_type": "markdown",
   "id": "01e404fd",
   "metadata": {},
   "source": [
    "Mean Variance\n"
   ]
  },
  {
   "cell_type": "code",
   "execution_count": null,
   "id": "94bc66cc",
   "metadata": {},
   "outputs": [],
   "source": [
    "# WE START WITH OUR ESTIMATED MOMENTS\n",
    "# WE TAKE THOSE AS GIVEN\n",
    "Sigma=df_ff6.cov().values\n",
    "MU=df_ff6.mean().values"
   ]
  },
  {
   "cell_type": "code",
   "execution_count": null,
   "id": "81828352",
   "metadata": {},
   "outputs": [
    {
     "name": "stdout",
     "output_type": "stream",
     "text": [
      "[0.55890596 4.14714181 7.16424937 9.49356702 4.1166404 ]\n",
      "0\n",
      "0\n",
      "[0. 0. 0. 0. 0.]\n",
      "your volatility is 0\n",
      "Your Appraisal Ratio is 0\n",
      "So your optimal portfolio with market neutral exposure is \n",
      " 0.0 in SMB, 0.0 in HML, 0.0 in RMW, 0.0 in CMA, 0.0 in MOM, and 0 in Mkt-RF\n"
     ]
    }
   ],
   "source": [
    "\n",
    "\n",
    "# THE DATA IS MONTHLY SO i WILL ADJUST  THE VOL TARGET TO HIT 16% ANNUALIZED\n",
    "VolTarget=0.16/12**0\n",
    "\n",
    "# optimal RELATIVE weights, need to calibrate the volatility\n",
    "W=MU@np.linalg.inv(Sigma)\n",
    "\n",
    "# compute the variance of the W portoflio\n",
    "VarW=0 # to be replaced by the actual formula\n",
    "print(VarW)\n",
    "#adjusting the weights to meet the volatility target\n",
    "w= 0 # to be replaced by the actual formula\n",
    "print(w)\n",
    "# Ww is our final weights with the volatility target\n",
    "Ww=w*W\n",
    "# final weights\n",
    "print(Ww)\n",
    "\n",
    "# check vol \n",
    "\n",
    "vol=0 # to be replaced by the actual formula\n",
    "\n",
    "\n",
    "ER=0 # to be replaced by the actual formula\n",
    "SR=0 # to be replaced by the actual formula\n",
    "\n",
    "print(f\"your volatility is {vol}\")\n",
    "print(f\"Your Sharpe  Ratio is {SR}\")\n",
    "print(f\"So your optimal portfolio e is \\n {Ww[0]} in MKT, {Ww[1]} in SMB, {Ww[2]} in HML, {Ww[3]} in RMW, {Ww[4]} in CMA, {Ww[5]} in MOM\")\n",
    "\n"
   ]
  },
  {
   "cell_type": "code",
   "execution_count": null,
   "id": "0b55be0e",
   "metadata": {},
   "outputs": [
    {
     "name": "stdout",
     "output_type": "stream",
     "text": [
      "your volatility is 0\n",
      "So your optimal portfolio with market neutral exposure is \n",
      " 0.0 in SMB, 0.0 in HML, 0.0 in RMW, 0.0 in CMA, 0.0 in MOM, and 0 in Mkt-RF\n",
      "Your Appraisal Ratio is 0\n"
     ]
    }
   ],
   "source": [
    "# lets wrap it up in a function\n",
    "\n",
    "def sizing(W,MU,Sigma,VolTarget=0.16/12**0.5,name='?'):\n",
    "    VarW=0 # to be replaced by the actual formula\n",
    "    w= 0 # to be replaced by the actual formula\n",
    "    # Ww is our final weights with the volatility target\n",
    "    Ww=w*W\n",
    "    vol=0 # to be replaced by the actual formula\n",
    "    ER=0 # to be replaced by the actual formula\n",
    "    SR=0 # to be replaced by the actual formula\n",
    "\n",
    "    print(f\"your volatility is {vol}\")\n",
    "    print(f\"Your Sharpe  Ratio is {SR}\")\n",
    "    print(f\"The {name} portfolio is \\n {Ww[0]} in MKT, {Ww[1]} in SMB, {Ww[2]} in HML, {Ww[3]} in RMW, {Ww[4]} in CMA, {Ww[5]} in MOM\")\n",
    "    return SR, Ww\n",
    "\n",
    "W=MU@np.linalg.inv(Sigma)\n",
    "sr,W=sizing(W,MU,Sigma,name='Mean-Variance')"
   ]
  },
  {
   "cell_type": "markdown",
   "id": "3d2fd1af",
   "metadata": {},
   "source": [
    "1/N rule"
   ]
  },
  {
   "cell_type": "code",
   "execution_count": null,
   "id": "e10eda71",
   "metadata": {},
   "outputs": [
    {
     "name": "stdout",
     "output_type": "stream",
     "text": [
      "your volatility is 0\n",
      "So your optimal portfolio with market neutral exposure is \n",
      " 0.0 in SMB, 0.0 in HML, 0.0 in RMW, 0.0 in CMA, 0.0 in MOM, and 0 in Mkt-RF\n",
      "Your Appraisal Ratio is 0\n"
     ]
    }
   ],
   "source": [
    "W=np.ones(5)/5\n",
    "sr,W=sizing(W,MU,Sigma,name='1/N')"
   ]
  },
  {
   "cell_type": "markdown",
   "id": "54ecc64b",
   "metadata": {},
   "source": [
    "Proportional rule"
   ]
  },
  {
   "cell_type": "code",
   "execution_count": null,
   "id": "a06de6d1",
   "metadata": {},
   "outputs": [
    {
     "name": "stdout",
     "output_type": "stream",
     "text": [
      "your volatility is 0\n",
      "So your optimal portfolio with market neutral exposure is \n",
      " 0.0 in SMB, 0.0 in HML, 0.0 in RMW, 0.0 in CMA, 0.0 in MOM, and 0 in Mkt-RF\n",
      "Your Appraisal Ratio is 0\n"
     ]
    }
   ],
   "source": [
    "W=MU\n",
    "sr,W=sizing(W,MU,Sigma,name='Proportional')"
   ]
  },
  {
   "cell_type": "markdown",
   "id": "ecb62afb",
   "metadata": {},
   "source": [
    "Risky Parity rule"
   ]
  },
  {
   "cell_type": "code",
   "execution_count": null,
   "id": "cfac36c3",
   "metadata": {},
   "outputs": [
    {
     "name": "stdout",
     "output_type": "stream",
     "text": [
      "your volatility is 0\n",
      "So your optimal portfolio with market neutral exposure is \n",
      " 0.0 in SMB, 0.0 in HML, 0.0 in RMW, 0.0 in CMA, 0.0 in MOM, and 0 in Mkt-RF\n",
      "Your Appraisal Ratio is 0\n"
     ]
    }
   ],
   "source": [
    "W=np.ones(5)@np.linalg.inv(np.diag(np.diag(Sigma)**0.5))\n",
    "sr,W=sizing(W,MU,Sigma,name='Risk Parity')"
   ]
  },
  {
   "cell_type": "markdown",
   "id": "b00ce814",
   "metadata": {},
   "source": [
    "Minimum Variance rule"
   ]
  },
  {
   "cell_type": "code",
   "execution_count": null,
   "id": "2db75e80",
   "metadata": {},
   "outputs": [
    {
     "name": "stdout",
     "output_type": "stream",
     "text": [
      "your volatility is 0\n",
      "So your optimal portfolio with market neutral exposure is \n",
      " 0.0 in SMB, 0.0 in HML, 0.0 in RMW, 0.0 in CMA, 0.0 in MOM, and 0 in Mkt-RF\n",
      "Your Appraisal Ratio is 0\n"
     ]
    }
   ],
   "source": [
    "W=np.ones(5)@np.linalg.inv(Sigma)\n",
    "sr,W=sizing(W,MU,Sigma,name='Minimum Variance')"
   ]
  },
  {
   "cell_type": "markdown",
   "id": "7d5bb0bd",
   "metadata": {},
   "source": [
    "Variance Shrinkage rule\n",
    "\n",
    "\n",
    "- I will shrink them to the the average vol\n",
    "- I will shrink by 20%\n",
    "- The idea makes sense when you think the different assets are kind of similar so you think a good chunk of the sample variation is noise\n",
    "- I will do using mean-variance and minimum variances approaches"
   ]
  },
  {
   "cell_type": "code",
   "execution_count": null,
   "id": "2c7f7b4e",
   "metadata": {},
   "outputs": [
    {
     "name": "stdout",
     "output_type": "stream",
     "text": [
      "your volatility is 0\n",
      "So your optimal portfolio with market neutral exposure is \n",
      " 0.0 in SMB, 0.0 in HML, 0.0 in RMW, 0.0 in CMA, 0.0 in MOM, and 0 in Mkt-RF\n",
      "Your Appraisal Ratio is 0\n"
     ]
    },
    {
     "name": "stderr",
     "output_type": "stream",
     "text": [
      "c:\\Users\\alan.moreira\\Anaconda3\\lib\\site-packages\\numpy\\core\\fromnumeric.py:3504: RuntimeWarning: Mean of empty slice.\n",
      "  return _methods._mean(a, axis=axis, dtype=dtype,\n",
      "c:\\Users\\alan.moreira\\Anaconda3\\lib\\site-packages\\numpy\\core\\_methods.py:129: RuntimeWarning: invalid value encountered in scalar divide\n",
      "  ret = ret.dtype.type(ret / rcount)\n"
     ]
    }
   ],
   "source": [
    "tau=0.2\n",
    "sigma_bar=np.mean(np.diag(Sigma))\n",
    "Sigma_hat=Sigma*(1-tau)+tau*np.eye(5)*sigma_bar\n",
    "W=MU@np.linalg.inv(Sigma_hat)\n",
    "sr,W=sizing(W,MU,Sigma,name='Mean-variance Shrinkage')"
   ]
  },
  {
   "cell_type": "code",
   "execution_count": null,
   "id": "3ef34b4e",
   "metadata": {},
   "outputs": [],
   "source": [
    "W=np.ones(5)@np.linalg.inv(Sigma_hat)\n",
    "sr,W=sizing(W,MU,Sigma,name='Minimum-variance Shrinkage')"
   ]
  },
  {
   "cell_type": "markdown",
   "id": "a805c4fb",
   "metadata": {},
   "source": [
    "> Question?\n",
    "> How would implement this from the perspective of a CAPM capital allocator that wants their alpha portfolio to be market neutral?"
   ]
  },
  {
   "cell_type": "code",
   "execution_count": null,
   "id": "478408b2",
   "metadata": {},
   "outputs": [],
   "source": []
  },
  {
   "cell_type": "markdown",
   "id": "7f33a291",
   "metadata": {},
   "source": [
    "## Portfolios and Factor models"
   ]
  },
  {
   "cell_type": "markdown",
   "id": "1b314245",
   "metadata": {},
   "source": [
    "Here we show how portfolio returns can be decomposed into factor exposures, alphas, and residuals using a linear factor model. \n",
    "\n",
    "We derive the expected return and variance formulas for a portfolio under this model, highlighting the role of factor risk and idiosyncratic risk.  \n",
    "\n",
    "The objective is to set up the framework for estimating and analyzing portfolio risk and return using factor model outputs.\n",
    "\n",
    "\n",
    "Say you have\n",
    "\n",
    "- a vector of asset excess returns R (N by 1),\n",
    "- weights W (N by 1),\n",
    "- factor loadings B (N by 1),\n",
    "- alphas A (N by 1),\n",
    "- residuals U (N by 1)\n",
    "- f is a scalar excess return factor\n",
    "\n",
    "then I can write my portfolio return as\n",
    "\n",
    "$$r_p=W.T @R=W.T @(A+Bf+U)$$\n",
    "\n",
    "Because $E[U]=0$, Thus it follows that\n",
    "\n",
    "$$E[r_p]=W.T @(A+BE[f])$$\n",
    "\n",
    "and\n",
    "\n",
    "$$Var[r_p]=Var(W.T @(A+Bf+U))=(W.T@B)@Var(f)@(W.T@B).T+W.T@Var(U)@W$$\n",
    "\n",
    "If we are working with a single factor then Var(f) is a scalar and it simplifies this way\n",
    "\n",
    "$$Var[r_p]=Var(W.T @(A+Bf+U))=(W.T@B)^2*Var(f)+W.T@Var(U)@W$$\n",
    "\n",
    "\n",
    "- How do you compute the share of variance that is systematic/idiosyncratic?\n",
    "- Why not simply use the in-sample variance of your portfolio?\n",
    "- What is the important assumption that likely fails in reality? how to deal with it?\n",
    "\n",
    "To implement this lets starts start by estimating our factor model for these trading strategies"
   ]
  },
  {
   "cell_type": "code",
   "execution_count": 64,
   "id": "b4704929",
   "metadata": {},
   "outputs": [
    {
     "name": "stdout",
     "output_type": "stream",
     "text": [
      "Alpha: [0.00324195 0.04349594 0.03955175 0.04143328 0.08341451]\n",
      "Beta: [ 0.19954208 -0.13719646 -0.09352601 -0.16246303 -0.16205943]\n",
      "Sigma_e:\n"
     ]
    },
    {
     "data": {
      "text/plain": [
       "array([[ 1.00563313e-02, -9.24337485e-04, -2.82466739e-03,\n",
       "        -5.14453377e-04,  1.36587317e-06],\n",
       "       [-9.24337485e-04,  1.01484903e-02,  3.74978561e-04,\n",
       "         4.47136746e-03, -3.41595108e-03],\n",
       "       [-2.82466739e-03,  3.74978561e-04,  5.70013428e-03,\n",
       "        -3.92044656e-04,  5.51842057e-04],\n",
       "       [-5.14453377e-04,  4.47136746e-03, -3.92044656e-04,\n",
       "         4.46193077e-03, -7.83303223e-04],\n",
       "       [ 1.36587317e-06, -3.41595108e-03,  5.51842057e-04,\n",
       "        -7.83303223e-04,  2.03162979e-02]])"
      ]
     },
     "metadata": {},
     "output_type": "display_data"
    },
    {
     "name": "stdout",
     "output_type": "stream",
     "text": [
      "Sigma_e_uncorr:\n"
     ]
    },
    {
     "data": {
      "text/plain": [
       "array([[0.00083899, 0.        , 0.        , ..., 0.        , 0.        ,\n",
       "        0.        ],\n",
       "       [0.        , 0.00270649, 0.        , ..., 0.        , 0.        ,\n",
       "        0.        ],\n",
       "       [0.        , 0.        , 0.00027303, ..., 0.        , 0.        ,\n",
       "        0.        ],\n",
       "       ...,\n",
       "       [0.        , 0.        , 0.        , ..., 0.01326286, 0.        ,\n",
       "        0.        ],\n",
       "       [0.        , 0.        , 0.        , ..., 0.        , 0.00629202,\n",
       "        0.        ],\n",
       "       [0.        , 0.        , 0.        , ..., 0.        , 0.        ,\n",
       "        0.00475249]])"
      ]
     },
     "metadata": {},
     "output_type": "display_data"
    }
   ],
   "source": [
    "import statsmodels.api as sm\n",
    "\n",
    "# Define the factors and the market factor\n",
    "factors = ['SMB', 'HML', 'RMW', 'CMA', 'MOM']\n",
    "market_factor = 'Mkt-RF'\n",
    "\n",
    "# Initialize lists to store the results\n",
    "Alpha = []\n",
    "Beta = []\n",
    "residuals = []\n",
    "Alpha_se = []\n",
    "# Run univariate regressions\n",
    "# here we are running a regression of each factor on the market factor\n",
    "for factor in factors:\n",
    "    X = sm.add_constant(df_ff6[market_factor])\n",
    "    y = df_ff6[factor]\n",
    "    model = sm.OLS(y, X).fit()\n",
    "    Alpha.append(model.params['const'])\n",
    "    Beta.append(model.params[market_factor])\n",
    "    # I am storying the entire time-series of residuals\n",
    "    residuals.append(model.resid)\n",
    "\n",
    "# Convert Alpha and Beta to numpy arrays\n",
    "Alpha = np.array(Alpha)\n",
    "Beta = np.array(Beta)\n",
    "\n",
    "# Calculate the variance-covariance matrix of the residuals\n",
    "residuals_matrix = np.vstack(residuals)\n",
    "Sigma_e = np.cov(residuals_matrix)\n",
    "#now under the assumption that the residuals are uncorrelated ( they are not!)\n",
    "\n",
    "\n",
    "Sigma_e_uncorr = np.diag(np.diag(np.cov(residuals_matrix.T)))\n",
    "\n",
    "# Display the results\n",
    "print(\"Alpha:\", Alpha*12)\n",
    "print(\"Beta:\", Beta)\n",
    "print(\"Sigma_e:\")\n",
    "display(Sigma_e*12)\n",
    "print(\"Sigma_e_uncorr:\")\n",
    "display(Sigma_e_uncorr*12)"
   ]
  },
  {
   "cell_type": "code",
   "execution_count": null,
   "id": "f799c4e7",
   "metadata": {},
   "outputs": [],
   "source": []
  },
  {
   "cell_type": "markdown",
   "id": "dcbfce14",
   "metadata": {},
   "source": []
  },
  {
   "cell_type": "markdown",
   "id": "19fb02b0",
   "metadata": {},
   "source": [
    "## The rise of \"pod shops\"\n",
    "\n",
    "\n",
    "Hedge funds used to be associated with Principal traders\n",
    "\n",
    "- George Soros\n",
    "- Julian Robertson\n",
    "- David Tepper\n",
    "- Paul Tudor Jones\n",
    "- Steve Cohen\n",
    "- John Paulson\n",
    "\n",
    "\n",
    "Now we have the rise of Citadel and Millenium among a few others\n",
    "\n",
    "Pod shops are organized totally different\n",
    "\n",
    "Idea generation are done at the pod level in groups of 5-10 people\n",
    "\n",
    "Capital is allocated to the pod by the hedge fund principal, who monitors exposures and hedges residual factor risk\n",
    "\n",
    "Why pod traders work for Citadel and not choose to manage their own fund?\n",
    "\n",
    "**A calculation**\n",
    "\n",
    "Consider a pod shop with N pods with SR sr and total vol $\\sigma$, what is their alpha? What is their SR?\n",
    "\n",
    "\n",
    "$$E[\\sum x^*_ir_i]=E[\\sum \\frac{\\alpha_i}{\\sigma^2_i}\\alpha_i]=N*sr^2$$\n",
    "\n",
    "\n",
    "$$Var[\\sum x^*_ir_i]=Var[\\sum \\frac{\\alpha_i}{\\sigma^2_i}\\epsilon_i]=\\sum (\\frac{\\alpha_i}{\\sigma^2_i})^2Var[\\epsilon_i]$$\n",
    "\n",
    "\n",
    "$$Var[\\sum x^*_ir_i]=\\sum (\\frac{\\alpha_i}{\\sigma^2_i})^2\\sigma^2_i=N sr^2$$\n",
    "\n",
    "so the Sharpe Ratio of the pool of pods is \n",
    "\n",
    "$$sr_{pool}=\\frac{Nsr_{pod}^2}{\\sqrt{N}sr_{pod}}=\\sqrt{N}sr_{pod}$$\n",
    "\n",
    "The Sharpe ratio of the pool of pods grows with the number of pods\n",
    "\n",
    "This means that if managed individually, the average pod will accumulate wealth at rate $\\sigma*sr$\n",
    "\n",
    "But if managed in a pool structure, the average pod will accumulate as $\\sqrt{N}\\sigma*sr$\n",
    "\n",
    "Finding a new uncorrelated idea is super valuable!\n",
    "\n",
    "The marginal change in cash flows are\n",
    "\n",
    "\n",
    "$$\\frac{\\sigma*sr_{pool}}{N}$$\n",
    "\n",
    "- decreases in the number of pods\n",
    "- But always positive--if indeed similar SR and uncorrelated!\n",
    "\n",
    "Note that this calculation under-estimates the value of the pod structure\n",
    "\n",
    " - The higher your Sharpe ratio, the more volatility you can take without bearing significant risk of loss (wealth just grows too quickly)\n",
    "\n",
    "But it also not realistic\n",
    "  - Your marginal pod is likely to be worse or correlated with the others\n",
    "\n",
    "\n",
    "\n"
   ]
  },
  {
   "cell_type": "markdown",
   "id": "9b1587e8",
   "metadata": {},
   "source": [
    "## 🧠 Key Takeaways\n",
    "\n",
    "- **Estimation risk matters.** MV weights are highly sensitive when signals are weak or assets are collinear; always stress test inputs.  \n",
    "- **Robust bet sizing.** Simple baselines (e.g., $1/N$, vol targeting, risk parity) often outperform noisy MV in real time without aggressive views.  \n",
    "- **Shrinkage helps.** Regularizing $\\Sigma$ (and sometimes $\\mu$) stabilizes weights and improves out-of-sample SR.  \n",
    "- **Factor lens.** Decomposing risk by factor clarifies whether diversification is **true** (low common exposures) or **illusory** (highly correlated bets).  \n",
    "\n",
    "\n",
    "---"
   ]
  }
 ],
 "metadata": {
  "kernelspec": {
   "display_name": "base",
   "language": "python",
   "name": "python3"
  },
  "language_info": {
   "codemirror_mode": {
    "name": "ipython",
    "version": 3
   },
   "file_extension": ".py",
   "mimetype": "text/x-python",
   "name": "python",
   "nbconvert_exporter": "python",
   "pygments_lexer": "ipython3",
   "version": "3.9.19"
  }
 },
 "nbformat": 4,
 "nbformat_minor": 5
}
