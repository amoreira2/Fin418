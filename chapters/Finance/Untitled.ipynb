{
 "cells": [
  {
   "cell_type": "code",
   "execution_count": 1,
   "id": "af07d8af",
   "metadata": {},
   "outputs": [],
   "source": [
    "import numpy as np\n",
    "import pandas as pd\n",
    "%matplotlib inline\n",
    "import matplotlib.pyplot as plt\n",
    "import wrds\n",
    "import pandas_datareader.data as web"
   ]
  },
  {
   "cell_type": "code",
   "execution_count": 3,
   "id": "a1feee27",
   "metadata": {},
   "outputs": [
    {
     "name": "stdout",
     "output_type": "stream",
     "text": [
      "WRDS recommends setting up a .pgpass file.\n",
      "Created .pgpass file successfully.\n",
      "You can create this file yourself at any time with the create_pgpass_file() function.\n",
      "Loading library list...\n",
      "Done\n"
     ]
    }
   ],
   "source": [
    "conn = wrds.Connection()\n",
    "sp500 = conn.raw_sql(\"\"\"\n",
    "                        select a.*, b.date, b.ret\n",
    "                        from crsp.msp500list as a,\n",
    "                        crsp.msf as b\n",
    "                        where a.permno=b.permno\n",
    "                        and b.date >= a.start and b.date<= a.ending\n",
    "                        and b.date>='01/01/2000'\n",
    "                        order by date;\n",
    "                        \"\"\", date_cols=['start', 'ending', 'date'])"
   ]
  },
  {
   "cell_type": "code",
   "execution_count": 4,
   "id": "c150a41f",
   "metadata": {},
   "outputs": [
    {
     "data": {
      "text/html": [
       "<div>\n",
       "<style scoped>\n",
       "    .dataframe tbody tr th:only-of-type {\n",
       "        vertical-align: middle;\n",
       "    }\n",
       "\n",
       "    .dataframe tbody tr th {\n",
       "        vertical-align: top;\n",
       "    }\n",
       "\n",
       "    .dataframe thead th {\n",
       "        text-align: right;\n",
       "    }\n",
       "</style>\n",
       "<table border=\"1\" class=\"dataframe\">\n",
       "  <thead>\n",
       "    <tr style=\"text-align: right;\">\n",
       "      <th></th>\n",
       "      <th>permno</th>\n",
       "      <th>start</th>\n",
       "      <th>ending</th>\n",
       "      <th>date</th>\n",
       "      <th>ret</th>\n",
       "    </tr>\n",
       "  </thead>\n",
       "  <tbody>\n",
       "    <tr>\n",
       "      <th>0</th>\n",
       "      <td>77178</td>\n",
       "      <td>1999-07-22</td>\n",
       "      <td>2023-12-29</td>\n",
       "      <td>2000-01-31</td>\n",
       "      <td>-0.278921</td>\n",
       "    </tr>\n",
       "    <tr>\n",
       "      <th>1</th>\n",
       "      <td>48485</td>\n",
       "      <td>1976-07-01</td>\n",
       "      <td>2006-03-31</td>\n",
       "      <td>2000-01-31</td>\n",
       "      <td>-0.139194</td>\n",
       "    </tr>\n",
       "    <tr>\n",
       "      <th>2</th>\n",
       "      <td>19502</td>\n",
       "      <td>1979-10-11</td>\n",
       "      <td>2023-12-29</td>\n",
       "      <td>2000-01-31</td>\n",
       "      <td>-0.044872</td>\n",
       "    </tr>\n",
       "    <tr>\n",
       "      <th>3</th>\n",
       "      <td>28847</td>\n",
       "      <td>1986-12-18</td>\n",
       "      <td>2002-05-14</td>\n",
       "      <td>2000-01-31</td>\n",
       "      <td>-0.311891</td>\n",
       "    </tr>\n",
       "    <tr>\n",
       "      <th>4</th>\n",
       "      <td>56573</td>\n",
       "      <td>1986-02-13</td>\n",
       "      <td>2023-12-29</td>\n",
       "      <td>2000-01-31</td>\n",
       "      <td>-0.134135</td>\n",
       "    </tr>\n",
       "    <tr>\n",
       "      <th>...</th>\n",
       "      <td>...</td>\n",
       "      <td>...</td>\n",
       "      <td>...</td>\n",
       "      <td>...</td>\n",
       "      <td>...</td>\n",
       "    </tr>\n",
       "    <tr>\n",
       "      <th>144482</th>\n",
       "      <td>22111</td>\n",
       "      <td>1973-05-31</td>\n",
       "      <td>2023-12-29</td>\n",
       "      <td>2023-12-29</td>\n",
       "      <td>0.013449</td>\n",
       "    </tr>\n",
       "    <tr>\n",
       "      <th>144483</th>\n",
       "      <td>44206</td>\n",
       "      <td>2009-03-17</td>\n",
       "      <td>2023-12-29</td>\n",
       "      <td>2023-12-29</td>\n",
       "      <td>0.050244</td>\n",
       "    </tr>\n",
       "    <tr>\n",
       "      <th>144484</th>\n",
       "      <td>23473</td>\n",
       "      <td>1997-12-18</td>\n",
       "      <td>2023-12-29</td>\n",
       "      <td>2023-12-29</td>\n",
       "      <td>0.013815</td>\n",
       "    </tr>\n",
       "    <tr>\n",
       "      <th>144485</th>\n",
       "      <td>77274</td>\n",
       "      <td>2004-07-01</td>\n",
       "      <td>2023-12-29</td>\n",
       "      <td>2023-12-29</td>\n",
       "      <td>0.067363</td>\n",
       "    </tr>\n",
       "    <tr>\n",
       "      <th>144486</th>\n",
       "      <td>10138</td>\n",
       "      <td>1999-10-13</td>\n",
       "      <td>2023-12-29</td>\n",
       "      <td>2023-12-29</td>\n",
       "      <td>0.087686</td>\n",
       "    </tr>\n",
       "  </tbody>\n",
       "</table>\n",
       "<p>144487 rows × 5 columns</p>\n",
       "</div>"
      ],
      "text/plain": [
       "        permno      start     ending       date       ret\n",
       "0        77178 1999-07-22 2023-12-29 2000-01-31 -0.278921\n",
       "1        48485 1976-07-01 2006-03-31 2000-01-31 -0.139194\n",
       "2        19502 1979-10-11 2023-12-29 2000-01-31 -0.044872\n",
       "3        28847 1986-12-18 2002-05-14 2000-01-31 -0.311891\n",
       "4        56573 1986-02-13 2023-12-29 2000-01-31 -0.134135\n",
       "...        ...        ...        ...        ...       ...\n",
       "144482   22111 1973-05-31 2023-12-29 2023-12-29  0.013449\n",
       "144483   44206 2009-03-17 2023-12-29 2023-12-29  0.050244\n",
       "144484   23473 1997-12-18 2023-12-29 2023-12-29  0.013815\n",
       "144485   77274 2004-07-01 2023-12-29 2023-12-29  0.067363\n",
       "144486   10138 1999-10-13 2023-12-29 2023-12-29  0.087686\n",
       "\n",
       "[144487 rows x 5 columns]"
      ]
     },
     "execution_count": 4,
     "metadata": {},
     "output_type": "execute_result"
    }
   ],
   "source": [
    "sp500"
   ]
  },
  {
   "cell_type": "code",
   "execution_count": null,
   "id": "7f647bca-fa49-4a53-af8c-3f6d7e3fb341",
   "metadata": {},
   "outputs": [],
   "source": [
    "df1=ds[0].stack()\n",
    "df2=ds[4].stack()\n",
    "df3=ds[5].stack()\n",
    "df1.name='returns'\n",
    "df2.name='nfirms'\n",
    "df3.name='size'\n",
    "df = pd.concat([df1,df2,df3], axis=1)\n",
    "df=df.reset_index()\n",
    "df=df.set_index('Date')\n",
    "df=(df).to_timestamp(how='E')\n",
    "df.rename(columns={'level_1':'industry'},inplace=True)\n",
    "df.index=df.index.date\n",
    "df.index.name='Date'\n",
    "df.to_csv('../../assets/data/49_Industry_Portfolios.csv')"
   ]
  },
  {
   "cell_type": "markdown",
   "id": "c60cc944",
   "metadata": {},
   "source": []
  },
  {
   "cell_type": "markdown",
   "id": "4ad4849b",
   "metadata": {},
   "source": [
    "### Application: Market model\n",
    "\n",
    "\n",
    "\n",
    "\n"
   ]
  },
  {
   "cell_type": "code",
   "execution_count": null,
   "id": "11d208af",
   "metadata": {},
   "outputs": [
    {
     "name": "stdout",
     "output_type": "stream",
     "text": [
      "<class 'pandas.core.frame.DataFrame'>\n",
      "DatetimeIndex: 180 entries, 2000-01-01 to 2014-12-01\n",
      "Data columns (total 51 columns):\n",
      " #   Column  Non-Null Count  Dtype  \n",
      "---  ------  --------------  -----  \n",
      " 0   CTL     180 non-null    float64\n",
      " 1   T       180 non-null    float64\n",
      " 2   CSCO    180 non-null    float64\n",
      " 3   FCX     180 non-null    float64\n",
      " 4   XL      180 non-null    float64\n",
      " 5   IVZ     180 non-null    float64\n",
      " 6   AMT     180 non-null    float64\n",
      " 7   WHR     180 non-null    float64\n",
      " 8   IR      180 non-null    float64\n",
      " 9   WFT     180 non-null    float64\n",
      " 10  YUM     180 non-null    float64\n",
      " 11  CVS     180 non-null    float64\n",
      " 12  GD      180 non-null    float64\n",
      " 13  TYC     180 non-null    float64\n",
      " 14  EL      180 non-null    float64\n",
      " 15  MUR     180 non-null    float64\n",
      " 16  CTAS    180 non-null    float64\n",
      " 17  CBSA    180 non-null    float64\n",
      " 18  SNV     180 non-null    float64\n",
      " 19  CAM     180 non-null    float64\n",
      " 20  DLTR    180 non-null    float64\n",
      " 21  CAH     180 non-null    float64\n",
      " 22  DTE     180 non-null    float64\n",
      " 23  SSP     180 non-null    float64\n",
      " 24  PSA     180 non-null    float64\n",
      " 25  EXC     180 non-null    float64\n",
      " 26  TKR     180 non-null    float64\n",
      " 27  CMA     180 non-null    float64\n",
      " 28  ORCL    180 non-null    float64\n",
      " 29  MS      180 non-null    float64\n",
      " 30  RSG     180 non-null    float64\n",
      " 31  ACAS    180 non-null    float64\n",
      " 32  AGN     180 non-null    float64\n",
      " 33  MMM     180 non-null    float64\n",
      " 34  ETFC    180 non-null    float64\n",
      " 35  CAR     180 non-null    float64\n",
      " 36  MDR     180 non-null    float64\n",
      " 37  NOV     180 non-null    float64\n",
      " 38  PCH     180 non-null    float64\n",
      " 39  BAX     180 non-null    float64\n",
      " 40  JCI     180 non-null    float64\n",
      " 41  SWK     180 non-null    float64\n",
      " 42  DVN     180 non-null    float64\n",
      " 43  TMO     180 non-null    float64\n",
      " 44  PEP     180 non-null    float64\n",
      " 45  LNC     180 non-null    float64\n",
      " 46  EMR     180 non-null    float64\n",
      " 47  MLM     180 non-null    float64\n",
      " 48  CCI     180 non-null    float64\n",
      " 49  NU      180 non-null    float64\n",
      " 50  Market  180 non-null    float64\n",
      "dtypes: float64(51)\n",
      "memory usage: 73.1 KB\n"
     ]
    }
   ],
   "source": [
    "from datetime import datetime\n",
    "\n",
    "# Create a date parser function that will allow pandas to read the dates in the format we have them\n",
    "date_parser = lambda x: datetime.strptime(x, \"%Y%m\")\n",
    "# our 50 stock returns data\n",
    "\n",
    "url = \"https://raw.githubusercontent.com/amoreira2/Fin418/main/assets/data/Retuns50stocks.csv\"\n",
    "\n",
    "# Use pd.read_csv with the date_parser\n",
    "df  = pd.read_csv(url, parse_dates=['date'], date_parser=date_parser)\n",
    "# Set the date column as the index\n",
    "\n",
    "# first, create the DataFrame\n",
    "df.set_index(\"date\",inplace=True)\n",
    "# put the returns in percentage format\n",
    "df=df/100\n",
    "df.info()"
   ]
  },
  {
   "cell_type": "code",
   "execution_count": null,
   "id": "106e602f",
   "metadata": {},
   "outputs": [
    {
     "data": {
      "text/html": [
       "<table class=\"simpletable\">\n",
       "<caption>OLS Regression Results</caption>\n",
       "<tr>\n",
       "  <th>Dep. Variable:</th>           <td>CTL</td>       <th>  R-squared:         </th> <td>   0.171</td>\n",
       "</tr>\n",
       "<tr>\n",
       "  <th>Model:</th>                   <td>OLS</td>       <th>  Adj. R-squared:    </th> <td>   0.167</td>\n",
       "</tr>\n",
       "<tr>\n",
       "  <th>Method:</th>             <td>Least Squares</td>  <th>  F-statistic:       </th> <td>   36.81</td>\n",
       "</tr>\n",
       "<tr>\n",
       "  <th>Date:</th>             <td>Mon, 29 Jan 2024</td> <th>  Prob (F-statistic):</th> <td>7.62e-09</td>\n",
       "</tr>\n",
       "<tr>\n",
       "  <th>Time:</th>                 <td>18:02:15</td>     <th>  Log-Likelihood:    </th> <td>  214.56</td>\n",
       "</tr>\n",
       "<tr>\n",
       "  <th>No. Observations:</th>      <td>   180</td>      <th>  AIC:               </th> <td>  -425.1</td>\n",
       "</tr>\n",
       "<tr>\n",
       "  <th>Df Residuals:</th>          <td>   178</td>      <th>  BIC:               </th> <td>  -418.7</td>\n",
       "</tr>\n",
       "<tr>\n",
       "  <th>Df Model:</th>              <td>     1</td>      <th>                     </th>     <td> </td>   \n",
       "</tr>\n",
       "<tr>\n",
       "  <th>Covariance Type:</th>      <td>nonrobust</td>    <th>                     </th>     <td> </td>   \n",
       "</tr>\n",
       "</table>\n",
       "<table class=\"simpletable\">\n",
       "<tr>\n",
       "     <td></td>       <th>coef</th>     <th>std err</th>      <th>t</th>      <th>P>|t|</th>  <th>[0.025</th>    <th>0.975]</th>  \n",
       "</tr>\n",
       "<tr>\n",
       "  <th>const</th>  <td>    0.0019</td> <td>    0.006</td> <td>    0.340</td> <td> 0.734</td> <td>   -0.009</td> <td>    0.013</td>\n",
       "</tr>\n",
       "<tr>\n",
       "  <th>Market</th> <td>    0.7269</td> <td>    0.120</td> <td>    6.068</td> <td> 0.000</td> <td>    0.491</td> <td>    0.963</td>\n",
       "</tr>\n",
       "</table>\n",
       "<table class=\"simpletable\">\n",
       "<tr>\n",
       "  <th>Omnibus:</th>       <td>43.729</td> <th>  Durbin-Watson:     </th> <td>   2.264</td>\n",
       "</tr>\n",
       "<tr>\n",
       "  <th>Prob(Omnibus):</th> <td> 0.000</td> <th>  Jarque-Bera (JB):  </th> <td> 394.038</td>\n",
       "</tr>\n",
       "<tr>\n",
       "  <th>Skew:</th>          <td> 0.524</td> <th>  Prob(JB):          </th> <td>2.73e-86</td>\n",
       "</tr>\n",
       "<tr>\n",
       "  <th>Kurtosis:</th>      <td>10.172</td> <th>  Cond. No.          </th> <td>    21.8</td>\n",
       "</tr>\n",
       "</table><br/><br/>Notes:<br/>[1] Standard Errors assume that the covariance matrix of the errors is correctly specified."
      ],
      "text/plain": [
       "<class 'statsmodels.iolib.summary.Summary'>\n",
       "\"\"\"\n",
       "                            OLS Regression Results                            \n",
       "==============================================================================\n",
       "Dep. Variable:                    CTL   R-squared:                       0.171\n",
       "Model:                            OLS   Adj. R-squared:                  0.167\n",
       "Method:                 Least Squares   F-statistic:                     36.81\n",
       "Date:                Mon, 29 Jan 2024   Prob (F-statistic):           7.62e-09\n",
       "Time:                        18:02:15   Log-Likelihood:                 214.56\n",
       "No. Observations:                 180   AIC:                            -425.1\n",
       "Df Residuals:                     178   BIC:                            -418.7\n",
       "Df Model:                           1                                         \n",
       "Covariance Type:            nonrobust                                         \n",
       "==============================================================================\n",
       "                 coef    std err          t      P>|t|      [0.025      0.975]\n",
       "------------------------------------------------------------------------------\n",
       "const          0.0019      0.006      0.340      0.734      -0.009       0.013\n",
       "Market         0.7269      0.120      6.068      0.000       0.491       0.963\n",
       "==============================================================================\n",
       "Omnibus:                       43.729   Durbin-Watson:                   2.264\n",
       "Prob(Omnibus):                  0.000   Jarque-Bera (JB):              394.038\n",
       "Skew:                           0.524   Prob(JB):                     2.73e-86\n",
       "Kurtosis:                      10.172   Cond. No.                         21.8\n",
       "==============================================================================\n",
       "\n",
       "Notes:\n",
       "[1] Standard Errors assume that the covariance matrix of the errors is correctly specified.\n",
       "\"\"\""
      ]
     },
     "metadata": {},
     "output_type": "display_data"
    }
   ],
   "source": [
    "# load regression library\n",
    "import statsmodels.api as sm\n",
    "# add a constant to the independent variable\n",
    "x= sm.add_constant(df['Market'])\n",
    "# set the dependent variable to be the 'CTL' return\n",
    "y= df['CTL']\n",
    "# run the regression\n",
    "results= sm.OLS(y,x).fit()\n",
    "results.summary()"
   ]
  },
  {
   "cell_type": "markdown",
   "id": "75e61b51",
   "metadata": {},
   "source": [
    "Interpretation:\n",
    "\n",
    "The coefficient on the market estimates the exposure $b_{CTL}$. It is 0.72 and well estimate\n",
    "\n",
    "- we see that the standard errors allow us to reject both zero (easy) and one (not as easy simnce the typical stock must have a beta of 1)\n",
    "\n",
    "We see that the R-squared is 17% so the asset specific risk is sizable\n",
    "\n",
    "* what fraction of CTL risk is due to the factor?\n",
    "\n",
    "* how large is the non-factor component?\n"
   ]
  },
  {
   "cell_type": "code",
   "execution_count": null,
   "id": "4af1d078",
   "metadata": {},
   "outputs": [
    {
     "name": "stdout",
     "output_type": "stream",
     "text": [
      "0.25520301676928053\n"
     ]
    }
   ],
   "source": [
    "# to get the residual volatility, we need to get the residuals and compute it's volatility\n",
    "u= results.resid\n",
    "print(u.std()*12**0.5)\n"
   ]
  },
  {
   "cell_type": "markdown",
   "id": "d1e309eb",
   "metadata": {},
   "source": [
    "Lets now estimate the covariance matrix of these 50 stocks using this single-factor model\n",
    "\n",
    "1. Run regression stock by stock\n",
    "1. save betas, save residual variance\n",
    "1. Use formula to construct variance matrix"
   ]
  },
  {
   "cell_type": "code",
   "execution_count": null,
   "id": "41c77c39",
   "metadata": {},
   "outputs": [
    {
     "data": {
      "text/plain": [
       "Index(['CTL', 'T', 'CSCO', 'FCX', 'XL', 'IVZ', 'AMT', 'WHR', 'IR', 'WFT',\n",
       "       'YUM', 'CVS', 'GD', 'TYC', 'EL', 'MUR', 'CTAS', 'CBSA', 'SNV', 'CAM',\n",
       "       'DLTR', 'CAH', 'DTE', 'SSP', 'PSA', 'EXC', 'TKR', 'CMA', 'ORCL', 'MS',\n",
       "       'RSG', 'ACAS', 'AGN', 'MMM', 'ETFC', 'CAR', 'MDR', 'NOV', 'PCH', 'BAX',\n",
       "       'JCI', 'SWK', 'DVN', 'TMO', 'PEP', 'LNC', 'EMR', 'MLM', 'CCI', 'NU'],\n",
       "      dtype='object')"
      ]
     },
     "metadata": {},
     "output_type": "display_data"
    }
   ],
   "source": [
    "df.columns[:-1]"
   ]
  },
  {
   "cell_type": "code",
   "execution_count": null,
   "id": "094468f3",
   "metadata": {},
   "outputs": [
    {
     "data": {
      "text/html": [
       "<div>\n",
       "<style scoped>\n",
       "    .dataframe tbody tr th:only-of-type {\n",
       "        vertical-align: middle;\n",
       "    }\n",
       "\n",
       "    .dataframe tbody tr th {\n",
       "        vertical-align: top;\n",
       "    }\n",
       "\n",
       "    .dataframe thead th {\n",
       "        text-align: right;\n",
       "    }\n",
       "</style>\n",
       "<table border=\"1\" class=\"dataframe\">\n",
       "  <thead>\n",
       "    <tr style=\"text-align: right;\">\n",
       "      <th></th>\n",
       "      <th>Beta</th>\n",
       "      <th>VarU</th>\n",
       "    </tr>\n",
       "  </thead>\n",
       "  <tbody>\n",
       "    <tr>\n",
       "      <th>CTL</th>\n",
       "      <td>0.726946</td>\n",
       "      <td>0.005427</td>\n",
       "    </tr>\n",
       "    <tr>\n",
       "      <th>T</th>\n",
       "      <td>0.529153</td>\n",
       "      <td>0.004093</td>\n",
       "    </tr>\n",
       "    <tr>\n",
       "      <th>CSCO</th>\n",
       "      <td>1.530779</td>\n",
       "      <td>0.006403</td>\n",
       "    </tr>\n",
       "    <tr>\n",
       "      <th>FCX</th>\n",
       "      <td>1.569894</td>\n",
       "      <td>0.011742</td>\n",
       "    </tr>\n",
       "    <tr>\n",
       "      <th>XL</th>\n",
       "      <td>1.438681</td>\n",
       "      <td>0.011752</td>\n",
       "    </tr>\n",
       "    <tr>\n",
       "      <th>IVZ</th>\n",
       "      <td>2.036247</td>\n",
       "      <td>0.004851</td>\n",
       "    </tr>\n",
       "    <tr>\n",
       "      <th>AMT</th>\n",
       "      <td>1.352478</td>\n",
       "      <td>0.027122</td>\n",
       "    </tr>\n",
       "    <tr>\n",
       "      <th>WHR</th>\n",
       "      <td>1.442238</td>\n",
       "      <td>0.008598</td>\n",
       "    </tr>\n",
       "    <tr>\n",
       "      <th>IR</th>\n",
       "      <td>1.461150</td>\n",
       "      <td>0.005901</td>\n",
       "    </tr>\n",
       "    <tr>\n",
       "      <th>WFT</th>\n",
       "      <td>1.513599</td>\n",
       "      <td>0.010939</td>\n",
       "    </tr>\n",
       "    <tr>\n",
       "      <th>YUM</th>\n",
       "      <td>0.701920</td>\n",
       "      <td>0.004836</td>\n",
       "    </tr>\n",
       "    <tr>\n",
       "      <th>CVS</th>\n",
       "      <td>0.647671</td>\n",
       "      <td>0.004854</td>\n",
       "    </tr>\n",
       "    <tr>\n",
       "      <th>GD</th>\n",
       "      <td>0.833312</td>\n",
       "      <td>0.003792</td>\n",
       "    </tr>\n",
       "    <tr>\n",
       "      <th>TYC</th>\n",
       "      <td>1.331555</td>\n",
       "      <td>0.006221</td>\n",
       "    </tr>\n",
       "    <tr>\n",
       "      <th>EL</th>\n",
       "      <td>0.918557</td>\n",
       "      <td>0.004550</td>\n",
       "    </tr>\n",
       "    <tr>\n",
       "      <th>MUR</th>\n",
       "      <td>0.873364</td>\n",
       "      <td>0.005601</td>\n",
       "    </tr>\n",
       "    <tr>\n",
       "      <th>CTAS</th>\n",
       "      <td>0.845109</td>\n",
       "      <td>0.005044</td>\n",
       "    </tr>\n",
       "    <tr>\n",
       "      <th>CBSA</th>\n",
       "      <td>1.705297</td>\n",
       "      <td>0.006981</td>\n",
       "    </tr>\n",
       "    <tr>\n",
       "      <th>SNV</th>\n",
       "      <td>0.980521</td>\n",
       "      <td>0.009233</td>\n",
       "    </tr>\n",
       "    <tr>\n",
       "      <th>CAM</th>\n",
       "      <td>1.287322</td>\n",
       "      <td>0.006415</td>\n",
       "    </tr>\n",
       "    <tr>\n",
       "      <th>DLTR</th>\n",
       "      <td>0.789608</td>\n",
       "      <td>0.008543</td>\n",
       "    </tr>\n",
       "    <tr>\n",
       "      <th>CAH</th>\n",
       "      <td>0.544862</td>\n",
       "      <td>0.004334</td>\n",
       "    </tr>\n",
       "    <tr>\n",
       "      <th>DTE</th>\n",
       "      <td>0.334819</td>\n",
       "      <td>0.002472</td>\n",
       "    </tr>\n",
       "    <tr>\n",
       "      <th>SSP</th>\n",
       "      <td>1.510001</td>\n",
       "      <td>0.012559</td>\n",
       "    </tr>\n",
       "    <tr>\n",
       "      <th>PSA</th>\n",
       "      <td>0.528390</td>\n",
       "      <td>0.003389</td>\n",
       "    </tr>\n",
       "    <tr>\n",
       "      <th>EXC</th>\n",
       "      <td>0.299122</td>\n",
       "      <td>0.003815</td>\n",
       "    </tr>\n",
       "    <tr>\n",
       "      <th>TKR</th>\n",
       "      <td>1.484943</td>\n",
       "      <td>0.006822</td>\n",
       "    </tr>\n",
       "    <tr>\n",
       "      <th>CMA</th>\n",
       "      <td>0.810631</td>\n",
       "      <td>0.005133</td>\n",
       "    </tr>\n",
       "    <tr>\n",
       "      <th>ORCL</th>\n",
       "      <td>1.269003</td>\n",
       "      <td>0.007420</td>\n",
       "    </tr>\n",
       "    <tr>\n",
       "      <th>MS</th>\n",
       "      <td>1.687285</td>\n",
       "      <td>0.005518</td>\n",
       "    </tr>\n",
       "    <tr>\n",
       "      <th>RSG</th>\n",
       "      <td>0.495615</td>\n",
       "      <td>0.004677</td>\n",
       "    </tr>\n",
       "    <tr>\n",
       "      <th>ACAS</th>\n",
       "      <td>1.452933</td>\n",
       "      <td>0.015387</td>\n",
       "    </tr>\n",
       "    <tr>\n",
       "      <th>AGN</th>\n",
       "      <td>0.569430</td>\n",
       "      <td>0.004983</td>\n",
       "    </tr>\n",
       "    <tr>\n",
       "      <th>MMM</th>\n",
       "      <td>0.695088</td>\n",
       "      <td>0.002467</td>\n",
       "    </tr>\n",
       "    <tr>\n",
       "      <th>ETFC</th>\n",
       "      <td>2.391465</td>\n",
       "      <td>0.015546</td>\n",
       "    </tr>\n",
       "    <tr>\n",
       "      <th>CAR</th>\n",
       "      <td>3.353010</td>\n",
       "      <td>0.030258</td>\n",
       "    </tr>\n",
       "    <tr>\n",
       "      <th>MDR</th>\n",
       "      <td>1.468548</td>\n",
       "      <td>0.025389</td>\n",
       "    </tr>\n",
       "    <tr>\n",
       "      <th>NOV</th>\n",
       "      <td>1.398243</td>\n",
       "      <td>0.010767</td>\n",
       "    </tr>\n",
       "    <tr>\n",
       "      <th>PCH</th>\n",
       "      <td>0.990190</td>\n",
       "      <td>0.003758</td>\n",
       "    </tr>\n",
       "    <tr>\n",
       "      <th>BAX</th>\n",
       "      <td>0.485301</td>\n",
       "      <td>0.004654</td>\n",
       "    </tr>\n",
       "    <tr>\n",
       "      <th>JCI</th>\n",
       "      <td>1.292524</td>\n",
       "      <td>0.005156</td>\n",
       "    </tr>\n",
       "    <tr>\n",
       "      <th>SWK</th>\n",
       "      <td>1.100645</td>\n",
       "      <td>0.004248</td>\n",
       "    </tr>\n",
       "    <tr>\n",
       "      <th>DVN</th>\n",
       "      <td>0.957763</td>\n",
       "      <td>0.006943</td>\n",
       "    </tr>\n",
       "    <tr>\n",
       "      <th>TMO</th>\n",
       "      <td>0.958138</td>\n",
       "      <td>0.003878</td>\n",
       "    </tr>\n",
       "    <tr>\n",
       "      <th>PEP</th>\n",
       "      <td>0.351366</td>\n",
       "      <td>0.001890</td>\n",
       "    </tr>\n",
       "    <tr>\n",
       "      <th>LNC</th>\n",
       "      <td>1.826397</td>\n",
       "      <td>0.009519</td>\n",
       "    </tr>\n",
       "    <tr>\n",
       "      <th>EMR</th>\n",
       "      <td>1.035139</td>\n",
       "      <td>0.002380</td>\n",
       "    </tr>\n",
       "    <tr>\n",
       "      <th>MLM</th>\n",
       "      <td>0.871716</td>\n",
       "      <td>0.005100</td>\n",
       "    </tr>\n",
       "    <tr>\n",
       "      <th>CCI</th>\n",
       "      <td>1.672453</td>\n",
       "      <td>0.014393</td>\n",
       "    </tr>\n",
       "    <tr>\n",
       "      <th>NU</th>\n",
       "      <td>0.446771</td>\n",
       "      <td>0.002182</td>\n",
       "    </tr>\n",
       "  </tbody>\n",
       "</table>\n",
       "</div>"
      ],
      "text/plain": [
       "          Beta      VarU\n",
       "CTL   0.726946  0.005427\n",
       "T     0.529153  0.004093\n",
       "CSCO  1.530779  0.006403\n",
       "FCX   1.569894  0.011742\n",
       "XL    1.438681  0.011752\n",
       "IVZ   2.036247  0.004851\n",
       "AMT   1.352478  0.027122\n",
       "WHR   1.442238  0.008598\n",
       "IR    1.461150  0.005901\n",
       "WFT   1.513599  0.010939\n",
       "YUM   0.701920  0.004836\n",
       "CVS   0.647671  0.004854\n",
       "GD    0.833312  0.003792\n",
       "TYC   1.331555  0.006221\n",
       "EL    0.918557  0.004550\n",
       "MUR   0.873364  0.005601\n",
       "CTAS  0.845109  0.005044\n",
       "CBSA  1.705297  0.006981\n",
       "SNV   0.980521  0.009233\n",
       "CAM   1.287322  0.006415\n",
       "DLTR  0.789608  0.008543\n",
       "CAH   0.544862  0.004334\n",
       "DTE   0.334819  0.002472\n",
       "SSP   1.510001  0.012559\n",
       "PSA   0.528390  0.003389\n",
       "EXC   0.299122  0.003815\n",
       "TKR   1.484943  0.006822\n",
       "CMA   0.810631  0.005133\n",
       "ORCL  1.269003  0.007420\n",
       "MS    1.687285  0.005518\n",
       "RSG   0.495615  0.004677\n",
       "ACAS  1.452933  0.015387\n",
       "AGN   0.569430  0.004983\n",
       "MMM   0.695088  0.002467\n",
       "ETFC  2.391465  0.015546\n",
       "CAR   3.353010  0.030258\n",
       "MDR   1.468548  0.025389\n",
       "NOV   1.398243  0.010767\n",
       "PCH   0.990190  0.003758\n",
       "BAX   0.485301  0.004654\n",
       "JCI   1.292524  0.005156\n",
       "SWK   1.100645  0.004248\n",
       "DVN   0.957763  0.006943\n",
       "TMO   0.958138  0.003878\n",
       "PEP   0.351366  0.001890\n",
       "LNC   1.826397  0.009519\n",
       "EMR   1.035139  0.002380\n",
       "MLM   0.871716  0.005100\n",
       "CCI   1.672453  0.014393\n",
       "NU    0.446771  0.002182"
      ]
     },
     "metadata": {},
     "output_type": "display_data"
    }
   ],
   "source": [
    "Results=pd.DataFrame(index=df.columns[:-1],columns=['Beta','VarU'],dtype=float)\n",
    "Factor=df['Market']\n",
    "Assets=df.drop('Market',axis=1)\n",
    "x= sm.add_constant(Factor)\n",
    "for stocki in Assets.columns:\n",
    "# set the dependent variable to be the 'CTL' return\n",
    "    y= Assets[stocki]\n",
    "    # run the regression\n",
    "    results= sm.OLS(y,x).fit()\n",
    "    Results.loc[stocki,'Beta']=results.params[1]\n",
    "    Results.loc[stocki,'VarU']=results.resid.var()\n",
    "\n",
    "Results"
   ]
  },
  {
   "cell_type": "markdown",
   "id": "a2337344",
   "metadata": {},
   "source": [
    "1. How do we compute the share of factor risk in each asset?\n",
    "\n",
    "2. Say I have a portfolio holding 50% in CSCO and 50% in CCI what is the share of factor risk in the portfolio?"
   ]
  },
  {
   "cell_type": "code",
   "execution_count": null,
   "id": "f27ecfdc",
   "metadata": {},
   "outputs": [
    {
     "name": "stdout",
     "output_type": "stream",
     "text": [
      "[[0.52845028 0.38466559 1.11279362 ... 0.63369045 1.21578277 0.32477868]\n",
      " [0.38466559 0.28000291 0.81001644 ... 0.46127124 0.88498354 0.23641048]\n",
      " [1.11279362 0.81001644 2.34328505 ... 1.334405   2.5601563  0.68390851]\n",
      " ...\n",
      " [0.63369045 0.46127124 1.334405   ... 0.75988907 1.4579043  0.38945793]\n",
      " [1.21578277 0.88498354 2.5601563  ... 1.4579043  2.79709901 0.74720431]\n",
      " [0.32477868 0.23641048 0.68390851 ... 0.38945793 0.74720431 0.19960476]]\n",
      "(50, 50)\n",
      "[[0.00542738 0.         0.         ... 0.         0.         0.        ]\n",
      " [0.         0.00409277 0.         ... 0.         0.         0.        ]\n",
      " [0.         0.         0.00640331 ... 0.         0.         0.        ]\n",
      " ...\n",
      " [0.         0.         0.         ... 0.00510028 0.         0.        ]\n",
      " [0.         0.         0.         ... 0.         0.01439288 0.        ]\n",
      " [0.         0.         0.         ... 0.         0.         0.00218208]]\n",
      "(50, 50)\n",
      "[[0.0065499  0.0008171  0.00236376 ... 0.00134607 0.00258253 0.00068989]\n",
      " [0.0008171  0.00468754 0.00172061 ... 0.00097982 0.00187986 0.00050218]\n",
      " [0.00236376 0.00172061 0.01138085 ... 0.0028345  0.00543821 0.00145274]\n",
      " ...\n",
      " [0.00134607 0.00097982 0.0028345  ... 0.00671441 0.00309684 0.00082727]\n",
      " [0.00258253 0.00187986 0.00543821 ... 0.00309684 0.0203344  0.00158719]\n",
      " [0.00068989 0.00050218 0.00145274 ... 0.00082727 0.00158719 0.00260607]]\n",
      "(50, 50)\n"
     ]
    }
   ],
   "source": [
    "import numpy as np\n",
    "\n",
    "# Assuming Results is your DataFrame and 'Beta' is your column\n",
    "beta = Results['Beta'].values\n",
    "# make sure beta is a column vector (and not di)\n",
    "beta=beta.reshape(50,1)\n",
    "# Compute the outer product of the 'Beta' column with itself\n",
    "beta_matrix = beta @ beta.T\n",
    "print(beta_matrix)\n",
    "print(beta_matrix.shape)\n",
    "\n",
    "# the unsystematic component is a diagonal matrix with the variance of the residuals on the diagonal\n",
    "CovU=np.diag(Results['VarU'].values)\n",
    "\n",
    "print(CovU)\n",
    "\n",
    "print(CovU.shape)\n",
    "\n",
    "# construct the covariance matrix by adding the systematic and unsystematic components\n",
    "Cov_F=beta_matrix*Factor.var()+CovU\n",
    "print(Cov_F)\n",
    "\n",
    "print(Cov_F.shape)\n",
    "\n"
   ]
  },
  {
   "cell_type": "markdown",
   "id": "3e9acbfb",
   "metadata": {},
   "source": [
    "### Application: Minimum-variance investing\n",
    "\n",
    "\n",
    "* it is mean-variance investing under the assumption that all assets have same expected returns, but uses covariance matrix to minimize risk\n",
    "\n",
    " * The idea is that expected returns signals are pure noise so we might as well assume there are no signals and all expected returns are the same\n",
    "  \n",
    " * For example this is behind Minimum volatility investing for example, [https://investor.vanguard.com/mutual-funds/profile/VMVFX]\n",
    "  \n",
    "* Assumes all assets have the same expected return\n",
    "\n",
    "$$Min~ X'Var(R)X~ subject~ to~ \\mathbf{1}'X=1$$\n",
    "\n",
    "The result of this problem is a vector of weights proportional to \n",
    "\n",
    "$$W_{minvariance}\\propto Var(R)^{-1}\\mathbf{1}$$\n",
    "\n",
    "We then impose the constraint that the weights have to add-up to 1.\n",
    "\n",
    "$$X_{minvariance}=\\frac{Var(R)^{-1}\\mathbf{1}}{\\mathbf{1}^TVar(R)^{-1}\\mathbf{1}}$$\n",
    "\n",
    "* I use this technique in \"hedging-risk factors\", a recent academic paper, to construct portfolios with Sharpe-ratios of 0.8 at the yearly horizon, which is very large\n",
    "\n",
    "> Why this might make sense?\n",
    "\n",
    "So you see here that the problem is really identical to the mean-variance problem. We simply substituted the vector or Expected returns by a vector of ones.\n",
    "\n",
    "The end result is that now the solution is the portfolio that minimizes variance while being fully invested as the constraint $\\mathbf{1}'W=1$ means $\\sum_i^I w_i*1=1$"
   ]
  },
  {
   "cell_type": "code",
   "execution_count": null,
   "id": "1c7376d3",
   "metadata": {},
   "outputs": [
    {
     "data": {
      "text/plain": [
       "<matplotlib.collections.PathCollection at 0x1a6a0497760>"
      ]
     },
     "metadata": {},
     "output_type": "display_data"
    },
    {
     "data": {
      "image/png": "[encoded data removed]",
      "text/plain": [
       "<Figure size 432x288 with 1 Axes>"
      ]
     },
     "metadata": {},
     "output_type": "display_data"
    }
   ],
   "source": [
    "# minimum variance portfolio using the factor-based covariance matrix\n",
    "ones=np.ones([50,1])\n",
    "X_minvarFactor=np.linalg.inv(Cov_F)@ ones/(ones.T @np.linalg.inv(Cov_F)@ ones)\n",
    "# minimum variance portfolio using the unrestricted stock covariance matrix\n",
    "Cov=Assets.cov()\n",
    "X_minvar=np.linalg.inv(Cov)@ ones/(ones.T @np.linalg.inv(Cov)@ ones)\n",
    "\n",
    "# plot the weights against each other\n",
    "plt.plot(X_minvar,X_minvar)\n",
    "plt.scatter(X_minvar,X_minvarFactor)\n",
    "\n"
   ]
  },
  {
   "cell_type": "markdown",
   "id": "de8ed01c",
   "metadata": {},
   "source": [
    "- What do you notice about the weights?\n",
    "- How do we construct the returns of the strategy?\n",
    "- What do we need to evaluate performance of the Factor-based approach vs the unrestricted approach?\n",
    "   - Why can't we simply calculate Sharpe Ratios in the same data?"
   ]
  },
  {
   "cell_type": "markdown",
   "id": "590b515e",
   "metadata": {},
   "source": [
    "**Factor Bets**\n",
    "\n",
    "* Can I allocate freely across factors?\n",
    "  * for principals obviously yes, but the effect of a factor in your portfolio might not fully describe it's risk \n",
    "    * for example, you might be more likely to lose your job when the market is down, making you more averse to market risk then other risks\n",
    "  * Active managers are often subject to factor exposure limits \n",
    "\n",
    "\n",
    "It is not obvious that maximizing your SR is the only guide for factor investing\n",
    "Somebody has to bear the aggregate risk and the key question is whether you are the best holder of that risk\n",
    "\n",
    "For example,\n",
    " * if your labor income is insensitive to recessions you might have comparative advantadge in taking market risk\n",
    " * you might be a bankruptcy lawyer--your income actually goes up when the market is down!\n",
    " * Managers with mediocre alpha, might not have better alternatives then harvest market risk-premium\n",
    " * Managers with \"great\" alpha will try to avoid it as factor investing reduces their overall SR making their portfolio riskier or less growth.\n",
    "\n",
    "\n",
    "**Factor Hedging**\n",
    "\n",
    "You might want to invest in factors even if they don't earn a risk-premium because they might be helpful in hedging. In this case, not having a risk-premium is a plus! \n",
    "\n",
    "It allow you to enhance your sharpe ratio even more than hedging factors with premia\n",
    "\n",
    "This hedging can also come from non-portfolio factors--say your human capital is heavily specialized in tech and you might choose to short tech to have lower volatility in your overall networth.\n",
    "\n",
    "A mutual fund manager might want to hedge portfolio flows--invest in factors that do well when investors flow out of their fund, for example--or a hedge fund manager might want to hedge funding conditions-- say invest in factors that do well when borrowing is harder.\n",
    "\n",
    "\n",
    "\n",
    "**Factor Investing**\n"
   ]
  },
  {
   "cell_type": "markdown",
   "id": "e6dc8053",
   "metadata": {},
   "source": [
    "## A bond-equity strategic investment problem of an international investor\n",
    "\n",
    "\n",
    "* we will assume here that the risk-premium is being generated from a constant distribution\n",
    "\n",
    "* this is wrong, but for large well diversified portfolio not too bad\n",
    "\n",
    "* under this assumption, our estimation problem amounts to using sample means\n",
    "\n",
    "* ths risk-free rate is time-varying so we will have to deal with it\n",
    "\n",
    "\n",
    "We start by loading out return data"
   ]
  },
  {
   "cell_type": "code",
   "execution_count": null,
   "id": "5ef8531e",
   "metadata": {},
   "outputs": [
    {
     "data": {
      "text/html": [
       "<div>\n",
       "<style scoped>\n",
       "    .dataframe tbody tr th:only-of-type {\n",
       "        vertical-align: middle;\n",
       "    }\n",
       "\n",
       "    .dataframe tbody tr th {\n",
       "        vertical-align: top;\n",
       "    }\n",
       "\n",
       "    .dataframe thead th {\n",
       "        text-align: right;\n",
       "    }\n",
       "</style>\n",
       "<table border=\"1\" class=\"dataframe\">\n",
       "  <thead>\n",
       "    <tr style=\"text-align: right;\">\n",
       "      <th></th>\n",
       "      <th>RF</th>\n",
       "      <th>MKTUS</th>\n",
       "      <th>BondUS</th>\n",
       "      <th>EM</th>\n",
       "      <th>MKTxUS</th>\n",
       "      <th>BondxUS</th>\n",
       "    </tr>\n",
       "    <tr>\n",
       "      <th>Date</th>\n",
       "      <th></th>\n",
       "      <th></th>\n",
       "      <th></th>\n",
       "      <th></th>\n",
       "      <th></th>\n",
       "      <th></th>\n",
       "    </tr>\n",
       "  </thead>\n",
       "  <tbody>\n",
       "    <tr>\n",
       "      <th>2016-08-31</th>\n",
       "      <td>0.0002</td>\n",
       "      <td>0.0052</td>\n",
       "      <td>-0.008417</td>\n",
       "      <td>0.025186</td>\n",
       "      <td>0.000838</td>\n",
       "      <td>-0.009552</td>\n",
       "    </tr>\n",
       "    <tr>\n",
       "      <th>2016-09-30</th>\n",
       "      <td>0.0002</td>\n",
       "      <td>0.0027</td>\n",
       "      <td>-0.016417</td>\n",
       "      <td>0.013153</td>\n",
       "      <td>0.012736</td>\n",
       "      <td>0.009979</td>\n",
       "    </tr>\n",
       "    <tr>\n",
       "      <th>2016-10-31</th>\n",
       "      <td>0.0002</td>\n",
       "      <td>-0.0200</td>\n",
       "      <td>-0.049460</td>\n",
       "      <td>0.002474</td>\n",
       "      <td>-0.020383</td>\n",
       "      <td>-0.043476</td>\n",
       "    </tr>\n",
       "    <tr>\n",
       "      <th>2016-11-30</th>\n",
       "      <td>0.0001</td>\n",
       "      <td>0.0487</td>\n",
       "      <td>-0.081636</td>\n",
       "      <td>-0.045971</td>\n",
       "      <td>-0.019798</td>\n",
       "      <td>-0.050359</td>\n",
       "    </tr>\n",
       "    <tr>\n",
       "      <th>2016-12-31</th>\n",
       "      <td>0.0003</td>\n",
       "      <td>0.0185</td>\n",
       "      <td>-0.005296</td>\n",
       "      <td>0.002904</td>\n",
       "      <td>0.034383</td>\n",
       "      <td>-0.023207</td>\n",
       "    </tr>\n",
       "  </tbody>\n",
       "</table>\n",
       "</div>"
      ],
      "text/plain": [
       "                RF   MKTUS    BondUS        EM    MKTxUS   BondxUS\n",
       "Date                                                              \n",
       "2016-08-31  0.0002  0.0052 -0.008417  0.025186  0.000838 -0.009552\n",
       "2016-09-30  0.0002  0.0027 -0.016417  0.013153  0.012736  0.009979\n",
       "2016-10-31  0.0002 -0.0200 -0.049460  0.002474 -0.020383 -0.043476\n",
       "2016-11-30  0.0001  0.0487 -0.081636 -0.045971 -0.019798 -0.050359\n",
       "2016-12-31  0.0003  0.0185 -0.005296  0.002904  0.034383 -0.023207"
      ]
     },
     "metadata": {},
     "output_type": "display_data"
    }
   ],
   "source": [
    "url=\"https://raw.githubusercontent.com/amoreira2/Lectures/main/assets/data/GlobalFinMonthly.csv\"\n",
    "Data = pd.read_csv(url,na_values=-99)\n",
    "Data['Date']=pd.to_datetime(Data['Date'])\n",
    "Data=Data.set_index(['Date'])\n",
    "# the assets are the risk-free rate, the us equity market, the us bond market, the emerging market, the global equity market (without US), and the global bond market (without US)\n",
    "\n",
    "Data=Data.rename(columns={Data.columns[1]: \"MKTUS\",Data.columns[2]: \"BondUS\",\n",
    "                          Data.columns[3]: \"EM\",Data.columns[4]: \"MKTxUS\",Data.columns[5]: \"BondxUS\" })\n",
    "Data.tail()"
   ]
  },
  {
   "cell_type": "code",
   "execution_count": null,
   "id": "65e1fd7b",
   "metadata": {},
   "outputs": [
    {
     "name": "stdout",
     "output_type": "stream",
     "text": [
      "MKTUS      0.005140\n",
      "BondUS     0.002523\n",
      "EM         0.006923\n",
      "MKTxUS     0.004149\n",
      "BondxUS    0.002054\n",
      "dtype: float64\n",
      "            MKTUS    BondUS        EM    MKTxUS   BondxUS\n",
      "MKTUS    0.001948  0.000111  0.001292  0.001264  0.000187\n",
      "BondUS   0.000111  0.001227 -0.000204 -0.000013  0.000264\n",
      "EM       0.001292 -0.000204  0.003556  0.001661  0.000249\n",
      "MKTxUS   0.001264 -0.000013  0.001661  0.002182  0.000422\n",
      "BondxUS  0.000187  0.000264  0.000249  0.000422  0.000407\n"
     ]
    }
   ],
   "source": [
    "# we start by constructing excess returns by subtracting the risk-free rate from the returns of the assets and we drop the risk-free rate column\n",
    "Re=Data.subtract(Data['RF'],axis=0).drop(['RF'],axis=1)\n",
    "\n",
    "# we compute the mean and covariance matrix of the excess returns\n",
    "ERe=Re.mean()\n",
    "print(ERe)\n",
    "Cove=Re.cov()\n",
    "print(Cove)\n",
    "\n"
   ]
  },
  {
   "cell_type": "markdown",
   "id": "ecf2b938",
   "metadata": {},
   "source": [
    "Suppose I want to reconstruct my current estimates of Expected returns and the covariance matrix of returns ( and not excess returns), What do I do?\n",
    "\n",
    "Simply add the current risk-free rate to you estimate of the expected return"
   ]
  },
  {
   "cell_type": "code",
   "execution_count": null,
   "id": "f9d10c7e",
   "metadata": {},
   "outputs": [],
   "source": [
    "# set the risk-free rate to the current value of the 3-month T-bill rate divided by 12 to make it a monthly rate\n",
    "rf=0.0525/12\n",
    "# add to our estimate of risk-premiumns to get our estimate of expected returns\n",
    "\n",
    "ER=ERe+rf"
   ]
  },
  {
   "cell_type": "markdown",
   "id": "d8d3dee9",
   "metadata": {},
   "source": [
    "What about the covariance piece?"
   ]
  },
  {
   "cell_type": "markdown",
   "id": "be7059d6",
   "metadata": {},
   "source": [
    "## Numerical solution\n",
    "\n",
    "Lets start by solving\n",
    "\n",
    "$ \\max_X E[X'R_T]$ subject to $Var(X'R_T)\\leq Vmax$"
   ]
  },
  {
   "cell_type": "code",
   "execution_count": null,
   "id": "d6e5d038",
   "metadata": {},
   "outputs": [
    {
     "name": "stdout",
     "output_type": "stream",
     "text": [
      "0.0007914039297139135\n",
      "0.0008490361488465391\n",
      "0.008532889760767246\n",
      "0.00820649669319938\n"
     ]
    }
   ],
   "source": [
    "# STEP 1: define the fucntion that computes the portfolio variance and expected returns given a vector of weights X (initially set to equal weights)\n",
    "\n",
    "def portfolio_variance(X=np.ones(5)/5):\n",
    "    return X @ Cove @ X\n",
    "\n",
    "def portfolio_expected_return(X=np.ones(5)/5):\n",
    "     return X @ ER\n",
    "\n",
    "print(portfolio_variance())\n",
    "print(portfolio_variance(np.array([0.5,0.5,0,0,0])))\n",
    "\n",
    "print(portfolio_expected_return())\n",
    "print(portfolio_expected_return(np.array([0.5,0.5,0,0,0])))"
   ]
  },
  {
   "cell_type": "code",
   "execution_count": null,
   "id": "b30fab9b",
   "metadata": {},
   "outputs": [],
   "source": [
    "# STEP 2: define the constraint functions, \n",
    "\n",
    "# here we will have one inequality for the portfolio variance , lets say a volatility of 10% per year. How do we translate this into a monthly variance?\n",
    "\n",
    "# and one equality constraint for the weights to sum to one\n",
    "\n",
    "\n",
    "\n",
    "Vmax=(0.2**2/12)\n",
    "cons= ({'type': 'ineq',\n",
    "          'fun' : lambda X: -portfolio_variance(X)+Vmax},\n",
    "          {'type': 'eq',\n",
    "          'fun' : lambda X: np.sum(X)-1})\n",
    "\n",
    "# the constraint is normalized so that\n",
    "\n",
    "#cons=({'type': 'ineq',\n",
    "#          'fun' : lambda X: F(X)})\n",
    "\n",
    "#means F(X)>=0"
   ]
  },
  {
   "cell_type": "markdown",
   "id": "aff98a87",
   "metadata": {},
   "source": [
    "* Finally we are ready to do our minimization\n",
    "* `options={'disp': True}`: tell python to report intermediary steps so we can check if the algorithm is doing progress towards a solution.\n",
    "* There is a variety of additional parameters that you can pass to the minimizer. \n",
    "* see: https://docs.scipy.org/doc/scipy/reference/generated/scipy.optimize.minimize.html\n"
   ]
  },
  {
   "cell_type": "code",
   "execution_count": null,
   "id": "f2245de4",
   "metadata": {},
   "outputs": [
    {
     "name": "stdout",
     "output_type": "stream",
     "text": [
      "Optimization terminated successfully    (Exit mode 0)\n",
      "            Current function value: -0.011929088527573371\n",
      "            Iterations: 13\n",
      "            Function evaluations: 78\n",
      "            Gradient evaluations: 13\n"
     ]
    }
   ],
   "source": [
    "# STEP 3: solve the minimization problem with constraints and save as `sol`\n",
    "from scipy.optimize import minimize\n",
    "X0=np.ones(5)/5\n",
    "sol = minimize(lambda X: -portfolio_expected_return(X),X0, constraints=cons, options={'disp': True})"
   ]
  },
  {
   "cell_type": "code",
   "execution_count": null,
   "id": "8e9ca88a",
   "metadata": {},
   "outputs": [
    {
     "name": "stdout",
     "output_type": "stream",
     "text": [
      "[ 0.65116149  0.38641724  0.83880728 -0.36993912 -0.50644688]\n",
      "0.14314906233088046\n"
     ]
    },
    {
     "data": {
      "text/plain": [
       "0.20000201016577546"
      ]
     },
     "metadata": {},
     "output_type": "display_data"
    }
   ],
   "source": [
    "#optimal weights\n",
    "print(sol.x)\n",
    "# optimal expected return at the annual frequency\n",
    "print(portfolio_expected_return(sol.x)*12)\n",
    "# optimal portfolio volatility at the annual frequenc\n",
    "(portfolio_variance(sol.x)*12)**0.5"
   ]
  },
  {
   "cell_type": "code",
   "execution_count": null,
   "id": "0661086a",
   "metadata": {},
   "outputs": [
    {
     "data": {
      "image/png": "[encoded data removed]",
      "text/plain": [
       "<Figure size 432x288 with 1 Axes>"
      ]
     },
     "metadata": {},
     "output_type": "display_data"
    }
   ],
   "source": [
    "# below I am plotting the solution weights.\n",
    "width=0.3\n",
    "fig, ax = plt.subplots()\n",
    "index=np.arange(sol.x.shape[0])\n",
    "\n",
    "ax.bar(index,sol.x,width)\n",
    "\n",
    "ax.set_xticks(index)\n",
    "ax.set_xticklabels(ER.index)\n",
    "plt.show()"
   ]
  },
  {
   "cell_type": "markdown",
   "id": "09876942",
   "metadata": {},
   "source": [
    "Here we assumed the portfolio has to be fully invested in risky assets.\n",
    "\n",
    "There is no leverage (borrowing at the risk-free rate)\n",
    "\n",
    "but there is shorting (raising additional funds by selling one asset)\n",
    "\n",
    "Note that is X0+X1=1, if X0<0, then X1>1\n",
    "\n",
    " \n",
    "\n"
   ]
  },
  {
   "cell_type": "markdown",
   "id": "288f8c81",
   "metadata": {},
   "source": [
    "## Introducing a benchmark\n",
    "\n",
    "* in mutual funds there is often a benchmark, say the S&P 500 and the manager has a mandate to have a tracking error relative to the benchmark that is low enough, say $Tmax$\n",
    "\n",
    "* and the manager is compensated only with respect to the returns above this benchmark\n",
    "\n",
    "* tracking error is the volatility of the portfolio relative to the benchmark: $\\sqrt{var(X'R_T-R^{benchmark}_T)}$\n",
    "\n",
    "The manager problem is ro maximize benchmark adjusted returns subject to some tracking error constraint\n",
    "\n",
    "$ \\max_X E[X'R_T-R^{benchmark}_T]$ subject to $Var(X'R_T-R^{benchmark}_T)\\leq Tmax$\n",
    "\n",
    "\n",
    "Assuming benchmark is in set of traded assets, you car write \n",
    "\n",
    "$ \\max_X E[X'R_T-1_b'R_T]$ subject to $Var(X'R_T-1_b'R_T)\\leq Tmax$\n",
    "\n",
    "Which can be written as\n",
    "\n",
    "\n",
    "$ \\max_X E[(X-1_b)'R_T]$ subject to $(X-1_b)'Var(R_T)(X-1_b)\\leq Tmax$"
   ]
  },
  {
   "cell_type": "code",
   "execution_count": null,
   "id": "4ab5c5fc",
   "metadata": {},
   "outputs": [
    {
     "name": "stdout",
     "output_type": "stream",
     "text": [
      "Optimization terminated successfully    (Exit mode 0)\n",
      "            Current function value: -0.005220575391068462\n",
      "            Iterations: 15\n",
      "            Function evaluations: 90\n",
      "            Gradient evaluations: 15\n"
     ]
    }
   ],
   "source": [
    "\n",
    "def portfolio_variance(X=np.ones(5)/5,Xbenchmark=np.array([0,0,0,0,0])):\n",
    "    return (X -Xbenchmark)@ Cove @ (X-Xbenchmark)\n",
    "\n",
    "def portfolio_expected_return(X=np.ones(5)/5,Xbenchmark=np.array([0,0,0,0,0])):\n",
    "     return (X-Xbenchmark) @ ER\n",
    "\n",
    "\n",
    "Xb=np.array([1,0,0,0,0])\n",
    "Vmax=(0.2**2/12)\n",
    "cons= ({'type': 'ineq',\n",
    "          'fun' : lambda X: -portfolio_variance(X,Xbenchmark=Xb)+Vmax},\n",
    "          {'type': 'eq',\n",
    "          'fun' : lambda X: np.sum(X)-1})\n",
    "\n",
    "X0=np.ones(5)/5\n",
    "solb = minimize(lambda X: -portfolio_expected_return(X,Xbenchmark=Xb),X0, constraints=cons, options={'disp': True})\n"
   ]
  },
  {
   "cell_type": "code",
   "execution_count": null,
   "id": "84ccdc01",
   "metadata": {},
   "outputs": [
    {
     "name": "stdout",
     "output_type": "stream",
     "text": [
      "Index(['MKTUS', 'BondUS', 'EM', 'MKTxUS', 'BondxUS'], dtype='object')\n",
      "[ 0.65116149  0.38641724  0.83880728 -0.36993912 -0.50644688]\n",
      "[ 1.71916096  0.06129325  0.73328686 -0.28549667 -1.2282444 ]\n"
     ]
    }
   ],
   "source": [
    "print(Cove.index)\n",
    "#optimal weights no benchmark\n",
    "print(sol.x)\n",
    "#optimal weights with benchmark\n",
    "print(solb.x)\n",
    "\n"
   ]
  },
  {
   "cell_type": "markdown",
   "id": "e67d1c06",
   "metadata": {},
   "source": [
    "What happen here? Why the position in the market went up? Is that what you would expect?"
   ]
  },
  {
   "cell_type": "code",
   "execution_count": null,
   "id": "ba45eb3a",
   "metadata": {},
   "outputs": [],
   "source": [
    "# optimal expected return at the annual frequency\n",
    "print(portfolio_expected_return(solb.x)*12)\n",
    "# portfolio volatility pf optimal portfolio at the annual frequency\n",
    "print((portfolio_variance(solb.x)*12)**0.5)\n",
    "#Trackign error\n",
    "print((portfolio_variance(solb.x,Xbenchmark=Xb)*12)**0.5)\n",
    "#Benchmark adjsuted returns\n",
    "print((portfolio_expected_return(solb.x,Xbenchmark=Xb)*12))"
   ]
  },
  {
   "cell_type": "markdown",
   "id": "19f0d285",
   "metadata": {},
   "source": [
    "## Information Ratio\n",
    "\n",
    "Information ratio is how much you are expected to make in excess of the benchmark, divided by how much risk you are taking relative to the benchmark\n",
    "\n",
    "$$InformationRatio=\\frac{E[r_p-r_b]}{\\sigma(r_p-r_p)}$$"
   ]
  },
  {
   "cell_type": "code",
   "execution_count": null,
   "id": "9d629bd3",
   "metadata": {},
   "outputs": [
    {
     "name": "stdout",
     "output_type": "stream",
     "text": [
      "0.31322388844974003\n"
     ]
    }
   ],
   "source": [
    "#The information ratio is the benchmark adjusted return divided by the tracking error\n",
    "print((portfolio_expected_return(sol.x,Xbenchmark=Xb)*12)/(portfolio_variance(sol.x,Xbenchmark=Xb)*12)**0.5)"
   ]
  },
  {
   "cell_type": "markdown",
   "id": "5799794d",
   "metadata": {},
   "source": [
    "Other things to do\n",
    "\n"
   ]
  },
  {
   "cell_type": "markdown",
   "id": "360e94cf",
   "metadata": {},
   "source": [
    "Trace out how the optimal expected return varies as you change Vmax. In yearly volatility units try 6.5%, 7%, 8% , 10% ,15%,30%. Plot the resulting pairs in the scatter plot with the expected return in the y-axis and the volatility in the x-axis. What do you find?"
   ]
  },
  {
   "cell_type": "code",
   "execution_count": null,
   "id": "4c0dd1b1",
   "metadata": {},
   "outputs": [],
   "source": []
  },
  {
   "cell_type": "markdown",
   "id": "1f62959f",
   "metadata": {},
   "source": [
    "Add the risk-free rate among the assets. There are different ways to do this. But a simple one is to change the expected return function  `X@ER+(1-np.sum(X))*rf`\n",
    "* now X is the vector of risky assets only and (1-np.sum(X)) is whatever is the residual\n",
    "* if this residual is positive you park in cash and earn rf\n",
    "* if negative you borrow at the rf rate\n",
    "* now your total weights mechanically add up to 1\n",
    "* so you need to take out the equality constraint"
   ]
  },
  {
   "cell_type": "code",
   "execution_count": null,
   "id": "c77d324a",
   "metadata": {},
   "outputs": [],
   "source": []
  },
  {
   "cell_type": "markdown",
   "id": "09f4f2cc",
   "metadata": {},
   "source": [
    "Add a shorting constraint, say you can only short equities but not bonds, that is X>0 for certain assets"
   ]
  },
  {
   "cell_type": "code",
   "execution_count": null,
   "id": "bd55e45f",
   "metadata": {},
   "outputs": [],
   "source": []
  },
  {
   "cell_type": "markdown",
   "id": "f649f800",
   "metadata": {},
   "source": [
    "Add a leverage cap, so that the sum of your risky assets cannot exceed 1 too much, np.sum(X)-1 is called your leverage, so you can limit it to 1, so that for each dollar you have you borrow at most 1 dollar"
   ]
  },
  {
   "cell_type": "code",
   "execution_count": null,
   "id": "731f4c40",
   "metadata": {},
   "outputs": [],
   "source": []
  },
  {
   "cell_type": "markdown",
   "id": "2028b90f",
   "metadata": {},
   "source": [
    "Modify the expected return function to incorporate practical frictions in trading. For example, when you borrow you typically pay more than what you can invest at, there is a borrowing spread. Analogously if you short a stock, you have to pay an extra fee"
   ]
  },
  {
   "cell_type": "code",
   "execution_count": null,
   "id": "64cc06c3",
   "metadata": {},
   "outputs": [],
   "source": []
  },
  {
   "cell_type": "markdown",
   "id": "636e60fb",
   "metadata": {},
   "source": [
    "## Analytical solution\n",
    "\n",
    "The analytical solution assumes\n",
    "\n",
    "- free borrowing and lending at risk-free rate\n",
    "- Shorting without any shorting fees\n",
    "\n",
    "The optimal weights are \n",
    "\n",
    "$$X=\\sqrt{\\frac{Vmax}{E[R^e]'Var(R^e)^{-1}E[R^e]}}Var(R^e)^{-1}E[R^e]$$\n",
    "\n",
    "Where Vmax is in monthly variance units\n",
    "\n",
    "\n",
    "Note that $\\frac{Vmax}{E[R^e]'Var(R^e)^{-1}E[R^e]}$ is a number. Is basically a leverage factor. It leverage up (or down) the portfolio $Var(R^e)^{-1}E[R^e]$ so that the resulting portfolio has the desired target variance\n",
    "\n",
    "This portfolio $Var(R^e)^{-1}E[R^e]$ is quite special because it has the highest Sharpe-ratio among all possible combinations of these assets\n",
    "\n",
    "\n",
    "\n",
    "\n",
    "\n",
    "## Sharpe-ratio !\n",
    "\n",
    "Sharpe ratio is probably the most used concept in money management, it comes in honor of William Sharpe ( the dude that discovered the CAPM). It reflects how much additional expected return you are getting per unit of volatility. Say you have a portfolio with expected returns $E[r_p]$\n",
    "\n",
    "$$SharpeRatio=\\frac{E[r_p]-rf}{\\sigma(R_p)}$$\n",
    "\n",
    "\n",
    "So a portfolio that has the highest sharpe ratio is nice because it is efficient. \n",
    "\n",
    "You take the minimum amount of risk that you need to take to achieve a expected return\n",
    "\n",
    "or conversely you get the maximum possible expected return for a given level of risk that you are willing to take"
   ]
  },
  {
   "cell_type": "markdown",
   "id": "349499a2",
   "metadata": {},
   "source": [
    "_____\n",
    "\n",
    "*Aside: Matrix inversion*\n",
    "\n",
    "* You only need to understand how to operationaize it and in an conceptual level what it does\n",
    "\n",
    "* But you don't need to follow all the mathematical details\n",
    "\n",
    "* If you are interested. you can look in our linear algebra review in https://amoreira2.github.io/quantitativeinvesting/chapters/scientific/linear_algebra1.html\n",
    "\n",
    "* I also provide a summary below\n",
    "\n",
    "* Note that $(2)^{-1}=1/2=0.5$ (naturally!)\n",
    "\n",
    "* $(Var(R^e))^{-1}$ is just like this \n",
    "\n",
    "* but more complicated because $Var(R^e)$ is a N by N matrix and we can't simply divide over to solve for X\n",
    "\n",
    "* The definition of the inverse function is $f(x)=x^{-1}=y$ where $y*x=1$\n",
    "\n",
    "* for matrices it is the same: $(Var(R^e))^{-1}Var(R^e)=I$, but now instead of 1, we have an identity matrix, which is a matrix with 1's in the diagonal and zero everywhere else\n",
    "\n",
    "\n",
    "Thankfully we have a function in python that does just that\n",
    "\n",
    "\n"
   ]
  },
  {
   "cell_type": "code",
   "execution_count": null,
   "id": "1f2622ff",
   "metadata": {},
   "outputs": [
    {
     "name": "stdout",
     "output_type": "stream",
     "text": [
      "[[3 7]\n",
      " [0 9]]\n"
     ]
    },
    {
     "data": {
      "text/plain": [
       "array([[ 0.33333333, -0.25925926],\n",
       "       [ 0.        ,  0.11111111]])"
      ]
     },
     "metadata": {},
     "output_type": "display_data"
    }
   ],
   "source": [
    "# start with a 2 by 2 matrix\n",
    "a=np.array([[3,7],[0,9]])\n",
    "print(a)\n",
    "\n",
    "# compute the inverse\n",
    "ainv=np.linalg.inv(a) \n",
    "\n",
    "ainv"
   ]
  },
  {
   "cell_type": "code",
   "execution_count": null,
   "id": "79289daa",
   "metadata": {},
   "outputs": [
    {
     "data": {
      "text/plain": [
       "array([[1., 0.],\n",
       "       [0., 1.]])"
      ]
     },
     "metadata": {},
     "output_type": "display_data"
    }
   ],
   "source": [
    "# indeed ainv is the inverse of a because ainv @ a = I\n",
    "ainv @ a"
   ]
  },
  {
   "cell_type": "markdown",
   "id": "97aa0a52",
   "metadata": {},
   "source": [
    "This portfolio is very special so it has many names\n",
    "\n",
    "1. maximum sharpe ratio portfolio\n",
    "\n",
    "2. mean-variance efficient portfolio (MVE)\n",
    "\n",
    "3. Tangency portfolio\n",
    "\n",
    "Names 1 and 2 are pretty clear. Name 3 will become clear later in the course"
   ]
  },
  {
   "cell_type": "markdown",
   "id": "73fcd5d9",
   "metadata": {},
   "source": [
    "________________________\n",
    "## **Finding the Mean-variance efficient portfolio**\n",
    "\n",
    "\n",
    "First lets construct our vector of expected excess returns for our risky two assets US equity market and International equity market"
   ]
  },
  {
   "cell_type": "code",
   "execution_count": null,
   "id": "12cd3450",
   "metadata": {},
   "outputs": [
    {
     "data": {
      "text/plain": [
       "MKTUS     0.005140\n",
       "MKTxUS    0.004149\n",
       "dtype: float64"
      ]
     },
     "metadata": {},
     "output_type": "display_data"
    }
   ],
   "source": [
    "assets=['MKTUS','MKTxUS']\n",
    "e=ERe[assets]\n",
    "\n",
    "e"
   ]
  },
  {
   "cell_type": "markdown",
   "id": "8674582e",
   "metadata": {},
   "source": [
    "We start by estimating the covariance matrix from our data $Var(R^e)$"
   ]
  },
  {
   "cell_type": "code",
   "execution_count": null,
   "id": "83a1145e",
   "metadata": {},
   "outputs": [
    {
     "data": {
      "text/html": [
       "<div>\n",
       "<style scoped>\n",
       "    .dataframe tbody tr th:only-of-type {\n",
       "        vertical-align: middle;\n",
       "    }\n",
       "\n",
       "    .dataframe tbody tr th {\n",
       "        vertical-align: top;\n",
       "    }\n",
       "\n",
       "    .dataframe thead th {\n",
       "        text-align: right;\n",
       "    }\n",
       "</style>\n",
       "<table border=\"1\" class=\"dataframe\">\n",
       "  <thead>\n",
       "    <tr style=\"text-align: right;\">\n",
       "      <th></th>\n",
       "      <th>MKTUS</th>\n",
       "      <th>MKTxUS</th>\n",
       "    </tr>\n",
       "  </thead>\n",
       "  <tbody>\n",
       "    <tr>\n",
       "      <th>MKTUS</th>\n",
       "      <td>0.001948</td>\n",
       "      <td>0.001264</td>\n",
       "    </tr>\n",
       "    <tr>\n",
       "      <th>MKTxUS</th>\n",
       "      <td>0.001264</td>\n",
       "      <td>0.002182</td>\n",
       "    </tr>\n",
       "  </tbody>\n",
       "</table>\n",
       "</div>"
      ],
      "text/plain": [
       "           MKTUS    MKTxUS\n",
       "MKTUS   0.001948  0.001264\n",
       "MKTxUS  0.001264  0.002182"
      ]
     },
     "metadata": {},
     "output_type": "display_data"
    }
   ],
   "source": [
    "c=Cove.loc[assets,assets]\n",
    "\n",
    "c"
   ]
  },
  {
   "cell_type": "markdown",
   "id": "c30a01c7",
   "metadata": {},
   "source": [
    "We then invert the covariance matrix $Var(R^e)^{-1}$"
   ]
  },
  {
   "cell_type": "code",
   "execution_count": null,
   "id": "7f2f5b6f",
   "metadata": {},
   "outputs": [
    {
     "data": {
      "text/plain": [
       "array([[ 822.50792137, -476.49212708],\n",
       "       [-476.49212708,  734.40580739]])"
      ]
     },
     "metadata": {},
     "output_type": "display_data"
    }
   ],
   "source": [
    "cinv=np.linalg.inv(c) \n",
    "\n",
    "cinv"
   ]
  },
  {
   "cell_type": "markdown",
   "id": "7c33e18b",
   "metadata": {},
   "source": [
    "we then use the dot product to cross-mulitply our vector of expected excess returns by the inverse of the covariance matrix\n",
    "\n",
    "$$Var(R^e)^{-1}E[R^e]$$"
   ]
  },
  {
   "cell_type": "code",
   "execution_count": null,
   "id": "6b3ec17a",
   "metadata": {},
   "outputs": [
    {
     "data": {
      "text/plain": [
       "array([2.25099751, 0.597729  ])"
      ]
     },
     "metadata": {},
     "output_type": "display_data"
    }
   ],
   "source": [
    "Wmve=cinv @ e\n",
    "Wmve"
   ]
  },
  {
   "cell_type": "code",
   "execution_count": null,
   "id": "2e735c9f",
   "metadata": {},
   "outputs": [
    {
     "data": {
      "text/plain": [
       "array([0.53401107, 0.14180109])"
      ]
     },
     "metadata": {},
     "output_type": "display_data"
    }
   ],
   "source": [
    "Vmax=(0.2**2/12)\n",
    "Wmve * (Vmax/(e @cinv @ e))**0.5"
   ]
  },
  {
   "cell_type": "markdown",
   "id": "c6a936b1",
   "metadata": {},
   "source": [
    "Things to try\n"
   ]
  },
  {
   "cell_type": "markdown",
   "id": "976b3ffc",
   "metadata": {},
   "source": [
    "Verify that indeed the entire class of portfolios that solve the problem for different variance targets Vmax are also MVE ( i.e they all have the max sharpe ratio)"
   ]
  },
  {
   "cell_type": "code",
   "execution_count": null,
   "id": "02375c20",
   "metadata": {},
   "outputs": [],
   "source": []
  },
  {
   "cell_type": "markdown",
   "id": "6f102215",
   "metadata": {},
   "source": [
    "What is the allocation to the risk-free rate? How do you find it? How does it change as you increase/decrease Vmax?"
   ]
  },
  {
   "cell_type": "code",
   "execution_count": null,
   "id": "6cda74dd",
   "metadata": {},
   "outputs": [],
   "source": []
  },
  {
   "cell_type": "markdown",
   "id": "8fc79232",
   "metadata": {},
   "source": [
    "\n",
    "How does max SR change as you go from \n",
    "1. only investing in the US equity market\n",
    "1. investing in US equities and US bonds\n",
    "1. Invest everywhere except emerging markets\n",
    "1. investing everywhere including emerging markets\n",
    "1. investing only in global equities and global bonds"
   ]
  },
  {
   "cell_type": "code",
   "execution_count": null,
   "id": "5c390d94",
   "metadata": {},
   "outputs": [],
   "source": []
  },
  {
   "cell_type": "markdown",
   "id": "d56b7c65",
   "metadata": {},
   "source": [
    "Compare the gains of investing domestically ( US equities and bonds)  with investing internationally as well (US equities, US bonds, Global equities, global bonds).\n",
    "\n",
    "Why the SR is going up ?What properties of the returns moments the mean-variance optimizer are exploiting? \n",
    "\n",
    "Do we think those are reliable properties? What is the alternative?"
   ]
  },
  {
   "cell_type": "code",
   "execution_count": null,
   "id": "b6363af8",
   "metadata": {},
   "outputs": [],
   "source": []
  },
  {
   "cell_type": "markdown",
   "id": "09a4cee5",
   "metadata": {},
   "source": [
    "For the four investment opportunity sets above, compute the optimal expected returns for the following volatilities 6.5%, 7%, 8% , 10% ,15%,30%. Plot the results in a scatter plot with volatility in the X-axis and expected returns in the y-axis. You should see 5 lines. Why they look like that?"
   ]
  },
  {
   "cell_type": "code",
   "execution_count": null,
   "id": "85c93b7e",
   "metadata": {},
   "outputs": [],
   "source": []
  },
  {
   "cell_type": "markdown",
   "id": "84895424",
   "metadata": {},
   "source": [
    "Compare the benefits of a US investor to invest globally and the benefit of an international investor investing in the US ( ignore Emerging markets). Looking at individual assets risk-premiums and volatility explain the benefits of investing across multiple assets"
   ]
  },
  {
   "cell_type": "code",
   "execution_count": null,
   "id": "5f3e5dc5",
   "metadata": {},
   "outputs": [],
   "source": []
  },
  {
   "cell_type": "markdown",
   "id": "f2bf91be",
   "metadata": {},
   "source": [
    "**An Aside: Combining Factors and Alphas**\n",
    "\n",
    "Suppose you also think of market exposure as purely investment thing. That is , all you care about is your final Sharpe Ratio.\n",
    "\n",
    "How do you combine you alpha portfolio and your factor portfolio?\n",
    "\n",
    "\n",
    "We learned than when assets are uncorrelated then \n",
    "\n",
    "$$W_i\\sigma_{\\epsilon,i}=w \\frac{\\alpha_i}{\\sigma_{\\epsilon,i}}=SR_i$$\n",
    "\n",
    "Turns out that the market is uncorrelated with the the hedged portfolios! We build them that way.\n",
    "\n",
    "So the market is also uncorrelated with our optimal combo!\n",
    "\n",
    "\n"
   ]
  },
  {
   "cell_type": "code",
   "execution_count": null,
   "id": "90f2706a",
   "metadata": {},
   "outputs": [
    {
     "name": "stdout",
     "output_type": "stream",
     "text": [
      "[0.00565215 0.04340806 0.04082549 0.04305824 0.08436363 0.06964076]\n",
      "[[0.10100102 0.         0.         0.         0.         0.        ]\n",
      " [0.         0.10153812 0.         0.         0.         0.        ]\n",
      " [0.         0.         0.07537267 0.         0.         0.        ]\n",
      " [0.         0.         0.         0.06688336 0.         0.        ]\n",
      " [0.         0.         0.         0.         0.14320141 0.        ]\n",
      " [0.         0.         0.         0.         0.         0.15513658]]\n",
      "[ 0.20050922 -0.13683445 -0.09207115 -0.16721034 -0.15908574  1.        ]\n"
     ]
    }
   ],
   "source": [
    "sr_mkt=df_ff6['Mkt-RF'].mean()/df_ff6['Mkt-RF'].std()*12**0.5\n",
    "vol_mkt=df_ff6['Mkt-RF'].std()*12**0.5\n",
    "vol_alpha=(W_alpha@Sigma_e@W_alpha*12)**0.5\n",
    "\n",
    "sr_alpha/vol_alpha\n",
    "\n",
    "Alpha_mkt=np.append(Alpha,df_ff6['Mkt-RF'].mean())\n",
    "print(Alpha_mkt*12)\n",
    "Sigma_mkt=np.block([[Sigma_e,np.zeros((5,1))],[np.zeros((1,5)),df_ff6['Mkt-RF'].var()]])\n",
    "print((Sigma_mkt*12)**0.5)\n",
    "Beta_mkt=np.append(Beta,1)\n",
    "print(Beta_mkt)"
   ]
  },
  {
   "cell_type": "markdown",
   "id": "ff519c08",
   "metadata": {},
   "source": [
    "**Shrinkage** is a very popular technique and also the lest ad-hoc of the different approaches so it work discussing a bit\n",
    "\n",
    "The fundamental issue that the mean-variance problem does not deal with is that we are actually quite uncertain about the alphas, but the methods assumes complete certitude\n",
    "\n",
    "\n",
    "In mathematical terms the MV problem assumes $A$ is a know constant when in fact it is more like a distribution:\n",
    "\n",
    "$$A\\sim N(\\mu_{\\alpha}I,\\sigma^2_{\\alpha}I)$$\n",
    "\n",
    "where $\\mu_{\\alpha}$ is the expected value . Here we are focused on a manager only with long ideas. The short book is analogous\n",
    "\n",
    "One could also write $$A\\sim N(\\mu_{\\alpha}I,\\sigma^2_{\\alpha}1_{NxN})$$\n",
    "\n",
    "Capturing the idea that there is co-movement in your alpha-judgment\n",
    "\n",
    "Now his/her problem is (I will use the mean-variance problem case but the two other problems have similar solution)\n",
    "\n",
    "\n",
    "$$ \\max_W E[W'R^e_T]-\\gamma Var(W'R^e_T)$$\n",
    "\n",
    "$$ \\max_W E[W'(A+Bf+U)]-\\gamma Var(W'(A+Bf+U))$$\n",
    "\n",
    "Here I will assume $E[f]=0$, so we can simply write the portfolio allocation problem of the **hedged portfolios**\n",
    "\n",
    "\n",
    "$$ \\max_W E[W'(A+U)]-\\gamma Var(W'(A+U))$$\n",
    "\n",
    "$$ \\max_W E[W'A]-\\gamma \\left(WVar(A)W'+WVar(U)W'\\right)$$\n",
    "\n",
    "$$\\max_W W'I\\mu_{\\alpha}-\\gamma \\left(WIW'\\sigma^2_{\\alpha}+W\\Sigma_{\\epsilon}W'\\right)$$\n",
    "\n",
    "\n",
    "The Optimality condition for this problem is\n",
    "\n",
    "\n",
    "$$I\\mu_{\\alpha}-2\\gamma \\left(\\sigma^2_{\\alpha}+\\Sigma_{\\epsilon}\\right)W'$$\n",
    "\n",
    "Reorganizing\n",
    "\n",
    "$$W=\\frac{1}{2\\gamma}\\mu_{\\alpha}\\left(I\\sigma^2_{\\alpha}+\\Sigma_{\\epsilon}\\right)^{-1}$$\n",
    "\n",
    "In this case where there is no co-movement, the approach ignores alpha information of each idea (you use $\\mu_{\\alpha}$ for all) and you \"noise up\" the returns by $\\sigma^2_{\\alpha}$\n",
    "\n",
    "In case of co-movement , then we have\n",
    "\n",
    "\n",
    "$$W=\\frac{1}{2\\gamma}\\mu_{\\alpha}\\left(1\\sigma^2_{\\alpha}+\\Sigma_{\\epsilon}\\right)^{-1}$$\n",
    "\n",
    "\n"
   ]
  },
  {
   "cell_type": "markdown",
   "id": "93bbf35f",
   "metadata": {},
   "source": [
    "Why should you care about your portfolio risk?\n",
    "\n",
    "- suppose you have 1M per year vol , what is the most money you expect to loose with 5% probability?\n",
    "\n",
    "First lets assume it is normally distributed.\n",
    "\n",
    "(we often will do that because make it easier to think, but you should always keep in mind that is an approximation)\n",
    "\n",
    "\n",
    "$$Prob(r<X)=5\\%$$\n",
    "\n",
    "IT is convenient to transform into a stantard normal so we get a clean formula\n",
    "\n",
    "$$Prob\\left(\\frac{r-E[r]}{std(r)}<\\frac{X-E[r]}{std(r)}\\right)=5\\%$$\n",
    "\n",
    "This is just the CDF of standard formal distribution. Let $F(x)=Prob(z<x)$ where $z\\sim N(0,1)$\n",
    "\n",
    "\n",
    "$$F\\left(\\frac{X-E[r]}{std(r)}\\right)=5\\%$$\n",
    "\n",
    "Then we can use the inverse CDF, which is the quantile function\n",
    "\n",
    "$$F^{−1}(p)=min\\{x∣F(x)≥p\\}$$\n",
    "\n",
    "It gives use the lowest value x that is consistent with the probability being higher then a given value\n",
    "\n",
    "\n",
    "$$\\frac{X-E[r]}{std(r)}=F^{-1}(5\\%)$$\n",
    "\n",
    "Then \n",
    "\n",
    "$$X=F^{-1}(5\\%)*std(r)+E[r]$$"
   ]
  },
  {
   "cell_type": "code",
   "execution_count": null,
   "id": "07b30400",
   "metadata": {},
   "outputs": [
    {
     "data": {
      "text/plain": [
       "-1.6448536269514729"
      ]
     },
     "metadata": {},
     "output_type": "display_data"
    }
   ],
   "source": [
    "from scipy.stats import norm\n",
    "x=0.05\n",
    "norm.ppf(x)\n"
   ]
  },
  {
   "cell_type": "markdown",
   "id": "c6127198",
   "metadata": {},
   "source": [
    "First lets do the unhedged. "
   ]
  },
  {
   "cell_type": "code",
   "execution_count": null,
   "id": "1647aeda",
   "metadata": {},
   "outputs": [
    {
     "data": {
      "text/plain": [
       "-0.8761656953451189"
      ]
     },
     "metadata": {},
     "output_type": "display_data"
    }
   ],
   "source": [
    "prob=0.05\n",
    "mu=x*(beta*mu_f+alpha)*252\n",
    "sig=x*(var_r*252)**0.5\n",
    "norm.ppf(prob)*sig+mu"
   ]
  },
  {
   "cell_type": "markdown",
   "id": "684be981",
   "metadata": {},
   "source": [
    "How do you interpret this value? \n",
    "\n",
    "It means that there is a 5% probability that you will lose more than 800 thousand dollars\n",
    "\n",
    "Lets do the hedged"
   ]
  },
  {
   "cell_type": "code",
   "execution_count": null,
   "id": "f77856d8",
   "metadata": {},
   "outputs": [
    {
     "data": {
      "text/plain": [
       "-1.0443405970988286"
      ]
     },
     "metadata": {},
     "output_type": "display_data"
    }
   ],
   "source": [
    "prob=0.05\n",
    "mu=xe*(alpha)*252\n",
    "sig=xe*(var_e*252)**0.5\n",
    "norm.ppf(prob)*sig+mu"
   ]
  },
  {
   "cell_type": "markdown",
   "id": "b90846ee",
   "metadata": {},
   "source": [
    "Why are you risking a worse loss in the case of the hedged?\n",
    "\n",
    "Lets suppose "
   ]
  },
  {
   "cell_type": "markdown",
   "id": "e6d0eae5",
   "metadata": {},
   "source": [
    "MVE theory\n",
    "\n",
    "\n",
    "* We  learned that the portfolio that  has the highest sharpe ratio among the set of assets have the following form\n",
    "\n",
    "$$ W^*=wVar(R^e)^{-1}E[R^e], \\forall w>0$$\n",
    "\n",
    "* I.e., the equation above defines $W^*$, the weights of the mean-variance efficient portfolio\n",
    "\n",
    "* We can rewrite as\n",
    "  \n",
    "$$ Var(R^e)W^*=wE[R^e]$$\n",
    "\n",
    "Note that the left term is really the covariance of the asset returns with the MVE portfolio $r^*=(W^*)'R^e$\n",
    "\n",
    "$$Var(R^e)W^*=Cov(R^e,r^*)$$\n",
    "\n",
    "\n",
    "* This means that the expected return of an asset must be proportional to the covariance between the return of the asset and the return of the mean-variance efficient portfolio\n",
    "\n",
    "$$ E[R^e]= \\frac{1}{w} Cov(R^e,r^*) $$\n",
    "\n",
    "\n",
    "* This holds for all assets in your investment opportunity set (i.e. the assets included in the minimization problem that the mean-variance efficient portfolio solves)\n",
    "\n",
    "\n",
    "* This means that for any assets $j$ and $i$ we have \n",
    "\n",
    "\n",
    "$$\\frac{E[r^e_i]}{Cov(r^e_i,R^*)}= \\frac{E[r^e_j]}{Cov(R^e_j,R^*)} $$ \n",
    "\n",
    "\n",
    "* All assets have the same expected return per-unit of covariance with the mean-variance efficient portoflio\n",
    "\n",
    "* We can also apply this to the mean-variance efficient portfolio itself\n",
    "\n",
    "\n",
    "$$ E[R^*]=1/w \\times Cov(R^*,R^*) $$\n",
    "\n",
    "\n",
    "* Which means that $1/w=\\frac{E[R^*]}{Var(R^*)}$\n",
    "\n",
    "\n",
    "* Plugging back in the original and we get that for any asset $j$\n",
    "\n",
    "\n",
    "$$ E[r^e_j]=\\frac{E[r^*]}{Var(r^*)} Cov(r^e_j,r^*) =\\frac{Cov(r^e_j,r^*)}{Var(r^*)}E[r^*]=\\beta_{j,*}E[r^*] $$\n",
    "\n",
    "\n",
    "$$ E[r^e_j]=\\beta_{j,*}E[r^*] $$\n",
    "\n",
    "\n",
    "* All the information about the cross-sectional of expected returns--all the assets-- can be summarized by the expected return of the mean-variance efficient portfolio and the beta of each asset with respect to the mean-variance efficient portfolio\n",
    "\n",
    "* Once you have the right definition of risk, the reward to risk is the same across assets (no free lunch)\n",
    "\n",
    "* If you have alpha, then you get a \"free lunch\" \n"
   ]
  },
  {
   "cell_type": "markdown",
   "id": "4af99a1d",
   "metadata": {},
   "source": [
    ">####  \n",
    ">- Add random noise to signals (some fraction of vol.) to slightly distort rankings and recompute Sharpe.\n",
    ">- How robust are slight perturbations in the cross-sectional rankings?\n",
    ">- Calculate the Sharpe ratio for a strategy that always eliminates the top 2% long and short positions (which are most likely error prone).\n",
    ">- Look at small perturbations ( say change horizon, skip a month)"
   ]
  }
 ],
 "metadata": {
  "kernelspec": {
   "display_name": "base",
   "language": "python",
   "name": "python3"
  },
  "language_info": {
   "codemirror_mode": {
    "name": "ipython",
    "version": 3
   },
   "file_extension": ".py",
   "mimetype": "text/x-python",
   "name": "python",
   "nbconvert_exporter": "python",
   "pygments_lexer": "ipython3",
   "version": "3.9.19"
  }
 },
 "nbformat": 4,
 "nbformat_minor": 5
}
