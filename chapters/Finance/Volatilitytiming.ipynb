{
 "cells": [
  {
   "cell_type": "code",
   "execution_count": 2,
   "metadata": {},
   "outputs": [],
   "source": [
    "import pandas as pd\n",
    "import numpy as np\n",
    "import matplotlib.pyplot as plt\n",
    "%matplotlib inline"
   ]
  },
  {
   "cell_type": "markdown",
   "metadata": {
    "colab_type": "text",
    "id": "YnQret7OBS4N"
   },
   "source": [
    "\n",
    "\n",
    "\n",
    "# Volatility timing\n",
    "\n",
    "Volatility timing is about the other side of the optimal weight we derived\n",
    "\n",
    "$$x_t=\\frac{E_t[r^e_{t+1}]}{\\gamma Var_t(r^e_{t+1})}$$\n",
    "\n",
    "We now focus exclusively on the denominator. The treatment here follows\n",
    "\n",
    ">ALAN MOREIRA, TYLER MUIR, Volatility-Managed Portfolios, Journal of Finance, August 2017\n",
    "https://doi.org/10.1111/jofi.12513\n",
    "\n",
    "\n",
    "The key is to construct a good measure for $ Var_t(r^e_{t+1})$\n",
    "\n",
    "* Using daily data for month t, construct the market return \"realized variance\" during month t\n",
    "   \n",
    "   $$rv_t=\\sum_{d \\in days~ in ~month ~t}\\frac{(r_d- \\overline{r})^2}{N_{days}},$$\n",
    "   \n",
    " where $\\overline{r}$ is the average return within the month\n",
    "   \n",
    " "
   ]
  },
  {
   "cell_type": "markdown",
   "metadata": {
    "colab_type": "text",
    "id": "ZHXuT4U2j6ck"
   },
   "source": [
    "**Download data from WRDS**\n",
    "\n",
    "(if you have credentials)"
   ]
  },
  {
   "cell_type": "code",
   "execution_count": 8,
   "metadata": {
    "colab": {
     "base_uri": "https://localhost:8080/",
     "height": 306
    },
    "colab_type": "code",
    "executionInfo": {
     "elapsed": 13647,
     "status": "ok",
     "timestamp": 1576895946064,
     "user": {
      "displayName": "yuchi yao",
      "photoUrl": "",
      "userId": "00457884373990713813"
     },
     "user_tz": 300
    },
    "id": "ozJ4z8DsBS4O",
    "outputId": "dbc07f2e-9f89-4b65-b454-091880e139c2"
   },
   "outputs": [
    {
     "ename": "NameError",
     "evalue": "name 'conn' is not defined",
     "output_type": "error",
     "traceback": [
      "\u001b[1;31m---------------------------------------------------------------------------\u001b[0m",
      "\u001b[1;31mNameError\u001b[0m                                 Traceback (most recent call last)",
      "Input \u001b[1;32mIn [8]\u001b[0m, in \u001b[0;36m<cell line: 11>\u001b[1;34m()\u001b[0m\n\u001b[0;32m      4\u001b[0m \u001b[38;5;28;01mfrom\u001b[39;00m \u001b[38;5;21;01mdateutil\u001b[39;00m\u001b[38;5;21;01m.\u001b[39;00m\u001b[38;5;21;01mrelativedelta\u001b[39;00m \u001b[38;5;28;01mimport\u001b[39;00m \u001b[38;5;241m*\u001b[39m\n\u001b[0;32m      7\u001b[0m \u001b[38;5;66;03m# connect with their server\u001b[39;00m\n\u001b[0;32m      8\u001b[0m \u001b[38;5;66;03m#conn=wrds.Connection()\u001b[39;00m\n\u001b[0;32m      9\u001b[0m \n\u001b[0;32m     10\u001b[0m \u001b[38;5;66;03m# get the value-weighted market returns and date from the data base crsp.dsi\u001b[39;00m\n\u001b[1;32m---> 11\u001b[0m mkt_d \u001b[38;5;241m=\u001b[39m \u001b[43mconn\u001b[49m\u001b[38;5;241m.\u001b[39mraw_sql(\u001b[38;5;124m\"\"\"\u001b[39m\n\u001b[0;32m     12\u001b[0m \u001b[38;5;124m                      select a.date, a.vwretd\u001b[39m\n\u001b[0;32m     13\u001b[0m \u001b[38;5;124m                      from crsp.dsi as a\u001b[39m\n\u001b[0;32m     14\u001b[0m \u001b[38;5;124m                      \u001b[39m\u001b[38;5;124m\"\"\"\u001b[39m) \n\u001b[0;32m     15\u001b[0m \u001b[38;5;66;03m# get the risk-free rate\u001b[39;00m\n\u001b[0;32m     16\u001b[0m rf_d \u001b[38;5;241m=\u001b[39m conn\u001b[38;5;241m.\u001b[39mraw_sql(\u001b[38;5;124m\"\"\"\u001b[39m\n\u001b[0;32m     17\u001b[0m \u001b[38;5;124m                      select a.date, a.rf\u001b[39m\n\u001b[0;32m     18\u001b[0m \u001b[38;5;124m                      from ff.factors_daily as a\u001b[39m\n\u001b[0;32m     19\u001b[0m \u001b[38;5;124m                      \u001b[39m\u001b[38;5;124m\"\"\"\u001b[39m)\n",
      "\u001b[1;31mNameError\u001b[0m: name 'conn' is not defined"
     ]
    }
   ],
   "source": [
    "import datetime as dt\n",
    "import wrds\n",
    "import psycopg2 \n",
    "from dateutil.relativedelta import *\n",
    "\n",
    "\n",
    "# connect with their server\n",
    "#conn=wrds.Connection()\n",
    "\n",
    "# get the value-weighted market returns and date from the data base crsp.dsi\n",
    "mkt_d = conn.raw_sql(\"\"\"\n",
    "                      select a.date, a.vwretd\n",
    "                      from crsp.dsi as a\n",
    "                      \"\"\") \n",
    "# get the risk-free rate\n",
    "rf_d = conn.raw_sql(\"\"\"\n",
    "                      select a.date, a.rf\n",
    "                      from ff.factors_daily as a\n",
    "                      \"\"\")\n",
    "\n",
    "mkt_d=mkt_d.set_index(['date'])\n",
    "\n",
    "mkt_d=mkt_d.set_index(pd.to_datetime(mkt_d.index),'date')\n",
    "\n",
    "rf_d=rf_d.set_index(['date'])\n",
    "\n",
    "rf_d=rf_d.set_index(pd.to_datetime(rf_d.index),'date')\n",
    "\n",
    "# we merge\n",
    "\n",
    "daily=mkt_d.merge(rf_d,how='left',left_index=True,right_index=True)\n",
    "# save data locally\n",
    "#daily.to_pickle('../../assets/data/daily.pkl')\n"
   ]
  },
  {
   "cell_type": "markdown",
   "metadata": {},
   "source": [
    "Alternatively simply import from Gihub by substituting the address below"
   ]
  },
  {
   "cell_type": "code",
   "execution_count": 3,
   "metadata": {
    "colab": {},
    "colab_type": "code",
    "id": "VWrvD62TBS4Q"
   },
   "outputs": [],
   "source": [
    "\n",
    "daily=pd.read_pickle('https://github.com/amoreira2/Lectures/blob/main/assets/data/daily.pkl?raw=true')\n"
   ]
  },
  {
   "cell_type": "markdown",
   "metadata": {
    "colab_type": "text",
    "id": "_8Uci0btBS4T"
   },
   "source": [
    "## **Constructing monthly realized variance from daily data**\n",
    "\n",
    "\n",
    "You basically use pandas time series function that shifts all dates to the end of the month, so this way you are technically grouping by the end of the month day."
   ]
  },
  {
   "cell_type": "markdown",
   "metadata": {},
   "source": [
    "Now  I use groupby `endofmonth` to put  all returns of given \"year-month\" pair together (i.e. with the same date)\n",
    "\n"
   ]
  },
  {
   "cell_type": "code",
   "execution_count": 4,
   "metadata": {},
   "outputs": [
    {
     "data": {
      "text/plain": [
       "DatetimeIndex(['1925-12-31', '1926-01-31', '1926-01-31', '1926-01-31',\n",
       "               '1926-01-31', '1926-01-31', '1926-01-31', '1926-01-31',\n",
       "               '1926-01-31', '1926-01-31',\n",
       "               ...\n",
       "               '2020-12-31', '2020-12-31', '2020-12-31', '2020-12-31',\n",
       "               '2020-12-31', '2020-12-31', '2020-12-31', '2020-12-31',\n",
       "               '2020-12-31', '2020-12-31'],\n",
       "              dtype='datetime64[ns]', name='date', length=25046, freq=None)"
      ]
     },
     "execution_count": 4,
     "metadata": {},
     "output_type": "execute_result"
    }
   ],
   "source": [
    "from pandas.tseries.offsets import MonthEnd\n",
    "endofmonth=daily.index+MonthEnd(0)\n",
    "endofmonth"
   ]
  },
  {
   "cell_type": "markdown",
   "metadata": {},
   "source": [
    "So I can just compute the variance of this group (say 1/1/2020,1/2/2020,...1/31/2020) will all be 1/31/2020\n",
    "\n",
    "This will return the daily variance in that month\n",
    "\n",
    "So the output will be one realized variance for each month"
   ]
  },
  {
   "cell_type": "code",
   "execution_count": 5,
   "metadata": {
    "colab": {
     "base_uri": "https://localhost:8080/",
     "height": 235
    },
    "colab_type": "code",
    "executionInfo": {
     "elapsed": 325,
     "status": "ok",
     "timestamp": 1576898361587,
     "user": {
      "displayName": "yuchi yao",
      "photoUrl": "",
      "userId": "00457884373990713813"
     },
     "user_tz": 300
    },
    "id": "40eTDr-bmxKd",
    "outputId": "dfb237b5-dfe9-4b01-dc78-253613fd9911"
   },
   "outputs": [
    {
     "data": {
      "text/plain": [
       "<AxesSubplot:xlabel='date'>"
      ]
     },
     "execution_count": 5,
     "metadata": {},
     "output_type": "execute_result"
    },
    {
     "data": {
      "image/png": "[encoded data removed]",
      "text/plain": [
       "<Figure size 432x288 with 1 Axes>"
      ]
     },
     "metadata": {
      "needs_background": "light"
     },
     "output_type": "display_data"
    }
   ],
   "source": [
    "# We denote `realized variance` for the market return as `RV`\n",
    "RV=daily[['vwretd']].groupby(endofmonth).var()\n",
    "# rename column to clarify\n",
    "RV=RV.rename(columns={'vwretd':'RV'})\n",
    "RV.plot()"
   ]
  },
  {
   "cell_type": "markdown",
   "metadata": {},
   "source": [
    "Note how clustered volatility is\n",
    "\n",
    "that clustering that the strategy exploits\n",
    "\n",
    "If variance was high this month, probably will be high next month too"
   ]
  },
  {
   "cell_type": "code",
   "execution_count": 29,
   "metadata": {},
   "outputs": [
    {
     "data": {
      "text/html": [
       "<div>\n",
       "<style scoped>\n",
       "    .dataframe tbody tr th:only-of-type {\n",
       "        vertical-align: middle;\n",
       "    }\n",
       "\n",
       "    .dataframe tbody tr th {\n",
       "        vertical-align: top;\n",
       "    }\n",
       "\n",
       "    .dataframe thead th {\n",
       "        text-align: right;\n",
       "    }\n",
       "</style>\n",
       "<table border=\"1\" class=\"dataframe\">\n",
       "  <thead>\n",
       "    <tr style=\"text-align: right;\">\n",
       "      <th></th>\n",
       "      <th>RV</th>\n",
       "      <th>vwretd</th>\n",
       "      <th>rf</th>\n",
       "      <th>re</th>\n",
       "    </tr>\n",
       "    <tr>\n",
       "      <th>date</th>\n",
       "      <th></th>\n",
       "      <th></th>\n",
       "      <th></th>\n",
       "      <th></th>\n",
       "    </tr>\n",
       "  </thead>\n",
       "  <tbody>\n",
       "    <tr>\n",
       "      <th>2020-08-31</th>\n",
       "      <td>0.000073</td>\n",
       "      <td>0.068549</td>\n",
       "      <td>0.0</td>\n",
       "      <td>0.068549</td>\n",
       "    </tr>\n",
       "    <tr>\n",
       "      <th>2020-09-30</th>\n",
       "      <td>0.000024</td>\n",
       "      <td>-0.034910</td>\n",
       "      <td>0.0</td>\n",
       "      <td>-0.034910</td>\n",
       "    </tr>\n",
       "    <tr>\n",
       "      <th>2020-10-31</th>\n",
       "      <td>0.000228</td>\n",
       "      <td>-0.020180</td>\n",
       "      <td>0.0</td>\n",
       "      <td>-0.020180</td>\n",
       "    </tr>\n",
       "    <tr>\n",
       "      <th>2020-11-30</th>\n",
       "      <td>0.000154</td>\n",
       "      <td>0.123639</td>\n",
       "      <td>0.0</td>\n",
       "      <td>0.123639</td>\n",
       "    </tr>\n",
       "    <tr>\n",
       "      <th>2020-12-31</th>\n",
       "      <td>0.000090</td>\n",
       "      <td>0.044672</td>\n",
       "      <td>0.0</td>\n",
       "      <td>0.044672</td>\n",
       "    </tr>\n",
       "  </tbody>\n",
       "</table>\n",
       "</div>"
      ],
      "text/plain": [
       "                  RV    vwretd   rf        re\n",
       "date                                         \n",
       "2020-08-31  0.000073  0.068549  0.0  0.068549\n",
       "2020-09-30  0.000024 -0.034910  0.0 -0.034910\n",
       "2020-10-31  0.000228 -0.020180  0.0 -0.020180\n",
       "2020-11-30  0.000154  0.123639  0.0  0.123639\n",
       "2020-12-31  0.000090  0.044672  0.0  0.044672"
      ]
     },
     "execution_count": 29,
     "metadata": {},
     "output_type": "execute_result"
    }
   ],
   "source": [
    "# aggregate daily returns to monthly returns\n",
    "Ret=(1+daily).groupby(endofmonth).prod()-1\n",
    "# rename columns to clarify\n",
    "# Merge Ret (monthly return) with RV (realized variance and weights)\n",
    "df=RV.merge(Ret,how='left',left_index=True,right_index=True)\n",
    "# construct excess returns\n",
    "df['re']=df['vwretd']-df['rf']\n",
    "\n",
    "# lag RV by one month\n",
    "df['RV']=df['RV'].shift(1)\n",
    "\n",
    "df.tail()"
   ]
  },
  {
   "cell_type": "code",
   "execution_count": 30,
   "metadata": {},
   "outputs": [
    {
     "data": {
      "text/plain": [
       "<AxesSubplot:xlabel='Quantile'>"
      ]
     },
     "execution_count": 30,
     "metadata": {},
     "output_type": "execute_result"
    },
    {
     "data": {
      "image/png": "[encoded data removed]",
      "text/plain": [
       "<Figure size 576x576 with 3 Axes>"
      ]
     },
     "metadata": {
      "needs_background": "light"
     },
     "output_type": "display_data"
    }
   ],
   "source": [
    "# Create quantile groups based on the RV variable\n",
    "df['Quantile'] = pd.qcut(df['RV'], q=5)\n",
    "\n",
    "# Group by quantile and calculate the mean for each column\n",
    "quantile_means = df.groupby('Quantile').mean()\n",
    "\n",
    "\n",
    "quantile_means ['priceofrisk']=quantile_means['re']/(quantile_means['RV'])\n",
    "\n",
    "# Display the mean of quantiles for each column\n",
    "\n",
    "fig, axs = plt.subplots(3, 1, figsize=(8, 8))\n",
    "quantile_means.RV.plot(kind='bar',ax=axs[0])\n",
    "\n",
    "quantile_means.re.plot(kind='bar',ax=axs[1])\n",
    "\n",
    "quantile_means.priceofrisk.plot(kind='bar',ax=axs[2])\n"
   ]
  },
  {
   "cell_type": "markdown",
   "metadata": {},
   "source": [
    "We see that following months of high variance--on the right-- you don't really get higher returns\n",
    "\n",
    "if you focus on the ratio -- the price of risk\n",
    "\n",
    "$$x_t=\\frac{E_t[r^e_{t+1}]}{Var_t(r^e_{t+1})}$$\n",
    "\n",
    "you see that it is massively decreasing with variance\n",
    "\n",
    "Average returns are not constant--but are close to-- so the natural strategy to exploit this pattern is to lever up when vol is low and reduce exposure when vol is high."
   ]
  },
  {
   "cell_type": "markdown",
   "metadata": {},
   "source": [
    "Specifically we Buy the market at the closing price of month t according to the rule:\n",
    "   \n",
    "   $$x_t=\\frac{c}{rv_t},$$\n",
    "   \n",
    "where $c$ is some constant.\n",
    "   \n",
    "  * Hold the position for a month\n",
    "  \n",
    "  * The returns of the strategy are given by\n",
    "  \n",
    "  \n",
    "\n",
    " \n",
    "  $$ r^{VolTiming}_{t+1}=(1-\\frac{c}{rv_t})r_{f,t+1}+\\frac{c}{rv_t}r^{MKT}_{t+1}$$\n",
    "\n",
    "\n",
    "* One could use a variety of other volatility estimators to implement the strategy\n",
    "\n",
    "   - VIX \n",
    "   - GARCH based forecasts\n",
    "   - Regression forecasts based lagged rv\n",
    "   - Regression forecasts based lagged rv and VIX\n",
    "   "
   ]
  },
  {
   "cell_type": "markdown",
   "metadata": {
    "colab_type": "text",
    "id": "19pTbH4wYAGL"
   },
   "source": [
    "## **From signal to weights**"
   ]
  },
  {
   "cell_type": "markdown",
   "metadata": {
    "colab_type": "text",
    "id": "jLKhAemtBS4b"
   },
   "source": [
    "* weight on the market:\n",
    "\n",
    "$$x_t=c\\frac{1}{rv_t}$$\n",
    "\n",
    "* weight on the risk-free rate: $1-x_t$\n",
    "\n",
    "* $c$ controls how levered is the strategy on average.\n",
    "\n",
    "* As we saw before all timing strategies involved some in and out of the market, but you also need to determine the average position. That is the role of $c$.\n",
    "\n",
    "* There are many ways to choose c\n",
    "\n",
    "* while c does not impact the strategy Sharpe Ratio, it impacts the amount of leverage that the strategy will take\n",
    "\n",
    "* Here lets keep it simple and simply choose it so that the position on the market is 1 on average\n",
    "\n",
    "$$E[x_t]=E[c\\frac{1}{rv_t}]=1$$\n",
    "\n",
    "implies $c=\\frac{1}{E[\\frac{1}{rv_t}]}$\n"
   ]
  },
  {
   "cell_type": "code",
   "execution_count": 31,
   "metadata": {
    "colab": {},
    "colab_type": "code",
    "id": "JAaknOzBBS4b"
   },
   "outputs": [
    {
     "data": {
      "text/plain": [
       "0.9999999999999996"
      ]
     },
     "execution_count": 31,
     "metadata": {},
     "output_type": "execute_result"
    },
    {
     "data": {
      "image/png": "[encoded data removed]",
      "text/plain": [
       "<Figure size 432x288 with 1 Axes>"
      ]
     },
     "metadata": {
      "needs_background": "light"
     },
     "output_type": "display_data"
    }
   ],
   "source": [
    "# calculate weights for the risky assets (market)\n",
    "c=1/(1/df.RV).mean()\n",
    "df['Weight']=c/df.RV\n",
    "\n",
    "df.Weight.plot()\n",
    "df.Weight.mean()"
   ]
  },
  {
   "cell_type": "markdown",
   "metadata": {},
   "source": [
    "You see that leverage gets really high. \n",
    "\n",
    "As high as 10!\n",
    "\n",
    "You can see that in your position in the risk-free rate which exactly mirrors that\n",
    "\n"
   ]
  },
  {
   "cell_type": "code",
   "execution_count": 32,
   "metadata": {
    "colab": {
     "base_uri": "https://localhost:8080/",
     "height": 279
    },
    "colab_type": "code",
    "executionInfo": {
     "elapsed": 511,
     "status": "ok",
     "timestamp": 1576897662773,
     "user": {
      "displayName": "yuchi yao",
      "photoUrl": "",
      "userId": "00457884373990713813"
     },
     "user_tz": 300
    },
    "id": "INzHNjDrbIjx",
    "outputId": "e29591e5-2c49-431b-a165-24c0a98f2d44"
   },
   "outputs": [
    {
     "data": {
      "image/png": "[encoded data removed]",
      "text/plain": [
       "<Figure size 432x288 with 1 Axes>"
      ]
     },
     "metadata": {
      "needs_background": "light"
     },
     "output_type": "display_data"
    }
   ],
   "source": [
    "# plot the weights on the risk-free rate\n",
    "(1-df.Weight).plot()\n",
    "plt.show()"
   ]
  },
  {
   "cell_type": "markdown",
   "metadata": {
    "colab_type": "text",
    "id": "vpv3v8SWBS4n"
   },
   "source": [
    "## **Construct strategy returns**\n",
    "\n",
    "* Now to construct the strategy return recall that we use the relaized variance in month t to buy the market at the closing of month t and earn the return accrued in month t+1\n",
    "\n",
    "\n",
    "* I will call the strategy as $\\textbf{VMS}$ (Volatility Managed Strategy)"
   ]
  },
  {
   "cell_type": "code",
   "execution_count": 35,
   "metadata": {
    "colab": {},
    "colab_type": "code",
    "id": "xV9b36kqBS4o"
   },
   "outputs": [],
   "source": [
    "# now construct the return of the strategy\n",
    "df['VMS']=df.Weight*df.vwretd+(1-df.Weight.shift(1))*df.rf"
   ]
  },
  {
   "cell_type": "markdown",
   "metadata": {},
   "source": [
    "We can see the cumulative returns of the market and the volatility managed strategy"
   ]
  },
  {
   "cell_type": "code",
   "execution_count": 36,
   "metadata": {
    "colab": {
     "base_uri": "https://localhost:8080/",
     "height": 280
    },
    "colab_type": "code",
    "executionInfo": {
     "elapsed": 999,
     "status": "ok",
     "timestamp": 1576899072935,
     "user": {
      "displayName": "yuchi yao",
      "photoUrl": "",
      "userId": "00457884373990713813"
     },
     "user_tz": 300
    },
    "id": "PJmTSH60BS4s",
    "outputId": "54c488ea-d69b-43c9-a2d6-d1498863780e"
   },
   "outputs": [
    {
     "data": {
      "text/plain": [
       "<AxesSubplot:xlabel='date'>"
      ]
     },
     "execution_count": 36,
     "metadata": {},
     "output_type": "execute_result"
    },
    {
     "data": {
      "image/png": "[encoded data removed]",
      "text/plain": [
       "<Figure size 432x288 with 1 Axes>"
      ]
     },
     "metadata": {
      "needs_background": "light"
     },
     "output_type": "display_data"
    }
   ],
   "source": [
    "(df[['vwretd','VMS']]+1).cumprod().plot(logy=True)\n"
   ]
  },
  {
   "cell_type": "markdown",
   "metadata": {
    "colab_type": "text",
    "id": "QcbR-rgnBS4y"
   },
   "source": [
    "**Sharpe ratio**\n",
    "\n",
    "The VMS strategy ends up with a 20% higher Sharpe Ratio"
   ]
  },
  {
   "cell_type": "code",
   "execution_count": 31,
   "metadata": {
    "colab": {
     "base_uri": "https://localhost:8080/",
     "height": 68
    },
    "colab_type": "code",
    "executionInfo": {
     "elapsed": 357,
     "status": "ok",
     "timestamp": 1576899140898,
     "user": {
      "displayName": "yuchi yao",
      "photoUrl": "",
      "userId": "00457884373990713813"
     },
     "user_tz": 300
    },
    "id": "1_S4uHG5BS4z",
    "outputId": "d56bddd2-be7e-497c-bea6-01e744e3cb16"
   },
   "outputs": [
    {
     "data": {
      "text/plain": [
       "vwretd    0.431226\n",
       "VMS       0.513687\n",
       "dtype: float64"
      ]
     },
     "execution_count": 31,
     "metadata": {},
     "output_type": "execute_result"
    }
   ],
   "source": [
    "(df[['vwretd','VMS']].subtract(df.rf,axis=0).mean()/df[['vwretd','VMS']].std())*12**0.5"
   ]
  },
  {
   "cell_type": "markdown",
   "metadata": {
    "colab_type": "text",
    "id": "NK_6rrUHBS41"
   },
   "source": [
    "**Tail risk**\n",
    "\n",
    "The VMS bears substantially less tail risk as well\n",
    "\n",
    "We can look at the the percentile 0.5% of the return distribution"
   ]
  },
  {
   "cell_type": "code",
   "execution_count": 33,
   "metadata": {
    "colab": {
     "base_uri": "https://localhost:8080/",
     "height": 68
    },
    "colab_type": "code",
    "executionInfo": {
     "elapsed": 697,
     "status": "ok",
     "timestamp": 1576899155354,
     "user": {
      "displayName": "yuchi yao",
      "photoUrl": "",
      "userId": "00457884373990713813"
     },
     "user_tz": 300
    },
    "id": "BpjI4hqqBS41",
    "outputId": "10e22c0c-4d98-44c9-a59f-e7ca382bfb7e"
   },
   "outputs": [
    {
     "data": {
      "text/plain": [
       "vwretd   -0.187543\n",
       "VMS      -0.133776\n",
       "Name: 0.005, dtype: float64"
      ]
     },
     "execution_count": 33,
     "metadata": {},
     "output_type": "execute_result"
    }
   ],
   "source": [
    "df[['vwretd','VMS']].quantile(q=0.005)"
   ]
  },
  {
   "cell_type": "markdown",
   "metadata": {},
   "source": [
    "**Things to try**\n",
    "\n",
    "\n",
    "- How well it works with VIX instead of RV?\n",
    "- How well it works with standard deviation instead of variance\n",
    "- How well it works if we put leverage limits\n",
    "- How well it works if we combine an expected return signal with the volatility signal?"
   ]
  }
 ],
 "metadata": {
  "colab": {
   "collapsed_sections": [],
   "name": "Notebook 6.ipynb",
   "provenance": []
  },
  "kernelspec": {
   "display_name": "Python 3 (ipykernel)",
   "language": "python",
   "name": "python3"
  },
  "language_info": {
   "codemirror_mode": {
    "name": "ipython",
    "version": 3
   },
   "file_extension": ".py",
   "mimetype": "text/x-python",
   "name": "python",
   "nbconvert_exporter": "python",
   "pygments_lexer": "ipython3",
   "version": "3.9.12"
  }
 },
 "nbformat": 4,
 "nbformat_minor": 4
}
