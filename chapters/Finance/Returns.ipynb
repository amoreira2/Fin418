{
 "cells": [
  {
   "cell_type": "code",
   "execution_count": 1,
   "metadata": {},
   "outputs": [],
   "source": [
    "# load libraries used in this notebook\n",
    "import pandas as pd\n",
    "import numpy as np\n",
    "import matplotlib.pyplot as plt\n",
    "%matplotlib inline"
   ]
  },
  {
   "cell_type": "markdown",
   "metadata": {
    "colab_type": "text",
    "id": "v7evuBpxySRq"
   },
   "source": [
    "\n",
    "\n",
    "\n",
    "# Asset Returns\n",
    "\n",
    "\n"
   ]
  },
  {
   "cell_type": "markdown",
   "metadata": {
    "colab_type": "text",
    "id": "ijxKfmwYySRs"
   },
   "source": [
    "* Define what are returns, which is the key variable of analysis in finance (and this class).\n",
    "* Discuss how to think them of random variables \n",
    "* Discuss the key statistical \"moments\" that we will use to capture their behavior (i.e. how risky they are)\n",
    "* Discuss the normal distribution specifically\n",
    "* Define the concept of Excess returns\n",
    "\n"
   ]
  },
  {
   "cell_type": "markdown",
   "metadata": {
    "colab_type": "text",
    "id": "Zamld3rRySR-"
   },
   "source": [
    "**What is a return?**\n",
    "\n",
    "\n",
    "* Lets say you paid $𝑃_𝑡$ in date $t$ for an asset\n",
    "\n",
    "* In date $t+1$ the price is $𝑃_{𝑡+1}$  and you earn some dividend as well $𝐷_{𝑡+1}$\n",
    "\n",
    "* Then we say that your return is\n",
    "\n",
    "$$𝑅_{𝑡+1}=\\frac{𝑃_{𝑡+1}+𝐷_{𝑡+1}−𝑃_𝑡}{𝑃_𝑡}$$\n",
    "\n",
    "* It is the gain you made (everything that you go in date t+1), divided by how much you put in ( the price of the asset)\n",
    "\n",
    "> Our data set Data contains these returns of buying an asset, earning any distributed dividends during the month, and then selling in the end of the month.\n",
    "\n",
    "* This definition works for ANY asset that has a postive price\n",
    "\n",
    "* This is the case for stocks, bonds, commodities, crypto, most real assets\n",
    "\n",
    "* The return simply normalizes the \"dollar gain\" by the cost of the asset. \n",
    "\n",
    "* This makes sense because price levels are arbitrary and non-stationay, so we can't really do statistics over prices."
   ]
  },
  {
   "cell_type": "markdown",
   "metadata": {},
   "source": [
    "Lets start by loadding some return data. \n",
    "\n",
    "Below we load a data set that has monthly reutrn data on six different assets (in fact portfolios of assets, but we will get to portfolios later)\n",
    "\n",
    "For now we will only use one of the assets which is the United States equity market portfolios, labeled \"MKT\""
   ]
  },
  {
   "cell_type": "code",
   "execution_count": 2,
   "metadata": {
    "colab": {
     "base_uri": "https://localhost:8080/",
     "height": 204
    },
    "colab_type": "code",
    "executionInfo": {
     "elapsed": 1104,
     "status": "ok",
     "timestamp": 1576432667798,
     "user": {
      "displayName": "yuchi yao",
      "photoUrl": "",
      "userId": "00457884373990713813"
     },
     "user_tz": 300
    },
    "id": "KOA14rTiySRt",
    "outputId": "91cd8520-5466-4619-bb3a-47cac65d0cdb"
   },
   "outputs": [
    {
     "data": {
      "text/html": [
       "<div>\n",
       "<style scoped>\n",
       "    .dataframe tbody tr th:only-of-type {\n",
       "        vertical-align: middle;\n",
       "    }\n",
       "\n",
       "    .dataframe tbody tr th {\n",
       "        vertical-align: top;\n",
       "    }\n",
       "\n",
       "    .dataframe thead th {\n",
       "        text-align: right;\n",
       "    }\n",
       "</style>\n",
       "<table border=\"1\" class=\"dataframe\">\n",
       "  <thead>\n",
       "    <tr style=\"text-align: right;\">\n",
       "      <th></th>\n",
       "      <th>MKT</th>\n",
       "    </tr>\n",
       "    <tr>\n",
       "      <th>Date</th>\n",
       "      <th></th>\n",
       "    </tr>\n",
       "  </thead>\n",
       "  <tbody>\n",
       "    <tr>\n",
       "      <th>1963-02-28</th>\n",
       "      <td>-0.0215</td>\n",
       "    </tr>\n",
       "    <tr>\n",
       "      <th>1963-03-31</th>\n",
       "      <td>0.0331</td>\n",
       "    </tr>\n",
       "    <tr>\n",
       "      <th>1963-04-30</th>\n",
       "      <td>0.0476</td>\n",
       "    </tr>\n",
       "    <tr>\n",
       "      <th>1963-05-31</th>\n",
       "      <td>0.0200</td>\n",
       "    </tr>\n",
       "    <tr>\n",
       "      <th>1963-06-30</th>\n",
       "      <td>-0.0177</td>\n",
       "    </tr>\n",
       "  </tbody>\n",
       "</table>\n",
       "</div>"
      ],
      "text/plain": [
       "               MKT\n",
       "Date              \n",
       "1963-02-28 -0.0215\n",
       "1963-03-31  0.0331\n",
       "1963-04-30  0.0476\n",
       "1963-05-31  0.0200\n",
       "1963-06-30 -0.0177"
      ]
     },
     "execution_count": 2,
     "metadata": {},
     "output_type": "execute_result"
    }
   ],
   "source": [
    "\n",
    "#Online address of the file \n",
    "url=\"https://raw.githubusercontent.com/amoreira2/Lectures/main/assets/data/GlobalFinMonthly.csv\"\n",
    "# load it using pandas\n",
    "# the field \"na_values=-99\" is telling the function that numbers \"-99\" are code for a missing value\n",
    "# THIS VARIES DATASET by DATASET!!!!\n",
    "# In this case I know that to be the case\n",
    "Data = pd.read_csv(url,na_values=-99)\n",
    "# here we tell to pandas to interpret the DATE column as date type\n",
    "Data['Date']=pd.to_datetime(Data['Date'])\n",
    "# set the date as the index\n",
    "Data=Data.set_index(['Date'])\n",
    "#eep only the Market column\n",
    "Data=Data[['MKT']]\n",
    "# look at the first few observations\n",
    "Data.head()"
   ]
  },
  {
   "cell_type": "markdown",
   "metadata": {},
   "source": [
    "**Comments**\n",
    "\n",
    "- \".datetime\" is pretty good at indentifying how to interpret the data format, but you always have to check if it interpreted correct by inspecting it\n",
    "\n",
    "- If it does not you will have to add the format manually as we discuss in section 6.7"
   ]
  },
  {
   "cell_type": "markdown",
   "metadata": {
    "colab_type": "text",
    "id": "EQIFToe9ySRw",
    "toc-hr-collapsed": true
   },
   "source": [
    "**How Returns are distributed?**\n",
    "\n",
    "Lets start by looking at the moments of the distribution of returns for the \"market\" portfolio\n",
    "\n",
    "This is really the portfolio of all the stocks listed in the United States\n",
    "\n",
    "\n",
    "\n"
   ]
  },
  {
   "cell_type": "markdown",
   "metadata": {
    "colab_type": "text",
    "id": "wIIiHJu1O0Pz"
   },
   "source": [
    "**Mean and Standard Deviation**"
   ]
  },
  {
   "cell_type": "code",
   "execution_count": 3,
   "metadata": {
    "colab": {
     "base_uri": "https://localhost:8080/",
     "height": 34
    },
    "colab_type": "code",
    "executionInfo": {
     "elapsed": 382,
     "status": "ok",
     "timestamp": 1576432670668,
     "user": {
      "displayName": "yuchi yao",
      "photoUrl": "",
      "userId": "00457884373990713813"
     },
     "user_tz": 300
    },
    "id": "A0KLBYt4ySRx",
    "outputId": "3448b50f-a3d1-4658-bb51-f6fa785a6474"
   },
   "outputs": [
    {
     "data": {
      "text/plain": [
       "0.9051777434312205"
      ]
     },
     "execution_count": 3,
     "metadata": {},
     "output_type": "execute_result"
    }
   ],
   "source": [
    "# looking at it's mean\n",
    "Data['MKT'].mean()*100\n",
    "\n",
    "# what does this number mean?"
   ]
  },
  {
   "cell_type": "markdown",
   "metadata": {},
   "source": [
    "If I have invested 1 dollar in a month t, On average I would have XXXXX in month t+1 in the sample"
   ]
  },
  {
   "cell_type": "code",
   "execution_count": 4,
   "metadata": {
    "colab": {
     "base_uri": "https://localhost:8080/",
     "height": 34
    },
    "colab_type": "code",
    "executionInfo": {
     "elapsed": 349,
     "status": "ok",
     "timestamp": 1576432672605,
     "user": {
      "displayName": "yuchi yao",
      "photoUrl": "",
      "userId": "00457884373990713813"
     },
     "user_tz": 300
    },
    "id": "rUS4pZqMySR0",
    "outputId": "a18578ba-3d0a-41a0-abf0-d5720cb31cc5"
   },
   "outputs": [
    {
     "data": {
      "text/plain": [
       "4.400314890674189"
      ]
     },
     "execution_count": 4,
     "metadata": {},
     "output_type": "execute_result"
    }
   ],
   "source": [
    "# looking at the market standard deviation\n",
    "\n",
    "Data['MKT'].std()*100\n",
    "\n",
    "# what does this number mean?"
   ]
  },
  {
   "cell_type": "markdown",
   "metadata": {},
   "source": [
    "If had all my wealth, say 100k usd invested in the market in month t, then standard deviation of my wealth in date t+1 was XXXX in the sample"
   ]
  },
  {
   "cell_type": "markdown",
   "metadata": {},
   "source": [
    "**Histogram**\n",
    "\n",
    "This plots the frequency of return realization on each bin\n",
    "\n",
    "it gives a sense of the HISTORICAL DISTRIBUTION of reuturns\n"
   ]
  },
  {
   "cell_type": "code",
   "execution_count": 5,
   "metadata": {
    "colab": {
     "base_uri": "https://localhost:8080/",
     "height": 282
    },
    "colab_type": "code",
    "executionInfo": {
     "elapsed": 514,
     "status": "ok",
     "timestamp": 1576432674302,
     "user": {
      "displayName": "yuchi yao",
      "photoUrl": "",
      "userId": "00457884373990713813"
     },
     "user_tz": 300
    },
    "id": "U8ZfHJoMySR2",
    "outputId": "7c6e634b-4cb8-4120-e914-8b33e3b8a4e1"
   },
   "outputs": [
    {
     "data": {
      "text/plain": [
       "<AxesSubplot:>"
      ]
     },
     "execution_count": 5,
     "metadata": {},
     "output_type": "execute_result"
    },
    {
     "data": {
      "image/png": "[encoded data removed]",
      "text/plain": [
       "<Figure size 432x288 with 1 Axes>"
      ]
     },
     "metadata": {
      "needs_background": "light"
     },
     "output_type": "display_data"
    }
   ],
   "source": [
    "\n",
    "(Data.MKT*100).hist(bins=50)\n",
    "\n"
   ]
  },
  {
   "cell_type": "markdown",
   "metadata": {},
   "source": [
    "List two/three features that are noteworthy about this plot?\n",
    "\n"
   ]
  },
  {
   "cell_type": "markdown",
   "metadata": {},
   "source": [
    "**Time-Series PLOT**\n",
    "\n",
    "The time-series plot shows us in each date what was the return on the asset in each month in the sample"
   ]
  },
  {
   "cell_type": "code",
   "execution_count": 6,
   "metadata": {
    "colab": {
     "base_uri": "https://localhost:8080/",
     "height": 296
    },
    "colab_type": "code",
    "executionInfo": {
     "elapsed": 605,
     "status": "ok",
     "timestamp": 1576432676802,
     "user": {
      "displayName": "yuchi yao",
      "photoUrl": "",
      "userId": "00457884373990713813"
     },
     "user_tz": 300
    },
    "id": "QY8I1nefySR5",
    "outputId": "6106c842-081f-40f7-b13a-fd021b3fc9b0"
   },
   "outputs": [
    {
     "data": {
      "text/plain": [
       "<AxesSubplot:xlabel='Date'>"
      ]
     },
     "execution_count": 6,
     "metadata": {},
     "output_type": "execute_result"
    },
    {
     "data": {
      "image/png": "[encoded data removed]",
      "text/plain": [
       "<Figure size 432x288 with 1 Axes>"
      ]
     },
     "metadata": {
      "needs_background": "light"
     },
     "output_type": "display_data"
    }
   ],
   "source": [
    "Data.MKT.plot()"
   ]
  },
  {
   "cell_type": "markdown",
   "metadata": {},
   "source": [
    "** A quick review of randomness and probability distributions **"
   ]
  },
  {
   "cell_type": "markdown",
   "metadata": {
    "colab_type": "text",
    "id": "Pr4ErENkySR7"
   },
   "source": [
    "**Random variables**\n",
    "\n",
    "* We think of the return realization, the numbers plotted above, as a random variable, i.e., a variable that we are uncertain about it's realization. \n",
    "\n",
    "* Random variable is any thing that we don’t known\n",
    "\n",
    "  * Outcome of dice throw, value of stock market in the end of the day, …\n",
    "  * For example a dice outcome is a random variables with the following possible outcomes: (1,2,3,4,5,6)\n",
    "\n",
    "* This uncertainty is fully described by the probability distribution associated with the random variable.\n",
    "\n",
    "\n",
    "\n"
   ]
  },
  {
   "cell_type": "markdown",
   "metadata": {
    "colab_type": "text",
    "id": "SYV052YlySR7"
   },
   "source": [
    "**What is a probability distribution?**\n",
    "\n",
    "* A probability distribution describes the probability that each outcome is realized.\n",
    "* It can be described by a Probability Density Function (pdf).\n",
    "* For example, the pdf of a dice is (1,1/6) ,(2,1/6), (3,1/6), (4,1/6), (5,1/6), (6,1/6)\n",
    "* It can also be described by the Cumulative Density Function(cdf)\n",
    "* For a example, the cdf of a dice is (1,1/6) ,(2,2/6), (3,3/6), (4,4/6), (5,5/6), (6,6/6)\n",
    "* A pdf or cdf fully describes the uncertainty we have with respect to a particular random variable\n",
    "* Random variable is any thing that we don’t known\n",
    "* Outcome of dice throw, value of stock market in the end of the day, …\n"
   ]
  },
  {
   "cell_type": "markdown",
   "metadata": {
    "colab_type": "text",
    "id": "exmzX9BcySR8"
   },
   "source": [
    "**Moments**\n",
    "\n",
    "* One way to summarize the information in a probability distribution is the moments\n",
    "\n",
    "* Mean or expected value $E[𝑥]=∑𝑥_𝑖 𝑃𝑟𝑜𝑏(𝑥=𝑥_𝑖 )$  𝑜𝑟 $∫𝑥𝑓(𝑥)𝑑𝑥$  often uses µ as symbol\n",
    "\n",
    "* The Variance $𝑣𝑎𝑟(𝑥)= ∑(𝑥_𝑖−𝐸[𝑥])^2 𝑃𝑟𝑜𝑏(𝑥=𝑥_𝑖 )$    𝑜𝑟 $∫(𝑥_𝑖−𝐸[𝑥])^2 𝑓(𝑥)𝑑𝑥 $ \n",
    "  \n",
    "  * (Standard deviation $std(x)= \\sqrt{𝑣𝑎𝑟(𝑥)}$)\n",
    "  * measures average variability around the mean across successive drawings of x.\n",
    "  * often use 𝜎 as a symbol for standard deviation and $\\sigma^2$ for variance\n",
    "\n",
    "* Skewness $𝑠𝑘𝑒𝑤(𝑥)= ∑(𝑥_𝑖−𝐸[𝑥])^3 𝑃𝑟𝑜𝑏(𝑥=𝑥_𝑖 )$ 𝑜𝑟 $∫(𝑥_𝑖−𝐸[𝑥])^3 𝑓(𝑥)𝑑𝑥$\n",
    "  \n",
    "  * Measures asymmetry in the distribution\n",
    "\n",
    "* Kurtosis $𝑘𝑢𝑟𝑡(𝑥)= ∑(𝑥_𝑖−𝐸[𝑥])^4 𝑃𝑟𝑜𝑏(𝑥=𝑥_𝑖 )$ 𝑜𝑟 $∫(𝑥_𝑖−𝐸[𝑥])^4 𝑓(𝑥)𝑑𝑥$ \n",
    "\n",
    "  * Measures how fat the tails are\n",
    "\n",
    "* Higher order moments…\n",
    "\n",
    "* Observation: with enough moments you can represent any distribution, but in practice you only need a few\n",
    "  \n",
    "  * for example for the normal distribution you only need the first two: Expected value and variance!"
   ]
  },
  {
   "cell_type": "markdown",
   "metadata": {
    "colab_type": "text",
    "id": "f8PYnj6PySR9"
   },
   "source": [
    "## **The Normal distribution**\n",
    "\n",
    "* Most of what we do does not depend on the assumption of normality\n",
    "\n",
    "* But normal distributions are very useful in statistical tests\n",
    "\n",
    "* And they are also not a bad approximation for return data at low frequency (monthly/year) \n"
   ]
  },
  {
   "cell_type": "markdown",
   "metadata": {
    "colab_type": "text",
    "id": "yt0Dowl-ySR-"
   },
   "source": [
    "\n",
    "\n",
    "* Probability that any random draw form a Normal distribution random variable $\\tilde{x}$ is within $n=1$ standard deviation from the mean is 0.6826\n",
    "\n",
    "\n",
    "$$Prob(E[\\tilde{x}]-1\\sigma(\\tilde{x})\\leq \\tilde{x}\\leq E[\\tilde{x}]+1\\sigma(\\tilde{x}))|_{n=1})=0.6826$$\n",
    "\n",
    "* $n=2,Prob(\\cdot)=0.9550$\n",
    "\n",
    "$$Prob(E[\\tilde{x}]-2\\sigma(\\tilde{x})\\leq \\tilde{x}\\leq E[\\tilde{x}]+2\\sigma(\\tilde{x}))|_{n=1})=0.9550$$\n",
    "* it is convenient to to transform a normally distributed r.v. into units of standard deviations from it's mean\n",
    "\n",
    "\n",
    "$$\\tilde{z}=\\frac{\\tilde{x}-E[\\tilde{x}]}{\\sigma(\\tilde{x})}$$\n",
    "\n",
    "* This follows the \"standard\" normal distribution, which has mean 0 and and standard deviation 1 \n",
    "\n",
    "* can you show that is indeed the case that z has mean zero and standard devaiton 1? \n",
    "\n",
    "* This means that the normal distribution is completely characterized by it's first two moments\n",
    "\n",
    "* This means that the investment problem is much more tractable too!\n",
    "\n",
    "* Only two moments to worry about:\n",
    "\n",
    "    * The expected return of the portfolio\n",
    "    \n",
    "    * it's variance\n",
    "    \n",
    "    * The probability of really bad tail events will follow immediately from these two! "
   ]
  },
  {
   "cell_type": "markdown",
   "metadata": {
    "colab_type": "text",
    "id": "00v3ORsBySR_"
   },
   "source": [
    "**How to evaluate whether returns are normal?**"
   ]
  },
  {
   "cell_type": "markdown",
   "metadata": {
    "colab_type": "text",
    "id": "gqeIB4X6ySSA"
   },
   "source": [
    "\n",
    "The standard approach is to look at higher moments.\n",
    "\n",
    "Because the normal is entired descibed by the first two moments, looking at these higher moments can give us a clue if that is really true for the data at hand.\n",
    "\n",
    "Here are a few:\n",
    "\n",
    "* Skewness \n",
    "\n",
    "* Kurtosis \n",
    "\n",
    "* Frequency of extreme return realizations \n",
    "\n",
    "  * 3 sigma events should almost never happen for a normal random variable\n",
    "  \n",
    "  * once every 500 periods\n",
    "\n",
    "  $$PROB(|R-E{R}|>3\\sigma(R))$$\n"
   ]
  },
  {
   "cell_type": "markdown",
   "metadata": {
    "colab_type": "text",
    "id": "AChPlqLdySSA"
   },
   "source": [
    " A nice thing to do is to simulate data generated by a normal with same sample mean and standard deviation as the normal, and compare it with the actual data"
   ]
  },
  {
   "cell_type": "code",
   "execution_count": 7,
   "metadata": {},
   "outputs": [],
   "source": [
    "# get you estimators \n",
    "mu=Data.MKT.mean()\n",
    "std=Data.MKT.std()\n",
    "# sample sze\n",
    "T=Data.MKT.count()"
   ]
  },
  {
   "cell_type": "code",
   "execution_count": 8,
   "metadata": {
    "colab": {
     "base_uri": "https://localhost:8080/",
     "height": 282
    },
    "colab_type": "code",
    "executionInfo": {
     "elapsed": 710,
     "status": "ok",
     "timestamp": 1576432684212,
     "user": {
      "displayName": "yuchi yao",
      "photoUrl": "",
      "userId": "00457884373990713813"
     },
     "user_tz": 300
    },
    "id": "sJwJEX7RySSB",
    "outputId": "fe53d38a-a8aa-4319-9fb9-c66a5ab19c38"
   },
   "outputs": [
    {
     "data": {
      "text/plain": [
       "<AxesSubplot:>"
      ]
     },
     "execution_count": 8,
     "metadata": {},
     "output_type": "execute_result"
    },
    {
     "data": {
      "image/png": "[encoded data removed]",
      "text/plain": [
       "<Figure size 432x288 with 1 Axes>"
      ]
     },
     "metadata": {
      "needs_background": "light"
     },
     "output_type": "display_data"
    }
   ],
   "source": [
    "# simulate from a normal distribution with same mean, standard deviation and sample size\n",
    "\n",
    "X=pd.Series(np.random.normal(mu,std,T))\n",
    "\n",
    "Data.MKT.hist(bins=50)\n",
    "X.hist(bins=50)\n",
    "\n",
    "\n",
    "\n"
   ]
  },
  {
   "cell_type": "markdown",
   "metadata": {},
   "source": [
    "- what happens if we increase the mean?\n",
    "\n",
    "- what happens if we increase the standard deviation?\n",
    "\n",
    "- for the same standard mean and standard deviation what do you notice when you compare the real data and the simulated data?\n",
    "\n",
    "\n",
    "> This is only one simulation! Everytime you run the cell again it will draw a new set of realizations. Try it!\n"
   ]
  },
  {
   "cell_type": "markdown",
   "metadata": {},
   "source": [
    "Lets look at higher moments of our data and the normal simulation\n",
    "\n",
    "**Skewness**\n",
    "\n",
    "What is the skewness of a normal distrbiution?\n",
    "\n",
    "Does that hold for the simulation? Why not?"
   ]
  },
  {
   "cell_type": "code",
   "execution_count": 9,
   "metadata": {
    "colab": {
     "base_uri": "https://localhost:8080/",
     "height": 34
    },
    "colab_type": "code",
    "executionInfo": {
     "elapsed": 350,
     "status": "ok",
     "timestamp": 1576432688355,
     "user": {
      "displayName": "yuchi yao",
      "photoUrl": "",
      "userId": "00457884373990713813"
     },
     "user_tz": 300
    },
    "id": "gqs4TZSsySSC",
    "outputId": "a5a77eff-6b7c-43f5-bd13-234f7b144e2f"
   },
   "outputs": [
    {
     "data": {
      "text/plain": [
       "[-0.5053783766354294, 0.014337127183258622]"
      ]
     },
     "execution_count": 9,
     "metadata": {},
     "output_type": "execute_result"
    }
   ],
   "source": [
    "\n",
    "\n",
    "[Data.MKT.skew(), X.skew()]\n"
   ]
  },
  {
   "cell_type": "markdown",
   "metadata": {},
   "source": [
    "**Kurtosis**\n",
    "\n",
    "What is the Kurtosis of a normal distribution?\n",
    "\n",
    "Does that hold in our simulation? Why not?"
   ]
  },
  {
   "cell_type": "code",
   "execution_count": 10,
   "metadata": {
    "colab": {
     "base_uri": "https://localhost:8080/",
     "height": 34
    },
    "colab_type": "code",
    "executionInfo": {
     "elapsed": 394,
     "status": "ok",
     "timestamp": 1576432690141,
     "user": {
      "displayName": "yuchi yao",
      "photoUrl": "",
      "userId": "00457884373990713813"
     },
     "user_tz": 300
    },
    "id": "0hSQ_AS8ySSE",
    "outputId": "cb471d74-a003-4633-f60d-5d488391e8de"
   },
   "outputs": [
    {
     "data": {
      "text/plain": [
       "[1.9881305187934846, 0.09665084495406484]"
      ]
     },
     "execution_count": 10,
     "metadata": {},
     "output_type": "execute_result"
    }
   ],
   "source": [
    "\n",
    "[Data.MKT.kurtosis(),X.kurtosis()]\n"
   ]
  },
  {
   "cell_type": "markdown",
   "metadata": {},
   "source": [
    "**Number of Extreme realizations**\n",
    "\n",
    "To evaluate how close a distribution is to the normal distribution we typically look at how many observations in the real data are below a certain number of standard devations of the mean"
   ]
  },
  {
   "cell_type": "code",
   "execution_count": 19,
   "metadata": {
    "colab": {
     "base_uri": "https://localhost:8080/",
     "height": 34
    },
    "colab_type": "code",
    "executionInfo": {
     "elapsed": 348,
     "status": "ok",
     "timestamp": 1576432691933,
     "user": {
      "displayName": "yuchi yao",
      "photoUrl": "",
      "userId": "00457884373990713813"
     },
     "user_tz": 300
    },
    "id": "S8xzIuU8ySSG",
    "outputId": "0b33d855-d36d-4491-f3b8-cdcef12229de"
   },
   "outputs": [
    {
     "name": "stdout",
     "output_type": "stream",
     "text": [
      "probability outcome lower than 4 standard deviations were expected to  0.025880000000000004 in our sample size of 647 months\n",
      "our sample with 647 months had  2 such events\n"
     ]
    }
   ],
   "source": [
    "LargeT=100000\n",
    "X=pd.Series(np.random.normal(mu,std,LargeT))\n",
    "threshold=4\n",
    "# counts for the real data\n",
    "A=((Data.MKT-Data.MKT.mean())<-threshold*Data.MKT.std())\n",
    "# counts for simulated data (which we know it is normal!)\n",
    "B=((X-X.mean())<-threshold*X.std()).sum()\n",
    "\n",
    "print(f'probability outcome lower than {threshold} standard deviations were expected to  {B.sum()/LargeT*T} in our sample size of {T} months')\n",
    "\n",
    "print(f'our sample with {T} months had  {A.sum()} such events')\n",
    "\n",
    "\n"
   ]
  },
  {
   "cell_type": "markdown",
   "metadata": {},
   "source": [
    "We can ask what is the probability that this "
   ]
  },
  {
   "cell_type": "markdown",
   "metadata": {
    "colab_type": "text",
    "id": "2n1f3REEySSO"
   },
   "source": [
    "**Why we might care about deviations from normality?**"
   ]
  },
  {
   "cell_type": "markdown",
   "metadata": {
    "colab_type": "text",
    "id": "9L1hVaRTySSt"
   },
   "source": [
    "\n",
    "For example, if the market has a vol of 20% per year, and if the market return is assumed to be normally distributed, I know that there is about a 2.5% probability that I will loose 40% of my investment by the end of the year!\n",
    "\n",
    "\n"
   ]
  },
  {
   "cell_type": "markdown",
   "metadata": {},
   "source": [
    "## **Excess returns** \n",
    "\n",
    "\n",
    "* It is convenient to decompose the return earned in terms of what you earn due to\n",
    "  1. compensation for waiting (time-value of money)\n",
    "  2. compensation for bearing risk (risk premium)\n",
    " \n",
    "* To do the decomposition, we will do the following:\n",
    "  * We first define an \"<b>excess return</b>\"： the return minus the risk-free rate \n",
    " \n",
    " $$R_i^e=R_i-R_f$$\n",
    " \n",
    "  * We typically use the returns of a 3-month treasury bill to measure $R_f$\n",
    " \n",
    "  * So the excess return of the market is\n",
    "\n",
    "      $$R^e_{MKT}=R_{MKT}-R_f$$\n",
    "\n",
    "  * i.e. how much more I would get if I invested in the market instead of a short-term risk-free U.S. treasury bond\n",
    "\n",
    "  * We call the **Expected difference**, the <b>Risk-Premium</b>\n",
    "\n",
    "      $$E[R_i^e]=E[R_i-R_f]$$\n",
    "\n",
    "  * It is how much more you expect to get by investing in asset $i$ instead of the risk-free asset\n",
    "\n",
    "  * When asset $i$ is the total market portfolio of US equities, we call this, the <b>Equity Risky Premium</b>"
   ]
  },
  {
   "cell_type": "markdown",
   "metadata": {
    "colab_type": "text",
    "id": "ZIHL241HySSj"
   },
   "source": [
    "\n",
    "\n",
    "**The Equity Risky Premium**\n",
    "\n",
    "The expected difference in return earned by investing in the aggreagate stock market portfolio instead of the risk-free rate\n",
    "\n",
    "\n",
    "  $$E[R_{MKT}-R_f]$$\n",
    "\n",
    "One good estimate of it simply uses the sample mean"
   ]
  },
  {
   "cell_type": "code",
   "execution_count": 17,
   "metadata": {
    "colab": {
     "base_uri": "https://localhost:8080/",
     "height": 34
    },
    "colab_type": "code",
    "executionInfo": {
     "elapsed": 426,
     "status": "ok",
     "timestamp": 1576437906903,
     "user": {
      "displayName": "yuchi yao",
      "photoUrl": "",
      "userId": "00457884373990713813"
     },
     "user_tz": 300
    },
    "id": "xKicmafrySSk",
    "outputId": "77e55092-87ce-4d1f-be2d-1857bb62f173"
   },
   "outputs": [
    {
     "data": {
      "text/plain": [
       "0.5140340030911901"
      ]
     },
     "execution_count": 17,
     "metadata": {},
     "output_type": "execute_result"
    }
   ],
   "source": [
    "(Data.MKT-Data.RF).mean()*100"
   ]
  },
  {
   "cell_type": "markdown",
   "metadata": {
    "colab_type": "text",
    "id": "Ssnpl6hMySSo"
   },
   "source": [
    "What does this mean?\n",
    "\n",
    "Lets look at how much money one would have if they had invested 1 dollar in the market and kept reinvesting until the end of our sample\n",
    "\n",
    "lets then compare with an investment in the risk-free rate\n",
    "\n",
    "$$(1+r_1)(1+r_2)....(1+r_T)$$"
   ]
  },
  {
   "cell_type": "code",
   "execution_count": 64,
   "metadata": {
    "colab": {
     "base_uri": "https://localhost:8080/",
     "height": 296
    },
    "colab_type": "code",
    "executionInfo": {
     "elapsed": 563,
     "status": "ok",
     "timestamp": 1576438109907,
     "user": {
      "displayName": "yuchi yao",
      "photoUrl": "",
      "userId": "00457884373990713813"
     },
     "user_tz": 300
    },
    "id": "pKpAJ8ziySSo",
    "outputId": "9d6d473b-386d-45a6-e111-b5567ed8a7ed"
   },
   "outputs": [
    {
     "data": {
      "text/plain": [
       "<matplotlib.axes._subplots.AxesSubplot at 0x272170afd30>"
      ]
     },
     "execution_count": 64,
     "metadata": {},
     "output_type": "execute_result"
    },
    {
     "data": {
      "image/png": "[encoded data removed]",
      "text/plain": [
       "<Figure size 432x288 with 1 Axes>"
      ]
     },
     "metadata": {
      "needs_background": "light"
     },
     "output_type": "display_data"
    }
   ],
   "source": [
    "(1+Data[['RF','MKT']]).cumprod().plot()"
   ]
  },
  {
   "cell_type": "markdown",
   "metadata": {
    "colab_type": "text",
    "id": "PzLose_JySSq"
   },
   "source": [
    "This means that someone that invested 1 dollar in the market in 63, would have 182 dollars today.\n",
    "\n",
    "A tota return of 182/1-1=18,100\\%\n",
    "\n",
    "If you invested in the risk-free rate you would have\n",
    "\n",
    "12.5/1-1= 1,150\\% which is a bit above the inflation in this same period"
   ]
  },
  {
   "cell_type": "code",
   "execution_count": 66,
   "metadata": {
    "colab": {
     "base_uri": "https://localhost:8080/",
     "height": 111
    },
    "colab_type": "code",
    "executionInfo": {
     "elapsed": 355,
     "status": "ok",
     "timestamp": 1576438478238,
     "user": {
      "displayName": "yuchi yao",
      "photoUrl": "",
      "userId": "00457884373990713813"
     },
     "user_tz": 300
    },
    "id": "gbPm1UlhySSr",
    "outputId": "fd6ad9c6-8e6b-44b3-b997-c264babbf025"
   },
   "outputs": [
    {
     "data": {
      "text/plain": [
       "RF      12.472682\n",
       "MKT    181.954557\n",
       "dtype: float64"
      ]
     },
     "execution_count": 66,
     "metadata": {},
     "output_type": "execute_result"
    }
   ],
   "source": [
    "(1+Data[['RF','MKT']]).cumprod().tail(1)\n",
    "(1+Data[['RF','MKT']]).prod()"
   ]
  },
  {
   "cell_type": "markdown",
   "metadata": {},
   "source": [
    "**Why looking at things in terms of Excess returns is important ?**\n",
    "\n",
    "1. All asset returns have both the risk-free component in it and the risk-premium component.\n",
    "\n",
    "1. The risk-free component is directly observed-- for example in dollars it is convention to use the yield on the 3 month US treasury bill\n",
    "\n",
    "     1.  The average risk-free rate of the last 30 years tells you nothing about the risk-less rate today BECAUSE you can directly observe what it is today. It is literally the rate of return that you get for sure if you buy a tbill and hold until maturity (3 months)--and this rate of return is know in advance because we know the final price of the tbill.\n",
    "\n",
    "1. The particular instrument that you use to measure the risk-free rate might vary depending on a variety of complicated considerations\n",
    "\n",
    "     - Is it funded instrument vs not funded (bills vs swaps)\n",
    "     - Accessible to everyone or only some traders (bill vs fed funds)\n",
    "     - Can you borrow at this rate (bills vs your broker lending rate)\n",
    "\n",
    "1. the important point is that at any given moment you know the true risk-free rate. There is no point in estimating it\n",
    "\n",
    "\n",
    "**Trading Interpretation**\n",
    "\n",
    "* Excess returns have a nice trading interpretation.\n",
    "\n",
    "* For example the excess return on the market (portfolio) is\n",
    "\n",
    "$$R^{e,MKT}=R^{MKT}-R^F$$\n",
    "\n",
    "* This is really a portfolio that has weights 1 on the market and -1 on the risk-free rate\n",
    "\n",
    "* This type of portfolio is very important\n",
    "\n",
    "* We call it a \"self-financed portfolio\" or \"zero cost portfolio\"\n",
    "\n",
    "* The key is you are not putting any capital in it because you borrow 1 dollar to invest 1 dollar in the market (or in any other assets)\n",
    "\n",
    "**Practical considerations and frictions** \n",
    "\n",
    "* we will discuss this later, but in practice you always have to put some capital on the trade\n",
    "\n",
    "* some investors don't really need to put much like banks and dealers, but others like retail investors are asked to put much more.And often the amount of capital that you have to put on a \"zero-cost\" trade fluctuates with liquidity conditions (a lot during crises, not much during booms) \n",
    "\n",
    "* These portfolios are nevertheless super useful empirically to understand the data even if in the real world you cannot directly buy the zero cost portfolios without putting capital\n",
    "\n"
   ]
  },
  {
   "cell_type": "markdown",
   "metadata": {},
   "source": [
    "**Covariances**\n",
    "\n",
    "The way to measure this degree of commonality between your portfolio and this particular stock is the covariance\n",
    "\n",
    "\n",
    "$$Cov(R_{i,t},R_{j,t})={\\sum_{t=1}^T\\frac{(R_{i,t}-\\overline{R_{i}})(R_{j,t}-\\overline{R_{j}})}{T}}$$\n",
    "\n",
    "\n",
    "\n",
    "\n",
    "\n"
   ]
  },
  {
   "cell_type": "code",
   "execution_count": null,
   "metadata": {},
   "outputs": [
    {
     "data": {
      "text/html": [
       "<div>\n",
       "<style scoped>\n",
       "    .dataframe tbody tr th:only-of-type {\n",
       "        vertical-align: middle;\n",
       "    }\n",
       "\n",
       "    .dataframe tbody tr th {\n",
       "        vertical-align: top;\n",
       "    }\n",
       "\n",
       "    .dataframe thead th {\n",
       "        text-align: right;\n",
       "    }\n",
       "</style>\n",
       "<table border=\"1\" class=\"dataframe\">\n",
       "  <thead>\n",
       "    <tr style=\"text-align: right;\">\n",
       "      <th></th>\n",
       "      <th>RF</th>\n",
       "      <th>MKT</th>\n",
       "      <th>USA30yearGovBond</th>\n",
       "      <th>EmergingMarkets</th>\n",
       "      <th>WorldxUSA</th>\n",
       "      <th>WorldxUSAGovBond</th>\n",
       "    </tr>\n",
       "    <tr>\n",
       "      <th>Date</th>\n",
       "      <th></th>\n",
       "      <th></th>\n",
       "      <th></th>\n",
       "      <th></th>\n",
       "      <th></th>\n",
       "      <th></th>\n",
       "    </tr>\n",
       "  </thead>\n",
       "  <tbody>\n",
       "    <tr>\n",
       "      <th>1963-02-28</th>\n",
       "      <td>0.0023</td>\n",
       "      <td>-0.0215</td>\n",
       "      <td>-0.001878</td>\n",
       "      <td>0.098222</td>\n",
       "      <td>-0.002773</td>\n",
       "      <td>NaN</td>\n",
       "    </tr>\n",
       "    <tr>\n",
       "      <th>1963-03-31</th>\n",
       "      <td>0.0023</td>\n",
       "      <td>0.0331</td>\n",
       "      <td>0.003342</td>\n",
       "      <td>0.014149</td>\n",
       "      <td>0.000371</td>\n",
       "      <td>0.001913</td>\n",
       "    </tr>\n",
       "    <tr>\n",
       "      <th>1963-04-30</th>\n",
       "      <td>0.0025</td>\n",
       "      <td>0.0476</td>\n",
       "      <td>-0.001843</td>\n",
       "      <td>-0.147055</td>\n",
       "      <td>-0.003336</td>\n",
       "      <td>0.008002</td>\n",
       "    </tr>\n",
       "    <tr>\n",
       "      <th>1963-05-31</th>\n",
       "      <td>0.0024</td>\n",
       "      <td>0.0200</td>\n",
       "      <td>-0.001807</td>\n",
       "      <td>-0.012172</td>\n",
       "      <td>-0.000186</td>\n",
       "      <td>0.004689</td>\n",
       "    </tr>\n",
       "    <tr>\n",
       "      <th>1963-06-30</th>\n",
       "      <td>0.0023</td>\n",
       "      <td>-0.0177</td>\n",
       "      <td>0.001666</td>\n",
       "      <td>-0.055699</td>\n",
       "      <td>-0.011160</td>\n",
       "      <td>0.003139</td>\n",
       "    </tr>\n",
       "  </tbody>\n",
       "</table>\n",
       "</div>"
      ],
      "text/plain": [
       "                RF     MKT  USA30yearGovBond  EmergingMarkets  WorldxUSA  \\\n",
       "Date                                                                       \n",
       "1963-02-28  0.0023 -0.0215         -0.001878         0.098222  -0.002773   \n",
       "1963-03-31  0.0023  0.0331          0.003342         0.014149   0.000371   \n",
       "1963-04-30  0.0025  0.0476         -0.001843        -0.147055  -0.003336   \n",
       "1963-05-31  0.0024  0.0200         -0.001807        -0.012172  -0.000186   \n",
       "1963-06-30  0.0023 -0.0177          0.001666        -0.055699  -0.011160   \n",
       "\n",
       "            WorldxUSAGovBond  \n",
       "Date                          \n",
       "1963-02-28               NaN  \n",
       "1963-03-31          0.001913  \n",
       "1963-04-30          0.008002  \n",
       "1963-05-31          0.004689  \n",
       "1963-06-30          0.003139  "
      ]
     },
     "metadata": {},
     "output_type": "display_data"
    }
   ],
   "source": [
    "#Lets reimport the data set and now keep the other assets\n",
    "Data = pd.read_csv(url,na_values=-99)\n",
    "Data['Date']=pd.to_datetime(Data['Date'])\n",
    "Data=Data.set_index(['Date'])\n",
    "Data.head()"
   ]
  },
  {
   "cell_type": "markdown",
   "metadata": {},
   "source": [
    "\n",
    "The Covariance matrix of a set of stocks is the matrix where cell $(i,j)$ has the covariance between asset $i$ and asset $j$:"
   ]
  },
  {
   "cell_type": "code",
   "execution_count": null,
   "metadata": {},
   "outputs": [
    {
     "data": {
      "text/html": [
       "<div>\n",
       "<style scoped>\n",
       "    .dataframe tbody tr th:only-of-type {\n",
       "        vertical-align: middle;\n",
       "    }\n",
       "\n",
       "    .dataframe tbody tr th {\n",
       "        vertical-align: top;\n",
       "    }\n",
       "\n",
       "    .dataframe thead th {\n",
       "        text-align: right;\n",
       "    }\n",
       "</style>\n",
       "<table border=\"1\" class=\"dataframe\">\n",
       "  <thead>\n",
       "    <tr style=\"text-align: right;\">\n",
       "      <th></th>\n",
       "      <th>MKT</th>\n",
       "      <th>WorldxUSA</th>\n",
       "    </tr>\n",
       "  </thead>\n",
       "  <tbody>\n",
       "    <tr>\n",
       "      <th>MKT</th>\n",
       "      <td>0.001936</td>\n",
       "      <td>0.001255</td>\n",
       "    </tr>\n",
       "    <tr>\n",
       "      <th>WorldxUSA</th>\n",
       "      <td>0.001255</td>\n",
       "      <td>0.002175</td>\n",
       "    </tr>\n",
       "  </tbody>\n",
       "</table>\n",
       "</div>"
      ],
      "text/plain": [
       "                MKT  WorldxUSA\n",
       "MKT        0.001936   0.001255\n",
       "WorldxUSA  0.001255   0.002175"
      ]
     },
     "metadata": {},
     "output_type": "display_data"
    }
   ],
   "source": [
    "# here for two assets\n",
    "Data[['MKT','WorldxUSA']].cov()"
   ]
  },
  {
   "cell_type": "markdown",
   "metadata": {},
   "source": [
    "note that the diagonal cell $(i,i)$ has the covariance between asset $i$ and asset $i$, which is just the variance of asset $i$\n",
    "\n",
    "\n"
   ]
  },
  {
   "cell_type": "markdown",
   "metadata": {},
   "source": [
    "Another way of looking at this is the correlation matrix, which normalizes the covariances by the volatility of each asset:\n",
    "\n",
    "$$Corr(R_{i,t},R_{j,t})={\\frac{Cov(R_{i,t},R_{j,t})}{\\sqrt{Var(R_{i,t})Var(R_{j,t})}}}$$"
   ]
  },
  {
   "cell_type": "code",
   "execution_count": null,
   "metadata": {},
   "outputs": [
    {
     "data": {
      "text/html": [
       "<div>\n",
       "<style scoped>\n",
       "    .dataframe tbody tr th:only-of-type {\n",
       "        vertical-align: middle;\n",
       "    }\n",
       "\n",
       "    .dataframe tbody tr th {\n",
       "        vertical-align: top;\n",
       "    }\n",
       "\n",
       "    .dataframe thead th {\n",
       "        text-align: right;\n",
       "    }\n",
       "</style>\n",
       "<table border=\"1\" class=\"dataframe\">\n",
       "  <thead>\n",
       "    <tr style=\"text-align: right;\">\n",
       "      <th></th>\n",
       "      <th>MKT</th>\n",
       "      <th>WorldxUSA</th>\n",
       "    </tr>\n",
       "  </thead>\n",
       "  <tbody>\n",
       "    <tr>\n",
       "      <th>MKT</th>\n",
       "      <td>1.000000</td>\n",
       "      <td>0.611369</td>\n",
       "    </tr>\n",
       "    <tr>\n",
       "      <th>WorldxUSA</th>\n",
       "      <td>0.611369</td>\n",
       "      <td>1.000000</td>\n",
       "    </tr>\n",
       "  </tbody>\n",
       "</table>\n",
       "</div>"
      ],
      "text/plain": [
       "                MKT  WorldxUSA\n",
       "MKT        1.000000   0.611369\n",
       "WorldxUSA  0.611369   1.000000"
      ]
     },
     "metadata": {},
     "output_type": "display_data"
    }
   ],
   "source": [
    "Data[['MKT','WorldxUSA']].corr()"
   ]
  },
  {
   "cell_type": "markdown",
   "metadata": {},
   "source": [
    "* What is noteworthy about these relationships?\n",
    "\n",
    "* What is safer for an US investor? US bond portfolio or World bond portfolio?\n",
    "\n",
    "* What is safer for an international investor? US bond portfolio or World bond portfolio?\n",
    "\n"
   ]
  },
  {
   "cell_type": "markdown",
   "metadata": {},
   "source": [
    "**What risk should you care about? What stock is risky for you?**\n",
    "\n",
    "\n",
    "1. The great insight from Harry Markowitz was to think of risk in terms of what the stock adds to your portfolio\n",
    "\n",
    "1. Just like meat can be good for you if you are not eating any meat, it is terrible if you are eating a lot of it\n",
    "\n",
    "1. What investors should care about is, just like eaters, their final diet. If a given stock brings a lot of what you already have, it will be bad for you, i.e., risky.\n",
    "\n",
    "1. So volatility is a good gauge of risk at the portfolio level, because it is asking how your whole portfolio behaves, which you obviously should care about. If it goes down a lot, it means you cannot buy stuff!\n",
    "\n",
    "1. But when thinking about a specific stock, it's volatility means very little.\n",
    "\n",
    "1. Unless your entire portfolio is just that stock, you don't really need to bear the stock risk--if you have 1% in a stock and the stock drops to ZERO, that is only 1% in your portfolio, so at most you lose 1%. So whatever volatility this stock might have you SHOULD not perceive the stock as very risky for you.\n",
    "\n",
    "1. As long, of course, your position in the stock remains small.\n",
    "\n",
    "1. Note that if this stock would move together with other pieces of your portfolio then your calculation should be very different. If this stock goes to zero exactly when your other assets are also losing a lot of money, this will feel very risky trade.\n",
    "\n",
    "\n",
    "1. The amount of covariance across stocks will be a key determinant of how much we can hold very volatile stocks without adding much overall risk to our portfolio"
   ]
  }
 ],
 "metadata": {
  "colab": {
   "collapsed_sections": [],
   "name": "Notebook 3.ipynb",
   "provenance": [],
   "toc_visible": true
  },
  "kernelspec": {
   "display_name": "Python 3 (ipykernel)",
   "language": "python",
   "name": "python3"
  },
  "language_info": {
   "codemirror_mode": {
    "name": "ipython",
    "version": 3
   },
   "file_extension": ".py",
   "mimetype": "text/x-python",
   "name": "python",
   "nbconvert_exporter": "python",
   "pygments_lexer": "ipython3",
   "version": "3.9.12"
  },
  "toc-autonumbering": true
 },
 "nbformat": 4,
 "nbformat_minor": 4
}
