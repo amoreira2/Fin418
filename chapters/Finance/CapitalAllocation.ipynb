{
 "cells": [
  {
   "cell_type": "code",
   "execution_count": 36,
   "metadata": {
    "colab": {},
    "colab_type": "code",
    "id": "Tq96XxisQ1ty"
   },
   "outputs": [],
   "source": [
    "import pandas as pd\n",
    "import numpy as np\n",
    "import matplotlib.pyplot as plt\n",
    "%matplotlib inline\n",
    "import wrds\n",
    "import pandas_datareader.data as web\n",
    "\n",
    "def get_factors(factors='CAPM',freq='daily'):   \n",
    "    \n",
    "    if freq=='monthly':\n",
    "        freq_label=''\n",
    "    else:\n",
    "        freq_label='_'+freq\n",
    "\n",
    "\n",
    "    if factors=='CAPM':\n",
    "        fama_french = web.DataReader(\"F-F_Research_Data_Factors\"+freq_label, \"famafrench\",start=\"1921-01-01\")\n",
    "        daily_data = fama_french[0]\n",
    "    \n",
    "     \n",
    "        df_factor = daily_data[['RF','Mkt-RF']] \n",
    "    elif factors=='FF3':\n",
    "        fama_french = web.DataReader(\"F-F_Research_Data_Factors\"+freq_label, \"famafrench\",start=\"1921-01-01\")\n",
    "        daily_data = fama_french[0]\n",
    "\n",
    "        df_factor = daily_data[['RF','Mkt-RF','SMB','HML']]\n",
    "    elif factors=='FF5':\n",
    "\n",
    "        fama_french = web.DataReader(\"F-F_Research_Data_Factors\"+freq_label, \"famafrench\",start=\"1921-01-01\")\n",
    "        daily_data = fama_french[0]\n",
    "\n",
    "        df_factor = daily_data[['RF','Mkt-RF','SMB','HML']]\n",
    "        fama_french2 = web.DataReader(\"F-F_Research_Data_5_Factors_2x3\"+freq_label, \"famafrench\",start=\"1921-01-01\")\n",
    "        daily_data2 = fama_french2[0]\n",
    "\n",
    "        df_factor2 = daily_data2[['RMW','CMA']]\n",
    "        df_factor=df_factor.merge(df_factor2,on='Date',how='outer')    \n",
    "        \n",
    "    else:\n",
    "        fama_french = web.DataReader(\"F-F_Research_Data_Factors\"+freq_label, \"famafrench\",start=\"1921-01-01\")\n",
    "        daily_data = fama_french[0]\n",
    "\n",
    "        df_factor = daily_data[['RF','Mkt-RF','SMB','HML']]\n",
    "        fama_french2 = web.DataReader(\"F-F_Research_Data_5_Factors_2x3\"+freq_label, \"famafrench\",start=\"1921-01-01\")\n",
    "        daily_data2 = fama_french2[0]\n",
    "\n",
    "        df_factor2 = daily_data2[['RMW','CMA']]\n",
    "        df_factor=df_factor.merge(df_factor2,on='Date',how='outer')   \n",
    "        fama_french = web.DataReader(\"F-F_Momentum_Factor\"+freq_label, \"famafrench\",start=\"1921-01-01\")\n",
    "        df_factor=df_factor.merge(fama_french[0],on='Date')\n",
    "        df_factor.columns=['RF','Mkt-RF','SMB','HML','RMW','CMA','MOM']    \n",
    "    if freq=='monthly':\n",
    "        df_factor.index = pd.to_datetime(df_factor.index.to_timestamp())\n",
    "    else:\n",
    "        df_factor.index = pd.to_datetime(df_factor.index)\n",
    "        \n",
    "\n",
    "\n",
    "    return df_factor/100\n"
   ]
  },
  {
   "cell_type": "markdown",
   "metadata": {},
   "source": [
    "\n",
    "# Capital Allocation\n",
    "\n",
    "How should you allocate capital?\n",
    "\n",
    "This question can be decomposed in two:\n",
    "\n",
    "1. How large is my risk portfolio? This comes down to determining how much risk do you want to take\n",
    "2. How will I split this portfolio across assets\n",
    "\n",
    "How to approach these questions depend on whether you are investing as principal (i.e. on your behalf) or as a delegate (a manager in a hedge fund)\n",
    "\n",
    "\n",
    "\n",
    "**1. The Portfolio risk decision**\n",
    "\n",
    "The benefit of risk-taking is the extra expected return you get relative to the risk-free rate. \n",
    "That is true both for a principal and a delegate\n",
    "You wealth is expected to grow faster (either directly or indirectly trough your performance compensation)\n",
    "\n",
    "The cost is the \"risk\". It is important to think exactly what you fear to think about how costly taking on risk is for you\n",
    "\n",
    "**A. Principal**\n",
    "\n",
    "* What do you want to do with the money and when?\n",
    "* How terrible you feel if you have less than you expected\n",
    "* How much joy would you enjoy if you had more\n",
    "* Do you have commitments that you absolutely need to satisfy?\n",
    "    * Minimum retirement income\n",
    "    * Minimum balance in college fund\n",
    "    * Minimum budget for health issues\n",
    "    * Future purchase of a property\n",
    "* Commitments will push you to take less risk if you currently have enough money to fulfill them \n",
    "  * Complete de-risking guarantees you can honor these commitments\n",
    "* We often talk about someone risk-aversion to describe how painful risk-taking is\n",
    "\n",
    "**B. Delegate**\n",
    "\n",
    "*  The delegate certainly has stop loss rule\n",
    "*  If they lose more than that amount they are forced to liquidate their positions and they are likely to be fired\n",
    "*  Such stop loss is particularly biding for new managers\n",
    "*  This stop loss might be explicit:the fund principal literally tells what it is\n",
    "*  But most likely is implicitly--there is a loss that investors will freak out and pull out\n",
    "*  You got to think for yourself and have very clearly what the number is\n",
    "  \n",
    "\n",
    "**Formalizing their problems**  \n",
    "* I think is more useful to think in terms of the one-year ahead looses you are comfortable with. \n",
    "  * F is the CDF of a standard normal, and $F^{-1}$ is it's quantile function\n",
    "  * h is a scalar greater than 1 that adjusts for deviation from the normal. \n",
    "  * For example h=1.5 will mean that a 3 sigma event is as likely as a 3/h=2 sigma event\n",
    "    * It is important to always keep in mind that the normal distribution is just an approximation. \n",
    "    * But better with it, then without it\n",
    "  * You pick a probability, $\\underline{p}$, \n",
    "  * And a maximum loss $\\overline{L}$ for  your portfolio in 1 year\n",
    "\n",
    "$$hF^{-1}(\\underline{p})\\sigma\\geq-\\overline{L}$$\n",
    "\n",
    "Then \n",
    " \n",
    "\n",
    "$$\\sigma\\leq-\\frac{\\overline{L}}{hF^{-1}(\\underline{p})}$$\n",
    "\n",
    "for $\\underline{p}=5 \\%$, $\\overline{L}=30\\%$,h=2 what do we get?\n"
   ]
  },
  {
   "cell_type": "code",
   "execution_count": 37,
   "metadata": {},
   "outputs": [
    {
     "data": {
      "text/plain": [
       "0.09119352478676533"
      ]
     },
     "execution_count": 37,
     "metadata": {},
     "output_type": "execute_result"
    }
   ],
   "source": [
    "from scipy.stats import norm\n",
    "\n",
    "p=0.05\n",
    "h=2\n",
    "L=0.3\n",
    "sigma=-L/(norm.ppf(p)*h)\n",
    "sigma"
   ]
  },
  {
   "cell_type": "markdown",
   "metadata": {},
   "source": [
    "You might want to incorporate your views on the portfolio expected return\n",
    "\n",
    "That is relevant in case your horizons are one year or longer. \n",
    "\n",
    "For horizons that are 1 month or shorter you are safe ignoring the expected value since the volatility totally dominates\n",
    "\n",
    "Now we write the problem as what fraction of your wealth w, you should invest in this portfolio\n",
    "\n",
    "the more you invest, the higher the expected growth $w\\mu+rf$, but also the higher your wealth volatility $x\\sigma$\n",
    "\n",
    "\n",
    "$$w(hF^{-1}(\\underline{p})\\sigma+\\mu)+rf\\geq-\\overline{L}$$\n",
    "\n",
    "to again represent in terms of total vol you choose to take I will rewrite\n",
    "\n",
    "\n",
    "$$w\\sigma(hF^{-1}(\\underline{p})+\\frac{\\mu}{\\sigma})+rf\\geq-\\overline{L}$$\n",
    "\n",
    "Now note that $F^{-1}(\\underline{p})$ is a negative number and $\\frac{\\mu}{\\sigma}$ is positive\n",
    "\n",
    "\n",
    "Lets first assume $hF^{-1}(\\underline{p})+\\frac{\\mu}{\\sigma}<0$ which is the realistic case, unless you are [James Simmons](https://en.wikipedia.org/wiki/Jim_Simons)\n",
    "\n",
    "\n",
    "$$w\\sigma\\leq-\\frac{\\overline{L}+rf}{(hF^{-1}(\\underline{p})+\\frac{\\mu}{\\sigma})}$$\n",
    "\n",
    "- A higher risk-free rate means you can take more vol, since you start from a higher expected baseline\n",
    "  - It is natural to have a real rate here since you probably care about your purchasing power\n",
    "- Sharpe Ratio: We call the ratio of the portfolio expected excess return relative to the portfolio volatility, the Sharpe Ratio\n",
    "\n",
    "$$SR=\\frac{E[r]-rf}{\\sqrt{Var(r)}}=\\frac{E[r^e]}{\\sigma}=\\frac{\\mu}{\\sigma}$$\n",
    "\n",
    "- The higher the Sharpe ratio, the less negative is $hF^{-1}(\\underline{p})+\\frac{\\mu}{\\sigma}$ and the higher is the higher the volatility you choose to take\n",
    "\n",
    "Lets plug some numbers with $rf=1\\%$ and SR=0.4 ( that is the market Sharpe ratio)\n",
    "\n",
    "$$-\\frac{0.3+0.01}{2*(-1.64)+0.4}$$"
   ]
  },
  {
   "cell_type": "code",
   "execution_count": 38,
   "metadata": {},
   "outputs": [
    {
     "name": "stdout",
     "output_type": "stream",
     "text": [
      "0.09423330894632417\n",
      "0.10727730277221074\n",
      "0.13538848665984968\n",
      "-3.2897072539029457\n",
      "2890.3377078699764\n"
     ]
    }
   ],
   "source": [
    "\n",
    "\n",
    "def calculate_sigma(L, h, p,sr,rf):\n",
    "    return -(L+rf) / (h*norm.ppf(p) +sr)\n",
    "\n",
    "\n",
    "\n",
    "\n",
    "# Example usage\n",
    "L = 0.3\n",
    "h = 2\n",
    "p = 0.05\n",
    "rf=0.01\n",
    "sigma = calculate_sigma(L, h, p,0,rf)\n",
    "print(sigma)\n",
    "sigma = calculate_sigma(L, h, p,0.4,rf)\n",
    "print(sigma)\n",
    "sigma = calculate_sigma(L, h, p,1,rf)\n",
    "print(sigma)\n",
    "print(h*norm.ppf(p))\n",
    "sigma = calculate_sigma(L, h, p,3.2896,rf)\n",
    "print(sigma)\n"
   ]
  },
  {
   "cell_type": "markdown",
   "metadata": {},
   "source": [
    "As your SR grows that loss becomes less likely than 5% and the amount of risk that you can take while being 95% sure that you will not lose 30% of your dollars goes to infinity\n",
    "\n",
    "In this case you can simply adjust your confidence probabilities\n",
    "\n"
   ]
  },
  {
   "cell_type": "code",
   "execution_count": 39,
   "metadata": {},
   "outputs": [
    {
     "data": {
      "image/png": "[encoded data removed]",
      "text/plain": [
       "<Figure size 640x480 with 1 Axes>"
      ]
     },
     "metadata": {},
     "output_type": "display_data"
    }
   ],
   "source": [
    "calculate_sigma(L, h, 0.04,3.28,rf)\n",
    "sr_values = np.linspace(0, 3.28, 100)\n",
    "sigma_values = [calculate_sigma(L, h, p, sr, rf) for sr in sr_values]\n",
    "\n",
    "plt.plot(sr_values, sigma_values)\n",
    "plt.yscale('log')\n",
    "plt.xlabel('Sharpe Ratio (SR)')\n",
    "plt.ylabel('Sigma')\n",
    "plt.title('Sigma as a function of Sharpe Ratio')\n",
    "plt.grid(True)\n",
    "plt.show()"
   ]
  },
  {
   "cell_type": "markdown",
   "metadata": {},
   "source": [
    "* Once you Sharpe Ratio is above 3 (as rare as snow in the winter), risk is unlikely to be the limiting factor\n",
    "* Wat before then you hit at capacity constraints for your trade since your wealth will be growing so wildly fast\n",
    "    * For SR=3, your wealth grows at $w\\sigma*\\frac{\\mu}{\\sigma}=1*3=300\\%$ per year!\n",
    "  "
   ]
  },
  {
   "cell_type": "markdown",
   "metadata": {},
   "source": [
    "**2. How to allocate across assets**\n",
    "\n",
    "Implicit in our discussion is that you have some desired portfolio with some Sharpe ratio $SR_p$ and you are deciding how to invest in it. \n",
    "\n",
    "We can already see that having a large Sharpe ratio is a nice thing to have:\n",
    " - Increases the growth of your portfolio per unit of risk\n",
    " - For the same growth , you need to take less risk\n",
    " - Expected growth means you are less likely to have large losses\n",
    "\n",
    "But you have to have in mind two things\n",
    "- There might be stronger  deviations from normality for some trading strategies--for example option based strategies\n",
    "- for some strategies the moments are particularly poorly estimated in short samples--for example option based strategies\n",
    "- Useful to always check the \"realized tail\" of your portfolio in a backtest--more on that soon!\n",
    "\n",
    "How to build a portfolio that maximizes you SR?\n",
    "\n",
    ">**If you know** the vectors of expected excess returns across your assets and their variance covariance matrix the answer is trivial\n",
    "> $$W=w E[R^e]\\Sigma_{R}^{-1} $$\n",
    "> This is the MEAN-VARIANCE EFFICIENT PORTFOLIO associated with moments $E[R^e]$,$\\Sigma_{R}$\n",
    "> - $E[R^e]$ is the vector of  expected excess returns across assets\n",
    "> - $\\Sigma_{R}$ is the FORWARD LOOKING variance-covariance matrix\n",
    ">- w is a scalar that controls the overall volatility of your portfolio, but does not impact the SR\n",
    "\n",
    "**For this portfolio to implement the optimal Sharpe ratio going forward, we need to use the true moments of the FUTURE distribution of returns**\n",
    "\n",
    "This portfolio solves the following problems\n",
    "\n",
    "1. $ \\max_W E[W'R^e_T]-\\gamma Var(W'R^e_T)$, for $w=\\frac{1}{2\\gamma}$\n",
    "2. $ \\max_W E[W'R^e_T]~~~subject~~to~~~Var(W'R^e_T)\\leq Vmax $, for $w=\\sqrt{\\frac{Vmax}{E[R^e]\\Sigma_{R}^{-1}E[R^e]'}}$\n",
    "3. $ \\min_W Var(W'R^e_T)~~~subject~~to~~~E[W'R^e_T]\\geq Emin $, for $w=\\frac{Emin}{E[R^e]\\Sigma_{R}^{-1}E[R^e]'}$\n",
    "\n",
    "\n",
    "Lets apply this to  aninternational portfolio allocation problem\n"
   ]
  },
  {
   "cell_type": "code",
   "execution_count": 40,
   "metadata": {},
   "outputs": [
    {
     "data": {
      "text/html": [
       "<div>\n",
       "<style scoped>\n",
       "    .dataframe tbody tr th:only-of-type {\n",
       "        vertical-align: middle;\n",
       "    }\n",
       "\n",
       "    .dataframe tbody tr th {\n",
       "        vertical-align: top;\n",
       "    }\n",
       "\n",
       "    .dataframe thead th {\n",
       "        text-align: right;\n",
       "    }\n",
       "</style>\n",
       "<table border=\"1\" class=\"dataframe\">\n",
       "  <thead>\n",
       "    <tr style=\"text-align: right;\">\n",
       "      <th></th>\n",
       "      <th>MKT</th>\n",
       "      <th>USA30yearGovBond</th>\n",
       "      <th>EmergingMarkets</th>\n",
       "      <th>WorldxUSA</th>\n",
       "      <th>WorldxUSAGovBond</th>\n",
       "    </tr>\n",
       "    <tr>\n",
       "      <th>Date</th>\n",
       "      <th></th>\n",
       "      <th></th>\n",
       "      <th></th>\n",
       "      <th></th>\n",
       "      <th></th>\n",
       "    </tr>\n",
       "  </thead>\n",
       "  <tbody>\n",
       "    <tr>\n",
       "      <th>1963-02-28</th>\n",
       "      <td>-0.0238</td>\n",
       "      <td>-0.004178</td>\n",
       "      <td>0.095922</td>\n",
       "      <td>-0.005073</td>\n",
       "      <td>NaN</td>\n",
       "    </tr>\n",
       "    <tr>\n",
       "      <th>1963-03-31</th>\n",
       "      <td>0.0308</td>\n",
       "      <td>0.001042</td>\n",
       "      <td>0.011849</td>\n",
       "      <td>-0.001929</td>\n",
       "      <td>-0.000387</td>\n",
       "    </tr>\n",
       "    <tr>\n",
       "      <th>1963-04-30</th>\n",
       "      <td>0.0451</td>\n",
       "      <td>-0.004343</td>\n",
       "      <td>-0.149555</td>\n",
       "      <td>-0.005836</td>\n",
       "      <td>0.005502</td>\n",
       "    </tr>\n",
       "    <tr>\n",
       "      <th>1963-05-31</th>\n",
       "      <td>0.0176</td>\n",
       "      <td>-0.004207</td>\n",
       "      <td>-0.014572</td>\n",
       "      <td>-0.002586</td>\n",
       "      <td>0.002289</td>\n",
       "    </tr>\n",
       "    <tr>\n",
       "      <th>1963-06-30</th>\n",
       "      <td>-0.0200</td>\n",
       "      <td>-0.000634</td>\n",
       "      <td>-0.057999</td>\n",
       "      <td>-0.013460</td>\n",
       "      <td>0.000839</td>\n",
       "    </tr>\n",
       "  </tbody>\n",
       "</table>\n",
       "</div>"
      ],
      "text/plain": [
       "               MKT  USA30yearGovBond  EmergingMarkets  WorldxUSA  \\\n",
       "Date                                                               \n",
       "1963-02-28 -0.0238         -0.004178         0.095922  -0.005073   \n",
       "1963-03-31  0.0308          0.001042         0.011849  -0.001929   \n",
       "1963-04-30  0.0451         -0.004343        -0.149555  -0.005836   \n",
       "1963-05-31  0.0176         -0.004207        -0.014572  -0.002586   \n",
       "1963-06-30 -0.0200         -0.000634        -0.057999  -0.013460   \n",
       "\n",
       "            WorldxUSAGovBond  \n",
       "Date                          \n",
       "1963-02-28               NaN  \n",
       "1963-03-31         -0.000387  \n",
       "1963-04-30          0.005502  \n",
       "1963-05-31          0.002289  \n",
       "1963-06-30          0.000839  "
      ]
     },
     "execution_count": 40,
     "metadata": {},
     "output_type": "execute_result"
    }
   ],
   "source": [
    "url=\"https://raw.githubusercontent.com/amoreira2/Lectures/main/assets/data/GlobalFinMonthly.csv\"\n",
    "Data = pd.read_csv(url,na_values=-99)\n",
    "# tell python Date is date:\n",
    "Data['Date']=pd.to_datetime(Data['Date'])\n",
    "# set an an index\n",
    "Data=Data.set_index(['Date'])\n",
    "Rf=Data['RF']\n",
    "Data=Data.drop(columns=['RF']).subtract(Data['RF'],axis=0)\n",
    "Data.head()"
   ]
  },
  {
   "cell_type": "code",
   "execution_count": 41,
   "metadata": {},
   "outputs": [
    {
     "data": {
      "text/plain": [
       "MKT                 0.005140\n",
       "USA30yearGovBond    0.002523\n",
       "EmergingMarkets     0.006923\n",
       "WorldxUSA           0.004149\n",
       "WorldxUSAGovBond    0.002054\n",
       "dtype: float64"
      ]
     },
     "metadata": {},
     "output_type": "display_data"
    },
    {
     "data": {
      "text/html": [
       "<div>\n",
       "<style scoped>\n",
       "    .dataframe tbody tr th:only-of-type {\n",
       "        vertical-align: middle;\n",
       "    }\n",
       "\n",
       "    .dataframe tbody tr th {\n",
       "        vertical-align: top;\n",
       "    }\n",
       "\n",
       "    .dataframe thead th {\n",
       "        text-align: right;\n",
       "    }\n",
       "</style>\n",
       "<table border=\"1\" class=\"dataframe\">\n",
       "  <thead>\n",
       "    <tr style=\"text-align: right;\">\n",
       "      <th></th>\n",
       "      <th>MKT</th>\n",
       "      <th>USA30yearGovBond</th>\n",
       "      <th>EmergingMarkets</th>\n",
       "      <th>WorldxUSA</th>\n",
       "      <th>WorldxUSAGovBond</th>\n",
       "    </tr>\n",
       "  </thead>\n",
       "  <tbody>\n",
       "    <tr>\n",
       "      <th>MKT</th>\n",
       "      <td>0.001948</td>\n",
       "      <td>0.000111</td>\n",
       "      <td>0.001292</td>\n",
       "      <td>0.001264</td>\n",
       "      <td>0.000187</td>\n",
       "    </tr>\n",
       "    <tr>\n",
       "      <th>USA30yearGovBond</th>\n",
       "      <td>0.000111</td>\n",
       "      <td>0.001227</td>\n",
       "      <td>-0.000204</td>\n",
       "      <td>-0.000013</td>\n",
       "      <td>0.000264</td>\n",
       "    </tr>\n",
       "    <tr>\n",
       "      <th>EmergingMarkets</th>\n",
       "      <td>0.001292</td>\n",
       "      <td>-0.000204</td>\n",
       "      <td>0.003556</td>\n",
       "      <td>0.001661</td>\n",
       "      <td>0.000249</td>\n",
       "    </tr>\n",
       "    <tr>\n",
       "      <th>WorldxUSA</th>\n",
       "      <td>0.001264</td>\n",
       "      <td>-0.000013</td>\n",
       "      <td>0.001661</td>\n",
       "      <td>0.002182</td>\n",
       "      <td>0.000422</td>\n",
       "    </tr>\n",
       "    <tr>\n",
       "      <th>WorldxUSAGovBond</th>\n",
       "      <td>0.000187</td>\n",
       "      <td>0.000264</td>\n",
       "      <td>0.000249</td>\n",
       "      <td>0.000422</td>\n",
       "      <td>0.000407</td>\n",
       "    </tr>\n",
       "  </tbody>\n",
       "</table>\n",
       "</div>"
      ],
      "text/plain": [
       "                       MKT  USA30yearGovBond  EmergingMarkets  WorldxUSA  \\\n",
       "MKT               0.001948          0.000111         0.001292   0.001264   \n",
       "USA30yearGovBond  0.000111          0.001227        -0.000204  -0.000013   \n",
       "EmergingMarkets   0.001292         -0.000204         0.003556   0.001661   \n",
       "WorldxUSA         0.001264         -0.000013         0.001661   0.002182   \n",
       "WorldxUSAGovBond  0.000187          0.000264         0.000249   0.000422   \n",
       "\n",
       "                  WorldxUSAGovBond  \n",
       "MKT                       0.000187  \n",
       "USA30yearGovBond          0.000264  \n",
       "EmergingMarkets           0.000249  \n",
       "WorldxUSA                 0.000422  \n",
       "WorldxUSAGovBond          0.000407  "
      ]
     },
     "metadata": {},
     "output_type": "display_data"
    },
    {
     "data": {
      "text/plain": [
       "array([[ 886.9351877 , -163.1566812 , -133.47716321, -463.61463361,\n",
       "         260.65110274],\n",
       "       [-163.1566812 , 1029.7603189 ,   83.97391735,  201.95839425,\n",
       "        -854.35594033],\n",
       "       [-133.47716321,   83.97391735,  462.95743432, -276.66588761,\n",
       "          10.81093193],\n",
       "       [-463.61463361,  201.95839425, -276.66588761, 1113.82507458,\n",
       "        -904.79801414],\n",
       "       [ 260.65110274, -854.35594033,   10.81093193, -904.79801414,\n",
       "        3826.58967227]])"
      ]
     },
     "metadata": {},
     "output_type": "display_data"
    },
    {
     "data": {
      "text/plain": [
       "array([ 1.83533361,  1.42337262,  1.60522251, -1.02642088,  3.36582305])"
      ]
     },
     "metadata": {},
     "output_type": "display_data"
    }
   ],
   "source": [
    "# lets assume the sample moments are the true moments of the distribution\n",
    "\n",
    "\n",
    "muR=Data.mean()\n",
    "display(muR)\n",
    "SigmaR=Data.cov()\n",
    "display(SigmaR)\n",
    "# this inverts the variance covariance matrix\n",
    "display(np.linalg.inv(SigmaR))\n",
    "W= np.linalg.inv(SigmaR) @ muR\n",
    "display(W)"
   ]
  },
  {
   "cell_type": "markdown",
   "metadata": {},
   "source": [
    ">##### Stop and Think\n",
    ">- Can you check that applying the little w above it will indeed solve problems 2 and 3?\n",
    ">- Can you check that the SR of portfolio w*W is invariant to little w?\n",
    ">- Can you explain mechanically why this is happening?\n",
    "\n",
    "\n",
    "Lets look at the relationship between expected returns and volatility as we vary the size of the portfolio w, while fixing the allocation W"
   ]
  },
  {
   "cell_type": "code",
   "execution_count": 42,
   "metadata": {},
   "outputs": [
    {
     "data": {
      "image/png": "[encoded data removed]",
      "text/plain": [
       "<Figure size 640x480 with 1 Axes>"
      ]
     },
     "metadata": {},
     "output_type": "display_data"
    }
   ],
   "source": [
    "# Define the range of w values\n",
    "w_values = np.linspace(0, 5, 100)\n",
    "\n",
    "# Calculate the portfolio returns and volatilities for each w\n",
    "portfolio_returns = []\n",
    "portfolio_volatilities = []\n",
    "\n",
    "for w in w_values:\n",
    "    weights = w * np.linalg.inv(SigmaR) @ muR\n",
    "    portfolio_return = weights @ muR\n",
    "    portfolio_volatility = np.sqrt(weights @ SigmaR @ weights)\n",
    "    \n",
    "    portfolio_returns.append(portfolio_return)\n",
    "    portfolio_volatilities.append(portfolio_volatility)\n",
    "\n",
    "# Plot the results\n",
    "plt.plot(portfolio_volatilities, portfolio_returns)\n",
    "plt.xlabel('Portfolio Volatility')\n",
    "plt.ylabel('Average Return')\n",
    "plt.title('Average Return vs. Portfolio Volatility')\n",
    "plt.grid(True)\n",
    "plt.show()"
   ]
  },
  {
   "cell_type": "markdown",
   "metadata": {},
   "source": [
    "\n",
    "\n",
    "What does it mean that the relationship between Expected return and volatility is linear?\n",
    "\n",
    "Is that what you expect? Is that true in general as you change portfolio weights?"
   ]
  },
  {
   "cell_type": "markdown",
   "metadata": {},
   "source": [
    "**In reality** knowing the true moments of the return distribution is HARD as we discussed a few classes ago\n",
    "\n",
    "- Here we used the \"In Sample\" means and variances\n",
    "- By construction weight $W=w E[R^e]\\Sigma_{R}^{-1} $ will deliver the Highest in sample Sharpe Ratio. It is just math!\n",
    "- The issue is to what extent these in sample moments are informative about the forward looking moments \n",
    "- See the discussion last class\n",
    "\n",
    "\n",
    "**In reality** your portfolio is not all you care about\n",
    "\n",
    "\n",
    "It is useful to decompose your allocation in terms of \"factor bets\" and \"alpha bets\"\n",
    "\n",
    "We will now focus on the \"alpha\" aspect of allocation and revisit factor allocation once we introduce multi-factor models\n",
    "\n",
    "Most fund managers have tight limits on factor exposures anyways, so factor exposure is more of a consequence of your alpha bets that you need to control rather then a form of investing.\n",
    "\n",
    "\n",
    "Let's say that you identified N trading strategies\n",
    "\n",
    "- You believe their alphas are A (N by 1)\n",
    "- You estimate their factor Betas B (N by 1)\n",
    "- And their idio variance $\\Sigma_{\\epsilon}$, which is diagonal. These are idio bets after you remove the factor exposure\n",
    "- You have a mandate to have zero factor exposure.\n",
    "\n",
    "What is your optimal portfolio ( we are focusing now on the composition, lets put the level of risk aside) ?\n",
    "- What is your allocation on each trading strategy?\n",
    "- Assuming you can trade the factor, how much of it you buy/sell directly?\n",
    "\n",
    "\n",
    "\n",
    "\n",
    "\n",
    "\n",
    "\n",
    "  \n"
   ]
  },
  {
   "cell_type": "markdown",
   "metadata": {},
   "source": [
    "The solution is $w*W$ and $w*W_f$ for any scalar w, where\n",
    "\n",
    "$W=A\\Sigma_{\\epsilon}^{=1}$ \n",
    "\n",
    "$W_f=-W'\\Beta$\n",
    "\n",
    "and you pick w to control the overall volatility of your portfolio and where\n",
    "$$A\\Sigma_{\\epsilon}^{=1}=\\left[\\alpha_1,\\alpha_2,...,\\alpha_N\\right]\\left[\\begin{array}{ccc}\\sigma^2_{\\epsilon,1} & 0 & 0\\\\0 & \\sigma^2_{\\epsilon,i} & 0\\\\0&0&\\sigma^2_{\\epsilon,N}\\end{array}\\right]^{-1}=\\left[\\begin{array}{c}\\frac{\\alpha_1}{\\sigma^2_{\\epsilon,1} }\\\\\\frac{\\alpha_2}{\\sigma^2_{\\epsilon,2} }\\\\...\\\\\\frac{\\alpha_N}{\\sigma^2_{\\epsilon,N} }\\end{array}\\right]$$\n",
    "\n",
    "\n",
    "The fact that all the trading strategies are stripped out of the co-movement leads to a really clean formula\n",
    "\n",
    "You can rewrite in terms of volatility allocations in each strategy\n",
    "\n",
    "$$W_i\\sigma_{\\epsilon,i}=\\frac{\\alpha_i}{\\sigma_{\\epsilon,i}}$$\n",
    "\n",
    "We refer to $\\frac{\\alpha_i}{\\sigma{\\epsilon,i}}$ as the strategy **Appraisal Ratio**. Sometimes people call this the \"information ratio\". It is the \"sharpe ratio\" of the trading strategy striped out of factor exposure\n",
    "\n",
    "- recall that $\\sigma{\\epsilon,i}$ is the volatility of the strategy that is long the asset and short the factor in the optimal hedging \n",
    "\n",
    "$$r^e_i-h^if=\\alpha_i+\\beta_i*f+\\epsilon_i+hf$$\n",
    "\n",
    "so if you set $h=-\\beta_i$\n",
    "\n",
    "$$r^e_i-h^if=\\alpha_i+\\epsilon_i$$\n",
    "\n",
    "and follows that $E[r^e_i-h^if]=\\alpha_i$ and $Var(r^e_i-h^if)=\\sigma_{\\epsilon,i}^2$"
   ]
  },
  {
   "cell_type": "markdown",
   "metadata": {},
   "source": [
    "**Bet sizing under uncertainty**\n",
    "\n",
    "This is the optimal if you are certain of you alphas\n",
    "\n",
    "But of course you don't really know, so the industry developed many Ad-hoc approaches for **bet sizing**\n",
    "\n",
    "**Bet sizing** is one of the great skills in a portfolio manager because it requires instinct for uncertainty \n",
    "\n",
    "The different Approaches (w is a scalar that controls the overall size of the portfolio )\n",
    "\n",
    "- **Mean-variance** rule:\n",
    "  \n",
    "$$W_i=w \\frac{\\alpha_i}{\\sigma_{\\epsilon,i}^2}$$\n",
    "\n",
    "- **1/N** rule: ignore the magnitude of the alpha and simply bet on the direction of your idea\n",
    "\n",
    "$$W_i=\\frac{1}{N}\\left((\\alpha_i>0)-(\\alpha_i<0)\\right)$$\n",
    "\n",
    "  * this is good if you have goo hunches for mispricing, but you don't get the magnitudes quite right\n",
    "\n",
    "- **Proportional** rule: Buy/sell proportional to the alpha\n",
    "\n",
    "$$W_i=w \\alpha_i$$\n",
    "\n",
    "- **Risky-parity** rule: assumes the Appraisal ratio of your different ideas are the same $\\frac{\\mu_i}{\\sigma_i}=\\frac{\\mu_j}{\\sigma_j}$\n",
    "\n",
    "\n",
    "$$W_i=w \\frac{1}{\\sigma_{\\epsilon,i}}$$\n",
    "\n",
    "\n",
    "- **Minimum-Variance** rule: you shrink the variance-covariance matrix towards diagonal\n",
    "\n",
    "$$W_i=w \\frac{1}{\\sigma_{\\epsilon,i}^2}$$\n",
    "\n",
    "  - This assumes alphas are all the same and focus on using the information in the variance matrix to boost the Sharpe ratio\n",
    "  \n",
    "\n",
    "- **Variance shrinkage** rule: you shrink the variance-covariance matrix towards a particular value\n",
    "\n",
    "$$W_i=w \\frac{\\alpha_i}{\\sigma_{\\epsilon,i}^2(1-\\tau)+\\tau\\sigma_{shrink}^2}$$\n",
    "\n",
    "  - where $\\tau\\in[0,1]$ is the shrinkage factor\n",
    "\n",
    "\n",
    "- **Robust-Mean Variance** rule: TBD\n",
    "\n",
    "there are equivalents of those for the case that covariance matrix is not diagonal as well, for example, if you did not impose a factor model or is doing allocation across factors\n",
    "\n",
    "\n",
    "\n",
    "- Mean-Variance: $W=\\mu\\Sigma^{-1}$\n",
    "- Minimum-Variance: $W =1_N\\Sigma^{-1}$\n",
    "- Variance Shrinkage: $W =\\mu(\\Sigma(1-\\tau)+\\tau I\\sigma_{shrink}^2)^{-1}$"
   ]
  },
  {
   "cell_type": "markdown",
   "metadata": {},
   "source": [
    "Some examples you should play with\n",
    "\n",
    "\n",
    "> ### Stop and Practice\n",
    "> Solve for optimal weights, maximum Sharpe ratio\n",
    "> \n",
    "> Target vol of 10% annualized\n",
    ">\n",
    "> 1. same alpha, same betas, same idio vol\n",
    "> 2. different alpha, same beta , same idio vol\n",
    "> 3. same alpha, different betas, same idio vol\n",
    "> 4. same alpha, same betas, different idio vol\n"
   ]
  },
  {
   "cell_type": "code",
   "execution_count": 43,
   "metadata": {},
   "outputs": [],
   "source": [
    "A=np.array([0.3,0.2,0.1,0.05])\n",
    "B=np.array([1,2,0.5,-0.5])\n",
    "Sigmae=np.diag([0.4,0.4,0.4,0.4])**2"
   ]
  },
  {
   "cell_type": "markdown",
   "metadata": {},
   "source": [
    "## Exercise: Investing in characteristic-based factors from the perspective of a CAPM investor\n",
    "\n",
    "In a few classes we will discuss Multi-factor models and the variety of factors that people in the industry use\n",
    "\n",
    "Six factors are particularly popular both in the industry and in the academic community\n",
    "\n",
    "A few of them have ETFS that aim to replicate them, which potentially allow retail investors to get exposure to them cheaply and also industry people to easily hedge their factor exposures. (We will investigate carefully to what extent these ETFs do a good job..coming soon in a theater near you!) \n",
    "\n",
    "For now we will use this data to take the perspective of a \"CAPM-Investor\", i.e. someone that has the market as their risk-factor and see the other factors as non-systematic risk.\n",
    "\n",
    ">#### Alert\n",
    ">This will be stylized in the sense that we will use in sample moments, so we cannot really compare Sharpe ratios\n",
    ">\n",
    ">Why not? Because by construction the Mean-variance will always beat everyone else.\n",
    ">\n",
    ">We use these alternative methods exactly because the in sample moments are often not great guide for the forward looking moments we care about, so a in-sample comparison does not reflect the reality of trading that requires use past information to trade.\n",
    ">\n",
    "> We will later discuss how to make this comparison ( it is not rocket science: divide your sample in estimation and testing samples!)\n",
    "\n",
    "\n",
    "1. We will target Total portfolio with volatility 10%\n",
    "2. We will get the factors and focus on the sample that we have all the factors available\n",
    "3. We will estimate out single-factor models for these factors and build our factor model matrixes\n",
    "4. We will be imposing that the residuals are uncorrelated\n",
    "   1. This is never true in a particular sample\n",
    "   2. If you have a good enough factor model, you impose it because whatever correlation is in the sample is noise (it is testable!)\n",
    "   3. Here this is a toy exercise and these correlations are likely real (for example, mom and HML have shown to be correlated in many different situations)\n",
    "5. We will the apply the different rules"
   ]
  },
  {
   "cell_type": "code",
   "execution_count": 44,
   "metadata": {},
   "outputs": [
    {
     "name": "stderr",
     "output_type": "stream",
     "text": [
      "c:\\Users\\alan.moreira\\Anaconda3\\lib\\site-packages\\pandas_datareader\\famafrench.py:114: FutureWarning: The argument 'date_parser' is deprecated and will be removed in a future version. Please use 'date_format' instead, or read your data in as 'object' dtype and then call 'to_datetime'.\n",
      "  df = read_csv(StringIO(\"Date\" + src[start:]), **params)\n",
      "c:\\Users\\alan.moreira\\Anaconda3\\lib\\site-packages\\pandas_datareader\\famafrench.py:114: FutureWarning: The argument 'date_parser' is deprecated and will be removed in a future version. Please use 'date_format' instead, or read your data in as 'object' dtype and then call 'to_datetime'.\n",
      "  df = read_csv(StringIO(\"Date\" + src[start:]), **params)\n",
      "c:\\Users\\alan.moreira\\Anaconda3\\lib\\site-packages\\pandas_datareader\\famafrench.py:114: FutureWarning: The argument 'date_parser' is deprecated and will be removed in a future version. Please use 'date_format' instead, or read your data in as 'object' dtype and then call 'to_datetime'.\n",
      "  df = read_csv(StringIO(\"Date\" + src[start:]), **params)\n",
      "c:\\Users\\alan.moreira\\Anaconda3\\lib\\site-packages\\pandas_datareader\\famafrench.py:114: FutureWarning: The argument 'date_parser' is deprecated and will be removed in a future version. Please use 'date_format' instead, or read your data in as 'object' dtype and then call 'to_datetime'.\n",
      "  df = read_csv(StringIO(\"Date\" + src[start:]), **params)\n",
      "c:\\Users\\alan.moreira\\Anaconda3\\lib\\site-packages\\pandas_datareader\\famafrench.py:114: FutureWarning: The argument 'date_parser' is deprecated and will be removed in a future version. Please use 'date_format' instead, or read your data in as 'object' dtype and then call 'to_datetime'.\n",
      "  df = read_csv(StringIO(\"Date\" + src[start:]), **params)\n",
      "c:\\Users\\alan.moreira\\Anaconda3\\lib\\site-packages\\pandas_datareader\\famafrench.py:114: FutureWarning: The argument 'date_parser' is deprecated and will be removed in a future version. Please use 'date_format' instead, or read your data in as 'object' dtype and then call 'to_datetime'.\n",
      "  df = read_csv(StringIO(\"Date\" + src[start:]), **params)\n"
     ]
    },
    {
     "data": {
      "text/html": [
       "<div>\n",
       "<style scoped>\n",
       "    .dataframe tbody tr th:only-of-type {\n",
       "        vertical-align: middle;\n",
       "    }\n",
       "\n",
       "    .dataframe tbody tr th {\n",
       "        vertical-align: top;\n",
       "    }\n",
       "\n",
       "    .dataframe thead th {\n",
       "        text-align: right;\n",
       "    }\n",
       "</style>\n",
       "<table border=\"1\" class=\"dataframe\">\n",
       "  <thead>\n",
       "    <tr style=\"text-align: right;\">\n",
       "      <th></th>\n",
       "      <th>RF</th>\n",
       "      <th>Mkt-RF</th>\n",
       "      <th>SMB</th>\n",
       "      <th>HML</th>\n",
       "      <th>RMW</th>\n",
       "      <th>CMA</th>\n",
       "      <th>MOM</th>\n",
       "    </tr>\n",
       "    <tr>\n",
       "      <th>Date</th>\n",
       "      <th></th>\n",
       "      <th></th>\n",
       "      <th></th>\n",
       "      <th></th>\n",
       "      <th></th>\n",
       "      <th></th>\n",
       "      <th></th>\n",
       "    </tr>\n",
       "  </thead>\n",
       "  <tbody>\n",
       "    <tr>\n",
       "      <th>2024-06-01</th>\n",
       "      <td>0.0041</td>\n",
       "      <td>0.0277</td>\n",
       "      <td>-0.0306</td>\n",
       "      <td>-0.0331</td>\n",
       "      <td>0.0051</td>\n",
       "      <td>-0.0178</td>\n",
       "      <td>0.0090</td>\n",
       "    </tr>\n",
       "    <tr>\n",
       "      <th>2024-07-01</th>\n",
       "      <td>0.0045</td>\n",
       "      <td>0.0124</td>\n",
       "      <td>0.0680</td>\n",
       "      <td>0.0574</td>\n",
       "      <td>0.0022</td>\n",
       "      <td>0.0043</td>\n",
       "      <td>-0.0242</td>\n",
       "    </tr>\n",
       "    <tr>\n",
       "      <th>2024-08-01</th>\n",
       "      <td>0.0048</td>\n",
       "      <td>0.0161</td>\n",
       "      <td>-0.0355</td>\n",
       "      <td>-0.0113</td>\n",
       "      <td>0.0085</td>\n",
       "      <td>0.0086</td>\n",
       "      <td>0.0479</td>\n",
       "    </tr>\n",
       "    <tr>\n",
       "      <th>2024-09-01</th>\n",
       "      <td>0.0040</td>\n",
       "      <td>0.0174</td>\n",
       "      <td>-0.0017</td>\n",
       "      <td>-0.0259</td>\n",
       "      <td>0.0004</td>\n",
       "      <td>-0.0026</td>\n",
       "      <td>-0.0061</td>\n",
       "    </tr>\n",
       "    <tr>\n",
       "      <th>2024-10-01</th>\n",
       "      <td>0.0039</td>\n",
       "      <td>-0.0097</td>\n",
       "      <td>-0.0100</td>\n",
       "      <td>0.0089</td>\n",
       "      <td>-0.0140</td>\n",
       "      <td>0.0103</td>\n",
       "      <td>0.0284</td>\n",
       "    </tr>\n",
       "  </tbody>\n",
       "</table>\n",
       "</div>"
      ],
      "text/plain": [
       "                RF  Mkt-RF     SMB     HML     RMW     CMA     MOM\n",
       "Date                                                              \n",
       "2024-06-01  0.0041  0.0277 -0.0306 -0.0331  0.0051 -0.0178  0.0090\n",
       "2024-07-01  0.0045  0.0124  0.0680  0.0574  0.0022  0.0043 -0.0242\n",
       "2024-08-01  0.0048  0.0161 -0.0355 -0.0113  0.0085  0.0086  0.0479\n",
       "2024-09-01  0.0040  0.0174 -0.0017 -0.0259  0.0004 -0.0026 -0.0061\n",
       "2024-10-01  0.0039 -0.0097 -0.0100  0.0089 -0.0140  0.0103  0.0284"
      ]
     },
     "execution_count": 44,
     "metadata": {},
     "output_type": "execute_result"
    }
   ],
   "source": [
    "df_ff6=get_factors('ff6',freq='monthly').dropna()\n",
    "df_ff6.tail()"
   ]
  },
  {
   "cell_type": "code",
   "execution_count": 45,
   "metadata": {},
   "outputs": [
    {
     "name": "stdout",
     "output_type": "stream",
     "text": [
      "Alpha: [0.00565215 0.04340806 0.04082549 0.04305824 0.08436363]\n",
      "Beta: [ 0.20050922 -0.13683445 -0.09207115 -0.16721034 -0.15908574]\n",
      "Sigma_e: [[0.01021508 0.         0.         0.         0.        ]\n",
      " [0.         0.01032402 0.         0.         0.        ]\n",
      " [0.         0.         0.00568877 0.         0.        ]\n",
      " [0.         0.         0.         0.00447947 0.        ]\n",
      " [0.         0.         0.         0.         0.02053454]]\n"
     ]
    }
   ],
   "source": [
    "import statsmodels.api as sm\n",
    "\n",
    "# Define the factors and the market factor\n",
    "factors = ['SMB', 'HML', 'RMW', 'CMA', 'MOM']\n",
    "market_factor = 'Mkt-RF'\n",
    "\n",
    "# Initialize lists to store the results\n",
    "Alpha = []\n",
    "Beta = []\n",
    "residuals = []\n",
    "Alpha_se = []\n",
    "# Run univariate regressions\n",
    "for factor in factors:\n",
    "    X = sm.add_constant(df_ff6[market_factor])\n",
    "    y = df_ff6[factor]\n",
    "    model = sm.OLS(y, X).fit()\n",
    "    Alpha.append(model.params['const'])\n",
    "    Beta.append(model.params[market_factor])\n",
    "    residuals.append(model.resid)\n",
    "\n",
    "# Convert Alpha and Beta to numpy arrays\n",
    "Alpha = np.array(Alpha)\n",
    "Beta = np.array(Beta)\n",
    "\n",
    "# Calculate the variance-covariance matrix of the residuals\n",
    "#under the assumption that the residuals are uncorrelated ( they are not!)\n",
    "\n",
    "residuals_matrix = np.vstack(residuals).T\n",
    "Sigma_e = np.diag(np.diag(np.cov(residuals_matrix.T)))\n",
    "\n",
    "# Display the results\n",
    "print(\"Alpha:\", Alpha*12)\n",
    "print(\"Beta:\", Beta)\n",
    "print(\"Sigma_e:\", Sigma_e*12)"
   ]
  },
  {
   "cell_type": "markdown",
   "metadata": {},
   "source": [
    "Mean Variance\n"
   ]
  },
  {
   "cell_type": "code",
   "execution_count": 46,
   "metadata": {},
   "outputs": [
    {
     "name": "stdout",
     "output_type": "stream",
     "text": [
      "[0.55331369 4.20457037 7.17650844 9.61235121 4.10837625]\n",
      "0\n",
      "0\n",
      "[0. 0. 0. 0. 0.]\n",
      "your volatility is 0\n",
      "Your Appraisal Ratio is 0\n",
      "So your optimal portfolio with market neutral exposure is \n",
      " 0.0 in SMB, 0.0 in HML, 0.0 in RMW, 0.0 in CMA, 0.0 in MOM, and 0 in Mkt-RF\n"
     ]
    }
   ],
   "source": [
    "VolTarget=0.3/12**0.5 # making it monthly as the data\n",
    "W=Alpha@np.linalg.inv(Sigma_e)\n",
    "print(W)\n",
    "# optimal RELATIVE weights, need to calibrate the volatility\n",
    "# compute the variance of the W portoflio\n",
    "VarW=0\n",
    "print(VarW)\n",
    "#adjusting the weights to meet the volatility target\n",
    "w= 0\n",
    "print(w)\n",
    "# Ww is our final weights with the volatility target\n",
    "Ww=w*W\n",
    "# final weights\n",
    "print(Ww)\n",
    "\n",
    "# check vol (must be 30%)\n",
    "\n",
    "vol=0\n",
    "\n",
    "# market exposure\n",
    "\n",
    "Portfolio_beta=0\n",
    "\n",
    "# amount to buy in the market to hedge it completely\n",
    "h=-Portfolio_beta\n",
    "\n",
    "AppraisalRatio=0\n",
    "\n",
    "print(f\"your volatility is {vol}\")\n",
    "print(f\"Your Appraisal Ratio is {AppraisalRatio}\")\n",
    "print(f\"So your optimal portfolio with market neutral exposure is \\n {Ww[0]} in SMB, {Ww[1]} in HML, {Ww[2]} in RMW, {Ww[3]} in CMA, {Ww[4]} in MOM, and {h} in Mkt-RF\")\n",
    "\n"
   ]
  },
  {
   "cell_type": "code",
   "execution_count": 47,
   "metadata": {},
   "outputs": [
    {
     "name": "stdout",
     "output_type": "stream",
     "text": [
      "your volatility is 0\n",
      "So your optimal portfolio with market neutral exposure is \n",
      " 0.0 in SMB, 0.0 in HML, 0.0 in RMW, 0.0 in CMA, 0.0 in MOM, and 0 in Mkt-RF\n",
      "Your Appraisal Ratio is 0\n"
     ]
    }
   ],
   "source": [
    "# lets wrap it up in a function\n",
    "\n",
    "def sizing(W,Alpha,Sigma_e,Beta,VolTarget=0.3/12**0.5):\n",
    "    VarW=0\n",
    "    #adjusting the weights to meet the volatility target\n",
    "    w= 0\n",
    "    Ww=w*W\n",
    "    vol=0\n",
    "    print(f\"your volatility is {vol}\")\n",
    "    Portfolio_beta=0\n",
    "    h=-Portfolio_beta\n",
    "    AppraisalRatio=0\n",
    "    print(f\"So your optimal portfolio with market neutral exposure is \\n {Ww[0]} in SMB, {Ww[1]} in HML, {Ww[2]} in RMW, {Ww[3]} in CMA, {Ww[4]} in MOM, and {h} in Mkt-RF\")\n",
    "    print(f\"Your Appraisal Ratio is {AppraisalRatio}\")\n",
    "    return AppraisalRatio, Ww\n",
    "\n",
    "W=Alpha@np.linalg.inv(Sigma_e)\n",
    "sr_alpha,W_alpha=sizing(W,Alpha,Sigma_e,Beta)"
   ]
  },
  {
   "cell_type": "markdown",
   "metadata": {},
   "source": [
    "1/N rule"
   ]
  },
  {
   "cell_type": "code",
   "execution_count": 48,
   "metadata": {},
   "outputs": [
    {
     "name": "stdout",
     "output_type": "stream",
     "text": [
      "your volatility is 0\n",
      "So your optimal portfolio with market neutral exposure is \n",
      " 0.0 in SMB, 0.0 in HML, 0.0 in RMW, 0.0 in CMA, 0.0 in MOM, and 0 in Mkt-RF\n",
      "Your Appraisal Ratio is 0\n"
     ]
    }
   ],
   "source": [
    "W=np.ones(5)/5\n",
    "sr_alpha,W_alpha=sizing(W,Alpha,Sigma_e,Beta)"
   ]
  },
  {
   "cell_type": "markdown",
   "metadata": {},
   "source": [
    "Proportional rule"
   ]
  },
  {
   "cell_type": "code",
   "execution_count": 49,
   "metadata": {},
   "outputs": [
    {
     "name": "stdout",
     "output_type": "stream",
     "text": [
      "your volatility is 0\n",
      "So your optimal portfolio with market neutral exposure is \n",
      " 0.0 in SMB, 0.0 in HML, 0.0 in RMW, 0.0 in CMA, 0.0 in MOM, and 0 in Mkt-RF\n",
      "Your Appraisal Ratio is 0\n"
     ]
    }
   ],
   "source": [
    "W=Alpha\n",
    "sr_alpha,W_alpha=sizing(W,Alpha,Sigma_e,Beta)"
   ]
  },
  {
   "cell_type": "markdown",
   "metadata": {},
   "source": [
    "Risky Parity rule"
   ]
  },
  {
   "cell_type": "code",
   "execution_count": 50,
   "metadata": {},
   "outputs": [
    {
     "name": "stdout",
     "output_type": "stream",
     "text": [
      "your volatility is 0\n",
      "So your optimal portfolio with market neutral exposure is \n",
      " 0.0 in SMB, 0.0 in HML, 0.0 in RMW, 0.0 in CMA, 0.0 in MOM, and 0 in Mkt-RF\n",
      "Your Appraisal Ratio is 0\n"
     ]
    }
   ],
   "source": [
    "W=np.ones(5)@np.linalg.inv(Sigma_e**0.5)\n",
    "sr_alpha,W_alpha=sizing(W,Alpha,Sigma_e,Beta)"
   ]
  },
  {
   "cell_type": "markdown",
   "metadata": {},
   "source": [
    "Minimum Variance rule"
   ]
  },
  {
   "cell_type": "code",
   "execution_count": 51,
   "metadata": {},
   "outputs": [
    {
     "name": "stdout",
     "output_type": "stream",
     "text": [
      "your volatility is 0\n",
      "So your optimal portfolio with market neutral exposure is \n",
      " 0.0 in SMB, 0.0 in HML, 0.0 in RMW, 0.0 in CMA, 0.0 in MOM, and 0 in Mkt-RF\n",
      "Your Appraisal Ratio is 0\n"
     ]
    }
   ],
   "source": [
    "W=np.ones(5)@np.linalg.inv(Sigma_e)\n",
    "sr_alpha,W_alpha=sizing(W,Alpha,Sigma_e,Beta)"
   ]
  },
  {
   "cell_type": "markdown",
   "metadata": {},
   "source": [
    "Variance Shrinkage rule\n",
    "\n",
    "\n",
    "- I will shrink them to the the average vol\n",
    "- I will shrink by 50%\n",
    "- The idea makes sense when you think the different assets are kind of similar so you think a good chunk of the sample variation is noise"
   ]
  },
  {
   "cell_type": "code",
   "execution_count": 52,
   "metadata": {},
   "outputs": [
    {
     "name": "stdout",
     "output_type": "stream",
     "text": [
      "your volatility is 0\n",
      "So your optimal portfolio with market neutral exposure is \n",
      " 0.0 in SMB, 0.0 in HML, 0.0 in RMW, 0.0 in CMA, 0.0 in MOM, and 0 in Mkt-RF\n",
      "Your Appraisal Ratio is 0\n"
     ]
    },
    {
     "name": "stderr",
     "output_type": "stream",
     "text": [
      "c:\\Users\\alan.moreira\\Anaconda3\\lib\\site-packages\\numpy\\core\\fromnumeric.py:3504: RuntimeWarning: Mean of empty slice.\n",
      "  return _methods._mean(a, axis=axis, dtype=dtype,\n",
      "c:\\Users\\alan.moreira\\Anaconda3\\lib\\site-packages\\numpy\\core\\_methods.py:129: RuntimeWarning: invalid value encountered in scalar divide\n",
      "  ret = ret.dtype.type(ret / rcount)\n"
     ]
    }
   ],
   "source": [
    "tau=0.5\n",
    "sigma_alpha=np.mean(Alpha_se)\n",
    "Sigma=Sigma_e*(1-tau)+tau*np.eye(5)*np.mean(np.diag(Sigma_e))\n",
    "W=Alpha@np.linalg.inv(Sigma)\n",
    "sr_alpha,W_alpha=sizing(W,Alpha,Sigma_e,Beta)"
   ]
  },
  {
   "cell_type": "markdown",
   "metadata": {},
   "source": [
    "**How to Combine the  Hedged portfolio (alpha) and the Market (beta)**\n",
    "\n",
    "- If you see you investment in the factor as simply a financial issue\n",
    "  - you care exclusively about the returns of the portfolio\n",
    "  - Do not care how the factor (i.e. the market) might co-move with your non-financial wealth\n",
    "  \n",
    "- Then it is basically the same as with the alphas...\n",
    "- Recall our formula for the mean-variance efficient weights\n",
    "\n",
    "$$W^*= Var(R^e)^{-1}E[R^e]$$\n",
    "\n",
    "- Now this becomes really simple because the covariance of the new Hedged-MVE strategy is zero with the market\n",
    "\n",
    "$$Var(R^e)=\\left[\\begin{array}{cc} \\sigma^2(R_{MKT}^e) & 0\\\\0 & \\sigma^2(R_{Hedged,i})\\end{array}\\right]$$\n",
    "\n",
    "- So the optimal weights are just\n",
    "\n",
    "$$W^* = \\left[\\begin{array}{c} \\frac{E[R^e_{MKT}]}{\\sigma^2(R_{MKT}^e)} \\\\ \\frac{\\alpha}{\\sigma^2(R_{Hedged,i})}\\end{array}\\right]$$\n",
    "\n",
    "\n",
    "- You invest in each strategy according to the strength of the risk-return trade-off in the strategy\n",
    "\n",
    "- Note that anything that invest proportionally in those two assets will still be tangency, i.e. if $W^*$ is tangency $0.3*W^*$ is tangency as well!\n",
    "\n",
    "- But how much you invest overall will depend on how much risk you want to take\n",
    "\n",
    "- Of course similar uncertainty issues might push you to deviate from this rule!\n",
    "\n",
    "\n",
    "> What is the optimal combination between your alpha combo portfolio and the market?"
   ]
  },
  {
   "cell_type": "code",
   "execution_count": null,
   "metadata": {},
   "outputs": [],
   "source": []
  },
  {
   "cell_type": "markdown",
   "metadata": {},
   "source": [
    "> By how much can you increase your portfolio Sharpe ratio if you combine optimally combine two uncorrelated portfolios? \n",
    "\n",
    "- for any two strategies A and B that have **zero correlation** with each other, you can find the maximum achievable Sharpe Ratio with the simple formula \n",
    "\n",
    "$$SR_{final}=\\sqrt{SR_{A}^2+SR_{B}^2}$$\n",
    "\n",
    "- The Hedged and the market are orthogonal by construction--> we took out any beta exposure the asset might have!\n",
    "\n",
    "\n",
    "$$SR_{final}=\\sqrt{SR_{MKT}^2+SR_{Hedged}^2}$$\n"
   ]
  },
  {
   "cell_type": "markdown",
   "metadata": {},
   "source": []
  },
  {
   "cell_type": "markdown",
   "metadata": {},
   "source": [
    "## The rise of \"pod shops\"\n",
    "\n",
    "\n",
    "Hedge funds used to be associated with Principal traders\n",
    "\n",
    "- George Soros\n",
    "- Julian Robertson\n",
    "- David Tepper\n",
    "- Paul Tudor Jones\n",
    "- Steve Cohen\n",
    "- John Paulson\n",
    "\n",
    "\n",
    "Now we have the rise of Citadel and Millenium among a few others\n",
    "\n",
    "Pod shops are organized totally different\n",
    "\n",
    "Idea generation are done at the pod level in groups of 5-10 people\n",
    "\n",
    "Capital is allocated to the pod by the hedge fund principal, who monitors exposures and hedges residual factor risk\n",
    "\n",
    "Why pod traders work for Citadel and not choose to manager their own fund?\n",
    "\n",
    "**A calculation**\n",
    "\n",
    "Consider a pod shop with N pods with SR sr and total vol $\\sigma$, what is their alpha? What is their SR?\n",
    "\n",
    "\n",
    "$$E[\\sum x^*_ir_i]=E[\\sum \\frac{\\alpha_i}{\\sigma^2_i}\\alpha_i]=N*sr^2$$\n",
    "\n",
    "\n",
    "$$Var[\\sum x^*_ir_i]=Var[\\sum \\frac{\\alpha_i}{\\sigma^2_i}\\epsilon_i]=\\sum (\\frac{\\alpha_i}{\\sigma^2_i})^2Var[\\epsilon_i]$$\n",
    "\n",
    "\n",
    "$$Var[\\sum x^*_ir_i]=\\sum (\\frac{\\alpha_i}{\\sigma^2_i})^2\\sigma^2_i=N sr^2$$\n",
    "\n",
    "so the standard deviation of the pool of pods is \n",
    "\n",
    "$$sr_{pool}=\\frac{Nsr_{pod}^2}{\\sqrt{N}sr_{pod}}=\\sqrt{N}sr_{pod}$$\n",
    "\n",
    "The Sharpe ratio of the pool of pods grows with the number of pods\n",
    "\n",
    "This means that if managed individually, the average pod will accumulate wealth at rate $\\sigma*sr$\n",
    "\n",
    "But if managed in a pool structure, the average pod will accumulate as $\\sqrt{N}\\sigma*sr$\n",
    "\n",
    "find a new uncorrelated idea is super valuable!\n",
    "\n",
    "The marginal change in cash flows are\n",
    "\n",
    "\n",
    "$$\\frac{\\sigma*sr_{pool}}{N}$$\n",
    "\n",
    "- decreases in the number of pods\n",
    "- But always positive--if indeed similar SR and uncorrelated!\n",
    "\n",
    "Note that is Under-estimates the value of the pod structure\n",
    "\n",
    " - The higher your Sharpe ratio, the more volatility you can take without bearing significant risk of loss (wealth jsut grows too quickly)\n",
    "\n",
    "But it also not realistic\n",
    "  - Your marginal pod is likely to be worse or correlated with the others\n",
    "\n",
    "\n",
    "\n"
   ]
  },
  {
   "cell_type": "markdown",
   "metadata": {},
   "source": [
    "## Capital Allocation with Time-varying volatility"
   ]
  },
  {
   "cell_type": "markdown",
   "metadata": {},
   "source": [
    "\n",
    "\n",
    "While detecting alpha/risk-premia variation of a strategy in real time is nearly impossible, we learned a few classes ago that we can detect volatility variation really well.\n",
    "\n",
    "Also keeping the risky profile from changing too much is also very desirable for most managers as you though long and deep about how much vol you want. If volatility spikes it suddenly way more likely that you will hit that loss you are fearful of\n",
    "\n",
    "\n",
    "\n",
    "These ideas together imply that you probably can do better by taking into account the variation in volatility when you size your portfolios.\n",
    "\n",
    ">### Important\n",
    ">The crucial necessary condition for this to work is that there is no time-series relationship between alphas and vols\n",
    ">\n",
    ">$$cov(\\alpha_{i,t},\\sigma^2_{i,t})=0$$\n",
    ">This is key. Might or might not be true. But tends to be true.\n",
    ">This only works if the alpha/premium is positive to begin with\n",
    ">If Sharpe ratio is zero, you can't increase it by managing risk!\n",
    "\n",
    "\n",
    "(here the t subscript denote the distribution of returns for date t+1 as of date t when I make the portfolio allocation)\n",
    "\n",
    "\n",
    "This is true for example in case alpha is constant, or a the very least, you cannot predict variation in it.\n",
    "\n",
    "Then your optimal portfolio allocation becomes $w_i=\\frac{\\alpha_i}{\\sigma_{i,t}^2}$\n",
    "\n",
    "\n",
    "So the Sharpe ratio is\n",
    "\n",
    "$$SR_{\\sigma}=\\frac{E[x_{i,t}r_{i,t+1}]}{\\sqrt{Var(x_{i,t}r_{i,t+1})}}$$\n",
    "\n",
    "\n",
    "\n",
    "$$SR_{\\sigma}=\\frac{E[\\frac{\\alpha_i}{\\sigma_{i,t}^2}r_{i,t+1}]}{\\sqrt{Var(\\frac{\\alpha_i}{\\sigma_{i,t}^2}r_{i,t+1})}}$$\n",
    "\n",
    "\n",
    "After some manipulation it implies\n",
    "\n",
    "$$SR_{\\sigma}=SR\\sqrt{E[\\sigma_{i,t}^2]E\\left[\\frac{1}{\\sigma_{i,t}^2}\\right]}$$\n",
    "\n",
    "In general $SR_{\\sigma}>SR$ because of jensen inequality ($E[F(x)]\\geq F(E[X])$ if F is  convex)\n",
    "\n",
    "to get some clean closed formulas lets assume\n",
    "\n",
    "$\\sigma_{t}^2=\\sigma^2 e^{\\epsilon-\\frac{1}{2}\\sigma^2_{\\sigma}}$, with $\\epsilon\\sim N(0,\\sigma^2_{\\sigma})$\n",
    "\n",
    "which satisfied $E[\\sigma_t]=\\sigma$\n",
    "\n",
    "\n",
    "$$SR_{\\sigma}=SR*e^{\\frac{1}{4}\\sigma^2_{\\sigma}}$$\n",
    "\n",
    "The more volatility variation you can predict, higher $\\sigma_{\\sigma}$, the higher the boost in you Sharpe ratio\n",
    "\n",
    "> ### Note\n",
    ">If Alphas are time-varying but Sharpe ratios are constant, i.e. $\\alpha_{i,t}=k\\sigma_{i,t}$, then the optimal allocation becomes proportion to inverse volatility $w_i=\\frac{\\alpha_i}{\\sigma_{i,t}}$. What do you get in this case?"
   ]
  },
  {
   "cell_type": "markdown",
   "metadata": {},
   "source": [
    "\n",
    "\n",
    "\n",
    "## Volatility managing the market\n",
    "\n",
    "\n",
    "   \n",
    " "
   ]
  },
  {
   "cell_type": "markdown",
   "metadata": {},
   "source": [
    ">ALAN MOREIRA, TYLER MUIR, Volatility-Managed Portfolios, Journal of Finance, August 2017\n",
    "https://doi.org/10.1111/jofi.12513 \n",
    ">\n",
    ">Show that this logic works for the market and many other factors. Since then a huge literature has emerged showing that volatility managing is a great way to boost Sharpe Ratios\n",
    "\n",
    "The construct portfolios\n",
    "\n",
    "$$x_t=c\\frac{E[r^e_{t+1}]}{Var_t(r^e_{t+1})}$$\n",
    "\n",
    "\n",
    "The key is to construct a good measure for $ Var_t(r^e_{t+1})$\n",
    "\n",
    "* there are many things that you can do here (see our discussion in the estimation class)\n",
    "* We will do something simple and use past vol as a proxy for future vol\n",
    "* Of course whether isa good proxy or not depends of how it plays out in the data\n",
    "* But as we saw there is tons of volatility clustering so it is likely a good proxy even if not perfect\n",
    "\n",
    "* Using daily data for month t, construct the market return \"realized variance\" during month t\n",
    "   \n",
    "   $$rv_t=\\sum_{d \\in days~ in ~month ~t}\\frac{(r_d- \\overline{r})^2}{N_{days}},$$\n",
    "   \n",
    " where $\\overline{r}$ is the average return within the month\n",
    "\n",
    "We will need daily data to do this"
   ]
  },
  {
   "cell_type": "code",
   "execution_count": 54,
   "metadata": {},
   "outputs": [
    {
     "name": "stderr",
     "output_type": "stream",
     "text": [
      "c:\\Users\\alan.moreira\\Anaconda3\\lib\\site-packages\\pandas_datareader\\famafrench.py:114: FutureWarning: The argument 'date_parser' is deprecated and will be removed in a future version. Please use 'date_format' instead, or read your data in as 'object' dtype and then call 'to_datetime'.\n",
      "  df = read_csv(StringIO(\"Date\" + src[start:]), **params)\n"
     ]
    }
   ],
   "source": [
    "df_factor = get_factors()\n"
   ]
  },
  {
   "cell_type": "markdown",
   "metadata": {},
   "source": [
    "### **Constructing monthly realized variance from daily data**\n",
    "\n",
    "\n",
    "You basically use pandas time series function that shifts all dates to the end of the month, so this way you are technically grouping by the end of the month day."
   ]
  },
  {
   "cell_type": "markdown",
   "metadata": {},
   "source": [
    "Now  I use groupby `endofmonth` to put  all returns of given \"year-month\" pair together (i.e. with the same date)\n",
    "\n",
    "So I can just compute the variance of this group (say 1/1/2020,1/2/2020,...1/31/2020) will all be 1/31/2020\n",
    "\n",
    "This will return the daily variance in that month\n",
    "\n",
    "If I multiply by the average number of trading days I get the monthly realized variance\n",
    "\n",
    "To be more precise I will simply sum the square deviations of the mean (what this adjusts for?)"
   ]
  },
  {
   "cell_type": "code",
   "execution_count": 55,
   "metadata": {},
   "outputs": [
    {
     "data": {
      "text/html": [
       "<div>\n",
       "<style scoped>\n",
       "    .dataframe tbody tr th:only-of-type {\n",
       "        vertical-align: middle;\n",
       "    }\n",
       "\n",
       "    .dataframe tbody tr th {\n",
       "        vertical-align: top;\n",
       "    }\n",
       "\n",
       "    .dataframe thead th {\n",
       "        text-align: right;\n",
       "    }\n",
       "</style>\n",
       "<table border=\"1\" class=\"dataframe\">\n",
       "  <thead>\n",
       "    <tr style=\"text-align: right;\">\n",
       "      <th></th>\n",
       "      <th>RV</th>\n",
       "    </tr>\n",
       "    <tr>\n",
       "      <th>Date</th>\n",
       "      <th></th>\n",
       "    </tr>\n",
       "  </thead>\n",
       "  <tbody>\n",
       "    <tr>\n",
       "      <th>1926-07-31</th>\n",
       "      <td>0.000492</td>\n",
       "    </tr>\n",
       "    <tr>\n",
       "      <th>1926-08-31</th>\n",
       "      <td>0.000878</td>\n",
       "    </tr>\n",
       "    <tr>\n",
       "      <th>1926-09-30</th>\n",
       "      <td>0.000565</td>\n",
       "    </tr>\n",
       "    <tr>\n",
       "      <th>1926-10-31</th>\n",
       "      <td>0.001689</td>\n",
       "    </tr>\n",
       "    <tr>\n",
       "      <th>1926-11-30</th>\n",
       "      <td>0.000336</td>\n",
       "    </tr>\n",
       "  </tbody>\n",
       "</table>\n",
       "</div>"
      ],
      "text/plain": [
       "                  RV\n",
       "Date                \n",
       "1926-07-31  0.000492\n",
       "1926-08-31  0.000878\n",
       "1926-09-30  0.000565\n",
       "1926-10-31  0.001689\n",
       "1926-11-30  0.000336"
      ]
     },
     "execution_count": 55,
     "metadata": {},
     "output_type": "execute_result"
    },
    {
     "data": {
      "image/png": "[encoded data removed]",
      "text/plain": [
       "<Figure size 640x480 with 1 Axes>"
      ]
     },
     "metadata": {},
     "output_type": "display_data"
    }
   ],
   "source": [
    "from pandas.tseries.offsets import MonthEnd\n",
    "endofmonth=df_factor.index+MonthEnd(0)\n",
    "RV=df_factor[['Mkt-RF']].groupby(endofmonth).apply(lambda x: ((x-x.mean())**2).sum())\n",
    "# rename column to clarify\n",
    "RV=RV.rename(columns={'Mkt-RF':'RV'})\n",
    "RV.plot()\n",
    "RV.head()"
   ]
  },
  {
   "cell_type": "markdown",
   "metadata": {},
   "source": [
    "Note how clustered volatility is\n",
    "\n",
    "If variance was high this month, probably will be high next month too\n",
    "\n",
    "You certainly can do better"
   ]
  },
  {
   "cell_type": "code",
   "execution_count": 56,
   "metadata": {},
   "outputs": [
    {
     "data": {
      "text/plain": [
       "RV        0.002429\n",
       "RF        0.002686\n",
       "Mkt-RF    0.006849\n",
       "RV_lag    0.002431\n",
       "dtype: float64"
      ]
     },
     "execution_count": 56,
     "metadata": {},
     "output_type": "execute_result"
    }
   ],
   "source": [
    "# aggregate daily returns to monthly returns\n",
    "Ret=(1+df_factor).groupby(endofmonth).prod()-1\n",
    "# rename columns to clarify\n",
    "# Merge Ret (monthly return) with RV (realized variance and weights)\n",
    "df=RV.merge(Ret,how='left',left_index=True,right_index=True)\n",
    "# construct excess returns\n",
    "\n",
    "# lag RV by one month\n",
    "df['RV_lag']=df['RV'].shift(1)\n",
    "\n",
    "df.mean()"
   ]
  },
  {
   "cell_type": "code",
   "execution_count": 57,
   "metadata": {},
   "outputs": [
    {
     "name": "stderr",
     "output_type": "stream",
     "text": [
      "C:\\Users\\alan.moreira\\AppData\\Local\\Temp\\ipykernel_17888\\1968402388.py:7: FutureWarning: The default of observed=False is deprecated and will be changed to True in a future version of pandas. Pass observed=False to retain current behavior or observed=True to adopt the future default and silence this warning.\n",
      "  quantile_means = df.groupby('Quantile').mean()\n",
      "C:\\Users\\alan.moreira\\AppData\\Local\\Temp\\ipykernel_17888\\1968402388.py:8: RuntimeWarning: invalid value encountered in scalar power\n",
      "  quantile_means.index = quantile_means.index.map(lambda x: round((x.left*12)**0.5, 2))\n"
     ]
    },
    {
     "data": {
      "image/png": "[encoded data removed]",
      "text/plain": [
       "<Figure size 1000x1200 with 3 Axes>"
      ]
     },
     "metadata": {},
     "output_type": "display_data"
    }
   ],
   "source": [
    "\n",
    "\n",
    "\n",
    "\n",
    "# Create quantile groups based on the RV variable\n",
    "\n",
    "\n",
    "df['Quantile'] = pd.qcut(df['RV_lag'], q=5)\n",
    "\n",
    "# Group by quantile and calculate the mean for each column\n",
    "quantile_means = df.groupby('Quantile').mean()\n",
    "quantile_means.index = quantile_means.index.map(lambda x: round((x.left*12)**0.5, 2))\n",
    "\n",
    "\n",
    "quantile_means ['priceofrisk']=quantile_means['Mkt-RF']/(quantile_means['RV'])\n",
    "\n",
    "\n",
    "# Display the mean of quantiles for each column\n",
    "\n",
    "fig, axs = plt.subplots(3, 1, figsize=(10, 12), sharex=True)\n",
    "((quantile_means.RV*12)**0.5).plot(kind='bar', ax=axs[0])\n",
    "axs[0].set_title('Realized Variance (RV(t+1)) by RV(t) Quantile ')\n",
    "axs[0].set_ylabel('Vol(t+1)')\n",
    "\n",
    "(quantile_means['Mkt-RF']*12).plot(kind='bar', ax=axs[1])\n",
    "axs[1].set_title('Market Excess Return (t+1) by RV(t) Quantile')\n",
    "axs[1].set_ylabel('Mkt-RF')\n",
    "\n",
    "quantile_means.priceofrisk.plot(kind='bar', ax=axs[2])\n",
    "axs[2].set_title('Price of Risk by Quantile by RV(t) Quantile')\n",
    "axs[2].set_ylabel('Price of Risk')\n",
    "axs[2].set_xlabel('Quantile')\n",
    "\n",
    "plt.tight_layout()\n",
    "plt.show()\n"
   ]
  },
  {
   "cell_type": "markdown",
   "metadata": {},
   "source": [
    "We see that following months of high variance--on the right-- you don't really get higher returns\n",
    "\n",
    "if you focus on the ratio -- the price of risk\n",
    "\n",
    "$$E[\\frac{r^e_{t+1}}{RV_{t+1}(r^e)}|RV_t]$$\n",
    "\n",
    "you see that it is massively decreasing with variance\n",
    "\n",
    "Average returns are not constant--**but are close to**-- \n",
    "\n",
    "so the natural strategy to exploit this pattern is to lever up when vol is low and reduce exposure when vol is high."
   ]
  },
  {
   "cell_type": "markdown",
   "metadata": {},
   "source": [
    "Specifically we Buy the market at the closing price of month t according to the rule:\n",
    "   \n",
    "   $$w_t=\\frac{c}{rv_t},$$\n",
    "\n",
    "If W<1, invest in the risk-free rate, if w>1, borrow to fund a bigger position\n",
    "   \n",
    "where $c$ is some constant.\n",
    "   \n",
    "  * Hold the position for a month\n",
    "  \n",
    "  * The returns of the strategy are given by\n",
    "  \n",
    "  \n",
    "\n",
    " \n",
    "  $$ r^{VolTiming}_{t+1}=r_{f,t+1}+\\frac{c}{rv_t}r^{MKT-RF}_{t+1}$$\n",
    "\n"
   ]
  },
  {
   "cell_type": "markdown",
   "metadata": {},
   "source": [
    "### **From signal to weights**"
   ]
  },
  {
   "cell_type": "markdown",
   "metadata": {},
   "source": [
    "* weight on the market:\n",
    "\n",
    "$$x_t=c\\frac{1}{rv_t}$$\n",
    "\n",
    "* weight on the risk-free rate: $1-x_t$\n",
    "\n",
    "* $c$ controls how levered is the strategy on average.\n",
    "\n",
    "* As we saw before all timing strategies involved some in and out of the market, but you also need to determine the average position. That is the role of $c$.\n",
    "\n",
    "* There are many ways to choose c\n",
    "\n",
    "* while c does not impact the strategy Sharpe Ratio, it impacts the amount of leverage that the strategy will take\n",
    "\n",
    "* Here lets keep it simple and simply choose it so that the position on the market is 1 on average\n",
    "\n",
    "$$E[x_t]=E[c\\frac{1}{rv_t}]=1$$\n",
    "\n",
    "implies $c=\\frac{1}{E[\\frac{1}{rv_t}]}$\n"
   ]
  },
  {
   "cell_type": "code",
   "execution_count": 60,
   "metadata": {},
   "outputs": [
    {
     "data": {
      "text/plain": [
       "1.0"
      ]
     },
     "execution_count": 60,
     "metadata": {},
     "output_type": "execute_result"
    },
    {
     "data": {
      "image/png": "[encoded data removed]",
      "text/plain": [
       "<Figure size 640x480 with 1 Axes>"
      ]
     },
     "metadata": {},
     "output_type": "display_data"
    }
   ],
   "source": [
    "\n",
    "df['Weight']=1/df.RV_lag\n",
    "c=1/df['Weight'].mean()\n",
    "df['Weight']=c*df['Weight']\n",
    "df.Weight.plot()\n",
    "df.Weight.mean()"
   ]
  },
  {
   "cell_type": "markdown",
   "metadata": {},
   "source": [
    "You see that leverage gets really high. \n",
    "\n",
    "As high as 10!\n",
    "\n",
    "You can see that in your position in the risk-free rate which exactly mirrors that\n",
    "\n"
   ]
  },
  {
   "cell_type": "code",
   "execution_count": 61,
   "metadata": {},
   "outputs": [
    {
     "data": {
      "image/png": "[encoded data removed]",
      "text/plain": [
       "<Figure size 640x480 with 1 Axes>"
      ]
     },
     "metadata": {},
     "output_type": "display_data"
    }
   ],
   "source": [
    "# plot the weights on the risk-free rate\n",
    "(1-df.Weight).plot()\n",
    "plt.show()"
   ]
  },
  {
   "cell_type": "markdown",
   "metadata": {},
   "source": [
    "### **Construct strategy returns**"
   ]
  },
  {
   "cell_type": "markdown",
   "metadata": {},
   "source": [
    "\n",
    "\n",
    "* Now to construct the strategy return recall that we use the relaized variance in month t to buy the market at the closing of month t and earn the return accrued in month t+1\n",
    "\n",
    "\n",
    "* I will call the strategy as $\\textbf{VMS}$ (Volatility Managed Strategy)"
   ]
  },
  {
   "cell_type": "code",
   "execution_count": 62,
   "metadata": {},
   "outputs": [],
   "source": [
    "# now construct the return of the strategy\n",
    "df['VMS']=df.Weight*df['Mkt-RF']"
   ]
  },
  {
   "cell_type": "markdown",
   "metadata": {},
   "source": [
    "We can see the cumulative returns of the market and the volatility managed strategy"
   ]
  },
  {
   "cell_type": "code",
   "execution_count": 63,
   "metadata": {},
   "outputs": [
    {
     "data": {
      "text/plain": [
       "<Axes: xlabel='Date'>"
      ]
     },
     "execution_count": 63,
     "metadata": {},
     "output_type": "execute_result"
    },
    {
     "data": {
      "image/png": "[encoded data removed]",
      "text/plain": [
       "<Figure size 640x480 with 1 Axes>"
      ]
     },
     "metadata": {},
     "output_type": "display_data"
    }
   ],
   "source": [
    "df[['Mkt-RF','VMS']].add(df['RF']+1,axis=0).cumprod().plot(logy=True)"
   ]
  },
  {
   "cell_type": "markdown",
   "metadata": {},
   "source": [
    "**Sharpe ratio**\n",
    "\n",
    "The VMS strategy ends up with a 20% higher Sharpe Ratio"
   ]
  },
  {
   "cell_type": "code",
   "execution_count": 64,
   "metadata": {},
   "outputs": [
    {
     "data": {
      "text/plain": [
       "Mkt-RF    0.445526\n",
       "VMS       0.514105\n",
       "dtype: float64"
      ]
     },
     "execution_count": 64,
     "metadata": {},
     "output_type": "execute_result"
    }
   ],
   "source": [
    "(df[['Mkt-RF','VMS']].mean()/df[['Mkt-RF','VMS']].std())*12**0.5"
   ]
  },
  {
   "cell_type": "markdown",
   "metadata": {},
   "source": [
    "**Tail risk**\n",
    "\n",
    "The VMS bears substantially less tail risk as well\n",
    "\n",
    "We can look at the the percentile 0.5% of the return distribution"
   ]
  },
  {
   "cell_type": "code",
   "execution_count": 65,
   "metadata": {},
   "outputs": [
    {
     "data": {
      "text/plain": [
       "Mkt-RF   -0.181863\n",
       "VMS      -0.139248\n",
       "Name: 0.005, dtype: float64"
      ]
     },
     "execution_count": 65,
     "metadata": {},
     "output_type": "execute_result"
    }
   ],
   "source": [
    "df[['Mkt-RF','VMS']].quantile(q=0.005)"
   ]
  },
  {
   "cell_type": "markdown",
   "metadata": {},
   "source": [
    "**Things to try**\n",
    "\n",
    "\n",
    "- How well it works with VIX instead of RV?\n",
    "- What If we use a forecasting model to predict variance?\n",
    "- How well it works with standard deviation instead of variance\n",
    "- How well it works if we put leverage limits\n",
    "- How well it works if we combine an expected return signal with the volatility signal?"
   ]
  },
  {
   "cell_type": "code",
   "execution_count": 66,
   "metadata": {
    "vscode": {
     "languageId": "ruby"
    }
   },
   "outputs": [
    {
     "data": {
      "text/plain": [
       "(Mkt-RF               0.445526\n",
       " Mkt-RF_volmanaged    0.514105\n",
       " dtype: float64,\n",
       " Mkt-RF              -0.181863\n",
       " Mkt-RF_volmanaged   -0.139248\n",
       " Name: 0.005, dtype: float64,\n",
       "                  signal    Mkt-RF    Weight  Mkt-RF_volmanaged\n",
       " Date                                                          \n",
       " 1926-07-31          NaN  0.028846       NaN                NaN\n",
       " 1926-08-31  2032.427792  0.026697  1.497461           0.039977\n",
       " 1926-09-30  1138.958151  0.003724  0.839167           0.003125\n",
       " 1926-10-31  1770.057704 -0.033011  1.304151          -0.043051\n",
       " 1926-11-30   592.073883  0.025847  0.436231           0.011275\n",
       " ...                 ...       ...       ...                ...\n",
       " 2024-06-30  1314.346208  0.027796  0.968390           0.026917\n",
       " 2024-07-31  3035.939128  0.011986  2.236833           0.026810\n",
       " 2024-08-31   569.108972  0.015949  0.419311           0.006687\n",
       " 2024-09-30   283.257232  0.017348  0.208700           0.003620\n",
       " 2024-10-31   633.015560 -0.009699  0.466396          -0.004524\n",
       " \n",
       " [1180 rows x 4 columns])"
      ]
     },
     "execution_count": 66,
     "metadata": {},
     "output_type": "execute_result"
    }
   ],
   "source": [
    "def volmanaged(df):\n",
    "    factor=df.name\n",
    "    df=df.dropna()\n",
    "    endofmonth=df.index+MonthEnd(0)\n",
    "\n",
    "    # signal constuctioon\n",
    "    Signal=df.groupby(endofmonth).apply(lambda x: ((x-x.mean())**2).sum())\n",
    "    Signal=1/Signal.shift(1)\n",
    "    Signal.name='signal'\n",
    "\n",
    "    # compute returns for the month\n",
    "    Ret=(1+df).groupby(endofmonth).prod()-1\n",
    "   \n",
    "    # Merge Ret (monthly return) with RV (realized variance and weights)\n",
    "    df=pd.DataFrame(Signal).merge(Ret,how='left',left_index=True,right_index=True)\n",
    "\n",
    "\n",
    "    df['Weight']=df.signal\n",
    "    # Normalize the weight so it is on average 1\n",
    "    df['Weight']=df['Weight']/df['Weight'].mean()\n",
    "    df[factor+'_volmanaged']=df.Weight*df[factor]\n",
    "    # annualized Sharpe ratio\n",
    "    SR=(df[[factor,factor+'_volmanaged']].mean()/df[[factor,factor+'_volmanaged']].std())*12**0.5\n",
    "    # tail risk\n",
    "    TR=df[[factor,factor+'_volmanaged']].quantile(q=0.005)\n",
    "    return SR,TR,df\n",
    "\n",
    "\n",
    "volmanaged(df_factor['Mkt-RF'])    "
   ]
  },
  {
   "cell_type": "markdown",
   "metadata": {},
   "source": [
    "## Takeaways\n",
    "\n",
    "1. Know the maximum loss you can bear--> figure out how much vol you should have in your portfolio\n",
    "2. Portfolio composition is all about the Sharpe Ratio\n",
    "3. Diversification is your friend, estimation uncertainty your mortal enemy\n",
    "4. Many approaches to sizing--but better to keep it simple and iterate relentlessly (more on that next)\n",
    "5. Risk-Management is key\n",
    "   - Hedging out factor exposure enhances you Sharpe Ratio. A safer strategy enables more risk-taking, and more growth\n",
    "   - Dynamic management of risk does the same across time. You take more risk, when compensation is high"
   ]
  }
 ],
 "metadata": {
  "colab": {
   "collapsed_sections": [],
   "provenance": [],
   "toc_visible": true
  },
  "kernelspec": {
   "display_name": "base",
   "language": "python",
   "name": "python3"
  },
  "language_info": {
   "codemirror_mode": {
    "name": "ipython",
    "version": 3
   },
   "file_extension": ".py",
   "mimetype": "text/x-python",
   "name": "python",
   "nbconvert_exporter": "python",
   "pygments_lexer": "ipython3",
   "version": "3.9.19"
  },
  "toc-autonumbering": true
 },
 "nbformat": 4,
 "nbformat_minor": 4
}
