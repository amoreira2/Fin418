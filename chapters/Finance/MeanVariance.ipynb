{
 "cells": [
  {
   "cell_type": "code",
   "execution_count": 50,
   "metadata": {
    "colab": {},
    "colab_type": "code",
    "id": "Tq96XxisQ1ty"
   },
   "outputs": [],
   "source": [
    "import pandas as pd\n",
    "import numpy as np\n",
    "import matplotlib.pyplot as plt\n",
    "%matplotlib inline\n",
    "import wrds\n",
    "import pandas_datareader.data as web\n",
    "\n",
    "def get_factors(factors='CAPM'):   \n",
    "    if factors=='CAPM':\n",
    "        fama_french = web.DataReader(\"F-F_Research_Data_Factors_daily\", \"famafrench\",start=\"1921-01-01\")\n",
    "        daily_data = fama_french[0]\n",
    "        daily_data.index = pd.to_datetime(daily_data.index)\n",
    "        df_factor = daily_data[['RF','Mkt-RF']] \n",
    "    elif factors=='FF3':\n",
    "        fama_french = web.DataReader(\"F-F_Research_Data_Factors_daily\", \"famafrench\",start=\"1921-01-01\")\n",
    "        daily_data = fama_french[0]\n",
    "        daily_data.index = pd.to_datetime(daily_data.index)\n",
    "        df_factor = daily_data[['RF','Mkt-RF','SMB','HML']]\n",
    "    elif factors=='FF5':\n",
    "        fama_french = web.DataReader(\"F-F_Research_Data_5_Factors_2x3_daily\", \"famafrench\",start=\"1921-01-01\")\n",
    "        daily_data = fama_french[0]\n",
    "        daily_data.index = pd.to_datetime(daily_data.index)\n",
    "        df_factor = daily_data[['RF','Mkt-RF','SMB','HML','RMW','CMA']]\n",
    "    else:\n",
    "        fama_french = web.DataReader(\"F-F_Research_Data_5_Factors_2x3_daily\", \"famafrench\",start=\"1921-01-01\")\n",
    "        daily_data = fama_french[0]\n",
    "        daily_data.index = pd.to_datetime(daily_data.index)\n",
    "        df_factor = daily_data[['RF','Mkt-RF','SMB','HML','RMW','CMA']]\n",
    "        fama_french = web.DataReader(\"F-F_Momentum_Factor_daily\", \"famafrench\",start=\"1921-01-01\")\n",
    "        df_factor=df_factor.merge(fama_french[0],on='Date')    \n",
    "\n",
    "    return df_factor/100\n"
   ]
  },
  {
   "cell_type": "markdown",
   "metadata": {},
   "source": [
    "\n",
    "# Capital Allocation\n",
    "\n",
    "How should you allocate capital?\n",
    "\n",
    "This question can be decomposed in two:\n",
    "\n",
    "1. How large is my risk portfolio? This comes down to determining how much risk do you want to take\n",
    "2. How will I split this portfolio across assets\n",
    "\n",
    "How to approach these questions depend on whether you are investing as principal (i.e. on your behalf) or as a delegate (a manager in a hedge fund)\n",
    "\n",
    "\n",
    "\n",
    "**1. The Portfolio risk decision**\n",
    "\n",
    "The benefit of risk-taking is the extra expected return you get relative to the risk-free rate. \n",
    "That is true both for a principal and a delegate\n",
    "You wealth is expected to grow faster (either directly or indirectly trough your performance compensation)\n",
    "\n",
    "The cost is the \"risk\". It is important to think exactly what you fear to think about how costly taking on risk is for you\n",
    "\n",
    "**A. Principal**\n",
    "\n",
    "* What do you want to do with the money and when?\n",
    "* How terrible you feel if you have less than you expected\n",
    "* How much joy would you enjoy if you had more\n",
    "* Do you have commitments that you absolutely need to satisfy?\n",
    "    * Minimum retirement income\n",
    "    * Minimum balance in college fund\n",
    "    * Minimum budget for health issues\n",
    "    * Future purchase of a property\n",
    "* Commitments will push you to take less risk if you currently have enough money to fulfill them \n",
    "  * Complete de-risking guarantees you can honor these commitments\n",
    "* We often talk about someone risk-aversion to describe how painful risk-taking is\n",
    "\n",
    "**B. Delegate**\n",
    "\n",
    "*  The delegate certainly has stop loss rule\n",
    "*  If they lose more than that amount they are forced to liquidate their positions and they are likely to be fired\n",
    "*  Such stop loss is particularly biding for new managers\n",
    "*  This stop loss might be explicit:the fund principal literally tells what it is\n",
    "*  But most likely is implicitly--there is a loss that investors will freak out and pull out\n",
    "*  You got to think for yourself and have very clearly what the number is\n",
    "  \n",
    "\n",
    "**Formalizing their problems**  \n",
    "* I think is more useful to think in terms of the one-year ahead looses you are comfortable with. \n",
    "  * F is the CDF of a standard normal, and $F^{-1}$ is it's quantile function\n",
    "  * h is a scalar greater than 1 that adjusts for deviation from the normal. \n",
    "  * For example h=1.5 will mean that a 3 sigma event is as likely as a 3/h=2 sigma event\n",
    "  * You pick a probability, $\\underline{p}$, \n",
    "  * And a maximum loss $\\overline{L}$ for  your portfolio in 1 year\n",
    "\n",
    "$$hF^{-1}(\\underline{p})\\sigma\\geq-\\overline{L}$$\n",
    "\n",
    "Then \n",
    " \n",
    "\n",
    "$$\\sigma\\leq-\\frac{\\overline{L}}{hF^{-1}(\\underline{p})}$$\n",
    "\n",
    "for $\\underline{p}=5 \\%$, $\\overline{L}=30\\%$,h=2 what do we get?\n"
   ]
  },
  {
   "cell_type": "code",
   "execution_count": 7,
   "metadata": {},
   "outputs": [
    {
     "data": {
      "text/plain": [
       "0.09119352478676533"
      ]
     },
     "execution_count": 7,
     "metadata": {},
     "output_type": "execute_result"
    }
   ],
   "source": [
    "from scipy.stats import norm\n",
    "\n",
    "p=0.05\n",
    "h=2\n",
    "L=0.3\n",
    "sigma=-L/(norm.ppf(p)*h)\n",
    "sigma"
   ]
  },
  {
   "cell_type": "markdown",
   "metadata": {},
   "source": [
    "You might want to incorporate your views on the portfolio expected return\n",
    "\n",
    "That is relevant in case your horizons are one year or longer. \n",
    "\n",
    "For horizons that are 1 month or shorter you are safe ignoring the expected value since the volatility totally dominates\n",
    "\n",
    "Now we write the problem as what fraction of your wealth w, you should invest in this portfolio\n",
    "\n",
    "the mode you invest, the higher the expected growth $w\\mu+rf$, but also the higher your wealth vol $x\\sigma$\n",
    "\n",
    "\n",
    "$$w(hF^{-1}(\\underline{p})\\sigma+\\mu)+rf\\geq-\\overline{L}$$\n",
    "\n",
    "to again represent in terms of total vol you choose to take I will rewrite\n",
    "\n",
    "\n",
    "$$w\\sigma(hF^{-1}(\\underline{p})+\\frac{\\mu}{\\sigma})+rf\\geq-\\overline{L}$$\n",
    "\n",
    "Now note that $F^{-1}(\\underline{p})$ is a negative number and $\\frac{\\mu}{\\sigma}$ is positive\n",
    "\n",
    "\n",
    "Lets first assume $hF^{-1}(\\underline{p})+\\frac{\\mu}{\\sigma}<0$ which is the realistic case\n",
    "\n",
    "\n",
    "$$w\\sigma\\leq-\\frac{\\overline{L}+rf}{(hF^{-1}(\\underline{p})+\\frac{\\mu}{\\sigma})}$$\n",
    "\n",
    "- A higher risk-free rate means you can take more vol, since you start from a higher expected baseline\n",
    "  - It is natural to have a real rate here since you probably care about your purchasing power\n",
    "- Sharpe Ratio: We can the ratio of the portfolio expected excess return, it't risk-premium, relative to the portfolio volatility, the Sharpe Ratio\n",
    "\n",
    "$$SR=\\frac{E[r]-rf}{\\sqrt{Var(r)}}=\\frac{E[r^e]}{\\sigma}=\\frac{\\mu}{\\sigma}$$\n",
    "\n",
    "- The higher the Sharpe ratio, the less negative is $hF^{-1}(\\underline{p})+\\frac{\\mu}{\\sigma}$ and the higher is the higher the volatility you choose to take\n",
    "\n",
    "Lets plug some numbers with $rf=1\\%$ and SR=0.4 ( that is the market Sharpe ratio)\n",
    "\n",
    "$$-\\frac{0.3+0.01}{2*(-1.64)+0.4}$$"
   ]
  },
  {
   "cell_type": "code",
   "execution_count": 35,
   "metadata": {},
   "outputs": [
    {
     "name": "stdout",
     "output_type": "stream",
     "text": [
      "0.09423330894632417\n",
      "0.10727730277221074\n",
      "0.13538848665984968\n",
      "-3.2897072539029457\n",
      "2890.3377078699764\n"
     ]
    }
   ],
   "source": [
    "\n",
    "\n",
    "def calculate_sigma(L, h, p,sr,rf):\n",
    "    return -(L+rf) / (h*norm.ppf(p) +sr)\n",
    "\n",
    "\n",
    "\n",
    "\n",
    "# Example usage\n",
    "L = 0.3\n",
    "h = 2\n",
    "p = 0.05\n",
    "rf=0.01\n",
    "sigma = calculate_sigma(L, h, p,0,rf)\n",
    "print(sigma)\n",
    "sigma = calculate_sigma(L, h, p,0.4,rf)\n",
    "print(sigma)\n",
    "sigma = calculate_sigma(L, h, p,1,rf)\n",
    "print(sigma)\n",
    "print(h*norm.ppf(p))\n",
    "sigma = calculate_sigma(L, h, p,3.2896,rf)\n",
    "print(sigma)\n"
   ]
  },
  {
   "cell_type": "markdown",
   "metadata": {},
   "source": [
    "As your SR grows that loss becomes less likely than 5% and the amount of risk that you can take while being 95% sure that you will not lose 30% of your dollars goes to infinity\n",
    "\n",
    "In this case you can simply adjust your confidence probabilities\n",
    "\n"
   ]
  },
  {
   "cell_type": "code",
   "execution_count": 40,
   "metadata": {},
   "outputs": [
    {
     "data": {
      "image/png": "[encoded data removed]",
      "text/plain": [
       "<Figure size 640x480 with 1 Axes>"
      ]
     },
     "metadata": {},
     "output_type": "display_data"
    }
   ],
   "source": [
    "calculate_sigma(L, h, 0.04,3.28,rf)\n",
    "sr_values = np.linspace(0, 3.28, 100)\n",
    "sigma_values = [calculate_sigma(L, h, p, sr, rf) for sr in sr_values]\n",
    "\n",
    "plt.plot(sr_values, sigma_values)\n",
    "plt.yscale('log')\n",
    "plt.xlabel('Sharpe Ratio (SR)')\n",
    "plt.ylabel('Sigma')\n",
    "plt.title('Sigma as a function of Sharpe Ratio')\n",
    "plt.grid(True)\n",
    "plt.show()"
   ]
  },
  {
   "cell_type": "markdown",
   "metadata": {},
   "source": [
    "* Once you Sharpe Ratio is above 3 (as rare as snow in the winter), risk is unlikely to be the limiting factor\n",
    "* Wat before then you hit at capacity constraints for your trade since your wealth will be growing so wildly fast\n",
    "    * For SR=3, your wealth grows at $w\\sigma*\\frac{\\mu}{\\sigma}=1*3=300\\%$ per year!\n",
    "  "
   ]
  },
  {
   "cell_type": "markdown",
   "metadata": {},
   "source": [
    "**2. How do I allocate across assets**\n",
    "\n",
    "Implicit in our discussion is that you have some desired portfolio with some Sharpe ratio $SR_p$ and you are deciding how to invest in it. \n",
    "\n",
    "We can already see that having a large Sharpe ratio is a nice thing to have:\n",
    " - Increases the growth of your portfolio per unit of risk\n",
    " - For the same growth , you need to take less risk\n",
    " - Expected growth means you are less likely to have large losses\n",
    "\n",
    "How to build a portfolio that maximizes you SR?\n",
    "\n",
    "**IF** you know the vectors of expected excess returns across your assets and their variance covariance matrix the answer is trivial\n",
    "\n",
    "\n",
    "$$W=w E[R^e]\\Sigma_{R}^{-1} $$\n",
    "\n",
    "where\n",
    "\n",
    "- w is a scalar that controls the overall volatility of your portfolio, but does not impact the SR\n",
    "- $E[R^e]$ is the vector of (FORWARD LOOKING) expected excess returns across assets\n",
    "- $\\Sigma_{R}$ is the variance-covariance matrix\n",
    "\n",
    "This portfolio solves the following problems\n",
    "\n",
    "1. $ \\max_W E[W'R^e_T]-\\gamma Var(W'R^e_T)$, for $w=\\frac{1}{2\\gamma}$\n",
    "2. $ \\max_W E[W'R^e_T]~~~subject~~to~~~Var(W'R^e_T)\\leq Vmax $, for $w=\\sqrt{\\frac{Vmax}{E[R^e]\\Sigma_{R}^{-1}E[R^e]'}}$\n",
    "3. $ \\min_W Var(W'R^e_T)~~~subject~~to~~~E[W'R^e_T]\\geq Emin $, for $w=\\frac{Emin}{E[R^e]\\Sigma_{R}^{-1}E[R^e]'}$\n",
    "\n",
    "\n",
    "Lets apply this to the international portfolio we looked at last class\n"
   ]
  },
  {
   "cell_type": "code",
   "execution_count": 43,
   "metadata": {},
   "outputs": [
    {
     "data": {
      "text/html": [
       "<div>\n",
       "<style scoped>\n",
       "    .dataframe tbody tr th:only-of-type {\n",
       "        vertical-align: middle;\n",
       "    }\n",
       "\n",
       "    .dataframe tbody tr th {\n",
       "        vertical-align: top;\n",
       "    }\n",
       "\n",
       "    .dataframe thead th {\n",
       "        text-align: right;\n",
       "    }\n",
       "</style>\n",
       "<table border=\"1\" class=\"dataframe\">\n",
       "  <thead>\n",
       "    <tr style=\"text-align: right;\">\n",
       "      <th></th>\n",
       "      <th>MKT</th>\n",
       "      <th>USA30yearGovBond</th>\n",
       "      <th>EmergingMarkets</th>\n",
       "      <th>WorldxUSA</th>\n",
       "      <th>WorldxUSAGovBond</th>\n",
       "    </tr>\n",
       "    <tr>\n",
       "      <th>Date</th>\n",
       "      <th></th>\n",
       "      <th></th>\n",
       "      <th></th>\n",
       "      <th></th>\n",
       "      <th></th>\n",
       "    </tr>\n",
       "  </thead>\n",
       "  <tbody>\n",
       "    <tr>\n",
       "      <th>1963-02-28</th>\n",
       "      <td>-0.0238</td>\n",
       "      <td>-0.004178</td>\n",
       "      <td>0.095922</td>\n",
       "      <td>-0.005073</td>\n",
       "      <td>NaN</td>\n",
       "    </tr>\n",
       "    <tr>\n",
       "      <th>1963-03-31</th>\n",
       "      <td>0.0308</td>\n",
       "      <td>0.001042</td>\n",
       "      <td>0.011849</td>\n",
       "      <td>-0.001929</td>\n",
       "      <td>-0.000387</td>\n",
       "    </tr>\n",
       "    <tr>\n",
       "      <th>1963-04-30</th>\n",
       "      <td>0.0451</td>\n",
       "      <td>-0.004343</td>\n",
       "      <td>-0.149555</td>\n",
       "      <td>-0.005836</td>\n",
       "      <td>0.005502</td>\n",
       "    </tr>\n",
       "    <tr>\n",
       "      <th>1963-05-31</th>\n",
       "      <td>0.0176</td>\n",
       "      <td>-0.004207</td>\n",
       "      <td>-0.014572</td>\n",
       "      <td>-0.002586</td>\n",
       "      <td>0.002289</td>\n",
       "    </tr>\n",
       "    <tr>\n",
       "      <th>1963-06-30</th>\n",
       "      <td>-0.0200</td>\n",
       "      <td>-0.000634</td>\n",
       "      <td>-0.057999</td>\n",
       "      <td>-0.013460</td>\n",
       "      <td>0.000839</td>\n",
       "    </tr>\n",
       "  </tbody>\n",
       "</table>\n",
       "</div>"
      ],
      "text/plain": [
       "               MKT  USA30yearGovBond  EmergingMarkets  WorldxUSA  \\\n",
       "Date                                                               \n",
       "1963-02-28 -0.0238         -0.004178         0.095922  -0.005073   \n",
       "1963-03-31  0.0308          0.001042         0.011849  -0.001929   \n",
       "1963-04-30  0.0451         -0.004343        -0.149555  -0.005836   \n",
       "1963-05-31  0.0176         -0.004207        -0.014572  -0.002586   \n",
       "1963-06-30 -0.0200         -0.000634        -0.057999  -0.013460   \n",
       "\n",
       "            WorldxUSAGovBond  \n",
       "Date                          \n",
       "1963-02-28               NaN  \n",
       "1963-03-31         -0.000387  \n",
       "1963-04-30          0.005502  \n",
       "1963-05-31          0.002289  \n",
       "1963-06-30          0.000839  "
      ]
     },
     "execution_count": 43,
     "metadata": {},
     "output_type": "execute_result"
    }
   ],
   "source": [
    "url=\"https://raw.githubusercontent.com/amoreira2/Lectures/main/assets/data/GlobalFinMonthly.csv\"\n",
    "Data = pd.read_csv(url,na_values=-99)\n",
    "# tell python Date is date:\n",
    "Data['Date']=pd.to_datetime(Data['Date'])\n",
    "# set an an index\n",
    "Data=Data.set_index(['Date'])\n",
    "Rf=Data['RF']\n",
    "Data=Data.drop(columns=['RF']).subtract(Data['RF'],axis=0)\n",
    "Data.head()"
   ]
  },
  {
   "cell_type": "code",
   "execution_count": 45,
   "metadata": {},
   "outputs": [
    {
     "data": {
      "text/plain": [
       "MKT                 0.005140\n",
       "USA30yearGovBond    0.002523\n",
       "EmergingMarkets     0.006923\n",
       "WorldxUSA           0.004149\n",
       "WorldxUSAGovBond    0.002054\n",
       "dtype: float64"
      ]
     },
     "metadata": {},
     "output_type": "display_data"
    },
    {
     "data": {
      "text/html": [
       "<div>\n",
       "<style scoped>\n",
       "    .dataframe tbody tr th:only-of-type {\n",
       "        vertical-align: middle;\n",
       "    }\n",
       "\n",
       "    .dataframe tbody tr th {\n",
       "        vertical-align: top;\n",
       "    }\n",
       "\n",
       "    .dataframe thead th {\n",
       "        text-align: right;\n",
       "    }\n",
       "</style>\n",
       "<table border=\"1\" class=\"dataframe\">\n",
       "  <thead>\n",
       "    <tr style=\"text-align: right;\">\n",
       "      <th></th>\n",
       "      <th>MKT</th>\n",
       "      <th>USA30yearGovBond</th>\n",
       "      <th>EmergingMarkets</th>\n",
       "      <th>WorldxUSA</th>\n",
       "      <th>WorldxUSAGovBond</th>\n",
       "    </tr>\n",
       "  </thead>\n",
       "  <tbody>\n",
       "    <tr>\n",
       "      <th>MKT</th>\n",
       "      <td>0.001948</td>\n",
       "      <td>0.000111</td>\n",
       "      <td>0.001292</td>\n",
       "      <td>0.001264</td>\n",
       "      <td>0.000187</td>\n",
       "    </tr>\n",
       "    <tr>\n",
       "      <th>USA30yearGovBond</th>\n",
       "      <td>0.000111</td>\n",
       "      <td>0.001227</td>\n",
       "      <td>-0.000204</td>\n",
       "      <td>-0.000013</td>\n",
       "      <td>0.000264</td>\n",
       "    </tr>\n",
       "    <tr>\n",
       "      <th>EmergingMarkets</th>\n",
       "      <td>0.001292</td>\n",
       "      <td>-0.000204</td>\n",
       "      <td>0.003556</td>\n",
       "      <td>0.001661</td>\n",
       "      <td>0.000249</td>\n",
       "    </tr>\n",
       "    <tr>\n",
       "      <th>WorldxUSA</th>\n",
       "      <td>0.001264</td>\n",
       "      <td>-0.000013</td>\n",
       "      <td>0.001661</td>\n",
       "      <td>0.002182</td>\n",
       "      <td>0.000422</td>\n",
       "    </tr>\n",
       "    <tr>\n",
       "      <th>WorldxUSAGovBond</th>\n",
       "      <td>0.000187</td>\n",
       "      <td>0.000264</td>\n",
       "      <td>0.000249</td>\n",
       "      <td>0.000422</td>\n",
       "      <td>0.000407</td>\n",
       "    </tr>\n",
       "  </tbody>\n",
       "</table>\n",
       "</div>"
      ],
      "text/plain": [
       "                       MKT  USA30yearGovBond  EmergingMarkets  WorldxUSA  \\\n",
       "MKT               0.001948          0.000111         0.001292   0.001264   \n",
       "USA30yearGovBond  0.000111          0.001227        -0.000204  -0.000013   \n",
       "EmergingMarkets   0.001292         -0.000204         0.003556   0.001661   \n",
       "WorldxUSA         0.001264         -0.000013         0.001661   0.002182   \n",
       "WorldxUSAGovBond  0.000187          0.000264         0.000249   0.000422   \n",
       "\n",
       "                  WorldxUSAGovBond  \n",
       "MKT                       0.000187  \n",
       "USA30yearGovBond          0.000264  \n",
       "EmergingMarkets           0.000249  \n",
       "WorldxUSA                 0.000422  \n",
       "WorldxUSAGovBond          0.000407  "
      ]
     },
     "metadata": {},
     "output_type": "display_data"
    },
    {
     "data": {
      "text/plain": [
       "array([[ 886.9351877 , -163.1566812 , -133.47716321, -463.61463361,\n",
       "         260.65110274],\n",
       "       [-163.1566812 , 1029.7603189 ,   83.97391735,  201.95839425,\n",
       "        -854.35594033],\n",
       "       [-133.47716321,   83.97391735,  462.95743432, -276.66588761,\n",
       "          10.81093193],\n",
       "       [-463.61463361,  201.95839425, -276.66588761, 1113.82507458,\n",
       "        -904.79801414],\n",
       "       [ 260.65110274, -854.35594033,   10.81093193, -904.79801414,\n",
       "        3826.58967227]])"
      ]
     },
     "metadata": {},
     "output_type": "display_data"
    },
    {
     "data": {
      "text/plain": [
       "array([ 1.83533361,  1.42337262,  1.60522251, -1.02642088,  3.36582305])"
      ]
     },
     "metadata": {},
     "output_type": "display_data"
    }
   ],
   "source": [
    "# lets assume the sample moments are the true moments of the distribution\n",
    "\n",
    "\n",
    "muR=Data.mean()\n",
    "display(muR)\n",
    "SigmaR=Data.cov()\n",
    "display(SigmaR)\n",
    "# this inverts the variance covariance matrix\n",
    "display(np.linalg.inv(SigmaR))\n",
    "W= np.linalg.inv(SigmaR) @ muR\n",
    "display(W)"
   ]
  },
  {
   "cell_type": "markdown",
   "metadata": {},
   "source": [
    "- Can you check that applying the little w above it will indeed solve problems 2 and 3?\n",
    "- Can you check that the SR of portfolio w*W is invariant to little w?\n"
   ]
  },
  {
   "cell_type": "code",
   "execution_count": 46,
   "metadata": {},
   "outputs": [
    {
     "data": {
      "image/png": "[encoded data removed]",
      "text/plain": [
       "<Figure size 640x480 with 1 Axes>"
      ]
     },
     "metadata": {},
     "output_type": "display_data"
    }
   ],
   "source": [
    "# Define the range of w values\n",
    "w_values = np.linspace(0, 5, 100)\n",
    "\n",
    "# Calculate the portfolio returns and volatilities for each w\n",
    "portfolio_returns = []\n",
    "portfolio_volatilities = []\n",
    "\n",
    "for w in w_values:\n",
    "    weights = w * np.linalg.inv(SigmaR) @ muR\n",
    "    portfolio_return = weights @ muR\n",
    "    portfolio_volatility = np.sqrt(weights @ SigmaR @ weights)\n",
    "    \n",
    "    portfolio_returns.append(portfolio_return)\n",
    "    portfolio_volatilities.append(portfolio_volatility)\n",
    "\n",
    "# Plot the results\n",
    "plt.plot(portfolio_volatilities, portfolio_returns)\n",
    "plt.xlabel('Portfolio Volatility')\n",
    "plt.ylabel('Average Return')\n",
    "plt.title('Average Return vs. Portfolio Volatility')\n",
    "plt.grid(True)\n",
    "plt.show()"
   ]
  },
  {
   "cell_type": "markdown",
   "metadata": {},
   "source": [
    "What does it mean that the relationship between Expected return and volatility is linear?\n",
    "\n",
    "Is that what you expect? Is that true in general as you change portfolio weights?"
   ]
  },
  {
   "cell_type": "markdown",
   "metadata": {},
   "source": [
    "**In reality** knowing the true moments of the return distribution is HARD as we discussed a few classes ago\n",
    "\n",
    "**In reality** your portfolio is not all you care about\n",
    "\n",
    "\n",
    "It is useful to decompose your allocation in terms of \"factor bets\" and \"alpha bets\"\n",
    "\n",
    "\n",
    "We will now focus on the \"alpha\" aspect of allocation and revisit factor allocation once we introduce multi-factor models\n",
    "\n",
    "Most fund managers have tight limits on factor exposures anyways, so factor exposure is more of a consequence of your alpha bets that you need to control rather then a form of investing.\n",
    "\n",
    "\n",
    "Let's say that you identified N trading strategies\n",
    "\n",
    "- You believe their alphas are A (N by 1)\n",
    "- You estimate their factor Betas B (N by 1)\n",
    "- And their idio variance $\\Sigma_{\\epsilon}$, which is diagonal. These are idio bets after you remove the factor exposure\n",
    "- You have a mandate to have zero factor exposure.\n",
    "\n",
    "What is your optimal portfolio ( we are focusing now on the composition, lets put the level of risk aside) ?\n",
    "- What is your allocation on each trading strategy?\n",
    "- Assuming you can trade the factor, how much of it you buy/sell directly?\n",
    "\n",
    "\n",
    "Examples:\n",
    "\n",
    "same alpha, same betas, same idio\n",
    "\n",
    "\n",
    "differnt alpha, same beta , same indio\n",
    "\n",
    "\n",
    "same alpha, different betas, same idio\n",
    "\n",
    "\n",
    "\n",
    "\n",
    "  \n"
   ]
  },
  {
   "cell_type": "code",
   "execution_count": null,
   "metadata": {},
   "outputs": [],
   "source": [
    "A=np.arrary([0.3,0.2,0.1,0.05])\n",
    "B=np.array([1,2,0.5,-0.5])\n",
    "Sigmae=np.diag([0.4,0.4,0.4,0.4])**2"
   ]
  },
  {
   "cell_type": "markdown",
   "metadata": {},
   "source": [
    "The solution is $w*W$ and $w*W_f$ for any scalar w, where\n",
    "\n",
    "$W=A\\Sigma_{\\epsilon}^{=1}$ \n",
    "\n",
    "$W_f=-W'\\Beta$\n",
    "\n",
    "where \n",
    "\n",
    "$$A\\Sigma_{\\epsilon}^{=1}=\\left[\\alpha_1,\\alpha_2,...,\\alpha_N\\right]\\left[\\begin{array}{ccc}\\sigma^2_{\\epsilon,1} & 0 & 0\\\\0 & \\sigma^2_{\\epsilon,i} & 0\\\\0&0&\\sigma^2_{\\epsilon,N}\\end{array}\\right]^{-1}=\\left[\\begin{array}{c}\\frac{\\alpha_1}{\\sigma^2_{\\epsilon,1} }\\\\\\frac{\\alpha_2}{\\sigma^2_{\\epsilon,2} }\\\\...\\\\\\frac{\\alpha_N}{\\sigma^2_{\\epsilon,N} }\\end{array}\\right]$$\n",
    "\n",
    "\n",
    "The fact that all the trading strategies are stripped out of the co-movement leads to a really clean formula\n",
    "\n",
    "You can rewrite in terms of volatility allocations in each strategy\n",
    "\n",
    "$$W_i\\sigma_{\\epsilon,i}=\\frac{\\alpha_i}{\\sigma_{\\epsilon,i}}$$\n",
    "\n",
    "We refer to $\\frac{\\alpha_i}{\\sigma{\\epsilon,i}}$ as the strategy **Appraisal Ratio**. Sometimes people call this the \"information ratio\". It is the \"sharpe ratio\" of the trading strategy striped out of factor exposure\n",
    "\n",
    "- recall that $\\sigma{\\epsilon,i}$ is the volatility of the strategy that is long the asset and short the factor in the optimal hedging \n",
    "\n",
    "$$r^e_i-h^if=\\alpha_i+\\beta_i*f+\\epsilon_i+hf$$\n",
    "\n",
    "so if you set $h=-\\beta_i$\n",
    "\n",
    "$$r^e_i-h^if=\\alpha_i+\\epsilon_i$$\n",
    "\n",
    "and follows that $E[r^e_i-h^if]=\\alpha_i$ and $Var(r^e_i-h^if)=\\sigma_{\\epsilon,i}^2$"
   ]
  },
  {
   "cell_type": "markdown",
   "metadata": {},
   "source": []
  },
  {
   "cell_type": "markdown",
   "metadata": {},
   "source": [
    "This is the optimal if you are certain of you alphas\n",
    "\n",
    "But of course you don't really know, so the industry developed many Ad-hoc approaches for **bet sizing**\n",
    "\n",
    "**Bet sizing** is one of the great skills in a portfolio manager because it requires instinct for uncertainty \n",
    "\n",
    "The different Approaches (w is a scalar that controls the overall size of the portfolio )\n",
    "\n",
    "- **Mean-variance** rule:\n",
    "  \n",
    "$$W_i=w \\frac{\\alpha_i}{\\sigma_{\\epsilon,i}^2}$$\n",
    "\n",
    "- **1/N* rule: ignore the magnitude of the alpha and simply bet on the direction of your idea\n",
    "\n",
    "$$W_i=\\frac{1}{N}\\left((\\alpha_i>0)-(\\alpha_i<0)\\right)$$\n",
    "\n",
    "  * this is good if you have goo hunches for mispricing, but you don't get the magnitudes quite right\n",
    "\n",
    "- **Proportional** rule: Buy/sell proportional to the alpha\n",
    "\n",
    "$$W_i=w \\alpha_i$$\n",
    "\n",
    "- **Risky-parity** rule: assumes the Appraisal ratio of your different ideas are the same $\\frac{\\mu_i}{\\sigma_i}=\\frac{\\mu_j}{\\sigma_j}$\n",
    "\n",
    "\n",
    "$$W_i=w \\frac{1}{\\sigma_{\\epsilon,i}}$$\n",
    "\n",
    "- **Variance shrinkage** rule: you shrink the variance-covariance matrix towards diagonal\n",
    "\n",
    "$$W_i=w (\\alpha_i>0)\\frac{\\mu^{+}_{\\alpha}}{\\sigma_{\\epsilon,i}^2+\\sigma_{\\alpha}^2}+(\\alpha_i<0)\\frac{\\mu^{-}_{\\alpha}}{\\sigma_{\\epsilon,i}^2+\\sigma_{\\alpha}^2}$$\n",
    "\n",
    "  - where $\\tau$ is the shrinkage factor. \n",
    "  - $\\mu^{+}_{\\alpha}>0$ is your expected average alpha for you long ideas\n",
    "  - $\\mu^{-}_{\\alpha}<0$ is your expected average alpha for you shirt ideas\n",
    "  - As we grow $\\tau$, our portfolio converges to the 1/N rule. \n",
    "  \n"
   ]
  },
  {
   "cell_type": "markdown",
   "metadata": {},
   "source": [
    "**Shrinkage** is a very popular technique and also the lest ad-hoc of the different approaches so it work discussing a bit\n",
    "\n",
    "The fundamental issue that the mean-variance problem does not deal with is that we are actually quite uncertain about the alphas, but the methods assumes complete certitude\n",
    "\n",
    "\n",
    "In mathematical terms the MV problem assumes $A$ is a know constant when in fact it is more like a distribution:\n",
    "\n",
    "$$A\\sim N(\\mu_{\\alpha}I,\\sigma^2_{\\alpha}I)$$\n",
    "\n",
    "where $\\mu_{\\alpha}$ is the expected value . Here we are focused on a manager only with long ideas. The short book is analogous\n",
    "\n",
    "One could also write $$A\\sim N(\\mu_{\\alpha}I,\\sigma^2_{\\alpha}1_{NxN})$$\n",
    "\n",
    "Capturing the idea that there is co-movement in your alpha-judgment\n",
    "\n",
    "Now his/her problem is (I will use the mean-variance problem case but the two other problems have similar solution)\n",
    "\n",
    "\n",
    "$$ \\max_W E[W'R^e_T]-\\gamma Var(W'R^e_T)$$\n",
    "\n",
    "$$ \\max_W E[W'(A+Bf+U)]-\\gamma Var(W'(A+Bf+U))$$\n",
    "\n",
    "Here I will assume $E[f]=0$, so we can simply write the portfolio allocation problem of the **hedged portfolios**\n",
    "\n",
    "\n",
    "$$ \\max_W E[W'(A+U)]-\\gamma Var(W'(A+U))$$\n",
    "\n",
    "$$ \\max_W E[W'A]-\\gamma \\left(WVar(A)W'+WVar(U)W'\\right)$$\n",
    "\n",
    "$$\\max_W W'I\\mu_{\\alpha}-\\gamma \\left(WIW'\\sigma^2_{\\alpha}+W\\Sigma_{\\epsilon}W'\\right)$$\n",
    "\n",
    "\n",
    "The Optimality condition for this problem is\n",
    "\n",
    "\n",
    "$$I\\mu_{\\alpha}-2\\gamma \\left(\\sigma^2_{\\alpha}+\\Sigma_{\\epsilon}\\right)W'$$\n",
    "\n",
    "Reorganizing\n",
    "\n",
    "$$W=\\frac{1}{2\\gamma}\\mu_{\\alpha}\\left(I\\sigma^2_{\\alpha}+\\Sigma_{\\epsilon}\\right)^{-1}$$\n",
    "\n",
    "In this case where there is no co-movement, the approach ignores alpha information of each idea (you use $\\mu_{\\alpha}$ for all) and you \"noise up\" the returns by $\\sigma^2_{\\alpha}$\n",
    "\n",
    "In case of co-movement , then we have\n",
    "\n",
    "\n",
    "$$W=\\frac{1}{2\\gamma}\\mu_{\\alpha}\\left(1\\sigma^2_{\\alpha}+\\Sigma_{\\epsilon}\\right)^{-1}$$\n",
    "\n",
    "\n",
    "Lets get to work\n",
    "\n",
    "- Total portfolio with volatility 30%\n",
    "- vector of alphas [0.3,0.2,0.1,0.1]\n",
    "- idio vol 0.2\n",
    "- sigma alpha 0.05\n",
    "- mu alpha 0.15\n",
    "- for simplicity beta=0 for each strategy (or alternatively, you are working with hedged portfolios)\n",
    "\n",
    "Show the weights under the different allocation rules\n"
   ]
  },
  {
   "cell_type": "code",
   "execution_count": null,
   "metadata": {},
   "outputs": [],
   "source": []
  },
  {
   "cell_type": "markdown",
   "metadata": {},
   "source": [
    "## The rise of \"pod shops\"\n",
    "\n",
    "\n",
    "Hedge funds used to be associated with Principal traders\n",
    "\n",
    "- George Soros\n",
    "- Julian Robertson\n",
    "- David Tepper\n",
    "- Paul Tudor Jones\n",
    "- Steve Cohen\n",
    "- John Paulson\n",
    "\n",
    "\n",
    "Now we have the rise of Citadel and Millenium among a few others\n",
    "\n",
    "Pod shops are organized totally different\n",
    "\n",
    "Idea generation are done at the pod level in groups of 5-10 people\n",
    "\n",
    "Capital is allocated to the pod by the hedge fund principal, who monitors exposures and hedges residual factor risk\n",
    "\n",
    "Why pod traders work for Citadel and not choose to manager their own fund?\n",
    "\n",
    "**A calculation**\n",
    "\n",
    "Consider a pod shop with N pods with SR sr and total vol $\\sigma$, what is their alpha? What is their SR?\n",
    "\n",
    "\n",
    "$$E[\\sum x^*_ir_i]=E[\\sum \\frac{\\alpha_i}{\\sigma^2_i}\\alpha_i]=N*sr^2$$\n",
    "\n",
    "\n",
    "$$Var[\\sum x^*_ir_i]=Var[\\sum \\frac{\\alpha_i}{\\sigma^2_i}\\epsilon_i]=\\sum (\\frac{\\alpha_i}{\\sigma^2_i})^2Var[\\epsilon_i]$$\n",
    "\n",
    "\n",
    "$$Var[\\sum x^*_ir_i]=\\sum (\\frac{\\alpha_i}{\\sigma^2_i})^2\\sigma^2_i=N sr^2$$\n",
    "\n",
    "so the standard deviation of the pool of pods is \n",
    "\n",
    "$$sr_{pool}=\\frac{Nsr_{pod}^2}{\\sqrt{N}sr_{pod}}=\\sqrt{N}sr_{pod}$$\n",
    "\n",
    "The Sharpe ratio of the pool of pods grows with the number of pods\n",
    "\n",
    "This means that if managed individually, the average pod will accumulate wealth at rate $\\sigma*sr$\n",
    "\n",
    "But if managed in a pool structure, the average pod will accumulate as $\\sqrt{N}\\sigma*sr$\n",
    "\n",
    "find a new uncorrelated idea is super valuable!\n",
    "\n",
    "The marginal change in cash flows are\n",
    "\n",
    "\n",
    "$$\\frac{\\sigma*sr_{pool}}{N}$$\n",
    "\n",
    "- decreases in the number of pods\n",
    "- But always positive--if indeed similar SR and uncorrelated!\n",
    "\n",
    "Note that is Under-estimates the value of the pod structure\n",
    "\n",
    " - The higher your Sharpe ratio, the more volatility you can take without bearing significant risk of loss (wealth jsut grows too quickly)\n",
    "\n",
    "But it also not realistic\n",
    "  - Your marginal pod is likely to be worse or correlated with the others\n",
    "\n",
    "\n",
    "\n"
   ]
  },
  {
   "cell_type": "code",
   "execution_count": null,
   "metadata": {},
   "outputs": [],
   "source": [
    "\n",
    "\n"
   ]
  },
  {
   "cell_type": "markdown",
   "metadata": {},
   "source": [
    "## Volatility Management\n",
    "\n",
    "While detecting alpha/risk-premia variation of a strategy in real time is nearly impossible, we learned a few classes ago that we cna detect volatility variation really well.\n",
    "\n",
    "These ideas together imply that you probably can do better by timing volatility\n",
    "\n",
    "\n",
    "\n",
    "(here the t subscript denote the distribution of returns for date t+1 as of date t when I make the portfolio allocation)\n",
    "\n",
    "The crucial necessary condition for this to work is that there is no time-series relationship between alphas and vols\n",
    "\n",
    "$$cov(\\alpha_{i,t},\\sigma^2_{i,t})=0$$\n",
    "\n",
    "This is key. Might or might not be true. But tends to be true.\n",
    "\n",
    "(actually we only need that relationship is weak enough)\n",
    "\n",
    "This is true for example in case alpha is constant, or a the very least, you cannot predict variation in it.\n",
    "\n",
    "Then your optimal portfolio allocation becomes $x_i=\\frac{\\alpha_i}{\\sigma_{i,t}^2}$\n",
    "\n",
    "\n",
    "So the Sharpe ratio is\n",
    "\n",
    "$$SR_{\\sigma}=\\frac{E[x_{i,t}r_{i,t+1}]}{\\sqrt{Var(x_{i,t}r_{i,t+1})}}$$\n",
    "\n",
    "\n",
    "$$SR_{\\sigma}=\\frac{E[\\frac{\\alpha_i}{\\sigma_{i,t}^2}r_{i,t+1}]}{\\sqrt{Var(\\frac{\\alpha_i}{\\sigma_{i,t}^2}r_{i,t+1})}}$$\n",
    "\n",
    "\n",
    "$$SR_{\\sigma}=\\alpha_i\\sqrt{E\\left[\\frac{1}{\\sigma_{i,t}^2}\\right]}$$\n",
    "\n",
    "So it implies\n",
    "\n",
    "$$SR_{\\sigma}=SR\\sqrt{E[\\sigma_{i,t}^2E\\left[\\frac{1}{\\sigma_{i,t}^2}\\right]}$$\n",
    "\n",
    "In general $SR_{\\sigma}>SR$ because of jensen inequality ($E[F(x)]\\geqF(E[X])$ if F is  convex)\n",
    "\n",
    "to get some clean closed formulas lets assum\n",
    "\n",
    "$\\sigma_{t}^2=\\sigma^2 e^{\\epsilon-\\frac{1}{2}\\sigma^2_{\\sigma}}$, with $\\epsilon\\sim N(0,\\sigma^2_{\\sigma})$\n",
    "\n",
    "which satisfied $E[\\sigma_t]=\\sigma$\n",
    "\n",
    "\n",
    "$$SR_{\\sigma}=SR*e^{\\frac{1}{4}\\sigma^2_{\\sigma}}$$\n",
    "\n",
    "The more volatility variation you can predict, higher $\\sigma_{\\sigma}$, the higher the boost in you Sharpe ratio\n",
    "\n"
   ]
  },
  {
   "cell_type": "markdown",
   "metadata": {},
   "source": [
    "\n",
    "\n",
    "\n",
    "## Volatility managing the market\n",
    "\n",
    ">ALAN MOREIRA, TYLER MUIR, Volatility-Managed Portfolios, Journal of Finance, August 2017\n",
    "https://doi.org/10.1111/jofi.12513\n",
    "\n",
    "\n",
    "Show that this logic works for the market and many other factors. Since then a huge literature has emerged showing that volatility managing is a great way to boost Sharpe Ratios\n",
    "\n",
    "\n",
    "$$x_t=\\frac{E[r^e_{t+1}]}{Var_t(r^e_{t+1})}$$\n",
    "\n",
    "\n",
    "The key is to construct a good measure for $ Var_t(r^e_{t+1})$\n",
    "\n",
    "* there are many things that you can do here (see our discussion in the estimation class)\n",
    "* We will do something simple and use past vol as a proxy for future vol\n",
    "* Of course whether isa good proxy or not depends of how it plays out in the data\n",
    "* But as we saw there is tons of volatility clustering so it is likely a good proxy even if not perfect\n",
    "\n",
    "* Using daily data for month t, construct the market return \"realized variance\" during month t\n",
    "   \n",
    "   $$rv_t=\\sum_{d \\in days~ in ~month ~t}\\frac{(r_d- \\overline{r})^2}{N_{days}},$$\n",
    "   \n",
    " where $\\overline{r}$ is the average return within the month\n",
    "   \n",
    " "
   ]
  },
  {
   "cell_type": "code",
   "execution_count": 51,
   "metadata": {},
   "outputs": [
    {
     "name": "stderr",
     "output_type": "stream",
     "text": [
      "c:\\Users\\alan.moreira\\Anaconda3\\lib\\site-packages\\pandas_datareader\\famafrench.py:114: FutureWarning: The argument 'date_parser' is deprecated and will be removed in a future version. Please use 'date_format' instead, or read your data in as 'object' dtype and then call 'to_datetime'.\n",
      "  df = read_csv(StringIO(\"Date\" + src[start:]), **params)\n"
     ]
    }
   ],
   "source": [
    "df_factor = get_factors()\n"
   ]
  },
  {
   "cell_type": "markdown",
   "metadata": {},
   "source": [
    "## **Constructing monthly realized variance from daily data**\n",
    "\n",
    "\n",
    "You basically use pandas time series function that shifts all dates to the end of the month, so this way you are technically grouping by the end of the month day."
   ]
  },
  {
   "cell_type": "markdown",
   "metadata": {},
   "source": [
    "Now  I use groupby `endofmonth` to put  all returns of given \"year-month\" pair together (i.e. with the same date)\n",
    "\n",
    "So I can just compute the variance of this group (say 1/1/2020,1/2/2020,...1/31/2020) will all be 1/31/2020\n",
    "\n",
    "This will return the daily variance in that month\n",
    "\n",
    "If I multiply by the average number of trading days I get the monthly realized variance\n",
    "\n",
    "To be more precise I will simply sum the square deviations of the mean (what this adjusts for?)"
   ]
  },
  {
   "cell_type": "code",
   "execution_count": 69,
   "metadata": {},
   "outputs": [
    {
     "data": {
      "text/html": [
       "<div>\n",
       "<style scoped>\n",
       "    .dataframe tbody tr th:only-of-type {\n",
       "        vertical-align: middle;\n",
       "    }\n",
       "\n",
       "    .dataframe tbody tr th {\n",
       "        vertical-align: top;\n",
       "    }\n",
       "\n",
       "    .dataframe thead th {\n",
       "        text-align: right;\n",
       "    }\n",
       "</style>\n",
       "<table border=\"1\" class=\"dataframe\">\n",
       "  <thead>\n",
       "    <tr style=\"text-align: right;\">\n",
       "      <th></th>\n",
       "      <th>RV</th>\n",
       "    </tr>\n",
       "    <tr>\n",
       "      <th>Date</th>\n",
       "      <th></th>\n",
       "    </tr>\n",
       "  </thead>\n",
       "  <tbody>\n",
       "    <tr>\n",
       "      <th>1926-07-31</th>\n",
       "      <td>0.000492</td>\n",
       "    </tr>\n",
       "    <tr>\n",
       "      <th>1926-08-31</th>\n",
       "      <td>0.000878</td>\n",
       "    </tr>\n",
       "    <tr>\n",
       "      <th>1926-09-30</th>\n",
       "      <td>0.000565</td>\n",
       "    </tr>\n",
       "    <tr>\n",
       "      <th>1926-10-31</th>\n",
       "      <td>0.001689</td>\n",
       "    </tr>\n",
       "    <tr>\n",
       "      <th>1926-11-30</th>\n",
       "      <td>0.000336</td>\n",
       "    </tr>\n",
       "  </tbody>\n",
       "</table>\n",
       "</div>"
      ],
      "text/plain": [
       "                  RV\n",
       "Date                \n",
       "1926-07-31  0.000492\n",
       "1926-08-31  0.000878\n",
       "1926-09-30  0.000565\n",
       "1926-10-31  0.001689\n",
       "1926-11-30  0.000336"
      ]
     },
     "execution_count": 69,
     "metadata": {},
     "output_type": "execute_result"
    },
    {
     "data": {
      "image/png": "[encoded data removed]",
      "text/plain": [
       "<Figure size 640x480 with 1 Axes>"
      ]
     },
     "metadata": {},
     "output_type": "display_data"
    }
   ],
   "source": [
    "from pandas.tseries.offsets import MonthEnd\n",
    "endofmonth=df_factor.index+MonthEnd(0)\n",
    "RV=df_factor[['Mkt-RF']].groupby(endofmonth).apply(lambda x: ((x-x.mean())**2).sum())\n",
    "# rename column to clarify\n",
    "RV=RV.rename(columns={'Mkt-RF':'RV'})\n",
    "RV.plot()\n",
    "RV.head()"
   ]
  },
  {
   "cell_type": "markdown",
   "metadata": {},
   "source": []
  },
  {
   "cell_type": "markdown",
   "metadata": {},
   "source": [
    "Note how clustered volatility is\n",
    "\n",
    "If variance was high this month, probably will be high next month too\n",
    "\n",
    "You certainly can do better"
   ]
  },
  {
   "cell_type": "code",
   "execution_count": 110,
   "metadata": {},
   "outputs": [
    {
     "data": {
      "text/plain": [
       "RV        0.002429\n",
       "RF        0.002686\n",
       "Mkt-RF    0.006849\n",
       "RV_lag    0.002431\n",
       "dtype: float64"
      ]
     },
     "execution_count": 110,
     "metadata": {},
     "output_type": "execute_result"
    }
   ],
   "source": [
    "# aggregate daily returns to monthly returns\n",
    "Ret=(1+df_factor).groupby(endofmonth).prod()-1\n",
    "# rename columns to clarify\n",
    "# Merge Ret (monthly return) with RV (realized variance and weights)\n",
    "df=RV.merge(Ret,how='left',left_index=True,right_index=True)\n",
    "# construct excess returns\n",
    "\n",
    "# lag RV by one month\n",
    "df['RV_lag']=df['RV'].shift(1)\n",
    "\n",
    "df.mean()"
   ]
  },
  {
   "cell_type": "code",
   "execution_count": 111,
   "metadata": {},
   "outputs": [
    {
     "name": "stderr",
     "output_type": "stream",
     "text": [
      "C:\\Users\\alan.moreira\\AppData\\Local\\Temp\\ipykernel_9296\\1968402388.py:7: FutureWarning: The default of observed=False is deprecated and will be changed to True in a future version of pandas. Pass observed=False to retain current behavior or observed=True to adopt the future default and silence this warning.\n",
      "  quantile_means = df.groupby('Quantile').mean()\n",
      "C:\\Users\\alan.moreira\\AppData\\Local\\Temp\\ipykernel_9296\\1968402388.py:8: RuntimeWarning: invalid value encountered in scalar power\n",
      "  quantile_means.index = quantile_means.index.map(lambda x: round((x.left*12)**0.5, 2))\n"
     ]
    },
    {
     "data": {
      "image/png": "[encoded data removed]",
      "text/plain": [
       "<Figure size 1000x1200 with 3 Axes>"
      ]
     },
     "metadata": {},
     "output_type": "display_data"
    }
   ],
   "source": [
    "\n",
    "\n",
    "\n",
    "\n",
    "# Create quantile groups based on the RV variable\n",
    "\n",
    "\n",
    "df['Quantile'] = pd.qcut(df['RV_lag'], q=5)\n",
    "\n",
    "# Group by quantile and calculate the mean for each column\n",
    "quantile_means = df.groupby('Quantile').mean()\n",
    "quantile_means.index = quantile_means.index.map(lambda x: round((x.left*12)**0.5, 2))\n",
    "\n",
    "\n",
    "quantile_means ['priceofrisk']=quantile_means['Mkt-RF']/(quantile_means['RV'])\n",
    "\n",
    "\n",
    "# Display the mean of quantiles for each column\n",
    "\n",
    "fig, axs = plt.subplots(3, 1, figsize=(10, 12), sharex=True)\n",
    "((quantile_means.RV*12)**0.5).plot(kind='bar', ax=axs[0])\n",
    "axs[0].set_title('Realized Variance (RV(t+1)) by RV(t) Quantile ')\n",
    "axs[0].set_ylabel('Vol(t+1)')\n",
    "\n",
    "(quantile_means['Mkt-RF']*12).plot(kind='bar', ax=axs[1])\n",
    "axs[1].set_title('Market Excess Return (t+1) by RV(t) Quantile')\n",
    "axs[1].set_ylabel('Mkt-RF')\n",
    "\n",
    "quantile_means.priceofrisk.plot(kind='bar', ax=axs[2])\n",
    "axs[2].set_title('Price of Risk by Quantile by RV(t) Quantile')\n",
    "axs[2].set_ylabel('Price of Risk')\n",
    "axs[2].set_xlabel('Quantile')\n",
    "\n",
    "plt.tight_layout()\n",
    "plt.show()\n"
   ]
  },
  {
   "cell_type": "markdown",
   "metadata": {},
   "source": [
    "We see that following months of high variance--on the right-- you don't really get higher returns\n",
    "\n",
    "if you focus on the ratio -- the price of risk\n",
    "\n",
    "$$E[\\frac{r^e_{t+1}}{RV_{t+1}(r^e)}|RV_t]$$\n",
    "\n",
    "you see that it is massively decreasing with variance\n",
    "\n",
    "Average returns are not constant--**but are close to**-- \n",
    "\n",
    "so the natural strategy to exploit this pattern is to lever up when vol is low and reduce exposure when vol is high."
   ]
  },
  {
   "cell_type": "markdown",
   "metadata": {},
   "source": [
    "Specifically we Buy the market at the closing price of month t according to the rule:\n",
    "   \n",
    "   $$w_t=\\frac{c}{rv_t},$$\n",
    "\n",
    "If W<1, invest in the risk-free rate, if w>1, borrow to fund a bigger position\n",
    "   \n",
    "where $c$ is some constant.\n",
    "   \n",
    "  * Hold the position for a month\n",
    "  \n",
    "  * The returns of the strategy are given by\n",
    "  \n",
    "  \n",
    "\n",
    " \n",
    "  $$ r^{VolTiming}_{t+1}=r_{f,t+1}+\\frac{c}{rv_t}r^{MKT-RF}_{t+1}$$\n",
    "\n"
   ]
  },
  {
   "cell_type": "markdown",
   "metadata": {},
   "source": [
    "## **From signal to weights**"
   ]
  },
  {
   "cell_type": "markdown",
   "metadata": {},
   "source": [
    "* weight on the market:\n",
    "\n",
    "$$x_t=c\\frac{1}{rv_t}$$\n",
    "\n",
    "* weight on the risk-free rate: $1-x_t$\n",
    "\n",
    "* $c$ controls how levered is the strategy on average.\n",
    "\n",
    "* As we saw before all timing strategies involved some in and out of the market, but you also need to determine the average position. That is the role of $c$.\n",
    "\n",
    "* There are many ways to choose c\n",
    "\n",
    "* while c does not impact the strategy Sharpe Ratio, it impacts the amount of leverage that the strategy will take\n",
    "\n",
    "* Here lets keep it simple and simply choose it so that the position on the market is 1 on average\n",
    "\n",
    "$$E[x_t]=E[c\\frac{1}{rv_t}]=1$$\n",
    "\n",
    "implies $c=\\frac{1}{E[\\frac{1}{rv_t}]}$\n"
   ]
  },
  {
   "cell_type": "code",
   "execution_count": null,
   "metadata": {},
   "outputs": [
    {
     "data": {
      "text/plain": [
       "1.0"
      ]
     },
     "execution_count": 120,
     "metadata": {},
     "output_type": "execute_result"
    },
    {
     "data": {
      "image/png": "[encoded data removed]",
      "text/plain": [
       "<Figure size 640x480 with 1 Axes>"
      ]
     },
     "metadata": {},
     "output_type": "display_data"
    }
   ],
   "source": [
    "# calculate weights for the risky assets (market)\n",
    "c=1/(1/df.RV_lag*).mean()\n",
    "df['Weight']=c/df.RV_lag\n",
    "\n",
    "df.Weight.plot()\n",
    "df.Weight.mean()"
   ]
  },
  {
   "cell_type": "markdown",
   "metadata": {},
   "source": [
    "You see that leverage gets really high. \n",
    "\n",
    "As high as 10!\n",
    "\n",
    "You can see that in your position in the risk-free rate which exactly mirrors that\n",
    "\n"
   ]
  },
  {
   "cell_type": "code",
   "execution_count": 121,
   "metadata": {},
   "outputs": [
    {
     "data": {
      "image/png": "[encoded data removed]",
      "text/plain": [
       "<Figure size 640x480 with 1 Axes>"
      ]
     },
     "metadata": {},
     "output_type": "display_data"
    }
   ],
   "source": [
    "# plot the weights on the risk-free rate\n",
    "(1-df.Weight).plot()\n",
    "plt.show()"
   ]
  },
  {
   "cell_type": "markdown",
   "metadata": {},
   "source": [
    "## **Construct strategy returns**\n",
    "\n",
    "* Now to construct the strategy return recall that we use the relaized variance in month t to buy the market at the closing of month t and earn the return accrued in month t+1\n",
    "\n",
    "\n",
    "* I will call the strategy as $\\textbf{VMS}$ (Volatility Managed Strategy)"
   ]
  },
  {
   "cell_type": "code",
   "execution_count": 122,
   "metadata": {},
   "outputs": [],
   "source": [
    "# now construct the return of the strategy\n",
    "df['VMS']=df.Weight*df['Mkt-RF']"
   ]
  },
  {
   "cell_type": "markdown",
   "metadata": {},
   "source": [
    "We can see the cumulative returns of the market and the volatility managed strategy"
   ]
  },
  {
   "cell_type": "code",
   "execution_count": 123,
   "metadata": {},
   "outputs": [
    {
     "data": {
      "text/plain": [
       "<Axes: xlabel='Date'>"
      ]
     },
     "execution_count": 123,
     "metadata": {},
     "output_type": "execute_result"
    },
    {
     "data": {
      "image/png": "[encoded data removed]",
      "text/plain": [
       "<Figure size 640x480 with 1 Axes>"
      ]
     },
     "metadata": {},
     "output_type": "display_data"
    }
   ],
   "source": [
    "df[['Mkt-RF','VMS']].add(df['RF']+1,axis=0).cumprod().plot(logy=True)"
   ]
  },
  {
   "cell_type": "markdown",
   "metadata": {},
   "source": [
    "**Sharpe ratio**\n",
    "\n",
    "The VMS strategy ends up with a 20% higher Sharpe Ratio"
   ]
  },
  {
   "cell_type": "code",
   "execution_count": 124,
   "metadata": {},
   "outputs": [
    {
     "data": {
      "text/plain": [
       "Mkt-RF    0.445526\n",
       "VMS       0.548945\n",
       "dtype: float64"
      ]
     },
     "execution_count": 124,
     "metadata": {},
     "output_type": "execute_result"
    }
   ],
   "source": [
    "(df[['Mkt-RF','VMS']].mean()/df[['Mkt-RF','VMS']].std())*12**0.5"
   ]
  },
  {
   "cell_type": "markdown",
   "metadata": {},
   "source": [
    "**Tail risk**\n",
    "\n",
    "The VMS bears substantially less tail risk as well\n",
    "\n",
    "We can look at the the percentile 0.5% of the return distribution"
   ]
  },
  {
   "cell_type": "code",
   "execution_count": 118,
   "metadata": {},
   "outputs": [
    {
     "data": {
      "text/plain": [
       "Mkt-RF   -0.181863\n",
       "VMS      -0.139248\n",
       "Name: 0.005, dtype: float64"
      ]
     },
     "execution_count": 118,
     "metadata": {},
     "output_type": "execute_result"
    }
   ],
   "source": [
    "df[['Mkt-RF','VMS']].quantile(q=0.005)"
   ]
  },
  {
   "cell_type": "markdown",
   "metadata": {},
   "source": [
    "**Things to try**\n",
    "\n",
    "\n",
    "- How well it works with VIX instead of RV?\n",
    "- How well it works with standard deviation instead of variance\n",
    "- How well it works if we put leverage limits\n",
    "- How well it works if we combine an expected return signal with the volatility signal?"
   ]
  },
  {
   "cell_type": "code",
   "execution_count": 140,
   "metadata": {
    "vscode": {
     "languageId": "ruby"
    }
   },
   "outputs": [
    {
     "data": {
      "text/plain": [
       "(RV        1.664722\n",
       " Mkt-RF    0.445526\n",
       " RV_lag    1.664846\n",
       " Weight    3.143894\n",
       " VMS       0.514105\n",
       " dtype: float64,\n",
       " RV        0.000113\n",
       " Mkt-RF   -0.181863\n",
       " RV_lag    0.000113\n",
       " Weight    0.021742\n",
       " VMS      -0.139248\n",
       " Name: 0.005, dtype: float64,\n",
       "                   RV    Mkt-RF    RV_lag    Weight       VMS\n",
       " Date                                                        \n",
       " 1926-07-31  0.000492  0.028846       NaN       NaN       NaN\n",
       " 1926-08-31  0.000878  0.026697  0.000492  1.497461  0.039977\n",
       " 1926-09-30  0.000565  0.003724  0.000878  0.839167  0.003125\n",
       " 1926-10-31  0.001689 -0.033011  0.000565  1.304151 -0.043051\n",
       " 1926-11-30  0.000336  0.025847  0.001689  0.436231  0.011275\n",
       " ...              ...       ...       ...       ...       ...\n",
       " 2024-06-30  0.000329  0.027796  0.000761  0.968390  0.026917\n",
       " 2024-07-31  0.001757  0.011986  0.000329  2.236833  0.026810\n",
       " 2024-08-31  0.003530  0.015949  0.001757  0.419311  0.006687\n",
       " 2024-09-30  0.001580  0.017348  0.003530  0.208700  0.003620\n",
       " 2024-10-31  0.001086 -0.009699  0.001580  0.466396 -0.004524\n",
       " \n",
       " [1180 rows x 5 columns])"
      ]
     },
     "execution_count": 140,
     "metadata": {},
     "output_type": "execute_result"
    }
   ],
   "source": [
    "def volmanaged(df):\n",
    "    factor=df.name\n",
    "    endofmonth=df.index+MonthEnd(0)\n",
    "    RV=df.groupby(endofmonth).apply(lambda x: ((x-x.mean())**2).sum())\n",
    "    Signal=1/RV.shift(1)\n",
    "    Signal.name='signal'\n",
    "\n",
    "    Ret=(1+df).groupby(endofmonth).prod()-1\n",
    "    # rename columns to clarify\n",
    "    # Merge Ret (monthly return) with RV (realized variance and weights)\n",
    "    df=pd.DataFrame(Signal).merge(Ret,how='left',left_index=True,right_index=True)\n",
    "\n",
    "\n",
    "\n",
    "    c=1/(df.signal).mean()\n",
    "    df['Weight']=c/df.signal\n",
    "    df['VMS']=df.Weight*df[factor]\n",
    "    SR=(df.mean()/df.std())*12**0.5\n",
    "    TR=df.quantile(q=0.005)\n",
    "    return SR,TR,df\n",
    "\n",
    "volmanaged(df_factor['Mkt-RF'])    "
   ]
  },
  {
   "cell_type": "markdown",
   "metadata": {},
   "source": [
    "## A bond-equity strategic investment problem of an international investor\n",
    "\n",
    "\n",
    "* we will assume here that the risk-premium is being generated from a constant distribution\n",
    "\n",
    "* this is wrong, but for large well diversified portfolio not too bad\n",
    "\n",
    "* under this assumption, our estimation problem amounts to using sample means\n",
    "\n",
    "* ths risk-free rate is time-varying so we will have to deal with it\n",
    "\n",
    "\n",
    "We start by loading out return data"
   ]
  },
  {
   "cell_type": "code",
   "execution_count": 2,
   "metadata": {},
   "outputs": [
    {
     "data": {
      "text/html": [
       "<div>\n",
       "<style scoped>\n",
       "    .dataframe tbody tr th:only-of-type {\n",
       "        vertical-align: middle;\n",
       "    }\n",
       "\n",
       "    .dataframe tbody tr th {\n",
       "        vertical-align: top;\n",
       "    }\n",
       "\n",
       "    .dataframe thead th {\n",
       "        text-align: right;\n",
       "    }\n",
       "</style>\n",
       "<table border=\"1\" class=\"dataframe\">\n",
       "  <thead>\n",
       "    <tr style=\"text-align: right;\">\n",
       "      <th></th>\n",
       "      <th>RF</th>\n",
       "      <th>MKTUS</th>\n",
       "      <th>BondUS</th>\n",
       "      <th>EM</th>\n",
       "      <th>MKTxUS</th>\n",
       "      <th>BondxUS</th>\n",
       "    </tr>\n",
       "    <tr>\n",
       "      <th>Date</th>\n",
       "      <th></th>\n",
       "      <th></th>\n",
       "      <th></th>\n",
       "      <th></th>\n",
       "      <th></th>\n",
       "      <th></th>\n",
       "    </tr>\n",
       "  </thead>\n",
       "  <tbody>\n",
       "    <tr>\n",
       "      <th>2016-08-31</th>\n",
       "      <td>0.0002</td>\n",
       "      <td>0.0052</td>\n",
       "      <td>-0.008417</td>\n",
       "      <td>0.025186</td>\n",
       "      <td>0.000838</td>\n",
       "      <td>-0.009552</td>\n",
       "    </tr>\n",
       "    <tr>\n",
       "      <th>2016-09-30</th>\n",
       "      <td>0.0002</td>\n",
       "      <td>0.0027</td>\n",
       "      <td>-0.016417</td>\n",
       "      <td>0.013153</td>\n",
       "      <td>0.012736</td>\n",
       "      <td>0.009979</td>\n",
       "    </tr>\n",
       "    <tr>\n",
       "      <th>2016-10-31</th>\n",
       "      <td>0.0002</td>\n",
       "      <td>-0.0200</td>\n",
       "      <td>-0.049460</td>\n",
       "      <td>0.002474</td>\n",
       "      <td>-0.020383</td>\n",
       "      <td>-0.043476</td>\n",
       "    </tr>\n",
       "    <tr>\n",
       "      <th>2016-11-30</th>\n",
       "      <td>0.0001</td>\n",
       "      <td>0.0487</td>\n",
       "      <td>-0.081636</td>\n",
       "      <td>-0.045971</td>\n",
       "      <td>-0.019798</td>\n",
       "      <td>-0.050359</td>\n",
       "    </tr>\n",
       "    <tr>\n",
       "      <th>2016-12-31</th>\n",
       "      <td>0.0003</td>\n",
       "      <td>0.0185</td>\n",
       "      <td>-0.005296</td>\n",
       "      <td>0.002904</td>\n",
       "      <td>0.034383</td>\n",
       "      <td>-0.023207</td>\n",
       "    </tr>\n",
       "  </tbody>\n",
       "</table>\n",
       "</div>"
      ],
      "text/plain": [
       "                RF   MKTUS    BondUS        EM    MKTxUS   BondxUS\n",
       "Date                                                              \n",
       "2016-08-31  0.0002  0.0052 -0.008417  0.025186  0.000838 -0.009552\n",
       "2016-09-30  0.0002  0.0027 -0.016417  0.013153  0.012736  0.009979\n",
       "2016-10-31  0.0002 -0.0200 -0.049460  0.002474 -0.020383 -0.043476\n",
       "2016-11-30  0.0001  0.0487 -0.081636 -0.045971 -0.019798 -0.050359\n",
       "2016-12-31  0.0003  0.0185 -0.005296  0.002904  0.034383 -0.023207"
      ]
     },
     "execution_count": 2,
     "metadata": {},
     "output_type": "execute_result"
    }
   ],
   "source": [
    "url=\"https://raw.githubusercontent.com/amoreira2/Lectures/main/assets/data/GlobalFinMonthly.csv\"\n",
    "Data = pd.read_csv(url,na_values=-99)\n",
    "Data['Date']=pd.to_datetime(Data['Date'])\n",
    "Data=Data.set_index(['Date'])\n",
    "# the assets are the risk-free rate, the us equity market, the us bond market, the emerging market, the global equity market (without US), and the global bond market (without US)\n",
    "\n",
    "Data=Data.rename(columns={Data.columns[1]: \"MKTUS\",Data.columns[2]: \"BondUS\",\n",
    "                          Data.columns[3]: \"EM\",Data.columns[4]: \"MKTxUS\",Data.columns[5]: \"BondxUS\" })\n",
    "Data.tail()"
   ]
  },
  {
   "cell_type": "code",
   "execution_count": 3,
   "metadata": {},
   "outputs": [
    {
     "name": "stdout",
     "output_type": "stream",
     "text": [
      "MKTUS      0.005140\n",
      "BondUS     0.002523\n",
      "EM         0.006923\n",
      "MKTxUS     0.004149\n",
      "BondxUS    0.002054\n",
      "dtype: float64\n",
      "            MKTUS    BondUS        EM    MKTxUS   BondxUS\n",
      "MKTUS    0.001948  0.000111  0.001292  0.001264  0.000187\n",
      "BondUS   0.000111  0.001227 -0.000204 -0.000013  0.000264\n",
      "EM       0.001292 -0.000204  0.003556  0.001661  0.000249\n",
      "MKTxUS   0.001264 -0.000013  0.001661  0.002182  0.000422\n",
      "BondxUS  0.000187  0.000264  0.000249  0.000422  0.000407\n"
     ]
    }
   ],
   "source": [
    "# we start by constructing excess returns by subtracting the risk-free rate from the returns of the assets and we drop the risk-free rate column\n",
    "Re=Data.subtract(Data['RF'],axis=0).drop(['RF'],axis=1)\n",
    "\n",
    "# we compute the mean and covariance matrix of the excess returns\n",
    "ERe=Re.mean()\n",
    "print(ERe)\n",
    "Cove=Re.cov()\n",
    "print(Cove)\n",
    "\n"
   ]
  },
  {
   "cell_type": "markdown",
   "metadata": {},
   "source": [
    "Suppose I want to reconstruct my current estimates of Expected returns and the covariance matrix of returns ( and not excess returns), What do I do?\n",
    "\n",
    "Simply add the current risk-free rate to you estimate of the expected return"
   ]
  },
  {
   "cell_type": "code",
   "execution_count": 4,
   "metadata": {},
   "outputs": [],
   "source": [
    "# set the risk-free rate to the current value of the 3-month T-bill rate divided by 12 to make it a monthly rate\n",
    "rf=0.0525/12\n",
    "# add to our estimate of risk-premiumns to get our estimate of expected returns\n",
    "\n",
    "ER=ERe+rf"
   ]
  },
  {
   "cell_type": "markdown",
   "metadata": {},
   "source": [
    "What about the covariance piece?"
   ]
  },
  {
   "cell_type": "markdown",
   "metadata": {},
   "source": [
    "## Numerical solution\n",
    "\n",
    "Lets start by solving\n",
    "\n",
    "$ \\max_X E[X'R_T]$ subject to $Var(X'R_T)\\leq Vmax$"
   ]
  },
  {
   "cell_type": "code",
   "execution_count": 18,
   "metadata": {},
   "outputs": [
    {
     "name": "stdout",
     "output_type": "stream",
     "text": [
      "0.0007914039297139135\n",
      "0.0008490361488465391\n",
      "0.008532889760767246\n",
      "0.00820649669319938\n"
     ]
    }
   ],
   "source": [
    "# STEP 1: define the fucntion that computes the portfolio variance and expected returns given a vector of weights X (initially set to equal weights)\n",
    "\n",
    "def portfolio_variance(X=np.ones(5)/5):\n",
    "    return X @ Cove @ X\n",
    "\n",
    "def portfolio_expected_return(X=np.ones(5)/5):\n",
    "     return X @ ER\n",
    "\n",
    "print(portfolio_variance())\n",
    "print(portfolio_variance(np.array([0.5,0.5,0,0,0])))\n",
    "\n",
    "print(portfolio_expected_return())\n",
    "print(portfolio_expected_return(np.array([0.5,0.5,0,0,0])))"
   ]
  },
  {
   "cell_type": "code",
   "execution_count": 19,
   "metadata": {},
   "outputs": [],
   "source": [
    "# STEP 2: define the constraint functions, \n",
    "\n",
    "# here we will have one inequality for the portfolio variance , lets say a volatility of 10% per year. How do we translate this into a monthly variance?\n",
    "\n",
    "# and one equality constraint for the weights to sum to one\n",
    "\n",
    "\n",
    "\n",
    "Vmax=(0.2**2/12)\n",
    "cons= ({'type': 'ineq',\n",
    "          'fun' : lambda X: -portfolio_variance(X)+Vmax},\n",
    "          {'type': 'eq',\n",
    "          'fun' : lambda X: np.sum(X)-1})\n",
    "\n",
    "# the constraint is normalized so that\n",
    "\n",
    "#cons=({'type': 'ineq',\n",
    "#          'fun' : lambda X: F(X)})\n",
    "\n",
    "#means F(X)>=0"
   ]
  },
  {
   "cell_type": "markdown",
   "metadata": {},
   "source": [
    "* Finally we are ready to do our minimization\n",
    "* `options={'disp': True}`: tell python to report intermediary steps so we can check if the algorithm is doing progress towards a solution.\n",
    "* There is a variety of additional parameters that you can pass to the minimizer. \n",
    "* see: https://docs.scipy.org/doc/scipy/reference/generated/scipy.optimize.minimize.html\n"
   ]
  },
  {
   "cell_type": "code",
   "execution_count": 20,
   "metadata": {},
   "outputs": [
    {
     "name": "stdout",
     "output_type": "stream",
     "text": [
      "Optimization terminated successfully    (Exit mode 0)\n",
      "            Current function value: -0.011929088527573371\n",
      "            Iterations: 13\n",
      "            Function evaluations: 78\n",
      "            Gradient evaluations: 13\n"
     ]
    }
   ],
   "source": [
    "# STEP 3: solve the minimization problem with constraints and save as `sol`\n",
    "from scipy.optimize import minimize\n",
    "X0=np.ones(5)/5\n",
    "sol = minimize(lambda X: -portfolio_expected_return(X),X0, constraints=cons, options={'disp': True})"
   ]
  },
  {
   "cell_type": "code",
   "execution_count": 21,
   "metadata": {},
   "outputs": [
    {
     "name": "stdout",
     "output_type": "stream",
     "text": [
      "[ 0.65116149  0.38641724  0.83880728 -0.36993912 -0.50644688]\n",
      "0.14314906233088046\n"
     ]
    },
    {
     "data": {
      "text/plain": [
       "0.20000201016577546"
      ]
     },
     "execution_count": 21,
     "metadata": {},
     "output_type": "execute_result"
    }
   ],
   "source": [
    "#optimal weights\n",
    "print(sol.x)\n",
    "# optimal expected return at the annual frequency\n",
    "print(portfolio_expected_return(sol.x)*12)\n",
    "# optimal portfolio volatility at the annual frequenc\n",
    "(portfolio_variance(sol.x)*12)**0.5"
   ]
  },
  {
   "cell_type": "code",
   "execution_count": 22,
   "metadata": {},
   "outputs": [
    {
     "data": {
      "image/png": "[encoded data removed]",
      "text/plain": [
       "<Figure size 432x288 with 1 Axes>"
      ]
     },
     "metadata": {
      "needs_background": "light"
     },
     "output_type": "display_data"
    }
   ],
   "source": [
    "# below I am plotting the solution weights.\n",
    "width=0.3\n",
    "fig, ax = plt.subplots()\n",
    "index=np.arange(sol.x.shape[0])\n",
    "\n",
    "ax.bar(index,sol.x,width)\n",
    "\n",
    "ax.set_xticks(index)\n",
    "ax.set_xticklabels(ER.index)\n",
    "plt.show()"
   ]
  },
  {
   "cell_type": "markdown",
   "metadata": {},
   "source": [
    "Here we assumed the portfolio has to be fully invested in risky assets.\n",
    "\n",
    "There is no leverage (borrowing at the risk-free rate)\n",
    "\n",
    "but there is shorting (raising additional funds by selling one asset)\n",
    "\n",
    "Note that is X0+X1=1, if X0<0, then X1>1\n",
    "\n",
    " \n",
    "\n"
   ]
  },
  {
   "cell_type": "markdown",
   "metadata": {},
   "source": [
    "## Introducing a benchmark\n",
    "\n",
    "* in mutual funds there is often a benchmark, say the S&P 500 and the manager has a mandate to have a tracking error relative to the benchmark that is low enough, say $Tmax$\n",
    "\n",
    "* and the manager is compensated only with respect to the returns above this benchmark\n",
    "\n",
    "* tracking error is the volatility of the portfolio relative to the benchmark: $\\sqrt{var(X'R_T-R^{benchmark}_T)}$\n",
    "\n",
    "The manager problem is ro maximize benchmark adjusted returns subject to some tracking error constraint\n",
    "\n",
    "$ \\max_X E[X'R_T-R^{benchmark}_T]$ subject to $Var(X'R_T-R^{benchmark}_T)\\leq Tmax$\n",
    "\n",
    "\n",
    "Assuming benchmark is in set of traded assets, you car write \n",
    "\n",
    "$ \\max_X E[X'R_T-1_b'R_T]$ subject to $Var(X'R_T-1_b'R_T)\\leq Tmax$\n",
    "\n",
    "Which can be written as\n",
    "\n",
    "\n",
    "$ \\max_X E[(X-1_b)'R_T]$ subject to $(X-1_b)'Var(R_T)(X-1_b)\\leq Tmax$"
   ]
  },
  {
   "cell_type": "code",
   "execution_count": 23,
   "metadata": {},
   "outputs": [
    {
     "name": "stdout",
     "output_type": "stream",
     "text": [
      "Optimization terminated successfully    (Exit mode 0)\n",
      "            Current function value: -0.005220575391068462\n",
      "            Iterations: 15\n",
      "            Function evaluations: 90\n",
      "            Gradient evaluations: 15\n"
     ]
    }
   ],
   "source": [
    "\n",
    "def portfolio_variance(X=np.ones(5)/5,Xbenchmark=np.array([0,0,0,0,0])):\n",
    "    return (X -Xbenchmark)@ Cove @ (X-Xbenchmark)\n",
    "\n",
    "def portfolio_expected_return(X=np.ones(5)/5,Xbenchmark=np.array([0,0,0,0,0])):\n",
    "     return (X-Xbenchmark) @ ER\n",
    "\n",
    "\n",
    "Xb=np.array([1,0,0,0,0])\n",
    "Vmax=(0.2**2/12)\n",
    "cons= ({'type': 'ineq',\n",
    "          'fun' : lambda X: -portfolio_variance(X,Xbenchmark=Xb)+Vmax},\n",
    "          {'type': 'eq',\n",
    "          'fun' : lambda X: np.sum(X)-1})\n",
    "\n",
    "X0=np.ones(5)/5\n",
    "solb = minimize(lambda X: -portfolio_expected_return(X,Xbenchmark=Xb),X0, constraints=cons, options={'disp': True})\n"
   ]
  },
  {
   "cell_type": "code",
   "execution_count": 25,
   "metadata": {},
   "outputs": [
    {
     "name": "stdout",
     "output_type": "stream",
     "text": [
      "Index(['MKTUS', 'BondUS', 'EM', 'MKTxUS', 'BondxUS'], dtype='object')\n",
      "[ 0.65116149  0.38641724  0.83880728 -0.36993912 -0.50644688]\n",
      "[ 1.71916096  0.06129325  0.73328686 -0.28549667 -1.2282444 ]\n"
     ]
    }
   ],
   "source": [
    "print(Cove.index)\n",
    "#optimal weights no benchmark\n",
    "print(sol.x)\n",
    "#optimal weights with benchmark\n",
    "print(solb.x)\n",
    "\n"
   ]
  },
  {
   "cell_type": "markdown",
   "metadata": {},
   "source": [
    "What happen here? Why the position in the market went up? Is that what you would expect?"
   ]
  },
  {
   "cell_type": "code",
   "execution_count": null,
   "metadata": {},
   "outputs": [],
   "source": [
    "# optimal expected return at the annual frequency\n",
    "print(portfolio_expected_return(solb.x)*12)\n",
    "# portfolio volatility pf optimal portfolio at the annual frequency\n",
    "print((portfolio_variance(solb.x)*12)**0.5)\n",
    "#Trackign error\n",
    "print((portfolio_variance(solb.x,Xbenchmark=Xb)*12)**0.5)\n",
    "#Benchmark adjsuted returns\n",
    "print((portfolio_expected_return(solb.x,Xbenchmark=Xb)*12))"
   ]
  },
  {
   "cell_type": "markdown",
   "metadata": {},
   "source": [
    "## Information Ratio\n",
    "\n",
    "Information ratio is how much you are expected to make in excess of the benchmark, divided by how much risk you are taking relative to the benchmark\n",
    "\n",
    "$$InformationRatio=\\frac{E[r_p-r_b]}{\\sigma(r_p-r_p)}$$"
   ]
  },
  {
   "cell_type": "code",
   "execution_count": null,
   "metadata": {},
   "outputs": [
    {
     "name": "stdout",
     "output_type": "stream",
     "text": [
      "0.31322388844974003\n"
     ]
    }
   ],
   "source": [
    "#The information ratio is the benchmark adjusted return divided by the tracking error\n",
    "print((portfolio_expected_return(sol.x,Xbenchmark=Xb)*12)/(portfolio_variance(sol.x,Xbenchmark=Xb)*12)**0.5)"
   ]
  },
  {
   "cell_type": "markdown",
   "metadata": {},
   "source": [
    "Other things to do\n",
    "\n"
   ]
  },
  {
   "cell_type": "markdown",
   "metadata": {},
   "source": [
    "Trace out how the optimal expected return varies as you change Vmax. In yearly volatility units try 6.5%, 7%, 8% , 10% ,15%,30%. Plot the resulting pairs in the scatter plot with the expected return in the y-axis and the volatility in the x-axis. What do you find?"
   ]
  },
  {
   "cell_type": "code",
   "execution_count": null,
   "metadata": {},
   "outputs": [],
   "source": []
  },
  {
   "cell_type": "markdown",
   "metadata": {},
   "source": [
    "Add the risk-free rate among the assets. There are different ways to do this. But a simple one is to change the expected return function  `X@ER+(1-np.sum(X))*rf`\n",
    "* now X is the vector of risky assets only and (1-np.sum(X)) is whatever is the residual\n",
    "* if this residual is positive you park in cash and earn rf\n",
    "* if negative you borrow at the rf rate\n",
    "* now your total weights mechanically add up to 1\n",
    "* so you need to take out the equality constraint"
   ]
  },
  {
   "cell_type": "code",
   "execution_count": null,
   "metadata": {},
   "outputs": [],
   "source": []
  },
  {
   "cell_type": "markdown",
   "metadata": {},
   "source": [
    "Add a shorting constraint, say you can only short equities but not bonds, that is X>0 for certain assets"
   ]
  },
  {
   "cell_type": "code",
   "execution_count": null,
   "metadata": {},
   "outputs": [],
   "source": []
  },
  {
   "cell_type": "markdown",
   "metadata": {},
   "source": [
    "Add a leverage cap, so that the sum of your risky assets cannot exceed 1 too much, np.sum(X)-1 is called your leverage, so you can limit it to 1, so that for each dollar you have you borrow at most 1 dollar"
   ]
  },
  {
   "cell_type": "code",
   "execution_count": null,
   "metadata": {},
   "outputs": [],
   "source": []
  },
  {
   "cell_type": "markdown",
   "metadata": {},
   "source": [
    "Modify the expected return function to incorporate practical frictions in trading. For example, when you borrow you typically pay more than what you can invest at, there is a borrowing spread. Analogously if you short a stock, you have to pay an extra fee"
   ]
  },
  {
   "cell_type": "code",
   "execution_count": null,
   "metadata": {},
   "outputs": [],
   "source": []
  },
  {
   "cell_type": "markdown",
   "metadata": {},
   "source": [
    "## Analytical solution\n",
    "\n",
    "The analytical solution assumes\n",
    "\n",
    "- free borrowing and lending at risk-free rate\n",
    "- Shorting without any shorting fees\n",
    "\n",
    "The optimal weights are \n",
    "\n",
    "$$X=\\sqrt{\\frac{Vmax}{E[R^e]'Var(R^e)^{-1}E[R^e]}}Var(R^e)^{-1}E[R^e]$$\n",
    "\n",
    "Where Vmax is in monthly variance units\n",
    "\n",
    "\n",
    "Note that $\\frac{Vmax}{E[R^e]'Var(R^e)^{-1}E[R^e]}$ is a number. Is basically a leverage factor. It leverage up (or down) the portfolio $Var(R^e)^{-1}E[R^e]$ so that the resulting portfolio has the desired target variance\n",
    "\n",
    "This portfolio $Var(R^e)^{-1}E[R^e]$ is quite special because it has the highest Sharpe-ratio among all possible combinations of these assets\n",
    "\n",
    "\n",
    "\n",
    "\n",
    "\n",
    "## Sharpe-ratio !\n",
    "\n",
    "Sharpe ratio is probably the most used concept in money management, it comes in honor of William Sharpe ( the dude that discovered the CAPM). It reflects how much additional expected return you are getting per unit of volatility. Say you have a portfolio with expected returns $E[r_p]$\n",
    "\n",
    "$$SharpeRatio=\\frac{E[r_p]-rf}{\\sigma(R_p)}$$\n",
    "\n",
    "\n",
    "So a portfolio that has the highest sharpe ratio is nice because it is efficient. \n",
    "\n",
    "You take the minimum amount of risk that you need to take to achieve a expected return\n",
    "\n",
    "or conversely you get the maximum possible expected return for a given level of risk that you are willing to take"
   ]
  },
  {
   "cell_type": "markdown",
   "metadata": {
    "colab_type": "text",
    "id": "eDFJiQNu4bJT"
   },
   "source": [
    "_____\n",
    "\n",
    "*Aside: Matrix inversion*\n",
    "\n",
    "* You only need to understand how to operationaize it and in an conceptual level what it does\n",
    "\n",
    "* But you don't need to follow all the mathematical details\n",
    "\n",
    "* If you are interested. you can look in our linear algebra review in https://amoreira2.github.io/quantitativeinvesting/chapters/scientific/linear_algebra1.html\n",
    "\n",
    "* I also provide a summary below\n",
    "\n",
    "* Note that $(2)^{-1}=1/2=0.5$ (naturally!)\n",
    "\n",
    "* $(Var(R^e))^{-1}$ is just like this \n",
    "\n",
    "* but more complicated because $Var(R^e)$ is a N by N matrix and we can't simply divide over to solve for X\n",
    "\n",
    "* The definition of the inverse function is $f(x)=x^{-1}=y$ where $y*x=1$\n",
    "\n",
    "* for matrices it is the same: $(Var(R^e))^{-1}Var(R^e)=I$, but now instead of 1, we have an identity matrix, which is a matrix with 1's in the diagonal and zero everywhere else\n",
    "\n",
    "\n",
    "Thankfully we have a function in python that does just that\n",
    "\n",
    "\n"
   ]
  },
  {
   "cell_type": "code",
   "execution_count": 52,
   "metadata": {},
   "outputs": [
    {
     "name": "stdout",
     "output_type": "stream",
     "text": [
      "[[3 7]\n",
      " [0 9]]\n"
     ]
    },
    {
     "data": {
      "text/plain": [
       "array([[ 0.33333333, -0.25925926],\n",
       "       [ 0.        ,  0.11111111]])"
      ]
     },
     "execution_count": 52,
     "metadata": {},
     "output_type": "execute_result"
    }
   ],
   "source": [
    "# start with a 2 by 2 matrix\n",
    "a=np.array([[3,7],[0,9]])\n",
    "print(a)\n",
    "\n",
    "# compute the inverse\n",
    "ainv=np.linalg.inv(a) \n",
    "\n",
    "ainv"
   ]
  },
  {
   "cell_type": "code",
   "execution_count": 53,
   "metadata": {},
   "outputs": [
    {
     "data": {
      "text/plain": [
       "array([[1., 0.],\n",
       "       [0., 1.]])"
      ]
     },
     "execution_count": 53,
     "metadata": {},
     "output_type": "execute_result"
    }
   ],
   "source": [
    "# indeed ainv is the inverse of a because ainv @ a = I\n",
    "ainv @ a"
   ]
  },
  {
   "cell_type": "markdown",
   "metadata": {},
   "source": [
    "This portfolio is very special so it has many names\n",
    "\n",
    "1. maximum sharpe ratio portfolio\n",
    "\n",
    "2. mean-variance efficient portfolio (MVE)\n",
    "\n",
    "3. Tangency portfolio\n",
    "\n",
    "Names 1 and 2 are pretty clear. Name 3 will become clear later in the course"
   ]
  },
  {
   "cell_type": "markdown",
   "metadata": {},
   "source": [
    "________________________\n",
    "## **Finding the Mean-variance efficient portfolio**\n",
    "\n",
    "\n",
    "First lets construct our vector of expected excess returns for our risky two assets US equity market and International equity market"
   ]
  },
  {
   "cell_type": "code",
   "execution_count": 64,
   "metadata": {},
   "outputs": [
    {
     "data": {
      "text/plain": [
       "MKTUS     0.005140\n",
       "MKTxUS    0.004149\n",
       "dtype: float64"
      ]
     },
     "execution_count": 64,
     "metadata": {},
     "output_type": "execute_result"
    }
   ],
   "source": [
    "assets=['MKTUS','MKTxUS']\n",
    "e=ERe[assets]\n",
    "\n",
    "e"
   ]
  },
  {
   "cell_type": "markdown",
   "metadata": {},
   "source": [
    "We start by estimating the covariance matrix from our data $Var(R^e)$"
   ]
  },
  {
   "cell_type": "code",
   "execution_count": 65,
   "metadata": {},
   "outputs": [
    {
     "data": {
      "text/html": [
       "<div>\n",
       "<style scoped>\n",
       "    .dataframe tbody tr th:only-of-type {\n",
       "        vertical-align: middle;\n",
       "    }\n",
       "\n",
       "    .dataframe tbody tr th {\n",
       "        vertical-align: top;\n",
       "    }\n",
       "\n",
       "    .dataframe thead th {\n",
       "        text-align: right;\n",
       "    }\n",
       "</style>\n",
       "<table border=\"1\" class=\"dataframe\">\n",
       "  <thead>\n",
       "    <tr style=\"text-align: right;\">\n",
       "      <th></th>\n",
       "      <th>MKTUS</th>\n",
       "      <th>MKTxUS</th>\n",
       "    </tr>\n",
       "  </thead>\n",
       "  <tbody>\n",
       "    <tr>\n",
       "      <th>MKTUS</th>\n",
       "      <td>0.001948</td>\n",
       "      <td>0.001264</td>\n",
       "    </tr>\n",
       "    <tr>\n",
       "      <th>MKTxUS</th>\n",
       "      <td>0.001264</td>\n",
       "      <td>0.002182</td>\n",
       "    </tr>\n",
       "  </tbody>\n",
       "</table>\n",
       "</div>"
      ],
      "text/plain": [
       "           MKTUS    MKTxUS\n",
       "MKTUS   0.001948  0.001264\n",
       "MKTxUS  0.001264  0.002182"
      ]
     },
     "execution_count": 65,
     "metadata": {},
     "output_type": "execute_result"
    }
   ],
   "source": [
    "c=Cove.loc[assets,assets]\n",
    "\n",
    "c"
   ]
  },
  {
   "cell_type": "markdown",
   "metadata": {},
   "source": [
    "We then invert the covariance matrix $Var(R^e)^{-1}$"
   ]
  },
  {
   "cell_type": "code",
   "execution_count": 67,
   "metadata": {
    "colab": {
     "base_uri": "https://localhost:8080/",
     "height": 51
    },
    "colab_type": "code",
    "executionInfo": {
     "elapsed": 300,
     "status": "ok",
     "timestamp": 1576516473713,
     "user": {
      "displayName": "yuchi yao",
      "photoUrl": "",
      "userId": "00457884373990713813"
     },
     "user_tz": 300
    },
    "id": "g30KiEbDQ1u0",
    "outputId": "e1607085-aa00-44dd-fd47-4c0581d5fed7"
   },
   "outputs": [
    {
     "data": {
      "text/plain": [
       "array([[ 822.50792137, -476.49212708],\n",
       "       [-476.49212708,  734.40580739]])"
      ]
     },
     "execution_count": 67,
     "metadata": {},
     "output_type": "execute_result"
    }
   ],
   "source": [
    "cinv=np.linalg.inv(c) \n",
    "\n",
    "cinv"
   ]
  },
  {
   "cell_type": "markdown",
   "metadata": {
    "colab_type": "text",
    "id": "CV3kqj0wQ1u2"
   },
   "source": [
    "we then use the dot product to cross-mulitply our vector of expected excess returns by the inverse of the covariance matrix\n",
    "\n",
    "$$Var(R^e)^{-1}E[R^e]$$"
   ]
  },
  {
   "cell_type": "code",
   "execution_count": 68,
   "metadata": {
    "colab": {
     "base_uri": "https://localhost:8080/",
     "height": 34
    },
    "colab_type": "code",
    "executionInfo": {
     "elapsed": 321,
     "status": "ok",
     "timestamp": 1576516489440,
     "user": {
      "displayName": "yuchi yao",
      "photoUrl": "",
      "userId": "00457884373990713813"
     },
     "user_tz": 300
    },
    "id": "aSD1S4pCQ1u2",
    "outputId": "29f833bf-e962-4445-9afb-dd71e6eb14fe"
   },
   "outputs": [
    {
     "data": {
      "text/plain": [
       "array([2.25099751, 0.597729  ])"
      ]
     },
     "execution_count": 68,
     "metadata": {},
     "output_type": "execute_result"
    }
   ],
   "source": [
    "Wmve=cinv @ e\n",
    "Wmve"
   ]
  },
  {
   "cell_type": "code",
   "execution_count": 73,
   "metadata": {},
   "outputs": [
    {
     "data": {
      "text/plain": [
       "array([0.53401107, 0.14180109])"
      ]
     },
     "execution_count": 73,
     "metadata": {},
     "output_type": "execute_result"
    }
   ],
   "source": [
    "Vmax=(0.2**2/12)\n",
    "Wmve * (Vmax/(e @cinv @ e))**0.5"
   ]
  },
  {
   "cell_type": "markdown",
   "metadata": {},
   "source": [
    "Things to try\n"
   ]
  },
  {
   "cell_type": "markdown",
   "metadata": {},
   "source": [
    "Verify that indeed the entire class of portfolios that solve the problem for different variance targets Vmax are also MVE ( i.e they all have the max sharpe ratio)"
   ]
  },
  {
   "cell_type": "code",
   "execution_count": null,
   "metadata": {},
   "outputs": [],
   "source": []
  },
  {
   "cell_type": "markdown",
   "metadata": {},
   "source": [
    "What is the allocation to the risk-free rate? How do you find it? How does it change as you increase/decrease Vmax?"
   ]
  },
  {
   "cell_type": "code",
   "execution_count": null,
   "metadata": {},
   "outputs": [],
   "source": []
  },
  {
   "cell_type": "markdown",
   "metadata": {},
   "source": [
    "\n",
    "How does max SR change as you go from \n",
    "1. only investing in the US equity market\n",
    "1. investing in US equities and US bonds\n",
    "1. Invest everywhere except emerging markets\n",
    "1. investing everywhere including emerging markets\n",
    "1. investing only in global equities and global bonds"
   ]
  },
  {
   "cell_type": "code",
   "execution_count": null,
   "metadata": {},
   "outputs": [],
   "source": []
  },
  {
   "cell_type": "markdown",
   "metadata": {},
   "source": [
    "Compare the gains of investing domestically ( US equities and bonds)  with investing internationally as well (US equities, US bonds, Global equities, global bonds).\n",
    "\n",
    "Why the SR is going up ?What properties of the returns moments the mean-variance optimizer are exploiting? \n",
    "\n",
    "Do we think those are reliable properties? What is the alternative?"
   ]
  },
  {
   "cell_type": "code",
   "execution_count": null,
   "metadata": {},
   "outputs": [],
   "source": []
  },
  {
   "cell_type": "markdown",
   "metadata": {},
   "source": [
    "For the four investment opportunity sets above, compute the optimal expected returns for the following volatilities 6.5%, 7%, 8% , 10% ,15%,30%. Plot the results in a scatter plot with volatility in the X-axis and expected returns in the y-axis. You should see 5 lines. Why they look like that?"
   ]
  },
  {
   "cell_type": "code",
   "execution_count": null,
   "metadata": {},
   "outputs": [],
   "source": []
  },
  {
   "cell_type": "markdown",
   "metadata": {},
   "source": [
    "Compare the benefits of a US investor to invest globally and the benefit of an international investor investing in the US ( ignore Emerging markets). Looking at individual assets risk-premiums and volatility explain the benefits of investing across multiple assets"
   ]
  },
  {
   "cell_type": "code",
   "execution_count": null,
   "metadata": {},
   "outputs": [],
   "source": []
  }
 ],
 "metadata": {
  "colab": {
   "collapsed_sections": [],
   "provenance": [],
   "toc_visible": true
  },
  "kernelspec": {
   "display_name": "base",
   "language": "python",
   "name": "python3"
  },
  "language_info": {
   "codemirror_mode": {
    "name": "ipython",
    "version": 3
   },
   "file_extension": ".py",
   "mimetype": "text/x-python",
   "name": "python",
   "nbconvert_exporter": "python",
   "pygments_lexer": "ipython3",
   "version": "3.9.19"
  },
  "toc-autonumbering": true
 },
 "nbformat": 4,
 "nbformat_minor": 4
}
