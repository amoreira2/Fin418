{
 "cells": [
  {
   "cell_type": "markdown",
   "metadata": {},
   "source": [
    "**Simulating the Simulation**\n",
    "\n",
    "\n",
    "- As we saw above, each simulation is naturally different.\n",
    "\n",
    "- Like our sample, it is simply one draw of the distribution\n",
    "\n",
    "-How often does the higher moments come the way that they do in our sample?"
   ]
  },
  {
   "cell_type": "code",
   "execution_count": null,
   "metadata": {},
   "outputs": [
    {
     "data": {
      "text/plain": [
       "<matplotlib.axes._subplots.AxesSubplot at 0x2721502f250>"
      ]
     },
     "metadata": {},
     "output_type": "display_data"
    },
    {
     "data": {
      "image/png": "[encoded data removed]",
      "text/plain": [
       "<Figure size 432x288 with 1 Axes>"
      ]
     },
     "metadata": {},
     "output_type": "display_data"
    }
   ],
   "source": [
    "# I am initializing an array with 1000 zero entries\n",
    "kurt=np.zeros(1000)\n",
    "\n",
    "#now each step of the for loop I am drawing one realization of sample exactly as large as our sample\n",
    "for i in range(0,1000):\n",
    "    X=pd.Series(np.random.normal(mu,std,T))\n",
    "    kurt[i]=X.kurtosis()\n",
    "    \n",
    "\n",
    "\n",
    "pd.Series(kurt).hist(bins=50)"
   ]
  },
  {
   "cell_type": "markdown",
   "metadata": {},
   "source": [
    "**A comment on sample moments vs populational moments**\n",
    "\n",
    "We care about the population variance, i.e. what is the true variance of these assets going forward\n",
    "\n",
    "We use the realized variance to the extent it help us estimate this.\n",
    "\n",
    "Just like with average returns and expected returns\n",
    "\n",
    "The key assumption, which tends to be ok over long time-peridos (say acorss years) is that the volatility is kind of stable, so we use the overall variance to gauge what the population is.\n",
    "\n",
    "We will later discuss methods that deal with time-variation in these moments, but for now lets think as the population moments being constant\n",
    "\n",
    "**dealing wiht the risk-free rate**\n",
    "\n",
    "Again the risk-free rate is different, becasue as we discussed variation in the risk-free rate directly tracks what people expect to get from investing in the risk-free asset in different points in time, and not risk, so the formal way to think about it is what people call the Law of interated expectations\n",
    "\n",
    "\n",
    "$$Var(R)=Var(E_t[R])+E(Var_t[R])$$\n",
    "\n",
    "So the overal variance of a series is the sum of the vairance of what people expected at a point in time and the average value of the variance of the asset at a given point in time\n",
    "\n",
    "For a risky asset, we think that there is very little variation in $E_t[R]$ so the overall variance is all risk.\n",
    "\n",
    "For a risk-less asset, there is zero risk, so the second term is zero, and all the variantion of the asset is about variation in these expectations.\n",
    "\n",
    "This means that is wrong to add the risk-free rate when you do variance calculations because you are attributing to risk, which is variation in what people expected to earn (and that is not risk)\n"
   ]
  },
  {
   "cell_type": "markdown",
   "metadata": {},
   "source": [
    "\n",
    "\n",
    "\n",
    "* Below I reproduce the plot of constructed last chapter\n",
    "\n",
    "* It shows the average **EXCESS** return and standard deviation for portfolios with different weights in the risk-free asset, the US stock market, and the international stock market\n",
    "\n",
    "\n",
    "![MVfrontier](../../assets/plots/MV1.jpg)\n",
    "\n",
    "* The upper envelope that defines the \"investment frontier\", i.e., what is achievable in terms of risk and expected returns\n",
    "\n",
    "* If you are in this envelope, you know that in order to get less risk you will have to reduce your expected return\n",
    "\n",
    "* There is no portfolio with a higher expected return and the same volatility\n",
    "\n",
    "* And no portfolio with the same expected return and lower volatility\n",
    "\n",
    "* In volatility-expected return space all these \"investment frontier\" portfolio are in a straight line\n",
    "\n",
    "* What does this mean?\n",
    "\n",
    "* These portfolios achieve exactly the same ratio of expected excess return per unit of volatility since a straight line has constant slope\n",
    "\n",
    "* So all these portfolios have exactly the same Sharpe ratio ($\\frac{E[r_p-R_f]}{std(r_p-R_f)}$)\n",
    "\n",
    "* This is also the maximum SR among all possible portfolios of the basis assets \n",
    "\n",
    "  *  (in this case only two: US and world portfolio)\n",
    "\n",
    "\n",
    "> What do these \"efficient\" portfolios look like? Do they have the same weights? How do the weights in the assets vary?\n",
    "\n",
    "\n"
   ]
  },
  {
   "cell_type": "markdown",
   "metadata": {},
   "source": [
    "## **Mathematical derivation of the Mean-variance Frontier**\n",
    "\n",
    "* These portfolios all can be thought as minimizing variance for a given desired expected return\n",
    "\n",
    "* or maximizing expected returns for a given aversion to variance \n",
    "\n",
    "* Formally they are choosing their composition of their portfolio \n",
    "\n",
    "$$r_p(X)=X'R+(1-\\sum_i^I x_i)r_f$$\n",
    "\n",
    "* Which is a portfolio that invests in risky assets (vector of returns R) and the rest $(1-\\sum_i^I x_i)$ at the risk-free rate.\n",
    "\n",
    "* note that I use big R here to emphasize that this is a vector of asset returns, like ($[r^{AAPL},r^{TSLA},..]$), and little $r_f$ to emphasize this is just a scalar (like 1%)\n",
    "\n",
    "* Note that $(1-\\sum_i^I x_i)<0$. what is the interpretation of this number being negative? What is the interpretation of being positive?\n",
    "\n",
    "* So given weights X, asset returns R and rf, the portfolio returns $r_p(X)$\n",
    "\n",
    "$$\n",
    "\\begin{aligned}\n",
    "maximize_{X} E[r_p(X)]- \\frac{\\gamma}{2} Var(r_p(X))\\\\\n",
    "\\end{aligned}\n",
    "$$\n",
    "\n",
    "\n",
    "### **Excess return representation**\n",
    "\n",
    "It is much easier to do the math and see what is going on if we separate the excess returns and the return piece so we represent our portfolio as\n",
    "\n",
    "$$r_p(X)=X'R+(1-\\sum_i^I x_i)r_f=X'R+r_f-(\\sum_i^I x_i)r_f=X'(R-r_f)+r_f$$\n",
    "\n",
    "$$r_p(X)=X'R^e+r_f$$\n",
    "\n",
    "* where $R^e$  is the vector of excess returns\n",
    "* It is KEY to note that all the risky assets are now zero cost portfolios\n",
    "* So each risky asset is really a portfolio that is long the risky asset and short the risk-free rate\n",
    "* This means that no matter the sum of the weights in X, the cost of this risky portfolio is zero\n",
    "* How this this works?\n",
    "* Say you have 1m dollar to invest\n",
    "   - We represent your portfolio as:\n",
    "   - The compositions/relative weights  $X/\\sum x_i$ of your risky portfolio\n",
    "   - How much of this dollar to allocate to you risky portfolio by choosing $\\sum x_i$ the total fraction of your wealth invested in risky assets\n",
    "* If  $\\sum x_i>1$ then you are leveraging since you are investing more that 100% of your wealth in the risky assets, i.e. borrowing money to invest more than you have in the risky assets. \n",
    "* If $\\sum x_i<1$ then you are invest a fraction less than 1 in the risky portfolio, thus you are leaving some money invested in the risk-free asset\n",
    "\n",
    "You can think borrowing as shorting. They are different words for the same thing when used in the context of risk-free assets\n",
    "\n",
    "### **Solution**\n",
    "\n",
    "\n",
    "* First write our objective function in vector notation\n",
    "\n",
    "$$E[r_p(X)]- \\frac{\\gamma}{2} Var(r_p(X))=E[r_f+X'R^e]- \\frac{\\gamma}{2} Var(r_f+X'R^e)$$\n",
    "\n",
    "$$E[r_p(X)]- \\frac{\\gamma}{2} Var(r_p(X))=r_f+X'E[R^e]- \\frac{\\gamma}{2} X'Var(R^e)X$$\n",
    "\n",
    "* All you need is to take the derivative of the expression with respect to the risky portfolio weights $X$ :\n",
    "\n",
    "\n",
    "$$E[R^e]- 2\\gamma/2 Var(R^e)X$$\n",
    "\n",
    "* and impose the \"first order condition\":\n",
    "$$\n",
    "\\begin{aligned}\n",
    "E[R^e]- \\gamma Var(R^e)X^*=0\n",
    "\\end{aligned}\n",
    "$$\n",
    "\n",
    "* which simply means that if $X^*$ is really the weight that maximizes the expression, if you move it a little bit in any direction, the value of the expression shouldn't move much\n",
    "\n",
    "\n",
    "*An aside*\n",
    "\n",
    "* What is the intution for this condition?\n",
    "\n",
    "* It says that for a tiny move in either direction, the benefit should be zero either way\n",
    "\n",
    "* Lets consider that we want to find the x that maximizes: $4x-x^2$  "
   ]
  },
  {
   "cell_type": "code",
   "execution_count": null,
   "metadata": {},
   "outputs": [
    {
     "data": {
      "text/plain": [
       "<matplotlib.collections.PathCollection at 0x21ce22aa490>"
      ]
     },
     "metadata": {},
     "output_type": "display_data"
    },
    {
     "data": {
      "image/png": "[encoded data removed]",
      "text/plain": [
       "<Figure size 432x288 with 1 Axes>"
      ]
     },
     "metadata": {},
     "output_type": "display_data"
    }
   ],
   "source": [
    "x=np.arange(0,4,0.1)\n",
    "plt.scatter(x,4*x-x**2)"
   ]
  },
  {
   "cell_type": "markdown",
   "metadata": {},
   "source": [
    "* This is maximized at 2\n",
    "\n",
    "* The FOC for this case is simply the derivatinve of $4x-x^2$ which is\n",
    "\n",
    "$$4-2x^*=0$$\n",
    "\n",
    "* Which means $x^*=2$\n",
    "\n",
    "* You see in the plot that pertubating x a little bit has no effect on the value\n",
    "\n",
    "* close to the peak, the expression is flat.\n"
   ]
  },
  {
   "cell_type": "markdown",
   "metadata": {},
   "source": [
    "## **The Tangecy  portfolio**\n",
    "\n",
    "\n",
    "\n",
    "* Rewriting our first order condition we have\n",
    "\n",
    "\n",
    "$\n",
    "\\begin{align}\n",
    "\\gamma Var(R^e)X^* &=E[R^e]\\\\\n",
    "(\\gamma Var(R^e))^{-1}\\gamma Var(R^e)X^* &=(\\gamma Var(R^e))^{-1}E[R^e]\\\\\n",
    "X^* &=(\\gamma Var(R^e))^{-1}E[R^e]\\\\\n",
    "X^* &=\\frac{1}{\\gamma} Var(R^e)^{-1}E[R^e]\n",
    "\\end{align}$\n",
    "\n",
    "* We simply multiplied both the RHS and the LHS by the inverse of the matrix $\\gamma Var(R^e)$ that was multiplying the weight\n",
    "\n",
    "* This is equivalent to solving 5x=4, by dividing though by 5 to get x=4/5, but in matrix form\n",
    "\n",
    "\n",
    "*Questions*\n",
    "\n",
    "* How does your distaste for risk $\\gamma$ impact your portfolio composition?\n",
    "\n",
    "* Does it impact the relative weights in the risky assets?\n",
    "\n",
    "Note that $X^*$ is the optimal position in risky assets and therefore has the same dimension as the number of assets you are considering. \n",
    "\n",
    "\n"
   ]
  },
  {
   "cell_type": "markdown",
   "metadata": {},
   "source": [
    "__________________\n",
    "\n",
    "*Aside: Three different problems with exactly the same solution*\n",
    "\n",
    "We solved this problem\n",
    "\n",
    "$$\n",
    "\\begin{aligned}\n",
    "maximize_{(X)} E[X'R^e]- \\gamma/2 Var(X'R^e)\\\\\n",
    "\\end{aligned}\n",
    "$$\n",
    "\n",
    "This problem has the same solution as minimizing the variance subject to hitting a desired minimum expected return target\n",
    "\n",
    "\n",
    "$$\n",
    "\\begin{aligned}\n",
    "minimize_{(X)} Var(X'R^e) \\text{    subject to } E[X'R^e]\\geq\\mu^{Desired}\\\\\n",
    "\\end{aligned}\n",
    "$$\n",
    "\n",
    "or maximizing the expected  return subject to hitting a maximum desired volatility  target\n",
    "\n",
    "\n",
    "$$\n",
    "\\begin{aligned}\n",
    "maximize_{(X)} E(X'R^e) \\text{   subject to } Var(X'R^e)\\leq Var^{Desired}\\\\\n",
    "\\end{aligned}\n",
    "$$\n",
    "\n",
    "This means that once we have the tangency portfolio solution we can simply scale up and down the portfolio weights to achieve the desired volatility or expected return"
   ]
  },
  {
   "cell_type": "markdown",
   "metadata": {},
   "source": [
    "## **Two-fund separation**\n",
    "\n",
    "* It tells us that the decision of which assets to invest is completely independent of your risk-aversion\n",
    "\n",
    "* Your risky portfolio is always the same, and you risk-aversion simply determines how much of it you will have, versus the risk-free rate\n",
    "\n",
    "* Please take a moment to appreciate this \n",
    "\n",
    "* Why that happens?\n",
    "\n",
    "Because any portfolio that is proportional to $Var(R^e)^{-1}E[R^e]$ achieve the highest feasible Sharpe Ratio\n",
    "\n",
    "* Why is that?\n",
    "\n",
    "Recall what a SR is : $E[r-r_f]/\\sigma(r-r_f)$. Since this portfolio solves the problem of maximizing expected return for a given level of volatility, it also is the portfolio with maximum Sharpe Ratio\n",
    "\n",
    "Note further that any linear combination of this portfolio with the risk-free rate will achieve exactly the same sharpe ratio. \n",
    "\n",
    "Let $r_p=r_f+wr^*$ then $E[r_p-r_f]/\\sigma(r_p)=E[wr^*]/\\sigma(wr^*+r_f)=E[r^*]/\\sigma(r^*)$\n",
    "\n",
    "\n"
   ]
  },
  {
   "cell_type": "markdown",
   "metadata": {},
   "source": [
    "## **Properties of the Tangency Portfolio**\n",
    "\n",
    "Any portfolio that is proportional to  $Var(R^e)^{-1}E[R^e]$ is in the **Tangency** of the mean-variance frontier\n",
    "\n",
    "I will refer to $X_T=Var(R^e)^{-1}E[R^e]$ as the tangency portfolio, but formally any other portfolio that is of the form $y X_T$ where y is a scalar is also tangency.\n",
    "\n",
    "1. What is the expected excess return of the tangency portfolio?\n",
    "\n",
    "$$E[yX_T'R^e]=yE[E[R^e]'Var(R^e)^{-1}R^e]=yE[R^e]'Var(R^e)^{-1}E[R^e]$$\n",
    "\n",
    "2. What is the volatility of the tangency portfolio?\n",
    "\n",
    "$$Var[yX_T'R^e]=y^2Var(E[R^e]'Var(R^e)^{-1}R^e)=y^2E[R^e]'Var(R^e)^{-1}Var(R^e)Var(R^e)^{-1}E[R^e]$$\n",
    "\n",
    "$$Var[yX_T'R^e]=y^2E[R^e]'Var(R^e)^{-1}E[R^e]$$\n",
    "\n",
    "$$STD[yX_T'R^e]=y\\sqrt{E[R^e]'Var(R^e)^{-1}E[R^e]}$$\n",
    "\n",
    "3. What is the Sharpe Ratio of the Tangency portfolio?\n",
    "\n",
    "$$\\frac{E[yW_T'R^e]}{STD[yW_T'R^e+r_f]}=\\sqrt{E[R^e]'Var(R^e)^{-1}E[R^e]}$$\n",
    "\n",
    "As we saw before, the Sharpe Ratio is invariant to the precise location that you choose in the investment frontier. \n",
    "\n",
    "Volatility and Expected excess return will vary, but any leverage effect will exactly cancel out when you look at the Sharpe Ratio\n",
    "\n",
    "So Sharpe Ratio is nice because it is invariant to leverage"
   ]
  },
  {
   "cell_type": "markdown",
   "metadata": {},
   "source": [
    "**Portfolio advice summary (so far!)**\n",
    "\n",
    "* All investors invest in the same portfolio of risky assets, regardless of risk aversion.\n",
    "\n",
    "* Depending on risk aversion (desired level of volatility) , they choose an appropriate mix of risk-free and risky fund investments\n",
    "\n",
    "__________________\n",
    "*Reality is a bit more complicated*\n",
    "\n",
    "- Here we assume your preferences: You like higher portfolio expected returns and dislikes portfolio variance\n",
    "\n",
    "- Peoples preferences for risk are likely to be much richer than these simple preferences\n",
    "\n",
    "- We will discuss later how to incorporate other risk dimensions (tail risks, background risks, etc)\n",
    "\n",
    "- We also ignore investment horizon effects which we will discuss later in the course\n"
   ]
  },
  {
   "cell_type": "markdown",
   "metadata": {},
   "source": [
    "\n",
    "\n",
    "In econometrics there is a whole field dedicated towards finding features of the data that are \"robust\". Features that don't vary too much from sample to sample.\n",
    "\n",
    "As you can see this can be super useful here. \n",
    "\n",
    "This techniques get complicated very quickly with Bayesian methods, Shrinkage methods, and so on. Well beyond the scope of this class.\n",
    "\n",
    "The industry however uses two approaches that attempt to get at that by de-emphasizing information about the pieces of the data that we are most uncertain about.\n",
    "\n",
    "Two approaches are particularly popular\n",
    "\n",
    "\n",
    "  * Minimum-variance investing\n",
    "  \n",
    "  * Risk parity\n",
    "  \n",
    "\n",
    "\n",
    "**Minimum-variance investing**\n",
    "\n",
    "\n",
    "* Mean-variance investing under the assumption that all assets have same expected returns, but uses covariance matrix to minimize risk\n",
    "\n",
    " * The idea is that expected returns signals are pure noise so we might as well assume there are no signals and all expected returns are the same\n",
    "  \n",
    " * For example this is behind Minimum volatility investing for example, [https://investor.vanguard.com/mutual-funds/profile/VMVFX]\n",
    "  \n",
    "* Assumes all assets have the same expected return\n",
    "\n",
    "$$Min~ W'Var(R)W~ subject~ to~ \\mathbf{1}'W=1$$\n",
    "\n",
    "$$W_{minvariance}\\propto Var(R)^{-1}\\mathbf{1}$$\n",
    "\n",
    "Imposing the constraint: \n",
    "$$W_{minvariance}=\\frac{Var(R)^{-1}\\mathbf{1}}{\\mathbf{1}^TVar(R)^{-1}\\mathbf{1}}$$\n",
    "\n",
    "* I use this technique in \"hedging-risk factors\", a recent academic paper, to construct portfolios with Sharpe-ratios of 0.8 at the yearly horizon, which is very large\n",
    "\n",
    "> Why this might make sense?\n",
    "\n",
    "So you see here that the problem is really identical to the mean-variance problem. We simply substituted the vector or Expected returns by a vector of ones.\n",
    "\n",
    "The end result is that now the solution is the portfolio that minimizes variance while being fully invested as the constraint $\\mathbf{1}'W=1$ means $\\sum_i^I w_i*1=1$\n",
    "\n",
    "\n",
    "\n",
    "\n",
    "**Risk- Parity**\n",
    "\n",
    "\n",
    "* Risk-parity investing: Mean-variance investing under the assumption that all expected returns are equal, and the correlations across all assets are zero. \n",
    "  * Sometimes the assumption is that all Sharpe Ratios are equal \n",
    "  * This is the strategy behind the biggest hedge funds on the planet [https://www.bridgewater.com/resources/our-thoughts-about-risk-parity-and-all-weather.pdf]\n",
    "  \n",
    "\n",
    "* It assumes that the non-diagonal terms in the covariance matrix are all zero.\n",
    "\n",
    "$$Var_{RP}(R)=diag(Var(R))=\\left[\\begin{array}{ccc}\\sigma_1^2 & 0 & 0\\\\0 & \\sigma_2^2 &0 \\\\0 & 0& \\sigma^2_3\\end{array}\\right]$$\n",
    "\n",
    "* we then have \n",
    "\n",
    "$$Min~ W'Var_{RP}(R)W ~ subject~ to~ \\mathbf{1}'W=1$$\n",
    "\n",
    "* it follows\n",
    "\n",
    "$$W_{RP}\\propto Var_{RP}(R)^{-1}\\mathbf{1}=\\left[\\begin{array}{c}\\frac{1}{\\sigma_1^2}\\\\\\frac{1}{\\sigma_2^2}\\\\\\frac{1}{\\sigma_3^2}\\end{array}\\right]$$\n",
    "\n",
    "\n",
    "\n",
    "* another implementation is one where the Sharpe Ratio is the same across assets, so the Expected return scales with volatility.\n",
    "\n",
    "$$E_{RP}(R)=\\left[\\begin{array}{ccc}\\sigma_1\\\\\\sigma_2\\\\\\sigma_3\\end{array}\\right]\\times SR$$\n",
    "\n",
    "\n",
    "$$W_{RP}=Var_{RP}(R)^{-1}E_{RP}[R]=\\left[\\begin{array}{ccc}\\sigma_1^2 & 0 & 0\\\\0 & \\sigma_2^2 &0 \\\\0 & 0& \\sigma^2_3\\end{array}\\right]^{-1}\\left[\\begin{array}{ccc}\\sigma_1\\\\\\sigma_2\\\\\\sigma_3\\end{array}\\right]\\times SR=SR\\left[\\begin{array}{c}\\frac{1}{\\sigma_1}\\\\\\frac{1}{\\sigma_2}\\\\\\frac{1}{\\sigma_3}\\end{array}\\right]$$\n",
    "\n",
    "\n",
    "$$W_{RP}\\propto \\left[\\begin{array}{c}\\frac{1}{\\sigma_1}\\\\\\frac{1}{\\sigma_2}\\\\\\frac{1}{\\sigma_3}\\end{array}\\right]$$\n",
    "\n",
    "In the first approach you invest inversely proportional to variance\n",
    "\n",
    "In the second approach you invest inversely proportional to volatility\n",
    "\n",
    "The important point is that estimate even less moments than the minimum-variance approach. Now it assumes all correlations are zero\n",
    "\n",
    "> Why this might make sense?\n",
    "\n",
    "> Why does the assumption of ZERO correlation a conservative ASSUMPTION?\n",
    "\n",
    "\n",
    "Below we will implement the second approach.\n",
    "\n",
    "The key trick that we will use is the `np.diag()` function to extract the diagonal of the covariance matrix when applied to a matrix and to build a matrix only with the diagonal terms when applied to a vector"
   ]
  },
  {
   "cell_type": "code",
   "execution_count": null,
   "metadata": {},
   "outputs": [],
   "source": []
  },
  {
   "cell_type": "markdown",
   "metadata": {},
   "source": []
  },
  {
   "cell_type": "markdown",
   "metadata": {},
   "source": [
    "**Application 3: what is a good Momentum ETF?**"
   ]
  },
  {
   "cell_type": "code",
   "execution_count": null,
   "metadata": {},
   "outputs": [
    {
     "data": {
      "text/plain": [
       "<AxesSubplot:xlabel='date'>"
      ]
     },
     "metadata": {},
     "output_type": "display_data"
    },
    {
     "data": {
      "image/png": "[encoded data removed]",
      "text/plain": [
       "<Figure size 432x288 with 1 Axes>"
      ]
     },
     "metadata": {},
     "output_type": "display_data"
    }
   ],
   "source": [
    "names=['VFMO','QMOM','FDMO','MTUM','IMTM','IMOM']\n",
    "dmom=get_returns([names[0]],conn,'1/1/1960','1/1/2022')\n",
    "for n in names[1:]:\n",
    "    df=get_returns([n],conn,'1/1/1960','1/1/2022')\n",
    "    dmom=dmom.merge(df,left_index=True,right_index=True,how='outer')\n",
    "dmom.columns=names    \n",
    "(dmom+1).cumprod().plot()"
   ]
  },
  {
   "cell_type": "code",
   "execution_count": null,
   "metadata": {},
   "outputs": [],
   "source": [
    "\n",
    "# lets merge\n",
    "df=(dff6/100).merge(dmom.to_period(\"M\"),left_index=True,right_index=True,how='inner')\n",
    "# lets conver to excess returns\n",
    "df[names]=df[names].subtract(df['RF'],axis=0)"
   ]
  },
  {
   "cell_type": "code",
   "execution_count": null,
   "metadata": {},
   "outputs": [
    {
     "data": {
      "text/plain": [
       "Index(['Mkt-RF', 'SMB', 'HML', 'RMW', 'CMA', 'RF', 'Mom   ', 'VFMO', 'QMOM',\n",
       "       'FDMO', 'MTUM', 'IMTM', 'IMOM'],\n",
       "      dtype='object')"
      ]
     },
     "metadata": {},
     "output_type": "display_data"
    }
   ],
   "source": [
    "temp.columns"
   ]
  },
  {
   "cell_type": "code",
   "execution_count": null,
   "metadata": {},
   "outputs": [
    {
     "data": {
      "text/html": [
       "<div>\n",
       "<style scoped>\n",
       "    .dataframe tbody tr th:only-of-type {\n",
       "        vertical-align: middle;\n",
       "    }\n",
       "\n",
       "    .dataframe tbody tr th {\n",
       "        vertical-align: top;\n",
       "    }\n",
       "\n",
       "    .dataframe thead th {\n",
       "        text-align: right;\n",
       "    }\n",
       "</style>\n",
       "<table border=\"1\" class=\"dataframe\">\n",
       "  <thead>\n",
       "    <tr style=\"text-align: right;\">\n",
       "      <th></th>\n",
       "      <th>VFMO</th>\n",
       "      <th>QMOM</th>\n",
       "      <th>FDMO</th>\n",
       "      <th>MTUM</th>\n",
       "      <th>IMTM</th>\n",
       "      <th>IMOM</th>\n",
       "    </tr>\n",
       "  </thead>\n",
       "  <tbody>\n",
       "    <tr>\n",
       "      <th>alpha</th>\n",
       "      <td>-0.001458</td>\n",
       "      <td>-0.002718</td>\n",
       "      <td>-0.002354</td>\n",
       "      <td>0.001112</td>\n",
       "      <td>-0.002008</td>\n",
       "      <td>-0.005894</td>\n",
       "    </tr>\n",
       "    <tr>\n",
       "      <th>t(alpha)</th>\n",
       "      <td>-0.430959</td>\n",
       "      <td>-0.63581</td>\n",
       "      <td>-1.664363</td>\n",
       "      <td>0.869311</td>\n",
       "      <td>-0.847557</td>\n",
       "      <td>-1.459713</td>\n",
       "    </tr>\n",
       "    <tr>\n",
       "      <th>betamkt</th>\n",
       "      <td>1.132283</td>\n",
       "      <td>1.39176</td>\n",
       "      <td>1.024135</td>\n",
       "      <td>1.00483</td>\n",
       "      <td>0.761741</td>\n",
       "      <td>0.958616</td>\n",
       "    </tr>\n",
       "    <tr>\n",
       "      <th>t(betamkt)</th>\n",
       "      <td>16.762846</td>\n",
       "      <td>13.753471</td>\n",
       "      <td>31.996319</td>\n",
       "      <td>31.597999</td>\n",
       "      <td>13.558808</td>\n",
       "      <td>10.029335</td>\n",
       "    </tr>\n",
       "    <tr>\n",
       "      <th>betamom</th>\n",
       "      <td>0.186237</td>\n",
       "      <td>0.394746</td>\n",
       "      <td>0.254752</td>\n",
       "      <td>0.345416</td>\n",
       "      <td>0.09699</td>\n",
       "      <td>0.15187</td>\n",
       "    </tr>\n",
       "    <tr>\n",
       "      <th>t(betamom)</th>\n",
       "      <td>2.178768</td>\n",
       "      <td>3.281823</td>\n",
       "      <td>6.461063</td>\n",
       "      <td>9.626601</td>\n",
       "      <td>1.568105</td>\n",
       "      <td>1.336749</td>\n",
       "    </tr>\n",
       "    <tr>\n",
       "      <th>R-squared</th>\n",
       "      <td>0.917845</td>\n",
       "      <td>0.782982</td>\n",
       "      <td>0.960205</td>\n",
       "      <td>0.919332</td>\n",
       "      <td>0.756383</td>\n",
       "      <td>0.674357</td>\n",
       "    </tr>\n",
       "    <tr>\n",
       "      <th>indio risk</th>\n",
       "      <td>0.064076</td>\n",
       "      <td>0.107838</td>\n",
       "      <td>0.032342</td>\n",
       "      <td>0.039782</td>\n",
       "      <td>0.065174</td>\n",
       "      <td>0.101857</td>\n",
       "    </tr>\n",
       "    <tr>\n",
       "      <th>sample size</th>\n",
       "      <td>34.0</td>\n",
       "      <td>60.0</td>\n",
       "      <td>51.0</td>\n",
       "      <td>92.0</td>\n",
       "      <td>71.0</td>\n",
       "      <td>60.0</td>\n",
       "    </tr>\n",
       "  </tbody>\n",
       "</table>\n",
       "</div>"
      ],
      "text/plain": [
       "                  VFMO       QMOM       FDMO       MTUM       IMTM       IMOM\n",
       "alpha        -0.001458  -0.002718  -0.002354   0.001112  -0.002008  -0.005894\n",
       "t(alpha)     -0.430959   -0.63581  -1.664363   0.869311  -0.847557  -1.459713\n",
       "betamkt       1.132283    1.39176   1.024135    1.00483   0.761741   0.958616\n",
       "t(betamkt)   16.762846  13.753471  31.996319  31.597999  13.558808  10.029335\n",
       "betamom       0.186237   0.394746   0.254752   0.345416    0.09699    0.15187\n",
       "t(betamom)    2.178768   3.281823   6.461063   9.626601   1.568105   1.336749\n",
       "R-squared     0.917845   0.782982   0.960205   0.919332   0.756383   0.674357\n",
       "indio risk    0.064076   0.107838   0.032342   0.039782   0.065174   0.101857\n",
       "sample size       34.0       60.0       51.0       92.0       71.0       60.0"
      ]
     },
     "metadata": {},
     "output_type": "display_data"
    }
   ],
   "source": [
    "temp=df.copy() \n",
    "x= sm.add_constant(temp[['Mkt-RF','Mom   ']])\n",
    "results=pd.DataFrame([],index=[],columns=names)\n",
    "for n in names:\n",
    "    y= temp[n]\n",
    "    res= sm.OLS(y,x,missing='drop').fit()\n",
    "    results.at['alpha',n]=res.params[0]\n",
    "    results.at['t(alpha)',n]=res.tvalues[0]\n",
    "    results.at['betamkt',n]=res.params[1]\n",
    "    results.at['t(betamkt)',n]=res.tvalues[1]\n",
    "    results.at['betamom',n]=res.params[2]\n",
    "    results.at['t(betamom)',n]=res.tvalues[2]\n",
    "    results.at['R-squared',n]=res.rsquared\n",
    "    results.at['indio risk',n]=res.resid.std()*12**0.5\n",
    "    results.at['sample size',n]=res.nobs\n",
    "results"
   ]
  },
  {
   "cell_type": "markdown",
   "metadata": {},
   "source": [
    "* what do you conclude?\n",
    "\n",
    "* Which ETF would you pick?\n",
    "\n",
    "* How to think about the alpha here?\n",
    "\n",
    "* How do you think about the R-squared? Is a large Rsquared good or bad in this case?\n",
    "\n",
    "* How do you account for the differnece in market betas when investing?"
   ]
  },
  {
   "cell_type": "markdown",
   "metadata": {},
   "source": [
    "**Fine tuning your strategy**\n",
    "\n",
    "We know have three piece of data. \n",
    "\n",
    "* **Estimation sample**: The estiamtion sample is exactyl as before. This is the sample we will use to estimate moments, construct the portfolios, and so on. That is where your discovery process will take place. Where you will play with different parameters of the strategy. Statistical tests here are not valid\n",
    "\n",
    "But now the Test sample will change and we will introduce the concept of the hold out sample\n",
    "\n",
    "* **Test sample**: You will use this to run statistical test and see how a particular parameter configuration works on unseen data. In practice you will do the testing multiple times. For example in this example we will play with the look back windown of the covariance estimator, mean estimator and so on. \n",
    "\n",
    "    - So information of the test sample will leak to your method as you do the search.\n",
    "    \n",
    "    - You might settle on a particular specification becasue it worked on this particular sample, but not becasuse it is the most robust out of sample\n",
    "    \n",
    "    - So when you are searching for the specification that works you have the be very careful to not search \"TOO MUCH\"\" so you are overfitting the Test sample\n",
    "    \n",
    "* **Holdout sample**: This is data that your method never looked. That is the true test. You only look at it once you are confident you have a good specification. The hold sample are a much closer reflection of the reality of trading.\n",
    "    - of course it is impossible to really reproduce the reality of trading on future data and information of the holdout sample might leak through the fact that the researcher know what happened in that sample: there was a fiancial crash, a crypto boom, value did poorly and so on. \n",
    "    - This knowledge migth implicly guide your search process. \n",
    "    - So you have to be mindful of why you are makign the choices you are making to gaurd against this form of **look-ahead bias**"
   ]
  },
  {
   "cell_type": "markdown",
   "metadata": {},
   "source": [
    "# CAPItal allocaiton II"
   ]
  },
  {
   "cell_type": "code",
   "execution_count": null,
   "metadata": {},
   "outputs": [
    {
     "data": {
      "text/html": [
       "<div>\n",
       "<style scoped>\n",
       "    .dataframe tbody tr th:only-of-type {\n",
       "        vertical-align: middle;\n",
       "    }\n",
       "\n",
       "    .dataframe tbody tr th {\n",
       "        vertical-align: top;\n",
       "    }\n",
       "\n",
       "    .dataframe thead th {\n",
       "        text-align: right;\n",
       "    }\n",
       "</style>\n",
       "<table border=\"1\" class=\"dataframe\">\n",
       "  <thead>\n",
       "    <tr style=\"text-align: right;\">\n",
       "      <th></th>\n",
       "      <th>samplemean</th>\n",
       "      <th>MKTUS-1std</th>\n",
       "    </tr>\n",
       "  </thead>\n",
       "  <tbody>\n",
       "    <tr>\n",
       "      <th>MKTUS</th>\n",
       "      <td>1.835334</td>\n",
       "      <td>0.296359</td>\n",
       "    </tr>\n",
       "    <tr>\n",
       "      <th>BondUS</th>\n",
       "      <td>1.423373</td>\n",
       "      <td>1.706476</td>\n",
       "    </tr>\n",
       "    <tr>\n",
       "      <th>EM</th>\n",
       "      <td>1.605223</td>\n",
       "      <td>1.836827</td>\n",
       "    </tr>\n",
       "    <tr>\n",
       "      <th>MKTxUS</th>\n",
       "      <td>-1.026421</td>\n",
       "      <td>-0.221975</td>\n",
       "    </tr>\n",
       "    <tr>\n",
       "      <th>BondxUS</th>\n",
       "      <td>3.365823</td>\n",
       "      <td>2.913552</td>\n",
       "    </tr>\n",
       "  </tbody>\n",
       "</table>\n",
       "</div>"
      ],
      "text/plain": [
       "         samplemean  MKTUS-1std\n",
       "MKTUS      1.835334    0.296359\n",
       "BondUS     1.423373    1.706476\n",
       "EM         1.605223    1.836827\n",
       "MKTxUS    -1.026421   -0.221975\n",
       "BondxUS    3.365823    2.913552"
      ]
     },
     "metadata": {},
     "output_type": "display_data"
    }
   ],
   "source": [
    "import statsmodels.api as sm\n",
    "\n",
    "# Define the factors and the market factor\n",
    "factors = ['SMB', 'HML', 'RMW', 'CMA', 'MOM']\n",
    "market_factor = 'Mkt-RF'\n",
    "\n",
    "# Initialize lists to store the results\n",
    "Alpha = []\n",
    "Beta = []\n",
    "residuals = []\n",
    "Alpha_se = []\n",
    "# Run univariate regressions\n",
    "for factor in factors:\n",
    "    X = sm.add_constant(df_ff6[market_factor])\n",
    "    y = df_ff6[factor]\n",
    "    model = sm.OLS(y, X).fit()\n",
    "    Alpha.append(model.params['const'])\n",
    "    Beta.append(model.params[market_factor])\n",
    "    residuals.append(model.resid)\n",
    "\n",
    "# Convert Alpha and Beta to numpy arrays\n",
    "Alpha = np.array(Alpha)\n",
    "Beta = np.array(Beta)\n",
    "\n",
    "# Calculate the variance-covariance matrix of the residuals\n",
    "#under the assumption that the residuals are uncorrelated ( they are not!)\n",
    "\n",
    "residuals_matrix = np.vstack(residuals).T\n",
    "Sigma_e = np.diag(np.diag(np.cov(residuals_matrix.T)))\n",
    "\n",
    "# Display the results\n",
    "print(\"Alpha:\", Alpha*12)\n",
    "print(\"Beta:\", Beta)\n",
    "print(\"Sigma_e:\", Sigma_e*12)\n"
   ]
  },
  {
   "cell_type": "markdown",
   "metadata": {},
   "source": [
    "# Voltiming"
   ]
  },
  {
   "cell_type": "markdown",
   "metadata": {},
   "source": [
    "\n",
    "So the Sharpe ratio is\n",
    "\n",
    "$$SR_{\\sigma}=\\frac{E[x_{i,t}r_{i,t+1}]}{\\sqrt{Var(x_{i,t}r_{i,t+1})}}$$\n",
    "\n",
    "\n",
    "\n",
    "$$SR_{\\sigma}=\\frac{E[\\frac{\\alpha_i}{\\sigma_{i,t}^2}r_{i,t+1}]}{\\sqrt{Var(\\frac{\\alpha_i}{\\sigma_{i,t}^2}r_{i,t+1})}}$$\n",
    "\n",
    "\n",
    "After some manipulation it implies\n",
    "\n",
    "$$SR_{\\sigma}=SR\\sqrt{E[\\sigma_{i,t}^2]E\\left[\\frac{1}{\\sigma_{i,t}^2}\\right]}$$\n",
    "\n",
    "> Math insight:\n",
    "\n",
    "> In general $SR_{\\sigma}>SR$ because of jensen inequality ($E[F(x)]\\geq F(E[X])$ if F is  convex)\n",
    "\n",
    "> Draw a figure to illustrate\n",
    "\n",
    "To get some clean closed formulas lets assume vol is log-normal (it is mostly not)\n",
    "\n",
    "$\\sigma_{t}^2=\\sigma^2 e^{\\epsilon-\\frac{1}{2}\\sigma^2_{\\sigma}}$, with $\\epsilon\\sim N(0,\\sigma^2_{\\sigma})$\n",
    "\n",
    "which satisfied $E[\\sigma_t]=\\sigma$\n",
    "\n",
    "\n",
    "$$SR_{\\sigma}=SR*e^{\\frac{1}{4}\\sigma^2_{\\sigma}}$$\n",
    "\n",
    "The more volatility variation you can predict, higher $\\sigma_{\\sigma}$, the higher the boost in you Sharpe ratio"
   ]
  },
  {
   "cell_type": "markdown",
   "metadata": {},
   "source": [
    "# it was in untilted"
   ]
  },
  {
   "cell_type": "markdown",
   "metadata": {},
   "source": [
    "\n",
    "Do I need this?\n",
    "\n",
    "**But what is your risk-aversion?**\n",
    "\n",
    "That is a hard question to answer!\n",
    "\n",
    "A more productive way to think about this choice is in terms of the level of volatility that you are comfortable with. \n",
    "\n",
    "You can basically choose a gamma that implements your desired volatility\n",
    "\n",
    "using the weights $X^*=\\frac{1}{\\gamma}E[R^e]'Var(R^e)^{-1}$ we get\n",
    "\n",
    "$$Var((X^*)'R^e)=Var(\\frac{1}{\\gamma}E[R^e]'Var(R^e)^{-1}R^e)$$\n",
    "\n",
    "We first pull the $1/\\gamma$ out. Recall that $Var(nx)=n^2Var(x)$\n",
    "\n",
    "$$Var((X^*)'R^e)=\\frac{1}{\\gamma^2}Var(E[R^e]'Var(R^e)^{-1}R^e)$$\n",
    "\n",
    "We now simply pull the vector $E[R^e]'Var(R^e)^{-1}$ out which because it is a vector the math is a bit different.\n",
    "\n",
    "In this case if the random variable X is a vector being multiplied by another vector W, then $Var(WX)=WVar(X)W^T$. Apply this here we get\n",
    "\n",
    "$$Var((W^*)'R^e)=\\frac{1}{\\gamma^2}E[R^e]'Var(R^e)^{-1}Var(R^e)Var(R^e)^{-1}E[R^e]$$\n",
    "\n",
    "Using that $Var(R^e)^{-1}Var(R^e)=I$, i.e. the identity matrix, we get\n",
    "\n",
    "$Var((W^*)'R^e)=\\frac{1}{\\gamma^2}E[R^e]'Var(R^e)^{-1}E[R^e]$\n",
    "\n",
    "We can now solve for the desired level, say you want you portfolio to be mean-variance efficient and have volatility  equal to a target $\\sigma^{D}$, D for desired.\n",
    "\n",
    "$\\sigma^D=\\sqrt{Var((W^*)'R^e)}=\\frac{1}{\\gamma}\\sqrt{E[R^e]'Var(R^e)^{-1}E[R^e]}$\n",
    "\n",
    "where above we took the square root to go from variance to volatility. \n",
    "\n",
    "We can now solve for $\\gamma$ consisten with the desired vol\n",
    "\n",
    "$$\\gamma=\\frac{\\sqrt{E[R^e]'Var(R^e)^{-1}E[R^e]}}{\\sigma^D}$$\n",
    "\n",
    "Thus the optimal weights are \n",
    "\n",
    "$$W^*(\\sigma^D)'=\\frac{\\sigma^D}{\\sqrt{E[R^e]'Var(R^e)^{-1}E[R^e]}}E[R^e]'Var(R^e)^{-1}$$\n",
    "\n",
    "Looks complicated!\n",
    "\n",
    "But it is not\n",
    "\n",
    "Note: $\\sqrt{E[R^e]'Var(R^e)^{-1}E[R^e]}$ is the volatility of the optimal portfolio with risk-aversion 1 ,i.e. the portfolio $W^*=E[R^e]'Var(R^e)^{-1}$. \n",
    "\n",
    "You simply leverage up\\leverage down the weights up and down to hit your desired volatility level\n",
    "\n",
    "The important point is that $\\frac{\\sigma^D}{\\sqrt{E[R^e]'Var(R^e)^{-1}E[R^e]}}$ is a scalar, so you are increasing/decreasing exposure in the risky asset proportionally.\n",
    "\n",
    "Your position in the risk-free asset can be simply solved for \n",
    "\n",
    "\n",
    "$$1-1'X^*=1- \\frac{\\sigma^D}{\\sqrt{E[R^e]'Var(R^e)^{-1}E[R^e]}}1'Var(R^e)^{-1}E[R^e]$$\n",
    "\n",
    "\n",
    "Where $1'X^*=x^*_1+x^*_2+...+x^*_I$ because 1 here is a vector of 1's\n",
    "\n",
    "When you do the dot product of a vector on 1's with any vector it has the effect of summing the different entries of that vector\n",
    "\n",
    "So the more volatility you want, the less you invest in the risk-free asset and the more you invest in the risky assets.\n"
   ]
  },
  {
   "cell_type": "code",
   "execution_count": null,
   "metadata": {},
   "outputs": [],
   "source": [
    "InSampleResults=pd.DataFrame([],index=[])\n",
    "Strategy=pd.DataFrame([],index=[])\n",
    "sigmaD=0.15/(12**0.5)\n",
    "Emv=np.ones(Re.shape[1])\n",
    "for date in Re['1973-1':].index:\n",
    "    ERe=Re[:date- pd.DateOffset(months=1)].mean()\n",
    "    CovRe=Re[:date- pd.DateOffset(months=1)].cov()\n",
    "     # the only difference is that now I use the vector ones instead of \n",
    "        #sample means for expected returns\n",
    "    W=np.linalg.inv(CovRe) @ Emv * (sigmaD/(Emv @ np.linalg.inv(CovRe) @ Emv)**0.5)\n",
    "\n",
    "    InSampleResults.at[date,'avgreturn']=W @ ERe*12\n",
    "    InSampleResults.at[date,'volatility']=(W @ CovRe @ W*12)**0.5\n",
    "    InSampleResults.at[date,'sharperatio']=W @ ERe*12/(W @ CovRe @ W*12)**0.5\n",
    "    Strategy.at[date,'Returns']=W @ Re.loc[date]\n"
   ]
  },
  {
   "cell_type": "code",
   "execution_count": null,
   "metadata": {},
   "outputs": [
    {
     "data": {
      "text/plain": [
       "Text(0.5, 1.0, 'Sharpe Ratio')"
      ]
     },
     "metadata": {},
     "output_type": "display_data"
    },
    {
     "data": {
      "image/png": "[encoded data removed]",
      "text/plain": [
       "<Figure size 432x288 with 1 Axes>"
      ]
     },
     "metadata": {},
     "output_type": "display_data"
    }
   ],
   "source": [
    "ax=plt.Figure()\n",
    "InSampleResults.sharperatio.plot()\n",
    "# Iam using this as trick to plot an horizontal line. So I am getting the dataframing with all the dates and simply subsituting the value of Sharpe ratio below\n",
    "OutofSample=InSampleResults.sharperatio.copy()\n",
    "OutofSample[:]=(Strategy.Returns.mean()*12)/(Strategy.Returns.std()*12**0.5)\n",
    "OutofSample.plot()\n",
    "plt.legend(['in sample','out of sample'])\n",
    "plt.title('Sharpe Ratio')\n"
   ]
  },
  {
   "cell_type": "code",
   "execution_count": null,
   "metadata": {},
   "outputs": [],
   "source": []
  },
  {
   "cell_type": "code",
   "execution_count": null,
   "metadata": {},
   "outputs": [
    {
     "data": {
      "text/plain": [
       "array([ 513.35357526,  815.14734135,  281.19004241,  458.3662201 ,\n",
       "       2459.19902061])"
      ]
     },
     "metadata": {},
     "output_type": "display_data"
    }
   ],
   "source": [
    "1/np.diag(Re.cov())"
   ]
  },
  {
   "cell_type": "code",
   "execution_count": null,
   "metadata": {},
   "outputs": [
    {
     "data": {
      "text/plain": [
       "array([[0.00194798, 0.        , 0.        , 0.        , 0.        ],\n",
       "       [0.        , 0.00122677, 0.        , 0.        , 0.        ],\n",
       "       [0.        , 0.        , 0.00355631, 0.        , 0.        ],\n",
       "       [0.        , 0.        , 0.        , 0.00218166, 0.        ],\n",
       "       [0.        , 0.        , 0.        , 0.        , 0.00040664]])"
      ]
     },
     "metadata": {},
     "output_type": "display_data"
    }
   ],
   "source": [
    "np.diag(np.diag(Re.cov()))"
   ]
  },
  {
   "cell_type": "code",
   "execution_count": null,
   "metadata": {},
   "outputs": [],
   "source": [
    "InSampleResults=pd.DataFrame([],index=[])\n",
    "Strategy=pd.DataFrame([],index=[])\n",
    "sigmaD=0.15/(12**0.5)\n",
    "\n",
    "Ones=np.ones(Re.shape[1])\n",
    "\n",
    "for date in Re['1973-1':].index:\n",
    "    ERe=Re[:date- pd.DateOffset(months=1)].mean()\n",
    "    CovRe=Re[:date- pd.DateOffset(months=1)].cov()\n",
    "    \n",
    "    # this below is the key difference where I coistruct the covriance \n",
    "    # and the expected returns under the risk parity assumption to construc the weights \n",
    "    CovRP=np.diag(np.diag(Re[:date- pd.DateOffset(months=1)].cov()))\n",
    "    ERP=np.diag(Re[:date- pd.DateOffset(months=1)].cov())**0.5\n",
    "\n",
    "    W=np.linalg.inv(CovRP) @ ERP * (sigmaD/(ERP @ np.linalg.inv(CovRP) @ ERP)**0.5)\n",
    "\n",
    "    InSampleResults.at[date,'avgreturn']=W @ ERe*12\n",
    "    InSampleResults.at[date,'volatility']=(W @ CovRe @ W*12)**0.5\n",
    "    InSampleResults.at[date,'sharperatio']=W @ ERe*12/(W @ CovRe @ W*12)**0.5\n",
    "    Strategy.at[date,'Returns']=W @ Re.loc[date]\n"
   ]
  },
  {
   "cell_type": "code",
   "execution_count": null,
   "metadata": {},
   "outputs": [
    {
     "data": {
      "text/plain": [
       "Text(0.5, 1.0, 'Sharpe Ratio')"
      ]
     },
     "metadata": {},
     "output_type": "display_data"
    },
    {
     "data": {
      "image/png": "[encoded data removed]",
      "text/plain": [
       "<Figure size 432x288 with 1 Axes>"
      ]
     },
     "metadata": {},
     "output_type": "display_data"
    }
   ],
   "source": [
    "ax=plt.Figure()\n",
    "InSampleResults.sharperatio.plot()\n",
    "# Iam using this as trick to plot an horizontal line. So I am getting the dataframing with all the dates and simply subsituting the value of Sharpe ratio below\n",
    "OutofSample=InSampleResults.sharperatio.copy()\n",
    "OutofSample[:]=(Strategy.Returns.mean()*12)/(Strategy.Returns.std()*12**0.5)\n",
    "OutofSample.plot()\n",
    "plt.legend(['in sample','out of sample'])\n",
    "plt.title('Sharpe Ratio')\n"
   ]
  }
 ],
 "metadata": {
  "language_info": {
   "name": "python"
  }
 },
 "nbformat": 4,
 "nbformat_minor": 2
}
