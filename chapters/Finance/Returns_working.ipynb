{
 "cells": [
  {
   "cell_type": "code",
   "execution_count": 1,
   "metadata": {},
   "outputs": [],
   "source": [
    "# load libraries used in this notebook\n",
    "import pandas as pd\n",
    "import numpy as np\n",
    "import matplotlib.pyplot as plt\n",
    "import wrds\n",
    "%matplotlib inline"
   ]
  },
  {
   "cell_type": "code",
   "execution_count": 183,
   "metadata": {},
   "outputs": [],
   "source": [
    "# functions that we will use in this notebook that you don;t need to worry about for now\n",
    "\n",
    "def get_daily_wrds_single_ticker(ticker,conn,dividends=True):\n",
    "    tickers = [ticker]\n",
    "    # Retrieve PERMNOs for the specified tickers\n",
    "    permnos = conn.get_table(library='crsp', table='stocknames', columns=['permno', 'ticker', 'namedt', 'nameenddt'])\n",
    "    permnos['nameenddt']=pd.to_datetime(permnos['nameenddt'])\n",
    "    permnos = permnos[(permnos['ticker'].isin(tickers)) & (permnos['nameenddt']==permnos['nameenddt'].max())]\n",
    "    # Extract unique PERMNOs\n",
    "    permno_list = [permnos['permno'].unique().tolist()[0]]\n",
    "    print(permno_list)\n",
    "\n",
    "    # Query daily stock file for the specified PERMNOs\n",
    "    query = f\"\"\"\n",
    "        SELECT permno, date, ret, retx, prc       \n",
    "        FROM crsp.dsf\n",
    "        WHERE permno IN ({','.join(map(str, permno_list))})\n",
    "        ORDER BY date\n",
    "    \"\"\"\n",
    "    daily_returns = conn.raw_sql(query, date_cols=['date'])\n",
    "    daily_returns = daily_returns.merge(permnos[['permno', 'ticker']], on='permno', how='left')\n",
    "    # Pivot data to have dates as index and tickers as columns\n",
    "    # daily_returns = daily_returns.pivot(index='date', columns='ticker', values='ret')\n",
    "    # daily_returns=daily_returns['2000':]\n",
    "    if dividends:\n",
    "        daily_returns['D']=(daily_returns.ret-daily_returns.retx)*daily_returns.prc.abs().shift(1)\n",
    "        daily_returns['P']=daily_returns.prc.abs()\n",
    "        daily_returns=daily_returns[['date','P','D']].set_index('date').dropna()\n",
    "    else:\n",
    "        daily_returns=daily_returns[['date','ret']].set_index('date').dropna()    \n",
    "\n",
    "\n",
    "    return daily_returns\n",
    "\n",
    "\n",
    "def get_daily_wrds_multiple_ticker(tickers,conn):\n",
    "  \n",
    "    # Retrieve PERMNOs for the specified tickers\n",
    "    permnos = conn.get_table(library='crsp', table='stocknames', columns=['permno', 'ticker', 'namedt', 'nameenddt'])\n",
    "    permnos['nameenddt']=pd.to_datetime(permnos['nameenddt'])\n",
    "    permnos = permnos[(permnos['ticker'].isin(tickers)) & (permnos['nameenddt']==permnos['nameenddt'].max())]\n",
    "    # Extract unique PERMNOs\n",
    "    permno_list = permnos['permno'].unique().tolist()\n",
    "    print(permno_list)\n",
    "\n",
    "    # Query daily stock file for the specified PERMNOs\n",
    "    query = f\"\"\"\n",
    "        SELECT permno, date, ret, retx, prc       \n",
    "        FROM crsp.dsf\n",
    "        WHERE permno IN ({','.join(map(str, permno_list))})\n",
    "        ORDER BY date\n",
    "    \"\"\"\n",
    "    daily_returns = conn.raw_sql(query, date_cols=['date'])\n",
    "    daily_returns = daily_returns.merge(permnos[['permno', 'ticker']], on='permno', how='left')\n",
    "    # Pivot data to have dates as index and tickers as columns\n",
    "    daily_returns = daily_returns.pivot(index='date', columns='ticker', values='ret').dropna()    \n",
    "    daily_returns=daily_returns[tickers]\n",
    "\n",
    "\n",
    "\n",
    "    return daily_returns\n",
    "\n",
    "\n",
    "# tickers = ['UNH']\n",
    "# # Retrieve PERMNOs for the specified tickers\n",
    "# permnos = conn.get_table(library='crsp', table='stocknames', columns=['permno', 'ticker', 'namedt', 'nameenddt'])\n",
    "# permnos['nameenddt']=pd.to_datetime(permnos['nameenddt'])\n",
    "# permnos = permnos[(permnos['ticker'].isin(tickers)) & (permnos['nameenddt']==permnos['nameenddt'].max())]\n",
    "\n",
    "# # Extract unique PERMNOs\n",
    "# permno_list = permnos['permno'].unique().tolist()\n",
    "\n",
    "# # Query daily stock file for the specified PERMNOs\n",
    "# query = f\"\"\"\n",
    "#     SELECT permno, date, ret,       \n",
    "#     FROM crsp.dsf\n",
    "#     WHERE permno IN ({','.join(map(str, permno_list))})\n",
    "#     ORDER BY date\n",
    "# \"\"\"\n",
    "# daily_returns = conn.raw_sql(query, date_cols=['date'])\n",
    "# daily_returns = daily_returns.merge(permnos[['permno', 'ticker']], on='permno', how='left')\n",
    "# # Pivot data to have dates as index and tickers as columns\n",
    "# daily_returns = daily_returns.pivot(index='date', columns='ticker', values='ret')\n",
    "# daily_returns=daily_returns['2000':]"
   ]
  },
  {
   "cell_type": "markdown",
   "metadata": {
    "colab_type": "text",
    "id": "v7evuBpxySRq"
   },
   "source": [
    "\n",
    "\n",
    "\n",
    "# A Brief Overview \n",
    "\n",
    "\n"
   ]
  },
  {
   "cell_type": "markdown",
   "metadata": {
    "colab_type": "text",
    "id": "ijxKfmwYySRs"
   },
   "source": [
    "* Define what are returns, which is the key variable of analysis in finance (and this class).\n",
    "* Discuss how to think them of random variables \n",
    "* Discuss the key statistical \"moments\" that we will use to capture their behavior (i.e. how risky they are)\n",
    "* Discuss the normal distribution specifically\n",
    "* Define the concept of Excess returns\n",
    "\n"
   ]
  },
  {
   "cell_type": "markdown",
   "metadata": {
    "colab_type": "text",
    "id": "Zamld3rRySR-"
   },
   "source": [
    "## What is a return?\n",
    "\n",
    "\n",
    "* Lets say you paid $𝑃_𝑡$ in date $t$ for an asset\n",
    "\n",
    "* In date $t+1$ the price is $𝑃_{𝑡+1}$  and you earn some dividend as well $𝐷_{𝑡+1}$\n",
    "\n",
    "* Then we say that your return is\n",
    "\n",
    "$$𝑅_{𝑡+1}=\\frac{𝑃_{𝑡+1}+𝐷_{𝑡+1}−𝑃_𝑡}{𝑃_𝑡}$$\n",
    "\n",
    "* It is the gain you made (everything that you go in date t+1), divided by how much you put in ( the price of the asset)\n",
    "\n",
    "\n",
    "* This definition works for ANY asset that has a positive price\n",
    "\n",
    "* This is the case for stocks, bonds, commodities, crypto, most real assets\n",
    "\n",
    "* The return simply normalizes the \"dollar gain\" by the cost of the asset. \n",
    "\n",
    "* In practice there are many types of distributions that are economically like a dividend but have different names: cash dividends, stock dividends, capital gain distributions, rights offerings, acquisition  related distributions, splits"
   ]
  },
  {
   "cell_type": "markdown",
   "metadata": {},
   "source": [
    "Lets start by loading Price and Dividend data on a single stock\n"
   ]
  },
  {
   "cell_type": "code",
   "execution_count": 181,
   "metadata": {},
   "outputs": [
    {
     "name": "stdout",
     "output_type": "stream",
     "text": [
      "WRDS recommends setting up a .pgpass file.\n",
      "Created .pgpass file successfully.\n",
      "You can create this file yourself at any time with the create_pgpass_file() function.\n",
      "Loading library list...\n",
      "Done\n",
      "[92655]\n"
     ]
    },
    {
     "data": {
      "text/html": [
       "<div>\n",
       "<style scoped>\n",
       "    .dataframe tbody tr th:only-of-type {\n",
       "        vertical-align: middle;\n",
       "    }\n",
       "\n",
       "    .dataframe tbody tr th {\n",
       "        vertical-align: top;\n",
       "    }\n",
       "\n",
       "    .dataframe thead th {\n",
       "        text-align: right;\n",
       "    }\n",
       "</style>\n",
       "<table border=\"1\" class=\"dataframe\">\n",
       "  <thead>\n",
       "    <tr style=\"text-align: right;\">\n",
       "      <th></th>\n",
       "      <th>P</th>\n",
       "      <th>D</th>\n",
       "    </tr>\n",
       "    <tr>\n",
       "      <th>date</th>\n",
       "      <th></th>\n",
       "      <th></th>\n",
       "    </tr>\n",
       "  </thead>\n",
       "  <tbody>\n",
       "    <tr>\n",
       "      <th>1984-10-18</th>\n",
       "      <td>4.87500</td>\n",
       "      <td>0.0</td>\n",
       "    </tr>\n",
       "    <tr>\n",
       "      <th>1984-10-19</th>\n",
       "      <td>4.68750</td>\n",
       "      <td>0.0</td>\n",
       "    </tr>\n",
       "    <tr>\n",
       "      <th>1984-10-22</th>\n",
       "      <td>4.68750</td>\n",
       "      <td>0.0</td>\n",
       "    </tr>\n",
       "    <tr>\n",
       "      <th>1984-10-23</th>\n",
       "      <td>4.56250</td>\n",
       "      <td>0.0</td>\n",
       "    </tr>\n",
       "    <tr>\n",
       "      <th>1984-10-24</th>\n",
       "      <td>4.68750</td>\n",
       "      <td>0.0</td>\n",
       "    </tr>\n",
       "    <tr>\n",
       "      <th>...</th>\n",
       "      <td>...</td>\n",
       "      <td>...</td>\n",
       "    </tr>\n",
       "    <tr>\n",
       "      <th>2023-12-22</th>\n",
       "      <td>520.31000</td>\n",
       "      <td>0.0</td>\n",
       "    </tr>\n",
       "    <tr>\n",
       "      <th>2023-12-26</th>\n",
       "      <td>520.03003</td>\n",
       "      <td>0.0</td>\n",
       "    </tr>\n",
       "    <tr>\n",
       "      <th>2023-12-27</th>\n",
       "      <td>522.78998</td>\n",
       "      <td>0.0</td>\n",
       "    </tr>\n",
       "    <tr>\n",
       "      <th>2023-12-28</th>\n",
       "      <td>524.90002</td>\n",
       "      <td>0.0</td>\n",
       "    </tr>\n",
       "    <tr>\n",
       "      <th>2023-12-29</th>\n",
       "      <td>526.46997</td>\n",
       "      <td>0.0</td>\n",
       "    </tr>\n",
       "  </tbody>\n",
       "</table>\n",
       "<p>9879 rows × 2 columns</p>\n",
       "</div>"
      ],
      "text/plain": [
       "                    P    D\n",
       "date                      \n",
       "1984-10-18    4.87500  0.0\n",
       "1984-10-19    4.68750  0.0\n",
       "1984-10-22    4.68750  0.0\n",
       "1984-10-23    4.56250  0.0\n",
       "1984-10-24    4.68750  0.0\n",
       "...               ...  ...\n",
       "2023-12-22  520.31000  0.0\n",
       "2023-12-26  520.03003  0.0\n",
       "2023-12-27  522.78998  0.0\n",
       "2023-12-28  524.90002  0.0\n",
       "2023-12-29  526.46997  0.0\n",
       "\n",
       "[9879 rows x 2 columns]"
      ]
     },
     "execution_count": 181,
     "metadata": {},
     "output_type": "execute_result"
    }
   ],
   "source": [
    "conn = wrds.Connection()\n",
    "df_UNH=get_daily_wrds_single_ticker('UNH',conn)\n",
    "df_UNH"
   ]
  },
  {
   "cell_type": "code",
   "execution_count": null,
   "metadata": {},
   "outputs": [
    {
     "data": {
      "text/html": [
       "<div>\n",
       "<style scoped>\n",
       "    .dataframe tbody tr th:only-of-type {\n",
       "        vertical-align: middle;\n",
       "    }\n",
       "\n",
       "    .dataframe tbody tr th {\n",
       "        vertical-align: top;\n",
       "    }\n",
       "\n",
       "    .dataframe thead th {\n",
       "        text-align: right;\n",
       "    }\n",
       "</style>\n",
       "<table border=\"1\" class=\"dataframe\">\n",
       "  <thead>\n",
       "    <tr style=\"text-align: right;\">\n",
       "      <th></th>\n",
       "      <th>P</th>\n",
       "      <th>D</th>\n",
       "      <th>Ret</th>\n",
       "    </tr>\n",
       "    <tr>\n",
       "      <th>date</th>\n",
       "      <th></th>\n",
       "      <th></th>\n",
       "      <th></th>\n",
       "    </tr>\n",
       "  </thead>\n",
       "  <tbody>\n",
       "    <tr>\n",
       "      <th>1984-10-18</th>\n",
       "      <td>4.87500</td>\n",
       "      <td>0.0</td>\n",
       "      <td>NaN</td>\n",
       "    </tr>\n",
       "    <tr>\n",
       "      <th>1984-10-19</th>\n",
       "      <td>4.68750</td>\n",
       "      <td>0.0</td>\n",
       "      <td>-0.038462</td>\n",
       "    </tr>\n",
       "    <tr>\n",
       "      <th>1984-10-22</th>\n",
       "      <td>4.68750</td>\n",
       "      <td>0.0</td>\n",
       "      <td>0.000000</td>\n",
       "    </tr>\n",
       "    <tr>\n",
       "      <th>1984-10-23</th>\n",
       "      <td>4.56250</td>\n",
       "      <td>0.0</td>\n",
       "      <td>-0.026667</td>\n",
       "    </tr>\n",
       "    <tr>\n",
       "      <th>1984-10-24</th>\n",
       "      <td>4.68750</td>\n",
       "      <td>0.0</td>\n",
       "      <td>0.027397</td>\n",
       "    </tr>\n",
       "    <tr>\n",
       "      <th>...</th>\n",
       "      <td>...</td>\n",
       "      <td>...</td>\n",
       "      <td>...</td>\n",
       "    </tr>\n",
       "    <tr>\n",
       "      <th>2023-12-22</th>\n",
       "      <td>520.31000</td>\n",
       "      <td>0.0</td>\n",
       "      <td>0.000827</td>\n",
       "    </tr>\n",
       "    <tr>\n",
       "      <th>2023-12-26</th>\n",
       "      <td>520.03003</td>\n",
       "      <td>0.0</td>\n",
       "      <td>-0.000538</td>\n",
       "    </tr>\n",
       "    <tr>\n",
       "      <th>2023-12-27</th>\n",
       "      <td>522.78998</td>\n",
       "      <td>0.0</td>\n",
       "      <td>0.005307</td>\n",
       "    </tr>\n",
       "    <tr>\n",
       "      <th>2023-12-28</th>\n",
       "      <td>524.90002</td>\n",
       "      <td>0.0</td>\n",
       "      <td>0.004036</td>\n",
       "    </tr>\n",
       "    <tr>\n",
       "      <th>2023-12-29</th>\n",
       "      <td>526.46997</td>\n",
       "      <td>0.0</td>\n",
       "      <td>0.002991</td>\n",
       "    </tr>\n",
       "  </tbody>\n",
       "</table>\n",
       "<p>9879 rows × 3 columns</p>\n",
       "</div>"
      ],
      "text/plain": [
       "                    P    D       Ret\n",
       "date                                \n",
       "1984-10-18    4.87500  0.0       NaN\n",
       "1984-10-19    4.68750  0.0 -0.038462\n",
       "1984-10-22    4.68750  0.0  0.000000\n",
       "1984-10-23    4.56250  0.0 -0.026667\n",
       "1984-10-24    4.68750  0.0  0.027397\n",
       "...               ...  ...       ...\n",
       "2023-12-22  520.31000  0.0  0.000827\n",
       "2023-12-26  520.03003  0.0 -0.000538\n",
       "2023-12-27  522.78998  0.0  0.005307\n",
       "2023-12-28  524.90002  0.0  0.004036\n",
       "2023-12-29  526.46997  0.0  0.002991\n",
       "\n",
       "[9879 rows x 3 columns]"
      ]
     },
     "execution_count": 102,
     "metadata": {},
     "output_type": "execute_result"
    }
   ],
   "source": [
    "#How do we construct returns?\n",
    "\n",
    "\n",
    "df_UNH['ret']=(df_UNH['P']+df_UNH['D'])/df_UNH['P'].shift(1)-1\n",
    "\n",
    "df_UNH"
   ]
  },
  {
   "cell_type": "markdown",
   "metadata": {},
   "source": [
    "Suppose that at the start of the sample we invested 1 dollar in this stock and got all the dividends and used to buy more of the stock, \n",
    "\n",
    "* how many dollars we would have at the end of the sample?\n",
    "\n",
    "* What is the cumulative return on our investment?\n",
    "\n",
    "* What is the annualized return?\n",
    "\n",
    "* What is the dividend yield?\n",
    "\n",
    "\n"
   ]
  },
  {
   "cell_type": "markdown",
   "metadata": {},
   "source": []
  },
  {
   "cell_type": "markdown",
   "metadata": {},
   "source": []
  },
  {
   "cell_type": "markdown",
   "metadata": {},
   "source": []
  },
  {
   "cell_type": "markdown",
   "metadata": {},
   "source": []
  },
  {
   "cell_type": "code",
   "execution_count": null,
   "metadata": {
    "tags": [
     "hide-cell"
    ]
   },
   "outputs": [
    {
     "name": "stdout",
     "output_type": "stream",
     "text": [
      "134.59749454136372\n",
      "133.59749454136372\n",
      "0.13320600988316555\n"
     ]
    },
    {
     "data": {
      "text/plain": [
       "<AxesSubplot:xlabel='date'>"
      ]
     },
     "execution_count": 89,
     "metadata": {},
     "output_type": "execute_result"
    },
    {
     "data": {
      "image/png": "[encoded data removed]",
      "text/plain": [
       "<Figure size 432x288 with 1 Axes>"
      ]
     },
     "metadata": {
      "needs_background": "light"
     },
     "output_type": "display_data"
    }
   ],
   "source": [
    "print((df_UNH['ret']+1).prod())\n",
    "\n",
    "print((df_UNH['ret']+1).prod()-1)\n",
    "\n",
    "\n",
    "print((df_UNH['ret']+1).prod()**(252/df_UNH.shape[0])-1)\n",
    "\n",
    "\n",
    "(df_UNH.D.rolling(252).sum()/df_UNH.P).plot()"
   ]
  },
  {
   "cell_type": "markdown",
   "metadata": {},
   "source": [
    "Suppose we are now at the end of the sample \n",
    "\n",
    "* You have 1000 dollars invested in this stock in the end of the sample, the next day there’s a 16% chance your portfolio's value will fall below a certain amount. How would you estimate that value?\n",
    "\n",
    "* Now suppose you want to know this value in one year? What is your estimate of this value?\n",
    "\n",
    "* What is the expected value of your holdings in one year? How should you think about estimating this?\n",
    "\n",
    "\n",
    "\n"
   ]
  },
  {
   "cell_type": "markdown",
   "metadata": {},
   "source": []
  },
  {
   "cell_type": "markdown",
   "metadata": {},
   "source": []
  },
  {
   "cell_type": "code",
   "execution_count": null,
   "metadata": {},
   "outputs": [],
   "source": []
  },
  {
   "cell_type": "markdown",
   "metadata": {},
   "source": [
    "What plot can you do to have a sense of the distribution of 1 day returns? And 1 year returns?"
   ]
  },
  {
   "cell_type": "markdown",
   "metadata": {},
   "source": []
  },
  {
   "cell_type": "code",
   "execution_count": null,
   "metadata": {},
   "outputs": [],
   "source": []
  },
  {
   "cell_type": "markdown",
   "metadata": {},
   "source": [
    "What plot can you to give you a sense of these returns varying over time?"
   ]
  },
  {
   "cell_type": "code",
   "execution_count": null,
   "metadata": {},
   "outputs": [],
   "source": []
  },
  {
   "cell_type": "markdown",
   "metadata": {},
   "source": [
    "What drives these returns? Why do they vary over time?\n"
   ]
  },
  {
   "cell_type": "markdown",
   "metadata": {},
   "source": []
  },
  {
   "cell_type": "markdown",
   "metadata": {},
   "source": [
    "## Decomposing Returns\n",
    "\n",
    "* Returns of an individual stock can be driven by many things\n",
    "  - Time-value of money. There are periods where you can get very high returns even in perfectly safe assets\n",
    "  - Common factors, examples: all stocks went up because of a stronger economy, all stocks went down because of a financial crisis\n",
    "  - Individual factors impacting the stock: A new drug/a new technology that the firm sells. Anything specific to the firm\n",
    "\n",
    "\n",
    "\n",
    "### Striping the risk-free rate\n",
    "\n",
    "\n",
    "* In this class we will do a lot of decomposing, but lets start by stripping down the \"time-value of money\" piece\n",
    "\n",
    "* We first define an \"<b>excess return</b>\"： the return minus the risk-free rate \n",
    " \n",
    " $$r_i^e=r_i-r_f$$\n",
    " \n",
    "* We typically use the returns of a 3-month treasury bill to measure the risk-free rate $r_f$\n",
    "\n",
    "* Conceptually you want to use the risk-free asset for the relevant holding period you are evaluating the asset returns, but for this class you can think of the \"Fed Funds Rate\" or the \"3-month treasury-bill rate\"\n"
   ]
  },
  {
   "cell_type": "code",
   "execution_count": 134,
   "metadata": {},
   "outputs": [
    {
     "data": {
      "text/plain": [
       "<AxesSubplot:xlabel='Date'>"
      ]
     },
     "execution_count": 134,
     "metadata": {},
     "output_type": "execute_result"
    },
    {
     "data": {
      "image/png": "[encoded data removed]",
      "text/plain": [
       "<Figure size 432x288 with 1 Axes>"
      ]
     },
     "metadata": {
      "needs_background": "light"
     },
     "output_type": "display_data"
    }
   ],
   "source": [
    "from pandas_datareader.data import DataReader\n",
    "import datetime\n",
    "\n",
    "# Define the date range\n",
    "start_date = datetime.datetime(1960, 1, 1)  # Start date (adjust as needed)\n",
    "end_date = datetime.datetime.now()          # End date\n",
    "\n",
    "# Fetch the data from FRED for 3-month Treasury Bill rates (symbol: DGS3MO)\n",
    "try:\n",
    "    df_rf = DataReader(\"DGS3MO\", \"fred\", start_date, end_date)\n",
    "    df_rf.reset_index(inplace=True)\n",
    "    df_rf.columns = [\"Date\", \"rf\"]\n",
    "    df_rf.rf=df_rf.rf/100\n",
    "    df_rf.set_index(\"Date\", inplace=True)\n",
    "except Exception as e:\n",
    "    print(f\"An error occurred: {e}\")\n",
    "\n",
    "df_rf.plot()"
   ]
  },
  {
   "cell_type": "markdown",
   "metadata": {},
   "source": [
    "How do we interpret this rate?\n",
    "\n",
    "Say if I invested in the tbill in 2005 how much money I would have in the end of 3 months? And in the end of the year?\n",
    "\n"
   ]
  },
  {
   "cell_type": "markdown",
   "metadata": {},
   "source": [
    "Lets get another stock to play with and merge it together with our risk-free return\n"
   ]
  },
  {
   "cell_type": "code",
   "execution_count": null,
   "metadata": {},
   "outputs": [
    {
     "name": "stdout",
     "output_type": "stream",
     "text": [
      "[47896]\n"
     ]
    },
    {
     "data": {
      "text/html": [
       "<div>\n",
       "<style scoped>\n",
       "    .dataframe tbody tr th:only-of-type {\n",
       "        vertical-align: middle;\n",
       "    }\n",
       "\n",
       "    .dataframe tbody tr th {\n",
       "        vertical-align: top;\n",
       "    }\n",
       "\n",
       "    .dataframe thead th {\n",
       "        text-align: right;\n",
       "    }\n",
       "</style>\n",
       "<table border=\"1\" class=\"dataframe\">\n",
       "  <thead>\n",
       "    <tr style=\"text-align: right;\">\n",
       "      <th></th>\n",
       "      <th>ret</th>\n",
       "      <th>rf</th>\n",
       "    </tr>\n",
       "    <tr>\n",
       "      <th>date</th>\n",
       "      <th></th>\n",
       "      <th></th>\n",
       "    </tr>\n",
       "  </thead>\n",
       "  <tbody>\n",
       "    <tr>\n",
       "      <th>1969-03-06</th>\n",
       "      <td>-0.001938</td>\n",
       "      <td>NaN</td>\n",
       "    </tr>\n",
       "    <tr>\n",
       "      <th>1969-03-07</th>\n",
       "      <td>-0.009709</td>\n",
       "      <td>NaN</td>\n",
       "    </tr>\n",
       "    <tr>\n",
       "      <th>1969-03-10</th>\n",
       "      <td>-0.017255</td>\n",
       "      <td>NaN</td>\n",
       "    </tr>\n",
       "    <tr>\n",
       "      <th>1969-03-11</th>\n",
       "      <td>0.016129</td>\n",
       "      <td>NaN</td>\n",
       "    </tr>\n",
       "    <tr>\n",
       "      <th>1969-03-12</th>\n",
       "      <td>0.005952</td>\n",
       "      <td>NaN</td>\n",
       "    </tr>\n",
       "    <tr>\n",
       "      <th>...</th>\n",
       "      <td>...</td>\n",
       "      <td>...</td>\n",
       "    </tr>\n",
       "    <tr>\n",
       "      <th>2023-12-22</th>\n",
       "      <td>-0.000597</td>\n",
       "      <td>0.0544</td>\n",
       "    </tr>\n",
       "    <tr>\n",
       "      <th>2023-12-26</th>\n",
       "      <td>0.005914</td>\n",
       "      <td>0.0545</td>\n",
       "    </tr>\n",
       "    <tr>\n",
       "      <th>2023-12-27</th>\n",
       "      <td>0.005998</td>\n",
       "      <td>0.0544</td>\n",
       "    </tr>\n",
       "    <tr>\n",
       "      <th>2023-12-28</th>\n",
       "      <td>0.005313</td>\n",
       "      <td>0.0545</td>\n",
       "    </tr>\n",
       "    <tr>\n",
       "      <th>2023-12-29</th>\n",
       "      <td>-0.001174</td>\n",
       "      <td>0.0540</td>\n",
       "    </tr>\n",
       "  </tbody>\n",
       "</table>\n",
       "<p>13826 rows × 2 columns</p>\n",
       "</div>"
      ],
      "text/plain": [
       "                 ret      rf\n",
       "date                        \n",
       "1969-03-06 -0.001938     NaN\n",
       "1969-03-07 -0.009709     NaN\n",
       "1969-03-10 -0.017255     NaN\n",
       "1969-03-11  0.016129     NaN\n",
       "1969-03-12  0.005952     NaN\n",
       "...              ...     ...\n",
       "2023-12-22 -0.000597  0.0544\n",
       "2023-12-26  0.005914  0.0545\n",
       "2023-12-27  0.005998  0.0544\n",
       "2023-12-28  0.005313  0.0545\n",
       "2023-12-29 -0.001174  0.0540\n",
       "\n",
       "[13826 rows x 2 columns]"
      ]
     },
     "execution_count": 155,
     "metadata": {},
     "output_type": "execute_result"
    }
   ],
   "source": [
    "df=get_daily_wrds_single_ticker('NVDA',conn,dividends=False)\n",
    "df=df.merge(df_rf, left_index=True, right_index=True,how='left')\n",
    "df"
   ]
  },
  {
   "cell_type": "markdown",
   "metadata": {},
   "source": [
    "Lets construct another column called 'rete' for excess returns"
   ]
  },
  {
   "cell_type": "code",
   "execution_count": null,
   "metadata": {},
   "outputs": [],
   "source": []
  },
  {
   "cell_type": "markdown",
   "metadata": {},
   "source": [
    "What is the trading interpretation of such series?\n",
    "\n",
    "Is it the \"return\" to which strategy exactly?"
   ]
  },
  {
   "cell_type": "markdown",
   "metadata": {},
   "source": []
  },
  {
   "cell_type": "markdown",
   "metadata": {},
   "source": [
    "How the historical distributions of ret and rete compare?\n",
    "Are their averages similar? \n",
    "are their historical standard deviatons  similar? \n",
    "Do they have similar interpretation? \n",
    "Is the standard-deviation of risk-free rate useful to tell you the distribution of you returns in the end of 3 months? "
   ]
  },
  {
   "cell_type": "code",
   "execution_count": null,
   "metadata": {},
   "outputs": [],
   "source": []
  },
  {
   "cell_type": "code",
   "execution_count": null,
   "metadata": {},
   "outputs": [],
   "source": []
  },
  {
   "cell_type": "code",
   "execution_count": null,
   "metadata": {},
   "outputs": [],
   "source": []
  },
  {
   "cell_type": "code",
   "execution_count": null,
   "metadata": {},
   "outputs": [],
   "source": []
  },
  {
   "cell_type": "code",
   "execution_count": null,
   "metadata": {},
   "outputs": [],
   "source": []
  },
  {
   "cell_type": "markdown",
   "metadata": {},
   "source": [
    "### Stripping the common factor\n",
    "\n",
    "\n",
    "- We know that the overall market portfolio moves around, so it is natural to strip that market-wide movement from the stock returns\n",
    "\n",
    "- Suppose f is this common factor, one possibility is to write\n",
    "\n",
    "$$ret-f$$\n",
    "\n",
    "- So we have a new asset \"cleaned\" of the common movement\n",
    "\n",
    "- Will this work? When will it work?\n",
    "\n",
    "- What is this common factor? \n",
    "\n",
    "- Is there only one factor?\n",
    "\n"
   ]
  },
  {
   "cell_type": "code",
   "execution_count": null,
   "metadata": {},
   "outputs": [],
   "source": []
  },
  {
   "cell_type": "code",
   "execution_count": null,
   "metadata": {},
   "outputs": [],
   "source": []
  },
  {
   "cell_type": "code",
   "execution_count": null,
   "metadata": {},
   "outputs": [],
   "source": []
  },
  {
   "cell_type": "code",
   "execution_count": null,
   "metadata": {},
   "outputs": [],
   "source": []
  },
  {
   "cell_type": "markdown",
   "metadata": {},
   "source": [
    "* I will use the returns on the SPY etf as a market proxy\n",
    "\n",
    "* This funds holds a market-capitalization weighted portfolio of the largest 500 US stocks (roughly)--this consists of about 85% of the total universe of investable US equities\n",
    "\n",
    "* The press often cites the DOW as another proxy for the overall movement in stocks--but it is a terrible proxy, since is a equal weighted portfolio of 30 arbitrary chosen stocks. Please never ever use that\n",
    "\n",
    "* If you really want to use a portfolio that tracks the entirety of the US stock market universe you can use VTI which is a ETF that holds market-capitalization weighted portfolio of all publicly traded US stocks. About 60 Trillion investment universe\n",
    "\n"
   ]
  },
  {
   "cell_type": "code",
   "execution_count": 202,
   "metadata": {},
   "outputs": [
    {
     "name": "stdout",
     "output_type": "stream",
     "text": [
      "[47896, 55976, 84398]\n"
     ]
    },
    {
     "data": {
      "text/html": [
       "<div>\n",
       "<style scoped>\n",
       "    .dataframe tbody tr th:only-of-type {\n",
       "        vertical-align: middle;\n",
       "    }\n",
       "\n",
       "    .dataframe tbody tr th {\n",
       "        vertical-align: top;\n",
       "    }\n",
       "\n",
       "    .dataframe thead th {\n",
       "        text-align: right;\n",
       "    }\n",
       "</style>\n",
       "<table border=\"1\" class=\"dataframe\">\n",
       "  <thead>\n",
       "    <tr style=\"text-align: right;\">\n",
       "      <th>ticker</th>\n",
       "      <th>SPY</th>\n",
       "      <th>WMT</th>\n",
       "      <th>JPM</th>\n",
       "    </tr>\n",
       "    <tr>\n",
       "      <th>date</th>\n",
       "      <th></th>\n",
       "      <th></th>\n",
       "      <th></th>\n",
       "    </tr>\n",
       "  </thead>\n",
       "  <tbody>\n",
       "    <tr>\n",
       "      <th>1993-02-01</th>\n",
       "      <td>0.007112</td>\n",
       "      <td>0.011516</td>\n",
       "      <td>0.009231</td>\n",
       "    </tr>\n",
       "    <tr>\n",
       "      <th>1993-02-02</th>\n",
       "      <td>0.002119</td>\n",
       "      <td>0.005693</td>\n",
       "      <td>0.003049</td>\n",
       "    </tr>\n",
       "    <tr>\n",
       "      <th>1993-02-03</th>\n",
       "      <td>0.010571</td>\n",
       "      <td>0.009434</td>\n",
       "      <td>0.012158</td>\n",
       "    </tr>\n",
       "    <tr>\n",
       "      <th>1993-02-04</th>\n",
       "      <td>0.004184</td>\n",
       "      <td>-0.003738</td>\n",
       "      <td>0.012012</td>\n",
       "    </tr>\n",
       "    <tr>\n",
       "      <th>1993-02-05</th>\n",
       "      <td>-0.000694</td>\n",
       "      <td>-0.011257</td>\n",
       "      <td>0.017804</td>\n",
       "    </tr>\n",
       "    <tr>\n",
       "      <th>...</th>\n",
       "      <td>...</td>\n",
       "      <td>...</td>\n",
       "      <td>...</td>\n",
       "    </tr>\n",
       "    <tr>\n",
       "      <th>2023-12-22</th>\n",
       "      <td>0.002010</td>\n",
       "      <td>0.011951</td>\n",
       "      <td>-0.000597</td>\n",
       "    </tr>\n",
       "    <tr>\n",
       "      <th>2023-12-26</th>\n",
       "      <td>0.004223</td>\n",
       "      <td>-0.001532</td>\n",
       "      <td>0.005914</td>\n",
       "    </tr>\n",
       "    <tr>\n",
       "      <th>2023-12-27</th>\n",
       "      <td>0.001808</td>\n",
       "      <td>0.009398</td>\n",
       "      <td>0.005998</td>\n",
       "    </tr>\n",
       "    <tr>\n",
       "      <th>2023-12-28</th>\n",
       "      <td>0.000378</td>\n",
       "      <td>-0.001964</td>\n",
       "      <td>0.005313</td>\n",
       "    </tr>\n",
       "    <tr>\n",
       "      <th>2023-12-29</th>\n",
       "      <td>-0.002895</td>\n",
       "      <td>0.000508</td>\n",
       "      <td>-0.001174</td>\n",
       "    </tr>\n",
       "  </tbody>\n",
       "</table>\n",
       "<p>7785 rows × 3 columns</p>\n",
       "</div>"
      ],
      "text/plain": [
       "ticker           SPY       WMT       JPM\n",
       "date                                    \n",
       "1993-02-01  0.007112  0.011516  0.009231\n",
       "1993-02-02  0.002119  0.005693  0.003049\n",
       "1993-02-03  0.010571  0.009434  0.012158\n",
       "1993-02-04  0.004184 -0.003738  0.012012\n",
       "1993-02-05 -0.000694 -0.011257  0.017804\n",
       "...              ...       ...       ...\n",
       "2023-12-22  0.002010  0.011951 -0.000597\n",
       "2023-12-26  0.004223 -0.001532  0.005914\n",
       "2023-12-27  0.001808  0.009398  0.005998\n",
       "2023-12-28  0.000378 -0.001964  0.005313\n",
       "2023-12-29 -0.002895  0.000508 -0.001174\n",
       "\n",
       "[7785 rows x 3 columns]"
      ]
     },
     "execution_count": 202,
     "metadata": {},
     "output_type": "execute_result"
    }
   ],
   "source": [
    "df=get_daily_wrds_multiple_ticker(['SPY','WMT','JPM'],conn)\n",
    "df"
   ]
  },
  {
   "cell_type": "code",
   "execution_count": 208,
   "metadata": {},
   "outputs": [
    {
     "data": {
      "image/png": "[encoded data removed]",
      "text/plain": [
       "<Figure size 1296x432 with 2 Axes>"
      ]
     },
     "metadata": {
      "needs_background": "light"
     },
     "output_type": "display_data"
    }
   ],
   "source": [
    "fig, axes = plt.subplots(1, 2, figsize=(18,6))\n",
    "import statsmodels.api as sm\n",
    "\n",
    "def add_regression_line(ax, x, y):\n",
    "    X = sm.add_constant(df[x])\n",
    "    model = sm.OLS(df[y], X).fit()\n",
    "    intercept, beta = model.params\n",
    "    # ax.plot(df[x], intercept + beta * df[x], color='red')\n",
    "    # ax.text(0.05, 0.95, f'Beta: {beta:.2f}', transform=ax.transAxes, fontsize=12, verticalalignment='top')\n",
    "\n",
    "# Add regression lines and beta coefficients\n",
    "add_regression_line(axes[0], 'SPY', 'WMT')\n",
    "\n",
    "add_regression_line(axes[1], 'SPY', 'JPM')\n",
    "# Function to add regression line and beta coefficient\n",
    "\n",
    "df.plot.scatter(x='SPY', y='WMT', ax=axes[0], title='SPY vs WMT')\n",
    "\n",
    "# Scatter plot for SPY vs CSCO\n",
    "df.plot.scatter(x='SPY', y='JPM', ax=axes[1], title='SPY vs JPM')\n",
    "\n",
    "plt.tight_layout()\n",
    "plt.show()"
   ]
  },
  {
   "cell_type": "code",
   "execution_count": 203,
   "metadata": {},
   "outputs": [
    {
     "data": {
      "text/html": [
       "<div>\n",
       "<style scoped>\n",
       "    .dataframe tbody tr th:only-of-type {\n",
       "        vertical-align: middle;\n",
       "    }\n",
       "\n",
       "    .dataframe tbody tr th {\n",
       "        vertical-align: top;\n",
       "    }\n",
       "\n",
       "    .dataframe thead th {\n",
       "        text-align: right;\n",
       "    }\n",
       "</style>\n",
       "<table border=\"1\" class=\"dataframe\">\n",
       "  <thead>\n",
       "    <tr style=\"text-align: right;\">\n",
       "      <th>ticker</th>\n",
       "      <th>SPY</th>\n",
       "      <th>WMT</th>\n",
       "      <th>JPM</th>\n",
       "      <th>WMTmspy</th>\n",
       "      <th>JPMmspy</th>\n",
       "    </tr>\n",
       "    <tr>\n",
       "      <th>date</th>\n",
       "      <th></th>\n",
       "      <th></th>\n",
       "      <th></th>\n",
       "      <th></th>\n",
       "      <th></th>\n",
       "    </tr>\n",
       "  </thead>\n",
       "  <tbody>\n",
       "    <tr>\n",
       "      <th>1993-02-01</th>\n",
       "      <td>0.007112</td>\n",
       "      <td>0.011516</td>\n",
       "      <td>0.009231</td>\n",
       "      <td>0.004404</td>\n",
       "      <td>0.002119</td>\n",
       "    </tr>\n",
       "    <tr>\n",
       "      <th>1993-02-02</th>\n",
       "      <td>0.002119</td>\n",
       "      <td>0.005693</td>\n",
       "      <td>0.003049</td>\n",
       "      <td>0.003574</td>\n",
       "      <td>0.000930</td>\n",
       "    </tr>\n",
       "    <tr>\n",
       "      <th>1993-02-03</th>\n",
       "      <td>0.010571</td>\n",
       "      <td>0.009434</td>\n",
       "      <td>0.012158</td>\n",
       "      <td>-0.001137</td>\n",
       "      <td>0.001587</td>\n",
       "    </tr>\n",
       "    <tr>\n",
       "      <th>1993-02-04</th>\n",
       "      <td>0.004184</td>\n",
       "      <td>-0.003738</td>\n",
       "      <td>0.012012</td>\n",
       "      <td>-0.007922</td>\n",
       "      <td>0.007828</td>\n",
       "    </tr>\n",
       "    <tr>\n",
       "      <th>1993-02-05</th>\n",
       "      <td>-0.000694</td>\n",
       "      <td>-0.011257</td>\n",
       "      <td>0.017804</td>\n",
       "      <td>-0.010563</td>\n",
       "      <td>0.018498</td>\n",
       "    </tr>\n",
       "    <tr>\n",
       "      <th>...</th>\n",
       "      <td>...</td>\n",
       "      <td>...</td>\n",
       "      <td>...</td>\n",
       "      <td>...</td>\n",
       "      <td>...</td>\n",
       "    </tr>\n",
       "    <tr>\n",
       "      <th>2023-12-22</th>\n",
       "      <td>0.002010</td>\n",
       "      <td>0.011951</td>\n",
       "      <td>-0.000597</td>\n",
       "      <td>0.009941</td>\n",
       "      <td>-0.002607</td>\n",
       "    </tr>\n",
       "    <tr>\n",
       "      <th>2023-12-26</th>\n",
       "      <td>0.004223</td>\n",
       "      <td>-0.001532</td>\n",
       "      <td>0.005914</td>\n",
       "      <td>-0.005755</td>\n",
       "      <td>0.001691</td>\n",
       "    </tr>\n",
       "    <tr>\n",
       "      <th>2023-12-27</th>\n",
       "      <td>0.001808</td>\n",
       "      <td>0.009398</td>\n",
       "      <td>0.005998</td>\n",
       "      <td>0.007590</td>\n",
       "      <td>0.004190</td>\n",
       "    </tr>\n",
       "    <tr>\n",
       "      <th>2023-12-28</th>\n",
       "      <td>0.000378</td>\n",
       "      <td>-0.001964</td>\n",
       "      <td>0.005313</td>\n",
       "      <td>-0.002342</td>\n",
       "      <td>0.004935</td>\n",
       "    </tr>\n",
       "    <tr>\n",
       "      <th>2023-12-29</th>\n",
       "      <td>-0.002895</td>\n",
       "      <td>0.000508</td>\n",
       "      <td>-0.001174</td>\n",
       "      <td>0.003403</td>\n",
       "      <td>0.001721</td>\n",
       "    </tr>\n",
       "  </tbody>\n",
       "</table>\n",
       "<p>7785 rows × 5 columns</p>\n",
       "</div>"
      ],
      "text/plain": [
       "ticker           SPY       WMT       JPM   WMTmspy   JPMmspy\n",
       "date                                                        \n",
       "1993-02-01  0.007112  0.011516  0.009231  0.004404  0.002119\n",
       "1993-02-02  0.002119  0.005693  0.003049  0.003574  0.000930\n",
       "1993-02-03  0.010571  0.009434  0.012158 -0.001137  0.001587\n",
       "1993-02-04  0.004184 -0.003738  0.012012 -0.007922  0.007828\n",
       "1993-02-05 -0.000694 -0.011257  0.017804 -0.010563  0.018498\n",
       "...              ...       ...       ...       ...       ...\n",
       "2023-12-22  0.002010  0.011951 -0.000597  0.009941 -0.002607\n",
       "2023-12-26  0.004223 -0.001532  0.005914 -0.005755  0.001691\n",
       "2023-12-27  0.001808  0.009398  0.005998  0.007590  0.004190\n",
       "2023-12-28  0.000378 -0.001964  0.005313 -0.002342  0.004935\n",
       "2023-12-29 -0.002895  0.000508 -0.001174  0.003403  0.001721\n",
       "\n",
       "[7785 rows x 5 columns]"
      ]
     },
     "execution_count": 203,
     "metadata": {},
     "output_type": "execute_result"
    }
   ],
   "source": [
    "df[['WMTmspy','JPMmspy']]=df[['WMT','JPM']].subtract(df['SPY'],axis=0)\n",
    "df"
   ]
  },
  {
   "cell_type": "code",
   "execution_count": null,
   "metadata": {},
   "outputs": [
    {
     "data": {
      "image/png": "[encoded data removed]",
      "text/plain": [
       "<Figure size 1296x432 with 2 Axes>"
      ]
     },
     "metadata": {
      "needs_background": "light"
     },
     "output_type": "display_data"
    }
   ],
   "source": [
    "fig, axes = plt.subplots(1, 2, figsize=(18,6))\n",
    "import statsmodels.api as sm\n",
    "\n",
    "def add_regression_line(ax, x, y):\n",
    "    X = sm.add_constant(df[x])\n",
    "    model = sm.OLS(df[y], X).fit()\n",
    "    intercept, beta = model.params\n",
    "    ax.plot(df[x], intercept + beta * df[x], color='red')\n",
    "    ax.text(0.05, 0.95, f'Beta: {beta:.2f}', transform=ax.transAxes, fontsize=12, verticalalignment='top')\n",
    "\n",
    "# Add regression lines and beta coefficients\n",
    "add_regression_line(axes[0], 'SPY', 'WMTmspy')\n",
    "\n",
    "add_regression_line(axes[1], 'SPY', 'JPMmspy')\n",
    "# Function to add regression line and beta coefficient\n",
    "\n",
    "df.plot.scatter(x='SPY', y='WMTmspy', ax=axes[0], title='SPY vs WMT')\n",
    "\n",
    "# Scatter plot for SPY vs CSCO\n",
    "df.plot.scatter(x='SPY', y='JPMmspy', ax=axes[1], title='SPY vs JPM')\n",
    "\n",
    "plt.tight_layout()\n",
    "plt.show()"
   ]
  },
  {
   "cell_type": "markdown",
   "metadata": {},
   "source": [
    "What is going on?\n",
    "\n",
    "The \"model\" motivating our decomposition was\n",
    "\n",
    "$$ r=f+\\epsilon$$\n",
    "\n",
    "But it seems that the residual still has factor exposure\n",
    "\n",
    "* For stock 1, the residual is negatively correlated, so it seems tha we are taking out too much\n",
    "* For stock 2, it is still positive, so we are taking out too little \n",
    "\n",
    "\n",
    "$$ret^e=\\alpha+\\beta MKT^e+\\epsilon$$\n",
    "\n",
    "$$(excess~return)=(intercept)+(stock~beta)*(excess~return~on~the~market)+ (idio~risk)$$\n",
    "\n",
    "\n",
    "* What that looks like?\n",
    "\n",
    "* look at scatter plot with market\n",
    "\n",
    "* look at alphas, betas, indio vol, market vol by year"
   ]
  },
  {
   "cell_type": "code",
   "execution_count": 192,
   "metadata": {},
   "outputs": [
    {
     "data": {
      "image/png": "[encoded data removed]",
      "text/plain": [
       "<Figure size 576x432 with 1 Axes>"
      ]
     },
     "metadata": {
      "needs_background": "light"
     },
     "output_type": "display_data"
    }
   ],
   "source": [
    "# Define number of bins\n",
    "num_bins = 5\n",
    "\n",
    "# Create bins for x\n",
    "df['x_bin'] = pd.cut(df['SPY'], bins=num_bins, labels=False)\n",
    "\n",
    "# Calculate mean x and mean y for each bin\n",
    "bin_means = df.groupby('x_bin').mean().reset_index()\n",
    "\n",
    "# Plot the bin scatter plot\n",
    "plt.figure(figsize=(8, 6))\n",
    "plt.scatter(bin_means['SPY'], bin_means.iloc[:,1], label=\"Binned Means\")\n",
    "\n",
    "plt.scatter(bin_means['SPY'], bin_means.iloc[:,2], label=\"Binned Means\")\n",
    "plt.scatter(bin_means['SPY'], bin_means.iloc[:,3], label=\"Binned Means\")\n",
    "\n",
    "plt.xlabel('x (Binned Means)')\n",
    "plt.ylabel('y (Mean per Bin)')\n",
    "plt.title('Bin Scatter Plot of x vs. y')\n",
    "plt.grid(True)\n",
    "plt.legend()\n",
    "plt.show()"
   ]
  },
  {
   "cell_type": "code",
   "execution_count": 188,
   "metadata": {},
   "outputs": [
    {
     "data": {
      "text/plain": [
       "0      0\n",
       "1      2\n",
       "2      4\n",
       "3      6\n",
       "4      7\n",
       "5      8\n",
       "6     10\n",
       "7     11\n",
       "8     12\n",
       "9     13\n",
       "10    14\n",
       "11    15\n",
       "12    16\n",
       "13    17\n",
       "14    18\n",
       "15    19\n",
       "16    20\n",
       "17    21\n",
       "18    22\n",
       "19    23\n",
       "20    24\n",
       "21    25\n",
       "22    26\n",
       "23    27\n",
       "24    28\n",
       "25    29\n",
       "26    30\n",
       "27    31\n",
       "28    32\n",
       "29    33\n",
       "30    34\n",
       "31    35\n",
       "32    38\n",
       "33    39\n",
       "34    44\n",
       "35    49\n",
       "Name: x_bin, dtype: int64"
      ]
     },
     "execution_count": 188,
     "metadata": {},
     "output_type": "execute_result"
    }
   ],
   "source": [
    "bin_means.iloc[:,0]"
   ]
  },
  {
   "cell_type": "code",
   "execution_count": null,
   "metadata": {},
   "outputs": [
    {
     "data": {
      "text/plain": [
       "<AxesSubplot:title={'center':'Daily Returns'}, xlabel='date'>"
      ]
     },
     "execution_count": 50,
     "metadata": {},
     "output_type": "execute_result"
    },
    {
     "data": {
      "image/png": "[encoded data removed]",
      "text/plain": [
       "<Figure size 864x432 with 1 Axes>"
      ]
     },
     "metadata": {
      "needs_background": "light"
     },
     "output_type": "display_data"
    }
   ],
   "source": [
    "\n",
    "daily_returns.loc['2023',     ['NVDA','UNH']].plot(figsize=(12, 6), title='Daily Returns')"
   ]
  },
  {
   "cell_type": "code",
   "execution_count": 45,
   "metadata": {},
   "outputs": [
    {
     "data": {
      "image/png": "[encoded data removed]",
      "text/plain": [
       "<Figure size 1296x432 with 2 Axes>"
      ]
     },
     "metadata": {
      "needs_background": "light"
     },
     "output_type": "display_data"
    }
   ],
   "source": [
    "fig, axes = plt.subplots(1, 2, figsize=(18,6))\n",
    "import statsmodels.api as sm\n",
    "\n",
    "def add_regression_line(ax, x, y):\n",
    "    X = sm.add_constant(daily_returns[x])\n",
    "    model = sm.OLS(daily_returns[y], X).fit()\n",
    "    intercept, beta = model.params\n",
    "    ax.plot(daily_returns[x], intercept + beta * daily_returns[x], color='red')\n",
    "    ax.text(0.05, 0.95, f'Beta: {beta:.2f}', transform=ax.transAxes, fontsize=12, verticalalignment='top')\n",
    "\n",
    "# Add regression lines and beta coefficients\n",
    "add_regression_line(axes[0], 'SPY', 'NVDA')\n",
    "\n",
    "add_regression_line(axes[1], 'SPY', 'UNH')\n",
    "# Function to add regression line and beta coefficient\n",
    "\n",
    "daily_returns.plot.scatter(x='SPY', y='NVDA', ax=axes[0], title='SPY vs NVDA')\n",
    "\n",
    "# Scatter plot for SPY vs CSCO\n",
    "daily_returns.plot.scatter(x='SPY', y='UNH', ax=axes[1], title='SPY vs UNH')\n",
    "\n",
    "plt.tight_layout()\n",
    "plt.show()\n",
    "\n",
    "\n",
    "# Scatter plot for SPY vs NVDA"
   ]
  },
  {
   "cell_type": "code",
   "execution_count": 2,
   "metadata": {
    "colab": {
     "base_uri": "https://localhost:8080/",
     "height": 204
    },
    "colab_type": "code",
    "executionInfo": {
     "elapsed": 1104,
     "status": "ok",
     "timestamp": 1576432667798,
     "user": {
      "displayName": "yuchi yao",
      "photoUrl": "",
      "userId": "00457884373990713813"
     },
     "user_tz": 300
    },
    "id": "KOA14rTiySRt",
    "outputId": "91cd8520-5466-4619-bb3a-47cac65d0cdb"
   },
   "outputs": [
    {
     "data": {
      "text/html": [
       "<div>\n",
       "<style scoped>\n",
       "    .dataframe tbody tr th:only-of-type {\n",
       "        vertical-align: middle;\n",
       "    }\n",
       "\n",
       "    .dataframe tbody tr th {\n",
       "        vertical-align: top;\n",
       "    }\n",
       "\n",
       "    .dataframe thead th {\n",
       "        text-align: right;\n",
       "    }\n",
       "</style>\n",
       "<table border=\"1\" class=\"dataframe\">\n",
       "  <thead>\n",
       "    <tr style=\"text-align: right;\">\n",
       "      <th></th>\n",
       "      <th>MKT</th>\n",
       "    </tr>\n",
       "    <tr>\n",
       "      <th>Date</th>\n",
       "      <th></th>\n",
       "    </tr>\n",
       "  </thead>\n",
       "  <tbody>\n",
       "    <tr>\n",
       "      <th>1963-02-28</th>\n",
       "      <td>-0.0215</td>\n",
       "    </tr>\n",
       "    <tr>\n",
       "      <th>1963-03-31</th>\n",
       "      <td>0.0331</td>\n",
       "    </tr>\n",
       "    <tr>\n",
       "      <th>1963-04-30</th>\n",
       "      <td>0.0476</td>\n",
       "    </tr>\n",
       "    <tr>\n",
       "      <th>1963-05-31</th>\n",
       "      <td>0.0200</td>\n",
       "    </tr>\n",
       "    <tr>\n",
       "      <th>1963-06-30</th>\n",
       "      <td>-0.0177</td>\n",
       "    </tr>\n",
       "  </tbody>\n",
       "</table>\n",
       "</div>"
      ],
      "text/plain": [
       "               MKT\n",
       "Date              \n",
       "1963-02-28 -0.0215\n",
       "1963-03-31  0.0331\n",
       "1963-04-30  0.0476\n",
       "1963-05-31  0.0200\n",
       "1963-06-30 -0.0177"
      ]
     },
     "execution_count": 2,
     "metadata": {},
     "output_type": "execute_result"
    }
   ],
   "source": [
    "\n",
    "#Online address of the file \n",
    "url=\"https://raw.githubusercontent.com/amoreira2/Lectures/main/assets/data/GlobalFinMonthly.csv\"\n",
    "# load it using pandas\n",
    "# the field \"na_values=-99\" is telling the function that numbers \"-99\" are code for a missing value\n",
    "# THIS VARIES DATASET by DATASET!!!!\n",
    "# In this case I know that to be the case\n",
    "Data = pd.read_csv(url,na_values=-99)\n",
    "# here we tell to pandas to interpret the DATE column as date type\n",
    "Data['Date']=pd.to_datetime(Data['Date'])\n",
    "# set the date as the index\n",
    "Data=Data.set_index(['Date'])\n",
    "#eep only the Market column\n",
    "Data=Data[['MKT']]\n",
    "# look at the first few observations\n",
    "Data.head()"
   ]
  },
  {
   "cell_type": "markdown",
   "metadata": {},
   "source": [
    "**Comments**\n",
    "\n",
    "- \".to_datetime\" is pretty good at identifying how to interpret the data format, but you always have to check if it interpreted correct by inspecting it\n",
    "\n",
    "- If it does not you will have to add the format manually "
   ]
  },
  {
   "cell_type": "markdown",
   "metadata": {
    "colab_type": "text",
    "id": "EQIFToe9ySRw",
    "toc-hr-collapsed": true
   },
   "source": [
    "**How Returns are distributed?**\n",
    "\n",
    "We don't really know, but the normal distribution will be a useful approximation.\n",
    "Sometimes goes spetacularly wrong, so you have to always be careful.\n",
    "Normal distribution is nice because it only depends on the first two moments: Mean and Variance/Standard deviation.\n",
    "\n",
    "\n",
    "Lets start by looking at the SAMPLE moments of the distribution of returns for the \"market\" portfolio\n",
    "This is really the portfolio of all the stocks listed in the United States\n",
    "\n",
    "\n",
    "\n"
   ]
  },
  {
   "cell_type": "markdown",
   "metadata": {
    "colab_type": "text",
    "id": "wIIiHJu1O0Pz"
   },
   "source": [
    "**Mean and Standard Deviation**"
   ]
  },
  {
   "cell_type": "code",
   "execution_count": 3,
   "metadata": {
    "colab": {
     "base_uri": "https://localhost:8080/",
     "height": 34
    },
    "colab_type": "code",
    "executionInfo": {
     "elapsed": 382,
     "status": "ok",
     "timestamp": 1576432670668,
     "user": {
      "displayName": "yuchi yao",
      "photoUrl": "",
      "userId": "00457884373990713813"
     },
     "user_tz": 300
    },
    "id": "A0KLBYt4ySRx",
    "outputId": "3448b50f-a3d1-4658-bb51-f6fa785a6474"
   },
   "outputs": [
    {
     "data": {
      "text/plain": [
       "0.9051777434312205"
      ]
     },
     "execution_count": 3,
     "metadata": {},
     "output_type": "execute_result"
    }
   ],
   "source": [
    "# looking at it's mean\n",
    "Data['MKT'].mean()*100\n",
    "\n",
    "# what does this number mean?"
   ]
  },
  {
   "cell_type": "markdown",
   "metadata": {},
   "source": [
    "If I have invested 100 dollars in a random month in the sample, on average I would have 100.9 in month t+1 in the sample\n",
    "\n",
    "A return of\n",
    "\n",
    "$$\\frac{100.9-100}{100}=0.9\\%$$"
   ]
  },
  {
   "cell_type": "code",
   "execution_count": null,
   "metadata": {
    "colab": {
     "base_uri": "https://localhost:8080/",
     "height": 34
    },
    "colab_type": "code",
    "executionInfo": {
     "elapsed": 349,
     "status": "ok",
     "timestamp": 1576432672605,
     "user": {
      "displayName": "yuchi yao",
      "photoUrl": "",
      "userId": "00457884373990713813"
     },
     "user_tz": 300
    },
    "id": "rUS4pZqMySR0",
    "outputId": "a18578ba-3d0a-41a0-abf0-d5720cb31cc5"
   },
   "outputs": [
    {
     "data": {
      "text/plain": [
       "4.400314890674189"
      ]
     },
     "execution_count": 4,
     "metadata": {},
     "output_type": "execute_result"
    }
   ],
   "source": [
    "# looking at the market standard deviation\n",
    "\n",
    "Data['MKT'].std()*100\n",
    "\n",
    "# what does this number mean?"
   ]
  },
  {
   "cell_type": "markdown",
   "metadata": {},
   "source": [
    "If I have invested 100 dollars in a random month in the sample, on average I would have at  least 100.9-2*4.4=92.1 with 97.5% probability (approximately).\n",
    "\n",
    "Standard deviation gives you a notion of risk, because allow you to evaluate the probability of big losses (and also gains)\n",
    "\n",
    "What do they tell you about your investment in a month outside of the sample?"
   ]
  },
  {
   "cell_type": "markdown",
   "metadata": {},
   "source": [
    "**Histogram Plot**\n",
    "\n",
    "This plots the frequency of return realization on each bin\n",
    "\n",
    "it gives a sense of the HISTORICAL DISTRIBUTION of reuturns\n"
   ]
  },
  {
   "cell_type": "code",
   "execution_count": 5,
   "metadata": {
    "colab": {
     "base_uri": "https://localhost:8080/",
     "height": 282
    },
    "colab_type": "code",
    "executionInfo": {
     "elapsed": 514,
     "status": "ok",
     "timestamp": 1576432674302,
     "user": {
      "displayName": "yuchi yao",
      "photoUrl": "",
      "userId": "00457884373990713813"
     },
     "user_tz": 300
    },
    "id": "U8ZfHJoMySR2",
    "outputId": "7c6e634b-4cb8-4120-e914-8b33e3b8a4e1"
   },
   "outputs": [
    {
     "data": {
      "text/plain": [
       "<AxesSubplot:>"
      ]
     },
     "execution_count": 5,
     "metadata": {},
     "output_type": "execute_result"
    },
    {
     "data": {
      "image/png": "[encoded data removed]",
      "text/plain": [
       "<Figure size 432x288 with 1 Axes>"
      ]
     },
     "metadata": {
      "needs_background": "light"
     },
     "output_type": "display_data"
    }
   ],
   "source": [
    "\n",
    "(Data.MKT*100).hist(bins=50)\n",
    "\n"
   ]
  },
  {
   "cell_type": "markdown",
   "metadata": {},
   "source": [
    "**Time-Series plot**\n",
    "\n",
    "The time-series plot shows us in each date what was the return on the asset in each month in the sample"
   ]
  },
  {
   "cell_type": "code",
   "execution_count": 6,
   "metadata": {
    "colab": {
     "base_uri": "https://localhost:8080/",
     "height": 296
    },
    "colab_type": "code",
    "executionInfo": {
     "elapsed": 605,
     "status": "ok",
     "timestamp": 1576432676802,
     "user": {
      "displayName": "yuchi yao",
      "photoUrl": "",
      "userId": "00457884373990713813"
     },
     "user_tz": 300
    },
    "id": "QY8I1nefySR5",
    "outputId": "6106c842-081f-40f7-b13a-fd021b3fc9b0"
   },
   "outputs": [
    {
     "data": {
      "text/plain": [
       "<AxesSubplot:xlabel='Date'>"
      ]
     },
     "execution_count": 6,
     "metadata": {},
     "output_type": "execute_result"
    },
    {
     "data": {
      "image/png": "[encoded data removed]",
      "text/plain": [
       "<Figure size 432x288 with 1 Axes>"
      ]
     },
     "metadata": {
      "needs_background": "light"
     },
     "output_type": "display_data"
    }
   ],
   "source": [
    "Data.MKT.plot()"
   ]
  },
  {
   "cell_type": "markdown",
   "metadata": {
    "colab_type": "text",
    "id": "f8PYnj6PySR9"
   },
   "source": [
    "## The Normal distribution\n",
    "\n",
    "* Most of what we do does not depend on the assumption of normality\n",
    "\n",
    "* But normal distributions are very useful in statistical tests\n",
    "\n",
    "* And they are also not a bad approximation for return data at low frequency (monthly/year) \n",
    "\n",
    "* Probability that any random draw form a Normal distribution random variable $\\tilde{x}$ is within $n=1$ standard deviation from the mean is 0.6826\n",
    "\n",
    "\n",
    "$$Prob(E[\\tilde{x}]-1\\sigma(\\tilde{x})\\leq \\tilde{x}\\leq E[\\tilde{x}]+1\\sigma(\\tilde{x}))=0.6826$$\n",
    "\n",
    "* $n=2,Prob(\\cdot)=0.9550$\n",
    "\n",
    "$$Prob(E[\\tilde{x}]-2\\sigma(\\tilde{x})\\leq \\tilde{x}\\leq E[\\tilde{x}]+2\\sigma(\\tilde{x}))=0.9550$$\n",
    "* it is convenient to to transform a normally distributed r.v. into units of standard deviations from it's mean\n",
    "\n",
    "\n",
    "$$\\tilde{z}=\\frac{\\tilde{x}-E[\\tilde{x}]}{\\sigma(\\tilde{x})}$$\n",
    "\n",
    "* This follows the \"standard\" normal distribution, which has mean 0 and and standard deviation 1 \n",
    "\n",
    "* can you show that is indeed the case that z has mean zero and standard devaiton 1? \n",
    "\n",
    "* This means that the normal distribution is completely characterized by it's first two moments\n",
    "\n",
    "* This means that the investment problem is much more tractable too!\n",
    "\n",
    "* Only two moments to worry about:\n",
    "\n",
    "    * The expected return of the portfolio\n",
    "    \n",
    "    * it's variance\n",
    "    \n",
    "    * The probability of really bad tail events will follow immediately from these two! "
   ]
  },
  {
   "cell_type": "markdown",
   "metadata": {
    "colab_type": "text",
    "id": "yt0Dowl-ySR-"
   },
   "source": []
  },
  {
   "cell_type": "markdown",
   "metadata": {
    "colab_type": "text",
    "id": "00v3ORsBySR_"
   },
   "source": [
    "**How to evaluate whether returns are normal?**"
   ]
  },
  {
   "cell_type": "markdown",
   "metadata": {},
   "source": [
    "## Decomposing Returns\n",
    "\n",
    "### Excess Returns\n",
    "\n",
    "\n",
    "* It is convenient to decompose the return earned in terms of what you earn due to\n",
    "  1. compensation for waiting (time-value of money)\n",
    "  2. compensation for bearing risk (risk premium)\n",
    " \n",
    "* To do the decomposition, we will do the following:\n",
    "  * We first define an \"<b>excess return</b>\"： the return minus the risk-free rate \n",
    " \n",
    " $$r_i^e=r_i-r_f$$\n",
    " \n",
    "  * We typically use the returns of a 3-month treasury bill to measure $R_f$\n",
    " \n",
    "  * So the excess return of the market is\n",
    "\n",
    "      $$r^e_{MKT}=r_{MKT}-r_f$$\n",
    "\n"
   ]
  },
  {
   "cell_type": "markdown",
   "metadata": {},
   "source": [
    "### Alpha and Beta \n",
    "\n",
    "\n",
    "- Finance is all about striping\n",
    "\n",
    "- Taking out the risk-free rate allows you to focus on the component of the returns that is due to \"risk\"\n",
    "\n",
    "- Risk comes in all sort of forms\n",
    "\n",
    "- Say you have bets on two different stocks, Netflix and Cotsco\n",
    "\n",
    "- Plot Time-series, plot histogram, scatter plot\n",
    "\n"
   ]
  },
  {
   "cell_type": "markdown",
   "metadata": {},
   "source": [
    "- We know that the overall market portfolio moves around, so it is natural to strip that market-wide movement from the stock returns\n",
    "\n",
    "\n",
    "$$r_{i}^e=\\alpha+\\beta_i r^e_{MKT}+\\epsilon_i$$\n",
    "\n",
    "$$(excess~return)=(intercept)+(stock~beta)*(excess~return~on~the~market)+ (idio~risk)$$\n",
    "\n",
    "\n",
    "* What that looks like?\n",
    "\n",
    "* look at scatter plot with market\n",
    "\n",
    "* look at alphas, betas, indio vol, market vol by year"
   ]
  },
  {
   "cell_type": "code",
   "execution_count": 17,
   "metadata": {
    "colab": {
     "base_uri": "https://localhost:8080/",
     "height": 34
    },
    "colab_type": "code",
    "executionInfo": {
     "elapsed": 426,
     "status": "ok",
     "timestamp": 1576437906903,
     "user": {
      "displayName": "yuchi yao",
      "photoUrl": "",
      "userId": "00457884373990713813"
     },
     "user_tz": 300
    },
    "id": "xKicmafrySSk",
    "outputId": "77e55092-87ce-4d1f-be2d-1857bb62f173"
   },
   "outputs": [
    {
     "data": {
      "text/plain": [
       "0.5140340030911901"
      ]
     },
     "execution_count": 17,
     "metadata": {},
     "output_type": "execute_result"
    }
   ],
   "source": [
    "(Data.MKT-Data.RF).mean()*100"
   ]
  },
  {
   "cell_type": "markdown",
   "metadata": {
    "colab_type": "text",
    "id": "Ssnpl6hMySSo"
   },
   "source": [
    "What does this mean?\n",
    "\n",
    "Lets look at how much money one would have if they had invested 1 dollar in the market and kept reinvesting until the end of our sample\n",
    "\n",
    "lets then compare with an investment in the risk-free rate\n",
    "\n",
    "$$(1+r_1)(1+r_2)....(1+r_T)$$"
   ]
  },
  {
   "cell_type": "code",
   "execution_count": 64,
   "metadata": {
    "colab": {
     "base_uri": "https://localhost:8080/",
     "height": 296
    },
    "colab_type": "code",
    "executionInfo": {
     "elapsed": 563,
     "status": "ok",
     "timestamp": 1576438109907,
     "user": {
      "displayName": "yuchi yao",
      "photoUrl": "",
      "userId": "00457884373990713813"
     },
     "user_tz": 300
    },
    "id": "pKpAJ8ziySSo",
    "outputId": "9d6d473b-386d-45a6-e111-b5567ed8a7ed"
   },
   "outputs": [
    {
     "data": {
      "text/plain": [
       "<matplotlib.axes._subplots.AxesSubplot at 0x272170afd30>"
      ]
     },
     "execution_count": 64,
     "metadata": {},
     "output_type": "execute_result"
    },
    {
     "data": {
      "image/png": "[encoded data removed]",
      "text/plain": [
       "<Figure size 432x288 with 1 Axes>"
      ]
     },
     "metadata": {
      "needs_background": "light"
     },
     "output_type": "display_data"
    }
   ],
   "source": [
    "(1+Data[['RF','MKT']]).cumprod().plot()"
   ]
  },
  {
   "cell_type": "markdown",
   "metadata": {
    "colab_type": "text",
    "id": "PzLose_JySSq"
   },
   "source": [
    "This means that someone that invested 1 dollar in the market in 63, would have 182 dollars today.\n",
    "\n",
    "A tota return of 182/1-1=18,100\\%\n",
    "\n",
    "If you invested in the risk-free rate you would have\n",
    "\n",
    "12.5/1-1= 1,150\\% which is a bit above the inflation in this same period"
   ]
  },
  {
   "cell_type": "code",
   "execution_count": 66,
   "metadata": {
    "colab": {
     "base_uri": "https://localhost:8080/",
     "height": 111
    },
    "colab_type": "code",
    "executionInfo": {
     "elapsed": 355,
     "status": "ok",
     "timestamp": 1576438478238,
     "user": {
      "displayName": "yuchi yao",
      "photoUrl": "",
      "userId": "00457884373990713813"
     },
     "user_tz": 300
    },
    "id": "gbPm1UlhySSr",
    "outputId": "fd6ad9c6-8e6b-44b3-b997-c264babbf025"
   },
   "outputs": [
    {
     "data": {
      "text/plain": [
       "RF      12.472682\n",
       "MKT    181.954557\n",
       "dtype: float64"
      ]
     },
     "execution_count": 66,
     "metadata": {},
     "output_type": "execute_result"
    }
   ],
   "source": [
    "(1+Data[['RF','MKT']]).cumprod().tail(1)\n",
    "(1+Data[['RF','MKT']]).prod()"
   ]
  },
  {
   "cell_type": "markdown",
   "metadata": {},
   "source": [
    "**Why looking at things in terms of Excess returns is important ?**\n",
    "\n",
    "1. All asset returns have both the risk-free component in it and the risk-premium component.\n",
    "\n",
    "1. The risk-free component is directly observed-- for example in dollars it is convention to use the yield on the 3 month US treasury bill\n",
    "\n",
    "     1.  The average risk-free rate of the last 30 years tells you nothing about the risk-less rate today BECAUSE you can directly observe what it is today. It is literally the rate of return that you get for sure if you buy a tbill and hold until maturity (3 months)--and this rate of return is know in advance because we know the final price of the tbill.\n",
    "\n",
    "1. The particular instrument that you use to measure the risk-free rate might vary depending on a variety of complicated considerations\n",
    "\n",
    "     - Is it funded instrument vs not funded (bills vs swaps)\n",
    "     - Accessible to everyone or only some traders (bill vs fed funds)\n",
    "     - Can you borrow at this rate (bills vs your broker lending rate)\n",
    "\n",
    "1. the important point is that at any given moment you know the true risk-free rate. There is no point in estimating it\n",
    "\n",
    "\n",
    "**Trading Interpretation**\n",
    "\n",
    "* Excess returns have a nice trading interpretation.\n",
    "\n",
    "* For example the excess return on the market (portfolio) is\n",
    "\n",
    "$$R^{e,MKT}=R^{MKT}-R^F$$\n",
    "\n",
    "* This is really a portfolio that has weights 1 on the market and -1 on the risk-free rate\n",
    "\n",
    "* This type of portfolio is very important\n",
    "\n",
    "* We call it a \"self-financed portfolio\" or \"zero cost portfolio\"\n",
    "\n",
    "* The key is you are not putting any capital in it because you borrow 1 dollar to invest 1 dollar in the market (or in any other assets)\n",
    "\n",
    "**Practical considerations and frictions** \n",
    "\n",
    "* we will discuss this later, but in practice you always have to put some capital on the trade\n",
    "\n",
    "* some investors don't really need to put much like banks and dealers, but others like retail investors are asked to put much more.And often the amount of capital that you have to put on a \"zero-cost\" trade fluctuates with liquidity conditions (a lot during crises, not much during booms) \n",
    "\n",
    "* These portfolios are nevertheless super useful empirically to understand the data even if in the real world you cannot directly buy the zero cost portfolios without putting capital\n",
    "\n"
   ]
  },
  {
   "cell_type": "markdown",
   "metadata": {},
   "source": [
    "OLD\n",
    "\n",
    "  * i.e. how much more I would get if I invested in the market instead of a short-term risk-free U.S. treasury bond\n",
    "\n",
    "  * We call the **Expected difference**, the <b>Risk-Premium</b>\n",
    "\n",
    "      $$E[R_i^e]=E[R_i-R_f]$$\n",
    "\n",
    "  * It is how much more you EXPECT to get by investing in asset $i$ instead of the risk-free asset\n",
    "\n",
    "  * This is about the FUTURE, not the past. It is about what we expect at date t about the future t+1 date\n",
    "\n",
    "   $$E_t[R_{t+1,i}^e]=E_t[R_{t+1,i}-R_{t,f}]$$\n",
    "\n",
    "   $$E_t[R_{t+1,i}^e]=E_t[R_{t+1,i}]-R_{t,f}$$\n",
    "\n",
    "\n",
    "  * When asset $i$ is the total market portfolio of US equities, we call this, the <b>Equity Risky Premium</b>\n",
    "\n",
    "  **The Equity Risky Premium**\n",
    "\n",
    "The expected difference in return earned by investing in the aggreagate stock market portfolio instead of the risk-free rate\n",
    "\n",
    "\n",
    "  $$E[R_{MKT}-R_f]$$\n",
    "\n",
    "One good estimate of it simply uses the sample mean"
   ]
  },
  {
   "cell_type": "code",
   "execution_count": null,
   "metadata": {},
   "outputs": [],
   "source": []
  },
  {
   "cell_type": "markdown",
   "metadata": {},
   "source": [
    "** A quick review of randomness and probability distributions **"
   ]
  },
  {
   "cell_type": "markdown",
   "metadata": {},
   "source": [
    "**Random variables**\n",
    "\n",
    "* We think of the return realization, the numbers plotted above, as a random variable, i.e., a variable that we are uncertain about it's realization. \n",
    "\n",
    "* Random variable is any thing that we don’t known\n",
    "\n",
    "  * Outcome of dice throw, value of stock market in the end of the day, …\n",
    "  * For example a dice outcome is a random variables with the following possible outcomes: (1,2,3,4,5,6)\n",
    "\n",
    "* This uncertainty is fully described by the probability distribution associated with the random variable.\n",
    "\n",
    "\n",
    "\n"
   ]
  },
  {
   "cell_type": "markdown",
   "metadata": {},
   "source": [
    "**What is a probability distribution?**\n",
    "\n",
    "* A probability distribution describes the probability that each outcome is realized.\n",
    "* It can be described by a Probability Density Function (pdf).\n",
    "* For example, the pdf of a dice is (1,1/6) ,(2,1/6), (3,1/6), (4,1/6), (5,1/6), (6,1/6)\n",
    "* It can also be described by the Cumulative Density Function(cdf)\n",
    "* For a example, the cdf of a dice is (1,1/6) ,(2,2/6), (3,3/6), (4,4/6), (5,5/6), (6,6/6)\n",
    "* A pdf or cdf fully describes the uncertainty we have with respect to a particular random variable\n",
    "* Random variable is any thing that we don’t known\n",
    "* Outcome of dice throw, value of stock market in the end of the day, …\n"
   ]
  },
  {
   "cell_type": "markdown",
   "metadata": {},
   "source": [
    "**Moments**\n",
    "\n",
    "* One way to summarize the information in a probability distribution is the moments\n",
    "\n",
    "* Mean or expected value $E[𝑥]=∑𝑥_𝑖 𝑃𝑟𝑜𝑏(𝑥=𝑥_𝑖 )$  𝑜𝑟 $∫𝑥𝑓(𝑥)𝑑𝑥$  often uses µ as symbol\n",
    "\n",
    "* The Variance $𝑣𝑎𝑟(𝑥)= ∑(𝑥_𝑖−𝐸[𝑥])^2 𝑃𝑟𝑜𝑏(𝑥=𝑥_𝑖 )$    𝑜𝑟 $∫(𝑥_𝑖−𝐸[𝑥])^2 𝑓(𝑥)𝑑𝑥 $ \n",
    "  \n",
    "  * (Standard deviation $std(x)= \\sqrt{𝑣𝑎𝑟(𝑥)}$)\n",
    "  * measures average variability around the mean across successive drawings of x.\n",
    "  * often use 𝜎 as a symbol for standard deviation and $\\sigma^2$ for variance\n",
    "\n"
   ]
  }
 ],
 "metadata": {
  "colab": {
   "collapsed_sections": [],
   "name": "Notebook 3.ipynb",
   "provenance": [],
   "toc_visible": true
  },
  "kernelspec": {
   "display_name": "base",
   "language": "python",
   "name": "python3"
  },
  "language_info": {
   "codemirror_mode": {
    "name": "ipython",
    "version": 3
   },
   "file_extension": ".py",
   "mimetype": "text/x-python",
   "name": "python",
   "nbconvert_exporter": "python",
   "pygments_lexer": "ipython3",
   "version": "3.9.12"
  },
  "toc-autonumbering": true
 },
 "nbformat": 4,
 "nbformat_minor": 4
}
