{
 "cells": [
  {
   "cell_type": "code",
   "execution_count": 1,
   "metadata": {
    "tags": [
     "hide-cell"
    ]
   },
   "outputs": [],
   "source": [
    "# load libraries used in this notebook\n",
    "import pandas as pd\n",
    "import numpy as np\n",
    "import matplotlib.pyplot as plt\n",
    "\n",
    "%matplotlib inline"
   ]
  },
  {
   "cell_type": "code",
   "execution_count": 2,
   "metadata": {
    "tags": [
     "hide-cell"
    ]
   },
   "outputs": [],
   "source": [
    "# functions that we will use in this notebook that you don;t need to worry about for now\n",
    "\n",
    "def get_daily_wrds_single_ticker(ticker,conn,dividends=True):\n",
    "    tickers = [ticker]\n",
    "    # Retrieve PERMNOs for the specified tickers\n",
    "    permnos = conn.get_table(library='crsp', table='stocknames', columns=['permno', 'ticker', 'namedt', 'nameenddt'])\n",
    "    permnos['nameenddt']=pd.to_datetime(permnos['nameenddt'])\n",
    "    permnos = permnos[(permnos['ticker'].isin(tickers)) & (permnos['nameenddt']==permnos['nameenddt'].max())]\n",
    "    # Extract unique PERMNOs\n",
    "    permno_list = [permnos['permno'].unique().tolist()[0]]\n",
    "    print(permno_list)\n",
    "\n",
    "    # Query daily stock file for the specified PERMNOs\n",
    "    query = f\"\"\"\n",
    "        SELECT permno, date, ret, retx, prc       \n",
    "        FROM crsp.dsf\n",
    "        WHERE permno IN ({','.join(map(str, permno_list))})\n",
    "        ORDER BY date\n",
    "    \"\"\"\n",
    "    daily_returns = conn.raw_sql(query, date_cols=['date'])\n",
    "    daily_returns = daily_returns.merge(permnos[['permno', 'ticker']], on='permno', how='left')\n",
    "    # Pivot data to have dates as index and tickers as columns\n",
    "    # daily_returns = daily_returns.pivot(index='date', columns='ticker', values='ret')\n",
    "    # daily_returns=daily_returns['2000':]\n",
    "    if dividends:\n",
    "        daily_returns['D']=(daily_returns.ret-daily_returns.retx)*daily_returns.prc.abs().shift(1)\n",
    "        daily_returns['P']=daily_returns.prc.abs()\n",
    "        daily_returns=daily_returns[['date','P','D']].set_index('date').dropna()\n",
    "    else:\n",
    "        daily_returns=daily_returns[['date','ret']].set_index('date').dropna()    \n",
    "\n",
    "\n",
    "    return daily_returns\n",
    "\n",
    "\n",
    "def get_daily_wrds_multiple_ticker(tickers,conn):\n",
    "  \n",
    "    # Retrieve PERMNOs for the specified tickers\n",
    "    permnos = conn.get_table(library='crsp', table='stocknames', columns=['permno', 'ticker', 'namedt', 'nameenddt'])\n",
    "    permnos['nameenddt']=pd.to_datetime(permnos['nameenddt'])\n",
    "    permnos = permnos[(permnos['ticker'].isin(tickers)) & (permnos['nameenddt']==permnos['nameenddt'].max())]\n",
    "    # Extract unique PERMNOs\n",
    "    permno_list = permnos['permno'].unique().tolist()\n",
    "    print(permno_list)\n",
    "\n",
    "    # Query daily stock file for the specified PERMNOs\n",
    "    query = f\"\"\"\n",
    "        SELECT permno, date, ret, retx, prc       \n",
    "        FROM crsp.dsf\n",
    "        WHERE permno IN ({','.join(map(str, permno_list))})\n",
    "        ORDER BY date\n",
    "    \"\"\"\n",
    "    daily_returns = conn.raw_sql(query, date_cols=['date'])\n",
    "    daily_returns = daily_returns.merge(permnos[['permno', 'ticker']], on='permno', how='left')\n",
    "    # Pivot data to have dates as index and tickers as columns\n",
    "    daily_returns = daily_returns.pivot(index='date', columns='ticker', values='ret').dropna()    \n",
    "    daily_returns=daily_returns[tickers]\n",
    "\n",
    "\n",
    "\n",
    "    return daily_returns\n",
    "\n",
    "\n",
    "# tickers = ['UNH']\n",
    "# # Retrieve PERMNOs for the specified tickers\n",
    "# permnos = conn.get_table(library='crsp', table='stocknames', columns=['permno', 'ticker', 'namedt', 'nameenddt'])\n",
    "# permnos['nameenddt']=pd.to_datetime(permnos['nameenddt'])\n",
    "# permnos = permnos[(permnos['ticker'].isin(tickers)) & (permnos['nameenddt']==permnos['nameenddt'].max())]\n",
    "\n",
    "# # Extract unique PERMNOs\n",
    "# permno_list = permnos['permno'].unique().tolist()\n",
    "\n",
    "# # Query daily stock file for the specified PERMNOs\n",
    "# query = f\"\"\"\n",
    "#     SELECT permno, date, ret,       \n",
    "#     FROM crsp.dsf\n",
    "#     WHERE permno IN ({','.join(map(str, permno_list))})\n",
    "#     ORDER BY date\n",
    "# \"\"\"\n",
    "# daily_returns = conn.raw_sql(query, date_cols=['date'])\n",
    "# daily_returns = daily_returns.merge(permnos[['permno', 'ticker']], on='permno', how='left')\n",
    "# # Pivot data to have dates as index and tickers as columns\n",
    "# daily_returns = daily_returns.pivot(index='date', columns='ticker', values='ret')\n",
    "# daily_returns=daily_returns['2000':]"
   ]
  },
  {
   "cell_type": "markdown",
   "metadata": {
    "colab_type": "text",
    "id": "v7evuBpxySRq"
   },
   "source": [
    "# Returns, excess returns, and common factors"
   ]
  },
  {
   "cell_type": "markdown",
   "metadata": {
    "colab_type": "text",
    "id": "Zamld3rRySR-"
   },
   "source": [
    "## What is a return?\n",
    "\n",
    "\n",
    "* Lets say you paid $𝑃_𝑡$ in date $t$ for an asset\n",
    "\n",
    "* In date $t+1$ the price is $𝑃_{𝑡+1}$  and you earn some dividend as well $𝐷_{𝑡+1}$\n",
    "\n",
    "* Then we say that your return is\n",
    "\n",
    "$$𝑅_{𝑡+1}=\\frac{𝑃_{𝑡+1}+𝐷_{𝑡+1}−𝑃_𝑡}{𝑃_𝑡}$$\n",
    "\n",
    "* It is the gain you made (everything that you go in date t+1), divided by how much you put in ( the price of the asset)\n",
    "\n",
    "\n",
    "* This definition works for ANY asset that has a positive price\n",
    "\n",
    "* This is the case for stocks, bonds, commodities, crypto, most real assets\n",
    "\n",
    "* The return simply normalizes the \"dollar gain\" by the cost of the asset. \n",
    "\n",
    "* In practice there are many types of distributions that are economically like a dividend but have different names: cash dividends, stock dividends, capital gain distributions, rights offerings, acquisition  related distributions, splits"
   ]
  },
  {
   "cell_type": "markdown",
   "metadata": {},
   "source": [
    "Lets start by loading Price and Dividend data on a single stock\n"
   ]
  },
  {
   "cell_type": "code",
   "execution_count": null,
   "metadata": {},
   "outputs": [],
   "source": [
    "# first we connect with WRDS database using the wrds package so we need to install it first and import it\n",
    "%pip install wrds\n",
    "import wrds"
   ]
  },
  {
   "cell_type": "code",
   "execution_count": null,
   "metadata": {},
   "outputs": [
    {
     "name": "stdout",
     "output_type": "stream",
     "text": [
      "WRDS recommends setting up a .pgpass file.\n",
      "Created .pgpass file successfully.\n",
      "You can create this file yourself at any time with the create_pgpass_file() function.\n",
      "Loading library list...\n",
      "Done\n"
     ]
    }
   ],
   "source": [
    "\n",
    "# lets connect with  the wrds database\n",
    "conn = wrds.Connection()"
   ]
  },
  {
   "cell_type": "code",
   "execution_count": 5,
   "metadata": {},
   "outputs": [
    {
     "name": "stdout",
     "output_type": "stream",
     "text": [
      "[92655]\n"
     ]
    },
    {
     "data": {
      "text/html": [
       "<div>\n",
       "<style scoped>\n",
       "    .dataframe tbody tr th:only-of-type {\n",
       "        vertical-align: middle;\n",
       "    }\n",
       "\n",
       "    .dataframe tbody tr th {\n",
       "        vertical-align: top;\n",
       "    }\n",
       "\n",
       "    .dataframe thead th {\n",
       "        text-align: right;\n",
       "    }\n",
       "</style>\n",
       "<table border=\"1\" class=\"dataframe\">\n",
       "  <thead>\n",
       "    <tr style=\"text-align: right;\">\n",
       "      <th></th>\n",
       "      <th>P</th>\n",
       "      <th>D</th>\n",
       "    </tr>\n",
       "    <tr>\n",
       "      <th>date</th>\n",
       "      <th></th>\n",
       "      <th></th>\n",
       "    </tr>\n",
       "  </thead>\n",
       "  <tbody>\n",
       "    <tr>\n",
       "      <th>1984-10-18</th>\n",
       "      <td>4.87500</td>\n",
       "      <td>0.0</td>\n",
       "    </tr>\n",
       "    <tr>\n",
       "      <th>1984-10-19</th>\n",
       "      <td>4.68750</td>\n",
       "      <td>0.0</td>\n",
       "    </tr>\n",
       "    <tr>\n",
       "      <th>1984-10-22</th>\n",
       "      <td>4.68750</td>\n",
       "      <td>0.0</td>\n",
       "    </tr>\n",
       "    <tr>\n",
       "      <th>1984-10-23</th>\n",
       "      <td>4.56250</td>\n",
       "      <td>0.0</td>\n",
       "    </tr>\n",
       "    <tr>\n",
       "      <th>1984-10-24</th>\n",
       "      <td>4.68750</td>\n",
       "      <td>0.0</td>\n",
       "    </tr>\n",
       "    <tr>\n",
       "      <th>...</th>\n",
       "      <td>...</td>\n",
       "      <td>...</td>\n",
       "    </tr>\n",
       "    <tr>\n",
       "      <th>2024-12-24</th>\n",
       "      <td>506.10001</td>\n",
       "      <td>0.0</td>\n",
       "    </tr>\n",
       "    <tr>\n",
       "      <th>2024-12-26</th>\n",
       "      <td>511.14999</td>\n",
       "      <td>0.0</td>\n",
       "    </tr>\n",
       "    <tr>\n",
       "      <th>2024-12-27</th>\n",
       "      <td>509.98999</td>\n",
       "      <td>0.0</td>\n",
       "    </tr>\n",
       "    <tr>\n",
       "      <th>2024-12-30</th>\n",
       "      <td>507.79999</td>\n",
       "      <td>0.0</td>\n",
       "    </tr>\n",
       "    <tr>\n",
       "      <th>2024-12-31</th>\n",
       "      <td>505.85999</td>\n",
       "      <td>0.0</td>\n",
       "    </tr>\n",
       "  </tbody>\n",
       "</table>\n",
       "<p>10131 rows × 2 columns</p>\n",
       "</div>"
      ],
      "text/plain": [
       "                    P    D\n",
       "date                      \n",
       "1984-10-18    4.87500  0.0\n",
       "1984-10-19    4.68750  0.0\n",
       "1984-10-22    4.68750  0.0\n",
       "1984-10-23    4.56250  0.0\n",
       "1984-10-24    4.68750  0.0\n",
       "...               ...  ...\n",
       "2024-12-24  506.10001  0.0\n",
       "2024-12-26  511.14999  0.0\n",
       "2024-12-27  509.98999  0.0\n",
       "2024-12-30  507.79999  0.0\n",
       "2024-12-31  505.85999  0.0\n",
       "\n",
       "[10131 rows x 2 columns]"
      ]
     },
     "execution_count": 5,
     "metadata": {},
     "output_type": "execute_result"
    }
   ],
   "source": [
    "#We now get daily prices and dividends for the UNH stock\n",
    "# lets not think too hard how we did that--the function is defined above--but for now--lets just used it\n",
    "df_UNH=get_daily_wrds_single_ticker('UNH',conn)\n",
    "df_UNH"
   ]
  },
  {
   "cell_type": "code",
   "execution_count": null,
   "metadata": {},
   "outputs": [
    {
     "data": {
      "text/html": [
       "<div>\n",
       "<style scoped>\n",
       "    .dataframe tbody tr th:only-of-type {\n",
       "        vertical-align: middle;\n",
       "    }\n",
       "\n",
       "    .dataframe tbody tr th {\n",
       "        vertical-align: top;\n",
       "    }\n",
       "\n",
       "    .dataframe thead th {\n",
       "        text-align: right;\n",
       "    }\n",
       "</style>\n",
       "<table border=\"1\" class=\"dataframe\">\n",
       "  <thead>\n",
       "    <tr style=\"text-align: right;\">\n",
       "      <th></th>\n",
       "      <th>P</th>\n",
       "      <th>D</th>\n",
       "      <th>ret</th>\n",
       "    </tr>\n",
       "    <tr>\n",
       "      <th>date</th>\n",
       "      <th></th>\n",
       "      <th></th>\n",
       "      <th></th>\n",
       "    </tr>\n",
       "  </thead>\n",
       "  <tbody>\n",
       "    <tr>\n",
       "      <th>1984-10-18</th>\n",
       "      <td>4.87500</td>\n",
       "      <td>0.0</td>\n",
       "      <td>NaN</td>\n",
       "    </tr>\n",
       "    <tr>\n",
       "      <th>1984-10-19</th>\n",
       "      <td>4.68750</td>\n",
       "      <td>0.0</td>\n",
       "      <td>-0.038462</td>\n",
       "    </tr>\n",
       "    <tr>\n",
       "      <th>1984-10-22</th>\n",
       "      <td>4.68750</td>\n",
       "      <td>0.0</td>\n",
       "      <td>0.000000</td>\n",
       "    </tr>\n",
       "    <tr>\n",
       "      <th>1984-10-23</th>\n",
       "      <td>4.56250</td>\n",
       "      <td>0.0</td>\n",
       "      <td>-0.026667</td>\n",
       "    </tr>\n",
       "    <tr>\n",
       "      <th>1984-10-24</th>\n",
       "      <td>4.68750</td>\n",
       "      <td>0.0</td>\n",
       "      <td>0.027397</td>\n",
       "    </tr>\n",
       "    <tr>\n",
       "      <th>...</th>\n",
       "      <td>...</td>\n",
       "      <td>...</td>\n",
       "      <td>...</td>\n",
       "    </tr>\n",
       "    <tr>\n",
       "      <th>2023-12-22</th>\n",
       "      <td>520.31000</td>\n",
       "      <td>0.0</td>\n",
       "      <td>0.000827</td>\n",
       "    </tr>\n",
       "    <tr>\n",
       "      <th>2023-12-26</th>\n",
       "      <td>520.03003</td>\n",
       "      <td>0.0</td>\n",
       "      <td>-0.000538</td>\n",
       "    </tr>\n",
       "    <tr>\n",
       "      <th>2023-12-27</th>\n",
       "      <td>522.78998</td>\n",
       "      <td>0.0</td>\n",
       "      <td>0.005307</td>\n",
       "    </tr>\n",
       "    <tr>\n",
       "      <th>2023-12-28</th>\n",
       "      <td>524.90002</td>\n",
       "      <td>0.0</td>\n",
       "      <td>0.004036</td>\n",
       "    </tr>\n",
       "    <tr>\n",
       "      <th>2023-12-29</th>\n",
       "      <td>526.46997</td>\n",
       "      <td>0.0</td>\n",
       "      <td>0.002991</td>\n",
       "    </tr>\n",
       "  </tbody>\n",
       "</table>\n",
       "<p>9879 rows × 3 columns</p>\n",
       "</div>"
      ],
      "text/plain": [
       "                    P    D       ret\n",
       "date                                \n",
       "1984-10-18    4.87500  0.0       NaN\n",
       "1984-10-19    4.68750  0.0 -0.038462\n",
       "1984-10-22    4.68750  0.0  0.000000\n",
       "1984-10-23    4.56250  0.0 -0.026667\n",
       "1984-10-24    4.68750  0.0  0.027397\n",
       "...               ...  ...       ...\n",
       "2023-12-22  520.31000  0.0  0.000827\n",
       "2023-12-26  520.03003  0.0 -0.000538\n",
       "2023-12-27  522.78998  0.0  0.005307\n",
       "2023-12-28  524.90002  0.0  0.004036\n",
       "2023-12-29  526.46997  0.0  0.002991\n",
       "\n",
       "[9879 rows x 3 columns]"
      ]
     },
     "execution_count": 5,
     "metadata": {},
     "output_type": "execute_result"
    }
   ],
   "source": [
    "#How do we construct returns?\n",
    "\n",
    "# what .shift does?\n",
    "\n",
    "\n",
    "df_UNH['ret']=?\n",
    "\n",
    "df_UNH"
   ]
  },
  {
   "cell_type": "code",
   "execution_count": 50,
   "metadata": {},
   "outputs": [
    {
     "data": {
      "text/plain": [
       "0.0009104234710832472"
      ]
     },
     "execution_count": 50,
     "metadata": {},
     "output_type": "execute_result"
    }
   ],
   "source": [
    "df_UNH['ret'].mean()"
   ]
  },
  {
   "cell_type": "markdown",
   "metadata": {},
   "source": [
    "If I have invested 100 dollars in a random month in the sample, on average I would have 100.09 in month t+1 in the sample\n",
    "\n",
    "A return of\n",
    "\n",
    "$$\\frac{100.09-100}{100}=0.09\\%$$"
   ]
  },
  {
   "cell_type": "markdown",
   "metadata": {},
   "source": [
    "Suppose that at the start of the sample we invested 1 dollar in this stock and got all the dividends and used to buy more of the stock, \n",
    "\n",
    "* how many dollars we would have at the end of the sample?\n",
    "\n",
    "* What is the cumulative return on our investment?\n",
    "\n",
    "* What is the annualized return?\n",
    "\n",
    "* What is the dividend yield?\n",
    "\n",
    "\n"
   ]
  },
  {
   "cell_type": "code",
   "execution_count": null,
   "metadata": {},
   "outputs": [],
   "source": []
  },
  {
   "cell_type": "markdown",
   "metadata": {},
   "source": [
    "Suppose we are now at the end of the sample \n",
    "\n",
    "1. You have 1000 dollars invested in this stock in the end of the sample, the next day there’s a 16% chance your portfolio's value will fall below a certain amount. How would you estimate that value?\n",
    "\n",
    "1. Now suppose you want to know this value in one year? What is your estimate of this value?\n",
    "\n",
    "1. What is the expected value of your holdings in one year? How should you think about estimating this?\n",
    "\n",
    "1. What can you plot  to have a sense of the distribution of 1 day returns? And 1 year \n",
    "returns?\n",
    "\n",
    "1. What plot can you to give you a sense of how these returns varying over time?\n",
    "\n",
    "1. What drives these returns? Why do they vary over time?\n",
    "\n"
   ]
  },
  {
   "cell_type": "markdown",
   "metadata": {},
   "source": []
  },
  {
   "cell_type": "markdown",
   "metadata": {},
   "source": [
    "## Decomposing Returns\n",
    "\n",
    "* Returns of an individual stock can be driven by many things\n",
    "  - Time-value of money. There are periods where you can get very high returns even in perfectly safe assets\n",
    "  - Common factors, examples: all stocks went up because of a stronger economy, all stocks went down because of a financial crisis\n",
    "  - Individual factors impacting the stock: A new drug/a new technology that the firm sells. Anything specific to the firm\n",
    "\n",
    "When investing is essential to understand where your performance comes from\n",
    "\n",
    "We will build towards a framework of investing that thinks differently about investing on systematic risk and idiosyncratic risk\n",
    "\n",
    "The first step will be to build this decomposition, which will start now and culminate in our factor models lecture\n",
    "\n",
    "### Striping the risk-free rate\n",
    "\n",
    "\n",
    "* In this class we will do a lot of decomposing, but lets start by stripping down the \"time-value of money\" piece\n",
    "\n",
    "* We first define an \"<b>excess return</b>\"： the return minus the risk-free rate \n",
    " \n",
    " $$excess~return^{stock~i}=return^{stock~i}-risk~free~rate$$\n",
    " \n",
    "* We typically use the returns of a 3-month treasury bill to measure the risk-free rate\n",
    "\n",
    "* this obviously should be currency dependent\n",
    "\n",
    "* We will denote $rf$ for the risk-free rate\n",
    "\n",
    "* We often add superscript \"e\" to denote an excess return. \n",
    "\n",
    "* so if $r^i$ stands for the return of stock $i$, then $r^{e,i}$ is it's excess return\n",
    "\n",
    "* Conceptually you want to use the risk-free asset for the relevant holding period you are evaluating the asset returns, but for this class you can think of the \"Fed Funds Rate\" or the \"3-month treasury-bill rate\"\n"
   ]
  },
  {
   "cell_type": "code",
   "execution_count": 6,
   "metadata": {},
   "outputs": [
    {
     "data": {
      "text/plain": [
       "<AxesSubplot:xlabel='Date'>"
      ]
     },
     "execution_count": 6,
     "metadata": {},
     "output_type": "execute_result"
    },
    {
     "data": {
      "image/png": "[encoded data removed]",
      "text/plain": [
       "<Figure size 432x288 with 1 Axes>"
      ]
     },
     "metadata": {
      "needs_background": "light"
     },
     "output_type": "display_data"
    }
   ],
   "source": [
    "from pandas_datareader.data import DataReader\n",
    "import datetime\n",
    "\n",
    "# Define the date range\n",
    "start_date = datetime.datetime(1960, 1, 1)  # Start date (adjust as needed)\n",
    "end_date = datetime.datetime.now()          # End date\n",
    "\n",
    "\n",
    "df_rf = DataReader(\"DGS3MO\", \"fred\", start_date, end_date)\n",
    "df_rf.reset_index(inplace=True)\n",
    "df_rf.columns = [\"Date\", \"rf\"]\n",
    "df_rf.rf=df_rf.rf/100\n",
    "df_rf.set_index(\"Date\", inplace=True)\n",
    "\n",
    "\n",
    "df_rf.plot()"
   ]
  },
  {
   "cell_type": "markdown",
   "metadata": {},
   "source": [
    "How do we interpret this rate?\n",
    "\n",
    "Say if I invested in the tbill in 2005 how much money I would have in the end of 3 months? And in the end of the year?\n",
    "\n"
   ]
  },
  {
   "cell_type": "markdown",
   "metadata": {},
   "source": [
    "Lets get another stock to play with and merge it together with our risk-free return\n"
   ]
  },
  {
   "cell_type": "code",
   "execution_count": 7,
   "metadata": {},
   "outputs": [
    {
     "name": "stdout",
     "output_type": "stream",
     "text": [
      "[86580]\n"
     ]
    },
    {
     "data": {
      "text/html": [
       "<div>\n",
       "<style scoped>\n",
       "    .dataframe tbody tr th:only-of-type {\n",
       "        vertical-align: middle;\n",
       "    }\n",
       "\n",
       "    .dataframe tbody tr th {\n",
       "        vertical-align: top;\n",
       "    }\n",
       "\n",
       "    .dataframe thead th {\n",
       "        text-align: right;\n",
       "    }\n",
       "</style>\n",
       "<table border=\"1\" class=\"dataframe\">\n",
       "  <thead>\n",
       "    <tr style=\"text-align: right;\">\n",
       "      <th></th>\n",
       "      <th>ret</th>\n",
       "      <th>rf</th>\n",
       "    </tr>\n",
       "    <tr>\n",
       "      <th>date</th>\n",
       "      <th></th>\n",
       "      <th></th>\n",
       "    </tr>\n",
       "  </thead>\n",
       "  <tbody>\n",
       "    <tr>\n",
       "      <th>1999-01-25</th>\n",
       "      <td>0.104762</td>\n",
       "      <td>0.0444</td>\n",
       "    </tr>\n",
       "    <tr>\n",
       "      <th>1999-01-26</th>\n",
       "      <td>-0.077586</td>\n",
       "      <td>0.0446</td>\n",
       "    </tr>\n",
       "    <tr>\n",
       "      <th>1999-01-27</th>\n",
       "      <td>-0.003115</td>\n",
       "      <td>0.0447</td>\n",
       "    </tr>\n",
       "    <tr>\n",
       "      <th>1999-01-28</th>\n",
       "      <td>-0.003125</td>\n",
       "      <td>0.0449</td>\n",
       "    </tr>\n",
       "    <tr>\n",
       "      <th>1999-01-29</th>\n",
       "      <td>-0.047022</td>\n",
       "      <td>0.0448</td>\n",
       "    </tr>\n",
       "    <tr>\n",
       "      <th>...</th>\n",
       "      <td>...</td>\n",
       "      <td>...</td>\n",
       "    </tr>\n",
       "    <tr>\n",
       "      <th>2024-12-24</th>\n",
       "      <td>0.003938</td>\n",
       "      <td>0.0440</td>\n",
       "    </tr>\n",
       "    <tr>\n",
       "      <th>2024-12-26</th>\n",
       "      <td>-0.002068</td>\n",
       "      <td>0.0435</td>\n",
       "    </tr>\n",
       "    <tr>\n",
       "      <th>2024-12-27</th>\n",
       "      <td>-0.020868</td>\n",
       "      <td>0.0431</td>\n",
       "    </tr>\n",
       "    <tr>\n",
       "      <th>2024-12-30</th>\n",
       "      <td>0.003503</td>\n",
       "      <td>0.0437</td>\n",
       "    </tr>\n",
       "    <tr>\n",
       "      <th>2024-12-31</th>\n",
       "      <td>-0.023275</td>\n",
       "      <td>0.0437</td>\n",
       "    </tr>\n",
       "  </tbody>\n",
       "</table>\n",
       "<p>6527 rows × 2 columns</p>\n",
       "</div>"
      ],
      "text/plain": [
       "                 ret      rf\n",
       "date                        \n",
       "1999-01-25  0.104762  0.0444\n",
       "1999-01-26 -0.077586  0.0446\n",
       "1999-01-27 -0.003115  0.0447\n",
       "1999-01-28 -0.003125  0.0449\n",
       "1999-01-29 -0.047022  0.0448\n",
       "...              ...     ...\n",
       "2024-12-24  0.003938  0.0440\n",
       "2024-12-26 -0.002068  0.0435\n",
       "2024-12-27 -0.020868  0.0431\n",
       "2024-12-30  0.003503  0.0437\n",
       "2024-12-31 -0.023275  0.0437\n",
       "\n",
       "[6527 rows x 2 columns]"
      ]
     },
     "execution_count": 7,
     "metadata": {},
     "output_type": "execute_result"
    }
   ],
   "source": [
    "df=get_daily_wrds_single_ticker('NVDA',conn,dividends=False)\n",
    "df=df.merge(df_rf, left_index=True, right_index=True,how='left')\n",
    "df"
   ]
  },
  {
   "cell_type": "markdown",
   "metadata": {},
   "source": [
    "Lets construct another column called 'ret_e' for excess returns"
   ]
  },
  {
   "cell_type": "code",
   "execution_count": null,
   "metadata": {},
   "outputs": [],
   "source": []
  },
  {
   "cell_type": "markdown",
   "metadata": {},
   "source": [
    "What is the trading interpretation of such series?\n",
    "\n",
    "Is it the \"return\" to which strategy exactly?"
   ]
  },
  {
   "cell_type": "markdown",
   "metadata": {},
   "source": []
  },
  {
   "cell_type": "markdown",
   "metadata": {},
   "source": [
    "- How the historical distributions of ret and rete compare?\n",
    "- Are their averages similar? \n",
    "- are their historical standard deviations similar? \n",
    "- Do they have similar interpretation?   \n",
    "- Is the standard-deviation of risk-free rate useful to tell you the distribution of you returns in the end of 3 months for an investments in the risk-free asset?"
   ]
  },
  {
   "cell_type": "code",
   "execution_count": null,
   "metadata": {},
   "outputs": [],
   "source": []
  },
  {
   "cell_type": "markdown",
   "metadata": {},
   "source": [
    "## Risk Premiums\n",
    "\n",
    "- We call the risk-premium what we earn in excess of what a risk-free investment pays\n",
    "- So the risk premium of an asset is the expected value of the excess return\n",
    "\n",
    "$$risk~premium~of~stock~i=E[r^{e,i}]$$\n",
    "\n",
    "So the expected return of a stock is\n",
    "\n",
    "$$E[r^i]=rf+E[r^{e,i}]$$\n",
    "\n",
    "\n",
    "The realized return is obviously volatile, hence the risk\n",
    "\n",
    "$$u_i=r^{e,i}-E[r^{e,i}]$$\n",
    "\n",
    "will be negative 50% of the time and sometimes quite negative!\n",
    "\n",
    "Big picture level the goal of quant investing is to harvest these risk-premia while managing the risk\n",
    "\n",
    "- We know the risk-free rate (it is the yield on a short-term government bond)\n",
    "\n",
    "- How do we figure out the risk-premium of an asset?\n",
    "\n"
   ]
  },
  {
   "cell_type": "markdown",
   "metadata": {},
   "source": []
  },
  {
   "cell_type": "markdown",
   "metadata": {},
   "source": [
    "### Stripping the common factor\n",
    "\n",
    "- We will build a simple model to help us both think about this risk-premium and also the risk that we need to manage\n",
    "\n",
    "- It will be useful to decompose the excess returns further to better understand it's risk and it's premium\n",
    "\n",
    "- We know that the overall market portfolio moves around, so it is natural to strip that market-wide movement from the stock returns\n",
    "\n",
    "- Suppose f is this common factor, one possibility is to write\n",
    "\n",
    "$$r^{i}=r^i-rf+rf$$\n",
    "\n",
    "$$r^{i}=r^i-rf+rf-f+f$$\n",
    "\n",
    "Reorganizing we have that the return can be written as\n",
    "\n",
    "$$r^{i}=rf+f+r^{e,i}-f$$\n",
    "\n",
    "$$r^i=risk~free~rate(rf)+factor(f)+firm~specific~component (r^{e,i}-f)$$\n",
    "\n",
    "\n",
    "- What is this common factor? \n",
    "\n",
    "- Will this work? When will it work?\n",
    "\n",
    "\n"
   ]
  },
  {
   "cell_type": "code",
   "execution_count": null,
   "metadata": {},
   "outputs": [],
   "source": []
  },
  {
   "cell_type": "markdown",
   "metadata": {},
   "source": [
    "* I will use the returns on the SPY etf as a market proxy, i.e\n",
    "\n",
    "$$f=return^{SPY}$$\n",
    "\n",
    "* This funds holds a market-capitalization weighted portfolio of the largest 500 US stocks (roughly)--this consists of about 85% of the total universe of investable US equities\n",
    "\n",
    "* The press often cites the DOW JONES as another proxy for the overall movement in stocks--but it is a terrible proxy, since is a equal weighted portfolio of 30 arbitrary chosen stocks. Please never ever use that\n",
    "\n",
    "* If you really want to use a portfolio that tracks the entirety of the US stock market universe you can use VTI which is a ETF that holds market-capitalization weighted portfolio of all publicly traded US stocks. About 60 Trillion investment universe\n",
    "\n",
    "* For reasons that will be clear later--but don't matter for now, I will also strip the risk-free rate from our common factor\n",
    "\n",
    "$$f=return^{SPY}-rf$$\n",
    "\n"
   ]
  },
  {
   "cell_type": "code",
   "execution_count": 15,
   "metadata": {},
   "outputs": [
    {
     "name": "stdout",
     "output_type": "stream",
     "text": [
      "[47896, 55976, 84398]\n"
     ]
    },
    {
     "data": {
      "text/html": [
       "<div>\n",
       "<style scoped>\n",
       "    .dataframe tbody tr th:only-of-type {\n",
       "        vertical-align: middle;\n",
       "    }\n",
       "\n",
       "    .dataframe tbody tr th {\n",
       "        vertical-align: top;\n",
       "    }\n",
       "\n",
       "    .dataframe thead th {\n",
       "        text-align: right;\n",
       "    }\n",
       "</style>\n",
       "<table border=\"1\" class=\"dataframe\">\n",
       "  <thead>\n",
       "    <tr style=\"text-align: right;\">\n",
       "      <th></th>\n",
       "      <th>SPY</th>\n",
       "      <th>WMT</th>\n",
       "      <th>JPM</th>\n",
       "      <th>rf</th>\n",
       "    </tr>\n",
       "    <tr>\n",
       "      <th>date</th>\n",
       "      <th></th>\n",
       "      <th></th>\n",
       "      <th></th>\n",
       "      <th></th>\n",
       "    </tr>\n",
       "  </thead>\n",
       "  <tbody>\n",
       "    <tr>\n",
       "      <th>1993-02-01</th>\n",
       "      <td>0.007112</td>\n",
       "      <td>0.011516</td>\n",
       "      <td>0.009231</td>\n",
       "      <td>0.000119</td>\n",
       "    </tr>\n",
       "    <tr>\n",
       "      <th>1993-02-02</th>\n",
       "      <td>0.002119</td>\n",
       "      <td>0.005693</td>\n",
       "      <td>0.003049</td>\n",
       "      <td>0.000120</td>\n",
       "    </tr>\n",
       "    <tr>\n",
       "      <th>1993-02-03</th>\n",
       "      <td>0.010571</td>\n",
       "      <td>0.009434</td>\n",
       "      <td>0.012158</td>\n",
       "      <td>0.000119</td>\n",
       "    </tr>\n",
       "    <tr>\n",
       "      <th>1993-02-04</th>\n",
       "      <td>0.004184</td>\n",
       "      <td>-0.003738</td>\n",
       "      <td>0.012012</td>\n",
       "      <td>0.000117</td>\n",
       "    </tr>\n",
       "    <tr>\n",
       "      <th>1993-02-05</th>\n",
       "      <td>-0.000694</td>\n",
       "      <td>-0.011257</td>\n",
       "      <td>0.017804</td>\n",
       "      <td>0.000117</td>\n",
       "    </tr>\n",
       "    <tr>\n",
       "      <th>...</th>\n",
       "      <td>...</td>\n",
       "      <td>...</td>\n",
       "      <td>...</td>\n",
       "      <td>...</td>\n",
       "    </tr>\n",
       "    <tr>\n",
       "      <th>2024-12-24</th>\n",
       "      <td>0.011115</td>\n",
       "      <td>0.025789</td>\n",
       "      <td>0.016444</td>\n",
       "      <td>0.000175</td>\n",
       "    </tr>\n",
       "    <tr>\n",
       "      <th>2024-12-26</th>\n",
       "      <td>0.000067</td>\n",
       "      <td>0.001187</td>\n",
       "      <td>0.003425</td>\n",
       "      <td>0.000173</td>\n",
       "    </tr>\n",
       "    <tr>\n",
       "      <th>2024-12-27</th>\n",
       "      <td>-0.010527</td>\n",
       "      <td>-0.012178</td>\n",
       "      <td>-0.008102</td>\n",
       "      <td>0.000171</td>\n",
       "    </tr>\n",
       "    <tr>\n",
       "      <th>2024-12-30</th>\n",
       "      <td>-0.011412</td>\n",
       "      <td>-0.011892</td>\n",
       "      <td>-0.007671</td>\n",
       "      <td>0.000173</td>\n",
       "    </tr>\n",
       "    <tr>\n",
       "      <th>2024-12-31</th>\n",
       "      <td>-0.003638</td>\n",
       "      <td>-0.002429</td>\n",
       "      <td>0.001630</td>\n",
       "      <td>0.000173</td>\n",
       "    </tr>\n",
       "  </tbody>\n",
       "</table>\n",
       "<p>8037 rows × 4 columns</p>\n",
       "</div>"
      ],
      "text/plain": [
       "                 SPY       WMT       JPM        rf\n",
       "date                                              \n",
       "1993-02-01  0.007112  0.011516  0.009231  0.000119\n",
       "1993-02-02  0.002119  0.005693  0.003049  0.000120\n",
       "1993-02-03  0.010571  0.009434  0.012158  0.000119\n",
       "1993-02-04  0.004184 -0.003738  0.012012  0.000117\n",
       "1993-02-05 -0.000694 -0.011257  0.017804  0.000117\n",
       "...              ...       ...       ...       ...\n",
       "2024-12-24  0.011115  0.025789  0.016444  0.000175\n",
       "2024-12-26  0.000067  0.001187  0.003425  0.000173\n",
       "2024-12-27 -0.010527 -0.012178 -0.008102  0.000171\n",
       "2024-12-30 -0.011412 -0.011892 -0.007671  0.000173\n",
       "2024-12-31 -0.003638 -0.002429  0.001630  0.000173\n",
       "\n",
       "[8037 rows x 4 columns]"
      ]
     },
     "execution_count": 15,
     "metadata": {},
     "output_type": "execute_result"
    }
   ],
   "source": [
    "#conn = wrds.Connection()\n",
    "df=get_daily_wrds_multiple_ticker(['SPY','WMT','JPM'],conn)\n",
    "#Why did I divide by 252?\n",
    "df=df.merge(df_rf/252, left_index=True, right_index=True,how='left')\n",
    "df"
   ]
  },
  {
   "cell_type": "code",
   "execution_count": 16,
   "metadata": {},
   "outputs": [
    {
     "data": {
      "text/html": [
       "<div>\n",
       "<style scoped>\n",
       "    .dataframe tbody tr th:only-of-type {\n",
       "        vertical-align: middle;\n",
       "    }\n",
       "\n",
       "    .dataframe tbody tr th {\n",
       "        vertical-align: top;\n",
       "    }\n",
       "\n",
       "    .dataframe thead th {\n",
       "        text-align: right;\n",
       "    }\n",
       "</style>\n",
       "<table border=\"1\" class=\"dataframe\">\n",
       "  <thead>\n",
       "    <tr style=\"text-align: right;\">\n",
       "      <th></th>\n",
       "      <th>SPY</th>\n",
       "      <th>WMT</th>\n",
       "      <th>JPM</th>\n",
       "    </tr>\n",
       "    <tr>\n",
       "      <th>date</th>\n",
       "      <th></th>\n",
       "      <th></th>\n",
       "      <th></th>\n",
       "    </tr>\n",
       "  </thead>\n",
       "  <tbody>\n",
       "    <tr>\n",
       "      <th>1993-02-01</th>\n",
       "      <td>0.006993</td>\n",
       "      <td>0.011397</td>\n",
       "      <td>0.009112</td>\n",
       "    </tr>\n",
       "    <tr>\n",
       "      <th>1993-02-02</th>\n",
       "      <td>0.001999</td>\n",
       "      <td>0.005573</td>\n",
       "      <td>0.002929</td>\n",
       "    </tr>\n",
       "    <tr>\n",
       "      <th>1993-02-03</th>\n",
       "      <td>0.010452</td>\n",
       "      <td>0.009315</td>\n",
       "      <td>0.012039</td>\n",
       "    </tr>\n",
       "    <tr>\n",
       "      <th>1993-02-04</th>\n",
       "      <td>0.004067</td>\n",
       "      <td>-0.003855</td>\n",
       "      <td>0.011895</td>\n",
       "    </tr>\n",
       "    <tr>\n",
       "      <th>1993-02-05</th>\n",
       "      <td>-0.000811</td>\n",
       "      <td>-0.011374</td>\n",
       "      <td>0.017687</td>\n",
       "    </tr>\n",
       "    <tr>\n",
       "      <th>...</th>\n",
       "      <td>...</td>\n",
       "      <td>...</td>\n",
       "      <td>...</td>\n",
       "    </tr>\n",
       "    <tr>\n",
       "      <th>2024-12-24</th>\n",
       "      <td>0.010940</td>\n",
       "      <td>0.025614</td>\n",
       "      <td>0.016269</td>\n",
       "    </tr>\n",
       "    <tr>\n",
       "      <th>2024-12-26</th>\n",
       "      <td>-0.000106</td>\n",
       "      <td>0.001014</td>\n",
       "      <td>0.003252</td>\n",
       "    </tr>\n",
       "    <tr>\n",
       "      <th>2024-12-27</th>\n",
       "      <td>-0.010698</td>\n",
       "      <td>-0.012349</td>\n",
       "      <td>-0.008273</td>\n",
       "    </tr>\n",
       "    <tr>\n",
       "      <th>2024-12-30</th>\n",
       "      <td>-0.011585</td>\n",
       "      <td>-0.012065</td>\n",
       "      <td>-0.007844</td>\n",
       "    </tr>\n",
       "    <tr>\n",
       "      <th>2024-12-31</th>\n",
       "      <td>-0.003811</td>\n",
       "      <td>-0.002602</td>\n",
       "      <td>0.001457</td>\n",
       "    </tr>\n",
       "  </tbody>\n",
       "</table>\n",
       "<p>8037 rows × 3 columns</p>\n",
       "</div>"
      ],
      "text/plain": [
       "                 SPY       WMT       JPM\n",
       "date                                    \n",
       "1993-02-01  0.006993  0.011397  0.009112\n",
       "1993-02-02  0.001999  0.005573  0.002929\n",
       "1993-02-03  0.010452  0.009315  0.012039\n",
       "1993-02-04  0.004067 -0.003855  0.011895\n",
       "1993-02-05 -0.000811 -0.011374  0.017687\n",
       "...              ...       ...       ...\n",
       "2024-12-24  0.010940  0.025614  0.016269\n",
       "2024-12-26 -0.000106  0.001014  0.003252\n",
       "2024-12-27 -0.010698 -0.012349 -0.008273\n",
       "2024-12-30 -0.011585 -0.012065 -0.007844\n",
       "2024-12-31 -0.003811 -0.002602  0.001457\n",
       "\n",
       "[8037 rows x 3 columns]"
      ]
     },
     "execution_count": 16,
     "metadata": {},
     "output_type": "execute_result"
    }
   ],
   "source": [
    "# will create excess retursn\n",
    "\n",
    "df_re=df.drop(columns='rf').sub(df['rf'],axis=0)\n",
    "df_re"
   ]
  },
  {
   "cell_type": "code",
   "execution_count": 17,
   "metadata": {},
   "outputs": [
    {
     "name": "stderr",
     "output_type": "stream",
     "text": [
      "c:\\Users\\Alan.Moreira\\Anaconda3\\lib\\site-packages\\scipy\\__init__.py:146: UserWarning: A NumPy version >=1.16.5 and <1.23.0 is required for this version of SciPy (detected version 1.26.0\n",
      "  warnings.warn(f\"A NumPy version >={np_minversion} and <{np_maxversion}\"\n"
     ]
    },
    {
     "data": {
      "image/png": "[encoded data removed]",
      "text/plain": [
       "<Figure size 1296x432 with 2 Axes>"
      ]
     },
     "metadata": {
      "needs_background": "light"
     },
     "output_type": "display_data"
    }
   ],
   "source": [
    "fig, axes = plt.subplots(1, 2, figsize=(18,6))\n",
    "import statsmodels.api as sm\n",
    "\n",
    "\n",
    "# Function to add regression line and beta coefficient\n",
    "\n",
    "df_re.plot.scatter(x='SPY', y='WMT', ax=axes[0], title='SPY vs WMT')\n",
    "\n",
    "# Scatter plot for SPY vs CSCO\n",
    "df_re.plot.scatter(x='SPY', y='JPM', ax=axes[1], title='SPY vs JPM')\n",
    "\n",
    "plt.tight_layout()\n",
    "plt.show()"
   ]
  },
  {
   "cell_type": "markdown",
   "metadata": {},
   "source": [
    "Indeed we see quite a bit of co-movement!\n",
    "\n",
    "Days that SPY return is up, Both stocks tend to be up as well\n",
    "\n",
    "Another way of see this is looking at the correlation between the stocks and the factor"
   ]
  },
  {
   "cell_type": "code",
   "execution_count": 18,
   "metadata": {},
   "outputs": [
    {
     "data": {
      "text/html": [
       "<div>\n",
       "<style scoped>\n",
       "    .dataframe tbody tr th:only-of-type {\n",
       "        vertical-align: middle;\n",
       "    }\n",
       "\n",
       "    .dataframe tbody tr th {\n",
       "        vertical-align: top;\n",
       "    }\n",
       "\n",
       "    .dataframe thead th {\n",
       "        text-align: right;\n",
       "    }\n",
       "</style>\n",
       "<table border=\"1\" class=\"dataframe\">\n",
       "  <thead>\n",
       "    <tr style=\"text-align: right;\">\n",
       "      <th></th>\n",
       "      <th>SPY</th>\n",
       "      <th>WMT</th>\n",
       "      <th>JPM</th>\n",
       "    </tr>\n",
       "  </thead>\n",
       "  <tbody>\n",
       "    <tr>\n",
       "      <th>SPY</th>\n",
       "      <td>1.000000</td>\n",
       "      <td>0.492221</td>\n",
       "      <td>0.707302</td>\n",
       "    </tr>\n",
       "    <tr>\n",
       "      <th>WMT</th>\n",
       "      <td>0.492221</td>\n",
       "      <td>1.000000</td>\n",
       "      <td>0.325104</td>\n",
       "    </tr>\n",
       "    <tr>\n",
       "      <th>JPM</th>\n",
       "      <td>0.707302</td>\n",
       "      <td>0.325104</td>\n",
       "      <td>1.000000</td>\n",
       "    </tr>\n",
       "  </tbody>\n",
       "</table>\n",
       "</div>"
      ],
      "text/plain": [
       "          SPY       WMT       JPM\n",
       "SPY  1.000000  0.492221  0.707302\n",
       "WMT  0.492221  1.000000  0.325104\n",
       "JPM  0.707302  0.325104  1.000000"
      ]
     },
     "execution_count": 18,
     "metadata": {},
     "output_type": "execute_result"
    }
   ],
   "source": [
    "df_re.corr()"
   ]
  },
  {
   "cell_type": "markdown",
   "metadata": {},
   "source": [
    "Lets try to clean the stock from exposure to the common factor by subtracting it out\n",
    "\n",
    "'m_spy' denote the returns minus the return on the factor\n",
    "\n"
   ]
  },
  {
   "cell_type": "code",
   "execution_count": 19,
   "metadata": {},
   "outputs": [
    {
     "data": {
      "text/html": [
       "<div>\n",
       "<style scoped>\n",
       "    .dataframe tbody tr th:only-of-type {\n",
       "        vertical-align: middle;\n",
       "    }\n",
       "\n",
       "    .dataframe tbody tr th {\n",
       "        vertical-align: top;\n",
       "    }\n",
       "\n",
       "    .dataframe thead th {\n",
       "        text-align: right;\n",
       "    }\n",
       "</style>\n",
       "<table border=\"1\" class=\"dataframe\">\n",
       "  <thead>\n",
       "    <tr style=\"text-align: right;\">\n",
       "      <th></th>\n",
       "      <th>SPY</th>\n",
       "      <th>WMT</th>\n",
       "      <th>JPM</th>\n",
       "      <th>rf</th>\n",
       "    </tr>\n",
       "    <tr>\n",
       "      <th>date</th>\n",
       "      <th></th>\n",
       "      <th></th>\n",
       "      <th></th>\n",
       "      <th></th>\n",
       "    </tr>\n",
       "  </thead>\n",
       "  <tbody>\n",
       "    <tr>\n",
       "      <th>1993-02-01</th>\n",
       "      <td>0.007112</td>\n",
       "      <td>0.011516</td>\n",
       "      <td>0.009231</td>\n",
       "      <td>0.000119</td>\n",
       "    </tr>\n",
       "    <tr>\n",
       "      <th>1993-02-02</th>\n",
       "      <td>0.002119</td>\n",
       "      <td>0.005693</td>\n",
       "      <td>0.003049</td>\n",
       "      <td>0.000120</td>\n",
       "    </tr>\n",
       "    <tr>\n",
       "      <th>1993-02-03</th>\n",
       "      <td>0.010571</td>\n",
       "      <td>0.009434</td>\n",
       "      <td>0.012158</td>\n",
       "      <td>0.000119</td>\n",
       "    </tr>\n",
       "    <tr>\n",
       "      <th>1993-02-04</th>\n",
       "      <td>0.004184</td>\n",
       "      <td>-0.003738</td>\n",
       "      <td>0.012012</td>\n",
       "      <td>0.000117</td>\n",
       "    </tr>\n",
       "    <tr>\n",
       "      <th>1993-02-05</th>\n",
       "      <td>-0.000694</td>\n",
       "      <td>-0.011257</td>\n",
       "      <td>0.017804</td>\n",
       "      <td>0.000117</td>\n",
       "    </tr>\n",
       "    <tr>\n",
       "      <th>...</th>\n",
       "      <td>...</td>\n",
       "      <td>...</td>\n",
       "      <td>...</td>\n",
       "      <td>...</td>\n",
       "    </tr>\n",
       "    <tr>\n",
       "      <th>2024-12-24</th>\n",
       "      <td>0.011115</td>\n",
       "      <td>0.025789</td>\n",
       "      <td>0.016444</td>\n",
       "      <td>0.000175</td>\n",
       "    </tr>\n",
       "    <tr>\n",
       "      <th>2024-12-26</th>\n",
       "      <td>0.000067</td>\n",
       "      <td>0.001187</td>\n",
       "      <td>0.003425</td>\n",
       "      <td>0.000173</td>\n",
       "    </tr>\n",
       "    <tr>\n",
       "      <th>2024-12-27</th>\n",
       "      <td>-0.010527</td>\n",
       "      <td>-0.012178</td>\n",
       "      <td>-0.008102</td>\n",
       "      <td>0.000171</td>\n",
       "    </tr>\n",
       "    <tr>\n",
       "      <th>2024-12-30</th>\n",
       "      <td>-0.011412</td>\n",
       "      <td>-0.011892</td>\n",
       "      <td>-0.007671</td>\n",
       "      <td>0.000173</td>\n",
       "    </tr>\n",
       "    <tr>\n",
       "      <th>2024-12-31</th>\n",
       "      <td>-0.003638</td>\n",
       "      <td>-0.002429</td>\n",
       "      <td>0.001630</td>\n",
       "      <td>0.000173</td>\n",
       "    </tr>\n",
       "  </tbody>\n",
       "</table>\n",
       "<p>8037 rows × 4 columns</p>\n",
       "</div>"
      ],
      "text/plain": [
       "                 SPY       WMT       JPM        rf\n",
       "date                                              \n",
       "1993-02-01  0.007112  0.011516  0.009231  0.000119\n",
       "1993-02-02  0.002119  0.005693  0.003049  0.000120\n",
       "1993-02-03  0.010571  0.009434  0.012158  0.000119\n",
       "1993-02-04  0.004184 -0.003738  0.012012  0.000117\n",
       "1993-02-05 -0.000694 -0.011257  0.017804  0.000117\n",
       "...              ...       ...       ...       ...\n",
       "2024-12-24  0.011115  0.025789  0.016444  0.000175\n",
       "2024-12-26  0.000067  0.001187  0.003425  0.000173\n",
       "2024-12-27 -0.010527 -0.012178 -0.008102  0.000171\n",
       "2024-12-30 -0.011412 -0.011892 -0.007671  0.000173\n",
       "2024-12-31 -0.003638 -0.002429  0.001630  0.000173\n",
       "\n",
       "[8037 rows x 4 columns]"
      ]
     },
     "execution_count": 19,
     "metadata": {},
     "output_type": "execute_result"
    }
   ],
   "source": [
    "df_re[['WMT_m_spy','JPM_m_spy']]=df_re[['WMT','JPM']].subtract(df['SPY'],axis=0)\n",
    "df"
   ]
  },
  {
   "cell_type": "markdown",
   "metadata": {},
   "source": [
    "What is the trading interpretation in this case? What is the portfolio that yields the 'ret_m_spy' payoff?\n",
    "\n",
    "What is the cost of implementing this portfolio? Say you want to have a 100 dollar exposure to it?"
   ]
  },
  {
   "cell_type": "code",
   "execution_count": 20,
   "metadata": {},
   "outputs": [
    {
     "data": {
      "image/png": "[encoded data removed]",
      "text/plain": [
       "<Figure size 1296x432 with 2 Axes>"
      ]
     },
     "metadata": {
      "needs_background": "light"
     },
     "output_type": "display_data"
    }
   ],
   "source": [
    "fig, axes = plt.subplots(1, 2, figsize=(18,6))\n",
    "import statsmodels.api as sm\n",
    "\n",
    "\n",
    "# Function to add regression line and beta coefficient\n",
    "\n",
    "df_re.plot.scatter(x='SPY', y='WMT_m_spy', ax=axes[0], title='SPY vs WMT')\n",
    "\n",
    "# Scatter plot for SPY vs CSCO\n",
    "df_re.plot.scatter(x='SPY', y='JPM_m_spy', ax=axes[1], title='SPY vs JPM')\n",
    "\n",
    "plt.tight_layout()\n",
    "plt.show()"
   ]
  },
  {
   "cell_type": "markdown",
   "metadata": {},
   "source": [
    "Did it work?\n",
    "\n"
   ]
  },
  {
   "cell_type": "code",
   "execution_count": 21,
   "metadata": {},
   "outputs": [
    {
     "data": {
      "text/plain": [
       "SPY          1.000000\n",
       "WMT          0.492221\n",
       "JPM          0.707302\n",
       "WMT_m_spy   -0.264076\n",
       "JPM_m_spy    0.272552\n",
       "Name: SPY, dtype: float64"
      ]
     },
     "execution_count": 21,
     "metadata": {},
     "output_type": "execute_result"
    }
   ],
   "source": [
    "df_re.corr().loc['SPY',:]"
   ]
  },
  {
   "cell_type": "code",
   "execution_count": 22,
   "metadata": {},
   "outputs": [
    {
     "data": {
      "text/plain": [
       "SPY          0.011617\n",
       "WMT          0.015902\n",
       "JPM          0.022911\n",
       "WMT_m_spy    0.014351\n",
       "JPM_m_spy    0.016833\n",
       "dtype: float64"
      ]
     },
     "execution_count": 22,
     "metadata": {},
     "output_type": "execute_result"
    }
   ],
   "source": [
    "df_re.std()"
   ]
  },
  {
   "cell_type": "markdown",
   "metadata": {},
   "source": [
    "What is going on?\n",
    "\n",
    "The \"model\" motivating our decomposition was\n",
    "\n",
    "$$ r=r-rf-f+f+rf$$\n",
    "\n",
    "with the $r-f-rf$ picking up the stock specific movement and $f$ the common movement\n",
    "\n",
    "But it seems that the residual still has factor exposure\n",
    "\n",
    "* For stock 1, the residual is negatively correlated, so it seems tha we are taking out too much\n",
    "* For stock 2, it is still positive, so we are taking out too little \n",
    "* Taking out 1 dollar of factor exposure for each 1 dollar of stock exposure reduced the factor exposure and the asset volatilities, but we can do better\n",
    "\n",
    "What should we do? How do we fix this?\n",
    "\n",
    "\n"
   ]
  },
  {
   "cell_type": "markdown",
   "metadata": {},
   "source": [
    "\n",
    "## Towards a factor Model\n",
    "\n",
    "- First idea is that stocks might have different degree of co-movement\n",
    "- For example, Defensive stocks like utilities, supermarkets, and so on might not suffer as much when the market tanks\n",
    "    - Their cash flow might be more recession proof for example\n",
    "    - While luxury good producers like LMVH might be more sensitive to the stock market given its consumer base\n",
    "- Small stocks, stocks with high leverage and so one might particularly suffer during economic busts\n",
    "\n",
    "\n",
    "\n",
    "$$(excess~return)=(intercept)+(stock~beta)*(factor~excess~return)+ (idio~risk)$$\n",
    "\n"
   ]
  },
  {
   "cell_type": "code",
   "execution_count": null,
   "metadata": {},
   "outputs": [
    {
     "name": "stdout",
     "output_type": "stream",
     "text": [
      "beta of asset JPM is 0.6737719432407148\n",
      "beta of asset JPM is 1.3949175281635984\n"
     ]
    },
    {
     "data": {
      "image/png": "[encoded data removed]",
      "text/plain": [
       "<Figure size 1296x432 with 2 Axes>"
      ]
     },
     "metadata": {
      "needs_background": "light"
     },
     "output_type": "display_data"
    }
   ],
   "source": [
    "\n",
    "\n",
    "\n",
    "\n",
    "fig, axes = plt.subplots(1, 2, figsize=(18,6))\n",
    "import statsmodels.formula.api as smf\n",
    "\n",
    "\n",
    "_temp= df_re.dropna(subset=['SPY', 'WMT'])\n",
    "\n",
    "model = smf.ols(formula='WMT~SPY',data=_temp).fit()\n",
    "intercept_wmt, beta_wmt = model.params\n",
    "print(f'beta of asset WMT is {beta_wmt}')\n",
    "\n",
    "\n",
    "axes[0].scatter(x=df_re['SPY'], y=(df_re['WMT']-beta_wmt*df_re['SPY']))\n",
    "axes[0].set_title('SPY vs WMT Residuals')\n",
    "\n",
    "\n",
    "_temp= df_re.dropna(subset=['SPY', 'JPM'])\n",
    "\n",
    "model = smf.ols(formula='JPM~SPY',data=_temp).fit()\n",
    "intercept_jpm, beta_jpm = model.params\n",
    "print(f'beta of asset JPM is {beta_jpm}')\n",
    "\n",
    "\n",
    "axes[1].scatter(x=df_re['SPY'], y=df_re['JPM']-beta_jpm*df_re['SPY'])\n",
    "axes[1].set_title('SPY vs JPM Residuals')\n",
    "\n",
    "plt.tight_layout()\n",
    "plt.show()"
   ]
  },
  {
   "cell_type": "markdown",
   "metadata": {},
   "source": [
    "Did it work?\n",
    "\n",
    "- With the regression we have a statistical decomposition\n",
    "- At least in sample, the regression guarantees that the stock specific component is completely orthogonal to the factor\n",
    "\n",
    "$$stock~specific~component=(excess~return)-(stock~beta)*(factor~excess~return)$$"
   ]
  },
  {
   "cell_type": "code",
   "execution_count": null,
   "metadata": {},
   "outputs": [
    {
     "data": {
      "text/plain": [
       "ticker\n",
       "SPY    1.656269e-16\n",
       "dtype: float64"
      ]
     },
     "execution_count": 70,
     "metadata": {},
     "output_type": "execute_result"
    }
   ],
   "source": [
    "df_re[['SPY']].corrwith(df_re['JPM']-beta_jpm*df_re['SPY'])\n",
    "\n"
   ]
  },
  {
   "cell_type": "code",
   "execution_count": null,
   "metadata": {},
   "outputs": [
    {
     "data": {
      "text/plain": [
       "ticker\n",
       "SPY    5.141267e-17\n",
       "dtype: float64"
      ]
     },
     "execution_count": 72,
     "metadata": {},
     "output_type": "execute_result"
    }
   ],
   "source": [
    "df_re[['SPY']].corrwith(df_re['WMT']-beta_wmt*df_re['SPY'])"
   ]
  },
  {
   "cell_type": "markdown",
   "metadata": {},
   "source": [
    "\n",
    "- $\\beta$ , that is beta, measures factor exposure and together with the factor variance, it tells us the amount of factor risk in the asset\n",
    "- $\\epsilon$ is the idiossyncratic, non-factor risk component of the asset--all the risk that is leftover after we take out the co-movement with the factor\n",
    "- intercept is going to be very important\n",
    "- We will discuss this later in detail \n",
    "\n",
    "How do we estimate the amount of idiossyncratic risk?\n",
    "\n",
    "How do we estimate the amount of systematic risk?\n",
    "\n"
   ]
  },
  {
   "cell_type": "code",
   "execution_count": null,
   "metadata": {},
   "outputs": [
    {
     "name": "stdout",
     "output_type": "stream",
     "text": [
      "the historical variance of asset JPM idio risk is 0.06755883655421582 annualized\n",
      "the historical standard deviation of asset JPM idio risk is 0.25992082747293616 annualized\n",
      "the historical variance of the market factor is 0.035166377478007854 annualized\n",
      "the historical standard deviation of the market factor is 0.18752700466334934 annualized\n"
     ]
    }
   ],
   "source": []
  },
  {
   "cell_type": "markdown",
   "metadata": {},
   "source": [
    "Can we say what share of the stock variance is due the market risk factor?\n",
    "\n",
    "What is the calculation?"
   ]
  },
  {
   "cell_type": "code",
   "execution_count": null,
   "metadata": {},
   "outputs": [],
   "source": []
  },
  {
   "cell_type": "markdown",
   "metadata": {},
   "source": []
  },
  {
   "cell_type": "markdown",
   "metadata": {},
   "source": [
    "> ### Takeaways\n",
    ">- How to construct returns from prices and dividends\n",
    ">- How to use moments of the return distribution to think about what you expect in the future\n",
    ">- We learn about risk-premiums \n",
    ">- We learned how to decompose an asset risk into a factor component and an asset specific component\n",
    ">- We learned how to decompose the amount of variance is coming from each of these componenents\n"
   ]
  }
 ],
 "metadata": {
  "colab": {
   "collapsed_sections": [],
   "name": "Introduction to Asset Returns.ipynb",
   "provenance": [],
   "toc_visible": true
  },
  "kernelspec": {
   "display_name": "base",
   "language": "python",
   "name": "python3"
  },
  "language_info": {
   "codemirror_mode": {
    "name": "ipython",
    "version": 3
   },
   "file_extension": ".py",
   "mimetype": "text/x-python",
   "name": "python",
   "nbconvert_exporter": "python",
   "pygments_lexer": "ipython3",
   "version": "3.9.12"
  },
  "toc-autonumbering": true
 },
 "nbformat": 4,
 "nbformat_minor": 4
}
