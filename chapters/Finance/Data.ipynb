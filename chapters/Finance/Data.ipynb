{
 "cells": [
  {
   "cell_type": "code",
   "execution_count": 3,
   "id": "suspected-knitting",
   "metadata": {},
   "outputs": [],
   "source": [
    "import numpy as np\n",
    "import pandas as pd\n",
    "import wrds\n",
    "import psycopg2 \n"
   ]
  },
  {
   "cell_type": "markdown",
   "id": "4fbe9103",
   "metadata": {},
   "source": [
    "# Warren Buffet Data"
   ]
  },
  {
   "cell_type": "code",
   "execution_count": 2,
   "id": "leading-cycling",
   "metadata": {},
   "outputs": [],
   "source": [
    "from datetime import datetime\n",
    "from datetime import datetime\n",
    "import pandas_datareader.data as web\n",
    "import pandas_datareader.data as web\n",
    "\n",
    "start = datetime(YYYY, MM, DD)  # Replace YYYY, MM, DD with the desired start date\n",
    "\n",
    "ds = web.DataReader('F-F_Research_Data_5_Factors_2x3_Daily', 'famafrench', start=start)\n",
    "dff5 = ds[0]\n",
    "\n",
    "ds = web.DataReader('F-F_Momentum_Factor_Daily', 'famafrench', start=start)\n",
    "dmom = ds[0]\n",
    "\n",
    "dff6 = dff5.merge(dmom, left_index=True, right_index=True, how='inner')\n",
    "dff6e = dff6 / 100\n",
    "ds = web.DataReader('F-F_Research_Data_5_Factors_2x3', 'famafrench',start=start)\n",
    "dff5=ds[0]\n",
    "\n",
    "ds = web.DataReader('F-F_Momentum_Factor', 'famafrench',start=start)\n",
    "dmom=ds[0]\n",
    "dff6=dff5.merge(dmom,left_index=True,right_index=True,how='inner')\n",
    "dff6e=dff6/100"
   ]
  },
  {
   "cell_type": "code",
   "execution_count": 152,
   "id": "recent-somalia",
   "metadata": {},
   "outputs": [
    {
     "data": {
      "text/plain": [
       "<AxesSubplot:xlabel='date'>"
      ]
     },
     "execution_count": 152,
     "metadata": {},
     "output_type": "execute_result"
    },
    {
     "data": {
      "image/png": "[encoded data removed]",
      "text/plain": [
       "<Figure size 432x288 with 1 Axes>"
      ]
     },
     "metadata": {
      "needs_background": "light"
     },
     "output_type": "display_data"
    }
   ],
   "source": [
    "conn=wrds.Connection()\n",
    "df=get_returns_daily(['BRK'],conn,'1/1/1960','1/1/2022',variable='ret')\n",
    "dff6.to_timestamp('M')\n",
    "\n",
    "df=(dff6.to_timestamp('M')).merge(df[17778.0],left_index=True,right_index=True,how='inner').dropna(how='any')\n",
    "df.rename(columns={17778:'BRK'},inplace=True)\n",
    "df.BRK=df.BRK-df.RF\n",
    "df.to_pickle('../../data/df.pkl')"
   ]
  },
  {
   "cell_type": "markdown",
   "id": "talented-seven",
   "metadata": {},
   "source": [
    "Start with the CAPM"
   ]
  },
  {
   "cell_type": "code",
   "execution_count": 136,
   "id": "fixed-calvin",
   "metadata": {},
   "outputs": [
    {
     "data": {
      "text/html": [
       "<table class=\"simpletable\">\n",
       "<caption>OLS Regression Results</caption>\n",
       "<tr>\n",
       "  <th>Dep. Variable:</th>           <td>BRK</td>       <th>  R-squared:         </th> <td>   0.212</td>\n",
       "</tr>\n",
       "<tr>\n",
       "  <th>Model:</th>                   <td>OLS</td>       <th>  Adj. R-squared:    </th> <td>   0.210</td>\n",
       "</tr>\n",
       "<tr>\n",
       "  <th>Method:</th>             <td>Least Squares</td>  <th>  F-statistic:       </th> <td>   103.6</td>\n",
       "</tr>\n",
       "<tr>\n",
       "  <th>Date:</th>             <td>Tue, 04 May 2021</td> <th>  Prob (F-statistic):</th> <td>1.06e-21</td>\n",
       "</tr>\n",
       "<tr>\n",
       "  <th>Time:</th>                 <td>09:25:48</td>     <th>  Log-Likelihood:    </th> <td>  592.00</td>\n",
       "</tr>\n",
       "<tr>\n",
       "  <th>No. Observations:</th>      <td>   386</td>      <th>  AIC:               </th> <td>  -1180.</td>\n",
       "</tr>\n",
       "<tr>\n",
       "  <th>Df Residuals:</th>          <td>   384</td>      <th>  BIC:               </th> <td>  -1172.</td>\n",
       "</tr>\n",
       "<tr>\n",
       "  <th>Df Model:</th>              <td>     1</td>      <th>                     </th>     <td> </td>   \n",
       "</tr>\n",
       "<tr>\n",
       "  <th>Covariance Type:</th>      <td>nonrobust</td>    <th>                     </th>     <td> </td>   \n",
       "</tr>\n",
       "</table>\n",
       "<table class=\"simpletable\">\n",
       "<tr>\n",
       "     <td></td>       <th>coef</th>     <th>std err</th>      <th>t</th>      <th>P>|t|</th>  <th>[0.025</th>    <th>0.975]</th>  \n",
       "</tr>\n",
       "<tr>\n",
       "  <th>const</th>  <td>    0.0060</td> <td>    0.003</td> <td>    2.210</td> <td> 0.028</td> <td>    0.001</td> <td>    0.011</td>\n",
       "</tr>\n",
       "<tr>\n",
       "  <th>Mkt-RF</th> <td>    0.6236</td> <td>    0.061</td> <td>   10.178</td> <td> 0.000</td> <td>    0.503</td> <td>    0.744</td>\n",
       "</tr>\n",
       "</table>\n",
       "<table class=\"simpletable\">\n",
       "<tr>\n",
       "  <th>Omnibus:</th>       <td>83.751</td> <th>  Durbin-Watson:     </th> <td>   2.060</td>\n",
       "</tr>\n",
       "<tr>\n",
       "  <th>Prob(Omnibus):</th> <td> 0.000</td> <th>  Jarque-Bera (JB):  </th> <td> 261.498</td>\n",
       "</tr>\n",
       "<tr>\n",
       "  <th>Skew:</th>          <td> 0.974</td> <th>  Prob(JB):          </th> <td>1.65e-57</td>\n",
       "</tr>\n",
       "<tr>\n",
       "  <th>Kurtosis:</th>      <td> 6.530</td> <th>  Cond. No.          </th> <td>    23.0</td>\n",
       "</tr>\n",
       "</table><br/><br/>Notes:<br/>[1] Standard Errors assume that the covariance matrix of the errors is correctly specified."
      ],
      "text/plain": [
       "<class 'statsmodels.iolib.summary.Summary'>\n",
       "\"\"\"\n",
       "                            OLS Regression Results                            \n",
       "==============================================================================\n",
       "Dep. Variable:                    BRK   R-squared:                       0.212\n",
       "Model:                            OLS   Adj. R-squared:                  0.210\n",
       "Method:                 Least Squares   F-statistic:                     103.6\n",
       "Date:                Tue, 04 May 2021   Prob (F-statistic):           1.06e-21\n",
       "Time:                        09:25:48   Log-Likelihood:                 592.00\n",
       "No. Observations:                 386   AIC:                            -1180.\n",
       "Df Residuals:                     384   BIC:                            -1172.\n",
       "Df Model:                           1                                         \n",
       "Covariance Type:            nonrobust                                         \n",
       "==============================================================================\n",
       "                 coef    std err          t      P>|t|      [0.025      0.975]\n",
       "------------------------------------------------------------------------------\n",
       "const          0.0060      0.003      2.210      0.028       0.001       0.011\n",
       "Mkt-RF         0.6236      0.061     10.178      0.000       0.503       0.744\n",
       "==============================================================================\n",
       "Omnibus:                       83.751   Durbin-Watson:                   2.060\n",
       "Prob(Omnibus):                  0.000   Jarque-Bera (JB):              261.498\n",
       "Skew:                           0.974   Prob(JB):                     1.65e-57\n",
       "Kurtosis:                       6.530   Cond. No.                         23.0\n",
       "==============================================================================\n",
       "\n",
       "Notes:\n",
       "[1] Standard Errors assume that the covariance matrix of the errors is correctly specified.\n",
       "\"\"\""
      ]
     },
     "execution_count": 136,
     "metadata": {},
     "output_type": "execute_result"
    }
   ],
   "source": [
    "import statsmodels.api as sm\n",
    "temp=df.copy() \n",
    "x= sm.add_constant(temp['Mkt-RF'])\n",
    "y= temp['BRK']\n",
    "results= sm.OLS(y,x).fit()\n",
    "results.summary()"
   ]
  },
  {
   "cell_type": "code",
   "execution_count": 137,
   "id": "occasional-avatar",
   "metadata": {},
   "outputs": [
    {
     "data": {
      "text/plain": [
       "0.07164885662375453"
      ]
     },
     "execution_count": 137,
     "metadata": {},
     "output_type": "execute_result"
    }
   ],
   "source": [
    "results.params[0]*12"
   ]
  },
  {
   "cell_type": "markdown",
   "id": "expanded-statement",
   "metadata": {},
   "source": [
    "Market beta of about 0.6 and alpha of 7% per year!\n",
    "\n",
    "*Six factor model*\n"
   ]
  },
  {
   "cell_type": "code",
   "execution_count": 138,
   "id": "restricted-access",
   "metadata": {},
   "outputs": [
    {
     "data": {
      "text/html": [
       "<table class=\"simpletable\">\n",
       "<caption>OLS Regression Results</caption>\n",
       "<tr>\n",
       "  <th>Dep. Variable:</th>           <td>BRK</td>       <th>  R-squared:         </th> <td>   0.348</td>\n",
       "</tr>\n",
       "<tr>\n",
       "  <th>Model:</th>                   <td>OLS</td>       <th>  Adj. R-squared:    </th> <td>   0.338</td>\n",
       "</tr>\n",
       "<tr>\n",
       "  <th>Method:</th>             <td>Least Squares</td>  <th>  F-statistic:       </th> <td>   33.74</td>\n",
       "</tr>\n",
       "<tr>\n",
       "  <th>Date:</th>             <td>Tue, 04 May 2021</td> <th>  Prob (F-statistic):</th> <td>1.35e-32</td>\n",
       "</tr>\n",
       "<tr>\n",
       "  <th>Time:</th>                 <td>09:26:02</td>     <th>  Log-Likelihood:    </th> <td>  628.50</td>\n",
       "</tr>\n",
       "<tr>\n",
       "  <th>No. Observations:</th>      <td>   386</td>      <th>  AIC:               </th> <td>  -1243.</td>\n",
       "</tr>\n",
       "<tr>\n",
       "  <th>Df Residuals:</th>          <td>   379</td>      <th>  BIC:               </th> <td>  -1215.</td>\n",
       "</tr>\n",
       "<tr>\n",
       "  <th>Df Model:</th>              <td>     6</td>      <th>                     </th>     <td> </td>   \n",
       "</tr>\n",
       "<tr>\n",
       "  <th>Covariance Type:</th>      <td>nonrobust</td>    <th>                     </th>     <td> </td>   \n",
       "</tr>\n",
       "</table>\n",
       "<table class=\"simpletable\">\n",
       "<tr>\n",
       "     <td></td>       <th>coef</th>     <th>std err</th>      <th>t</th>      <th>P>|t|</th>  <th>[0.025</th>    <th>0.975]</th>  \n",
       "</tr>\n",
       "<tr>\n",
       "  <th>const</th>  <td>    0.0046</td> <td>    0.003</td> <td>    1.774</td> <td> 0.077</td> <td>   -0.001</td> <td>    0.010</td>\n",
       "</tr>\n",
       "<tr>\n",
       "  <th>Mkt-RF</th> <td>    0.7599</td> <td>    0.067</td> <td>   11.357</td> <td> 0.000</td> <td>    0.628</td> <td>    0.892</td>\n",
       "</tr>\n",
       "<tr>\n",
       "  <th>SMB</th>    <td>   -0.3946</td> <td>    0.091</td> <td>   -4.316</td> <td> 0.000</td> <td>   -0.574</td> <td>   -0.215</td>\n",
       "</tr>\n",
       "<tr>\n",
       "  <th>HML</th>    <td>    0.4836</td> <td>    0.118</td> <td>    4.091</td> <td> 0.000</td> <td>    0.251</td> <td>    0.716</td>\n",
       "</tr>\n",
       "<tr>\n",
       "  <th>RMW</th>    <td>    0.2687</td> <td>    0.121</td> <td>    2.214</td> <td> 0.027</td> <td>    0.030</td> <td>    0.507</td>\n",
       "</tr>\n",
       "<tr>\n",
       "  <th>CMA</th>    <td>   -0.1286</td> <td>    0.172</td> <td>   -0.749</td> <td> 0.454</td> <td>   -0.466</td> <td>    0.209</td>\n",
       "</tr>\n",
       "<tr>\n",
       "  <th>Mom   </th> <td>   -0.0077</td> <td>    0.057</td> <td>   -0.135</td> <td> 0.892</td> <td>   -0.119</td> <td>    0.104</td>\n",
       "</tr>\n",
       "</table>\n",
       "<table class=\"simpletable\">\n",
       "<tr>\n",
       "  <th>Omnibus:</th>       <td>89.527</td> <th>  Durbin-Watson:     </th> <td>   2.143</td>\n",
       "</tr>\n",
       "<tr>\n",
       "  <th>Prob(Omnibus):</th> <td> 0.000</td> <th>  Jarque-Bera (JB):  </th> <td> 237.376</td>\n",
       "</tr>\n",
       "<tr>\n",
       "  <th>Skew:</th>          <td> 1.105</td> <th>  Prob(JB):          </th> <td>2.85e-52</td>\n",
       "</tr>\n",
       "<tr>\n",
       "  <th>Kurtosis:</th>      <td> 6.143</td> <th>  Cond. No.          </th> <td>    80.7</td>\n",
       "</tr>\n",
       "</table><br/><br/>Notes:<br/>[1] Standard Errors assume that the covariance matrix of the errors is correctly specified."
      ],
      "text/plain": [
       "<class 'statsmodels.iolib.summary.Summary'>\n",
       "\"\"\"\n",
       "                            OLS Regression Results                            \n",
       "==============================================================================\n",
       "Dep. Variable:                    BRK   R-squared:                       0.348\n",
       "Model:                            OLS   Adj. R-squared:                  0.338\n",
       "Method:                 Least Squares   F-statistic:                     33.74\n",
       "Date:                Tue, 04 May 2021   Prob (F-statistic):           1.35e-32\n",
       "Time:                        09:26:02   Log-Likelihood:                 628.50\n",
       "No. Observations:                 386   AIC:                            -1243.\n",
       "Df Residuals:                     379   BIC:                            -1215.\n",
       "Df Model:                           6                                         \n",
       "Covariance Type:            nonrobust                                         \n",
       "==============================================================================\n",
       "                 coef    std err          t      P>|t|      [0.025      0.975]\n",
       "------------------------------------------------------------------------------\n",
       "const          0.0046      0.003      1.774      0.077      -0.001       0.010\n",
       "Mkt-RF         0.7599      0.067     11.357      0.000       0.628       0.892\n",
       "SMB           -0.3946      0.091     -4.316      0.000      -0.574      -0.215\n",
       "HML            0.4836      0.118      4.091      0.000       0.251       0.716\n",
       "RMW            0.2687      0.121      2.214      0.027       0.030       0.507\n",
       "CMA           -0.1286      0.172     -0.749      0.454      -0.466       0.209\n",
       "Mom           -0.0077      0.057     -0.135      0.892      -0.119       0.104\n",
       "==============================================================================\n",
       "Omnibus:                       89.527   Durbin-Watson:                   2.143\n",
       "Prob(Omnibus):                  0.000   Jarque-Bera (JB):              237.376\n",
       "Skew:                           1.105   Prob(JB):                     2.85e-52\n",
       "Kurtosis:                       6.143   Cond. No.                         80.7\n",
       "==============================================================================\n",
       "\n",
       "Notes:\n",
       "[1] Standard Errors assume that the covariance matrix of the errors is correctly specified.\n",
       "\"\"\""
      ]
     },
     "execution_count": 138,
     "metadata": {},
     "output_type": "execute_result"
    }
   ],
   "source": [
    "temp=df.copy() \n",
    "x= sm.add_constant(temp.drop(['BRK','RF'],axis=1))\n",
    "y= temp['BRK']\n",
    "results= sm.OLS(y,x).fit()\n",
    "results.summary()"
   ]
  },
  {
   "cell_type": "code",
   "execution_count": 140,
   "id": "pregnant-lexington",
   "metadata": {},
   "outputs": [
    {
     "name": "stdout",
     "output_type": "stream",
     "text": [
      "0.055415983696528254\n"
     ]
    }
   ],
   "source": [
    "print(results.params[0]*12)"
   ]
  },
  {
   "cell_type": "markdown",
   "id": "expected-bicycle",
   "metadata": {},
   "source": [
    "* What do we learn about Warren Investment style?\n",
    "* What do we learn about Warren specific stock picking skills?"
   ]
  },
  {
   "cell_type": "markdown",
   "id": "destroyed-advocate",
   "metadata": {},
   "source": [
    "**Aplication 2: Does Cathie Wood has some secret sauce? Performance evalaution of [ARKK](https://ark-funds.com/arkk)**"
   ]
  },
  {
   "cell_type": "code",
   "execution_count": 141,
   "id": "distinct-mechanics",
   "metadata": {},
   "outputs": [
    {
     "data": {
      "text/plain": [
       "<AxesSubplot:xlabel='date'>"
      ]
     },
     "execution_count": 141,
     "metadata": {},
     "output_type": "execute_result"
    },
    {
     "data": {
      "image/png": "[encoded data removed]",
      "text/plain": [
       "<Figure size 432x288 with 1 Axes>"
      ]
     },
     "metadata": {
      "needs_background": "light"
     },
     "output_type": "display_data"
    }
   ],
   "source": [
    "df=get_returns(['ARKK'],conn,'1/1/1960','1/1/2022',variable='ret')\n",
    "(df+1).cumprod().plot()"
   ]
  },
  {
   "cell_type": "code",
   "execution_count": 142,
   "id": "individual-friendship",
   "metadata": {},
   "outputs": [],
   "source": [
    "df=(dff6/100).merge(df.to_period(\"M\"),left_index=True,right_index=True,how='inner').dropna(how='any')\n",
    "df.rename(columns={14948.0:'ARKK'},inplace=True)\n",
    "df.ARKK=df.ARKK-df.RF"
   ]
  },
  {
   "cell_type": "code",
   "execution_count": 143,
   "id": "adolescent-stadium",
   "metadata": {},
   "outputs": [
    {
     "data": {
      "text/html": [
       "<table class=\"simpletable\">\n",
       "<caption>OLS Regression Results</caption>\n",
       "<tr>\n",
       "  <th>Dep. Variable:</th>          <td>ARKK</td>       <th>  R-squared:         </th> <td>   0.691</td>\n",
       "</tr>\n",
       "<tr>\n",
       "  <th>Model:</th>                   <td>OLS</td>       <th>  Adj. R-squared:    </th> <td>   0.687</td>\n",
       "</tr>\n",
       "<tr>\n",
       "  <th>Method:</th>             <td>Least Squares</td>  <th>  F-statistic:       </th> <td>   160.9</td>\n",
       "</tr>\n",
       "<tr>\n",
       "  <th>Date:</th>             <td>Tue, 04 May 2021</td> <th>  Prob (F-statistic):</th> <td>4.98e-20</td>\n",
       "</tr>\n",
       "<tr>\n",
       "  <th>Time:</th>                 <td>09:28:12</td>     <th>  Log-Likelihood:    </th> <td>  120.93</td>\n",
       "</tr>\n",
       "<tr>\n",
       "  <th>No. Observations:</th>      <td>    74</td>      <th>  AIC:               </th> <td>  -237.9</td>\n",
       "</tr>\n",
       "<tr>\n",
       "  <th>Df Residuals:</th>          <td>    72</td>      <th>  BIC:               </th> <td>  -233.2</td>\n",
       "</tr>\n",
       "<tr>\n",
       "  <th>Df Model:</th>              <td>     1</td>      <th>                     </th>     <td> </td>   \n",
       "</tr>\n",
       "<tr>\n",
       "  <th>Covariance Type:</th>      <td>nonrobust</td>    <th>                     </th>     <td> </td>   \n",
       "</tr>\n",
       "</table>\n",
       "<table class=\"simpletable\">\n",
       "<tr>\n",
       "     <td></td>       <th>coef</th>     <th>std err</th>      <th>t</th>      <th>P>|t|</th>  <th>[0.025</th>    <th>0.975]</th>  \n",
       "</tr>\n",
       "<tr>\n",
       "  <th>const</th>  <td>    0.0115</td> <td>    0.006</td> <td>    2.016</td> <td> 0.048</td> <td>    0.000</td> <td>    0.023</td>\n",
       "</tr>\n",
       "<tr>\n",
       "  <th>Mkt-RF</th> <td>    1.5768</td> <td>    0.124</td> <td>   12.684</td> <td> 0.000</td> <td>    1.329</td> <td>    1.825</td>\n",
       "</tr>\n",
       "</table>\n",
       "<table class=\"simpletable\">\n",
       "<tr>\n",
       "  <th>Omnibus:</th>       <td> 4.334</td> <th>  Durbin-Watson:     </th> <td>   1.974</td>\n",
       "</tr>\n",
       "<tr>\n",
       "  <th>Prob(Omnibus):</th> <td> 0.115</td> <th>  Jarque-Bera (JB):  </th> <td>   3.484</td>\n",
       "</tr>\n",
       "<tr>\n",
       "  <th>Skew:</th>          <td> 0.465</td> <th>  Prob(JB):          </th> <td>   0.175</td>\n",
       "</tr>\n",
       "<tr>\n",
       "  <th>Kurtosis:</th>      <td> 3.516</td> <th>  Cond. No.          </th> <td>    22.3</td>\n",
       "</tr>\n",
       "</table><br/><br/>Notes:<br/>[1] Standard Errors assume that the covariance matrix of the errors is correctly specified."
      ],
      "text/plain": [
       "<class 'statsmodels.iolib.summary.Summary'>\n",
       "\"\"\"\n",
       "                            OLS Regression Results                            \n",
       "==============================================================================\n",
       "Dep. Variable:                   ARKK   R-squared:                       0.691\n",
       "Model:                            OLS   Adj. R-squared:                  0.687\n",
       "Method:                 Least Squares   F-statistic:                     160.9\n",
       "Date:                Tue, 04 May 2021   Prob (F-statistic):           4.98e-20\n",
       "Time:                        09:28:12   Log-Likelihood:                 120.93\n",
       "No. Observations:                  74   AIC:                            -237.9\n",
       "Df Residuals:                      72   BIC:                            -233.2\n",
       "Df Model:                           1                                         \n",
       "Covariance Type:            nonrobust                                         \n",
       "==============================================================================\n",
       "                 coef    std err          t      P>|t|      [0.025      0.975]\n",
       "------------------------------------------------------------------------------\n",
       "const          0.0115      0.006      2.016      0.048       0.000       0.023\n",
       "Mkt-RF         1.5768      0.124     12.684      0.000       1.329       1.825\n",
       "==============================================================================\n",
       "Omnibus:                        4.334   Durbin-Watson:                   1.974\n",
       "Prob(Omnibus):                  0.115   Jarque-Bera (JB):                3.484\n",
       "Skew:                           0.465   Prob(JB):                        0.175\n",
       "Kurtosis:                       3.516   Cond. No.                         22.3\n",
       "==============================================================================\n",
       "\n",
       "Notes:\n",
       "[1] Standard Errors assume that the covariance matrix of the errors is correctly specified.\n",
       "\"\"\""
      ]
     },
     "execution_count": 143,
     "metadata": {},
     "output_type": "execute_result"
    }
   ],
   "source": [
    "temp=df.copy() \n",
    "x= sm.add_constant(temp['Mkt-RF'])\n",
    "y= temp['ARKK']\n",
    "results= sm.OLS(y,x).fit()\n",
    "results.summary()"
   ]
  },
  {
   "cell_type": "code",
   "execution_count": 144,
   "id": "improved-istanbul",
   "metadata": {},
   "outputs": [
    {
     "name": "stdout",
     "output_type": "stream",
     "text": [
      "0.1385421007873513\n"
     ]
    }
   ],
   "source": [
    "print(results.params[0]*12)"
   ]
  },
  {
   "cell_type": "code",
   "execution_count": 145,
   "id": "enabling-provision",
   "metadata": {},
   "outputs": [
    {
     "data": {
      "text/html": [
       "<table class=\"simpletable\">\n",
       "<caption>OLS Regression Results</caption>\n",
       "<tr>\n",
       "  <th>Dep. Variable:</th>          <td>ARKK</td>       <th>  R-squared:         </th> <td>   0.818</td>\n",
       "</tr>\n",
       "<tr>\n",
       "  <th>Model:</th>                   <td>OLS</td>       <th>  Adj. R-squared:    </th> <td>   0.802</td>\n",
       "</tr>\n",
       "<tr>\n",
       "  <th>Method:</th>             <td>Least Squares</td>  <th>  F-statistic:       </th> <td>   50.21</td>\n",
       "</tr>\n",
       "<tr>\n",
       "  <th>Date:</th>             <td>Tue, 04 May 2021</td> <th>  Prob (F-statistic):</th> <td>6.69e-23</td>\n",
       "</tr>\n",
       "<tr>\n",
       "  <th>Time:</th>                 <td>09:28:44</td>     <th>  Log-Likelihood:    </th> <td>  140.55</td>\n",
       "</tr>\n",
       "<tr>\n",
       "  <th>No. Observations:</th>      <td>    74</td>      <th>  AIC:               </th> <td>  -267.1</td>\n",
       "</tr>\n",
       "<tr>\n",
       "  <th>Df Residuals:</th>          <td>    67</td>      <th>  BIC:               </th> <td>  -251.0</td>\n",
       "</tr>\n",
       "<tr>\n",
       "  <th>Df Model:</th>              <td>     6</td>      <th>                     </th>     <td> </td>   \n",
       "</tr>\n",
       "<tr>\n",
       "  <th>Covariance Type:</th>      <td>nonrobust</td>    <th>                     </th>     <td> </td>   \n",
       "</tr>\n",
       "</table>\n",
       "<table class=\"simpletable\">\n",
       "<tr>\n",
       "     <td></td>       <th>coef</th>     <th>std err</th>      <th>t</th>      <th>P>|t|</th>  <th>[0.025</th>    <th>0.975]</th>  \n",
       "</tr>\n",
       "<tr>\n",
       "  <th>const</th>  <td>    0.0059</td> <td>    0.005</td> <td>    1.234</td> <td> 0.221</td> <td>   -0.004</td> <td>    0.015</td>\n",
       "</tr>\n",
       "<tr>\n",
       "  <th>Mkt-RF</th> <td>    1.3860</td> <td>    0.126</td> <td>   11.009</td> <td> 0.000</td> <td>    1.135</td> <td>    1.637</td>\n",
       "</tr>\n",
       "<tr>\n",
       "  <th>SMB</th>    <td>    0.5065</td> <td>    0.210</td> <td>    2.410</td> <td> 0.019</td> <td>    0.087</td> <td>    0.926</td>\n",
       "</tr>\n",
       "<tr>\n",
       "  <th>HML</th>    <td>   -0.8120</td> <td>    0.200</td> <td>   -4.067</td> <td> 0.000</td> <td>   -1.211</td> <td>   -0.413</td>\n",
       "</tr>\n",
       "<tr>\n",
       "  <th>RMW</th>    <td>   -0.1642</td> <td>    0.326</td> <td>   -0.504</td> <td> 0.616</td> <td>   -0.815</td> <td>    0.487</td>\n",
       "</tr>\n",
       "<tr>\n",
       "  <th>CMA</th>    <td>   -0.9219</td> <td>    0.351</td> <td>   -2.624</td> <td> 0.011</td> <td>   -1.623</td> <td>   -0.221</td>\n",
       "</tr>\n",
       "<tr>\n",
       "  <th>Mom   </th> <td>   -0.2654</td> <td>    0.152</td> <td>   -1.747</td> <td> 0.085</td> <td>   -0.569</td> <td>    0.038</td>\n",
       "</tr>\n",
       "</table>\n",
       "<table class=\"simpletable\">\n",
       "<tr>\n",
       "  <th>Omnibus:</th>       <td>10.376</td> <th>  Durbin-Watson:     </th> <td>   2.119</td>\n",
       "</tr>\n",
       "<tr>\n",
       "  <th>Prob(Omnibus):</th> <td> 0.006</td> <th>  Jarque-Bera (JB):  </th> <td>  10.331</td>\n",
       "</tr>\n",
       "<tr>\n",
       "  <th>Skew:</th>          <td> 0.806</td> <th>  Prob(JB):          </th> <td> 0.00571</td>\n",
       "</tr>\n",
       "<tr>\n",
       "  <th>Kurtosis:</th>      <td> 3.866</td> <th>  Cond. No.          </th> <td>    83.6</td>\n",
       "</tr>\n",
       "</table><br/><br/>Notes:<br/>[1] Standard Errors assume that the covariance matrix of the errors is correctly specified."
      ],
      "text/plain": [
       "<class 'statsmodels.iolib.summary.Summary'>\n",
       "\"\"\"\n",
       "                            OLS Regression Results                            \n",
       "==============================================================================\n",
       "Dep. Variable:                   ARKK   R-squared:                       0.818\n",
       "Model:                            OLS   Adj. R-squared:                  0.802\n",
       "Method:                 Least Squares   F-statistic:                     50.21\n",
       "Date:                Tue, 04 May 2021   Prob (F-statistic):           6.69e-23\n",
       "Time:                        09:28:44   Log-Likelihood:                 140.55\n",
       "No. Observations:                  74   AIC:                            -267.1\n",
       "Df Residuals:                      67   BIC:                            -251.0\n",
       "Df Model:                           6                                         \n",
       "Covariance Type:            nonrobust                                         \n",
       "==============================================================================\n",
       "                 coef    std err          t      P>|t|      [0.025      0.975]\n",
       "------------------------------------------------------------------------------\n",
       "const          0.0059      0.005      1.234      0.221      -0.004       0.015\n",
       "Mkt-RF         1.3860      0.126     11.009      0.000       1.135       1.637\n",
       "SMB            0.5065      0.210      2.410      0.019       0.087       0.926\n",
       "HML           -0.8120      0.200     -4.067      0.000      -1.211      -0.413\n",
       "RMW           -0.1642      0.326     -0.504      0.616      -0.815       0.487\n",
       "CMA           -0.9219      0.351     -2.624      0.011      -1.623      -0.221\n",
       "Mom           -0.2654      0.152     -1.747      0.085      -0.569       0.038\n",
       "==============================================================================\n",
       "Omnibus:                       10.376   Durbin-Watson:                   2.119\n",
       "Prob(Omnibus):                  0.006   Jarque-Bera (JB):               10.331\n",
       "Skew:                           0.806   Prob(JB):                      0.00571\n",
       "Kurtosis:                       3.866   Cond. No.                         83.6\n",
       "==============================================================================\n",
       "\n",
       "Notes:\n",
       "[1] Standard Errors assume that the covariance matrix of the errors is correctly specified.\n",
       "\"\"\""
      ]
     },
     "execution_count": 145,
     "metadata": {},
     "output_type": "execute_result"
    }
   ],
   "source": [
    "temp=df.copy() \n",
    "x= sm.add_constant(temp.drop(['ARKK','RF'],axis=1))\n",
    "y= temp['ARKK']\n",
    "results= sm.OLS(y,x).fit()\n",
    "results.summary()"
   ]
  },
  {
   "cell_type": "code",
   "execution_count": 146,
   "id": "western-senegal",
   "metadata": {},
   "outputs": [
    {
     "name": "stdout",
     "output_type": "stream",
     "text": [
      "0.0704257048781867\n"
     ]
    }
   ],
   "source": [
    "print(results.params[0]*12)"
   ]
  },
  {
   "cell_type": "markdown",
   "id": "cooked-pizza",
   "metadata": {},
   "source": [
    "* What do we learn about Cathie Wood investment style?\n",
    "\n",
    "* What do we learn about Cathie Wook investment skills?\n",
    "\n",
    "* How do you think about the R-squared? Is a large Rsquared good or bad in this case?"
   ]
  },
  {
   "cell_type": "markdown",
   "id": "standing-battle",
   "metadata": {
    "tags": []
   },
   "source": [
    "**Application 3: what is a good Momentum ETF?**"
   ]
  },
  {
   "cell_type": "code",
   "execution_count": 171,
   "id": "attractive-summer",
   "metadata": {},
   "outputs": [
    {
     "data": {
      "text/plain": [
       "<AxesSubplot:xlabel='date'>"
      ]
     },
     "execution_count": 171,
     "metadata": {},
     "output_type": "execute_result"
    },
    {
     "data": {
      "image/png": "[encoded data removed]",
      "text/plain": [
       "<Figure size 432x288 with 1 Axes>"
      ]
     },
     "metadata": {
      "needs_background": "light"
     },
     "output_type": "display_data"
    }
   ],
   "source": [
    "names=['VFMO','QMOM','FDMO','MTUM','IMTM','IMOM']\n",
    "dmom=get_returns([names[0]],conn,'1/1/1960','1/1/2022')\n",
    "for n in names[1:]:\n",
    "    df=get_returns([n],conn,'1/1/1960','1/1/2022')\n",
    "    dmom=dmom.merge(df,left_index=True,right_index=True,how='outer')\n",
    "dmom.columns=names    \n",
    "(dmom+1).cumprod().plot()"
   ]
  },
  {
   "cell_type": "code",
   "execution_count": 184,
   "id": "received-deadline",
   "metadata": {},
   "outputs": [],
   "source": [
    "\n",
    "# lets merge\n",
    "df=(dff6/100).merge(dmom.to_period(\"M\"),left_index=True,right_index=True,how='inner')\n",
    "# lets conver to excess returns\n",
    "df[names]=df[names].subtract(df['RF'],axis=0)"
   ]
  },
  {
   "cell_type": "code",
   "execution_count": 180,
   "id": "wicked-government",
   "metadata": {},
   "outputs": [
    {
     "data": {
      "text/plain": [
       "Index(['Mkt-RF', 'SMB', 'HML', 'RMW', 'CMA', 'RF', 'Mom   ', 'VFMO', 'QMOM',\n",
       "       'FDMO', 'MTUM', 'IMTM', 'IMOM'],\n",
       "      dtype='object')"
      ]
     },
     "execution_count": 180,
     "metadata": {},
     "output_type": "execute_result"
    }
   ],
   "source": [
    "temp.columns"
   ]
  },
  {
   "cell_type": "code",
   "execution_count": 188,
   "id": "grave-innocent",
   "metadata": {},
   "outputs": [
    {
     "data": {
      "text/html": [
       "<div>\n",
       "<style scoped>\n",
       "    .dataframe tbody tr th:only-of-type {\n",
       "        vertical-align: middle;\n",
       "    }\n",
       "\n",
       "    .dataframe tbody tr th {\n",
       "        vertical-align: top;\n",
       "    }\n",
       "\n",
       "    .dataframe thead th {\n",
       "        text-align: right;\n",
       "    }\n",
       "</style>\n",
       "<table border=\"1\" class=\"dataframe\">\n",
       "  <thead>\n",
       "    <tr style=\"text-align: right;\">\n",
       "      <th></th>\n",
       "      <th>VFMO</th>\n",
       "      <th>QMOM</th>\n",
       "      <th>FDMO</th>\n",
       "      <th>MTUM</th>\n",
       "      <th>IMTM</th>\n",
       "      <th>IMOM</th>\n",
       "    </tr>\n",
       "  </thead>\n",
       "  <tbody>\n",
       "    <tr>\n",
       "      <th>alpha</th>\n",
       "      <td>-0.001458</td>\n",
       "      <td>-0.002718</td>\n",
       "      <td>-0.002354</td>\n",
       "      <td>0.001112</td>\n",
       "      <td>-0.002008</td>\n",
       "      <td>-0.005894</td>\n",
       "    </tr>\n",
       "    <tr>\n",
       "      <th>t(alpha)</th>\n",
       "      <td>-0.430959</td>\n",
       "      <td>-0.63581</td>\n",
       "      <td>-1.664363</td>\n",
       "      <td>0.869311</td>\n",
       "      <td>-0.847557</td>\n",
       "      <td>-1.459713</td>\n",
       "    </tr>\n",
       "    <tr>\n",
       "      <th>betamkt</th>\n",
       "      <td>1.132283</td>\n",
       "      <td>1.39176</td>\n",
       "      <td>1.024135</td>\n",
       "      <td>1.00483</td>\n",
       "      <td>0.761741</td>\n",
       "      <td>0.958616</td>\n",
       "    </tr>\n",
       "    <tr>\n",
       "      <th>t(betamkt)</th>\n",
       "      <td>16.762846</td>\n",
       "      <td>13.753471</td>\n",
       "      <td>31.996319</td>\n",
       "      <td>31.597999</td>\n",
       "      <td>13.558808</td>\n",
       "      <td>10.029335</td>\n",
       "    </tr>\n",
       "    <tr>\n",
       "      <th>betamom</th>\n",
       "      <td>0.186237</td>\n",
       "      <td>0.394746</td>\n",
       "      <td>0.254752</td>\n",
       "      <td>0.345416</td>\n",
       "      <td>0.09699</td>\n",
       "      <td>0.15187</td>\n",
       "    </tr>\n",
       "    <tr>\n",
       "      <th>t(betamom)</th>\n",
       "      <td>2.178768</td>\n",
       "      <td>3.281823</td>\n",
       "      <td>6.461063</td>\n",
       "      <td>9.626601</td>\n",
       "      <td>1.568105</td>\n",
       "      <td>1.336749</td>\n",
       "    </tr>\n",
       "    <tr>\n",
       "      <th>R-squared</th>\n",
       "      <td>0.917845</td>\n",
       "      <td>0.782982</td>\n",
       "      <td>0.960205</td>\n",
       "      <td>0.919332</td>\n",
       "      <td>0.756383</td>\n",
       "      <td>0.674357</td>\n",
       "    </tr>\n",
       "    <tr>\n",
       "      <th>indio risk</th>\n",
       "      <td>0.064076</td>\n",
       "      <td>0.107838</td>\n",
       "      <td>0.032342</td>\n",
       "      <td>0.039782</td>\n",
       "      <td>0.065174</td>\n",
       "      <td>0.101857</td>\n",
       "    </tr>\n",
       "    <tr>\n",
       "      <th>sample size</th>\n",
       "      <td>34.0</td>\n",
       "      <td>60.0</td>\n",
       "      <td>51.0</td>\n",
       "      <td>92.0</td>\n",
       "      <td>71.0</td>\n",
       "      <td>60.0</td>\n",
       "    </tr>\n",
       "  </tbody>\n",
       "</table>\n",
       "</div>"
      ],
      "text/plain": [
       "                  VFMO       QMOM       FDMO       MTUM       IMTM       IMOM\n",
       "alpha        -0.001458  -0.002718  -0.002354   0.001112  -0.002008  -0.005894\n",
       "t(alpha)     -0.430959   -0.63581  -1.664363   0.869311  -0.847557  -1.459713\n",
       "betamkt       1.132283    1.39176   1.024135    1.00483   0.761741   0.958616\n",
       "t(betamkt)   16.762846  13.753471  31.996319  31.597999  13.558808  10.029335\n",
       "betamom       0.186237   0.394746   0.254752   0.345416    0.09699    0.15187\n",
       "t(betamom)    2.178768   3.281823   6.461063   9.626601   1.568105   1.336749\n",
       "R-squared     0.917845   0.782982   0.960205   0.919332   0.756383   0.674357\n",
       "indio risk    0.064076   0.107838   0.032342   0.039782   0.065174   0.101857\n",
       "sample size       34.0       60.0       51.0       92.0       71.0       60.0"
      ]
     },
     "execution_count": 188,
     "metadata": {},
     "output_type": "execute_result"
    }
   ],
   "source": [
    "temp=df.copy() \n",
    "x= sm.add_constant(temp[['Mkt-RF','Mom   ']])\n",
    "results=pd.DataFrame([],index=[],columns=names)\n",
    "for n in names:\n",
    "    y= temp[n]\n",
    "    res= sm.OLS(y,x,missing='drop').fit()\n",
    "    results.at['alpha',n]=res.params[0]\n",
    "    results.at['t(alpha)',n]=res.tvalues[0]\n",
    "    results.at['betamkt',n]=res.params[1]\n",
    "    results.at['t(betamkt)',n]=res.tvalues[1]\n",
    "    results.at['betamom',n]=res.params[2]\n",
    "    results.at['t(betamom)',n]=res.tvalues[2]\n",
    "    results.at['R-squared',n]=res.rsquared\n",
    "    results.at['indio risk',n]=res.resid.std()*12**0.5\n",
    "    results.at['sample size',n]=res.nobs\n",
    "results"
   ]
  },
  {
   "cell_type": "markdown",
   "id": "finite-child",
   "metadata": {},
   "source": [
    "* what do you conclude?\n",
    "\n",
    "* Which ETF would you pick?\n",
    "\n",
    "* How to think about the alpha here?\n",
    "\n",
    "* How do you think about the R-squared? Is a large Rsquared good or bad in this case?\n",
    "\n",
    "* How do you account for the differnece in market betas when investing?"
   ]
  }
 ],
 "metadata": {
  "kernelspec": {
   "display_name": "Python 3",
   "language": "python",
   "name": "python3"
  },
  "language_info": {
   "codemirror_mode": {
    "name": "ipython",
    "version": 3
   },
   "file_extension": ".py",
   "mimetype": "text/x-python",
   "name": "python",
   "nbconvert_exporter": "python",
   "pygments_lexer": "ipython3",
   "version": "3.9.12"
  }
 },
 "nbformat": 4,
 "nbformat_minor": 5
}
